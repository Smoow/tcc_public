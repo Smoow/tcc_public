{
 "cells": [
  {
   "cell_type": "code",
   "execution_count": 7,
   "metadata": {},
   "outputs": [],
   "source": [
    "##################\n",
    "# Libraries\n",
    "##################\n",
    "import pandas as pd\n",
    "import numpy as np\n",
    "import seaborn as sns\n",
    "from sklearn.preprocessing import StandardScaler, RobustScaler\n",
    "from sklearn.model_selection import train_test_split, KFold\n",
    "from sklearn.metrics import accuracy_score, f1_score, precision_score, recall_score, roc_auc_score\n",
    "from sklearn.preprocessing import LabelEncoder\n",
    "from sklearn.svm import LinearSVC, SVC\n",
    "from sklearn.semi_supervised import SelfTrainingClassifier\n",
    "from sklearn.ensemble import RandomForestClassifier\n",
    "from sklearn.naive_bayes import GaussianNB\n",
    "from sklearn.neighbors import KNeighborsClassifier\n",
    "from sklearn.tree import DecisionTreeClassifier\n",
    "from loguru import logger"
   ]
  },
  {
   "cell_type": "code",
   "execution_count": 2,
   "metadata": {},
   "outputs": [],
   "source": [
    "##################\n",
    "# Constants\n",
    "##################\n",
    "MODEL_SEED=42\n",
    "ROWS_SEED=[24, 42, 206, 602, 412, 214, 754, 457, 2023, 3202]\n",
    "SIZE_OF_UNLABELLED_DATA = [0.1, 0.2, 0.3, 0.4, 0.5, 0.6, 0.7, 0.8, 0.85, 0.9]\n",
    "MODELS = [\n",
    "    GaussianNB(var_smoothing=0.657933224657568),\n",
    "    DecisionTreeClassifier(criterion='entropy', max_depth=7, min_samples_leaf=6, min_samples_split=7),\n",
    "    KNeighborsClassifier(metric='euclidean', weights='distance'),\n",
    "    RandomForestClassifier(criterion='gini', max_depth=15, min_samples_leaf=2, min_samples_split=2, n_estimators=100, ),\n",
    "]"
   ]
  },
  {
   "cell_type": "code",
   "execution_count": 10,
   "metadata": {},
   "outputs": [],
   "source": [
    "##################\n",
    "# Functions\n",
    "##################\n",
    "def encode_dataframe(df: pd.DataFrame) -> pd.DataFrame:\n",
    "    \"\"\"Encode dataframe using LabelEncoder\"\"\"\n",
    "    labelencoder = LabelEncoder()\n",
    "\n",
    "    for col in df.columns:\n",
    "        df[col] = labelencoder.fit_transform(df[col])\n",
    "\n",
    "    return df\n",
    "\n",
    "def get_metrics() -> dict:\n",
    "    metrics = {\n",
    "        'accuracy': accuracy_score,\n",
    "        'precision': precision_score,\n",
    "        'recall': recall_score,\n",
    "        'f1': f1_score,\n",
    "        'roc': roc_auc_score\n",
    "    }\n",
    "    return metrics\n",
    "\n",
    "\n",
    "def get_metrics_df(y_true, y_pred) -> pd.DataFrame:\n",
    "    metrics = get_metrics()\n",
    "    df = pd.DataFrame()\n",
    "    for metric_name, metric in metrics.items():\n",
    "        df[metric_name] = [metric(y_true, y_pred)]\n",
    "\n",
    "    return df\n",
    "\n",
    "def run_pipeline(X_train, X_test, y_train, y_test, size_of_unlabelled_data=0.5, model=None, rows_seed=42) -> dict:\n",
    "    if model is None:\n",
    "        raise ValueError(\"Model is None\")\n",
    "    \n",
    "    X_train = X_train.copy()\n",
    "    X_test = X_test.copy()\n",
    "    y_train = y_train.copy()\n",
    "    y_test = y_test.copy()\n",
    "\n",
    "    # Unlabelled data\n",
    "    rng = np.random.RandomState(rows_seed)\n",
    "    random_rows_with_rng = rng.choice(X_train.index, size=int(len(X_train)*size_of_unlabelled_data), replace=False)\n",
    "    y_train.loc[random_rows_with_rng] = -1\n",
    "\n",
    "    # Scale data\n",
    "    scaler = RobustScaler()\n",
    "    X_train = scaler.fit_transform(X_train)\n",
    "    X_test = scaler.transform(X_test)\n",
    "\n",
    "\n",
    "    self_training_model = SelfTrainingClassifier(model, verbose=False)\n",
    "    self_training_model.fit(X_train, y_train)\n",
    "\n",
    "    # Predict\n",
    "    y_pred = self_training_model.predict(X_test)\n",
    "\n",
    "    # Evaluate - Get Metrics\n",
    "    metrics = get_metrics_df(y_test, y_pred)\n",
    "    accuracy = metrics[\"accuracy\"].values[0]\n",
    "    precision = metrics[\"precision\"].values[0]\n",
    "    recall = metrics[\"recall\"].values[0]\n",
    "    f1 = metrics[\"f1\"].values[0]\n",
    "    roc = metrics[\"roc\"].values[0]\n",
    "    \n",
    "\n",
    "    return {\"rows_seed\": rows_seed, \"model\": type(model).__name__, \"unlabeled\": size_of_unlabelled_data, \"acc\": accuracy, \"precision\": precision, \"recall\": recall, \"f1\": f1, \"roc\": roc}\n",
    "\n",
    "def run_pipeline_self(X_train, X_test, y_train, y_test) -> pd.DataFrame:\n",
    "    run_counter = 0\n",
    "    results = []\n",
    "\n",
    "    for model in MODELS:\n",
    "        for value in SIZE_OF_UNLABELLED_DATA:\n",
    "            logger.info(f'Model: {model}')\n",
    "            logger.info(f'Size of unlabelled data: {value}')\n",
    "            for row_seed in ROWS_SEED:\n",
    "                run_counter += 1\n",
    "                logger.info(f\"%{run_counter} - Running pipeline for row_seed: {row_seed} and size_of_unlabelled_data: {value} and model: {model}\")\n",
    "                result = run_pipeline(X_train=X_train, X_test=X_test, y_train=y_train, y_test=y_test, size_of_unlabelled_data=value, model=model, rows_seed=row_seed)\n",
    "                results.append(result)\n",
    "            print('\\n')\n",
    "\n",
    "    results_rows_seed = []\n",
    "    results_models = []\n",
    "    results_unlabeled = []\n",
    "    results_acc = []\n",
    "    results_precision = []\n",
    "    results_recall = []\n",
    "    results_f1 = []\n",
    "    results_roc = []\n",
    "\n",
    "    for result in results:\n",
    "        results_rows_seed.append(result.get('rows_seed'))\n",
    "        results_models.append(result.get('model'))\n",
    "        results_unlabeled.append(result.get('unlabeled'))\n",
    "        results_acc.append(result.get('acc'))\n",
    "        results_precision.append(result.get('precision'))\n",
    "        results_recall.append(result.get('recall'))\n",
    "        results_f1.append(result.get('f1'))\n",
    "        results_roc.append(result.get('roc'))\n",
    "\n",
    "\n",
    "    results_df = pd.DataFrame({'rows_seed': results_rows_seed, 'model': results_models, 'unlabeled': results_unlabeled, 'acc': results_acc, 'precision': results_precision, 'recall': results_recall, 'f1': results_f1, 'roc': results_roc})\n",
    "\n",
    "    return results_df\n",
    "\n",
    "    "
   ]
  },
  {
   "cell_type": "code",
   "execution_count": 4,
   "metadata": {},
   "outputs": [],
   "source": [
    "df = pd.read_csv('../../datasets/diabetes.csv')\n",
    "df = encode_dataframe(df)\n",
    "\n",
    "\n",
    "X = df.drop('Outcome', axis=1)\n",
    "y = df['Outcome']\n",
    "\n",
    "X_train, X_test, y_train, y_test = train_test_split(X, y, test_size=0.2, random_state=MODEL_SEED)"
   ]
  },
  {
   "cell_type": "code",
   "execution_count": 11,
   "metadata": {},
   "outputs": [
    {
     "name": "stderr",
     "output_type": "stream",
     "text": [
      "\u001b[32m2023-10-22 10:50:46.789\u001b[0m | \u001b[1mINFO    \u001b[0m | \u001b[36m__main__\u001b[0m:\u001b[36mrun_pipeline_self\u001b[0m:\u001b[36m75\u001b[0m - \u001b[1mModel: GaussianNB(var_smoothing=0.657933224657568)\u001b[0m\n",
      "\u001b[32m2023-10-22 10:50:46.790\u001b[0m | \u001b[1mINFO    \u001b[0m | \u001b[36m__main__\u001b[0m:\u001b[36mrun_pipeline_self\u001b[0m:\u001b[36m76\u001b[0m - \u001b[1mSize of unlabelled data: 0.1\u001b[0m\n",
      "\u001b[32m2023-10-22 10:50:46.791\u001b[0m | \u001b[1mINFO    \u001b[0m | \u001b[36m__main__\u001b[0m:\u001b[36mrun_pipeline_self\u001b[0m:\u001b[36m79\u001b[0m - \u001b[1m%1 - Running pipeline for row_seed: 24 and size_of_unlabelled_data: 0.1 and model: GaussianNB(var_smoothing=0.657933224657568)\u001b[0m\n",
      "\u001b[32m2023-10-22 10:50:46.803\u001b[0m | \u001b[1mINFO    \u001b[0m | \u001b[36m__main__\u001b[0m:\u001b[36mrun_pipeline_self\u001b[0m:\u001b[36m79\u001b[0m - \u001b[1m%2 - Running pipeline for row_seed: 42 and size_of_unlabelled_data: 0.1 and model: GaussianNB(var_smoothing=0.657933224657568)\u001b[0m\n",
      "\u001b[32m2023-10-22 10:50:46.816\u001b[0m | \u001b[1mINFO    \u001b[0m | \u001b[36m__main__\u001b[0m:\u001b[36mrun_pipeline_self\u001b[0m:\u001b[36m79\u001b[0m - \u001b[1m%3 - Running pipeline for row_seed: 206 and size_of_unlabelled_data: 0.1 and model: GaussianNB(var_smoothing=0.657933224657568)\u001b[0m\n",
      "\u001b[32m2023-10-22 10:50:46.828\u001b[0m | \u001b[1mINFO    \u001b[0m | \u001b[36m__main__\u001b[0m:\u001b[36mrun_pipeline_self\u001b[0m:\u001b[36m79\u001b[0m - \u001b[1m%4 - Running pipeline for row_seed: 602 and size_of_unlabelled_data: 0.1 and model: GaussianNB(var_smoothing=0.657933224657568)\u001b[0m\n",
      "\u001b[32m2023-10-22 10:50:46.840\u001b[0m | \u001b[1mINFO    \u001b[0m | \u001b[36m__main__\u001b[0m:\u001b[36mrun_pipeline_self\u001b[0m:\u001b[36m79\u001b[0m - \u001b[1m%5 - Running pipeline for row_seed: 412 and size_of_unlabelled_data: 0.1 and model: GaussianNB(var_smoothing=0.657933224657568)\u001b[0m\n",
      "\u001b[32m2023-10-22 10:50:46.852\u001b[0m | \u001b[1mINFO    \u001b[0m | \u001b[36m__main__\u001b[0m:\u001b[36mrun_pipeline_self\u001b[0m:\u001b[36m79\u001b[0m - \u001b[1m%6 - Running pipeline for row_seed: 214 and size_of_unlabelled_data: 0.1 and model: GaussianNB(var_smoothing=0.657933224657568)\u001b[0m\n",
      "\u001b[32m2023-10-22 10:50:46.868\u001b[0m | \u001b[1mINFO    \u001b[0m | \u001b[36m__main__\u001b[0m:\u001b[36mrun_pipeline_self\u001b[0m:\u001b[36m79\u001b[0m - \u001b[1m%7 - Running pipeline for row_seed: 754 and size_of_unlabelled_data: 0.1 and model: GaussianNB(var_smoothing=0.657933224657568)\u001b[0m\n",
      "\u001b[32m2023-10-22 10:50:46.880\u001b[0m | \u001b[1mINFO    \u001b[0m | \u001b[36m__main__\u001b[0m:\u001b[36mrun_pipeline_self\u001b[0m:\u001b[36m79\u001b[0m - \u001b[1m%8 - Running pipeline for row_seed: 457 and size_of_unlabelled_data: 0.1 and model: GaussianNB(var_smoothing=0.657933224657568)\u001b[0m\n",
      "\u001b[32m2023-10-22 10:50:46.892\u001b[0m | \u001b[1mINFO    \u001b[0m | \u001b[36m__main__\u001b[0m:\u001b[36mrun_pipeline_self\u001b[0m:\u001b[36m79\u001b[0m - \u001b[1m%9 - Running pipeline for row_seed: 2023 and size_of_unlabelled_data: 0.1 and model: GaussianNB(var_smoothing=0.657933224657568)\u001b[0m\n",
      "\u001b[32m2023-10-22 10:50:46.904\u001b[0m | \u001b[1mINFO    \u001b[0m | \u001b[36m__main__\u001b[0m:\u001b[36mrun_pipeline_self\u001b[0m:\u001b[36m79\u001b[0m - \u001b[1m%10 - Running pipeline for row_seed: 3202 and size_of_unlabelled_data: 0.1 and model: GaussianNB(var_smoothing=0.657933224657568)\u001b[0m\n",
      "\u001b[32m2023-10-22 10:50:46.917\u001b[0m | \u001b[1mINFO    \u001b[0m | \u001b[36m__main__\u001b[0m:\u001b[36mrun_pipeline_self\u001b[0m:\u001b[36m75\u001b[0m - \u001b[1mModel: GaussianNB(var_smoothing=0.657933224657568)\u001b[0m\n",
      "\u001b[32m2023-10-22 10:50:46.917\u001b[0m | \u001b[1mINFO    \u001b[0m | \u001b[36m__main__\u001b[0m:\u001b[36mrun_pipeline_self\u001b[0m:\u001b[36m76\u001b[0m - \u001b[1mSize of unlabelled data: 0.2\u001b[0m\n",
      "\u001b[32m2023-10-22 10:50:46.918\u001b[0m | \u001b[1mINFO    \u001b[0m | \u001b[36m__main__\u001b[0m:\u001b[36mrun_pipeline_self\u001b[0m:\u001b[36m79\u001b[0m - \u001b[1m%11 - Running pipeline for row_seed: 24 and size_of_unlabelled_data: 0.2 and model: GaussianNB(var_smoothing=0.657933224657568)\u001b[0m\n",
      "\u001b[32m2023-10-22 10:50:46.930\u001b[0m | \u001b[1mINFO    \u001b[0m | \u001b[36m__main__\u001b[0m:\u001b[36mrun_pipeline_self\u001b[0m:\u001b[36m79\u001b[0m - \u001b[1m%12 - Running pipeline for row_seed: 42 and size_of_unlabelled_data: 0.2 and model: GaussianNB(var_smoothing=0.657933224657568)\u001b[0m\n",
      "\u001b[32m2023-10-22 10:50:46.942\u001b[0m | \u001b[1mINFO    \u001b[0m | \u001b[36m__main__\u001b[0m:\u001b[36mrun_pipeline_self\u001b[0m:\u001b[36m79\u001b[0m - \u001b[1m%13 - Running pipeline for row_seed: 206 and size_of_unlabelled_data: 0.2 and model: GaussianNB(var_smoothing=0.657933224657568)\u001b[0m\n",
      "\u001b[32m2023-10-22 10:50:46.953\u001b[0m | \u001b[1mINFO    \u001b[0m | \u001b[36m__main__\u001b[0m:\u001b[36mrun_pipeline_self\u001b[0m:\u001b[36m79\u001b[0m - \u001b[1m%14 - Running pipeline for row_seed: 602 and size_of_unlabelled_data: 0.2 and model: GaussianNB(var_smoothing=0.657933224657568)\u001b[0m\n",
      "\u001b[32m2023-10-22 10:50:46.966\u001b[0m | \u001b[1mINFO    \u001b[0m | \u001b[36m__main__\u001b[0m:\u001b[36mrun_pipeline_self\u001b[0m:\u001b[36m79\u001b[0m - \u001b[1m%15 - Running pipeline for row_seed: 412 and size_of_unlabelled_data: 0.2 and model: GaussianNB(var_smoothing=0.657933224657568)\u001b[0m\n",
      "\u001b[32m2023-10-22 10:50:46.978\u001b[0m | \u001b[1mINFO    \u001b[0m | \u001b[36m__main__\u001b[0m:\u001b[36mrun_pipeline_self\u001b[0m:\u001b[36m79\u001b[0m - \u001b[1m%16 - Running pipeline for row_seed: 214 and size_of_unlabelled_data: 0.2 and model: GaussianNB(var_smoothing=0.657933224657568)\u001b[0m\n",
      "\u001b[32m2023-10-22 10:50:46.990\u001b[0m | \u001b[1mINFO    \u001b[0m | \u001b[36m__main__\u001b[0m:\u001b[36mrun_pipeline_self\u001b[0m:\u001b[36m79\u001b[0m - \u001b[1m%17 - Running pipeline for row_seed: 754 and size_of_unlabelled_data: 0.2 and model: GaussianNB(var_smoothing=0.657933224657568)\u001b[0m\n",
      "\u001b[32m2023-10-22 10:50:47.001\u001b[0m | \u001b[1mINFO    \u001b[0m | \u001b[36m__main__\u001b[0m:\u001b[36mrun_pipeline_self\u001b[0m:\u001b[36m79\u001b[0m - \u001b[1m%18 - Running pipeline for row_seed: 457 and size_of_unlabelled_data: 0.2 and model: GaussianNB(var_smoothing=0.657933224657568)\u001b[0m\n",
      "\u001b[32m2023-10-22 10:50:47.014\u001b[0m | \u001b[1mINFO    \u001b[0m | \u001b[36m__main__\u001b[0m:\u001b[36mrun_pipeline_self\u001b[0m:\u001b[36m79\u001b[0m - \u001b[1m%19 - Running pipeline for row_seed: 2023 and size_of_unlabelled_data: 0.2 and model: GaussianNB(var_smoothing=0.657933224657568)\u001b[0m\n",
      "\u001b[32m2023-10-22 10:50:47.026\u001b[0m | \u001b[1mINFO    \u001b[0m | \u001b[36m__main__\u001b[0m:\u001b[36mrun_pipeline_self\u001b[0m:\u001b[36m79\u001b[0m - \u001b[1m%20 - Running pipeline for row_seed: 3202 and size_of_unlabelled_data: 0.2 and model: GaussianNB(var_smoothing=0.657933224657568)\u001b[0m\n",
      "\u001b[32m2023-10-22 10:50:47.038\u001b[0m | \u001b[1mINFO    \u001b[0m | \u001b[36m__main__\u001b[0m:\u001b[36mrun_pipeline_self\u001b[0m:\u001b[36m75\u001b[0m - \u001b[1mModel: GaussianNB(var_smoothing=0.657933224657568)\u001b[0m\n",
      "\u001b[32m2023-10-22 10:50:47.039\u001b[0m | \u001b[1mINFO    \u001b[0m | \u001b[36m__main__\u001b[0m:\u001b[36mrun_pipeline_self\u001b[0m:\u001b[36m76\u001b[0m - \u001b[1mSize of unlabelled data: 0.3\u001b[0m\n",
      "\u001b[32m2023-10-22 10:50:47.040\u001b[0m | \u001b[1mINFO    \u001b[0m | \u001b[36m__main__\u001b[0m:\u001b[36mrun_pipeline_self\u001b[0m:\u001b[36m79\u001b[0m - \u001b[1m%21 - Running pipeline for row_seed: 24 and size_of_unlabelled_data: 0.3 and model: GaussianNB(var_smoothing=0.657933224657568)\u001b[0m\n",
      "\u001b[32m2023-10-22 10:50:47.057\u001b[0m | \u001b[1mINFO    \u001b[0m | \u001b[36m__main__\u001b[0m:\u001b[36mrun_pipeline_self\u001b[0m:\u001b[36m79\u001b[0m - \u001b[1m%22 - Running pipeline for row_seed: 42 and size_of_unlabelled_data: 0.3 and model: GaussianNB(var_smoothing=0.657933224657568)\u001b[0m\n",
      "\u001b[32m2023-10-22 10:50:47.069\u001b[0m | \u001b[1mINFO    \u001b[0m | \u001b[36m__main__\u001b[0m:\u001b[36mrun_pipeline_self\u001b[0m:\u001b[36m79\u001b[0m - \u001b[1m%23 - Running pipeline for row_seed: 206 and size_of_unlabelled_data: 0.3 and model: GaussianNB(var_smoothing=0.657933224657568)\u001b[0m\n",
      "\u001b[32m2023-10-22 10:50:47.081\u001b[0m | \u001b[1mINFO    \u001b[0m | \u001b[36m__main__\u001b[0m:\u001b[36mrun_pipeline_self\u001b[0m:\u001b[36m79\u001b[0m - \u001b[1m%24 - Running pipeline for row_seed: 602 and size_of_unlabelled_data: 0.3 and model: GaussianNB(var_smoothing=0.657933224657568)\u001b[0m\n",
      "\u001b[32m2023-10-22 10:50:47.095\u001b[0m | \u001b[1mINFO    \u001b[0m | \u001b[36m__main__\u001b[0m:\u001b[36mrun_pipeline_self\u001b[0m:\u001b[36m79\u001b[0m - \u001b[1m%25 - Running pipeline for row_seed: 412 and size_of_unlabelled_data: 0.3 and model: GaussianNB(var_smoothing=0.657933224657568)\u001b[0m\n",
      "\u001b[32m2023-10-22 10:50:47.108\u001b[0m | \u001b[1mINFO    \u001b[0m | \u001b[36m__main__\u001b[0m:\u001b[36mrun_pipeline_self\u001b[0m:\u001b[36m79\u001b[0m - \u001b[1m%26 - Running pipeline for row_seed: 214 and size_of_unlabelled_data: 0.3 and model: GaussianNB(var_smoothing=0.657933224657568)\u001b[0m\n"
     ]
    },
    {
     "name": "stdout",
     "output_type": "stream",
     "text": [
      "\n",
      "\n",
      "\n",
      "\n"
     ]
    },
    {
     "name": "stderr",
     "output_type": "stream",
     "text": [
      "\u001b[32m2023-10-22 10:50:47.122\u001b[0m | \u001b[1mINFO    \u001b[0m | \u001b[36m__main__\u001b[0m:\u001b[36mrun_pipeline_self\u001b[0m:\u001b[36m79\u001b[0m - \u001b[1m%27 - Running pipeline for row_seed: 754 and size_of_unlabelled_data: 0.3 and model: GaussianNB(var_smoothing=0.657933224657568)\u001b[0m\n",
      "\u001b[32m2023-10-22 10:50:47.135\u001b[0m | \u001b[1mINFO    \u001b[0m | \u001b[36m__main__\u001b[0m:\u001b[36mrun_pipeline_self\u001b[0m:\u001b[36m79\u001b[0m - \u001b[1m%28 - Running pipeline for row_seed: 457 and size_of_unlabelled_data: 0.3 and model: GaussianNB(var_smoothing=0.657933224657568)\u001b[0m\n",
      "\u001b[32m2023-10-22 10:50:47.148\u001b[0m | \u001b[1mINFO    \u001b[0m | \u001b[36m__main__\u001b[0m:\u001b[36mrun_pipeline_self\u001b[0m:\u001b[36m79\u001b[0m - \u001b[1m%29 - Running pipeline for row_seed: 2023 and size_of_unlabelled_data: 0.3 and model: GaussianNB(var_smoothing=0.657933224657568)\u001b[0m\n",
      "\u001b[32m2023-10-22 10:50:47.161\u001b[0m | \u001b[1mINFO    \u001b[0m | \u001b[36m__main__\u001b[0m:\u001b[36mrun_pipeline_self\u001b[0m:\u001b[36m79\u001b[0m - \u001b[1m%30 - Running pipeline for row_seed: 3202 and size_of_unlabelled_data: 0.3 and model: GaussianNB(var_smoothing=0.657933224657568)\u001b[0m\n",
      "\u001b[32m2023-10-22 10:50:47.175\u001b[0m | \u001b[1mINFO    \u001b[0m | \u001b[36m__main__\u001b[0m:\u001b[36mrun_pipeline_self\u001b[0m:\u001b[36m75\u001b[0m - \u001b[1mModel: GaussianNB(var_smoothing=0.657933224657568)\u001b[0m\n",
      "\u001b[32m2023-10-22 10:50:47.176\u001b[0m | \u001b[1mINFO    \u001b[0m | \u001b[36m__main__\u001b[0m:\u001b[36mrun_pipeline_self\u001b[0m:\u001b[36m76\u001b[0m - \u001b[1mSize of unlabelled data: 0.4\u001b[0m\n",
      "\u001b[32m2023-10-22 10:50:47.176\u001b[0m | \u001b[1mINFO    \u001b[0m | \u001b[36m__main__\u001b[0m:\u001b[36mrun_pipeline_self\u001b[0m:\u001b[36m79\u001b[0m - \u001b[1m%31 - Running pipeline for row_seed: 24 and size_of_unlabelled_data: 0.4 and model: GaussianNB(var_smoothing=0.657933224657568)\u001b[0m\n",
      "\u001b[32m2023-10-22 10:50:47.190\u001b[0m | \u001b[1mINFO    \u001b[0m | \u001b[36m__main__\u001b[0m:\u001b[36mrun_pipeline_self\u001b[0m:\u001b[36m79\u001b[0m - \u001b[1m%32 - Running pipeline for row_seed: 42 and size_of_unlabelled_data: 0.4 and model: GaussianNB(var_smoothing=0.657933224657568)\u001b[0m\n",
      "\u001b[32m2023-10-22 10:50:47.204\u001b[0m | \u001b[1mINFO    \u001b[0m | \u001b[36m__main__\u001b[0m:\u001b[36mrun_pipeline_self\u001b[0m:\u001b[36m79\u001b[0m - \u001b[1m%33 - Running pipeline for row_seed: 206 and size_of_unlabelled_data: 0.4 and model: GaussianNB(var_smoothing=0.657933224657568)\u001b[0m\n",
      "\u001b[32m2023-10-22 10:50:47.218\u001b[0m | \u001b[1mINFO    \u001b[0m | \u001b[36m__main__\u001b[0m:\u001b[36mrun_pipeline_self\u001b[0m:\u001b[36m79\u001b[0m - \u001b[1m%34 - Running pipeline for row_seed: 602 and size_of_unlabelled_data: 0.4 and model: GaussianNB(var_smoothing=0.657933224657568)\u001b[0m\n",
      "\u001b[32m2023-10-22 10:50:47.237\u001b[0m | \u001b[1mINFO    \u001b[0m | \u001b[36m__main__\u001b[0m:\u001b[36mrun_pipeline_self\u001b[0m:\u001b[36m79\u001b[0m - \u001b[1m%35 - Running pipeline for row_seed: 412 and size_of_unlabelled_data: 0.4 and model: GaussianNB(var_smoothing=0.657933224657568)\u001b[0m\n",
      "\u001b[32m2023-10-22 10:50:47.253\u001b[0m | \u001b[1mINFO    \u001b[0m | \u001b[36m__main__\u001b[0m:\u001b[36mrun_pipeline_self\u001b[0m:\u001b[36m79\u001b[0m - \u001b[1m%36 - Running pipeline for row_seed: 214 and size_of_unlabelled_data: 0.4 and model: GaussianNB(var_smoothing=0.657933224657568)\u001b[0m\n",
      "\u001b[32m2023-10-22 10:50:47.267\u001b[0m | \u001b[1mINFO    \u001b[0m | \u001b[36m__main__\u001b[0m:\u001b[36mrun_pipeline_self\u001b[0m:\u001b[36m79\u001b[0m - \u001b[1m%37 - Running pipeline for row_seed: 754 and size_of_unlabelled_data: 0.4 and model: GaussianNB(var_smoothing=0.657933224657568)\u001b[0m\n",
      "\u001b[32m2023-10-22 10:50:47.280\u001b[0m | \u001b[1mINFO    \u001b[0m | \u001b[36m__main__\u001b[0m:\u001b[36mrun_pipeline_self\u001b[0m:\u001b[36m79\u001b[0m - \u001b[1m%38 - Running pipeline for row_seed: 457 and size_of_unlabelled_data: 0.4 and model: GaussianNB(var_smoothing=0.657933224657568)\u001b[0m\n",
      "\u001b[32m2023-10-22 10:50:47.293\u001b[0m | \u001b[1mINFO    \u001b[0m | \u001b[36m__main__\u001b[0m:\u001b[36mrun_pipeline_self\u001b[0m:\u001b[36m79\u001b[0m - \u001b[1m%39 - Running pipeline for row_seed: 2023 and size_of_unlabelled_data: 0.4 and model: GaussianNB(var_smoothing=0.657933224657568)\u001b[0m\n",
      "\u001b[32m2023-10-22 10:50:47.309\u001b[0m | \u001b[1mINFO    \u001b[0m | \u001b[36m__main__\u001b[0m:\u001b[36mrun_pipeline_self\u001b[0m:\u001b[36m79\u001b[0m - \u001b[1m%40 - Running pipeline for row_seed: 3202 and size_of_unlabelled_data: 0.4 and model: GaussianNB(var_smoothing=0.657933224657568)\u001b[0m\n",
      "\u001b[32m2023-10-22 10:50:47.323\u001b[0m | \u001b[1mINFO    \u001b[0m | \u001b[36m__main__\u001b[0m:\u001b[36mrun_pipeline_self\u001b[0m:\u001b[36m75\u001b[0m - \u001b[1mModel: GaussianNB(var_smoothing=0.657933224657568)\u001b[0m\n",
      "\u001b[32m2023-10-22 10:50:47.324\u001b[0m | \u001b[1mINFO    \u001b[0m | \u001b[36m__main__\u001b[0m:\u001b[36mrun_pipeline_self\u001b[0m:\u001b[36m76\u001b[0m - \u001b[1mSize of unlabelled data: 0.5\u001b[0m\n",
      "\u001b[32m2023-10-22 10:50:47.324\u001b[0m | \u001b[1mINFO    \u001b[0m | \u001b[36m__main__\u001b[0m:\u001b[36mrun_pipeline_self\u001b[0m:\u001b[36m79\u001b[0m - \u001b[1m%41 - Running pipeline for row_seed: 24 and size_of_unlabelled_data: 0.5 and model: GaussianNB(var_smoothing=0.657933224657568)\u001b[0m\n",
      "\u001b[32m2023-10-22 10:50:47.343\u001b[0m | \u001b[1mINFO    \u001b[0m | \u001b[36m__main__\u001b[0m:\u001b[36mrun_pipeline_self\u001b[0m:\u001b[36m79\u001b[0m - \u001b[1m%42 - Running pipeline for row_seed: 42 and size_of_unlabelled_data: 0.5 and model: GaussianNB(var_smoothing=0.657933224657568)\u001b[0m\n",
      "\u001b[32m2023-10-22 10:50:47.360\u001b[0m | \u001b[1mINFO    \u001b[0m | \u001b[36m__main__\u001b[0m:\u001b[36mrun_pipeline_self\u001b[0m:\u001b[36m79\u001b[0m - \u001b[1m%43 - Running pipeline for row_seed: 206 and size_of_unlabelled_data: 0.5 and model: GaussianNB(var_smoothing=0.657933224657568)\u001b[0m\n"
     ]
    },
    {
     "name": "stdout",
     "output_type": "stream",
     "text": [
      "\n",
      "\n",
      "\n",
      "\n"
     ]
    },
    {
     "name": "stderr",
     "output_type": "stream",
     "text": [
      "\u001b[32m2023-10-22 10:50:47.383\u001b[0m | \u001b[1mINFO    \u001b[0m | \u001b[36m__main__\u001b[0m:\u001b[36mrun_pipeline_self\u001b[0m:\u001b[36m79\u001b[0m - \u001b[1m%44 - Running pipeline for row_seed: 602 and size_of_unlabelled_data: 0.5 and model: GaussianNB(var_smoothing=0.657933224657568)\u001b[0m\n",
      "\u001b[32m2023-10-22 10:50:47.410\u001b[0m | \u001b[1mINFO    \u001b[0m | \u001b[36m__main__\u001b[0m:\u001b[36mrun_pipeline_self\u001b[0m:\u001b[36m79\u001b[0m - \u001b[1m%45 - Running pipeline for row_seed: 412 and size_of_unlabelled_data: 0.5 and model: GaussianNB(var_smoothing=0.657933224657568)\u001b[0m\n",
      "\u001b[32m2023-10-22 10:50:47.432\u001b[0m | \u001b[1mINFO    \u001b[0m | \u001b[36m__main__\u001b[0m:\u001b[36mrun_pipeline_self\u001b[0m:\u001b[36m79\u001b[0m - \u001b[1m%46 - Running pipeline for row_seed: 214 and size_of_unlabelled_data: 0.5 and model: GaussianNB(var_smoothing=0.657933224657568)\u001b[0m\n",
      "\u001b[32m2023-10-22 10:50:47.446\u001b[0m | \u001b[1mINFO    \u001b[0m | \u001b[36m__main__\u001b[0m:\u001b[36mrun_pipeline_self\u001b[0m:\u001b[36m79\u001b[0m - \u001b[1m%47 - Running pipeline for row_seed: 754 and size_of_unlabelled_data: 0.5 and model: GaussianNB(var_smoothing=0.657933224657568)\u001b[0m\n",
      "\u001b[32m2023-10-22 10:50:47.460\u001b[0m | \u001b[1mINFO    \u001b[0m | \u001b[36m__main__\u001b[0m:\u001b[36mrun_pipeline_self\u001b[0m:\u001b[36m79\u001b[0m - \u001b[1m%48 - Running pipeline for row_seed: 457 and size_of_unlabelled_data: 0.5 and model: GaussianNB(var_smoothing=0.657933224657568)\u001b[0m\n",
      "\u001b[32m2023-10-22 10:50:47.480\u001b[0m | \u001b[1mINFO    \u001b[0m | \u001b[36m__main__\u001b[0m:\u001b[36mrun_pipeline_self\u001b[0m:\u001b[36m79\u001b[0m - \u001b[1m%49 - Running pipeline for row_seed: 2023 and size_of_unlabelled_data: 0.5 and model: GaussianNB(var_smoothing=0.657933224657568)\u001b[0m\n",
      "\u001b[32m2023-10-22 10:50:47.493\u001b[0m | \u001b[1mINFO    \u001b[0m | \u001b[36m__main__\u001b[0m:\u001b[36mrun_pipeline_self\u001b[0m:\u001b[36m79\u001b[0m - \u001b[1m%50 - Running pipeline for row_seed: 3202 and size_of_unlabelled_data: 0.5 and model: GaussianNB(var_smoothing=0.657933224657568)\u001b[0m\n",
      "\u001b[32m2023-10-22 10:50:47.509\u001b[0m | \u001b[1mINFO    \u001b[0m | \u001b[36m__main__\u001b[0m:\u001b[36mrun_pipeline_self\u001b[0m:\u001b[36m75\u001b[0m - \u001b[1mModel: GaussianNB(var_smoothing=0.657933224657568)\u001b[0m\n",
      "\u001b[32m2023-10-22 10:50:47.509\u001b[0m | \u001b[1mINFO    \u001b[0m | \u001b[36m__main__\u001b[0m:\u001b[36mrun_pipeline_self\u001b[0m:\u001b[36m76\u001b[0m - \u001b[1mSize of unlabelled data: 0.6\u001b[0m\n",
      "\u001b[32m2023-10-22 10:50:47.510\u001b[0m | \u001b[1mINFO    \u001b[0m | \u001b[36m__main__\u001b[0m:\u001b[36mrun_pipeline_self\u001b[0m:\u001b[36m79\u001b[0m - \u001b[1m%51 - Running pipeline for row_seed: 24 and size_of_unlabelled_data: 0.6 and model: GaussianNB(var_smoothing=0.657933224657568)\u001b[0m\n",
      "\u001b[32m2023-10-22 10:50:47.523\u001b[0m | \u001b[1mINFO    \u001b[0m | \u001b[36m__main__\u001b[0m:\u001b[36mrun_pipeline_self\u001b[0m:\u001b[36m79\u001b[0m - \u001b[1m%52 - Running pipeline for row_seed: 42 and size_of_unlabelled_data: 0.6 and model: GaussianNB(var_smoothing=0.657933224657568)\u001b[0m\n",
      "\u001b[32m2023-10-22 10:50:47.537\u001b[0m | \u001b[1mINFO    \u001b[0m | \u001b[36m__main__\u001b[0m:\u001b[36mrun_pipeline_self\u001b[0m:\u001b[36m79\u001b[0m - \u001b[1m%53 - Running pipeline for row_seed: 206 and size_of_unlabelled_data: 0.6 and model: GaussianNB(var_smoothing=0.657933224657568)\u001b[0m\n",
      "\u001b[32m2023-10-22 10:50:47.553\u001b[0m | \u001b[1mINFO    \u001b[0m | \u001b[36m__main__\u001b[0m:\u001b[36mrun_pipeline_self\u001b[0m:\u001b[36m79\u001b[0m - \u001b[1m%54 - Running pipeline for row_seed: 602 and size_of_unlabelled_data: 0.6 and model: GaussianNB(var_smoothing=0.657933224657568)\u001b[0m\n",
      "\u001b[32m2023-10-22 10:50:47.569\u001b[0m | \u001b[1mINFO    \u001b[0m | \u001b[36m__main__\u001b[0m:\u001b[36mrun_pipeline_self\u001b[0m:\u001b[36m79\u001b[0m - \u001b[1m%55 - Running pipeline for row_seed: 412 and size_of_unlabelled_data: 0.6 and model: GaussianNB(var_smoothing=0.657933224657568)\u001b[0m\n",
      "\u001b[32m2023-10-22 10:50:47.582\u001b[0m | \u001b[1mINFO    \u001b[0m | \u001b[36m__main__\u001b[0m:\u001b[36mrun_pipeline_self\u001b[0m:\u001b[36m79\u001b[0m - \u001b[1m%56 - Running pipeline for row_seed: 214 and size_of_unlabelled_data: 0.6 and model: GaussianNB(var_smoothing=0.657933224657568)\u001b[0m\n",
      "\u001b[32m2023-10-22 10:50:47.599\u001b[0m | \u001b[1mINFO    \u001b[0m | \u001b[36m__main__\u001b[0m:\u001b[36mrun_pipeline_self\u001b[0m:\u001b[36m79\u001b[0m - \u001b[1m%57 - Running pipeline for row_seed: 754 and size_of_unlabelled_data: 0.6 and model: GaussianNB(var_smoothing=0.657933224657568)\u001b[0m\n",
      "\u001b[32m2023-10-22 10:50:47.612\u001b[0m | \u001b[1mINFO    \u001b[0m | \u001b[36m__main__\u001b[0m:\u001b[36mrun_pipeline_self\u001b[0m:\u001b[36m79\u001b[0m - \u001b[1m%58 - Running pipeline for row_seed: 457 and size_of_unlabelled_data: 0.6 and model: GaussianNB(var_smoothing=0.657933224657568)\u001b[0m\n",
      "\u001b[32m2023-10-22 10:50:47.624\u001b[0m | \u001b[1mINFO    \u001b[0m | \u001b[36m__main__\u001b[0m:\u001b[36mrun_pipeline_self\u001b[0m:\u001b[36m79\u001b[0m - \u001b[1m%59 - Running pipeline for row_seed: 2023 and size_of_unlabelled_data: 0.6 and model: GaussianNB(var_smoothing=0.657933224657568)\u001b[0m\n",
      "\u001b[32m2023-10-22 10:50:47.638\u001b[0m | \u001b[1mINFO    \u001b[0m | \u001b[36m__main__\u001b[0m:\u001b[36mrun_pipeline_self\u001b[0m:\u001b[36m79\u001b[0m - \u001b[1m%60 - Running pipeline for row_seed: 3202 and size_of_unlabelled_data: 0.6 and model: GaussianNB(var_smoothing=0.657933224657568)\u001b[0m\n",
      "\u001b[32m2023-10-22 10:50:47.659\u001b[0m | \u001b[1mINFO    \u001b[0m | \u001b[36m__main__\u001b[0m:\u001b[36mrun_pipeline_self\u001b[0m:\u001b[36m75\u001b[0m - \u001b[1mModel: GaussianNB(var_smoothing=0.657933224657568)\u001b[0m\n",
      "\u001b[32m2023-10-22 10:50:47.660\u001b[0m | \u001b[1mINFO    \u001b[0m | \u001b[36m__main__\u001b[0m:\u001b[36mrun_pipeline_self\u001b[0m:\u001b[36m76\u001b[0m - \u001b[1mSize of unlabelled data: 0.7\u001b[0m\n",
      "\u001b[32m2023-10-22 10:50:47.660\u001b[0m | \u001b[1mINFO    \u001b[0m | \u001b[36m__main__\u001b[0m:\u001b[36mrun_pipeline_self\u001b[0m:\u001b[36m79\u001b[0m - \u001b[1m%61 - Running pipeline for row_seed: 24 and size_of_unlabelled_data: 0.7 and model: GaussianNB(var_smoothing=0.657933224657568)\u001b[0m\n",
      "\u001b[32m2023-10-22 10:50:47.673\u001b[0m | \u001b[1mINFO    \u001b[0m | \u001b[36m__main__\u001b[0m:\u001b[36mrun_pipeline_self\u001b[0m:\u001b[36m79\u001b[0m - \u001b[1m%62 - Running pipeline for row_seed: 42 and size_of_unlabelled_data: 0.7 and model: GaussianNB(var_smoothing=0.657933224657568)\u001b[0m\n",
      "\u001b[32m2023-10-22 10:50:47.687\u001b[0m | \u001b[1mINFO    \u001b[0m | \u001b[36m__main__\u001b[0m:\u001b[36mrun_pipeline_self\u001b[0m:\u001b[36m79\u001b[0m - \u001b[1m%63 - Running pipeline for row_seed: 206 and size_of_unlabelled_data: 0.7 and model: GaussianNB(var_smoothing=0.657933224657568)\u001b[0m\n",
      "\u001b[32m2023-10-22 10:50:47.703\u001b[0m | \u001b[1mINFO    \u001b[0m | \u001b[36m__main__\u001b[0m:\u001b[36mrun_pipeline_self\u001b[0m:\u001b[36m79\u001b[0m - \u001b[1m%64 - Running pipeline for row_seed: 602 and size_of_unlabelled_data: 0.7 and model: GaussianNB(var_smoothing=0.657933224657568)\u001b[0m\n"
     ]
    },
    {
     "name": "stdout",
     "output_type": "stream",
     "text": [
      "\n",
      "\n",
      "\n",
      "\n"
     ]
    },
    {
     "name": "stderr",
     "output_type": "stream",
     "text": [
      "\u001b[32m2023-10-22 10:50:47.718\u001b[0m | \u001b[1mINFO    \u001b[0m | \u001b[36m__main__\u001b[0m:\u001b[36mrun_pipeline_self\u001b[0m:\u001b[36m79\u001b[0m - \u001b[1m%65 - Running pipeline for row_seed: 412 and size_of_unlabelled_data: 0.7 and model: GaussianNB(var_smoothing=0.657933224657568)\u001b[0m\n",
      "\u001b[32m2023-10-22 10:50:47.737\u001b[0m | \u001b[1mINFO    \u001b[0m | \u001b[36m__main__\u001b[0m:\u001b[36mrun_pipeline_self\u001b[0m:\u001b[36m79\u001b[0m - \u001b[1m%66 - Running pipeline for row_seed: 214 and size_of_unlabelled_data: 0.7 and model: GaussianNB(var_smoothing=0.657933224657568)\u001b[0m\n",
      "\u001b[32m2023-10-22 10:50:47.756\u001b[0m | \u001b[1mINFO    \u001b[0m | \u001b[36m__main__\u001b[0m:\u001b[36mrun_pipeline_self\u001b[0m:\u001b[36m79\u001b[0m - \u001b[1m%67 - Running pipeline for row_seed: 754 and size_of_unlabelled_data: 0.7 and model: GaussianNB(var_smoothing=0.657933224657568)\u001b[0m\n",
      "\u001b[32m2023-10-22 10:50:47.774\u001b[0m | \u001b[1mINFO    \u001b[0m | \u001b[36m__main__\u001b[0m:\u001b[36mrun_pipeline_self\u001b[0m:\u001b[36m79\u001b[0m - \u001b[1m%68 - Running pipeline for row_seed: 457 and size_of_unlabelled_data: 0.7 and model: GaussianNB(var_smoothing=0.657933224657568)\u001b[0m\n",
      "\u001b[32m2023-10-22 10:50:47.789\u001b[0m | \u001b[1mINFO    \u001b[0m | \u001b[36m__main__\u001b[0m:\u001b[36mrun_pipeline_self\u001b[0m:\u001b[36m79\u001b[0m - \u001b[1m%69 - Running pipeline for row_seed: 2023 and size_of_unlabelled_data: 0.7 and model: GaussianNB(var_smoothing=0.657933224657568)\u001b[0m\n",
      "\u001b[32m2023-10-22 10:50:47.802\u001b[0m | \u001b[1mINFO    \u001b[0m | \u001b[36m__main__\u001b[0m:\u001b[36mrun_pipeline_self\u001b[0m:\u001b[36m79\u001b[0m - \u001b[1m%70 - Running pipeline for row_seed: 3202 and size_of_unlabelled_data: 0.7 and model: GaussianNB(var_smoothing=0.657933224657568)\u001b[0m\n",
      "\u001b[32m2023-10-22 10:50:47.817\u001b[0m | \u001b[1mINFO    \u001b[0m | \u001b[36m__main__\u001b[0m:\u001b[36mrun_pipeline_self\u001b[0m:\u001b[36m75\u001b[0m - \u001b[1mModel: GaussianNB(var_smoothing=0.657933224657568)\u001b[0m\n",
      "\u001b[32m2023-10-22 10:50:47.817\u001b[0m | \u001b[1mINFO    \u001b[0m | \u001b[36m__main__\u001b[0m:\u001b[36mrun_pipeline_self\u001b[0m:\u001b[36m76\u001b[0m - \u001b[1mSize of unlabelled data: 0.8\u001b[0m\n",
      "\u001b[32m2023-10-22 10:50:47.818\u001b[0m | \u001b[1mINFO    \u001b[0m | \u001b[36m__main__\u001b[0m:\u001b[36mrun_pipeline_self\u001b[0m:\u001b[36m79\u001b[0m - \u001b[1m%71 - Running pipeline for row_seed: 24 and size_of_unlabelled_data: 0.8 and model: GaussianNB(var_smoothing=0.657933224657568)\u001b[0m\n",
      "\u001b[32m2023-10-22 10:50:47.831\u001b[0m | \u001b[1mINFO    \u001b[0m | \u001b[36m__main__\u001b[0m:\u001b[36mrun_pipeline_self\u001b[0m:\u001b[36m79\u001b[0m - \u001b[1m%72 - Running pipeline for row_seed: 42 and size_of_unlabelled_data: 0.8 and model: GaussianNB(var_smoothing=0.657933224657568)\u001b[0m\n",
      "\u001b[32m2023-10-22 10:50:47.844\u001b[0m | \u001b[1mINFO    \u001b[0m | \u001b[36m__main__\u001b[0m:\u001b[36mrun_pipeline_self\u001b[0m:\u001b[36m79\u001b[0m - \u001b[1m%73 - Running pipeline for row_seed: 206 and size_of_unlabelled_data: 0.8 and model: GaussianNB(var_smoothing=0.657933224657568)\u001b[0m\n",
      "\u001b[32m2023-10-22 10:50:47.858\u001b[0m | \u001b[1mINFO    \u001b[0m | \u001b[36m__main__\u001b[0m:\u001b[36mrun_pipeline_self\u001b[0m:\u001b[36m79\u001b[0m - \u001b[1m%74 - Running pipeline for row_seed: 602 and size_of_unlabelled_data: 0.8 and model: GaussianNB(var_smoothing=0.657933224657568)\u001b[0m\n",
      "\u001b[32m2023-10-22 10:50:47.872\u001b[0m | \u001b[1mINFO    \u001b[0m | \u001b[36m__main__\u001b[0m:\u001b[36mrun_pipeline_self\u001b[0m:\u001b[36m79\u001b[0m - \u001b[1m%75 - Running pipeline for row_seed: 412 and size_of_unlabelled_data: 0.8 and model: GaussianNB(var_smoothing=0.657933224657568)\u001b[0m\n",
      "\u001b[32m2023-10-22 10:50:47.889\u001b[0m | \u001b[1mINFO    \u001b[0m | \u001b[36m__main__\u001b[0m:\u001b[36mrun_pipeline_self\u001b[0m:\u001b[36m79\u001b[0m - \u001b[1m%76 - Running pipeline for row_seed: 214 and size_of_unlabelled_data: 0.8 and model: GaussianNB(var_smoothing=0.657933224657568)\u001b[0m\n",
      "\u001b[32m2023-10-22 10:50:47.901\u001b[0m | \u001b[1mINFO    \u001b[0m | \u001b[36m__main__\u001b[0m:\u001b[36mrun_pipeline_self\u001b[0m:\u001b[36m79\u001b[0m - \u001b[1m%77 - Running pipeline for row_seed: 754 and size_of_unlabelled_data: 0.8 and model: GaussianNB(var_smoothing=0.657933224657568)\u001b[0m\n",
      "\u001b[32m2023-10-22 10:50:47.914\u001b[0m | \u001b[1mINFO    \u001b[0m | \u001b[36m__main__\u001b[0m:\u001b[36mrun_pipeline_self\u001b[0m:\u001b[36m79\u001b[0m - \u001b[1m%78 - Running pipeline for row_seed: 457 and size_of_unlabelled_data: 0.8 and model: GaussianNB(var_smoothing=0.657933224657568)\u001b[0m\n",
      "\u001b[32m2023-10-22 10:50:47.928\u001b[0m | \u001b[1mINFO    \u001b[0m | \u001b[36m__main__\u001b[0m:\u001b[36mrun_pipeline_self\u001b[0m:\u001b[36m79\u001b[0m - \u001b[1m%79 - Running pipeline for row_seed: 2023 and size_of_unlabelled_data: 0.8 and model: GaussianNB(var_smoothing=0.657933224657568)\u001b[0m\n",
      "\u001b[32m2023-10-22 10:50:47.942\u001b[0m | \u001b[1mINFO    \u001b[0m | \u001b[36m__main__\u001b[0m:\u001b[36mrun_pipeline_self\u001b[0m:\u001b[36m79\u001b[0m - \u001b[1m%80 - Running pipeline for row_seed: 3202 and size_of_unlabelled_data: 0.8 and model: GaussianNB(var_smoothing=0.657933224657568)\u001b[0m\n",
      "\u001b[32m2023-10-22 10:50:47.956\u001b[0m | \u001b[1mINFO    \u001b[0m | \u001b[36m__main__\u001b[0m:\u001b[36mrun_pipeline_self\u001b[0m:\u001b[36m75\u001b[0m - \u001b[1mModel: GaussianNB(var_smoothing=0.657933224657568)\u001b[0m\n",
      "\u001b[32m2023-10-22 10:50:47.957\u001b[0m | \u001b[1mINFO    \u001b[0m | \u001b[36m__main__\u001b[0m:\u001b[36mrun_pipeline_self\u001b[0m:\u001b[36m76\u001b[0m - \u001b[1mSize of unlabelled data: 0.85\u001b[0m\n",
      "\u001b[32m2023-10-22 10:50:47.957\u001b[0m | \u001b[1mINFO    \u001b[0m | \u001b[36m__main__\u001b[0m:\u001b[36mrun_pipeline_self\u001b[0m:\u001b[36m79\u001b[0m - \u001b[1m%81 - Running pipeline for row_seed: 24 and size_of_unlabelled_data: 0.85 and model: GaussianNB(var_smoothing=0.657933224657568)\u001b[0m\n",
      "\u001b[32m2023-10-22 10:50:47.972\u001b[0m | \u001b[1mINFO    \u001b[0m | \u001b[36m__main__\u001b[0m:\u001b[36mrun_pipeline_self\u001b[0m:\u001b[36m79\u001b[0m - \u001b[1m%82 - Running pipeline for row_seed: 42 and size_of_unlabelled_data: 0.85 and model: GaussianNB(var_smoothing=0.657933224657568)\u001b[0m\n",
      "\u001b[32m2023-10-22 10:50:47.984\u001b[0m | \u001b[1mINFO    \u001b[0m | \u001b[36m__main__\u001b[0m:\u001b[36mrun_pipeline_self\u001b[0m:\u001b[36m79\u001b[0m - \u001b[1m%83 - Running pipeline for row_seed: 206 and size_of_unlabelled_data: 0.85 and model: GaussianNB(var_smoothing=0.657933224657568)\u001b[0m\n",
      "\u001b[32m2023-10-22 10:50:47.998\u001b[0m | \u001b[1mINFO    \u001b[0m | \u001b[36m__main__\u001b[0m:\u001b[36mrun_pipeline_self\u001b[0m:\u001b[36m79\u001b[0m - \u001b[1m%84 - Running pipeline for row_seed: 602 and size_of_unlabelled_data: 0.85 and model: GaussianNB(var_smoothing=0.657933224657568)\u001b[0m\n",
      "\u001b[32m2023-10-22 10:50:48.012\u001b[0m | \u001b[1mINFO    \u001b[0m | \u001b[36m__main__\u001b[0m:\u001b[36mrun_pipeline_self\u001b[0m:\u001b[36m79\u001b[0m - \u001b[1m%85 - Running pipeline for row_seed: 412 and size_of_unlabelled_data: 0.85 and model: GaussianNB(var_smoothing=0.657933224657568)\u001b[0m\n"
     ]
    },
    {
     "name": "stdout",
     "output_type": "stream",
     "text": [
      "\n",
      "\n",
      "\n",
      "\n"
     ]
    },
    {
     "name": "stderr",
     "output_type": "stream",
     "text": [
      "\u001b[32m2023-10-22 10:50:48.026\u001b[0m | \u001b[1mINFO    \u001b[0m | \u001b[36m__main__\u001b[0m:\u001b[36mrun_pipeline_self\u001b[0m:\u001b[36m79\u001b[0m - \u001b[1m%86 - Running pipeline for row_seed: 214 and size_of_unlabelled_data: 0.85 and model: GaussianNB(var_smoothing=0.657933224657568)\u001b[0m\n",
      "\u001b[32m2023-10-22 10:50:48.042\u001b[0m | \u001b[1mINFO    \u001b[0m | \u001b[36m__main__\u001b[0m:\u001b[36mrun_pipeline_self\u001b[0m:\u001b[36m79\u001b[0m - \u001b[1m%87 - Running pipeline for row_seed: 754 and size_of_unlabelled_data: 0.85 and model: GaussianNB(var_smoothing=0.657933224657568)\u001b[0m\n",
      "\u001b[32m2023-10-22 10:50:48.057\u001b[0m | \u001b[1mINFO    \u001b[0m | \u001b[36m__main__\u001b[0m:\u001b[36mrun_pipeline_self\u001b[0m:\u001b[36m79\u001b[0m - \u001b[1m%88 - Running pipeline for row_seed: 457 and size_of_unlabelled_data: 0.85 and model: GaussianNB(var_smoothing=0.657933224657568)\u001b[0m\n",
      "\u001b[32m2023-10-22 10:50:48.075\u001b[0m | \u001b[1mINFO    \u001b[0m | \u001b[36m__main__\u001b[0m:\u001b[36mrun_pipeline_self\u001b[0m:\u001b[36m79\u001b[0m - \u001b[1m%89 - Running pipeline for row_seed: 2023 and size_of_unlabelled_data: 0.85 and model: GaussianNB(var_smoothing=0.657933224657568)\u001b[0m\n",
      "\u001b[32m2023-10-22 10:50:48.089\u001b[0m | \u001b[1mINFO    \u001b[0m | \u001b[36m__main__\u001b[0m:\u001b[36mrun_pipeline_self\u001b[0m:\u001b[36m79\u001b[0m - \u001b[1m%90 - Running pipeline for row_seed: 3202 and size_of_unlabelled_data: 0.85 and model: GaussianNB(var_smoothing=0.657933224657568)\u001b[0m\n",
      "\u001b[32m2023-10-22 10:50:48.105\u001b[0m | \u001b[1mINFO    \u001b[0m | \u001b[36m__main__\u001b[0m:\u001b[36mrun_pipeline_self\u001b[0m:\u001b[36m75\u001b[0m - \u001b[1mModel: GaussianNB(var_smoothing=0.657933224657568)\u001b[0m\n",
      "\u001b[32m2023-10-22 10:50:48.106\u001b[0m | \u001b[1mINFO    \u001b[0m | \u001b[36m__main__\u001b[0m:\u001b[36mrun_pipeline_self\u001b[0m:\u001b[36m76\u001b[0m - \u001b[1mSize of unlabelled data: 0.9\u001b[0m\n",
      "\u001b[32m2023-10-22 10:50:48.107\u001b[0m | \u001b[1mINFO    \u001b[0m | \u001b[36m__main__\u001b[0m:\u001b[36mrun_pipeline_self\u001b[0m:\u001b[36m79\u001b[0m - \u001b[1m%91 - Running pipeline for row_seed: 24 and size_of_unlabelled_data: 0.9 and model: GaussianNB(var_smoothing=0.657933224657568)\u001b[0m\n",
      "\u001b[32m2023-10-22 10:50:48.121\u001b[0m | \u001b[1mINFO    \u001b[0m | \u001b[36m__main__\u001b[0m:\u001b[36mrun_pipeline_self\u001b[0m:\u001b[36m79\u001b[0m - \u001b[1m%92 - Running pipeline for row_seed: 42 and size_of_unlabelled_data: 0.9 and model: GaussianNB(var_smoothing=0.657933224657568)\u001b[0m\n",
      "\u001b[32m2023-10-22 10:50:48.133\u001b[0m | \u001b[1mINFO    \u001b[0m | \u001b[36m__main__\u001b[0m:\u001b[36mrun_pipeline_self\u001b[0m:\u001b[36m79\u001b[0m - \u001b[1m%93 - Running pipeline for row_seed: 206 and size_of_unlabelled_data: 0.9 and model: GaussianNB(var_smoothing=0.657933224657568)\u001b[0m\n",
      "\u001b[32m2023-10-22 10:50:48.148\u001b[0m | \u001b[1mINFO    \u001b[0m | \u001b[36m__main__\u001b[0m:\u001b[36mrun_pipeline_self\u001b[0m:\u001b[36m79\u001b[0m - \u001b[1m%94 - Running pipeline for row_seed: 602 and size_of_unlabelled_data: 0.9 and model: GaussianNB(var_smoothing=0.657933224657568)\u001b[0m\n",
      "\u001b[32m2023-10-22 10:50:48.163\u001b[0m | \u001b[1mINFO    \u001b[0m | \u001b[36m__main__\u001b[0m:\u001b[36mrun_pipeline_self\u001b[0m:\u001b[36m79\u001b[0m - \u001b[1m%95 - Running pipeline for row_seed: 412 and size_of_unlabelled_data: 0.9 and model: GaussianNB(var_smoothing=0.657933224657568)\u001b[0m\n",
      "\u001b[32m2023-10-22 10:50:48.176\u001b[0m | \u001b[1mINFO    \u001b[0m | \u001b[36m__main__\u001b[0m:\u001b[36mrun_pipeline_self\u001b[0m:\u001b[36m79\u001b[0m - \u001b[1m%96 - Running pipeline for row_seed: 214 and size_of_unlabelled_data: 0.9 and model: GaussianNB(var_smoothing=0.657933224657568)\u001b[0m\n",
      "\u001b[32m2023-10-22 10:50:48.190\u001b[0m | \u001b[1mINFO    \u001b[0m | \u001b[36m__main__\u001b[0m:\u001b[36mrun_pipeline_self\u001b[0m:\u001b[36m79\u001b[0m - \u001b[1m%97 - Running pipeline for row_seed: 754 and size_of_unlabelled_data: 0.9 and model: GaussianNB(var_smoothing=0.657933224657568)\u001b[0m\n",
      "\u001b[32m2023-10-22 10:50:48.204\u001b[0m | \u001b[1mINFO    \u001b[0m | \u001b[36m__main__\u001b[0m:\u001b[36mrun_pipeline_self\u001b[0m:\u001b[36m79\u001b[0m - \u001b[1m%98 - Running pipeline for row_seed: 457 and size_of_unlabelled_data: 0.9 and model: GaussianNB(var_smoothing=0.657933224657568)\u001b[0m\n",
      "\u001b[32m2023-10-22 10:50:48.223\u001b[0m | \u001b[1mINFO    \u001b[0m | \u001b[36m__main__\u001b[0m:\u001b[36mrun_pipeline_self\u001b[0m:\u001b[36m79\u001b[0m - \u001b[1m%99 - Running pipeline for row_seed: 2023 and size_of_unlabelled_data: 0.9 and model: GaussianNB(var_smoothing=0.657933224657568)\u001b[0m\n",
      "\u001b[32m2023-10-22 10:50:48.236\u001b[0m | \u001b[1mINFO    \u001b[0m | \u001b[36m__main__\u001b[0m:\u001b[36mrun_pipeline_self\u001b[0m:\u001b[36m79\u001b[0m - \u001b[1m%100 - Running pipeline for row_seed: 3202 and size_of_unlabelled_data: 0.9 and model: GaussianNB(var_smoothing=0.657933224657568)\u001b[0m\n",
      "\u001b[32m2023-10-22 10:50:48.252\u001b[0m | \u001b[1mINFO    \u001b[0m | \u001b[36m__main__\u001b[0m:\u001b[36mrun_pipeline_self\u001b[0m:\u001b[36m75\u001b[0m - \u001b[1mModel: DecisionTreeClassifier(criterion='entropy', max_depth=7, min_samples_leaf=6,\n",
      "                       min_samples_split=7)\u001b[0m\n",
      "\u001b[32m2023-10-22 10:50:48.253\u001b[0m | \u001b[1mINFO    \u001b[0m | \u001b[36m__main__\u001b[0m:\u001b[36mrun_pipeline_self\u001b[0m:\u001b[36m76\u001b[0m - \u001b[1mSize of unlabelled data: 0.1\u001b[0m\n",
      "\u001b[32m2023-10-22 10:50:48.253\u001b[0m | \u001b[1mINFO    \u001b[0m | \u001b[36m__main__\u001b[0m:\u001b[36mrun_pipeline_self\u001b[0m:\u001b[36m79\u001b[0m - \u001b[1m%101 - Running pipeline for row_seed: 24 and size_of_unlabelled_data: 0.1 and model: DecisionTreeClassifier(criterion='entropy', max_depth=7, min_samples_leaf=6,\n",
      "                       min_samples_split=7)\u001b[0m\n",
      "\u001b[32m2023-10-22 10:50:48.272\u001b[0m | \u001b[1mINFO    \u001b[0m | \u001b[36m__main__\u001b[0m:\u001b[36mrun_pipeline_self\u001b[0m:\u001b[36m79\u001b[0m - \u001b[1m%102 - Running pipeline for row_seed: 42 and size_of_unlabelled_data: 0.1 and model: DecisionTreeClassifier(criterion='entropy', max_depth=7, min_samples_leaf=6,\n",
      "                       min_samples_split=7)\u001b[0m\n",
      "\u001b[32m2023-10-22 10:50:48.289\u001b[0m | \u001b[1mINFO    \u001b[0m | \u001b[36m__main__\u001b[0m:\u001b[36mrun_pipeline_self\u001b[0m:\u001b[36m79\u001b[0m - \u001b[1m%103 - Running pipeline for row_seed: 206 and size_of_unlabelled_data: 0.1 and model: DecisionTreeClassifier(criterion='entropy', max_depth=7, min_samples_leaf=6,\n",
      "                       min_samples_split=7)\u001b[0m\n",
      "\u001b[32m2023-10-22 10:50:48.304\u001b[0m | \u001b[1mINFO    \u001b[0m | \u001b[36m__main__\u001b[0m:\u001b[36mrun_pipeline_self\u001b[0m:\u001b[36m79\u001b[0m - \u001b[1m%104 - Running pipeline for row_seed: 602 and size_of_unlabelled_data: 0.1 and model: DecisionTreeClassifier(criterion='entropy', max_depth=7, min_samples_leaf=6,\n",
      "                       min_samples_split=7)\u001b[0m\n"
     ]
    },
    {
     "name": "stdout",
     "output_type": "stream",
     "text": [
      "\n",
      "\n",
      "\n",
      "\n"
     ]
    },
    {
     "name": "stderr",
     "output_type": "stream",
     "text": [
      "\u001b[32m2023-10-22 10:50:48.321\u001b[0m | \u001b[1mINFO    \u001b[0m | \u001b[36m__main__\u001b[0m:\u001b[36mrun_pipeline_self\u001b[0m:\u001b[36m79\u001b[0m - \u001b[1m%105 - Running pipeline for row_seed: 412 and size_of_unlabelled_data: 0.1 and model: DecisionTreeClassifier(criterion='entropy', max_depth=7, min_samples_leaf=6,\n",
      "                       min_samples_split=7)\u001b[0m\n",
      "\u001b[32m2023-10-22 10:50:48.340\u001b[0m | \u001b[1mINFO    \u001b[0m | \u001b[36m__main__\u001b[0m:\u001b[36mrun_pipeline_self\u001b[0m:\u001b[36m79\u001b[0m - \u001b[1m%106 - Running pipeline for row_seed: 214 and size_of_unlabelled_data: 0.1 and model: DecisionTreeClassifier(criterion='entropy', max_depth=7, min_samples_leaf=6,\n",
      "                       min_samples_split=7)\u001b[0m\n",
      "\u001b[32m2023-10-22 10:50:48.356\u001b[0m | \u001b[1mINFO    \u001b[0m | \u001b[36m__main__\u001b[0m:\u001b[36mrun_pipeline_self\u001b[0m:\u001b[36m79\u001b[0m - \u001b[1m%107 - Running pipeline for row_seed: 754 and size_of_unlabelled_data: 0.1 and model: DecisionTreeClassifier(criterion='entropy', max_depth=7, min_samples_leaf=6,\n",
      "                       min_samples_split=7)\u001b[0m\n",
      "\u001b[32m2023-10-22 10:50:48.376\u001b[0m | \u001b[1mINFO    \u001b[0m | \u001b[36m__main__\u001b[0m:\u001b[36mrun_pipeline_self\u001b[0m:\u001b[36m79\u001b[0m - \u001b[1m%108 - Running pipeline for row_seed: 457 and size_of_unlabelled_data: 0.1 and model: DecisionTreeClassifier(criterion='entropy', max_depth=7, min_samples_leaf=6,\n",
      "                       min_samples_split=7)\u001b[0m\n",
      "\u001b[32m2023-10-22 10:50:48.392\u001b[0m | \u001b[1mINFO    \u001b[0m | \u001b[36m__main__\u001b[0m:\u001b[36mrun_pipeline_self\u001b[0m:\u001b[36m79\u001b[0m - \u001b[1m%109 - Running pipeline for row_seed: 2023 and size_of_unlabelled_data: 0.1 and model: DecisionTreeClassifier(criterion='entropy', max_depth=7, min_samples_leaf=6,\n",
      "                       min_samples_split=7)\u001b[0m\n",
      "\u001b[32m2023-10-22 10:50:48.410\u001b[0m | \u001b[1mINFO    \u001b[0m | \u001b[36m__main__\u001b[0m:\u001b[36mrun_pipeline_self\u001b[0m:\u001b[36m79\u001b[0m - \u001b[1m%110 - Running pipeline for row_seed: 3202 and size_of_unlabelled_data: 0.1 and model: DecisionTreeClassifier(criterion='entropy', max_depth=7, min_samples_leaf=6,\n",
      "                       min_samples_split=7)\u001b[0m\n",
      "\u001b[32m2023-10-22 10:50:48.424\u001b[0m | \u001b[1mINFO    \u001b[0m | \u001b[36m__main__\u001b[0m:\u001b[36mrun_pipeline_self\u001b[0m:\u001b[36m75\u001b[0m - \u001b[1mModel: DecisionTreeClassifier(criterion='entropy', max_depth=7, min_samples_leaf=6,\n",
      "                       min_samples_split=7)\u001b[0m\n",
      "\u001b[32m2023-10-22 10:50:48.425\u001b[0m | \u001b[1mINFO    \u001b[0m | \u001b[36m__main__\u001b[0m:\u001b[36mrun_pipeline_self\u001b[0m:\u001b[36m76\u001b[0m - \u001b[1mSize of unlabelled data: 0.2\u001b[0m\n",
      "\u001b[32m2023-10-22 10:50:48.425\u001b[0m | \u001b[1mINFO    \u001b[0m | \u001b[36m__main__\u001b[0m:\u001b[36mrun_pipeline_self\u001b[0m:\u001b[36m79\u001b[0m - \u001b[1m%111 - Running pipeline for row_seed: 24 and size_of_unlabelled_data: 0.2 and model: DecisionTreeClassifier(criterion='entropy', max_depth=7, min_samples_leaf=6,\n",
      "                       min_samples_split=7)\u001b[0m\n",
      "\u001b[32m2023-10-22 10:50:48.442\u001b[0m | \u001b[1mINFO    \u001b[0m | \u001b[36m__main__\u001b[0m:\u001b[36mrun_pipeline_self\u001b[0m:\u001b[36m79\u001b[0m - \u001b[1m%112 - Running pipeline for row_seed: 42 and size_of_unlabelled_data: 0.2 and model: DecisionTreeClassifier(criterion='entropy', max_depth=7, min_samples_leaf=6,\n",
      "                       min_samples_split=7)\u001b[0m\n",
      "\u001b[32m2023-10-22 10:50:48.459\u001b[0m | \u001b[1mINFO    \u001b[0m | \u001b[36m__main__\u001b[0m:\u001b[36mrun_pipeline_self\u001b[0m:\u001b[36m79\u001b[0m - \u001b[1m%113 - Running pipeline for row_seed: 206 and size_of_unlabelled_data: 0.2 and model: DecisionTreeClassifier(criterion='entropy', max_depth=7, min_samples_leaf=6,\n",
      "                       min_samples_split=7)\u001b[0m\n",
      "\u001b[32m2023-10-22 10:50:48.475\u001b[0m | \u001b[1mINFO    \u001b[0m | \u001b[36m__main__\u001b[0m:\u001b[36mrun_pipeline_self\u001b[0m:\u001b[36m79\u001b[0m - \u001b[1m%114 - Running pipeline for row_seed: 602 and size_of_unlabelled_data: 0.2 and model: DecisionTreeClassifier(criterion='entropy', max_depth=7, min_samples_leaf=6,\n",
      "                       min_samples_split=7)\u001b[0m\n",
      "\u001b[32m2023-10-22 10:50:48.495\u001b[0m | \u001b[1mINFO    \u001b[0m | \u001b[36m__main__\u001b[0m:\u001b[36mrun_pipeline_self\u001b[0m:\u001b[36m79\u001b[0m - \u001b[1m%115 - Running pipeline for row_seed: 412 and size_of_unlabelled_data: 0.2 and model: DecisionTreeClassifier(criterion='entropy', max_depth=7, min_samples_leaf=6,\n",
      "                       min_samples_split=7)\u001b[0m\n",
      "\u001b[32m2023-10-22 10:50:48.514\u001b[0m | \u001b[1mINFO    \u001b[0m | \u001b[36m__main__\u001b[0m:\u001b[36mrun_pipeline_self\u001b[0m:\u001b[36m79\u001b[0m - \u001b[1m%116 - Running pipeline for row_seed: 214 and size_of_unlabelled_data: 0.2 and model: DecisionTreeClassifier(criterion='entropy', max_depth=7, min_samples_leaf=6,\n",
      "                       min_samples_split=7)\u001b[0m\n",
      "\u001b[32m2023-10-22 10:50:48.533\u001b[0m | \u001b[1mINFO    \u001b[0m | \u001b[36m__main__\u001b[0m:\u001b[36mrun_pipeline_self\u001b[0m:\u001b[36m79\u001b[0m - \u001b[1m%117 - Running pipeline for row_seed: 754 and size_of_unlabelled_data: 0.2 and model: DecisionTreeClassifier(criterion='entropy', max_depth=7, min_samples_leaf=6,\n",
      "                       min_samples_split=7)\u001b[0m\n",
      "\u001b[32m2023-10-22 10:50:48.546\u001b[0m | \u001b[1mINFO    \u001b[0m | \u001b[36m__main__\u001b[0m:\u001b[36mrun_pipeline_self\u001b[0m:\u001b[36m79\u001b[0m - \u001b[1m%118 - Running pipeline for row_seed: 457 and size_of_unlabelled_data: 0.2 and model: DecisionTreeClassifier(criterion='entropy', max_depth=7, min_samples_leaf=6,\n",
      "                       min_samples_split=7)\u001b[0m\n",
      "\u001b[32m2023-10-22 10:50:48.563\u001b[0m | \u001b[1mINFO    \u001b[0m | \u001b[36m__main__\u001b[0m:\u001b[36mrun_pipeline_self\u001b[0m:\u001b[36m79\u001b[0m - \u001b[1m%119 - Running pipeline for row_seed: 2023 and size_of_unlabelled_data: 0.2 and model: DecisionTreeClassifier(criterion='entropy', max_depth=7, min_samples_leaf=6,\n",
      "                       min_samples_split=7)\u001b[0m\n",
      "\u001b[32m2023-10-22 10:50:48.588\u001b[0m | \u001b[1mINFO    \u001b[0m | \u001b[36m__main__\u001b[0m:\u001b[36mrun_pipeline_self\u001b[0m:\u001b[36m79\u001b[0m - \u001b[1m%120 - Running pipeline for row_seed: 3202 and size_of_unlabelled_data: 0.2 and model: DecisionTreeClassifier(criterion='entropy', max_depth=7, min_samples_leaf=6,\n",
      "                       min_samples_split=7)\u001b[0m\n",
      "\u001b[32m2023-10-22 10:50:48.605\u001b[0m | \u001b[1mINFO    \u001b[0m | \u001b[36m__main__\u001b[0m:\u001b[36mrun_pipeline_self\u001b[0m:\u001b[36m75\u001b[0m - \u001b[1mModel: DecisionTreeClassifier(criterion='entropy', max_depth=7, min_samples_leaf=6,\n",
      "                       min_samples_split=7)\u001b[0m\n",
      "\u001b[32m2023-10-22 10:50:48.605\u001b[0m | \u001b[1mINFO    \u001b[0m | \u001b[36m__main__\u001b[0m:\u001b[36mrun_pipeline_self\u001b[0m:\u001b[36m76\u001b[0m - \u001b[1mSize of unlabelled data: 0.3\u001b[0m\n",
      "\u001b[32m2023-10-22 10:50:48.606\u001b[0m | \u001b[1mINFO    \u001b[0m | \u001b[36m__main__\u001b[0m:\u001b[36mrun_pipeline_self\u001b[0m:\u001b[36m79\u001b[0m - \u001b[1m%121 - Running pipeline for row_seed: 24 and size_of_unlabelled_data: 0.3 and model: DecisionTreeClassifier(criterion='entropy', max_depth=7, min_samples_leaf=6,\n",
      "                       min_samples_split=7)\u001b[0m\n",
      "\u001b[32m2023-10-22 10:50:48.623\u001b[0m | \u001b[1mINFO    \u001b[0m | \u001b[36m__main__\u001b[0m:\u001b[36mrun_pipeline_self\u001b[0m:\u001b[36m79\u001b[0m - \u001b[1m%122 - Running pipeline for row_seed: 42 and size_of_unlabelled_data: 0.3 and model: DecisionTreeClassifier(criterion='entropy', max_depth=7, min_samples_leaf=6,\n",
      "                       min_samples_split=7)\u001b[0m\n"
     ]
    },
    {
     "name": "stdout",
     "output_type": "stream",
     "text": [
      "\n",
      "\n",
      "\n",
      "\n"
     ]
    },
    {
     "name": "stderr",
     "output_type": "stream",
     "text": [
      "\u001b[32m2023-10-22 10:50:48.641\u001b[0m | \u001b[1mINFO    \u001b[0m | \u001b[36m__main__\u001b[0m:\u001b[36mrun_pipeline_self\u001b[0m:\u001b[36m79\u001b[0m - \u001b[1m%123 - Running pipeline for row_seed: 206 and size_of_unlabelled_data: 0.3 and model: DecisionTreeClassifier(criterion='entropy', max_depth=7, min_samples_leaf=6,\n",
      "                       min_samples_split=7)\u001b[0m\n",
      "\u001b[32m2023-10-22 10:50:48.658\u001b[0m | \u001b[1mINFO    \u001b[0m | \u001b[36m__main__\u001b[0m:\u001b[36mrun_pipeline_self\u001b[0m:\u001b[36m79\u001b[0m - \u001b[1m%124 - Running pipeline for row_seed: 602 and size_of_unlabelled_data: 0.3 and model: DecisionTreeClassifier(criterion='entropy', max_depth=7, min_samples_leaf=6,\n",
      "                       min_samples_split=7)\u001b[0m\n",
      "\u001b[32m2023-10-22 10:50:48.677\u001b[0m | \u001b[1mINFO    \u001b[0m | \u001b[36m__main__\u001b[0m:\u001b[36mrun_pipeline_self\u001b[0m:\u001b[36m79\u001b[0m - \u001b[1m%125 - Running pipeline for row_seed: 412 and size_of_unlabelled_data: 0.3 and model: DecisionTreeClassifier(criterion='entropy', max_depth=7, min_samples_leaf=6,\n",
      "                       min_samples_split=7)\u001b[0m\n",
      "\u001b[32m2023-10-22 10:50:48.695\u001b[0m | \u001b[1mINFO    \u001b[0m | \u001b[36m__main__\u001b[0m:\u001b[36mrun_pipeline_self\u001b[0m:\u001b[36m79\u001b[0m - \u001b[1m%126 - Running pipeline for row_seed: 214 and size_of_unlabelled_data: 0.3 and model: DecisionTreeClassifier(criterion='entropy', max_depth=7, min_samples_leaf=6,\n",
      "                       min_samples_split=7)\u001b[0m\n",
      "\u001b[32m2023-10-22 10:50:48.709\u001b[0m | \u001b[1mINFO    \u001b[0m | \u001b[36m__main__\u001b[0m:\u001b[36mrun_pipeline_self\u001b[0m:\u001b[36m79\u001b[0m - \u001b[1m%127 - Running pipeline for row_seed: 754 and size_of_unlabelled_data: 0.3 and model: DecisionTreeClassifier(criterion='entropy', max_depth=7, min_samples_leaf=6,\n",
      "                       min_samples_split=7)\u001b[0m\n",
      "\u001b[32m2023-10-22 10:50:48.724\u001b[0m | \u001b[1mINFO    \u001b[0m | \u001b[36m__main__\u001b[0m:\u001b[36mrun_pipeline_self\u001b[0m:\u001b[36m79\u001b[0m - \u001b[1m%128 - Running pipeline for row_seed: 457 and size_of_unlabelled_data: 0.3 and model: DecisionTreeClassifier(criterion='entropy', max_depth=7, min_samples_leaf=6,\n",
      "                       min_samples_split=7)\u001b[0m\n",
      "\u001b[32m2023-10-22 10:50:48.739\u001b[0m | \u001b[1mINFO    \u001b[0m | \u001b[36m__main__\u001b[0m:\u001b[36mrun_pipeline_self\u001b[0m:\u001b[36m79\u001b[0m - \u001b[1m%129 - Running pipeline for row_seed: 2023 and size_of_unlabelled_data: 0.3 and model: DecisionTreeClassifier(criterion='entropy', max_depth=7, min_samples_leaf=6,\n",
      "                       min_samples_split=7)\u001b[0m\n",
      "\u001b[32m2023-10-22 10:50:48.753\u001b[0m | \u001b[1mINFO    \u001b[0m | \u001b[36m__main__\u001b[0m:\u001b[36mrun_pipeline_self\u001b[0m:\u001b[36m79\u001b[0m - \u001b[1m%130 - Running pipeline for row_seed: 3202 and size_of_unlabelled_data: 0.3 and model: DecisionTreeClassifier(criterion='entropy', max_depth=7, min_samples_leaf=6,\n",
      "                       min_samples_split=7)\u001b[0m\n",
      "\u001b[32m2023-10-22 10:50:48.769\u001b[0m | \u001b[1mINFO    \u001b[0m | \u001b[36m__main__\u001b[0m:\u001b[36mrun_pipeline_self\u001b[0m:\u001b[36m75\u001b[0m - \u001b[1mModel: DecisionTreeClassifier(criterion='entropy', max_depth=7, min_samples_leaf=6,\n",
      "                       min_samples_split=7)\u001b[0m\n",
      "\u001b[32m2023-10-22 10:50:48.770\u001b[0m | \u001b[1mINFO    \u001b[0m | \u001b[36m__main__\u001b[0m:\u001b[36mrun_pipeline_self\u001b[0m:\u001b[36m76\u001b[0m - \u001b[1mSize of unlabelled data: 0.4\u001b[0m\n",
      "\u001b[32m2023-10-22 10:50:48.771\u001b[0m | \u001b[1mINFO    \u001b[0m | \u001b[36m__main__\u001b[0m:\u001b[36mrun_pipeline_self\u001b[0m:\u001b[36m79\u001b[0m - \u001b[1m%131 - Running pipeline for row_seed: 24 and size_of_unlabelled_data: 0.4 and model: DecisionTreeClassifier(criterion='entropy', max_depth=7, min_samples_leaf=6,\n",
      "                       min_samples_split=7)\u001b[0m\n",
      "\u001b[32m2023-10-22 10:50:48.791\u001b[0m | \u001b[1mINFO    \u001b[0m | \u001b[36m__main__\u001b[0m:\u001b[36mrun_pipeline_self\u001b[0m:\u001b[36m79\u001b[0m - \u001b[1m%132 - Running pipeline for row_seed: 42 and size_of_unlabelled_data: 0.4 and model: DecisionTreeClassifier(criterion='entropy', max_depth=7, min_samples_leaf=6,\n",
      "                       min_samples_split=7)\u001b[0m\n",
      "\u001b[32m2023-10-22 10:50:48.805\u001b[0m | \u001b[1mINFO    \u001b[0m | \u001b[36m__main__\u001b[0m:\u001b[36mrun_pipeline_self\u001b[0m:\u001b[36m79\u001b[0m - \u001b[1m%133 - Running pipeline for row_seed: 206 and size_of_unlabelled_data: 0.4 and model: DecisionTreeClassifier(criterion='entropy', max_depth=7, min_samples_leaf=6,\n",
      "                       min_samples_split=7)\u001b[0m\n",
      "\u001b[32m2023-10-22 10:50:48.826\u001b[0m | \u001b[1mINFO    \u001b[0m | \u001b[36m__main__\u001b[0m:\u001b[36mrun_pipeline_self\u001b[0m:\u001b[36m79\u001b[0m - \u001b[1m%134 - Running pipeline for row_seed: 602 and size_of_unlabelled_data: 0.4 and model: DecisionTreeClassifier(criterion='entropy', max_depth=7, min_samples_leaf=6,\n",
      "                       min_samples_split=7)\u001b[0m\n",
      "\u001b[32m2023-10-22 10:50:48.844\u001b[0m | \u001b[1mINFO    \u001b[0m | \u001b[36m__main__\u001b[0m:\u001b[36mrun_pipeline_self\u001b[0m:\u001b[36m79\u001b[0m - \u001b[1m%135 - Running pipeline for row_seed: 412 and size_of_unlabelled_data: 0.4 and model: DecisionTreeClassifier(criterion='entropy', max_depth=7, min_samples_leaf=6,\n",
      "                       min_samples_split=7)\u001b[0m\n",
      "\u001b[32m2023-10-22 10:50:48.860\u001b[0m | \u001b[1mINFO    \u001b[0m | \u001b[36m__main__\u001b[0m:\u001b[36mrun_pipeline_self\u001b[0m:\u001b[36m79\u001b[0m - \u001b[1m%136 - Running pipeline for row_seed: 214 and size_of_unlabelled_data: 0.4 and model: DecisionTreeClassifier(criterion='entropy', max_depth=7, min_samples_leaf=6,\n",
      "                       min_samples_split=7)\u001b[0m\n",
      "\u001b[32m2023-10-22 10:50:48.874\u001b[0m | \u001b[1mINFO    \u001b[0m | \u001b[36m__main__\u001b[0m:\u001b[36mrun_pipeline_self\u001b[0m:\u001b[36m79\u001b[0m - \u001b[1m%137 - Running pipeline for row_seed: 754 and size_of_unlabelled_data: 0.4 and model: DecisionTreeClassifier(criterion='entropy', max_depth=7, min_samples_leaf=6,\n",
      "                       min_samples_split=7)\u001b[0m\n",
      "\u001b[32m2023-10-22 10:50:48.890\u001b[0m | \u001b[1mINFO    \u001b[0m | \u001b[36m__main__\u001b[0m:\u001b[36mrun_pipeline_self\u001b[0m:\u001b[36m79\u001b[0m - \u001b[1m%138 - Running pipeline for row_seed: 457 and size_of_unlabelled_data: 0.4 and model: DecisionTreeClassifier(criterion='entropy', max_depth=7, min_samples_leaf=6,\n",
      "                       min_samples_split=7)\u001b[0m\n",
      "\u001b[32m2023-10-22 10:50:48.908\u001b[0m | \u001b[1mINFO    \u001b[0m | \u001b[36m__main__\u001b[0m:\u001b[36mrun_pipeline_self\u001b[0m:\u001b[36m79\u001b[0m - \u001b[1m%139 - Running pipeline for row_seed: 2023 and size_of_unlabelled_data: 0.4 and model: DecisionTreeClassifier(criterion='entropy', max_depth=7, min_samples_leaf=6,\n",
      "                       min_samples_split=7)\u001b[0m\n",
      "\u001b[32m2023-10-22 10:50:48.925\u001b[0m | \u001b[1mINFO    \u001b[0m | \u001b[36m__main__\u001b[0m:\u001b[36mrun_pipeline_self\u001b[0m:\u001b[36m79\u001b[0m - \u001b[1m%140 - Running pipeline for row_seed: 3202 and size_of_unlabelled_data: 0.4 and model: DecisionTreeClassifier(criterion='entropy', max_depth=7, min_samples_leaf=6,\n",
      "                       min_samples_split=7)\u001b[0m\n",
      "\u001b[32m2023-10-22 10:50:48.944\u001b[0m | \u001b[1mINFO    \u001b[0m | \u001b[36m__main__\u001b[0m:\u001b[36mrun_pipeline_self\u001b[0m:\u001b[36m75\u001b[0m - \u001b[1mModel: DecisionTreeClassifier(criterion='entropy', max_depth=7, min_samples_leaf=6,\n",
      "                       min_samples_split=7)\u001b[0m\n",
      "\u001b[32m2023-10-22 10:50:48.945\u001b[0m | \u001b[1mINFO    \u001b[0m | \u001b[36m__main__\u001b[0m:\u001b[36mrun_pipeline_self\u001b[0m:\u001b[36m76\u001b[0m - \u001b[1mSize of unlabelled data: 0.5\u001b[0m\n",
      "\u001b[32m2023-10-22 10:50:48.946\u001b[0m | \u001b[1mINFO    \u001b[0m | \u001b[36m__main__\u001b[0m:\u001b[36mrun_pipeline_self\u001b[0m:\u001b[36m79\u001b[0m - \u001b[1m%141 - Running pipeline for row_seed: 24 and size_of_unlabelled_data: 0.5 and model: DecisionTreeClassifier(criterion='entropy', max_depth=7, min_samples_leaf=6,\n",
      "                       min_samples_split=7)\u001b[0m\n",
      "\u001b[32m2023-10-22 10:50:48.969\u001b[0m | \u001b[1mINFO    \u001b[0m | \u001b[36m__main__\u001b[0m:\u001b[36mrun_pipeline_self\u001b[0m:\u001b[36m79\u001b[0m - \u001b[1m%142 - Running pipeline for row_seed: 42 and size_of_unlabelled_data: 0.5 and model: DecisionTreeClassifier(criterion='entropy', max_depth=7, min_samples_leaf=6,\n",
      "                       min_samples_split=7)\u001b[0m\n"
     ]
    },
    {
     "name": "stdout",
     "output_type": "stream",
     "text": [
      "\n",
      "\n",
      "\n",
      "\n"
     ]
    },
    {
     "name": "stderr",
     "output_type": "stream",
     "text": [
      "\u001b[32m2023-10-22 10:50:48.988\u001b[0m | \u001b[1mINFO    \u001b[0m | \u001b[36m__main__\u001b[0m:\u001b[36mrun_pipeline_self\u001b[0m:\u001b[36m79\u001b[0m - \u001b[1m%143 - Running pipeline for row_seed: 206 and size_of_unlabelled_data: 0.5 and model: DecisionTreeClassifier(criterion='entropy', max_depth=7, min_samples_leaf=6,\n",
      "                       min_samples_split=7)\u001b[0m\n",
      "\u001b[32m2023-10-22 10:50:49.009\u001b[0m | \u001b[1mINFO    \u001b[0m | \u001b[36m__main__\u001b[0m:\u001b[36mrun_pipeline_self\u001b[0m:\u001b[36m79\u001b[0m - \u001b[1m%144 - Running pipeline for row_seed: 602 and size_of_unlabelled_data: 0.5 and model: DecisionTreeClassifier(criterion='entropy', max_depth=7, min_samples_leaf=6,\n",
      "                       min_samples_split=7)\u001b[0m\n",
      "\u001b[32m2023-10-22 10:50:49.026\u001b[0m | \u001b[1mINFO    \u001b[0m | \u001b[36m__main__\u001b[0m:\u001b[36mrun_pipeline_self\u001b[0m:\u001b[36m79\u001b[0m - \u001b[1m%145 - Running pipeline for row_seed: 412 and size_of_unlabelled_data: 0.5 and model: DecisionTreeClassifier(criterion='entropy', max_depth=7, min_samples_leaf=6,\n",
      "                       min_samples_split=7)\u001b[0m\n",
      "\u001b[32m2023-10-22 10:50:49.044\u001b[0m | \u001b[1mINFO    \u001b[0m | \u001b[36m__main__\u001b[0m:\u001b[36mrun_pipeline_self\u001b[0m:\u001b[36m79\u001b[0m - \u001b[1m%146 - Running pipeline for row_seed: 214 and size_of_unlabelled_data: 0.5 and model: DecisionTreeClassifier(criterion='entropy', max_depth=7, min_samples_leaf=6,\n",
      "                       min_samples_split=7)\u001b[0m\n",
      "\u001b[32m2023-10-22 10:50:49.061\u001b[0m | \u001b[1mINFO    \u001b[0m | \u001b[36m__main__\u001b[0m:\u001b[36mrun_pipeline_self\u001b[0m:\u001b[36m79\u001b[0m - \u001b[1m%147 - Running pipeline for row_seed: 754 and size_of_unlabelled_data: 0.5 and model: DecisionTreeClassifier(criterion='entropy', max_depth=7, min_samples_leaf=6,\n",
      "                       min_samples_split=7)\u001b[0m\n",
      "\u001b[32m2023-10-22 10:50:49.076\u001b[0m | \u001b[1mINFO    \u001b[0m | \u001b[36m__main__\u001b[0m:\u001b[36mrun_pipeline_self\u001b[0m:\u001b[36m79\u001b[0m - \u001b[1m%148 - Running pipeline for row_seed: 457 and size_of_unlabelled_data: 0.5 and model: DecisionTreeClassifier(criterion='entropy', max_depth=7, min_samples_leaf=6,\n",
      "                       min_samples_split=7)\u001b[0m\n",
      "\u001b[32m2023-10-22 10:50:49.096\u001b[0m | \u001b[1mINFO    \u001b[0m | \u001b[36m__main__\u001b[0m:\u001b[36mrun_pipeline_self\u001b[0m:\u001b[36m79\u001b[0m - \u001b[1m%149 - Running pipeline for row_seed: 2023 and size_of_unlabelled_data: 0.5 and model: DecisionTreeClassifier(criterion='entropy', max_depth=7, min_samples_leaf=6,\n",
      "                       min_samples_split=7)\u001b[0m\n",
      "\u001b[32m2023-10-22 10:50:49.113\u001b[0m | \u001b[1mINFO    \u001b[0m | \u001b[36m__main__\u001b[0m:\u001b[36mrun_pipeline_self\u001b[0m:\u001b[36m79\u001b[0m - \u001b[1m%150 - Running pipeline for row_seed: 3202 and size_of_unlabelled_data: 0.5 and model: DecisionTreeClassifier(criterion='entropy', max_depth=7, min_samples_leaf=6,\n",
      "                       min_samples_split=7)\u001b[0m\n",
      "\u001b[32m2023-10-22 10:50:49.129\u001b[0m | \u001b[1mINFO    \u001b[0m | \u001b[36m__main__\u001b[0m:\u001b[36mrun_pipeline_self\u001b[0m:\u001b[36m75\u001b[0m - \u001b[1mModel: DecisionTreeClassifier(criterion='entropy', max_depth=7, min_samples_leaf=6,\n",
      "                       min_samples_split=7)\u001b[0m\n",
      "\u001b[32m2023-10-22 10:50:49.129\u001b[0m | \u001b[1mINFO    \u001b[0m | \u001b[36m__main__\u001b[0m:\u001b[36mrun_pipeline_self\u001b[0m:\u001b[36m76\u001b[0m - \u001b[1mSize of unlabelled data: 0.6\u001b[0m\n",
      "\u001b[32m2023-10-22 10:50:49.130\u001b[0m | \u001b[1mINFO    \u001b[0m | \u001b[36m__main__\u001b[0m:\u001b[36mrun_pipeline_self\u001b[0m:\u001b[36m79\u001b[0m - \u001b[1m%151 - Running pipeline for row_seed: 24 and size_of_unlabelled_data: 0.6 and model: DecisionTreeClassifier(criterion='entropy', max_depth=7, min_samples_leaf=6,\n",
      "                       min_samples_split=7)\u001b[0m\n",
      "\u001b[32m2023-10-22 10:50:49.150\u001b[0m | \u001b[1mINFO    \u001b[0m | \u001b[36m__main__\u001b[0m:\u001b[36mrun_pipeline_self\u001b[0m:\u001b[36m79\u001b[0m - \u001b[1m%152 - Running pipeline for row_seed: 42 and size_of_unlabelled_data: 0.6 and model: DecisionTreeClassifier(criterion='entropy', max_depth=7, min_samples_leaf=6,\n",
      "                       min_samples_split=7)\u001b[0m\n",
      "\u001b[32m2023-10-22 10:50:49.167\u001b[0m | \u001b[1mINFO    \u001b[0m | \u001b[36m__main__\u001b[0m:\u001b[36mrun_pipeline_self\u001b[0m:\u001b[36m79\u001b[0m - \u001b[1m%153 - Running pipeline for row_seed: 206 and size_of_unlabelled_data: 0.6 and model: DecisionTreeClassifier(criterion='entropy', max_depth=7, min_samples_leaf=6,\n",
      "                       min_samples_split=7)\u001b[0m\n",
      "\u001b[32m2023-10-22 10:50:49.183\u001b[0m | \u001b[1mINFO    \u001b[0m | \u001b[36m__main__\u001b[0m:\u001b[36mrun_pipeline_self\u001b[0m:\u001b[36m79\u001b[0m - \u001b[1m%154 - Running pipeline for row_seed: 602 and size_of_unlabelled_data: 0.6 and model: DecisionTreeClassifier(criterion='entropy', max_depth=7, min_samples_leaf=6,\n",
      "                       min_samples_split=7)\u001b[0m\n",
      "\u001b[32m2023-10-22 10:50:49.204\u001b[0m | \u001b[1mINFO    \u001b[0m | \u001b[36m__main__\u001b[0m:\u001b[36mrun_pipeline_self\u001b[0m:\u001b[36m79\u001b[0m - \u001b[1m%155 - Running pipeline for row_seed: 412 and size_of_unlabelled_data: 0.6 and model: DecisionTreeClassifier(criterion='entropy', max_depth=7, min_samples_leaf=6,\n",
      "                       min_samples_split=7)\u001b[0m\n",
      "\u001b[32m2023-10-22 10:50:49.222\u001b[0m | \u001b[1mINFO    \u001b[0m | \u001b[36m__main__\u001b[0m:\u001b[36mrun_pipeline_self\u001b[0m:\u001b[36m79\u001b[0m - \u001b[1m%156 - Running pipeline for row_seed: 214 and size_of_unlabelled_data: 0.6 and model: DecisionTreeClassifier(criterion='entropy', max_depth=7, min_samples_leaf=6,\n",
      "                       min_samples_split=7)\u001b[0m\n",
      "\u001b[32m2023-10-22 10:50:49.238\u001b[0m | \u001b[1mINFO    \u001b[0m | \u001b[36m__main__\u001b[0m:\u001b[36mrun_pipeline_self\u001b[0m:\u001b[36m79\u001b[0m - \u001b[1m%157 - Running pipeline for row_seed: 754 and size_of_unlabelled_data: 0.6 and model: DecisionTreeClassifier(criterion='entropy', max_depth=7, min_samples_leaf=6,\n",
      "                       min_samples_split=7)\u001b[0m\n",
      "\u001b[32m2023-10-22 10:50:49.256\u001b[0m | \u001b[1mINFO    \u001b[0m | \u001b[36m__main__\u001b[0m:\u001b[36mrun_pipeline_self\u001b[0m:\u001b[36m79\u001b[0m - \u001b[1m%158 - Running pipeline for row_seed: 457 and size_of_unlabelled_data: 0.6 and model: DecisionTreeClassifier(criterion='entropy', max_depth=7, min_samples_leaf=6,\n",
      "                       min_samples_split=7)\u001b[0m\n",
      "\u001b[32m2023-10-22 10:50:49.271\u001b[0m | \u001b[1mINFO    \u001b[0m | \u001b[36m__main__\u001b[0m:\u001b[36mrun_pipeline_self\u001b[0m:\u001b[36m79\u001b[0m - \u001b[1m%159 - Running pipeline for row_seed: 2023 and size_of_unlabelled_data: 0.6 and model: DecisionTreeClassifier(criterion='entropy', max_depth=7, min_samples_leaf=6,\n",
      "                       min_samples_split=7)\u001b[0m\n",
      "\u001b[32m2023-10-22 10:50:49.288\u001b[0m | \u001b[1mINFO    \u001b[0m | \u001b[36m__main__\u001b[0m:\u001b[36mrun_pipeline_self\u001b[0m:\u001b[36m79\u001b[0m - \u001b[1m%160 - Running pipeline for row_seed: 3202 and size_of_unlabelled_data: 0.6 and model: DecisionTreeClassifier(criterion='entropy', max_depth=7, min_samples_leaf=6,\n",
      "                       min_samples_split=7)\u001b[0m\n",
      "\u001b[32m2023-10-22 10:50:49.309\u001b[0m | \u001b[1mINFO    \u001b[0m | \u001b[36m__main__\u001b[0m:\u001b[36mrun_pipeline_self\u001b[0m:\u001b[36m75\u001b[0m - \u001b[1mModel: DecisionTreeClassifier(criterion='entropy', max_depth=7, min_samples_leaf=6,\n",
      "                       min_samples_split=7)\u001b[0m\n",
      "\u001b[32m2023-10-22 10:50:49.310\u001b[0m | \u001b[1mINFO    \u001b[0m | \u001b[36m__main__\u001b[0m:\u001b[36mrun_pipeline_self\u001b[0m:\u001b[36m76\u001b[0m - \u001b[1mSize of unlabelled data: 0.7\u001b[0m\n",
      "\u001b[32m2023-10-22 10:50:49.310\u001b[0m | \u001b[1mINFO    \u001b[0m | \u001b[36m__main__\u001b[0m:\u001b[36mrun_pipeline_self\u001b[0m:\u001b[36m79\u001b[0m - \u001b[1m%161 - Running pipeline for row_seed: 24 and size_of_unlabelled_data: 0.7 and model: DecisionTreeClassifier(criterion='entropy', max_depth=7, min_samples_leaf=6,\n",
      "                       min_samples_split=7)\u001b[0m\n",
      "\u001b[32m2023-10-22 10:50:49.326\u001b[0m | \u001b[1mINFO    \u001b[0m | \u001b[36m__main__\u001b[0m:\u001b[36mrun_pipeline_self\u001b[0m:\u001b[36m79\u001b[0m - \u001b[1m%162 - Running pipeline for row_seed: 42 and size_of_unlabelled_data: 0.7 and model: DecisionTreeClassifier(criterion='entropy', max_depth=7, min_samples_leaf=6,\n",
      "                       min_samples_split=7)\u001b[0m\n"
     ]
    },
    {
     "name": "stdout",
     "output_type": "stream",
     "text": [
      "\n",
      "\n",
      "\n",
      "\n"
     ]
    },
    {
     "name": "stderr",
     "output_type": "stream",
     "text": [
      "\u001b[32m2023-10-22 10:50:49.341\u001b[0m | \u001b[1mINFO    \u001b[0m | \u001b[36m__main__\u001b[0m:\u001b[36mrun_pipeline_self\u001b[0m:\u001b[36m79\u001b[0m - \u001b[1m%163 - Running pipeline for row_seed: 206 and size_of_unlabelled_data: 0.7 and model: DecisionTreeClassifier(criterion='entropy', max_depth=7, min_samples_leaf=6,\n",
      "                       min_samples_split=7)\u001b[0m\n",
      "\u001b[32m2023-10-22 10:50:49.356\u001b[0m | \u001b[1mINFO    \u001b[0m | \u001b[36m__main__\u001b[0m:\u001b[36mrun_pipeline_self\u001b[0m:\u001b[36m79\u001b[0m - \u001b[1m%164 - Running pipeline for row_seed: 602 and size_of_unlabelled_data: 0.7 and model: DecisionTreeClassifier(criterion='entropy', max_depth=7, min_samples_leaf=6,\n",
      "                       min_samples_split=7)\u001b[0m\n",
      "\u001b[32m2023-10-22 10:50:49.377\u001b[0m | \u001b[1mINFO    \u001b[0m | \u001b[36m__main__\u001b[0m:\u001b[36mrun_pipeline_self\u001b[0m:\u001b[36m79\u001b[0m - \u001b[1m%165 - Running pipeline for row_seed: 412 and size_of_unlabelled_data: 0.7 and model: DecisionTreeClassifier(criterion='entropy', max_depth=7, min_samples_leaf=6,\n",
      "                       min_samples_split=7)\u001b[0m\n",
      "\u001b[32m2023-10-22 10:50:49.395\u001b[0m | \u001b[1mINFO    \u001b[0m | \u001b[36m__main__\u001b[0m:\u001b[36mrun_pipeline_self\u001b[0m:\u001b[36m79\u001b[0m - \u001b[1m%166 - Running pipeline for row_seed: 214 and size_of_unlabelled_data: 0.7 and model: DecisionTreeClassifier(criterion='entropy', max_depth=7, min_samples_leaf=6,\n",
      "                       min_samples_split=7)\u001b[0m\n",
      "\u001b[32m2023-10-22 10:50:49.412\u001b[0m | \u001b[1mINFO    \u001b[0m | \u001b[36m__main__\u001b[0m:\u001b[36mrun_pipeline_self\u001b[0m:\u001b[36m79\u001b[0m - \u001b[1m%167 - Running pipeline for row_seed: 754 and size_of_unlabelled_data: 0.7 and model: DecisionTreeClassifier(criterion='entropy', max_depth=7, min_samples_leaf=6,\n",
      "                       min_samples_split=7)\u001b[0m\n",
      "\u001b[32m2023-10-22 10:50:49.425\u001b[0m | \u001b[1mINFO    \u001b[0m | \u001b[36m__main__\u001b[0m:\u001b[36mrun_pipeline_self\u001b[0m:\u001b[36m79\u001b[0m - \u001b[1m%168 - Running pipeline for row_seed: 457 and size_of_unlabelled_data: 0.7 and model: DecisionTreeClassifier(criterion='entropy', max_depth=7, min_samples_leaf=6,\n",
      "                       min_samples_split=7)\u001b[0m\n",
      "\u001b[32m2023-10-22 10:50:49.445\u001b[0m | \u001b[1mINFO    \u001b[0m | \u001b[36m__main__\u001b[0m:\u001b[36mrun_pipeline_self\u001b[0m:\u001b[36m79\u001b[0m - \u001b[1m%169 - Running pipeline for row_seed: 2023 and size_of_unlabelled_data: 0.7 and model: DecisionTreeClassifier(criterion='entropy', max_depth=7, min_samples_leaf=6,\n",
      "                       min_samples_split=7)\u001b[0m\n",
      "\u001b[32m2023-10-22 10:50:49.464\u001b[0m | \u001b[1mINFO    \u001b[0m | \u001b[36m__main__\u001b[0m:\u001b[36mrun_pipeline_self\u001b[0m:\u001b[36m79\u001b[0m - \u001b[1m%170 - Running pipeline for row_seed: 3202 and size_of_unlabelled_data: 0.7 and model: DecisionTreeClassifier(criterion='entropy', max_depth=7, min_samples_leaf=6,\n",
      "                       min_samples_split=7)\u001b[0m\n",
      "\u001b[32m2023-10-22 10:50:49.478\u001b[0m | \u001b[1mINFO    \u001b[0m | \u001b[36m__main__\u001b[0m:\u001b[36mrun_pipeline_self\u001b[0m:\u001b[36m75\u001b[0m - \u001b[1mModel: DecisionTreeClassifier(criterion='entropy', max_depth=7, min_samples_leaf=6,\n",
      "                       min_samples_split=7)\u001b[0m\n",
      "\u001b[32m2023-10-22 10:50:49.479\u001b[0m | \u001b[1mINFO    \u001b[0m | \u001b[36m__main__\u001b[0m:\u001b[36mrun_pipeline_self\u001b[0m:\u001b[36m76\u001b[0m - \u001b[1mSize of unlabelled data: 0.8\u001b[0m\n",
      "\u001b[32m2023-10-22 10:50:49.479\u001b[0m | \u001b[1mINFO    \u001b[0m | \u001b[36m__main__\u001b[0m:\u001b[36mrun_pipeline_self\u001b[0m:\u001b[36m79\u001b[0m - \u001b[1m%171 - Running pipeline for row_seed: 24 and size_of_unlabelled_data: 0.8 and model: DecisionTreeClassifier(criterion='entropy', max_depth=7, min_samples_leaf=6,\n",
      "                       min_samples_split=7)\u001b[0m\n",
      "\u001b[32m2023-10-22 10:50:49.497\u001b[0m | \u001b[1mINFO    \u001b[0m | \u001b[36m__main__\u001b[0m:\u001b[36mrun_pipeline_self\u001b[0m:\u001b[36m79\u001b[0m - \u001b[1m%172 - Running pipeline for row_seed: 42 and size_of_unlabelled_data: 0.8 and model: DecisionTreeClassifier(criterion='entropy', max_depth=7, min_samples_leaf=6,\n",
      "                       min_samples_split=7)\u001b[0m\n",
      "\u001b[32m2023-10-22 10:50:49.516\u001b[0m | \u001b[1mINFO    \u001b[0m | \u001b[36m__main__\u001b[0m:\u001b[36mrun_pipeline_self\u001b[0m:\u001b[36m79\u001b[0m - \u001b[1m%173 - Running pipeline for row_seed: 206 and size_of_unlabelled_data: 0.8 and model: DecisionTreeClassifier(criterion='entropy', max_depth=7, min_samples_leaf=6,\n",
      "                       min_samples_split=7)\u001b[0m\n",
      "\u001b[32m2023-10-22 10:50:49.533\u001b[0m | \u001b[1mINFO    \u001b[0m | \u001b[36m__main__\u001b[0m:\u001b[36mrun_pipeline_self\u001b[0m:\u001b[36m79\u001b[0m - \u001b[1m%174 - Running pipeline for row_seed: 602 and size_of_unlabelled_data: 0.8 and model: DecisionTreeClassifier(criterion='entropy', max_depth=7, min_samples_leaf=6,\n",
      "                       min_samples_split=7)\u001b[0m\n",
      "\u001b[32m2023-10-22 10:50:49.547\u001b[0m | \u001b[1mINFO    \u001b[0m | \u001b[36m__main__\u001b[0m:\u001b[36mrun_pipeline_self\u001b[0m:\u001b[36m79\u001b[0m - \u001b[1m%175 - Running pipeline for row_seed: 412 and size_of_unlabelled_data: 0.8 and model: DecisionTreeClassifier(criterion='entropy', max_depth=7, min_samples_leaf=6,\n",
      "                       min_samples_split=7)\u001b[0m\n",
      "\u001b[32m2023-10-22 10:50:49.565\u001b[0m | \u001b[1mINFO    \u001b[0m | \u001b[36m__main__\u001b[0m:\u001b[36mrun_pipeline_self\u001b[0m:\u001b[36m79\u001b[0m - \u001b[1m%176 - Running pipeline for row_seed: 214 and size_of_unlabelled_data: 0.8 and model: DecisionTreeClassifier(criterion='entropy', max_depth=7, min_samples_leaf=6,\n",
      "                       min_samples_split=7)\u001b[0m\n",
      "\u001b[32m2023-10-22 10:50:49.578\u001b[0m | \u001b[1mINFO    \u001b[0m | \u001b[36m__main__\u001b[0m:\u001b[36mrun_pipeline_self\u001b[0m:\u001b[36m79\u001b[0m - \u001b[1m%177 - Running pipeline for row_seed: 754 and size_of_unlabelled_data: 0.8 and model: DecisionTreeClassifier(criterion='entropy', max_depth=7, min_samples_leaf=6,\n",
      "                       min_samples_split=7)\u001b[0m\n",
      "\u001b[32m2023-10-22 10:50:49.594\u001b[0m | \u001b[1mINFO    \u001b[0m | \u001b[36m__main__\u001b[0m:\u001b[36mrun_pipeline_self\u001b[0m:\u001b[36m79\u001b[0m - \u001b[1m%178 - Running pipeline for row_seed: 457 and size_of_unlabelled_data: 0.8 and model: DecisionTreeClassifier(criterion='entropy', max_depth=7, min_samples_leaf=6,\n",
      "                       min_samples_split=7)\u001b[0m\n",
      "\u001b[32m2023-10-22 10:50:49.611\u001b[0m | \u001b[1mINFO    \u001b[0m | \u001b[36m__main__\u001b[0m:\u001b[36mrun_pipeline_self\u001b[0m:\u001b[36m79\u001b[0m - \u001b[1m%179 - Running pipeline for row_seed: 2023 and size_of_unlabelled_data: 0.8 and model: DecisionTreeClassifier(criterion='entropy', max_depth=7, min_samples_leaf=6,\n",
      "                       min_samples_split=7)\u001b[0m\n",
      "\u001b[32m2023-10-22 10:50:49.625\u001b[0m | \u001b[1mINFO    \u001b[0m | \u001b[36m__main__\u001b[0m:\u001b[36mrun_pipeline_self\u001b[0m:\u001b[36m79\u001b[0m - \u001b[1m%180 - Running pipeline for row_seed: 3202 and size_of_unlabelled_data: 0.8 and model: DecisionTreeClassifier(criterion='entropy', max_depth=7, min_samples_leaf=6,\n",
      "                       min_samples_split=7)\u001b[0m\n",
      "\u001b[32m2023-10-22 10:50:49.637\u001b[0m | \u001b[1mINFO    \u001b[0m | \u001b[36m__main__\u001b[0m:\u001b[36mrun_pipeline_self\u001b[0m:\u001b[36m75\u001b[0m - \u001b[1mModel: DecisionTreeClassifier(criterion='entropy', max_depth=7, min_samples_leaf=6,\n",
      "                       min_samples_split=7)\u001b[0m\n",
      "\u001b[32m2023-10-22 10:50:49.638\u001b[0m | \u001b[1mINFO    \u001b[0m | \u001b[36m__main__\u001b[0m:\u001b[36mrun_pipeline_self\u001b[0m:\u001b[36m76\u001b[0m - \u001b[1mSize of unlabelled data: 0.85\u001b[0m\n",
      "\u001b[32m2023-10-22 10:50:49.639\u001b[0m | \u001b[1mINFO    \u001b[0m | \u001b[36m__main__\u001b[0m:\u001b[36mrun_pipeline_self\u001b[0m:\u001b[36m79\u001b[0m - \u001b[1m%181 - Running pipeline for row_seed: 24 and size_of_unlabelled_data: 0.85 and model: DecisionTreeClassifier(criterion='entropy', max_depth=7, min_samples_leaf=6,\n",
      "                       min_samples_split=7)\u001b[0m\n",
      "\u001b[32m2023-10-22 10:50:49.654\u001b[0m | \u001b[1mINFO    \u001b[0m | \u001b[36m__main__\u001b[0m:\u001b[36mrun_pipeline_self\u001b[0m:\u001b[36m79\u001b[0m - \u001b[1m%182 - Running pipeline for row_seed: 42 and size_of_unlabelled_data: 0.85 and model: DecisionTreeClassifier(criterion='entropy', max_depth=7, min_samples_leaf=6,\n",
      "                       min_samples_split=7)\u001b[0m\n",
      "\u001b[32m2023-10-22 10:50:49.667\u001b[0m | \u001b[1mINFO    \u001b[0m | \u001b[36m__main__\u001b[0m:\u001b[36mrun_pipeline_self\u001b[0m:\u001b[36m79\u001b[0m - \u001b[1m%183 - Running pipeline for row_seed: 206 and size_of_unlabelled_data: 0.85 and model: DecisionTreeClassifier(criterion='entropy', max_depth=7, min_samples_leaf=6,\n",
      "                       min_samples_split=7)\u001b[0m\n"
     ]
    },
    {
     "name": "stdout",
     "output_type": "stream",
     "text": [
      "\n",
      "\n",
      "\n",
      "\n"
     ]
    },
    {
     "name": "stderr",
     "output_type": "stream",
     "text": [
      "\u001b[32m2023-10-22 10:50:49.682\u001b[0m | \u001b[1mINFO    \u001b[0m | \u001b[36m__main__\u001b[0m:\u001b[36mrun_pipeline_self\u001b[0m:\u001b[36m79\u001b[0m - \u001b[1m%184 - Running pipeline for row_seed: 602 and size_of_unlabelled_data: 0.85 and model: DecisionTreeClassifier(criterion='entropy', max_depth=7, min_samples_leaf=6,\n",
      "                       min_samples_split=7)\u001b[0m\n",
      "\u001b[32m2023-10-22 10:50:49.701\u001b[0m | \u001b[1mINFO    \u001b[0m | \u001b[36m__main__\u001b[0m:\u001b[36mrun_pipeline_self\u001b[0m:\u001b[36m79\u001b[0m - \u001b[1m%185 - Running pipeline for row_seed: 412 and size_of_unlabelled_data: 0.85 and model: DecisionTreeClassifier(criterion='entropy', max_depth=7, min_samples_leaf=6,\n",
      "                       min_samples_split=7)\u001b[0m\n",
      "\u001b[32m2023-10-22 10:50:49.717\u001b[0m | \u001b[1mINFO    \u001b[0m | \u001b[36m__main__\u001b[0m:\u001b[36mrun_pipeline_self\u001b[0m:\u001b[36m79\u001b[0m - \u001b[1m%186 - Running pipeline for row_seed: 214 and size_of_unlabelled_data: 0.85 and model: DecisionTreeClassifier(criterion='entropy', max_depth=7, min_samples_leaf=6,\n",
      "                       min_samples_split=7)\u001b[0m\n",
      "\u001b[32m2023-10-22 10:50:49.731\u001b[0m | \u001b[1mINFO    \u001b[0m | \u001b[36m__main__\u001b[0m:\u001b[36mrun_pipeline_self\u001b[0m:\u001b[36m79\u001b[0m - \u001b[1m%187 - Running pipeline for row_seed: 754 and size_of_unlabelled_data: 0.85 and model: DecisionTreeClassifier(criterion='entropy', max_depth=7, min_samples_leaf=6,\n",
      "                       min_samples_split=7)\u001b[0m\n",
      "\u001b[32m2023-10-22 10:50:49.745\u001b[0m | \u001b[1mINFO    \u001b[0m | \u001b[36m__main__\u001b[0m:\u001b[36mrun_pipeline_self\u001b[0m:\u001b[36m79\u001b[0m - \u001b[1m%188 - Running pipeline for row_seed: 457 and size_of_unlabelled_data: 0.85 and model: DecisionTreeClassifier(criterion='entropy', max_depth=7, min_samples_leaf=6,\n",
      "                       min_samples_split=7)\u001b[0m\n",
      "\u001b[32m2023-10-22 10:50:49.761\u001b[0m | \u001b[1mINFO    \u001b[0m | \u001b[36m__main__\u001b[0m:\u001b[36mrun_pipeline_self\u001b[0m:\u001b[36m79\u001b[0m - \u001b[1m%189 - Running pipeline for row_seed: 2023 and size_of_unlabelled_data: 0.85 and model: DecisionTreeClassifier(criterion='entropy', max_depth=7, min_samples_leaf=6,\n",
      "                       min_samples_split=7)\u001b[0m\n",
      "\u001b[32m2023-10-22 10:50:49.775\u001b[0m | \u001b[1mINFO    \u001b[0m | \u001b[36m__main__\u001b[0m:\u001b[36mrun_pipeline_self\u001b[0m:\u001b[36m79\u001b[0m - \u001b[1m%190 - Running pipeline for row_seed: 3202 and size_of_unlabelled_data: 0.85 and model: DecisionTreeClassifier(criterion='entropy', max_depth=7, min_samples_leaf=6,\n",
      "                       min_samples_split=7)\u001b[0m\n",
      "\u001b[32m2023-10-22 10:50:49.789\u001b[0m | \u001b[1mINFO    \u001b[0m | \u001b[36m__main__\u001b[0m:\u001b[36mrun_pipeline_self\u001b[0m:\u001b[36m75\u001b[0m - \u001b[1mModel: DecisionTreeClassifier(criterion='entropy', max_depth=7, min_samples_leaf=6,\n",
      "                       min_samples_split=7)\u001b[0m\n",
      "\u001b[32m2023-10-22 10:50:49.789\u001b[0m | \u001b[1mINFO    \u001b[0m | \u001b[36m__main__\u001b[0m:\u001b[36mrun_pipeline_self\u001b[0m:\u001b[36m76\u001b[0m - \u001b[1mSize of unlabelled data: 0.9\u001b[0m\n",
      "\u001b[32m2023-10-22 10:50:49.790\u001b[0m | \u001b[1mINFO    \u001b[0m | \u001b[36m__main__\u001b[0m:\u001b[36mrun_pipeline_self\u001b[0m:\u001b[36m79\u001b[0m - \u001b[1m%191 - Running pipeline for row_seed: 24 and size_of_unlabelled_data: 0.9 and model: DecisionTreeClassifier(criterion='entropy', max_depth=7, min_samples_leaf=6,\n",
      "                       min_samples_split=7)\u001b[0m\n",
      "\u001b[32m2023-10-22 10:50:49.804\u001b[0m | \u001b[1mINFO    \u001b[0m | \u001b[36m__main__\u001b[0m:\u001b[36mrun_pipeline_self\u001b[0m:\u001b[36m79\u001b[0m - \u001b[1m%192 - Running pipeline for row_seed: 42 and size_of_unlabelled_data: 0.9 and model: DecisionTreeClassifier(criterion='entropy', max_depth=7, min_samples_leaf=6,\n",
      "                       min_samples_split=7)\u001b[0m\n",
      "\u001b[32m2023-10-22 10:50:49.819\u001b[0m | \u001b[1mINFO    \u001b[0m | \u001b[36m__main__\u001b[0m:\u001b[36mrun_pipeline_self\u001b[0m:\u001b[36m79\u001b[0m - \u001b[1m%193 - Running pipeline for row_seed: 206 and size_of_unlabelled_data: 0.9 and model: DecisionTreeClassifier(criterion='entropy', max_depth=7, min_samples_leaf=6,\n",
      "                       min_samples_split=7)\u001b[0m\n",
      "\u001b[32m2023-10-22 10:50:49.833\u001b[0m | \u001b[1mINFO    \u001b[0m | \u001b[36m__main__\u001b[0m:\u001b[36mrun_pipeline_self\u001b[0m:\u001b[36m79\u001b[0m - \u001b[1m%194 - Running pipeline for row_seed: 602 and size_of_unlabelled_data: 0.9 and model: DecisionTreeClassifier(criterion='entropy', max_depth=7, min_samples_leaf=6,\n",
      "                       min_samples_split=7)\u001b[0m\n",
      "\u001b[32m2023-10-22 10:50:49.846\u001b[0m | \u001b[1mINFO    \u001b[0m | \u001b[36m__main__\u001b[0m:\u001b[36mrun_pipeline_self\u001b[0m:\u001b[36m79\u001b[0m - \u001b[1m%195 - Running pipeline for row_seed: 412 and size_of_unlabelled_data: 0.9 and model: DecisionTreeClassifier(criterion='entropy', max_depth=7, min_samples_leaf=6,\n",
      "                       min_samples_split=7)\u001b[0m\n",
      "\u001b[32m2023-10-22 10:50:49.861\u001b[0m | \u001b[1mINFO    \u001b[0m | \u001b[36m__main__\u001b[0m:\u001b[36mrun_pipeline_self\u001b[0m:\u001b[36m79\u001b[0m - \u001b[1m%196 - Running pipeline for row_seed: 214 and size_of_unlabelled_data: 0.9 and model: DecisionTreeClassifier(criterion='entropy', max_depth=7, min_samples_leaf=6,\n",
      "                       min_samples_split=7)\u001b[0m\n",
      "\u001b[32m2023-10-22 10:50:49.876\u001b[0m | \u001b[1mINFO    \u001b[0m | \u001b[36m__main__\u001b[0m:\u001b[36mrun_pipeline_self\u001b[0m:\u001b[36m79\u001b[0m - \u001b[1m%197 - Running pipeline for row_seed: 754 and size_of_unlabelled_data: 0.9 and model: DecisionTreeClassifier(criterion='entropy', max_depth=7, min_samples_leaf=6,\n",
      "                       min_samples_split=7)\u001b[0m\n",
      "\u001b[32m2023-10-22 10:50:49.889\u001b[0m | \u001b[1mINFO    \u001b[0m | \u001b[36m__main__\u001b[0m:\u001b[36mrun_pipeline_self\u001b[0m:\u001b[36m79\u001b[0m - \u001b[1m%198 - Running pipeline for row_seed: 457 and size_of_unlabelled_data: 0.9 and model: DecisionTreeClassifier(criterion='entropy', max_depth=7, min_samples_leaf=6,\n",
      "                       min_samples_split=7)\u001b[0m\n",
      "\u001b[32m2023-10-22 10:50:49.901\u001b[0m | \u001b[1mINFO    \u001b[0m | \u001b[36m__main__\u001b[0m:\u001b[36mrun_pipeline_self\u001b[0m:\u001b[36m79\u001b[0m - \u001b[1m%199 - Running pipeline for row_seed: 2023 and size_of_unlabelled_data: 0.9 and model: DecisionTreeClassifier(criterion='entropy', max_depth=7, min_samples_leaf=6,\n",
      "                       min_samples_split=7)\u001b[0m\n",
      "\u001b[32m2023-10-22 10:50:49.915\u001b[0m | \u001b[1mINFO    \u001b[0m | \u001b[36m__main__\u001b[0m:\u001b[36mrun_pipeline_self\u001b[0m:\u001b[36m79\u001b[0m - \u001b[1m%200 - Running pipeline for row_seed: 3202 and size_of_unlabelled_data: 0.9 and model: DecisionTreeClassifier(criterion='entropy', max_depth=7, min_samples_leaf=6,\n",
      "                       min_samples_split=7)\u001b[0m\n",
      "\u001b[32m2023-10-22 10:50:49.928\u001b[0m | \u001b[1mINFO    \u001b[0m | \u001b[36m__main__\u001b[0m:\u001b[36mrun_pipeline_self\u001b[0m:\u001b[36m75\u001b[0m - \u001b[1mModel: KNeighborsClassifier(metric='euclidean', weights='distance')\u001b[0m\n",
      "\u001b[32m2023-10-22 10:50:49.929\u001b[0m | \u001b[1mINFO    \u001b[0m | \u001b[36m__main__\u001b[0m:\u001b[36mrun_pipeline_self\u001b[0m:\u001b[36m76\u001b[0m - \u001b[1mSize of unlabelled data: 0.1\u001b[0m\n",
      "\u001b[32m2023-10-22 10:50:49.929\u001b[0m | \u001b[1mINFO    \u001b[0m | \u001b[36m__main__\u001b[0m:\u001b[36mrun_pipeline_self\u001b[0m:\u001b[36m79\u001b[0m - \u001b[1m%201 - Running pipeline for row_seed: 24 and size_of_unlabelled_data: 0.1 and model: KNeighborsClassifier(metric='euclidean', weights='distance')\u001b[0m\n",
      "\u001b[32m2023-10-22 10:50:49.942\u001b[0m | \u001b[1mINFO    \u001b[0m | \u001b[36m__main__\u001b[0m:\u001b[36mrun_pipeline_self\u001b[0m:\u001b[36m79\u001b[0m - \u001b[1m%202 - Running pipeline for row_seed: 42 and size_of_unlabelled_data: 0.1 and model: KNeighborsClassifier(metric='euclidean', weights='distance')\u001b[0m\n",
      "\u001b[32m2023-10-22 10:50:49.955\u001b[0m | \u001b[1mINFO    \u001b[0m | \u001b[36m__main__\u001b[0m:\u001b[36mrun_pipeline_self\u001b[0m:\u001b[36m79\u001b[0m - \u001b[1m%203 - Running pipeline for row_seed: 206 and size_of_unlabelled_data: 0.1 and model: KNeighborsClassifier(metric='euclidean', weights='distance')\u001b[0m\n",
      "\u001b[32m2023-10-22 10:50:49.970\u001b[0m | \u001b[1mINFO    \u001b[0m | \u001b[36m__main__\u001b[0m:\u001b[36mrun_pipeline_self\u001b[0m:\u001b[36m79\u001b[0m - \u001b[1m%204 - Running pipeline for row_seed: 602 and size_of_unlabelled_data: 0.1 and model: KNeighborsClassifier(metric='euclidean', weights='distance')\u001b[0m\n",
      "\u001b[32m2023-10-22 10:50:49.983\u001b[0m | \u001b[1mINFO    \u001b[0m | \u001b[36m__main__\u001b[0m:\u001b[36mrun_pipeline_self\u001b[0m:\u001b[36m79\u001b[0m - \u001b[1m%205 - Running pipeline for row_seed: 412 and size_of_unlabelled_data: 0.1 and model: KNeighborsClassifier(metric='euclidean', weights='distance')\u001b[0m\n"
     ]
    },
    {
     "name": "stdout",
     "output_type": "stream",
     "text": [
      "\n",
      "\n",
      "\n",
      "\n"
     ]
    },
    {
     "name": "stderr",
     "output_type": "stream",
     "text": [
      "\u001b[32m2023-10-22 10:50:49.998\u001b[0m | \u001b[1mINFO    \u001b[0m | \u001b[36m__main__\u001b[0m:\u001b[36mrun_pipeline_self\u001b[0m:\u001b[36m79\u001b[0m - \u001b[1m%206 - Running pipeline for row_seed: 214 and size_of_unlabelled_data: 0.1 and model: KNeighborsClassifier(metric='euclidean', weights='distance')\u001b[0m\n",
      "\u001b[32m2023-10-22 10:50:50.011\u001b[0m | \u001b[1mINFO    \u001b[0m | \u001b[36m__main__\u001b[0m:\u001b[36mrun_pipeline_self\u001b[0m:\u001b[36m79\u001b[0m - \u001b[1m%207 - Running pipeline for row_seed: 754 and size_of_unlabelled_data: 0.1 and model: KNeighborsClassifier(metric='euclidean', weights='distance')\u001b[0m\n",
      "\u001b[32m2023-10-22 10:50:50.026\u001b[0m | \u001b[1mINFO    \u001b[0m | \u001b[36m__main__\u001b[0m:\u001b[36mrun_pipeline_self\u001b[0m:\u001b[36m79\u001b[0m - \u001b[1m%208 - Running pipeline for row_seed: 457 and size_of_unlabelled_data: 0.1 and model: KNeighborsClassifier(metric='euclidean', weights='distance')\u001b[0m\n",
      "\u001b[32m2023-10-22 10:50:50.040\u001b[0m | \u001b[1mINFO    \u001b[0m | \u001b[36m__main__\u001b[0m:\u001b[36mrun_pipeline_self\u001b[0m:\u001b[36m79\u001b[0m - \u001b[1m%209 - Running pipeline for row_seed: 2023 and size_of_unlabelled_data: 0.1 and model: KNeighborsClassifier(metric='euclidean', weights='distance')\u001b[0m\n",
      "\u001b[32m2023-10-22 10:50:50.056\u001b[0m | \u001b[1mINFO    \u001b[0m | \u001b[36m__main__\u001b[0m:\u001b[36mrun_pipeline_self\u001b[0m:\u001b[36m79\u001b[0m - \u001b[1m%210 - Running pipeline for row_seed: 3202 and size_of_unlabelled_data: 0.1 and model: KNeighborsClassifier(metric='euclidean', weights='distance')\u001b[0m\n",
      "\u001b[32m2023-10-22 10:50:50.072\u001b[0m | \u001b[1mINFO    \u001b[0m | \u001b[36m__main__\u001b[0m:\u001b[36mrun_pipeline_self\u001b[0m:\u001b[36m75\u001b[0m - \u001b[1mModel: KNeighborsClassifier(metric='euclidean', weights='distance')\u001b[0m\n",
      "\u001b[32m2023-10-22 10:50:50.072\u001b[0m | \u001b[1mINFO    \u001b[0m | \u001b[36m__main__\u001b[0m:\u001b[36mrun_pipeline_self\u001b[0m:\u001b[36m76\u001b[0m - \u001b[1mSize of unlabelled data: 0.2\u001b[0m\n",
      "\u001b[32m2023-10-22 10:50:50.073\u001b[0m | \u001b[1mINFO    \u001b[0m | \u001b[36m__main__\u001b[0m:\u001b[36mrun_pipeline_self\u001b[0m:\u001b[36m79\u001b[0m - \u001b[1m%211 - Running pipeline for row_seed: 24 and size_of_unlabelled_data: 0.2 and model: KNeighborsClassifier(metric='euclidean', weights='distance')\u001b[0m\n",
      "\u001b[32m2023-10-22 10:50:50.088\u001b[0m | \u001b[1mINFO    \u001b[0m | \u001b[36m__main__\u001b[0m:\u001b[36mrun_pipeline_self\u001b[0m:\u001b[36m79\u001b[0m - \u001b[1m%212 - Running pipeline for row_seed: 42 and size_of_unlabelled_data: 0.2 and model: KNeighborsClassifier(metric='euclidean', weights='distance')\u001b[0m\n",
      "\u001b[32m2023-10-22 10:50:50.103\u001b[0m | \u001b[1mINFO    \u001b[0m | \u001b[36m__main__\u001b[0m:\u001b[36mrun_pipeline_self\u001b[0m:\u001b[36m79\u001b[0m - \u001b[1m%213 - Running pipeline for row_seed: 206 and size_of_unlabelled_data: 0.2 and model: KNeighborsClassifier(metric='euclidean', weights='distance')\u001b[0m\n",
      "\u001b[32m2023-10-22 10:50:50.116\u001b[0m | \u001b[1mINFO    \u001b[0m | \u001b[36m__main__\u001b[0m:\u001b[36mrun_pipeline_self\u001b[0m:\u001b[36m79\u001b[0m - \u001b[1m%214 - Running pipeline for row_seed: 602 and size_of_unlabelled_data: 0.2 and model: KNeighborsClassifier(metric='euclidean', weights='distance')\u001b[0m\n",
      "\u001b[32m2023-10-22 10:50:50.132\u001b[0m | \u001b[1mINFO    \u001b[0m | \u001b[36m__main__\u001b[0m:\u001b[36mrun_pipeline_self\u001b[0m:\u001b[36m79\u001b[0m - \u001b[1m%215 - Running pipeline for row_seed: 412 and size_of_unlabelled_data: 0.2 and model: KNeighborsClassifier(metric='euclidean', weights='distance')\u001b[0m\n",
      "\u001b[32m2023-10-22 10:50:50.147\u001b[0m | \u001b[1mINFO    \u001b[0m | \u001b[36m__main__\u001b[0m:\u001b[36mrun_pipeline_self\u001b[0m:\u001b[36m79\u001b[0m - \u001b[1m%216 - Running pipeline for row_seed: 214 and size_of_unlabelled_data: 0.2 and model: KNeighborsClassifier(metric='euclidean', weights='distance')\u001b[0m\n",
      "\u001b[32m2023-10-22 10:50:50.162\u001b[0m | \u001b[1mINFO    \u001b[0m | \u001b[36m__main__\u001b[0m:\u001b[36mrun_pipeline_self\u001b[0m:\u001b[36m79\u001b[0m - \u001b[1m%217 - Running pipeline for row_seed: 754 and size_of_unlabelled_data: 0.2 and model: KNeighborsClassifier(metric='euclidean', weights='distance')\u001b[0m\n",
      "\u001b[32m2023-10-22 10:50:50.178\u001b[0m | \u001b[1mINFO    \u001b[0m | \u001b[36m__main__\u001b[0m:\u001b[36mrun_pipeline_self\u001b[0m:\u001b[36m79\u001b[0m - \u001b[1m%218 - Running pipeline for row_seed: 457 and size_of_unlabelled_data: 0.2 and model: KNeighborsClassifier(metric='euclidean', weights='distance')\u001b[0m\n",
      "\u001b[32m2023-10-22 10:50:50.194\u001b[0m | \u001b[1mINFO    \u001b[0m | \u001b[36m__main__\u001b[0m:\u001b[36mrun_pipeline_self\u001b[0m:\u001b[36m79\u001b[0m - \u001b[1m%219 - Running pipeline for row_seed: 2023 and size_of_unlabelled_data: 0.2 and model: KNeighborsClassifier(metric='euclidean', weights='distance')\u001b[0m\n",
      "\u001b[32m2023-10-22 10:50:50.210\u001b[0m | \u001b[1mINFO    \u001b[0m | \u001b[36m__main__\u001b[0m:\u001b[36mrun_pipeline_self\u001b[0m:\u001b[36m79\u001b[0m - \u001b[1m%220 - Running pipeline for row_seed: 3202 and size_of_unlabelled_data: 0.2 and model: KNeighborsClassifier(metric='euclidean', weights='distance')\u001b[0m\n",
      "\u001b[32m2023-10-22 10:50:50.224\u001b[0m | \u001b[1mINFO    \u001b[0m | \u001b[36m__main__\u001b[0m:\u001b[36mrun_pipeline_self\u001b[0m:\u001b[36m75\u001b[0m - \u001b[1mModel: KNeighborsClassifier(metric='euclidean', weights='distance')\u001b[0m\n",
      "\u001b[32m2023-10-22 10:50:50.225\u001b[0m | \u001b[1mINFO    \u001b[0m | \u001b[36m__main__\u001b[0m:\u001b[36mrun_pipeline_self\u001b[0m:\u001b[36m76\u001b[0m - \u001b[1mSize of unlabelled data: 0.3\u001b[0m\n",
      "\u001b[32m2023-10-22 10:50:50.225\u001b[0m | \u001b[1mINFO    \u001b[0m | \u001b[36m__main__\u001b[0m:\u001b[36mrun_pipeline_self\u001b[0m:\u001b[36m79\u001b[0m - \u001b[1m%221 - Running pipeline for row_seed: 24 and size_of_unlabelled_data: 0.3 and model: KNeighborsClassifier(metric='euclidean', weights='distance')\u001b[0m\n",
      "\u001b[32m2023-10-22 10:50:50.240\u001b[0m | \u001b[1mINFO    \u001b[0m | \u001b[36m__main__\u001b[0m:\u001b[36mrun_pipeline_self\u001b[0m:\u001b[36m79\u001b[0m - \u001b[1m%222 - Running pipeline for row_seed: 42 and size_of_unlabelled_data: 0.3 and model: KNeighborsClassifier(metric='euclidean', weights='distance')\u001b[0m\n",
      "\u001b[32m2023-10-22 10:50:50.257\u001b[0m | \u001b[1mINFO    \u001b[0m | \u001b[36m__main__\u001b[0m:\u001b[36mrun_pipeline_self\u001b[0m:\u001b[36m79\u001b[0m - \u001b[1m%223 - Running pipeline for row_seed: 206 and size_of_unlabelled_data: 0.3 and model: KNeighborsClassifier(metric='euclidean', weights='distance')\u001b[0m\n"
     ]
    },
    {
     "name": "stdout",
     "output_type": "stream",
     "text": [
      "\n",
      "\n",
      "\n",
      "\n"
     ]
    },
    {
     "name": "stderr",
     "output_type": "stream",
     "text": [
      "\u001b[32m2023-10-22 10:50:50.275\u001b[0m | \u001b[1mINFO    \u001b[0m | \u001b[36m__main__\u001b[0m:\u001b[36mrun_pipeline_self\u001b[0m:\u001b[36m79\u001b[0m - \u001b[1m%224 - Running pipeline for row_seed: 602 and size_of_unlabelled_data: 0.3 and model: KNeighborsClassifier(metric='euclidean', weights='distance')\u001b[0m\n",
      "\u001b[32m2023-10-22 10:50:50.290\u001b[0m | \u001b[1mINFO    \u001b[0m | \u001b[36m__main__\u001b[0m:\u001b[36mrun_pipeline_self\u001b[0m:\u001b[36m79\u001b[0m - \u001b[1m%225 - Running pipeline for row_seed: 412 and size_of_unlabelled_data: 0.3 and model: KNeighborsClassifier(metric='euclidean', weights='distance')\u001b[0m\n",
      "\u001b[32m2023-10-22 10:50:50.309\u001b[0m | \u001b[1mINFO    \u001b[0m | \u001b[36m__main__\u001b[0m:\u001b[36mrun_pipeline_self\u001b[0m:\u001b[36m79\u001b[0m - \u001b[1m%226 - Running pipeline for row_seed: 214 and size_of_unlabelled_data: 0.3 and model: KNeighborsClassifier(metric='euclidean', weights='distance')\u001b[0m\n",
      "\u001b[32m2023-10-22 10:50:50.328\u001b[0m | \u001b[1mINFO    \u001b[0m | \u001b[36m__main__\u001b[0m:\u001b[36mrun_pipeline_self\u001b[0m:\u001b[36m79\u001b[0m - \u001b[1m%227 - Running pipeline for row_seed: 754 and size_of_unlabelled_data: 0.3 and model: KNeighborsClassifier(metric='euclidean', weights='distance')\u001b[0m\n",
      "\u001b[32m2023-10-22 10:50:50.346\u001b[0m | \u001b[1mINFO    \u001b[0m | \u001b[36m__main__\u001b[0m:\u001b[36mrun_pipeline_self\u001b[0m:\u001b[36m79\u001b[0m - \u001b[1m%228 - Running pipeline for row_seed: 457 and size_of_unlabelled_data: 0.3 and model: KNeighborsClassifier(metric='euclidean', weights='distance')\u001b[0m\n",
      "\u001b[32m2023-10-22 10:50:50.360\u001b[0m | \u001b[1mINFO    \u001b[0m | \u001b[36m__main__\u001b[0m:\u001b[36mrun_pipeline_self\u001b[0m:\u001b[36m79\u001b[0m - \u001b[1m%229 - Running pipeline for row_seed: 2023 and size_of_unlabelled_data: 0.3 and model: KNeighborsClassifier(metric='euclidean', weights='distance')\u001b[0m\n",
      "\u001b[32m2023-10-22 10:50:50.377\u001b[0m | \u001b[1mINFO    \u001b[0m | \u001b[36m__main__\u001b[0m:\u001b[36mrun_pipeline_self\u001b[0m:\u001b[36m79\u001b[0m - \u001b[1m%230 - Running pipeline for row_seed: 3202 and size_of_unlabelled_data: 0.3 and model: KNeighborsClassifier(metric='euclidean', weights='distance')\u001b[0m\n",
      "\u001b[32m2023-10-22 10:50:50.393\u001b[0m | \u001b[1mINFO    \u001b[0m | \u001b[36m__main__\u001b[0m:\u001b[36mrun_pipeline_self\u001b[0m:\u001b[36m75\u001b[0m - \u001b[1mModel: KNeighborsClassifier(metric='euclidean', weights='distance')\u001b[0m\n",
      "\u001b[32m2023-10-22 10:50:50.393\u001b[0m | \u001b[1mINFO    \u001b[0m | \u001b[36m__main__\u001b[0m:\u001b[36mrun_pipeline_self\u001b[0m:\u001b[36m76\u001b[0m - \u001b[1mSize of unlabelled data: 0.4\u001b[0m\n",
      "\u001b[32m2023-10-22 10:50:50.394\u001b[0m | \u001b[1mINFO    \u001b[0m | \u001b[36m__main__\u001b[0m:\u001b[36mrun_pipeline_self\u001b[0m:\u001b[36m79\u001b[0m - \u001b[1m%231 - Running pipeline for row_seed: 24 and size_of_unlabelled_data: 0.4 and model: KNeighborsClassifier(metric='euclidean', weights='distance')\u001b[0m\n",
      "\u001b[32m2023-10-22 10:50:50.411\u001b[0m | \u001b[1mINFO    \u001b[0m | \u001b[36m__main__\u001b[0m:\u001b[36mrun_pipeline_self\u001b[0m:\u001b[36m79\u001b[0m - \u001b[1m%232 - Running pipeline for row_seed: 42 and size_of_unlabelled_data: 0.4 and model: KNeighborsClassifier(metric='euclidean', weights='distance')\u001b[0m\n",
      "\u001b[32m2023-10-22 10:50:50.430\u001b[0m | \u001b[1mINFO    \u001b[0m | \u001b[36m__main__\u001b[0m:\u001b[36mrun_pipeline_self\u001b[0m:\u001b[36m79\u001b[0m - \u001b[1m%233 - Running pipeline for row_seed: 206 and size_of_unlabelled_data: 0.4 and model: KNeighborsClassifier(metric='euclidean', weights='distance')\u001b[0m\n",
      "\u001b[32m2023-10-22 10:50:50.448\u001b[0m | \u001b[1mINFO    \u001b[0m | \u001b[36m__main__\u001b[0m:\u001b[36mrun_pipeline_self\u001b[0m:\u001b[36m79\u001b[0m - \u001b[1m%234 - Running pipeline for row_seed: 602 and size_of_unlabelled_data: 0.4 and model: KNeighborsClassifier(metric='euclidean', weights='distance')\u001b[0m\n",
      "\u001b[32m2023-10-22 10:50:50.464\u001b[0m | \u001b[1mINFO    \u001b[0m | \u001b[36m__main__\u001b[0m:\u001b[36mrun_pipeline_self\u001b[0m:\u001b[36m79\u001b[0m - \u001b[1m%235 - Running pipeline for row_seed: 412 and size_of_unlabelled_data: 0.4 and model: KNeighborsClassifier(metric='euclidean', weights='distance')\u001b[0m\n",
      "\u001b[32m2023-10-22 10:50:50.481\u001b[0m | \u001b[1mINFO    \u001b[0m | \u001b[36m__main__\u001b[0m:\u001b[36mrun_pipeline_self\u001b[0m:\u001b[36m79\u001b[0m - \u001b[1m%236 - Running pipeline for row_seed: 214 and size_of_unlabelled_data: 0.4 and model: KNeighborsClassifier(metric='euclidean', weights='distance')\u001b[0m\n",
      "\u001b[32m2023-10-22 10:50:50.501\u001b[0m | \u001b[1mINFO    \u001b[0m | \u001b[36m__main__\u001b[0m:\u001b[36mrun_pipeline_self\u001b[0m:\u001b[36m79\u001b[0m - \u001b[1m%237 - Running pipeline for row_seed: 754 and size_of_unlabelled_data: 0.4 and model: KNeighborsClassifier(metric='euclidean', weights='distance')\u001b[0m\n",
      "\u001b[32m2023-10-22 10:50:50.519\u001b[0m | \u001b[1mINFO    \u001b[0m | \u001b[36m__main__\u001b[0m:\u001b[36mrun_pipeline_self\u001b[0m:\u001b[36m79\u001b[0m - \u001b[1m%238 - Running pipeline for row_seed: 457 and size_of_unlabelled_data: 0.4 and model: KNeighborsClassifier(metric='euclidean', weights='distance')\u001b[0m\n",
      "\u001b[32m2023-10-22 10:50:50.536\u001b[0m | \u001b[1mINFO    \u001b[0m | \u001b[36m__main__\u001b[0m:\u001b[36mrun_pipeline_self\u001b[0m:\u001b[36m79\u001b[0m - \u001b[1m%239 - Running pipeline for row_seed: 2023 and size_of_unlabelled_data: 0.4 and model: KNeighborsClassifier(metric='euclidean', weights='distance')\u001b[0m\n",
      "\u001b[32m2023-10-22 10:50:50.552\u001b[0m | \u001b[1mINFO    \u001b[0m | \u001b[36m__main__\u001b[0m:\u001b[36mrun_pipeline_self\u001b[0m:\u001b[36m79\u001b[0m - \u001b[1m%240 - Running pipeline for row_seed: 3202 and size_of_unlabelled_data: 0.4 and model: KNeighborsClassifier(metric='euclidean', weights='distance')\u001b[0m\n",
      "\u001b[32m2023-10-22 10:50:50.572\u001b[0m | \u001b[1mINFO    \u001b[0m | \u001b[36m__main__\u001b[0m:\u001b[36mrun_pipeline_self\u001b[0m:\u001b[36m75\u001b[0m - \u001b[1mModel: KNeighborsClassifier(metric='euclidean', weights='distance')\u001b[0m\n",
      "\u001b[32m2023-10-22 10:50:50.572\u001b[0m | \u001b[1mINFO    \u001b[0m | \u001b[36m__main__\u001b[0m:\u001b[36mrun_pipeline_self\u001b[0m:\u001b[36m76\u001b[0m - \u001b[1mSize of unlabelled data: 0.5\u001b[0m\n",
      "\u001b[32m2023-10-22 10:50:50.573\u001b[0m | \u001b[1mINFO    \u001b[0m | \u001b[36m__main__\u001b[0m:\u001b[36mrun_pipeline_self\u001b[0m:\u001b[36m79\u001b[0m - \u001b[1m%241 - Running pipeline for row_seed: 24 and size_of_unlabelled_data: 0.5 and model: KNeighborsClassifier(metric='euclidean', weights='distance')\u001b[0m\n",
      "\u001b[32m2023-10-22 10:50:50.591\u001b[0m | \u001b[1mINFO    \u001b[0m | \u001b[36m__main__\u001b[0m:\u001b[36mrun_pipeline_self\u001b[0m:\u001b[36m79\u001b[0m - \u001b[1m%242 - Running pipeline for row_seed: 42 and size_of_unlabelled_data: 0.5 and model: KNeighborsClassifier(metric='euclidean', weights='distance')\u001b[0m\n"
     ]
    },
    {
     "name": "stdout",
     "output_type": "stream",
     "text": [
      "\n",
      "\n",
      "\n",
      "\n"
     ]
    },
    {
     "name": "stderr",
     "output_type": "stream",
     "text": [
      "\u001b[32m2023-10-22 10:50:50.610\u001b[0m | \u001b[1mINFO    \u001b[0m | \u001b[36m__main__\u001b[0m:\u001b[36mrun_pipeline_self\u001b[0m:\u001b[36m79\u001b[0m - \u001b[1m%243 - Running pipeline for row_seed: 206 and size_of_unlabelled_data: 0.5 and model: KNeighborsClassifier(metric='euclidean', weights='distance')\u001b[0m\n",
      "\u001b[32m2023-10-22 10:50:50.629\u001b[0m | \u001b[1mINFO    \u001b[0m | \u001b[36m__main__\u001b[0m:\u001b[36mrun_pipeline_self\u001b[0m:\u001b[36m79\u001b[0m - \u001b[1m%244 - Running pipeline for row_seed: 602 and size_of_unlabelled_data: 0.5 and model: KNeighborsClassifier(metric='euclidean', weights='distance')\u001b[0m\n",
      "\u001b[32m2023-10-22 10:50:50.651\u001b[0m | \u001b[1mINFO    \u001b[0m | \u001b[36m__main__\u001b[0m:\u001b[36mrun_pipeline_self\u001b[0m:\u001b[36m79\u001b[0m - \u001b[1m%245 - Running pipeline for row_seed: 412 and size_of_unlabelled_data: 0.5 and model: KNeighborsClassifier(metric='euclidean', weights='distance')\u001b[0m\n",
      "\u001b[32m2023-10-22 10:50:50.668\u001b[0m | \u001b[1mINFO    \u001b[0m | \u001b[36m__main__\u001b[0m:\u001b[36mrun_pipeline_self\u001b[0m:\u001b[36m79\u001b[0m - \u001b[1m%246 - Running pipeline for row_seed: 214 and size_of_unlabelled_data: 0.5 and model: KNeighborsClassifier(metric='euclidean', weights='distance')\u001b[0m\n",
      "\u001b[32m2023-10-22 10:50:50.686\u001b[0m | \u001b[1mINFO    \u001b[0m | \u001b[36m__main__\u001b[0m:\u001b[36mrun_pipeline_self\u001b[0m:\u001b[36m79\u001b[0m - \u001b[1m%247 - Running pipeline for row_seed: 754 and size_of_unlabelled_data: 0.5 and model: KNeighborsClassifier(metric='euclidean', weights='distance')\u001b[0m\n",
      "\u001b[32m2023-10-22 10:50:50.704\u001b[0m | \u001b[1mINFO    \u001b[0m | \u001b[36m__main__\u001b[0m:\u001b[36mrun_pipeline_self\u001b[0m:\u001b[36m79\u001b[0m - \u001b[1m%248 - Running pipeline for row_seed: 457 and size_of_unlabelled_data: 0.5 and model: KNeighborsClassifier(metric='euclidean', weights='distance')\u001b[0m\n",
      "\u001b[32m2023-10-22 10:50:50.722\u001b[0m | \u001b[1mINFO    \u001b[0m | \u001b[36m__main__\u001b[0m:\u001b[36mrun_pipeline_self\u001b[0m:\u001b[36m79\u001b[0m - \u001b[1m%249 - Running pipeline for row_seed: 2023 and size_of_unlabelled_data: 0.5 and model: KNeighborsClassifier(metric='euclidean', weights='distance')\u001b[0m\n",
      "\u001b[32m2023-10-22 10:50:50.740\u001b[0m | \u001b[1mINFO    \u001b[0m | \u001b[36m__main__\u001b[0m:\u001b[36mrun_pipeline_self\u001b[0m:\u001b[36m79\u001b[0m - \u001b[1m%250 - Running pipeline for row_seed: 3202 and size_of_unlabelled_data: 0.5 and model: KNeighborsClassifier(metric='euclidean', weights='distance')\u001b[0m\n",
      "\u001b[32m2023-10-22 10:50:50.757\u001b[0m | \u001b[1mINFO    \u001b[0m | \u001b[36m__main__\u001b[0m:\u001b[36mrun_pipeline_self\u001b[0m:\u001b[36m75\u001b[0m - \u001b[1mModel: KNeighborsClassifier(metric='euclidean', weights='distance')\u001b[0m\n",
      "\u001b[32m2023-10-22 10:50:50.758\u001b[0m | \u001b[1mINFO    \u001b[0m | \u001b[36m__main__\u001b[0m:\u001b[36mrun_pipeline_self\u001b[0m:\u001b[36m76\u001b[0m - \u001b[1mSize of unlabelled data: 0.6\u001b[0m\n",
      "\u001b[32m2023-10-22 10:50:50.758\u001b[0m | \u001b[1mINFO    \u001b[0m | \u001b[36m__main__\u001b[0m:\u001b[36mrun_pipeline_self\u001b[0m:\u001b[36m79\u001b[0m - \u001b[1m%251 - Running pipeline for row_seed: 24 and size_of_unlabelled_data: 0.6 and model: KNeighborsClassifier(metric='euclidean', weights='distance')\u001b[0m\n",
      "\u001b[32m2023-10-22 10:50:50.778\u001b[0m | \u001b[1mINFO    \u001b[0m | \u001b[36m__main__\u001b[0m:\u001b[36mrun_pipeline_self\u001b[0m:\u001b[36m79\u001b[0m - \u001b[1m%252 - Running pipeline for row_seed: 42 and size_of_unlabelled_data: 0.6 and model: KNeighborsClassifier(metric='euclidean', weights='distance')\u001b[0m\n",
      "\u001b[32m2023-10-22 10:50:50.797\u001b[0m | \u001b[1mINFO    \u001b[0m | \u001b[36m__main__\u001b[0m:\u001b[36mrun_pipeline_self\u001b[0m:\u001b[36m79\u001b[0m - \u001b[1m%253 - Running pipeline for row_seed: 206 and size_of_unlabelled_data: 0.6 and model: KNeighborsClassifier(metric='euclidean', weights='distance')\u001b[0m\n",
      "\u001b[32m2023-10-22 10:50:50.817\u001b[0m | \u001b[1mINFO    \u001b[0m | \u001b[36m__main__\u001b[0m:\u001b[36mrun_pipeline_self\u001b[0m:\u001b[36m79\u001b[0m - \u001b[1m%254 - Running pipeline for row_seed: 602 and size_of_unlabelled_data: 0.6 and model: KNeighborsClassifier(metric='euclidean', weights='distance')\u001b[0m\n",
      "\u001b[32m2023-10-22 10:50:50.835\u001b[0m | \u001b[1mINFO    \u001b[0m | \u001b[36m__main__\u001b[0m:\u001b[36mrun_pipeline_self\u001b[0m:\u001b[36m79\u001b[0m - \u001b[1m%255 - Running pipeline for row_seed: 412 and size_of_unlabelled_data: 0.6 and model: KNeighborsClassifier(metric='euclidean', weights='distance')\u001b[0m\n",
      "\u001b[32m2023-10-22 10:50:50.857\u001b[0m | \u001b[1mINFO    \u001b[0m | \u001b[36m__main__\u001b[0m:\u001b[36mrun_pipeline_self\u001b[0m:\u001b[36m79\u001b[0m - \u001b[1m%256 - Running pipeline for row_seed: 214 and size_of_unlabelled_data: 0.6 and model: KNeighborsClassifier(metric='euclidean', weights='distance')\u001b[0m\n",
      "\u001b[32m2023-10-22 10:50:50.874\u001b[0m | \u001b[1mINFO    \u001b[0m | \u001b[36m__main__\u001b[0m:\u001b[36mrun_pipeline_self\u001b[0m:\u001b[36m79\u001b[0m - \u001b[1m%257 - Running pipeline for row_seed: 754 and size_of_unlabelled_data: 0.6 and model: KNeighborsClassifier(metric='euclidean', weights='distance')\u001b[0m\n",
      "\u001b[32m2023-10-22 10:50:50.896\u001b[0m | \u001b[1mINFO    \u001b[0m | \u001b[36m__main__\u001b[0m:\u001b[36mrun_pipeline_self\u001b[0m:\u001b[36m79\u001b[0m - \u001b[1m%258 - Running pipeline for row_seed: 457 and size_of_unlabelled_data: 0.6 and model: KNeighborsClassifier(metric='euclidean', weights='distance')\u001b[0m\n",
      "\u001b[32m2023-10-22 10:50:50.919\u001b[0m | \u001b[1mINFO    \u001b[0m | \u001b[36m__main__\u001b[0m:\u001b[36mrun_pipeline_self\u001b[0m:\u001b[36m79\u001b[0m - \u001b[1m%259 - Running pipeline for row_seed: 2023 and size_of_unlabelled_data: 0.6 and model: KNeighborsClassifier(metric='euclidean', weights='distance')\u001b[0m\n",
      "\u001b[32m2023-10-22 10:50:50.939\u001b[0m | \u001b[1mINFO    \u001b[0m | \u001b[36m__main__\u001b[0m:\u001b[36mrun_pipeline_self\u001b[0m:\u001b[36m79\u001b[0m - \u001b[1m%260 - Running pipeline for row_seed: 3202 and size_of_unlabelled_data: 0.6 and model: KNeighborsClassifier(metric='euclidean', weights='distance')\u001b[0m\n",
      "\u001b[32m2023-10-22 10:50:50.956\u001b[0m | \u001b[1mINFO    \u001b[0m | \u001b[36m__main__\u001b[0m:\u001b[36mrun_pipeline_self\u001b[0m:\u001b[36m75\u001b[0m - \u001b[1mModel: KNeighborsClassifier(metric='euclidean', weights='distance')\u001b[0m\n",
      "\u001b[32m2023-10-22 10:50:50.956\u001b[0m | \u001b[1mINFO    \u001b[0m | \u001b[36m__main__\u001b[0m:\u001b[36mrun_pipeline_self\u001b[0m:\u001b[36m76\u001b[0m - \u001b[1mSize of unlabelled data: 0.7\u001b[0m\n",
      "\u001b[32m2023-10-22 10:50:50.957\u001b[0m | \u001b[1mINFO    \u001b[0m | \u001b[36m__main__\u001b[0m:\u001b[36mrun_pipeline_self\u001b[0m:\u001b[36m79\u001b[0m - \u001b[1m%261 - Running pipeline for row_seed: 24 and size_of_unlabelled_data: 0.7 and model: KNeighborsClassifier(metric='euclidean', weights='distance')\u001b[0m\n"
     ]
    },
    {
     "name": "stdout",
     "output_type": "stream",
     "text": [
      "\n",
      "\n",
      "\n",
      "\n"
     ]
    },
    {
     "name": "stderr",
     "output_type": "stream",
     "text": [
      "\u001b[32m2023-10-22 10:50:50.975\u001b[0m | \u001b[1mINFO    \u001b[0m | \u001b[36m__main__\u001b[0m:\u001b[36mrun_pipeline_self\u001b[0m:\u001b[36m79\u001b[0m - \u001b[1m%262 - Running pipeline for row_seed: 42 and size_of_unlabelled_data: 0.7 and model: KNeighborsClassifier(metric='euclidean', weights='distance')\u001b[0m\n",
      "\u001b[32m2023-10-22 10:50:50.995\u001b[0m | \u001b[1mINFO    \u001b[0m | \u001b[36m__main__\u001b[0m:\u001b[36mrun_pipeline_self\u001b[0m:\u001b[36m79\u001b[0m - \u001b[1m%263 - Running pipeline for row_seed: 206 and size_of_unlabelled_data: 0.7 and model: KNeighborsClassifier(metric='euclidean', weights='distance')\u001b[0m\n",
      "\u001b[32m2023-10-22 10:50:51.014\u001b[0m | \u001b[1mINFO    \u001b[0m | \u001b[36m__main__\u001b[0m:\u001b[36mrun_pipeline_self\u001b[0m:\u001b[36m79\u001b[0m - \u001b[1m%264 - Running pipeline for row_seed: 602 and size_of_unlabelled_data: 0.7 and model: KNeighborsClassifier(metric='euclidean', weights='distance')\u001b[0m\n",
      "\u001b[32m2023-10-22 10:50:51.032\u001b[0m | \u001b[1mINFO    \u001b[0m | \u001b[36m__main__\u001b[0m:\u001b[36mrun_pipeline_self\u001b[0m:\u001b[36m79\u001b[0m - \u001b[1m%265 - Running pipeline for row_seed: 412 and size_of_unlabelled_data: 0.7 and model: KNeighborsClassifier(metric='euclidean', weights='distance')\u001b[0m\n",
      "\u001b[32m2023-10-22 10:50:51.053\u001b[0m | \u001b[1mINFO    \u001b[0m | \u001b[36m__main__\u001b[0m:\u001b[36mrun_pipeline_self\u001b[0m:\u001b[36m79\u001b[0m - \u001b[1m%266 - Running pipeline for row_seed: 214 and size_of_unlabelled_data: 0.7 and model: KNeighborsClassifier(metric='euclidean', weights='distance')\u001b[0m\n",
      "\u001b[32m2023-10-22 10:50:51.070\u001b[0m | \u001b[1mINFO    \u001b[0m | \u001b[36m__main__\u001b[0m:\u001b[36mrun_pipeline_self\u001b[0m:\u001b[36m79\u001b[0m - \u001b[1m%267 - Running pipeline for row_seed: 754 and size_of_unlabelled_data: 0.7 and model: KNeighborsClassifier(metric='euclidean', weights='distance')\u001b[0m\n",
      "\u001b[32m2023-10-22 10:50:51.090\u001b[0m | \u001b[1mINFO    \u001b[0m | \u001b[36m__main__\u001b[0m:\u001b[36mrun_pipeline_self\u001b[0m:\u001b[36m79\u001b[0m - \u001b[1m%268 - Running pipeline for row_seed: 457 and size_of_unlabelled_data: 0.7 and model: KNeighborsClassifier(metric='euclidean', weights='distance')\u001b[0m\n",
      "\u001b[32m2023-10-22 10:50:51.107\u001b[0m | \u001b[1mINFO    \u001b[0m | \u001b[36m__main__\u001b[0m:\u001b[36mrun_pipeline_self\u001b[0m:\u001b[36m79\u001b[0m - \u001b[1m%269 - Running pipeline for row_seed: 2023 and size_of_unlabelled_data: 0.7 and model: KNeighborsClassifier(metric='euclidean', weights='distance')\u001b[0m\n",
      "\u001b[32m2023-10-22 10:50:51.124\u001b[0m | \u001b[1mINFO    \u001b[0m | \u001b[36m__main__\u001b[0m:\u001b[36mrun_pipeline_self\u001b[0m:\u001b[36m79\u001b[0m - \u001b[1m%270 - Running pipeline for row_seed: 3202 and size_of_unlabelled_data: 0.7 and model: KNeighborsClassifier(metric='euclidean', weights='distance')\u001b[0m\n",
      "\u001b[32m2023-10-22 10:50:51.145\u001b[0m | \u001b[1mINFO    \u001b[0m | \u001b[36m__main__\u001b[0m:\u001b[36mrun_pipeline_self\u001b[0m:\u001b[36m75\u001b[0m - \u001b[1mModel: KNeighborsClassifier(metric='euclidean', weights='distance')\u001b[0m\n",
      "\u001b[32m2023-10-22 10:50:51.145\u001b[0m | \u001b[1mINFO    \u001b[0m | \u001b[36m__main__\u001b[0m:\u001b[36mrun_pipeline_self\u001b[0m:\u001b[36m76\u001b[0m - \u001b[1mSize of unlabelled data: 0.8\u001b[0m\n",
      "\u001b[32m2023-10-22 10:50:51.146\u001b[0m | \u001b[1mINFO    \u001b[0m | \u001b[36m__main__\u001b[0m:\u001b[36mrun_pipeline_self\u001b[0m:\u001b[36m79\u001b[0m - \u001b[1m%271 - Running pipeline for row_seed: 24 and size_of_unlabelled_data: 0.8 and model: KNeighborsClassifier(metric='euclidean', weights='distance')\u001b[0m\n",
      "\u001b[32m2023-10-22 10:50:51.171\u001b[0m | \u001b[1mINFO    \u001b[0m | \u001b[36m__main__\u001b[0m:\u001b[36mrun_pipeline_self\u001b[0m:\u001b[36m79\u001b[0m - \u001b[1m%272 - Running pipeline for row_seed: 42 and size_of_unlabelled_data: 0.8 and model: KNeighborsClassifier(metric='euclidean', weights='distance')\u001b[0m\n",
      "\u001b[32m2023-10-22 10:50:51.189\u001b[0m | \u001b[1mINFO    \u001b[0m | \u001b[36m__main__\u001b[0m:\u001b[36mrun_pipeline_self\u001b[0m:\u001b[36m79\u001b[0m - \u001b[1m%273 - Running pipeline for row_seed: 206 and size_of_unlabelled_data: 0.8 and model: KNeighborsClassifier(metric='euclidean', weights='distance')\u001b[0m\n",
      "\u001b[32m2023-10-22 10:50:51.207\u001b[0m | \u001b[1mINFO    \u001b[0m | \u001b[36m__main__\u001b[0m:\u001b[36mrun_pipeline_self\u001b[0m:\u001b[36m79\u001b[0m - \u001b[1m%274 - Running pipeline for row_seed: 602 and size_of_unlabelled_data: 0.8 and model: KNeighborsClassifier(metric='euclidean', weights='distance')\u001b[0m\n",
      "\u001b[32m2023-10-22 10:50:51.226\u001b[0m | \u001b[1mINFO    \u001b[0m | \u001b[36m__main__\u001b[0m:\u001b[36mrun_pipeline_self\u001b[0m:\u001b[36m79\u001b[0m - \u001b[1m%275 - Running pipeline for row_seed: 412 and size_of_unlabelled_data: 0.8 and model: KNeighborsClassifier(metric='euclidean', weights='distance')\u001b[0m\n",
      "\u001b[32m2023-10-22 10:50:51.248\u001b[0m | \u001b[1mINFO    \u001b[0m | \u001b[36m__main__\u001b[0m:\u001b[36mrun_pipeline_self\u001b[0m:\u001b[36m79\u001b[0m - \u001b[1m%276 - Running pipeline for row_seed: 214 and size_of_unlabelled_data: 0.8 and model: KNeighborsClassifier(metric='euclidean', weights='distance')\u001b[0m\n",
      "\u001b[32m2023-10-22 10:50:51.268\u001b[0m | \u001b[1mINFO    \u001b[0m | \u001b[36m__main__\u001b[0m:\u001b[36mrun_pipeline_self\u001b[0m:\u001b[36m79\u001b[0m - \u001b[1m%277 - Running pipeline for row_seed: 754 and size_of_unlabelled_data: 0.8 and model: KNeighborsClassifier(metric='euclidean', weights='distance')\u001b[0m\n",
      "\u001b[32m2023-10-22 10:50:51.294\u001b[0m | \u001b[1mINFO    \u001b[0m | \u001b[36m__main__\u001b[0m:\u001b[36mrun_pipeline_self\u001b[0m:\u001b[36m79\u001b[0m - \u001b[1m%278 - Running pipeline for row_seed: 457 and size_of_unlabelled_data: 0.8 and model: KNeighborsClassifier(metric='euclidean', weights='distance')\u001b[0m\n",
      "\u001b[32m2023-10-22 10:50:51.316\u001b[0m | \u001b[1mINFO    \u001b[0m | \u001b[36m__main__\u001b[0m:\u001b[36mrun_pipeline_self\u001b[0m:\u001b[36m79\u001b[0m - \u001b[1m%279 - Running pipeline for row_seed: 2023 and size_of_unlabelled_data: 0.8 and model: KNeighborsClassifier(metric='euclidean', weights='distance')\u001b[0m\n",
      "\u001b[32m2023-10-22 10:50:51.335\u001b[0m | \u001b[1mINFO    \u001b[0m | \u001b[36m__main__\u001b[0m:\u001b[36mrun_pipeline_self\u001b[0m:\u001b[36m79\u001b[0m - \u001b[1m%280 - Running pipeline for row_seed: 3202 and size_of_unlabelled_data: 0.8 and model: KNeighborsClassifier(metric='euclidean', weights='distance')\u001b[0m\n"
     ]
    },
    {
     "name": "stdout",
     "output_type": "stream",
     "text": [
      "\n",
      "\n"
     ]
    },
    {
     "name": "stderr",
     "output_type": "stream",
     "text": [
      "\u001b[32m2023-10-22 10:50:51.358\u001b[0m | \u001b[1mINFO    \u001b[0m | \u001b[36m__main__\u001b[0m:\u001b[36mrun_pipeline_self\u001b[0m:\u001b[36m75\u001b[0m - \u001b[1mModel: KNeighborsClassifier(metric='euclidean', weights='distance')\u001b[0m\n",
      "\u001b[32m2023-10-22 10:50:51.359\u001b[0m | \u001b[1mINFO    \u001b[0m | \u001b[36m__main__\u001b[0m:\u001b[36mrun_pipeline_self\u001b[0m:\u001b[36m76\u001b[0m - \u001b[1mSize of unlabelled data: 0.85\u001b[0m\n",
      "\u001b[32m2023-10-22 10:50:51.359\u001b[0m | \u001b[1mINFO    \u001b[0m | \u001b[36m__main__\u001b[0m:\u001b[36mrun_pipeline_self\u001b[0m:\u001b[36m79\u001b[0m - \u001b[1m%281 - Running pipeline for row_seed: 24 and size_of_unlabelled_data: 0.85 and model: KNeighborsClassifier(metric='euclidean', weights='distance')\u001b[0m\n",
      "\u001b[32m2023-10-22 10:50:51.384\u001b[0m | \u001b[1mINFO    \u001b[0m | \u001b[36m__main__\u001b[0m:\u001b[36mrun_pipeline_self\u001b[0m:\u001b[36m79\u001b[0m - \u001b[1m%282 - Running pipeline for row_seed: 42 and size_of_unlabelled_data: 0.85 and model: KNeighborsClassifier(metric='euclidean', weights='distance')\u001b[0m\n",
      "\u001b[32m2023-10-22 10:50:51.404\u001b[0m | \u001b[1mINFO    \u001b[0m | \u001b[36m__main__\u001b[0m:\u001b[36mrun_pipeline_self\u001b[0m:\u001b[36m79\u001b[0m - \u001b[1m%283 - Running pipeline for row_seed: 206 and size_of_unlabelled_data: 0.85 and model: KNeighborsClassifier(metric='euclidean', weights='distance')\u001b[0m\n",
      "\u001b[32m2023-10-22 10:50:51.424\u001b[0m | \u001b[1mINFO    \u001b[0m | \u001b[36m__main__\u001b[0m:\u001b[36mrun_pipeline_self\u001b[0m:\u001b[36m79\u001b[0m - \u001b[1m%284 - Running pipeline for row_seed: 602 and size_of_unlabelled_data: 0.85 and model: KNeighborsClassifier(metric='euclidean', weights='distance')\u001b[0m\n",
      "\u001b[32m2023-10-22 10:50:51.455\u001b[0m | \u001b[1mINFO    \u001b[0m | \u001b[36m__main__\u001b[0m:\u001b[36mrun_pipeline_self\u001b[0m:\u001b[36m79\u001b[0m - \u001b[1m%285 - Running pipeline for row_seed: 412 and size_of_unlabelled_data: 0.85 and model: KNeighborsClassifier(metric='euclidean', weights='distance')\u001b[0m\n",
      "\u001b[32m2023-10-22 10:50:51.472\u001b[0m | \u001b[1mINFO    \u001b[0m | \u001b[36m__main__\u001b[0m:\u001b[36mrun_pipeline_self\u001b[0m:\u001b[36m79\u001b[0m - \u001b[1m%286 - Running pipeline for row_seed: 214 and size_of_unlabelled_data: 0.85 and model: KNeighborsClassifier(metric='euclidean', weights='distance')\u001b[0m\n",
      "\u001b[32m2023-10-22 10:50:51.489\u001b[0m | \u001b[1mINFO    \u001b[0m | \u001b[36m__main__\u001b[0m:\u001b[36mrun_pipeline_self\u001b[0m:\u001b[36m79\u001b[0m - \u001b[1m%287 - Running pipeline for row_seed: 754 and size_of_unlabelled_data: 0.85 and model: KNeighborsClassifier(metric='euclidean', weights='distance')\u001b[0m\n",
      "\u001b[32m2023-10-22 10:50:51.507\u001b[0m | \u001b[1mINFO    \u001b[0m | \u001b[36m__main__\u001b[0m:\u001b[36mrun_pipeline_self\u001b[0m:\u001b[36m79\u001b[0m - \u001b[1m%288 - Running pipeline for row_seed: 457 and size_of_unlabelled_data: 0.85 and model: KNeighborsClassifier(metric='euclidean', weights='distance')\u001b[0m\n",
      "\u001b[32m2023-10-22 10:50:51.526\u001b[0m | \u001b[1mINFO    \u001b[0m | \u001b[36m__main__\u001b[0m:\u001b[36mrun_pipeline_self\u001b[0m:\u001b[36m79\u001b[0m - \u001b[1m%289 - Running pipeline for row_seed: 2023 and size_of_unlabelled_data: 0.85 and model: KNeighborsClassifier(metric='euclidean', weights='distance')\u001b[0m\n",
      "\u001b[32m2023-10-22 10:50:51.544\u001b[0m | \u001b[1mINFO    \u001b[0m | \u001b[36m__main__\u001b[0m:\u001b[36mrun_pipeline_self\u001b[0m:\u001b[36m79\u001b[0m - \u001b[1m%290 - Running pipeline for row_seed: 3202 and size_of_unlabelled_data: 0.85 and model: KNeighborsClassifier(metric='euclidean', weights='distance')\u001b[0m\n"
     ]
    },
    {
     "name": "stdout",
     "output_type": "stream",
     "text": [
      "\n",
      "\n"
     ]
    },
    {
     "name": "stderr",
     "output_type": "stream",
     "text": [
      "\u001b[32m2023-10-22 10:50:51.563\u001b[0m | \u001b[1mINFO    \u001b[0m | \u001b[36m__main__\u001b[0m:\u001b[36mrun_pipeline_self\u001b[0m:\u001b[36m75\u001b[0m - \u001b[1mModel: KNeighborsClassifier(metric='euclidean', weights='distance')\u001b[0m\n",
      "\u001b[32m2023-10-22 10:50:51.564\u001b[0m | \u001b[1mINFO    \u001b[0m | \u001b[36m__main__\u001b[0m:\u001b[36mrun_pipeline_self\u001b[0m:\u001b[36m76\u001b[0m - \u001b[1mSize of unlabelled data: 0.9\u001b[0m\n",
      "\u001b[32m2023-10-22 10:50:51.564\u001b[0m | \u001b[1mINFO    \u001b[0m | \u001b[36m__main__\u001b[0m:\u001b[36mrun_pipeline_self\u001b[0m:\u001b[36m79\u001b[0m - \u001b[1m%291 - Running pipeline for row_seed: 24 and size_of_unlabelled_data: 0.9 and model: KNeighborsClassifier(metric='euclidean', weights='distance')\u001b[0m\n",
      "\u001b[32m2023-10-22 10:50:51.583\u001b[0m | \u001b[1mINFO    \u001b[0m | \u001b[36m__main__\u001b[0m:\u001b[36mrun_pipeline_self\u001b[0m:\u001b[36m79\u001b[0m - \u001b[1m%292 - Running pipeline for row_seed: 42 and size_of_unlabelled_data: 0.9 and model: KNeighborsClassifier(metric='euclidean', weights='distance')\u001b[0m\n",
      "\u001b[32m2023-10-22 10:50:51.602\u001b[0m | \u001b[1mINFO    \u001b[0m | \u001b[36m__main__\u001b[0m:\u001b[36mrun_pipeline_self\u001b[0m:\u001b[36m79\u001b[0m - \u001b[1m%293 - Running pipeline for row_seed: 206 and size_of_unlabelled_data: 0.9 and model: KNeighborsClassifier(metric='euclidean', weights='distance')\u001b[0m\n",
      "\u001b[32m2023-10-22 10:50:51.621\u001b[0m | \u001b[1mINFO    \u001b[0m | \u001b[36m__main__\u001b[0m:\u001b[36mrun_pipeline_self\u001b[0m:\u001b[36m79\u001b[0m - \u001b[1m%294 - Running pipeline for row_seed: 602 and size_of_unlabelled_data: 0.9 and model: KNeighborsClassifier(metric='euclidean', weights='distance')\u001b[0m\n",
      "\u001b[32m2023-10-22 10:50:51.640\u001b[0m | \u001b[1mINFO    \u001b[0m | \u001b[36m__main__\u001b[0m:\u001b[36mrun_pipeline_self\u001b[0m:\u001b[36m79\u001b[0m - \u001b[1m%295 - Running pipeline for row_seed: 412 and size_of_unlabelled_data: 0.9 and model: KNeighborsClassifier(metric='euclidean', weights='distance')\u001b[0m\n",
      "\u001b[32m2023-10-22 10:50:51.659\u001b[0m | \u001b[1mINFO    \u001b[0m | \u001b[36m__main__\u001b[0m:\u001b[36mrun_pipeline_self\u001b[0m:\u001b[36m79\u001b[0m - \u001b[1m%296 - Running pipeline for row_seed: 214 and size_of_unlabelled_data: 0.9 and model: KNeighborsClassifier(metric='euclidean', weights='distance')\u001b[0m\n",
      "\u001b[32m2023-10-22 10:50:51.676\u001b[0m | \u001b[1mINFO    \u001b[0m | \u001b[36m__main__\u001b[0m:\u001b[36mrun_pipeline_self\u001b[0m:\u001b[36m79\u001b[0m - \u001b[1m%297 - Running pipeline for row_seed: 754 and size_of_unlabelled_data: 0.9 and model: KNeighborsClassifier(metric='euclidean', weights='distance')\u001b[0m\n",
      "\u001b[32m2023-10-22 10:50:51.693\u001b[0m | \u001b[1mINFO    \u001b[0m | \u001b[36m__main__\u001b[0m:\u001b[36mrun_pipeline_self\u001b[0m:\u001b[36m79\u001b[0m - \u001b[1m%298 - Running pipeline for row_seed: 457 and size_of_unlabelled_data: 0.9 and model: KNeighborsClassifier(metric='euclidean', weights='distance')\u001b[0m\n",
      "\u001b[32m2023-10-22 10:50:51.713\u001b[0m | \u001b[1mINFO    \u001b[0m | \u001b[36m__main__\u001b[0m:\u001b[36mrun_pipeline_self\u001b[0m:\u001b[36m79\u001b[0m - \u001b[1m%299 - Running pipeline for row_seed: 2023 and size_of_unlabelled_data: 0.9 and model: KNeighborsClassifier(metric='euclidean', weights='distance')\u001b[0m\n",
      "\u001b[32m2023-10-22 10:50:51.730\u001b[0m | \u001b[1mINFO    \u001b[0m | \u001b[36m__main__\u001b[0m:\u001b[36mrun_pipeline_self\u001b[0m:\u001b[36m79\u001b[0m - \u001b[1m%300 - Running pipeline for row_seed: 3202 and size_of_unlabelled_data: 0.9 and model: KNeighborsClassifier(metric='euclidean', weights='distance')\u001b[0m\n",
      "\u001b[32m2023-10-22 10:50:51.747\u001b[0m | \u001b[1mINFO    \u001b[0m | \u001b[36m__main__\u001b[0m:\u001b[36mrun_pipeline_self\u001b[0m:\u001b[36m75\u001b[0m - \u001b[1mModel: RandomForestClassifier(max_depth=15, min_samples_leaf=2)\u001b[0m\n",
      "\u001b[32m2023-10-22 10:50:51.747\u001b[0m | \u001b[1mINFO    \u001b[0m | \u001b[36m__main__\u001b[0m:\u001b[36mrun_pipeline_self\u001b[0m:\u001b[36m76\u001b[0m - \u001b[1mSize of unlabelled data: 0.1\u001b[0m\n",
      "\u001b[32m2023-10-22 10:50:51.748\u001b[0m | \u001b[1mINFO    \u001b[0m | \u001b[36m__main__\u001b[0m:\u001b[36mrun_pipeline_self\u001b[0m:\u001b[36m79\u001b[0m - \u001b[1m%301 - Running pipeline for row_seed: 24 and size_of_unlabelled_data: 0.1 and model: RandomForestClassifier(max_depth=15, min_samples_leaf=2)\u001b[0m\n"
     ]
    },
    {
     "name": "stdout",
     "output_type": "stream",
     "text": [
      "\n",
      "\n",
      "\n",
      "\n"
     ]
    },
    {
     "name": "stderr",
     "output_type": "stream",
     "text": [
      "\u001b[32m2023-10-22 10:50:52.265\u001b[0m | \u001b[1mINFO    \u001b[0m | \u001b[36m__main__\u001b[0m:\u001b[36mrun_pipeline_self\u001b[0m:\u001b[36m79\u001b[0m - \u001b[1m%302 - Running pipeline for row_seed: 42 and size_of_unlabelled_data: 0.1 and model: RandomForestClassifier(max_depth=15, min_samples_leaf=2)\u001b[0m\n",
      "\u001b[32m2023-10-22 10:50:52.955\u001b[0m | \u001b[1mINFO    \u001b[0m | \u001b[36m__main__\u001b[0m:\u001b[36mrun_pipeline_self\u001b[0m:\u001b[36m79\u001b[0m - \u001b[1m%303 - Running pipeline for row_seed: 206 and size_of_unlabelled_data: 0.1 and model: RandomForestClassifier(max_depth=15, min_samples_leaf=2)\u001b[0m\n",
      "\u001b[32m2023-10-22 10:50:53.556\u001b[0m | \u001b[1mINFO    \u001b[0m | \u001b[36m__main__\u001b[0m:\u001b[36mrun_pipeline_self\u001b[0m:\u001b[36m79\u001b[0m - \u001b[1m%304 - Running pipeline for row_seed: 602 and size_of_unlabelled_data: 0.1 and model: RandomForestClassifier(max_depth=15, min_samples_leaf=2)\u001b[0m\n",
      "\u001b[32m2023-10-22 10:50:54.047\u001b[0m | \u001b[1mINFO    \u001b[0m | \u001b[36m__main__\u001b[0m:\u001b[36mrun_pipeline_self\u001b[0m:\u001b[36m79\u001b[0m - \u001b[1m%305 - Running pipeline for row_seed: 412 and size_of_unlabelled_data: 0.1 and model: RandomForestClassifier(max_depth=15, min_samples_leaf=2)\u001b[0m\n",
      "\u001b[32m2023-10-22 10:50:54.919\u001b[0m | \u001b[1mINFO    \u001b[0m | \u001b[36m__main__\u001b[0m:\u001b[36mrun_pipeline_self\u001b[0m:\u001b[36m79\u001b[0m - \u001b[1m%306 - Running pipeline for row_seed: 214 and size_of_unlabelled_data: 0.1 and model: RandomForestClassifier(max_depth=15, min_samples_leaf=2)\u001b[0m\n",
      "\u001b[32m2023-10-22 10:50:55.320\u001b[0m | \u001b[1mINFO    \u001b[0m | \u001b[36m__main__\u001b[0m:\u001b[36mrun_pipeline_self\u001b[0m:\u001b[36m79\u001b[0m - \u001b[1m%307 - Running pipeline for row_seed: 754 and size_of_unlabelled_data: 0.1 and model: RandomForestClassifier(max_depth=15, min_samples_leaf=2)\u001b[0m\n",
      "\u001b[32m2023-10-22 10:50:55.901\u001b[0m | \u001b[1mINFO    \u001b[0m | \u001b[36m__main__\u001b[0m:\u001b[36mrun_pipeline_self\u001b[0m:\u001b[36m79\u001b[0m - \u001b[1m%308 - Running pipeline for row_seed: 457 and size_of_unlabelled_data: 0.1 and model: RandomForestClassifier(max_depth=15, min_samples_leaf=2)\u001b[0m\n",
      "\u001b[32m2023-10-22 10:50:56.600\u001b[0m | \u001b[1mINFO    \u001b[0m | \u001b[36m__main__\u001b[0m:\u001b[36mrun_pipeline_self\u001b[0m:\u001b[36m79\u001b[0m - \u001b[1m%309 - Running pipeline for row_seed: 2023 and size_of_unlabelled_data: 0.1 and model: RandomForestClassifier(max_depth=15, min_samples_leaf=2)\u001b[0m\n",
      "\u001b[32m2023-10-22 10:50:57.371\u001b[0m | \u001b[1mINFO    \u001b[0m | \u001b[36m__main__\u001b[0m:\u001b[36mrun_pipeline_self\u001b[0m:\u001b[36m79\u001b[0m - \u001b[1m%310 - Running pipeline for row_seed: 3202 and size_of_unlabelled_data: 0.1 and model: RandomForestClassifier(max_depth=15, min_samples_leaf=2)\u001b[0m\n",
      "\u001b[32m2023-10-22 10:50:57.760\u001b[0m | \u001b[1mINFO    \u001b[0m | \u001b[36m__main__\u001b[0m:\u001b[36mrun_pipeline_self\u001b[0m:\u001b[36m75\u001b[0m - \u001b[1mModel: RandomForestClassifier(max_depth=15, min_samples_leaf=2)\u001b[0m\n",
      "\u001b[32m2023-10-22 10:50:57.761\u001b[0m | \u001b[1mINFO    \u001b[0m | \u001b[36m__main__\u001b[0m:\u001b[36mrun_pipeline_self\u001b[0m:\u001b[36m76\u001b[0m - \u001b[1mSize of unlabelled data: 0.2\u001b[0m\n",
      "\u001b[32m2023-10-22 10:50:57.762\u001b[0m | \u001b[1mINFO    \u001b[0m | \u001b[36m__main__\u001b[0m:\u001b[36mrun_pipeline_self\u001b[0m:\u001b[36m79\u001b[0m - \u001b[1m%311 - Running pipeline for row_seed: 24 and size_of_unlabelled_data: 0.2 and model: RandomForestClassifier(max_depth=15, min_samples_leaf=2)\u001b[0m\n"
     ]
    },
    {
     "name": "stdout",
     "output_type": "stream",
     "text": [
      "\n",
      "\n"
     ]
    },
    {
     "name": "stderr",
     "output_type": "stream",
     "text": [
      "\u001b[32m2023-10-22 10:50:58.520\u001b[0m | \u001b[1mINFO    \u001b[0m | \u001b[36m__main__\u001b[0m:\u001b[36mrun_pipeline_self\u001b[0m:\u001b[36m79\u001b[0m - \u001b[1m%312 - Running pipeline for row_seed: 42 and size_of_unlabelled_data: 0.2 and model: RandomForestClassifier(max_depth=15, min_samples_leaf=2)\u001b[0m\n",
      "\u001b[32m2023-10-22 10:50:59.579\u001b[0m | \u001b[1mINFO    \u001b[0m | \u001b[36m__main__\u001b[0m:\u001b[36mrun_pipeline_self\u001b[0m:\u001b[36m79\u001b[0m - \u001b[1m%313 - Running pipeline for row_seed: 206 and size_of_unlabelled_data: 0.2 and model: RandomForestClassifier(max_depth=15, min_samples_leaf=2)\u001b[0m\n",
      "\u001b[32m2023-10-22 10:51:00.259\u001b[0m | \u001b[1mINFO    \u001b[0m | \u001b[36m__main__\u001b[0m:\u001b[36mrun_pipeline_self\u001b[0m:\u001b[36m79\u001b[0m - \u001b[1m%314 - Running pipeline for row_seed: 602 and size_of_unlabelled_data: 0.2 and model: RandomForestClassifier(max_depth=15, min_samples_leaf=2)\u001b[0m\n",
      "\u001b[32m2023-10-22 10:51:00.851\u001b[0m | \u001b[1mINFO    \u001b[0m | \u001b[36m__main__\u001b[0m:\u001b[36mrun_pipeline_self\u001b[0m:\u001b[36m79\u001b[0m - \u001b[1m%315 - Running pipeline for row_seed: 412 and size_of_unlabelled_data: 0.2 and model: RandomForestClassifier(max_depth=15, min_samples_leaf=2)\u001b[0m\n",
      "\u001b[32m2023-10-22 10:51:01.632\u001b[0m | \u001b[1mINFO    \u001b[0m | \u001b[36m__main__\u001b[0m:\u001b[36mrun_pipeline_self\u001b[0m:\u001b[36m79\u001b[0m - \u001b[1m%316 - Running pipeline for row_seed: 214 and size_of_unlabelled_data: 0.2 and model: RandomForestClassifier(max_depth=15, min_samples_leaf=2)\u001b[0m\n",
      "\u001b[32m2023-10-22 10:51:02.128\u001b[0m | \u001b[1mINFO    \u001b[0m | \u001b[36m__main__\u001b[0m:\u001b[36mrun_pipeline_self\u001b[0m:\u001b[36m79\u001b[0m - \u001b[1m%317 - Running pipeline for row_seed: 754 and size_of_unlabelled_data: 0.2 and model: RandomForestClassifier(max_depth=15, min_samples_leaf=2)\u001b[0m\n",
      "\u001b[32m2023-10-22 10:51:02.910\u001b[0m | \u001b[1mINFO    \u001b[0m | \u001b[36m__main__\u001b[0m:\u001b[36mrun_pipeline_self\u001b[0m:\u001b[36m79\u001b[0m - \u001b[1m%318 - Running pipeline for row_seed: 457 and size_of_unlabelled_data: 0.2 and model: RandomForestClassifier(max_depth=15, min_samples_leaf=2)\u001b[0m\n",
      "\u001b[32m2023-10-22 10:51:03.595\u001b[0m | \u001b[1mINFO    \u001b[0m | \u001b[36m__main__\u001b[0m:\u001b[36mrun_pipeline_self\u001b[0m:\u001b[36m79\u001b[0m - \u001b[1m%319 - Running pipeline for row_seed: 2023 and size_of_unlabelled_data: 0.2 and model: RandomForestClassifier(max_depth=15, min_samples_leaf=2)\u001b[0m\n",
      "\u001b[32m2023-10-22 10:51:04.077\u001b[0m | \u001b[1mINFO    \u001b[0m | \u001b[36m__main__\u001b[0m:\u001b[36mrun_pipeline_self\u001b[0m:\u001b[36m79\u001b[0m - \u001b[1m%320 - Running pipeline for row_seed: 3202 and size_of_unlabelled_data: 0.2 and model: RandomForestClassifier(max_depth=15, min_samples_leaf=2)\u001b[0m\n",
      "\u001b[32m2023-10-22 10:51:04.645\u001b[0m | \u001b[1mINFO    \u001b[0m | \u001b[36m__main__\u001b[0m:\u001b[36mrun_pipeline_self\u001b[0m:\u001b[36m75\u001b[0m - \u001b[1mModel: RandomForestClassifier(max_depth=15, min_samples_leaf=2)\u001b[0m\n",
      "\u001b[32m2023-10-22 10:51:04.646\u001b[0m | \u001b[1mINFO    \u001b[0m | \u001b[36m__main__\u001b[0m:\u001b[36mrun_pipeline_self\u001b[0m:\u001b[36m76\u001b[0m - \u001b[1mSize of unlabelled data: 0.3\u001b[0m\n",
      "\u001b[32m2023-10-22 10:51:04.646\u001b[0m | \u001b[1mINFO    \u001b[0m | \u001b[36m__main__\u001b[0m:\u001b[36mrun_pipeline_self\u001b[0m:\u001b[36m79\u001b[0m - \u001b[1m%321 - Running pipeline for row_seed: 24 and size_of_unlabelled_data: 0.3 and model: RandomForestClassifier(max_depth=15, min_samples_leaf=2)\u001b[0m\n"
     ]
    },
    {
     "name": "stdout",
     "output_type": "stream",
     "text": [
      "\n",
      "\n"
     ]
    },
    {
     "name": "stderr",
     "output_type": "stream",
     "text": [
      "\u001b[32m2023-10-22 10:51:05.638\u001b[0m | \u001b[1mINFO    \u001b[0m | \u001b[36m__main__\u001b[0m:\u001b[36mrun_pipeline_self\u001b[0m:\u001b[36m79\u001b[0m - \u001b[1m%322 - Running pipeline for row_seed: 42 and size_of_unlabelled_data: 0.3 and model: RandomForestClassifier(max_depth=15, min_samples_leaf=2)\u001b[0m\n",
      "\u001b[32m2023-10-22 10:51:06.730\u001b[0m | \u001b[1mINFO    \u001b[0m | \u001b[36m__main__\u001b[0m:\u001b[36mrun_pipeline_self\u001b[0m:\u001b[36m79\u001b[0m - \u001b[1m%323 - Running pipeline for row_seed: 206 and size_of_unlabelled_data: 0.3 and model: RandomForestClassifier(max_depth=15, min_samples_leaf=2)\u001b[0m\n",
      "\u001b[32m2023-10-22 10:51:07.688\u001b[0m | \u001b[1mINFO    \u001b[0m | \u001b[36m__main__\u001b[0m:\u001b[36mrun_pipeline_self\u001b[0m:\u001b[36m79\u001b[0m - \u001b[1m%324 - Running pipeline for row_seed: 602 and size_of_unlabelled_data: 0.3 and model: RandomForestClassifier(max_depth=15, min_samples_leaf=2)\u001b[0m\n",
      "\u001b[32m2023-10-22 10:51:08.811\u001b[0m | \u001b[1mINFO    \u001b[0m | \u001b[36m__main__\u001b[0m:\u001b[36mrun_pipeline_self\u001b[0m:\u001b[36m79\u001b[0m - \u001b[1m%325 - Running pipeline for row_seed: 412 and size_of_unlabelled_data: 0.3 and model: RandomForestClassifier(max_depth=15, min_samples_leaf=2)\u001b[0m\n",
      "\u001b[32m2023-10-22 10:51:09.593\u001b[0m | \u001b[1mINFO    \u001b[0m | \u001b[36m__main__\u001b[0m:\u001b[36mrun_pipeline_self\u001b[0m:\u001b[36m79\u001b[0m - \u001b[1m%326 - Running pipeline for row_seed: 214 and size_of_unlabelled_data: 0.3 and model: RandomForestClassifier(max_depth=15, min_samples_leaf=2)\u001b[0m\n",
      "\u001b[32m2023-10-22 10:51:10.518\u001b[0m | \u001b[1mINFO    \u001b[0m | \u001b[36m__main__\u001b[0m:\u001b[36mrun_pipeline_self\u001b[0m:\u001b[36m79\u001b[0m - \u001b[1m%327 - Running pipeline for row_seed: 754 and size_of_unlabelled_data: 0.3 and model: RandomForestClassifier(max_depth=15, min_samples_leaf=2)\u001b[0m\n",
      "\u001b[32m2023-10-22 10:51:11.437\u001b[0m | \u001b[1mINFO    \u001b[0m | \u001b[36m__main__\u001b[0m:\u001b[36mrun_pipeline_self\u001b[0m:\u001b[36m79\u001b[0m - \u001b[1m%328 - Running pipeline for row_seed: 457 and size_of_unlabelled_data: 0.3 and model: RandomForestClassifier(max_depth=15, min_samples_leaf=2)\u001b[0m\n",
      "\u001b[32m2023-10-22 10:51:12.271\u001b[0m | \u001b[1mINFO    \u001b[0m | \u001b[36m__main__\u001b[0m:\u001b[36mrun_pipeline_self\u001b[0m:\u001b[36m79\u001b[0m - \u001b[1m%329 - Running pipeline for row_seed: 2023 and size_of_unlabelled_data: 0.3 and model: RandomForestClassifier(max_depth=15, min_samples_leaf=2)\u001b[0m\n",
      "\u001b[32m2023-10-22 10:51:13.000\u001b[0m | \u001b[1mINFO    \u001b[0m | \u001b[36m__main__\u001b[0m:\u001b[36mrun_pipeline_self\u001b[0m:\u001b[36m79\u001b[0m - \u001b[1m%330 - Running pipeline for row_seed: 3202 and size_of_unlabelled_data: 0.3 and model: RandomForestClassifier(max_depth=15, min_samples_leaf=2)\u001b[0m\n",
      "\u001b[32m2023-10-22 10:51:14.008\u001b[0m | \u001b[1mINFO    \u001b[0m | \u001b[36m__main__\u001b[0m:\u001b[36mrun_pipeline_self\u001b[0m:\u001b[36m75\u001b[0m - \u001b[1mModel: RandomForestClassifier(max_depth=15, min_samples_leaf=2)\u001b[0m\n",
      "\u001b[32m2023-10-22 10:51:14.008\u001b[0m | \u001b[1mINFO    \u001b[0m | \u001b[36m__main__\u001b[0m:\u001b[36mrun_pipeline_self\u001b[0m:\u001b[36m76\u001b[0m - \u001b[1mSize of unlabelled data: 0.4\u001b[0m\n",
      "\u001b[32m2023-10-22 10:51:14.009\u001b[0m | \u001b[1mINFO    \u001b[0m | \u001b[36m__main__\u001b[0m:\u001b[36mrun_pipeline_self\u001b[0m:\u001b[36m79\u001b[0m - \u001b[1m%331 - Running pipeline for row_seed: 24 and size_of_unlabelled_data: 0.4 and model: RandomForestClassifier(max_depth=15, min_samples_leaf=2)\u001b[0m\n"
     ]
    },
    {
     "name": "stdout",
     "output_type": "stream",
     "text": [
      "\n",
      "\n"
     ]
    },
    {
     "name": "stderr",
     "output_type": "stream",
     "text": [
      "\u001b[32m2023-10-22 10:51:15.056\u001b[0m | \u001b[1mINFO    \u001b[0m | \u001b[36m__main__\u001b[0m:\u001b[36mrun_pipeline_self\u001b[0m:\u001b[36m79\u001b[0m - \u001b[1m%332 - Running pipeline for row_seed: 42 and size_of_unlabelled_data: 0.4 and model: RandomForestClassifier(max_depth=15, min_samples_leaf=2)\u001b[0m\n",
      "\u001b[32m2023-10-22 10:51:16.071\u001b[0m | \u001b[1mINFO    \u001b[0m | \u001b[36m__main__\u001b[0m:\u001b[36mrun_pipeline_self\u001b[0m:\u001b[36m79\u001b[0m - \u001b[1m%333 - Running pipeline for row_seed: 206 and size_of_unlabelled_data: 0.4 and model: RandomForestClassifier(max_depth=15, min_samples_leaf=2)\u001b[0m\n",
      "\u001b[32m2023-10-22 10:51:17.072\u001b[0m | \u001b[1mINFO    \u001b[0m | \u001b[36m__main__\u001b[0m:\u001b[36mrun_pipeline_self\u001b[0m:\u001b[36m79\u001b[0m - \u001b[1m%334 - Running pipeline for row_seed: 602 and size_of_unlabelled_data: 0.4 and model: RandomForestClassifier(max_depth=15, min_samples_leaf=2)\u001b[0m\n",
      "\u001b[32m2023-10-22 10:51:18.066\u001b[0m | \u001b[1mINFO    \u001b[0m | \u001b[36m__main__\u001b[0m:\u001b[36mrun_pipeline_self\u001b[0m:\u001b[36m79\u001b[0m - \u001b[1m%335 - Running pipeline for row_seed: 412 and size_of_unlabelled_data: 0.4 and model: RandomForestClassifier(max_depth=15, min_samples_leaf=2)\u001b[0m\n",
      "\u001b[32m2023-10-22 10:51:18.697\u001b[0m | \u001b[1mINFO    \u001b[0m | \u001b[36m__main__\u001b[0m:\u001b[36mrun_pipeline_self\u001b[0m:\u001b[36m79\u001b[0m - \u001b[1m%336 - Running pipeline for row_seed: 214 and size_of_unlabelled_data: 0.4 and model: RandomForestClassifier(max_depth=15, min_samples_leaf=2)\u001b[0m\n",
      "\u001b[32m2023-10-22 10:51:19.681\u001b[0m | \u001b[1mINFO    \u001b[0m | \u001b[36m__main__\u001b[0m:\u001b[36mrun_pipeline_self\u001b[0m:\u001b[36m79\u001b[0m - \u001b[1m%337 - Running pipeline for row_seed: 754 and size_of_unlabelled_data: 0.4 and model: RandomForestClassifier(max_depth=15, min_samples_leaf=2)\u001b[0m\n",
      "\u001b[32m2023-10-22 10:51:20.586\u001b[0m | \u001b[1mINFO    \u001b[0m | \u001b[36m__main__\u001b[0m:\u001b[36mrun_pipeline_self\u001b[0m:\u001b[36m79\u001b[0m - \u001b[1m%338 - Running pipeline for row_seed: 457 and size_of_unlabelled_data: 0.4 and model: RandomForestClassifier(max_depth=15, min_samples_leaf=2)\u001b[0m\n",
      "\u001b[32m2023-10-22 10:51:21.581\u001b[0m | \u001b[1mINFO    \u001b[0m | \u001b[36m__main__\u001b[0m:\u001b[36mrun_pipeline_self\u001b[0m:\u001b[36m79\u001b[0m - \u001b[1m%339 - Running pipeline for row_seed: 2023 and size_of_unlabelled_data: 0.4 and model: RandomForestClassifier(max_depth=15, min_samples_leaf=2)\u001b[0m\n",
      "\u001b[32m2023-10-22 10:51:22.569\u001b[0m | \u001b[1mINFO    \u001b[0m | \u001b[36m__main__\u001b[0m:\u001b[36mrun_pipeline_self\u001b[0m:\u001b[36m79\u001b[0m - \u001b[1m%340 - Running pipeline for row_seed: 3202 and size_of_unlabelled_data: 0.4 and model: RandomForestClassifier(max_depth=15, min_samples_leaf=2)\u001b[0m\n",
      "\u001b[32m2023-10-22 10:51:23.567\u001b[0m | \u001b[1mINFO    \u001b[0m | \u001b[36m__main__\u001b[0m:\u001b[36mrun_pipeline_self\u001b[0m:\u001b[36m75\u001b[0m - \u001b[1mModel: RandomForestClassifier(max_depth=15, min_samples_leaf=2)\u001b[0m\n",
      "\u001b[32m2023-10-22 10:51:23.568\u001b[0m | \u001b[1mINFO    \u001b[0m | \u001b[36m__main__\u001b[0m:\u001b[36mrun_pipeline_self\u001b[0m:\u001b[36m76\u001b[0m - \u001b[1mSize of unlabelled data: 0.5\u001b[0m\n",
      "\u001b[32m2023-10-22 10:51:23.568\u001b[0m | \u001b[1mINFO    \u001b[0m | \u001b[36m__main__\u001b[0m:\u001b[36mrun_pipeline_self\u001b[0m:\u001b[36m79\u001b[0m - \u001b[1m%341 - Running pipeline for row_seed: 24 and size_of_unlabelled_data: 0.5 and model: RandomForestClassifier(max_depth=15, min_samples_leaf=2)\u001b[0m\n"
     ]
    },
    {
     "name": "stdout",
     "output_type": "stream",
     "text": [
      "\n",
      "\n"
     ]
    },
    {
     "name": "stderr",
     "output_type": "stream",
     "text": [
      "\u001b[32m2023-10-22 10:51:24.546\u001b[0m | \u001b[1mINFO    \u001b[0m | \u001b[36m__main__\u001b[0m:\u001b[36mrun_pipeline_self\u001b[0m:\u001b[36m79\u001b[0m - \u001b[1m%342 - Running pipeline for row_seed: 42 and size_of_unlabelled_data: 0.5 and model: RandomForestClassifier(max_depth=15, min_samples_leaf=2)\u001b[0m\n",
      "\u001b[32m2023-10-22 10:51:25.431\u001b[0m | \u001b[1mINFO    \u001b[0m | \u001b[36m__main__\u001b[0m:\u001b[36mrun_pipeline_self\u001b[0m:\u001b[36m79\u001b[0m - \u001b[1m%343 - Running pipeline for row_seed: 206 and size_of_unlabelled_data: 0.5 and model: RandomForestClassifier(max_depth=15, min_samples_leaf=2)\u001b[0m\n",
      "\u001b[32m2023-10-22 10:51:26.237\u001b[0m | \u001b[1mINFO    \u001b[0m | \u001b[36m__main__\u001b[0m:\u001b[36mrun_pipeline_self\u001b[0m:\u001b[36m79\u001b[0m - \u001b[1m%344 - Running pipeline for row_seed: 602 and size_of_unlabelled_data: 0.5 and model: RandomForestClassifier(max_depth=15, min_samples_leaf=2)\u001b[0m\n",
      "\u001b[32m2023-10-22 10:51:27.212\u001b[0m | \u001b[1mINFO    \u001b[0m | \u001b[36m__main__\u001b[0m:\u001b[36mrun_pipeline_self\u001b[0m:\u001b[36m79\u001b[0m - \u001b[1m%345 - Running pipeline for row_seed: 412 and size_of_unlabelled_data: 0.5 and model: RandomForestClassifier(max_depth=15, min_samples_leaf=2)\u001b[0m\n",
      "\u001b[32m2023-10-22 10:51:28.101\u001b[0m | \u001b[1mINFO    \u001b[0m | \u001b[36m__main__\u001b[0m:\u001b[36mrun_pipeline_self\u001b[0m:\u001b[36m79\u001b[0m - \u001b[1m%346 - Running pipeline for row_seed: 214 and size_of_unlabelled_data: 0.5 and model: RandomForestClassifier(max_depth=15, min_samples_leaf=2)\u001b[0m\n",
      "\u001b[32m2023-10-22 10:51:29.073\u001b[0m | \u001b[1mINFO    \u001b[0m | \u001b[36m__main__\u001b[0m:\u001b[36mrun_pipeline_self\u001b[0m:\u001b[36m79\u001b[0m - \u001b[1m%347 - Running pipeline for row_seed: 754 and size_of_unlabelled_data: 0.5 and model: RandomForestClassifier(max_depth=15, min_samples_leaf=2)\u001b[0m\n",
      "\u001b[32m2023-10-22 10:51:30.041\u001b[0m | \u001b[1mINFO    \u001b[0m | \u001b[36m__main__\u001b[0m:\u001b[36mrun_pipeline_self\u001b[0m:\u001b[36m79\u001b[0m - \u001b[1m%348 - Running pipeline for row_seed: 457 and size_of_unlabelled_data: 0.5 and model: RandomForestClassifier(max_depth=15, min_samples_leaf=2)\u001b[0m\n",
      "\u001b[32m2023-10-22 10:51:31.033\u001b[0m | \u001b[1mINFO    \u001b[0m | \u001b[36m__main__\u001b[0m:\u001b[36mrun_pipeline_self\u001b[0m:\u001b[36m79\u001b[0m - \u001b[1m%349 - Running pipeline for row_seed: 2023 and size_of_unlabelled_data: 0.5 and model: RandomForestClassifier(max_depth=15, min_samples_leaf=2)\u001b[0m\n",
      "\u001b[32m2023-10-22 10:51:32.006\u001b[0m | \u001b[1mINFO    \u001b[0m | \u001b[36m__main__\u001b[0m:\u001b[36mrun_pipeline_self\u001b[0m:\u001b[36m79\u001b[0m - \u001b[1m%350 - Running pipeline for row_seed: 3202 and size_of_unlabelled_data: 0.5 and model: RandomForestClassifier(max_depth=15, min_samples_leaf=2)\u001b[0m\n",
      "\u001b[32m2023-10-22 10:51:32.979\u001b[0m | \u001b[1mINFO    \u001b[0m | \u001b[36m__main__\u001b[0m:\u001b[36mrun_pipeline_self\u001b[0m:\u001b[36m75\u001b[0m - \u001b[1mModel: RandomForestClassifier(max_depth=15, min_samples_leaf=2)\u001b[0m\n",
      "\u001b[32m2023-10-22 10:51:32.979\u001b[0m | \u001b[1mINFO    \u001b[0m | \u001b[36m__main__\u001b[0m:\u001b[36mrun_pipeline_self\u001b[0m:\u001b[36m76\u001b[0m - \u001b[1mSize of unlabelled data: 0.6\u001b[0m\n",
      "\u001b[32m2023-10-22 10:51:32.980\u001b[0m | \u001b[1mINFO    \u001b[0m | \u001b[36m__main__\u001b[0m:\u001b[36mrun_pipeline_self\u001b[0m:\u001b[36m79\u001b[0m - \u001b[1m%351 - Running pipeline for row_seed: 24 and size_of_unlabelled_data: 0.6 and model: RandomForestClassifier(max_depth=15, min_samples_leaf=2)\u001b[0m\n"
     ]
    },
    {
     "name": "stdout",
     "output_type": "stream",
     "text": [
      "\n",
      "\n"
     ]
    },
    {
     "name": "stderr",
     "output_type": "stream",
     "text": [
      "\u001b[32m2023-10-22 10:51:33.853\u001b[0m | \u001b[1mINFO    \u001b[0m | \u001b[36m__main__\u001b[0m:\u001b[36mrun_pipeline_self\u001b[0m:\u001b[36m79\u001b[0m - \u001b[1m%352 - Running pipeline for row_seed: 42 and size_of_unlabelled_data: 0.6 and model: RandomForestClassifier(max_depth=15, min_samples_leaf=2)\u001b[0m\n",
      "\u001b[32m2023-10-22 10:51:34.806\u001b[0m | \u001b[1mINFO    \u001b[0m | \u001b[36m__main__\u001b[0m:\u001b[36mrun_pipeline_self\u001b[0m:\u001b[36m79\u001b[0m - \u001b[1m%353 - Running pipeline for row_seed: 206 and size_of_unlabelled_data: 0.6 and model: RandomForestClassifier(max_depth=15, min_samples_leaf=2)\u001b[0m\n",
      "\u001b[32m2023-10-22 10:51:35.766\u001b[0m | \u001b[1mINFO    \u001b[0m | \u001b[36m__main__\u001b[0m:\u001b[36mrun_pipeline_self\u001b[0m:\u001b[36m79\u001b[0m - \u001b[1m%354 - Running pipeline for row_seed: 602 and size_of_unlabelled_data: 0.6 and model: RandomForestClassifier(max_depth=15, min_samples_leaf=2)\u001b[0m\n",
      "\u001b[32m2023-10-22 10:51:36.721\u001b[0m | \u001b[1mINFO    \u001b[0m | \u001b[36m__main__\u001b[0m:\u001b[36mrun_pipeline_self\u001b[0m:\u001b[36m79\u001b[0m - \u001b[1m%355 - Running pipeline for row_seed: 412 and size_of_unlabelled_data: 0.6 and model: RandomForestClassifier(max_depth=15, min_samples_leaf=2)\u001b[0m\n",
      "\u001b[32m2023-10-22 10:51:37.694\u001b[0m | \u001b[1mINFO    \u001b[0m | \u001b[36m__main__\u001b[0m:\u001b[36mrun_pipeline_self\u001b[0m:\u001b[36m79\u001b[0m - \u001b[1m%356 - Running pipeline for row_seed: 214 and size_of_unlabelled_data: 0.6 and model: RandomForestClassifier(max_depth=15, min_samples_leaf=2)\u001b[0m\n",
      "\u001b[32m2023-10-22 10:51:38.670\u001b[0m | \u001b[1mINFO    \u001b[0m | \u001b[36m__main__\u001b[0m:\u001b[36mrun_pipeline_self\u001b[0m:\u001b[36m79\u001b[0m - \u001b[1m%357 - Running pipeline for row_seed: 754 and size_of_unlabelled_data: 0.6 and model: RandomForestClassifier(max_depth=15, min_samples_leaf=2)\u001b[0m\n",
      "\u001b[32m2023-10-22 10:51:39.626\u001b[0m | \u001b[1mINFO    \u001b[0m | \u001b[36m__main__\u001b[0m:\u001b[36mrun_pipeline_self\u001b[0m:\u001b[36m79\u001b[0m - \u001b[1m%358 - Running pipeline for row_seed: 457 and size_of_unlabelled_data: 0.6 and model: RandomForestClassifier(max_depth=15, min_samples_leaf=2)\u001b[0m\n",
      "\u001b[32m2023-10-22 10:51:40.581\u001b[0m | \u001b[1mINFO    \u001b[0m | \u001b[36m__main__\u001b[0m:\u001b[36mrun_pipeline_self\u001b[0m:\u001b[36m79\u001b[0m - \u001b[1m%359 - Running pipeline for row_seed: 2023 and size_of_unlabelled_data: 0.6 and model: RandomForestClassifier(max_depth=15, min_samples_leaf=2)\u001b[0m\n",
      "\u001b[32m2023-10-22 10:51:41.554\u001b[0m | \u001b[1mINFO    \u001b[0m | \u001b[36m__main__\u001b[0m:\u001b[36mrun_pipeline_self\u001b[0m:\u001b[36m79\u001b[0m - \u001b[1m%360 - Running pipeline for row_seed: 3202 and size_of_unlabelled_data: 0.6 and model: RandomForestClassifier(max_depth=15, min_samples_leaf=2)\u001b[0m\n",
      "\u001b[32m2023-10-22 10:51:42.522\u001b[0m | \u001b[1mINFO    \u001b[0m | \u001b[36m__main__\u001b[0m:\u001b[36mrun_pipeline_self\u001b[0m:\u001b[36m75\u001b[0m - \u001b[1mModel: RandomForestClassifier(max_depth=15, min_samples_leaf=2)\u001b[0m\n",
      "\u001b[32m2023-10-22 10:51:42.522\u001b[0m | \u001b[1mINFO    \u001b[0m | \u001b[36m__main__\u001b[0m:\u001b[36mrun_pipeline_self\u001b[0m:\u001b[36m76\u001b[0m - \u001b[1mSize of unlabelled data: 0.7\u001b[0m\n",
      "\u001b[32m2023-10-22 10:51:42.523\u001b[0m | \u001b[1mINFO    \u001b[0m | \u001b[36m__main__\u001b[0m:\u001b[36mrun_pipeline_self\u001b[0m:\u001b[36m79\u001b[0m - \u001b[1m%361 - Running pipeline for row_seed: 24 and size_of_unlabelled_data: 0.7 and model: RandomForestClassifier(max_depth=15, min_samples_leaf=2)\u001b[0m\n"
     ]
    },
    {
     "name": "stdout",
     "output_type": "stream",
     "text": [
      "\n",
      "\n"
     ]
    },
    {
     "name": "stderr",
     "output_type": "stream",
     "text": [
      "\u001b[32m2023-10-22 10:51:43.211\u001b[0m | \u001b[1mINFO    \u001b[0m | \u001b[36m__main__\u001b[0m:\u001b[36mrun_pipeline_self\u001b[0m:\u001b[36m79\u001b[0m - \u001b[1m%362 - Running pipeline for row_seed: 42 and size_of_unlabelled_data: 0.7 and model: RandomForestClassifier(max_depth=15, min_samples_leaf=2)\u001b[0m\n",
      "\u001b[32m2023-10-22 10:51:44.157\u001b[0m | \u001b[1mINFO    \u001b[0m | \u001b[36m__main__\u001b[0m:\u001b[36mrun_pipeline_self\u001b[0m:\u001b[36m79\u001b[0m - \u001b[1m%363 - Running pipeline for row_seed: 206 and size_of_unlabelled_data: 0.7 and model: RandomForestClassifier(max_depth=15, min_samples_leaf=2)\u001b[0m\n",
      "\u001b[32m2023-10-22 10:51:45.103\u001b[0m | \u001b[1mINFO    \u001b[0m | \u001b[36m__main__\u001b[0m:\u001b[36mrun_pipeline_self\u001b[0m:\u001b[36m79\u001b[0m - \u001b[1m%364 - Running pipeline for row_seed: 602 and size_of_unlabelled_data: 0.7 and model: RandomForestClassifier(max_depth=15, min_samples_leaf=2)\u001b[0m\n",
      "\u001b[32m2023-10-22 10:51:45.873\u001b[0m | \u001b[1mINFO    \u001b[0m | \u001b[36m__main__\u001b[0m:\u001b[36mrun_pipeline_self\u001b[0m:\u001b[36m79\u001b[0m - \u001b[1m%365 - Running pipeline for row_seed: 412 and size_of_unlabelled_data: 0.7 and model: RandomForestClassifier(max_depth=15, min_samples_leaf=2)\u001b[0m\n",
      "\u001b[32m2023-10-22 10:51:46.815\u001b[0m | \u001b[1mINFO    \u001b[0m | \u001b[36m__main__\u001b[0m:\u001b[36mrun_pipeline_self\u001b[0m:\u001b[36m79\u001b[0m - \u001b[1m%366 - Running pipeline for row_seed: 214 and size_of_unlabelled_data: 0.7 and model: RandomForestClassifier(max_depth=15, min_samples_leaf=2)\u001b[0m\n",
      "\u001b[32m2023-10-22 10:51:47.773\u001b[0m | \u001b[1mINFO    \u001b[0m | \u001b[36m__main__\u001b[0m:\u001b[36mrun_pipeline_self\u001b[0m:\u001b[36m79\u001b[0m - \u001b[1m%367 - Running pipeline for row_seed: 754 and size_of_unlabelled_data: 0.7 and model: RandomForestClassifier(max_depth=15, min_samples_leaf=2)\u001b[0m\n",
      "\u001b[32m2023-10-22 10:51:48.716\u001b[0m | \u001b[1mINFO    \u001b[0m | \u001b[36m__main__\u001b[0m:\u001b[36mrun_pipeline_self\u001b[0m:\u001b[36m79\u001b[0m - \u001b[1m%368 - Running pipeline for row_seed: 457 and size_of_unlabelled_data: 0.7 and model: RandomForestClassifier(max_depth=15, min_samples_leaf=2)\u001b[0m\n",
      "\u001b[32m2023-10-22 10:51:49.670\u001b[0m | \u001b[1mINFO    \u001b[0m | \u001b[36m__main__\u001b[0m:\u001b[36mrun_pipeline_self\u001b[0m:\u001b[36m79\u001b[0m - \u001b[1m%369 - Running pipeline for row_seed: 2023 and size_of_unlabelled_data: 0.7 and model: RandomForestClassifier(max_depth=15, min_samples_leaf=2)\u001b[0m\n",
      "\u001b[32m2023-10-22 10:51:50.627\u001b[0m | \u001b[1mINFO    \u001b[0m | \u001b[36m__main__\u001b[0m:\u001b[36mrun_pipeline_self\u001b[0m:\u001b[36m79\u001b[0m - \u001b[1m%370 - Running pipeline for row_seed: 3202 and size_of_unlabelled_data: 0.7 and model: RandomForestClassifier(max_depth=15, min_samples_leaf=2)\u001b[0m\n",
      "\u001b[32m2023-10-22 10:51:51.563\u001b[0m | \u001b[1mINFO    \u001b[0m | \u001b[36m__main__\u001b[0m:\u001b[36mrun_pipeline_self\u001b[0m:\u001b[36m75\u001b[0m - \u001b[1mModel: RandomForestClassifier(max_depth=15, min_samples_leaf=2)\u001b[0m\n",
      "\u001b[32m2023-10-22 10:51:51.564\u001b[0m | \u001b[1mINFO    \u001b[0m | \u001b[36m__main__\u001b[0m:\u001b[36mrun_pipeline_self\u001b[0m:\u001b[36m76\u001b[0m - \u001b[1mSize of unlabelled data: 0.8\u001b[0m\n",
      "\u001b[32m2023-10-22 10:51:51.564\u001b[0m | \u001b[1mINFO    \u001b[0m | \u001b[36m__main__\u001b[0m:\u001b[36mrun_pipeline_self\u001b[0m:\u001b[36m79\u001b[0m - \u001b[1m%371 - Running pipeline for row_seed: 24 and size_of_unlabelled_data: 0.8 and model: RandomForestClassifier(max_depth=15, min_samples_leaf=2)\u001b[0m\n"
     ]
    },
    {
     "name": "stdout",
     "output_type": "stream",
     "text": [
      "\n",
      "\n"
     ]
    },
    {
     "name": "stderr",
     "output_type": "stream",
     "text": [
      "\u001b[32m2023-10-22 10:51:52.483\u001b[0m | \u001b[1mINFO    \u001b[0m | \u001b[36m__main__\u001b[0m:\u001b[36mrun_pipeline_self\u001b[0m:\u001b[36m79\u001b[0m - \u001b[1m%372 - Running pipeline for row_seed: 42 and size_of_unlabelled_data: 0.8 and model: RandomForestClassifier(max_depth=15, min_samples_leaf=2)\u001b[0m\n",
      "\u001b[32m2023-10-22 10:51:53.404\u001b[0m | \u001b[1mINFO    \u001b[0m | \u001b[36m__main__\u001b[0m:\u001b[36mrun_pipeline_self\u001b[0m:\u001b[36m79\u001b[0m - \u001b[1m%373 - Running pipeline for row_seed: 206 and size_of_unlabelled_data: 0.8 and model: RandomForestClassifier(max_depth=15, min_samples_leaf=2)\u001b[0m\n",
      "\u001b[32m2023-10-22 10:51:54.324\u001b[0m | \u001b[1mINFO    \u001b[0m | \u001b[36m__main__\u001b[0m:\u001b[36mrun_pipeline_self\u001b[0m:\u001b[36m79\u001b[0m - \u001b[1m%374 - Running pipeline for row_seed: 602 and size_of_unlabelled_data: 0.8 and model: RandomForestClassifier(max_depth=15, min_samples_leaf=2)\u001b[0m\n",
      "\u001b[32m2023-10-22 10:51:55.256\u001b[0m | \u001b[1mINFO    \u001b[0m | \u001b[36m__main__\u001b[0m:\u001b[36mrun_pipeline_self\u001b[0m:\u001b[36m79\u001b[0m - \u001b[1m%375 - Running pipeline for row_seed: 412 and size_of_unlabelled_data: 0.8 and model: RandomForestClassifier(max_depth=15, min_samples_leaf=2)\u001b[0m\n",
      "\u001b[32m2023-10-22 10:51:56.197\u001b[0m | \u001b[1mINFO    \u001b[0m | \u001b[36m__main__\u001b[0m:\u001b[36mrun_pipeline_self\u001b[0m:\u001b[36m79\u001b[0m - \u001b[1m%376 - Running pipeline for row_seed: 214 and size_of_unlabelled_data: 0.8 and model: RandomForestClassifier(max_depth=15, min_samples_leaf=2)\u001b[0m\n",
      "\u001b[32m2023-10-22 10:51:57.131\u001b[0m | \u001b[1mINFO    \u001b[0m | \u001b[36m__main__\u001b[0m:\u001b[36mrun_pipeline_self\u001b[0m:\u001b[36m79\u001b[0m - \u001b[1m%377 - Running pipeline for row_seed: 754 and size_of_unlabelled_data: 0.8 and model: RandomForestClassifier(max_depth=15, min_samples_leaf=2)\u001b[0m\n",
      "\u001b[32m2023-10-22 10:51:58.062\u001b[0m | \u001b[1mINFO    \u001b[0m | \u001b[36m__main__\u001b[0m:\u001b[36mrun_pipeline_self\u001b[0m:\u001b[36m79\u001b[0m - \u001b[1m%378 - Running pipeline for row_seed: 457 and size_of_unlabelled_data: 0.8 and model: RandomForestClassifier(max_depth=15, min_samples_leaf=2)\u001b[0m\n",
      "\u001b[32m2023-10-22 10:51:59.002\u001b[0m | \u001b[1mINFO    \u001b[0m | \u001b[36m__main__\u001b[0m:\u001b[36mrun_pipeline_self\u001b[0m:\u001b[36m79\u001b[0m - \u001b[1m%379 - Running pipeline for row_seed: 2023 and size_of_unlabelled_data: 0.8 and model: RandomForestClassifier(max_depth=15, min_samples_leaf=2)\u001b[0m\n",
      "\u001b[32m2023-10-22 10:51:59.963\u001b[0m | \u001b[1mINFO    \u001b[0m | \u001b[36m__main__\u001b[0m:\u001b[36mrun_pipeline_self\u001b[0m:\u001b[36m79\u001b[0m - \u001b[1m%380 - Running pipeline for row_seed: 3202 and size_of_unlabelled_data: 0.8 and model: RandomForestClassifier(max_depth=15, min_samples_leaf=2)\u001b[0m\n",
      "\u001b[32m2023-10-22 10:52:00.715\u001b[0m | \u001b[1mINFO    \u001b[0m | \u001b[36m__main__\u001b[0m:\u001b[36mrun_pipeline_self\u001b[0m:\u001b[36m75\u001b[0m - \u001b[1mModel: RandomForestClassifier(max_depth=15, min_samples_leaf=2)\u001b[0m\n",
      "\u001b[32m2023-10-22 10:52:00.716\u001b[0m | \u001b[1mINFO    \u001b[0m | \u001b[36m__main__\u001b[0m:\u001b[36mrun_pipeline_self\u001b[0m:\u001b[36m76\u001b[0m - \u001b[1mSize of unlabelled data: 0.85\u001b[0m\n",
      "\u001b[32m2023-10-22 10:52:00.716\u001b[0m | \u001b[1mINFO    \u001b[0m | \u001b[36m__main__\u001b[0m:\u001b[36mrun_pipeline_self\u001b[0m:\u001b[36m79\u001b[0m - \u001b[1m%381 - Running pipeline for row_seed: 24 and size_of_unlabelled_data: 0.85 and model: RandomForestClassifier(max_depth=15, min_samples_leaf=2)\u001b[0m\n"
     ]
    },
    {
     "name": "stdout",
     "output_type": "stream",
     "text": [
      "\n",
      "\n"
     ]
    },
    {
     "name": "stderr",
     "output_type": "stream",
     "text": [
      "\u001b[32m2023-10-22 10:52:01.631\u001b[0m | \u001b[1mINFO    \u001b[0m | \u001b[36m__main__\u001b[0m:\u001b[36mrun_pipeline_self\u001b[0m:\u001b[36m79\u001b[0m - \u001b[1m%382 - Running pipeline for row_seed: 42 and size_of_unlabelled_data: 0.85 and model: RandomForestClassifier(max_depth=15, min_samples_leaf=2)\u001b[0m\n",
      "\u001b[32m2023-10-22 10:52:02.529\u001b[0m | \u001b[1mINFO    \u001b[0m | \u001b[36m__main__\u001b[0m:\u001b[36mrun_pipeline_self\u001b[0m:\u001b[36m79\u001b[0m - \u001b[1m%383 - Running pipeline for row_seed: 206 and size_of_unlabelled_data: 0.85 and model: RandomForestClassifier(max_depth=15, min_samples_leaf=2)\u001b[0m\n",
      "\u001b[32m2023-10-22 10:52:03.444\u001b[0m | \u001b[1mINFO    \u001b[0m | \u001b[36m__main__\u001b[0m:\u001b[36mrun_pipeline_self\u001b[0m:\u001b[36m79\u001b[0m - \u001b[1m%384 - Running pipeline for row_seed: 602 and size_of_unlabelled_data: 0.85 and model: RandomForestClassifier(max_depth=15, min_samples_leaf=2)\u001b[0m\n",
      "\u001b[32m2023-10-22 10:52:04.385\u001b[0m | \u001b[1mINFO    \u001b[0m | \u001b[36m__main__\u001b[0m:\u001b[36mrun_pipeline_self\u001b[0m:\u001b[36m79\u001b[0m - \u001b[1m%385 - Running pipeline for row_seed: 412 and size_of_unlabelled_data: 0.85 and model: RandomForestClassifier(max_depth=15, min_samples_leaf=2)\u001b[0m\n",
      "\u001b[32m2023-10-22 10:52:05.304\u001b[0m | \u001b[1mINFO    \u001b[0m | \u001b[36m__main__\u001b[0m:\u001b[36mrun_pipeline_self\u001b[0m:\u001b[36m79\u001b[0m - \u001b[1m%386 - Running pipeline for row_seed: 214 and size_of_unlabelled_data: 0.85 and model: RandomForestClassifier(max_depth=15, min_samples_leaf=2)\u001b[0m\n",
      "\u001b[32m2023-10-22 10:52:06.243\u001b[0m | \u001b[1mINFO    \u001b[0m | \u001b[36m__main__\u001b[0m:\u001b[36mrun_pipeline_self\u001b[0m:\u001b[36m79\u001b[0m - \u001b[1m%387 - Running pipeline for row_seed: 754 and size_of_unlabelled_data: 0.85 and model: RandomForestClassifier(max_depth=15, min_samples_leaf=2)\u001b[0m\n",
      "\u001b[32m2023-10-22 10:52:07.151\u001b[0m | \u001b[1mINFO    \u001b[0m | \u001b[36m__main__\u001b[0m:\u001b[36mrun_pipeline_self\u001b[0m:\u001b[36m79\u001b[0m - \u001b[1m%388 - Running pipeline for row_seed: 457 and size_of_unlabelled_data: 0.85 and model: RandomForestClassifier(max_depth=15, min_samples_leaf=2)\u001b[0m\n",
      "\u001b[32m2023-10-22 10:52:08.111\u001b[0m | \u001b[1mINFO    \u001b[0m | \u001b[36m__main__\u001b[0m:\u001b[36mrun_pipeline_self\u001b[0m:\u001b[36m79\u001b[0m - \u001b[1m%389 - Running pipeline for row_seed: 2023 and size_of_unlabelled_data: 0.85 and model: RandomForestClassifier(max_depth=15, min_samples_leaf=2)\u001b[0m\n",
      "\u001b[32m2023-10-22 10:52:09.051\u001b[0m | \u001b[1mINFO    \u001b[0m | \u001b[36m__main__\u001b[0m:\u001b[36mrun_pipeline_self\u001b[0m:\u001b[36m79\u001b[0m - \u001b[1m%390 - Running pipeline for row_seed: 3202 and size_of_unlabelled_data: 0.85 and model: RandomForestClassifier(max_depth=15, min_samples_leaf=2)\u001b[0m\n",
      "\u001b[32m2023-10-22 10:52:09.964\u001b[0m | \u001b[1mINFO    \u001b[0m | \u001b[36m__main__\u001b[0m:\u001b[36mrun_pipeline_self\u001b[0m:\u001b[36m75\u001b[0m - \u001b[1mModel: RandomForestClassifier(max_depth=15, min_samples_leaf=2)\u001b[0m\n",
      "\u001b[32m2023-10-22 10:52:09.964\u001b[0m | \u001b[1mINFO    \u001b[0m | \u001b[36m__main__\u001b[0m:\u001b[36mrun_pipeline_self\u001b[0m:\u001b[36m76\u001b[0m - \u001b[1mSize of unlabelled data: 0.9\u001b[0m\n",
      "\u001b[32m2023-10-22 10:52:09.965\u001b[0m | \u001b[1mINFO    \u001b[0m | \u001b[36m__main__\u001b[0m:\u001b[36mrun_pipeline_self\u001b[0m:\u001b[36m79\u001b[0m - \u001b[1m%391 - Running pipeline for row_seed: 24 and size_of_unlabelled_data: 0.9 and model: RandomForestClassifier(max_depth=15, min_samples_leaf=2)\u001b[0m\n"
     ]
    },
    {
     "name": "stdout",
     "output_type": "stream",
     "text": [
      "\n",
      "\n"
     ]
    },
    {
     "name": "stderr",
     "output_type": "stream",
     "text": [
      "\u001b[32m2023-10-22 10:52:10.873\u001b[0m | \u001b[1mINFO    \u001b[0m | \u001b[36m__main__\u001b[0m:\u001b[36mrun_pipeline_self\u001b[0m:\u001b[36m79\u001b[0m - \u001b[1m%392 - Running pipeline for row_seed: 42 and size_of_unlabelled_data: 0.9 and model: RandomForestClassifier(max_depth=15, min_samples_leaf=2)\u001b[0m\n",
      "\u001b[32m2023-10-22 10:52:11.788\u001b[0m | \u001b[1mINFO    \u001b[0m | \u001b[36m__main__\u001b[0m:\u001b[36mrun_pipeline_self\u001b[0m:\u001b[36m79\u001b[0m - \u001b[1m%393 - Running pipeline for row_seed: 206 and size_of_unlabelled_data: 0.9 and model: RandomForestClassifier(max_depth=15, min_samples_leaf=2)\u001b[0m\n",
      "\u001b[32m2023-10-22 10:52:12.696\u001b[0m | \u001b[1mINFO    \u001b[0m | \u001b[36m__main__\u001b[0m:\u001b[36mrun_pipeline_self\u001b[0m:\u001b[36m79\u001b[0m - \u001b[1m%394 - Running pipeline for row_seed: 602 and size_of_unlabelled_data: 0.9 and model: RandomForestClassifier(max_depth=15, min_samples_leaf=2)\u001b[0m\n",
      "\u001b[32m2023-10-22 10:52:13.596\u001b[0m | \u001b[1mINFO    \u001b[0m | \u001b[36m__main__\u001b[0m:\u001b[36mrun_pipeline_self\u001b[0m:\u001b[36m79\u001b[0m - \u001b[1m%395 - Running pipeline for row_seed: 412 and size_of_unlabelled_data: 0.9 and model: RandomForestClassifier(max_depth=15, min_samples_leaf=2)\u001b[0m\n",
      "\u001b[32m2023-10-22 10:52:14.533\u001b[0m | \u001b[1mINFO    \u001b[0m | \u001b[36m__main__\u001b[0m:\u001b[36mrun_pipeline_self\u001b[0m:\u001b[36m79\u001b[0m - \u001b[1m%396 - Running pipeline for row_seed: 214 and size_of_unlabelled_data: 0.9 and model: RandomForestClassifier(max_depth=15, min_samples_leaf=2)\u001b[0m\n",
      "\u001b[32m2023-10-22 10:52:15.403\u001b[0m | \u001b[1mINFO    \u001b[0m | \u001b[36m__main__\u001b[0m:\u001b[36mrun_pipeline_self\u001b[0m:\u001b[36m79\u001b[0m - \u001b[1m%397 - Running pipeline for row_seed: 754 and size_of_unlabelled_data: 0.9 and model: RandomForestClassifier(max_depth=15, min_samples_leaf=2)\u001b[0m\n",
      "\u001b[32m2023-10-22 10:52:16.327\u001b[0m | \u001b[1mINFO    \u001b[0m | \u001b[36m__main__\u001b[0m:\u001b[36mrun_pipeline_self\u001b[0m:\u001b[36m79\u001b[0m - \u001b[1m%398 - Running pipeline for row_seed: 457 and size_of_unlabelled_data: 0.9 and model: RandomForestClassifier(max_depth=15, min_samples_leaf=2)\u001b[0m\n",
      "\u001b[32m2023-10-22 10:52:17.214\u001b[0m | \u001b[1mINFO    \u001b[0m | \u001b[36m__main__\u001b[0m:\u001b[36mrun_pipeline_self\u001b[0m:\u001b[36m79\u001b[0m - \u001b[1m%399 - Running pipeline for row_seed: 2023 and size_of_unlabelled_data: 0.9 and model: RandomForestClassifier(max_depth=15, min_samples_leaf=2)\u001b[0m\n",
      "\u001b[32m2023-10-22 10:52:18.152\u001b[0m | \u001b[1mINFO    \u001b[0m | \u001b[36m__main__\u001b[0m:\u001b[36mrun_pipeline_self\u001b[0m:\u001b[36m79\u001b[0m - \u001b[1m%400 - Running pipeline for row_seed: 3202 and size_of_unlabelled_data: 0.9 and model: RandomForestClassifier(max_depth=15, min_samples_leaf=2)\u001b[0m\n"
     ]
    },
    {
     "name": "stdout",
     "output_type": "stream",
     "text": [
      "\n",
      "\n"
     ]
    }
   ],
   "source": [
    "results_df = run_pipeline_self(X_train, X_test, y_train, y_test)"
   ]
  },
  {
   "cell_type": "code",
   "execution_count": 12,
   "metadata": {},
   "outputs": [
    {
     "data": {
      "text/plain": [
       "Index(['model', 'unlabeled', 'acc_mean', 'acc_std', 'f1_mean', 'f1_std',\n",
       "       'precision_mean', 'precision_std', 'recall_mean', 'recall_std',\n",
       "       'roc_mean', 'roc_std'],\n",
       "      dtype='object')"
      ]
     },
     "execution_count": 12,
     "metadata": {},
     "output_type": "execute_result"
    }
   ],
   "source": [
    "# mean and standard deviation for all metrics\n",
    "results_df_with_mean_std = results_df.groupby(['model', 'unlabeled']).agg({'acc': ['mean', 'std'], 'f1': ['mean', 'std'], 'precision': ['mean', 'std'], 'recall': ['mean', 'std'], 'roc': ['mean', 'std']})\n",
    "results_df_with_mean_std = results_df_with_mean_std.reset_index(level=1)\n",
    "results_df_with_mean_std.columns = [\"_\".join(col) for col in results_df_with_mean_std.columns.values]\n",
    "results_df_with_mean_std.rename(columns={'unlabeled_': 'unlabeled'}, inplace=True)\n",
    "results_df_with_mean_std.reset_index(inplace=True)\n",
    "results_df_with_mean_std.columns"
   ]
  },
  {
   "cell_type": "code",
   "execution_count": 8,
   "metadata": {},
   "outputs": [
    {
     "data": {
      "application/vnd.plotly.v1+json": {
       "config": {
        "plotlyServerURL": "https://plot.ly"
       },
       "data": [
        {
         "error_y": {
          "array": [
           0.04153645251600753,
           0.04388124444310235,
           0.024512449465164763,
           0.019390122150615717,
           0.02400549027361349,
           0.029280842550798044,
           0.02333750936455397,
           0.020189132149542877,
           0.04286861974099208,
           0.030167445594732386,
           0.06651223187363392,
           0.06045125560073132
          ]
         },
         "hovertemplate": "model=DecisionTreeClassifier<br>unlabeled=%{x}<br>acc_mean=%{y}<extra></extra>",
         "legendgroup": "DecisionTreeClassifier",
         "marker": {
          "color": "#636efa",
          "symbol": "circle"
         },
         "mode": "markers",
         "name": "DecisionTreeClassifier",
         "orientation": "v",
         "showlegend": true,
         "textposition": "top center",
         "texttemplate": "%{y:.3f}",
         "type": "scatter",
         "x": [
          0.1,
          0.2,
          0.3,
          0.4,
          0.5,
          0.6,
          0.7,
          0.75,
          0.8,
          0.85,
          0.9,
          0.95
         ],
         "xaxis": "x",
         "y": [
          0.7126623376623377,
          0.7045454545454546,
          0.7288961038961039,
          0.7288961038961039,
          0.7435064935064934,
          0.7175324675324675,
          0.7159090909090908,
          0.7175324675324675,
          0.702922077922078,
          0.7386363636363636,
          0.6866883116883117,
          0.7012987012987013
         ],
         "yaxis": "y"
        },
        {
         "error_y": {
          "array": [
           0,
           0.005301925850180064,
           0.008170816488388242,
           0.003749027722010505,
           0.008170816488388237,
           0.009740259740259681,
           0.0250792862040183,
           0.011247083166031643,
           0.01788172255612367,
           0.012292009406494107,
           0.014996110888042232,
           0.027549614851423952
          ]
         },
         "hovertemplate": "model=GaussianNB<br>unlabeled=%{x}<br>acc_mean=%{y}<extra></extra>",
         "legendgroup": "GaussianNB",
         "marker": {
          "color": "#EF553B",
          "symbol": "circle"
         },
         "mode": "markers",
         "name": "GaussianNB",
         "orientation": "v",
         "showlegend": true,
         "textposition": "top center",
         "texttemplate": "%{y:.3f}",
         "type": "scatter",
         "x": [
          0.1,
          0.2,
          0.3,
          0.4,
          0.5,
          0.6,
          0.7,
          0.75,
          0.8,
          0.85,
          0.9,
          0.95
         ],
         "xaxis": "x",
         "y": [
          0.7467532467532467,
          0.7402597402597403,
          0.7386363636363636,
          0.7435064935064934,
          0.7386363636363636,
          0.7386363636363636,
          0.6964285714285714,
          0.6785714285714286,
          0.663961038961039,
          0.6704545454545454,
          0.6753246753246753,
          0.6753246753246753
         ],
         "yaxis": "y"
        },
        {
         "error_y": {
          "array": [
           0.022100192485565134,
           0.024584018812988197,
           0.025974025974025972,
           0.006217059141274934,
           0.038734913783924886,
           0.0433981334540334,
           0.02542714312656,
           0.02311055898708077,
           0.0401601197300422,
           0.03451346043095664,
           0.032413374744311545,
           0.035368256793004704
          ]
         },
         "hovertemplate": "model=KNeighborsClassifier<br>unlabeled=%{x}<br>acc_mean=%{y}<extra></extra>",
         "legendgroup": "KNeighborsClassifier",
         "marker": {
          "color": "#00cc96",
          "symbol": "circle"
         },
         "mode": "markers",
         "name": "KNeighborsClassifier",
         "orientation": "v",
         "showlegend": true,
         "textposition": "top center",
         "texttemplate": "%{y:.3f}",
         "type": "scatter",
         "x": [
          0.1,
          0.2,
          0.3,
          0.4,
          0.5,
          0.6,
          0.7,
          0.75,
          0.8,
          0.85,
          0.9,
          0.95
         ],
         "xaxis": "x",
         "y": [
          0.7353896103896104,
          0.7305194805194806,
          0.7272727272727273,
          0.7288961038961039,
          0.7386363636363636,
          0.7272727272727273,
          0.6948051948051948,
          0.6883116883116883,
          0.689935064935065,
          0.6704545454545454,
          0.6834415584415584,
          0.6785714285714286
         ],
         "yaxis": "y"
        },
        {
         "error_y": {
          "array": [
           0.0167661616718936,
           0.022100192485565103,
           0.014996110888042216,
           0.0167661616718936,
           0.01634163297677651,
           0.006217059141274896,
           0.014027577269281097,
           0.014027577269281118,
           0.04085408244194127,
           0.03767726230634032,
           0.053382521450816144,
           0.04153645251600757
          ]
         },
         "hovertemplate": "model=RandomForestClassifier<br>unlabeled=%{x}<br>acc_mean=%{y}<extra></extra>",
         "legendgroup": "RandomForestClassifier",
         "marker": {
          "color": "#ab63fa",
          "symbol": "circle"
         },
         "mode": "markers",
         "name": "RandomForestClassifier",
         "orientation": "v",
         "showlegend": true,
         "textposition": "top center",
         "texttemplate": "%{y:.3f}",
         "type": "scatter",
         "x": [
          0.1,
          0.2,
          0.3,
          0.4,
          0.5,
          0.6,
          0.7,
          0.75,
          0.8,
          0.85,
          0.9,
          0.95
         ],
         "xaxis": "x",
         "y": [
          0.7402597402597402,
          0.7386363636363636,
          0.7662337662337663,
          0.7532467532467533,
          0.7694805194805194,
          0.7678571428571428,
          0.7662337662337663,
          0.7467532467532467,
          0.7353896103896104,
          0.724025974025974,
          0.7321428571428572,
          0.6866883116883117
         ],
         "yaxis": "y"
        }
       ],
       "layout": {
        "autosize": false,
        "height": 500,
        "hovermode": "x unified",
        "legend": {
         "title": {
          "text": "Model"
         },
         "tracegroupgap": 0
        },
        "template": {
         "data": {
          "bar": [
           {
            "error_x": {
             "color": "#2a3f5f"
            },
            "error_y": {
             "color": "#2a3f5f"
            },
            "marker": {
             "line": {
              "color": "#E5ECF6",
              "width": 0.5
             },
             "pattern": {
              "fillmode": "overlay",
              "size": 10,
              "solidity": 0.2
             }
            },
            "type": "bar"
           }
          ],
          "barpolar": [
           {
            "marker": {
             "line": {
              "color": "#E5ECF6",
              "width": 0.5
             },
             "pattern": {
              "fillmode": "overlay",
              "size": 10,
              "solidity": 0.2
             }
            },
            "type": "barpolar"
           }
          ],
          "carpet": [
           {
            "aaxis": {
             "endlinecolor": "#2a3f5f",
             "gridcolor": "white",
             "linecolor": "white",
             "minorgridcolor": "white",
             "startlinecolor": "#2a3f5f"
            },
            "baxis": {
             "endlinecolor": "#2a3f5f",
             "gridcolor": "white",
             "linecolor": "white",
             "minorgridcolor": "white",
             "startlinecolor": "#2a3f5f"
            },
            "type": "carpet"
           }
          ],
          "choropleth": [
           {
            "colorbar": {
             "outlinewidth": 0,
             "ticks": ""
            },
            "type": "choropleth"
           }
          ],
          "contour": [
           {
            "colorbar": {
             "outlinewidth": 0,
             "ticks": ""
            },
            "colorscale": [
             [
              0,
              "#0d0887"
             ],
             [
              0.1111111111111111,
              "#46039f"
             ],
             [
              0.2222222222222222,
              "#7201a8"
             ],
             [
              0.3333333333333333,
              "#9c179e"
             ],
             [
              0.4444444444444444,
              "#bd3786"
             ],
             [
              0.5555555555555556,
              "#d8576b"
             ],
             [
              0.6666666666666666,
              "#ed7953"
             ],
             [
              0.7777777777777778,
              "#fb9f3a"
             ],
             [
              0.8888888888888888,
              "#fdca26"
             ],
             [
              1,
              "#f0f921"
             ]
            ],
            "type": "contour"
           }
          ],
          "contourcarpet": [
           {
            "colorbar": {
             "outlinewidth": 0,
             "ticks": ""
            },
            "type": "contourcarpet"
           }
          ],
          "heatmap": [
           {
            "colorbar": {
             "outlinewidth": 0,
             "ticks": ""
            },
            "colorscale": [
             [
              0,
              "#0d0887"
             ],
             [
              0.1111111111111111,
              "#46039f"
             ],
             [
              0.2222222222222222,
              "#7201a8"
             ],
             [
              0.3333333333333333,
              "#9c179e"
             ],
             [
              0.4444444444444444,
              "#bd3786"
             ],
             [
              0.5555555555555556,
              "#d8576b"
             ],
             [
              0.6666666666666666,
              "#ed7953"
             ],
             [
              0.7777777777777778,
              "#fb9f3a"
             ],
             [
              0.8888888888888888,
              "#fdca26"
             ],
             [
              1,
              "#f0f921"
             ]
            ],
            "type": "heatmap"
           }
          ],
          "heatmapgl": [
           {
            "colorbar": {
             "outlinewidth": 0,
             "ticks": ""
            },
            "colorscale": [
             [
              0,
              "#0d0887"
             ],
             [
              0.1111111111111111,
              "#46039f"
             ],
             [
              0.2222222222222222,
              "#7201a8"
             ],
             [
              0.3333333333333333,
              "#9c179e"
             ],
             [
              0.4444444444444444,
              "#bd3786"
             ],
             [
              0.5555555555555556,
              "#d8576b"
             ],
             [
              0.6666666666666666,
              "#ed7953"
             ],
             [
              0.7777777777777778,
              "#fb9f3a"
             ],
             [
              0.8888888888888888,
              "#fdca26"
             ],
             [
              1,
              "#f0f921"
             ]
            ],
            "type": "heatmapgl"
           }
          ],
          "histogram": [
           {
            "marker": {
             "pattern": {
              "fillmode": "overlay",
              "size": 10,
              "solidity": 0.2
             }
            },
            "type": "histogram"
           }
          ],
          "histogram2d": [
           {
            "colorbar": {
             "outlinewidth": 0,
             "ticks": ""
            },
            "colorscale": [
             [
              0,
              "#0d0887"
             ],
             [
              0.1111111111111111,
              "#46039f"
             ],
             [
              0.2222222222222222,
              "#7201a8"
             ],
             [
              0.3333333333333333,
              "#9c179e"
             ],
             [
              0.4444444444444444,
              "#bd3786"
             ],
             [
              0.5555555555555556,
              "#d8576b"
             ],
             [
              0.6666666666666666,
              "#ed7953"
             ],
             [
              0.7777777777777778,
              "#fb9f3a"
             ],
             [
              0.8888888888888888,
              "#fdca26"
             ],
             [
              1,
              "#f0f921"
             ]
            ],
            "type": "histogram2d"
           }
          ],
          "histogram2dcontour": [
           {
            "colorbar": {
             "outlinewidth": 0,
             "ticks": ""
            },
            "colorscale": [
             [
              0,
              "#0d0887"
             ],
             [
              0.1111111111111111,
              "#46039f"
             ],
             [
              0.2222222222222222,
              "#7201a8"
             ],
             [
              0.3333333333333333,
              "#9c179e"
             ],
             [
              0.4444444444444444,
              "#bd3786"
             ],
             [
              0.5555555555555556,
              "#d8576b"
             ],
             [
              0.6666666666666666,
              "#ed7953"
             ],
             [
              0.7777777777777778,
              "#fb9f3a"
             ],
             [
              0.8888888888888888,
              "#fdca26"
             ],
             [
              1,
              "#f0f921"
             ]
            ],
            "type": "histogram2dcontour"
           }
          ],
          "mesh3d": [
           {
            "colorbar": {
             "outlinewidth": 0,
             "ticks": ""
            },
            "type": "mesh3d"
           }
          ],
          "parcoords": [
           {
            "line": {
             "colorbar": {
              "outlinewidth": 0,
              "ticks": ""
             }
            },
            "type": "parcoords"
           }
          ],
          "pie": [
           {
            "automargin": true,
            "type": "pie"
           }
          ],
          "scatter": [
           {
            "fillpattern": {
             "fillmode": "overlay",
             "size": 10,
             "solidity": 0.2
            },
            "type": "scatter"
           }
          ],
          "scatter3d": [
           {
            "line": {
             "colorbar": {
              "outlinewidth": 0,
              "ticks": ""
             }
            },
            "marker": {
             "colorbar": {
              "outlinewidth": 0,
              "ticks": ""
             }
            },
            "type": "scatter3d"
           }
          ],
          "scattercarpet": [
           {
            "marker": {
             "colorbar": {
              "outlinewidth": 0,
              "ticks": ""
             }
            },
            "type": "scattercarpet"
           }
          ],
          "scattergeo": [
           {
            "marker": {
             "colorbar": {
              "outlinewidth": 0,
              "ticks": ""
             }
            },
            "type": "scattergeo"
           }
          ],
          "scattergl": [
           {
            "marker": {
             "colorbar": {
              "outlinewidth": 0,
              "ticks": ""
             }
            },
            "type": "scattergl"
           }
          ],
          "scattermapbox": [
           {
            "marker": {
             "colorbar": {
              "outlinewidth": 0,
              "ticks": ""
             }
            },
            "type": "scattermapbox"
           }
          ],
          "scatterpolar": [
           {
            "marker": {
             "colorbar": {
              "outlinewidth": 0,
              "ticks": ""
             }
            },
            "type": "scatterpolar"
           }
          ],
          "scatterpolargl": [
           {
            "marker": {
             "colorbar": {
              "outlinewidth": 0,
              "ticks": ""
             }
            },
            "type": "scatterpolargl"
           }
          ],
          "scatterternary": [
           {
            "marker": {
             "colorbar": {
              "outlinewidth": 0,
              "ticks": ""
             }
            },
            "type": "scatterternary"
           }
          ],
          "surface": [
           {
            "colorbar": {
             "outlinewidth": 0,
             "ticks": ""
            },
            "colorscale": [
             [
              0,
              "#0d0887"
             ],
             [
              0.1111111111111111,
              "#46039f"
             ],
             [
              0.2222222222222222,
              "#7201a8"
             ],
             [
              0.3333333333333333,
              "#9c179e"
             ],
             [
              0.4444444444444444,
              "#bd3786"
             ],
             [
              0.5555555555555556,
              "#d8576b"
             ],
             [
              0.6666666666666666,
              "#ed7953"
             ],
             [
              0.7777777777777778,
              "#fb9f3a"
             ],
             [
              0.8888888888888888,
              "#fdca26"
             ],
             [
              1,
              "#f0f921"
             ]
            ],
            "type": "surface"
           }
          ],
          "table": [
           {
            "cells": {
             "fill": {
              "color": "#EBF0F8"
             },
             "line": {
              "color": "white"
             }
            },
            "header": {
             "fill": {
              "color": "#C8D4E3"
             },
             "line": {
              "color": "white"
             }
            },
            "type": "table"
           }
          ]
         },
         "layout": {
          "annotationdefaults": {
           "arrowcolor": "#2a3f5f",
           "arrowhead": 0,
           "arrowwidth": 1
          },
          "autotypenumbers": "strict",
          "coloraxis": {
           "colorbar": {
            "outlinewidth": 0,
            "ticks": ""
           }
          },
          "colorscale": {
           "diverging": [
            [
             0,
             "#8e0152"
            ],
            [
             0.1,
             "#c51b7d"
            ],
            [
             0.2,
             "#de77ae"
            ],
            [
             0.3,
             "#f1b6da"
            ],
            [
             0.4,
             "#fde0ef"
            ],
            [
             0.5,
             "#f7f7f7"
            ],
            [
             0.6,
             "#e6f5d0"
            ],
            [
             0.7,
             "#b8e186"
            ],
            [
             0.8,
             "#7fbc41"
            ],
            [
             0.9,
             "#4d9221"
            ],
            [
             1,
             "#276419"
            ]
           ],
           "sequential": [
            [
             0,
             "#0d0887"
            ],
            [
             0.1111111111111111,
             "#46039f"
            ],
            [
             0.2222222222222222,
             "#7201a8"
            ],
            [
             0.3333333333333333,
             "#9c179e"
            ],
            [
             0.4444444444444444,
             "#bd3786"
            ],
            [
             0.5555555555555556,
             "#d8576b"
            ],
            [
             0.6666666666666666,
             "#ed7953"
            ],
            [
             0.7777777777777778,
             "#fb9f3a"
            ],
            [
             0.8888888888888888,
             "#fdca26"
            ],
            [
             1,
             "#f0f921"
            ]
           ],
           "sequentialminus": [
            [
             0,
             "#0d0887"
            ],
            [
             0.1111111111111111,
             "#46039f"
            ],
            [
             0.2222222222222222,
             "#7201a8"
            ],
            [
             0.3333333333333333,
             "#9c179e"
            ],
            [
             0.4444444444444444,
             "#bd3786"
            ],
            [
             0.5555555555555556,
             "#d8576b"
            ],
            [
             0.6666666666666666,
             "#ed7953"
            ],
            [
             0.7777777777777778,
             "#fb9f3a"
            ],
            [
             0.8888888888888888,
             "#fdca26"
            ],
            [
             1,
             "#f0f921"
            ]
           ]
          },
          "colorway": [
           "#636efa",
           "#EF553B",
           "#00cc96",
           "#ab63fa",
           "#FFA15A",
           "#19d3f3",
           "#FF6692",
           "#B6E880",
           "#FF97FF",
           "#FECB52"
          ],
          "font": {
           "color": "#2a3f5f"
          },
          "geo": {
           "bgcolor": "white",
           "lakecolor": "white",
           "landcolor": "#E5ECF6",
           "showlakes": true,
           "showland": true,
           "subunitcolor": "white"
          },
          "hoverlabel": {
           "align": "left"
          },
          "hovermode": "closest",
          "mapbox": {
           "style": "light"
          },
          "paper_bgcolor": "white",
          "plot_bgcolor": "#E5ECF6",
          "polar": {
           "angularaxis": {
            "gridcolor": "white",
            "linecolor": "white",
            "ticks": ""
           },
           "bgcolor": "#E5ECF6",
           "radialaxis": {
            "gridcolor": "white",
            "linecolor": "white",
            "ticks": ""
           }
          },
          "scene": {
           "xaxis": {
            "backgroundcolor": "#E5ECF6",
            "gridcolor": "white",
            "gridwidth": 2,
            "linecolor": "white",
            "showbackground": true,
            "ticks": "",
            "zerolinecolor": "white"
           },
           "yaxis": {
            "backgroundcolor": "#E5ECF6",
            "gridcolor": "white",
            "gridwidth": 2,
            "linecolor": "white",
            "showbackground": true,
            "ticks": "",
            "zerolinecolor": "white"
           },
           "zaxis": {
            "backgroundcolor": "#E5ECF6",
            "gridcolor": "white",
            "gridwidth": 2,
            "linecolor": "white",
            "showbackground": true,
            "ticks": "",
            "zerolinecolor": "white"
           }
          },
          "shapedefaults": {
           "line": {
            "color": "#2a3f5f"
           }
          },
          "ternary": {
           "aaxis": {
            "gridcolor": "white",
            "linecolor": "white",
            "ticks": ""
           },
           "baxis": {
            "gridcolor": "white",
            "linecolor": "white",
            "ticks": ""
           },
           "bgcolor": "#E5ECF6",
           "caxis": {
            "gridcolor": "white",
            "linecolor": "white",
            "ticks": ""
           }
          },
          "title": {
           "x": 0.05
          },
          "xaxis": {
           "automargin": true,
           "gridcolor": "white",
           "linecolor": "white",
           "ticks": "",
           "title": {
            "standoff": 15
           },
           "zerolinecolor": "white",
           "zerolinewidth": 2
          },
          "yaxis": {
           "automargin": true,
           "gridcolor": "white",
           "linecolor": "white",
           "ticks": "",
           "title": {
            "standoff": 15
           },
           "zerolinecolor": "white",
           "zerolinewidth": 2
          }
         }
        },
        "title": {
         "text": "Accuracy vs. Unlabeled Data"
        },
        "width": 1200,
        "xaxis": {
         "anchor": "y",
         "domain": [
          0,
          1
         ],
         "title": {
          "text": "% of Unlabeled Data in Dataset"
         }
        },
        "yaxis": {
         "anchor": "x",
         "domain": [
          0,
          1
         ],
         "title": {
          "text": "Metric Value"
         }
        }
       }
      }
     },
     "metadata": {},
     "output_type": "display_data"
    },
    {
     "data": {
      "application/vnd.plotly.v1+json": {
       "config": {
        "plotlyServerURL": "https://plot.ly"
       },
       "data": [
        {
         "error_y": {
          "array": [
           0.06426974257252031,
           0.07411176707986822,
           0.048201680505343604,
           0.03023761436799176,
           0.02528897283548873,
           0.06120702773439771,
           0.039470132457441305,
           0.029804352434232146,
           0.06847929726962845,
           0.06143935973241796,
           0.07246070365468946,
           0.12454514833920036
          ]
         },
         "hovertemplate": "model=DecisionTreeClassifier<br>unlabeled=%{x}<br>f1_mean=%{y}<extra></extra>",
         "legendgroup": "DecisionTreeClassifier",
         "marker": {
          "color": "#636efa",
          "symbol": "circle"
         },
         "mode": "markers",
         "name": "DecisionTreeClassifier",
         "orientation": "v",
         "showlegend": true,
         "textposition": "top center",
         "texttemplate": "%{y:.3f}",
         "type": "scatter",
         "x": [
          0.1,
          0.2,
          0.3,
          0.4,
          0.5,
          0.6,
          0.7,
          0.75,
          0.8,
          0.85,
          0.9,
          0.95
         ],
         "xaxis": "x",
         "y": [
          0.5938737577375806,
          0.5856533015157928,
          0.5923080954330955,
          0.6043817940419881,
          0.6222454597974791,
          0.5769051426372761,
          0.5790486597302993,
          0.5966643922526276,
          0.5470063873617754,
          0.6082015302376127,
          0.5278397394406869,
          0.5180466322494318
         ],
         "yaxis": "y"
        },
        {
         "error_y": {
          "array": [
           0,
           0.007906612217441588,
           0.014543756654555156,
           0.016132390093483554,
           0.03938490017886651,
           0.04046696034042413,
           0.05193719740857762,
           0.02629504889428319,
           0.07363369390482037,
           0.08892804879054343,
           0.06696038242804264,
           0.053585361726068585
          ]
         },
         "hovertemplate": "model=GaussianNB<br>unlabeled=%{x}<br>f1_mean=%{y}<extra></extra>",
         "legendgroup": "GaussianNB",
         "marker": {
          "color": "#EF553B",
          "symbol": "circle"
         },
         "mode": "markers",
         "name": "GaussianNB",
         "orientation": "v",
         "showlegend": true,
         "textposition": "top center",
         "texttemplate": "%{y:.3f}",
         "type": "scatter",
         "x": [
          0.1,
          0.2,
          0.3,
          0.4,
          0.5,
          0.6,
          0.7,
          0.75,
          0.8,
          0.85,
          0.9,
          0.95
         ],
         "xaxis": "x",
         "y": [
          0.5894736842105263,
          0.5721000871744579,
          0.5513442814782836,
          0.5583318591180351,
          0.5062769876498474,
          0.49715551078397535,
          0.3568734757899034,
          0.3068747569188766,
          0.24247204561798755,
          0.2218377321603128,
          0.2617057284988974,
          0.2749387159834921
         ],
         "yaxis": "y"
        },
        {
         "error_y": {
          "array": [
           0.019970767522215112,
           0.031088496419775055,
           0.06739878536210714,
           0.02443064093664132,
           0.10234900569332907,
           0.1258334396883245,
           0.07756728527823079,
           0.062236218129919196,
           0.07671767924781794,
           0.11268942986878094,
           0.12508956239720134,
           0.1782756899474327
          ]
         },
         "hovertemplate": "model=KNeighborsClassifier<br>unlabeled=%{x}<br>f1_mean=%{y}<extra></extra>",
         "legendgroup": "KNeighborsClassifier",
         "marker": {
          "color": "#00cc96",
          "symbol": "circle"
         },
         "mode": "markers",
         "name": "KNeighborsClassifier",
         "orientation": "v",
         "showlegend": true,
         "textposition": "top center",
         "texttemplate": "%{y:.3f}",
         "type": "scatter",
         "x": [
          0.1,
          0.2,
          0.3,
          0.4,
          0.5,
          0.6,
          0.7,
          0.75,
          0.8,
          0.85,
          0.9,
          0.95
         ],
         "xaxis": "x",
         "y": [
          0.6257560100450008,
          0.6123815562494808,
          0.5792183093973375,
          0.58275803264217,
          0.5880270491998044,
          0.5549973907647174,
          0.47553481527450026,
          0.4428579905916879,
          0.4416741632807375,
          0.3658399873246048,
          0.38511309737853605,
          0.28299050972645684
         ],
         "yaxis": "y"
        },
        {
         "error_y": {
          "array": [
           0.018425147374453447,
           0.027551002118781545,
           0.014889953706898197,
           0.019463783907571523,
           0.026002347591108536,
           0.027801866272219818,
           0.035228710755678454,
           0.04890520441758032,
           0.05377723949489906,
           0.08236023018715748,
           0.08674699859322733,
           0.28895678625419396
          ]
         },
         "hovertemplate": "model=RandomForestClassifier<br>unlabeled=%{x}<br>f1_mean=%{y}<extra></extra>",
         "legendgroup": "RandomForestClassifier",
         "marker": {
          "color": "#ab63fa",
          "symbol": "circle"
         },
         "mode": "markers",
         "name": "RandomForestClassifier",
         "orientation": "v",
         "showlegend": true,
         "textposition": "top center",
         "texttemplate": "%{y:.3f}",
         "type": "scatter",
         "x": [
          0.1,
          0.2,
          0.3,
          0.4,
          0.5,
          0.6,
          0.7,
          0.75,
          0.8,
          0.85,
          0.9,
          0.95
         ],
         "xaxis": "x",
         "y": [
          0.634846678741258,
          0.6300744712817079,
          0.6522892538728118,
          0.641388988177979,
          0.6550319096710849,
          0.6525667597096169,
          0.6159711075441412,
          0.5821526384336403,
          0.5680151719625404,
          0.5132130942515337,
          0.5453255376224564,
          0.43263933224563145
         ],
         "yaxis": "y"
        }
       ],
       "layout": {
        "autosize": false,
        "height": 500,
        "hovermode": "x unified",
        "legend": {
         "title": {
          "text": "Model"
         },
         "tracegroupgap": 0
        },
        "template": {
         "data": {
          "bar": [
           {
            "error_x": {
             "color": "#2a3f5f"
            },
            "error_y": {
             "color": "#2a3f5f"
            },
            "marker": {
             "line": {
              "color": "#E5ECF6",
              "width": 0.5
             },
             "pattern": {
              "fillmode": "overlay",
              "size": 10,
              "solidity": 0.2
             }
            },
            "type": "bar"
           }
          ],
          "barpolar": [
           {
            "marker": {
             "line": {
              "color": "#E5ECF6",
              "width": 0.5
             },
             "pattern": {
              "fillmode": "overlay",
              "size": 10,
              "solidity": 0.2
             }
            },
            "type": "barpolar"
           }
          ],
          "carpet": [
           {
            "aaxis": {
             "endlinecolor": "#2a3f5f",
             "gridcolor": "white",
             "linecolor": "white",
             "minorgridcolor": "white",
             "startlinecolor": "#2a3f5f"
            },
            "baxis": {
             "endlinecolor": "#2a3f5f",
             "gridcolor": "white",
             "linecolor": "white",
             "minorgridcolor": "white",
             "startlinecolor": "#2a3f5f"
            },
            "type": "carpet"
           }
          ],
          "choropleth": [
           {
            "colorbar": {
             "outlinewidth": 0,
             "ticks": ""
            },
            "type": "choropleth"
           }
          ],
          "contour": [
           {
            "colorbar": {
             "outlinewidth": 0,
             "ticks": ""
            },
            "colorscale": [
             [
              0,
              "#0d0887"
             ],
             [
              0.1111111111111111,
              "#46039f"
             ],
             [
              0.2222222222222222,
              "#7201a8"
             ],
             [
              0.3333333333333333,
              "#9c179e"
             ],
             [
              0.4444444444444444,
              "#bd3786"
             ],
             [
              0.5555555555555556,
              "#d8576b"
             ],
             [
              0.6666666666666666,
              "#ed7953"
             ],
             [
              0.7777777777777778,
              "#fb9f3a"
             ],
             [
              0.8888888888888888,
              "#fdca26"
             ],
             [
              1,
              "#f0f921"
             ]
            ],
            "type": "contour"
           }
          ],
          "contourcarpet": [
           {
            "colorbar": {
             "outlinewidth": 0,
             "ticks": ""
            },
            "type": "contourcarpet"
           }
          ],
          "heatmap": [
           {
            "colorbar": {
             "outlinewidth": 0,
             "ticks": ""
            },
            "colorscale": [
             [
              0,
              "#0d0887"
             ],
             [
              0.1111111111111111,
              "#46039f"
             ],
             [
              0.2222222222222222,
              "#7201a8"
             ],
             [
              0.3333333333333333,
              "#9c179e"
             ],
             [
              0.4444444444444444,
              "#bd3786"
             ],
             [
              0.5555555555555556,
              "#d8576b"
             ],
             [
              0.6666666666666666,
              "#ed7953"
             ],
             [
              0.7777777777777778,
              "#fb9f3a"
             ],
             [
              0.8888888888888888,
              "#fdca26"
             ],
             [
              1,
              "#f0f921"
             ]
            ],
            "type": "heatmap"
           }
          ],
          "heatmapgl": [
           {
            "colorbar": {
             "outlinewidth": 0,
             "ticks": ""
            },
            "colorscale": [
             [
              0,
              "#0d0887"
             ],
             [
              0.1111111111111111,
              "#46039f"
             ],
             [
              0.2222222222222222,
              "#7201a8"
             ],
             [
              0.3333333333333333,
              "#9c179e"
             ],
             [
              0.4444444444444444,
              "#bd3786"
             ],
             [
              0.5555555555555556,
              "#d8576b"
             ],
             [
              0.6666666666666666,
              "#ed7953"
             ],
             [
              0.7777777777777778,
              "#fb9f3a"
             ],
             [
              0.8888888888888888,
              "#fdca26"
             ],
             [
              1,
              "#f0f921"
             ]
            ],
            "type": "heatmapgl"
           }
          ],
          "histogram": [
           {
            "marker": {
             "pattern": {
              "fillmode": "overlay",
              "size": 10,
              "solidity": 0.2
             }
            },
            "type": "histogram"
           }
          ],
          "histogram2d": [
           {
            "colorbar": {
             "outlinewidth": 0,
             "ticks": ""
            },
            "colorscale": [
             [
              0,
              "#0d0887"
             ],
             [
              0.1111111111111111,
              "#46039f"
             ],
             [
              0.2222222222222222,
              "#7201a8"
             ],
             [
              0.3333333333333333,
              "#9c179e"
             ],
             [
              0.4444444444444444,
              "#bd3786"
             ],
             [
              0.5555555555555556,
              "#d8576b"
             ],
             [
              0.6666666666666666,
              "#ed7953"
             ],
             [
              0.7777777777777778,
              "#fb9f3a"
             ],
             [
              0.8888888888888888,
              "#fdca26"
             ],
             [
              1,
              "#f0f921"
             ]
            ],
            "type": "histogram2d"
           }
          ],
          "histogram2dcontour": [
           {
            "colorbar": {
             "outlinewidth": 0,
             "ticks": ""
            },
            "colorscale": [
             [
              0,
              "#0d0887"
             ],
             [
              0.1111111111111111,
              "#46039f"
             ],
             [
              0.2222222222222222,
              "#7201a8"
             ],
             [
              0.3333333333333333,
              "#9c179e"
             ],
             [
              0.4444444444444444,
              "#bd3786"
             ],
             [
              0.5555555555555556,
              "#d8576b"
             ],
             [
              0.6666666666666666,
              "#ed7953"
             ],
             [
              0.7777777777777778,
              "#fb9f3a"
             ],
             [
              0.8888888888888888,
              "#fdca26"
             ],
             [
              1,
              "#f0f921"
             ]
            ],
            "type": "histogram2dcontour"
           }
          ],
          "mesh3d": [
           {
            "colorbar": {
             "outlinewidth": 0,
             "ticks": ""
            },
            "type": "mesh3d"
           }
          ],
          "parcoords": [
           {
            "line": {
             "colorbar": {
              "outlinewidth": 0,
              "ticks": ""
             }
            },
            "type": "parcoords"
           }
          ],
          "pie": [
           {
            "automargin": true,
            "type": "pie"
           }
          ],
          "scatter": [
           {
            "fillpattern": {
             "fillmode": "overlay",
             "size": 10,
             "solidity": 0.2
            },
            "type": "scatter"
           }
          ],
          "scatter3d": [
           {
            "line": {
             "colorbar": {
              "outlinewidth": 0,
              "ticks": ""
             }
            },
            "marker": {
             "colorbar": {
              "outlinewidth": 0,
              "ticks": ""
             }
            },
            "type": "scatter3d"
           }
          ],
          "scattercarpet": [
           {
            "marker": {
             "colorbar": {
              "outlinewidth": 0,
              "ticks": ""
             }
            },
            "type": "scattercarpet"
           }
          ],
          "scattergeo": [
           {
            "marker": {
             "colorbar": {
              "outlinewidth": 0,
              "ticks": ""
             }
            },
            "type": "scattergeo"
           }
          ],
          "scattergl": [
           {
            "marker": {
             "colorbar": {
              "outlinewidth": 0,
              "ticks": ""
             }
            },
            "type": "scattergl"
           }
          ],
          "scattermapbox": [
           {
            "marker": {
             "colorbar": {
              "outlinewidth": 0,
              "ticks": ""
             }
            },
            "type": "scattermapbox"
           }
          ],
          "scatterpolar": [
           {
            "marker": {
             "colorbar": {
              "outlinewidth": 0,
              "ticks": ""
             }
            },
            "type": "scatterpolar"
           }
          ],
          "scatterpolargl": [
           {
            "marker": {
             "colorbar": {
              "outlinewidth": 0,
              "ticks": ""
             }
            },
            "type": "scatterpolargl"
           }
          ],
          "scatterternary": [
           {
            "marker": {
             "colorbar": {
              "outlinewidth": 0,
              "ticks": ""
             }
            },
            "type": "scatterternary"
           }
          ],
          "surface": [
           {
            "colorbar": {
             "outlinewidth": 0,
             "ticks": ""
            },
            "colorscale": [
             [
              0,
              "#0d0887"
             ],
             [
              0.1111111111111111,
              "#46039f"
             ],
             [
              0.2222222222222222,
              "#7201a8"
             ],
             [
              0.3333333333333333,
              "#9c179e"
             ],
             [
              0.4444444444444444,
              "#bd3786"
             ],
             [
              0.5555555555555556,
              "#d8576b"
             ],
             [
              0.6666666666666666,
              "#ed7953"
             ],
             [
              0.7777777777777778,
              "#fb9f3a"
             ],
             [
              0.8888888888888888,
              "#fdca26"
             ],
             [
              1,
              "#f0f921"
             ]
            ],
            "type": "surface"
           }
          ],
          "table": [
           {
            "cells": {
             "fill": {
              "color": "#EBF0F8"
             },
             "line": {
              "color": "white"
             }
            },
            "header": {
             "fill": {
              "color": "#C8D4E3"
             },
             "line": {
              "color": "white"
             }
            },
            "type": "table"
           }
          ]
         },
         "layout": {
          "annotationdefaults": {
           "arrowcolor": "#2a3f5f",
           "arrowhead": 0,
           "arrowwidth": 1
          },
          "autotypenumbers": "strict",
          "coloraxis": {
           "colorbar": {
            "outlinewidth": 0,
            "ticks": ""
           }
          },
          "colorscale": {
           "diverging": [
            [
             0,
             "#8e0152"
            ],
            [
             0.1,
             "#c51b7d"
            ],
            [
             0.2,
             "#de77ae"
            ],
            [
             0.3,
             "#f1b6da"
            ],
            [
             0.4,
             "#fde0ef"
            ],
            [
             0.5,
             "#f7f7f7"
            ],
            [
             0.6,
             "#e6f5d0"
            ],
            [
             0.7,
             "#b8e186"
            ],
            [
             0.8,
             "#7fbc41"
            ],
            [
             0.9,
             "#4d9221"
            ],
            [
             1,
             "#276419"
            ]
           ],
           "sequential": [
            [
             0,
             "#0d0887"
            ],
            [
             0.1111111111111111,
             "#46039f"
            ],
            [
             0.2222222222222222,
             "#7201a8"
            ],
            [
             0.3333333333333333,
             "#9c179e"
            ],
            [
             0.4444444444444444,
             "#bd3786"
            ],
            [
             0.5555555555555556,
             "#d8576b"
            ],
            [
             0.6666666666666666,
             "#ed7953"
            ],
            [
             0.7777777777777778,
             "#fb9f3a"
            ],
            [
             0.8888888888888888,
             "#fdca26"
            ],
            [
             1,
             "#f0f921"
            ]
           ],
           "sequentialminus": [
            [
             0,
             "#0d0887"
            ],
            [
             0.1111111111111111,
             "#46039f"
            ],
            [
             0.2222222222222222,
             "#7201a8"
            ],
            [
             0.3333333333333333,
             "#9c179e"
            ],
            [
             0.4444444444444444,
             "#bd3786"
            ],
            [
             0.5555555555555556,
             "#d8576b"
            ],
            [
             0.6666666666666666,
             "#ed7953"
            ],
            [
             0.7777777777777778,
             "#fb9f3a"
            ],
            [
             0.8888888888888888,
             "#fdca26"
            ],
            [
             1,
             "#f0f921"
            ]
           ]
          },
          "colorway": [
           "#636efa",
           "#EF553B",
           "#00cc96",
           "#ab63fa",
           "#FFA15A",
           "#19d3f3",
           "#FF6692",
           "#B6E880",
           "#FF97FF",
           "#FECB52"
          ],
          "font": {
           "color": "#2a3f5f"
          },
          "geo": {
           "bgcolor": "white",
           "lakecolor": "white",
           "landcolor": "#E5ECF6",
           "showlakes": true,
           "showland": true,
           "subunitcolor": "white"
          },
          "hoverlabel": {
           "align": "left"
          },
          "hovermode": "closest",
          "mapbox": {
           "style": "light"
          },
          "paper_bgcolor": "white",
          "plot_bgcolor": "#E5ECF6",
          "polar": {
           "angularaxis": {
            "gridcolor": "white",
            "linecolor": "white",
            "ticks": ""
           },
           "bgcolor": "#E5ECF6",
           "radialaxis": {
            "gridcolor": "white",
            "linecolor": "white",
            "ticks": ""
           }
          },
          "scene": {
           "xaxis": {
            "backgroundcolor": "#E5ECF6",
            "gridcolor": "white",
            "gridwidth": 2,
            "linecolor": "white",
            "showbackground": true,
            "ticks": "",
            "zerolinecolor": "white"
           },
           "yaxis": {
            "backgroundcolor": "#E5ECF6",
            "gridcolor": "white",
            "gridwidth": 2,
            "linecolor": "white",
            "showbackground": true,
            "ticks": "",
            "zerolinecolor": "white"
           },
           "zaxis": {
            "backgroundcolor": "#E5ECF6",
            "gridcolor": "white",
            "gridwidth": 2,
            "linecolor": "white",
            "showbackground": true,
            "ticks": "",
            "zerolinecolor": "white"
           }
          },
          "shapedefaults": {
           "line": {
            "color": "#2a3f5f"
           }
          },
          "ternary": {
           "aaxis": {
            "gridcolor": "white",
            "linecolor": "white",
            "ticks": ""
           },
           "baxis": {
            "gridcolor": "white",
            "linecolor": "white",
            "ticks": ""
           },
           "bgcolor": "#E5ECF6",
           "caxis": {
            "gridcolor": "white",
            "linecolor": "white",
            "ticks": ""
           }
          },
          "title": {
           "x": 0.05
          },
          "xaxis": {
           "automargin": true,
           "gridcolor": "white",
           "linecolor": "white",
           "ticks": "",
           "title": {
            "standoff": 15
           },
           "zerolinecolor": "white",
           "zerolinewidth": 2
          },
          "yaxis": {
           "automargin": true,
           "gridcolor": "white",
           "linecolor": "white",
           "ticks": "",
           "title": {
            "standoff": 15
           },
           "zerolinecolor": "white",
           "zerolinewidth": 2
          }
         }
        },
        "title": {
         "text": "F1 Score vs. Unlabeled Data"
        },
        "width": 1200,
        "xaxis": {
         "anchor": "y",
         "domain": [
          0,
          1
         ],
         "title": {
          "text": "% of Unlabeled Data in Dataset"
         }
        },
        "yaxis": {
         "anchor": "x",
         "domain": [
          0,
          1
         ],
         "title": {
          "text": "Metric Value"
         }
        }
       }
      }
     },
     "metadata": {},
     "output_type": "display_data"
    },
    {
     "data": {
      "application/vnd.plotly.v1+json": {
       "config": {
        "plotlyServerURL": "https://plot.ly"
       },
       "data": [
        {
         "error_y": {
          "array": [
           0.055404229403250745,
           0.05878877521125817,
           0.04531327838664006,
           0.04253852358597741,
           0.0554849419391184,
           0.05303411490391702,
           0.044734311169423654,
           0.03669276422508224,
           0.07166678209650053,
           0.03455021196104362,
           0.10462448244232658,
           0.10297996223576306
          ]
         },
         "hovertemplate": "model=DecisionTreeClassifier<br>unlabeled=%{x}<br>precision_mean=%{y}<extra></extra>",
         "legendgroup": "DecisionTreeClassifier",
         "marker": {
          "color": "#636efa",
          "symbol": "circle"
         },
         "mode": "markers",
         "name": "DecisionTreeClassifier",
         "orientation": "v",
         "showlegend": true,
         "textposition": "top center",
         "texttemplate": "%{y:.3f}",
         "type": "scatter",
         "x": [
          0.1,
          0.2,
          0.3,
          0.4,
          0.5,
          0.6,
          0.7,
          0.75,
          0.8,
          0.85,
          0.9,
          0.95
         ],
         "xaxis": "x",
         "y": [
          0.5985854341736695,
          0.585005502567865,
          0.6403611023123218,
          0.633915770609319,
          0.6605591922303513,
          0.620995670995671,
          0.6174524627914458,
          0.6106430245658565,
          0.601513098464318,
          0.6507187780772686,
          0.5833497724821799,
          0.6000494071146245
         ],
         "yaxis": "y"
        },
        {
         "error_y": {
          "array": [
           0,
           0.02116687142419015,
           0.030714681867531436,
           0.017286839813123026,
           0.02452426441911966,
           0.011267675289286303,
           0.11451219189167913,
           0.08105444079995741,
           0.1699322582283534,
           0.09963953698524869,
           0.08980067336172727,
           0.1971922540620457
          ]
         },
         "hovertemplate": "model=GaussianNB<br>unlabeled=%{x}<br>precision_mean=%{y}<extra></extra>",
         "legendgroup": "GaussianNB",
         "marker": {
          "color": "#EF553B",
          "symbol": "circle"
         },
         "mode": "markers",
         "name": "GaussianNB",
         "orientation": "v",
         "showlegend": true,
         "textposition": "top center",
         "texttemplate": "%{y:.3f}",
         "type": "scatter",
         "x": [
          0.1,
          0.2,
          0.3,
          0.4,
          0.5,
          0.6,
          0.7,
          0.75,
          0.8,
          0.85,
          0.9,
          0.95
         ],
         "xaxis": "x",
         "y": [
          0.7,
          0.6957129385483044,
          0.7139019949741012,
          0.725538631610738,
          0.77811986863711,
          0.7931547619047619,
          0.7424107142857143,
          0.6803571428571429,
          0.6522435897435898,
          0.7331168831168832,
          0.7079236552920763,
          0.7078947368421052
         ],
         "yaxis": "y"
        },
        {
         "error_y": {
          "array": [
           0.04187423931152404,
           0.0424082694346723,
           0.030473926376646823,
           0.015668938954923335,
           0.04520225062286169,
           0.05902086498070204,
           0.04902507316028613,
           0.05757438907744317,
           0.12418128653779618,
           0.11105445161091088,
           0.11846259503123366,
           0.23744277720740323
          ]
         },
         "hovertemplate": "model=KNeighborsClassifier<br>unlabeled=%{x}<br>precision_mean=%{y}<extra></extra>",
         "legendgroup": "KNeighborsClassifier",
         "marker": {
          "color": "#00cc96",
          "symbol": "circle"
         },
         "mode": "markers",
         "name": "KNeighborsClassifier",
         "orientation": "v",
         "showlegend": true,
         "textposition": "top center",
         "texttemplate": "%{y:.3f}",
         "type": "scatter",
         "x": [
          0.1,
          0.2,
          0.3,
          0.4,
          0.5,
          0.6,
          0.7,
          0.75,
          0.8,
          0.85,
          0.9,
          0.95
         ],
         "xaxis": "x",
         "y": [
          0.6345450567255079,
          0.6309190228406971,
          0.6400728779148231,
          0.6473188405797101,
          0.6603851486246672,
          0.6484085272905149,
          0.6134341931216931,
          0.6117548076923077,
          0.6460784313725491,
          0.6126488095238095,
          0.6288836466855043,
          0.6368371212121212
         ],
         "yaxis": "y"
        },
        {
         "error_y": {
          "array": [
           0.027905378861605726,
           0.03477231873388689,
           0.03813100855669074,
           0.04120977426448242,
           0.0335131205903103,
           0.01745302914596993,
           0.03420943605727601,
           0.055448872322800984,
           0.09714015871197172,
           0.08528416711697716,
           0.11668364707115342,
           0.3125677049357599
          ]
         },
         "hovertemplate": "model=RandomForestClassifier<br>unlabeled=%{x}<br>precision_mean=%{y}<extra></extra>",
         "legendgroup": "RandomForestClassifier",
         "marker": {
          "color": "#ab63fa",
          "symbol": "circle"
         },
         "mode": "markers",
         "name": "RandomForestClassifier",
         "orientation": "v",
         "showlegend": true,
         "textposition": "top center",
         "texttemplate": "%{y:.3f}",
         "type": "scatter",
         "x": [
          0.1,
          0.2,
          0.3,
          0.4,
          0.5,
          0.6,
          0.7,
          0.75,
          0.8,
          0.85,
          0.9,
          0.95
         ],
         "xaxis": "x",
         "y": [
          0.6383976815011297,
          0.6378363512797475,
          0.6979512735326688,
          0.6694041606541606,
          0.7045238095238096,
          0.7010117789187557,
          0.7453640370877033,
          0.7138296070460705,
          0.6916125541125541,
          0.6939688218757987,
          0.7068020532420198,
          0.45337301587301587
         ],
         "yaxis": "y"
        }
       ],
       "layout": {
        "autosize": false,
        "height": 500,
        "hovermode": "x unified",
        "legend": {
         "title": {
          "text": "Model"
         },
         "tracegroupgap": 0
        },
        "template": {
         "data": {
          "bar": [
           {
            "error_x": {
             "color": "#2a3f5f"
            },
            "error_y": {
             "color": "#2a3f5f"
            },
            "marker": {
             "line": {
              "color": "#E5ECF6",
              "width": 0.5
             },
             "pattern": {
              "fillmode": "overlay",
              "size": 10,
              "solidity": 0.2
             }
            },
            "type": "bar"
           }
          ],
          "barpolar": [
           {
            "marker": {
             "line": {
              "color": "#E5ECF6",
              "width": 0.5
             },
             "pattern": {
              "fillmode": "overlay",
              "size": 10,
              "solidity": 0.2
             }
            },
            "type": "barpolar"
           }
          ],
          "carpet": [
           {
            "aaxis": {
             "endlinecolor": "#2a3f5f",
             "gridcolor": "white",
             "linecolor": "white",
             "minorgridcolor": "white",
             "startlinecolor": "#2a3f5f"
            },
            "baxis": {
             "endlinecolor": "#2a3f5f",
             "gridcolor": "white",
             "linecolor": "white",
             "minorgridcolor": "white",
             "startlinecolor": "#2a3f5f"
            },
            "type": "carpet"
           }
          ],
          "choropleth": [
           {
            "colorbar": {
             "outlinewidth": 0,
             "ticks": ""
            },
            "type": "choropleth"
           }
          ],
          "contour": [
           {
            "colorbar": {
             "outlinewidth": 0,
             "ticks": ""
            },
            "colorscale": [
             [
              0,
              "#0d0887"
             ],
             [
              0.1111111111111111,
              "#46039f"
             ],
             [
              0.2222222222222222,
              "#7201a8"
             ],
             [
              0.3333333333333333,
              "#9c179e"
             ],
             [
              0.4444444444444444,
              "#bd3786"
             ],
             [
              0.5555555555555556,
              "#d8576b"
             ],
             [
              0.6666666666666666,
              "#ed7953"
             ],
             [
              0.7777777777777778,
              "#fb9f3a"
             ],
             [
              0.8888888888888888,
              "#fdca26"
             ],
             [
              1,
              "#f0f921"
             ]
            ],
            "type": "contour"
           }
          ],
          "contourcarpet": [
           {
            "colorbar": {
             "outlinewidth": 0,
             "ticks": ""
            },
            "type": "contourcarpet"
           }
          ],
          "heatmap": [
           {
            "colorbar": {
             "outlinewidth": 0,
             "ticks": ""
            },
            "colorscale": [
             [
              0,
              "#0d0887"
             ],
             [
              0.1111111111111111,
              "#46039f"
             ],
             [
              0.2222222222222222,
              "#7201a8"
             ],
             [
              0.3333333333333333,
              "#9c179e"
             ],
             [
              0.4444444444444444,
              "#bd3786"
             ],
             [
              0.5555555555555556,
              "#d8576b"
             ],
             [
              0.6666666666666666,
              "#ed7953"
             ],
             [
              0.7777777777777778,
              "#fb9f3a"
             ],
             [
              0.8888888888888888,
              "#fdca26"
             ],
             [
              1,
              "#f0f921"
             ]
            ],
            "type": "heatmap"
           }
          ],
          "heatmapgl": [
           {
            "colorbar": {
             "outlinewidth": 0,
             "ticks": ""
            },
            "colorscale": [
             [
              0,
              "#0d0887"
             ],
             [
              0.1111111111111111,
              "#46039f"
             ],
             [
              0.2222222222222222,
              "#7201a8"
             ],
             [
              0.3333333333333333,
              "#9c179e"
             ],
             [
              0.4444444444444444,
              "#bd3786"
             ],
             [
              0.5555555555555556,
              "#d8576b"
             ],
             [
              0.6666666666666666,
              "#ed7953"
             ],
             [
              0.7777777777777778,
              "#fb9f3a"
             ],
             [
              0.8888888888888888,
              "#fdca26"
             ],
             [
              1,
              "#f0f921"
             ]
            ],
            "type": "heatmapgl"
           }
          ],
          "histogram": [
           {
            "marker": {
             "pattern": {
              "fillmode": "overlay",
              "size": 10,
              "solidity": 0.2
             }
            },
            "type": "histogram"
           }
          ],
          "histogram2d": [
           {
            "colorbar": {
             "outlinewidth": 0,
             "ticks": ""
            },
            "colorscale": [
             [
              0,
              "#0d0887"
             ],
             [
              0.1111111111111111,
              "#46039f"
             ],
             [
              0.2222222222222222,
              "#7201a8"
             ],
             [
              0.3333333333333333,
              "#9c179e"
             ],
             [
              0.4444444444444444,
              "#bd3786"
             ],
             [
              0.5555555555555556,
              "#d8576b"
             ],
             [
              0.6666666666666666,
              "#ed7953"
             ],
             [
              0.7777777777777778,
              "#fb9f3a"
             ],
             [
              0.8888888888888888,
              "#fdca26"
             ],
             [
              1,
              "#f0f921"
             ]
            ],
            "type": "histogram2d"
           }
          ],
          "histogram2dcontour": [
           {
            "colorbar": {
             "outlinewidth": 0,
             "ticks": ""
            },
            "colorscale": [
             [
              0,
              "#0d0887"
             ],
             [
              0.1111111111111111,
              "#46039f"
             ],
             [
              0.2222222222222222,
              "#7201a8"
             ],
             [
              0.3333333333333333,
              "#9c179e"
             ],
             [
              0.4444444444444444,
              "#bd3786"
             ],
             [
              0.5555555555555556,
              "#d8576b"
             ],
             [
              0.6666666666666666,
              "#ed7953"
             ],
             [
              0.7777777777777778,
              "#fb9f3a"
             ],
             [
              0.8888888888888888,
              "#fdca26"
             ],
             [
              1,
              "#f0f921"
             ]
            ],
            "type": "histogram2dcontour"
           }
          ],
          "mesh3d": [
           {
            "colorbar": {
             "outlinewidth": 0,
             "ticks": ""
            },
            "type": "mesh3d"
           }
          ],
          "parcoords": [
           {
            "line": {
             "colorbar": {
              "outlinewidth": 0,
              "ticks": ""
             }
            },
            "type": "parcoords"
           }
          ],
          "pie": [
           {
            "automargin": true,
            "type": "pie"
           }
          ],
          "scatter": [
           {
            "fillpattern": {
             "fillmode": "overlay",
             "size": 10,
             "solidity": 0.2
            },
            "type": "scatter"
           }
          ],
          "scatter3d": [
           {
            "line": {
             "colorbar": {
              "outlinewidth": 0,
              "ticks": ""
             }
            },
            "marker": {
             "colorbar": {
              "outlinewidth": 0,
              "ticks": ""
             }
            },
            "type": "scatter3d"
           }
          ],
          "scattercarpet": [
           {
            "marker": {
             "colorbar": {
              "outlinewidth": 0,
              "ticks": ""
             }
            },
            "type": "scattercarpet"
           }
          ],
          "scattergeo": [
           {
            "marker": {
             "colorbar": {
              "outlinewidth": 0,
              "ticks": ""
             }
            },
            "type": "scattergeo"
           }
          ],
          "scattergl": [
           {
            "marker": {
             "colorbar": {
              "outlinewidth": 0,
              "ticks": ""
             }
            },
            "type": "scattergl"
           }
          ],
          "scattermapbox": [
           {
            "marker": {
             "colorbar": {
              "outlinewidth": 0,
              "ticks": ""
             }
            },
            "type": "scattermapbox"
           }
          ],
          "scatterpolar": [
           {
            "marker": {
             "colorbar": {
              "outlinewidth": 0,
              "ticks": ""
             }
            },
            "type": "scatterpolar"
           }
          ],
          "scatterpolargl": [
           {
            "marker": {
             "colorbar": {
              "outlinewidth": 0,
              "ticks": ""
             }
            },
            "type": "scatterpolargl"
           }
          ],
          "scatterternary": [
           {
            "marker": {
             "colorbar": {
              "outlinewidth": 0,
              "ticks": ""
             }
            },
            "type": "scatterternary"
           }
          ],
          "surface": [
           {
            "colorbar": {
             "outlinewidth": 0,
             "ticks": ""
            },
            "colorscale": [
             [
              0,
              "#0d0887"
             ],
             [
              0.1111111111111111,
              "#46039f"
             ],
             [
              0.2222222222222222,
              "#7201a8"
             ],
             [
              0.3333333333333333,
              "#9c179e"
             ],
             [
              0.4444444444444444,
              "#bd3786"
             ],
             [
              0.5555555555555556,
              "#d8576b"
             ],
             [
              0.6666666666666666,
              "#ed7953"
             ],
             [
              0.7777777777777778,
              "#fb9f3a"
             ],
             [
              0.8888888888888888,
              "#fdca26"
             ],
             [
              1,
              "#f0f921"
             ]
            ],
            "type": "surface"
           }
          ],
          "table": [
           {
            "cells": {
             "fill": {
              "color": "#EBF0F8"
             },
             "line": {
              "color": "white"
             }
            },
            "header": {
             "fill": {
              "color": "#C8D4E3"
             },
             "line": {
              "color": "white"
             }
            },
            "type": "table"
           }
          ]
         },
         "layout": {
          "annotationdefaults": {
           "arrowcolor": "#2a3f5f",
           "arrowhead": 0,
           "arrowwidth": 1
          },
          "autotypenumbers": "strict",
          "coloraxis": {
           "colorbar": {
            "outlinewidth": 0,
            "ticks": ""
           }
          },
          "colorscale": {
           "diverging": [
            [
             0,
             "#8e0152"
            ],
            [
             0.1,
             "#c51b7d"
            ],
            [
             0.2,
             "#de77ae"
            ],
            [
             0.3,
             "#f1b6da"
            ],
            [
             0.4,
             "#fde0ef"
            ],
            [
             0.5,
             "#f7f7f7"
            ],
            [
             0.6,
             "#e6f5d0"
            ],
            [
             0.7,
             "#b8e186"
            ],
            [
             0.8,
             "#7fbc41"
            ],
            [
             0.9,
             "#4d9221"
            ],
            [
             1,
             "#276419"
            ]
           ],
           "sequential": [
            [
             0,
             "#0d0887"
            ],
            [
             0.1111111111111111,
             "#46039f"
            ],
            [
             0.2222222222222222,
             "#7201a8"
            ],
            [
             0.3333333333333333,
             "#9c179e"
            ],
            [
             0.4444444444444444,
             "#bd3786"
            ],
            [
             0.5555555555555556,
             "#d8576b"
            ],
            [
             0.6666666666666666,
             "#ed7953"
            ],
            [
             0.7777777777777778,
             "#fb9f3a"
            ],
            [
             0.8888888888888888,
             "#fdca26"
            ],
            [
             1,
             "#f0f921"
            ]
           ],
           "sequentialminus": [
            [
             0,
             "#0d0887"
            ],
            [
             0.1111111111111111,
             "#46039f"
            ],
            [
             0.2222222222222222,
             "#7201a8"
            ],
            [
             0.3333333333333333,
             "#9c179e"
            ],
            [
             0.4444444444444444,
             "#bd3786"
            ],
            [
             0.5555555555555556,
             "#d8576b"
            ],
            [
             0.6666666666666666,
             "#ed7953"
            ],
            [
             0.7777777777777778,
             "#fb9f3a"
            ],
            [
             0.8888888888888888,
             "#fdca26"
            ],
            [
             1,
             "#f0f921"
            ]
           ]
          },
          "colorway": [
           "#636efa",
           "#EF553B",
           "#00cc96",
           "#ab63fa",
           "#FFA15A",
           "#19d3f3",
           "#FF6692",
           "#B6E880",
           "#FF97FF",
           "#FECB52"
          ],
          "font": {
           "color": "#2a3f5f"
          },
          "geo": {
           "bgcolor": "white",
           "lakecolor": "white",
           "landcolor": "#E5ECF6",
           "showlakes": true,
           "showland": true,
           "subunitcolor": "white"
          },
          "hoverlabel": {
           "align": "left"
          },
          "hovermode": "closest",
          "mapbox": {
           "style": "light"
          },
          "paper_bgcolor": "white",
          "plot_bgcolor": "#E5ECF6",
          "polar": {
           "angularaxis": {
            "gridcolor": "white",
            "linecolor": "white",
            "ticks": ""
           },
           "bgcolor": "#E5ECF6",
           "radialaxis": {
            "gridcolor": "white",
            "linecolor": "white",
            "ticks": ""
           }
          },
          "scene": {
           "xaxis": {
            "backgroundcolor": "#E5ECF6",
            "gridcolor": "white",
            "gridwidth": 2,
            "linecolor": "white",
            "showbackground": true,
            "ticks": "",
            "zerolinecolor": "white"
           },
           "yaxis": {
            "backgroundcolor": "#E5ECF6",
            "gridcolor": "white",
            "gridwidth": 2,
            "linecolor": "white",
            "showbackground": true,
            "ticks": "",
            "zerolinecolor": "white"
           },
           "zaxis": {
            "backgroundcolor": "#E5ECF6",
            "gridcolor": "white",
            "gridwidth": 2,
            "linecolor": "white",
            "showbackground": true,
            "ticks": "",
            "zerolinecolor": "white"
           }
          },
          "shapedefaults": {
           "line": {
            "color": "#2a3f5f"
           }
          },
          "ternary": {
           "aaxis": {
            "gridcolor": "white",
            "linecolor": "white",
            "ticks": ""
           },
           "baxis": {
            "gridcolor": "white",
            "linecolor": "white",
            "ticks": ""
           },
           "bgcolor": "#E5ECF6",
           "caxis": {
            "gridcolor": "white",
            "linecolor": "white",
            "ticks": ""
           }
          },
          "title": {
           "x": 0.05
          },
          "xaxis": {
           "automargin": true,
           "gridcolor": "white",
           "linecolor": "white",
           "ticks": "",
           "title": {
            "standoff": 15
           },
           "zerolinecolor": "white",
           "zerolinewidth": 2
          },
          "yaxis": {
           "automargin": true,
           "gridcolor": "white",
           "linecolor": "white",
           "ticks": "",
           "title": {
            "standoff": 15
           },
           "zerolinecolor": "white",
           "zerolinewidth": 2
          }
         }
        },
        "title": {
         "text": "Precision vs. Unlabeled Data"
        },
        "width": 1200,
        "xaxis": {
         "anchor": "y",
         "domain": [
          0,
          1
         ],
         "title": {
          "text": "% of Unlabeled Data in Dataset"
         }
        },
        "yaxis": {
         "anchor": "x",
         "domain": [
          0,
          1
         ],
         "title": {
          "text": "Metric Value"
         }
        }
       }
      }
     },
     "metadata": {},
     "output_type": "display_data"
    },
    {
     "data": {
      "application/vnd.plotly.v1+json": {
       "config": {
        "plotlyServerURL": "https://plot.ly"
       },
       "data": [
        {
         "error_y": {
          "array": [
           0.08198635914223443,
           0.10959479587894011,
           0.07041787902195303,
           0.06298366572977737,
           0.03481553119113957,
           0.09958591954639388,
           0.0717740562565273,
           0.054292342021724026,
           0.0818181818181818,
           0.08198635914223446,
           0.060073416974542444,
           0.13226153238057695
          ]
         },
         "hovertemplate": "model=DecisionTreeClassifier<br>unlabeled=%{x}<br>recall_mean=%{y}<extra></extra>",
         "legendgroup": "DecisionTreeClassifier",
         "marker": {
          "color": "#636efa",
          "symbol": "circle"
         },
         "mode": "markers",
         "name": "DecisionTreeClassifier",
         "orientation": "v",
         "showlegend": true,
         "textposition": "top center",
         "texttemplate": "%{y:.3f}",
         "type": "scatter",
         "x": [
          0.1,
          0.2,
          0.3,
          0.4,
          0.5,
          0.6,
          0.7,
          0.75,
          0.8,
          0.85,
          0.9,
          0.95
         ],
         "xaxis": "x",
         "y": [
          0.5909090909090908,
          0.5909090909090909,
          0.5545454545454545,
          0.5818181818181818,
          0.5909090909090908,
          0.5454545454545454,
          0.55,
          0.5863636363636363,
          0.5045454545454545,
          0.5727272727272728,
          0.48636363636363633,
          0.45909090909090905
         ],
         "yaxis": "y"
        },
        {
         "error_y": {
          "array": [
           0,
           0.017407765595569773,
           0.022878286167487126,
           0.025712973861329005,
           0.04545454545454548,
           0.04453617714151235,
           0.039277216353987024,
           0.025712973861328994,
           0.06210273191490666,
           0.06721537276611769,
           0.0492365963917331,
           0.03784847271756605
          ]
         },
         "hovertemplate": "model=GaussianNB<br>unlabeled=%{x}<br>recall_mean=%{y}<extra></extra>",
         "legendgroup": "GaussianNB",
         "marker": {
          "color": "#EF553B",
          "symbol": "circle"
         },
         "mode": "markers",
         "name": "GaussianNB",
         "orientation": "v",
         "showlegend": true,
         "textposition": "top center",
         "texttemplate": "%{y:.3f}",
         "type": "scatter",
         "x": [
          0.1,
          0.2,
          0.3,
          0.4,
          0.5,
          0.6,
          0.7,
          0.75,
          0.8,
          0.85,
          0.9,
          0.95
         ],
         "xaxis": "x",
         "y": [
          0.509090909090909,
          0.48636363636363633,
          0.44999999999999996,
          0.45454545454545453,
          0.3772727272727273,
          0.36363636363636365,
          0.23636363636363636,
          0.2,
          0.15454545454545454,
          0.13636363636363635,
          0.16363636363636364,
          0.17272727272727273
         ],
         "yaxis": "y"
        },
        {
         "error_y": {
          "array": [
           0,
           0.027272727272727285,
           0.0882957714202028,
           0.045454545454545435,
           0.12984415324623363,
           0.15020646947143915,
           0.10431463320035456,
           0.065345026220751,
           0.09315409787235998,
           0.1298441532462336,
           0.12151477367129347,
           0.13636363636363635
          ]
         },
         "hovertemplate": "model=KNeighborsClassifier<br>unlabeled=%{x}<br>recall_mean=%{y}<extra></extra>",
         "legendgroup": "KNeighborsClassifier",
         "marker": {
          "color": "#00cc96",
          "symbol": "circle"
         },
         "mode": "markers",
         "name": "KNeighborsClassifier",
         "orientation": "v",
         "showlegend": true,
         "textposition": "top center",
         "texttemplate": "%{y:.3f}",
         "type": "scatter",
         "x": [
          0.1,
          0.2,
          0.3,
          0.4,
          0.5,
          0.6,
          0.7,
          0.75,
          0.8,
          0.85,
          0.9,
          0.95
         ],
         "xaxis": "x",
         "y": [
          0.6181818181818182,
          0.5954545454545455,
          0.5318181818181817,
          0.5318181818181817,
          0.5363636363636364,
          0.4954545454545454,
          0.39545454545454545,
          0.35,
          0.35,
          0.2818181818181818,
          0.2909090909090909,
          0.19545454545454544
         ],
         "yaxis": "y"
        },
        {
         "error_y": {
          "array": [
           0.01740776559556981,
           0.02287828616748714,
           0.02287828616748714,
           0.03927721635398705,
           0.04031555968378811,
           0.06188053895958223,
           0.053525823432289975,
           0.08198635914223441,
           0.05429234202172397,
           0.09999999999999998,
           0.10391774666352874,
           0.30365087971107757
          ]
         },
         "hovertemplate": "model=RandomForestClassifier<br>unlabeled=%{x}<br>recall_mean=%{y}<extra></extra>",
         "legendgroup": "RandomForestClassifier",
         "marker": {
          "color": "#ab63fa",
          "symbol": "circle"
         },
         "mode": "markers",
         "name": "RandomForestClassifier",
         "orientation": "v",
         "showlegend": true,
         "textposition": "top center",
         "texttemplate": "%{y:.3f}",
         "type": "scatter",
         "x": [
          0.1,
          0.2,
          0.3,
          0.4,
          0.5,
          0.6,
          0.7,
          0.75,
          0.8,
          0.85,
          0.9,
          0.95
         ],
         "xaxis": "x",
         "y": [
          0.6318181818181818,
          0.6227272727272727,
          0.6136363636363636,
          0.6181818181818182,
          0.6136363636363636,
          0.6136363636363636,
          0.5272727272727272,
          0.5,
          0.48636363636363633,
          0.41363636363636364,
          0.4545454545454546,
          0.4318181818181818
         ],
         "yaxis": "y"
        }
       ],
       "layout": {
        "autosize": false,
        "height": 500,
        "hovermode": "x unified",
        "legend": {
         "title": {
          "text": "Model"
         },
         "tracegroupgap": 0
        },
        "template": {
         "data": {
          "bar": [
           {
            "error_x": {
             "color": "#2a3f5f"
            },
            "error_y": {
             "color": "#2a3f5f"
            },
            "marker": {
             "line": {
              "color": "#E5ECF6",
              "width": 0.5
             },
             "pattern": {
              "fillmode": "overlay",
              "size": 10,
              "solidity": 0.2
             }
            },
            "type": "bar"
           }
          ],
          "barpolar": [
           {
            "marker": {
             "line": {
              "color": "#E5ECF6",
              "width": 0.5
             },
             "pattern": {
              "fillmode": "overlay",
              "size": 10,
              "solidity": 0.2
             }
            },
            "type": "barpolar"
           }
          ],
          "carpet": [
           {
            "aaxis": {
             "endlinecolor": "#2a3f5f",
             "gridcolor": "white",
             "linecolor": "white",
             "minorgridcolor": "white",
             "startlinecolor": "#2a3f5f"
            },
            "baxis": {
             "endlinecolor": "#2a3f5f",
             "gridcolor": "white",
             "linecolor": "white",
             "minorgridcolor": "white",
             "startlinecolor": "#2a3f5f"
            },
            "type": "carpet"
           }
          ],
          "choropleth": [
           {
            "colorbar": {
             "outlinewidth": 0,
             "ticks": ""
            },
            "type": "choropleth"
           }
          ],
          "contour": [
           {
            "colorbar": {
             "outlinewidth": 0,
             "ticks": ""
            },
            "colorscale": [
             [
              0,
              "#0d0887"
             ],
             [
              0.1111111111111111,
              "#46039f"
             ],
             [
              0.2222222222222222,
              "#7201a8"
             ],
             [
              0.3333333333333333,
              "#9c179e"
             ],
             [
              0.4444444444444444,
              "#bd3786"
             ],
             [
              0.5555555555555556,
              "#d8576b"
             ],
             [
              0.6666666666666666,
              "#ed7953"
             ],
             [
              0.7777777777777778,
              "#fb9f3a"
             ],
             [
              0.8888888888888888,
              "#fdca26"
             ],
             [
              1,
              "#f0f921"
             ]
            ],
            "type": "contour"
           }
          ],
          "contourcarpet": [
           {
            "colorbar": {
             "outlinewidth": 0,
             "ticks": ""
            },
            "type": "contourcarpet"
           }
          ],
          "heatmap": [
           {
            "colorbar": {
             "outlinewidth": 0,
             "ticks": ""
            },
            "colorscale": [
             [
              0,
              "#0d0887"
             ],
             [
              0.1111111111111111,
              "#46039f"
             ],
             [
              0.2222222222222222,
              "#7201a8"
             ],
             [
              0.3333333333333333,
              "#9c179e"
             ],
             [
              0.4444444444444444,
              "#bd3786"
             ],
             [
              0.5555555555555556,
              "#d8576b"
             ],
             [
              0.6666666666666666,
              "#ed7953"
             ],
             [
              0.7777777777777778,
              "#fb9f3a"
             ],
             [
              0.8888888888888888,
              "#fdca26"
             ],
             [
              1,
              "#f0f921"
             ]
            ],
            "type": "heatmap"
           }
          ],
          "heatmapgl": [
           {
            "colorbar": {
             "outlinewidth": 0,
             "ticks": ""
            },
            "colorscale": [
             [
              0,
              "#0d0887"
             ],
             [
              0.1111111111111111,
              "#46039f"
             ],
             [
              0.2222222222222222,
              "#7201a8"
             ],
             [
              0.3333333333333333,
              "#9c179e"
             ],
             [
              0.4444444444444444,
              "#bd3786"
             ],
             [
              0.5555555555555556,
              "#d8576b"
             ],
             [
              0.6666666666666666,
              "#ed7953"
             ],
             [
              0.7777777777777778,
              "#fb9f3a"
             ],
             [
              0.8888888888888888,
              "#fdca26"
             ],
             [
              1,
              "#f0f921"
             ]
            ],
            "type": "heatmapgl"
           }
          ],
          "histogram": [
           {
            "marker": {
             "pattern": {
              "fillmode": "overlay",
              "size": 10,
              "solidity": 0.2
             }
            },
            "type": "histogram"
           }
          ],
          "histogram2d": [
           {
            "colorbar": {
             "outlinewidth": 0,
             "ticks": ""
            },
            "colorscale": [
             [
              0,
              "#0d0887"
             ],
             [
              0.1111111111111111,
              "#46039f"
             ],
             [
              0.2222222222222222,
              "#7201a8"
             ],
             [
              0.3333333333333333,
              "#9c179e"
             ],
             [
              0.4444444444444444,
              "#bd3786"
             ],
             [
              0.5555555555555556,
              "#d8576b"
             ],
             [
              0.6666666666666666,
              "#ed7953"
             ],
             [
              0.7777777777777778,
              "#fb9f3a"
             ],
             [
              0.8888888888888888,
              "#fdca26"
             ],
             [
              1,
              "#f0f921"
             ]
            ],
            "type": "histogram2d"
           }
          ],
          "histogram2dcontour": [
           {
            "colorbar": {
             "outlinewidth": 0,
             "ticks": ""
            },
            "colorscale": [
             [
              0,
              "#0d0887"
             ],
             [
              0.1111111111111111,
              "#46039f"
             ],
             [
              0.2222222222222222,
              "#7201a8"
             ],
             [
              0.3333333333333333,
              "#9c179e"
             ],
             [
              0.4444444444444444,
              "#bd3786"
             ],
             [
              0.5555555555555556,
              "#d8576b"
             ],
             [
              0.6666666666666666,
              "#ed7953"
             ],
             [
              0.7777777777777778,
              "#fb9f3a"
             ],
             [
              0.8888888888888888,
              "#fdca26"
             ],
             [
              1,
              "#f0f921"
             ]
            ],
            "type": "histogram2dcontour"
           }
          ],
          "mesh3d": [
           {
            "colorbar": {
             "outlinewidth": 0,
             "ticks": ""
            },
            "type": "mesh3d"
           }
          ],
          "parcoords": [
           {
            "line": {
             "colorbar": {
              "outlinewidth": 0,
              "ticks": ""
             }
            },
            "type": "parcoords"
           }
          ],
          "pie": [
           {
            "automargin": true,
            "type": "pie"
           }
          ],
          "scatter": [
           {
            "fillpattern": {
             "fillmode": "overlay",
             "size": 10,
             "solidity": 0.2
            },
            "type": "scatter"
           }
          ],
          "scatter3d": [
           {
            "line": {
             "colorbar": {
              "outlinewidth": 0,
              "ticks": ""
             }
            },
            "marker": {
             "colorbar": {
              "outlinewidth": 0,
              "ticks": ""
             }
            },
            "type": "scatter3d"
           }
          ],
          "scattercarpet": [
           {
            "marker": {
             "colorbar": {
              "outlinewidth": 0,
              "ticks": ""
             }
            },
            "type": "scattercarpet"
           }
          ],
          "scattergeo": [
           {
            "marker": {
             "colorbar": {
              "outlinewidth": 0,
              "ticks": ""
             }
            },
            "type": "scattergeo"
           }
          ],
          "scattergl": [
           {
            "marker": {
             "colorbar": {
              "outlinewidth": 0,
              "ticks": ""
             }
            },
            "type": "scattergl"
           }
          ],
          "scattermapbox": [
           {
            "marker": {
             "colorbar": {
              "outlinewidth": 0,
              "ticks": ""
             }
            },
            "type": "scattermapbox"
           }
          ],
          "scatterpolar": [
           {
            "marker": {
             "colorbar": {
              "outlinewidth": 0,
              "ticks": ""
             }
            },
            "type": "scatterpolar"
           }
          ],
          "scatterpolargl": [
           {
            "marker": {
             "colorbar": {
              "outlinewidth": 0,
              "ticks": ""
             }
            },
            "type": "scatterpolargl"
           }
          ],
          "scatterternary": [
           {
            "marker": {
             "colorbar": {
              "outlinewidth": 0,
              "ticks": ""
             }
            },
            "type": "scatterternary"
           }
          ],
          "surface": [
           {
            "colorbar": {
             "outlinewidth": 0,
             "ticks": ""
            },
            "colorscale": [
             [
              0,
              "#0d0887"
             ],
             [
              0.1111111111111111,
              "#46039f"
             ],
             [
              0.2222222222222222,
              "#7201a8"
             ],
             [
              0.3333333333333333,
              "#9c179e"
             ],
             [
              0.4444444444444444,
              "#bd3786"
             ],
             [
              0.5555555555555556,
              "#d8576b"
             ],
             [
              0.6666666666666666,
              "#ed7953"
             ],
             [
              0.7777777777777778,
              "#fb9f3a"
             ],
             [
              0.8888888888888888,
              "#fdca26"
             ],
             [
              1,
              "#f0f921"
             ]
            ],
            "type": "surface"
           }
          ],
          "table": [
           {
            "cells": {
             "fill": {
              "color": "#EBF0F8"
             },
             "line": {
              "color": "white"
             }
            },
            "header": {
             "fill": {
              "color": "#C8D4E3"
             },
             "line": {
              "color": "white"
             }
            },
            "type": "table"
           }
          ]
         },
         "layout": {
          "annotationdefaults": {
           "arrowcolor": "#2a3f5f",
           "arrowhead": 0,
           "arrowwidth": 1
          },
          "autotypenumbers": "strict",
          "coloraxis": {
           "colorbar": {
            "outlinewidth": 0,
            "ticks": ""
           }
          },
          "colorscale": {
           "diverging": [
            [
             0,
             "#8e0152"
            ],
            [
             0.1,
             "#c51b7d"
            ],
            [
             0.2,
             "#de77ae"
            ],
            [
             0.3,
             "#f1b6da"
            ],
            [
             0.4,
             "#fde0ef"
            ],
            [
             0.5,
             "#f7f7f7"
            ],
            [
             0.6,
             "#e6f5d0"
            ],
            [
             0.7,
             "#b8e186"
            ],
            [
             0.8,
             "#7fbc41"
            ],
            [
             0.9,
             "#4d9221"
            ],
            [
             1,
             "#276419"
            ]
           ],
           "sequential": [
            [
             0,
             "#0d0887"
            ],
            [
             0.1111111111111111,
             "#46039f"
            ],
            [
             0.2222222222222222,
             "#7201a8"
            ],
            [
             0.3333333333333333,
             "#9c179e"
            ],
            [
             0.4444444444444444,
             "#bd3786"
            ],
            [
             0.5555555555555556,
             "#d8576b"
            ],
            [
             0.6666666666666666,
             "#ed7953"
            ],
            [
             0.7777777777777778,
             "#fb9f3a"
            ],
            [
             0.8888888888888888,
             "#fdca26"
            ],
            [
             1,
             "#f0f921"
            ]
           ],
           "sequentialminus": [
            [
             0,
             "#0d0887"
            ],
            [
             0.1111111111111111,
             "#46039f"
            ],
            [
             0.2222222222222222,
             "#7201a8"
            ],
            [
             0.3333333333333333,
             "#9c179e"
            ],
            [
             0.4444444444444444,
             "#bd3786"
            ],
            [
             0.5555555555555556,
             "#d8576b"
            ],
            [
             0.6666666666666666,
             "#ed7953"
            ],
            [
             0.7777777777777778,
             "#fb9f3a"
            ],
            [
             0.8888888888888888,
             "#fdca26"
            ],
            [
             1,
             "#f0f921"
            ]
           ]
          },
          "colorway": [
           "#636efa",
           "#EF553B",
           "#00cc96",
           "#ab63fa",
           "#FFA15A",
           "#19d3f3",
           "#FF6692",
           "#B6E880",
           "#FF97FF",
           "#FECB52"
          ],
          "font": {
           "color": "#2a3f5f"
          },
          "geo": {
           "bgcolor": "white",
           "lakecolor": "white",
           "landcolor": "#E5ECF6",
           "showlakes": true,
           "showland": true,
           "subunitcolor": "white"
          },
          "hoverlabel": {
           "align": "left"
          },
          "hovermode": "closest",
          "mapbox": {
           "style": "light"
          },
          "paper_bgcolor": "white",
          "plot_bgcolor": "#E5ECF6",
          "polar": {
           "angularaxis": {
            "gridcolor": "white",
            "linecolor": "white",
            "ticks": ""
           },
           "bgcolor": "#E5ECF6",
           "radialaxis": {
            "gridcolor": "white",
            "linecolor": "white",
            "ticks": ""
           }
          },
          "scene": {
           "xaxis": {
            "backgroundcolor": "#E5ECF6",
            "gridcolor": "white",
            "gridwidth": 2,
            "linecolor": "white",
            "showbackground": true,
            "ticks": "",
            "zerolinecolor": "white"
           },
           "yaxis": {
            "backgroundcolor": "#E5ECF6",
            "gridcolor": "white",
            "gridwidth": 2,
            "linecolor": "white",
            "showbackground": true,
            "ticks": "",
            "zerolinecolor": "white"
           },
           "zaxis": {
            "backgroundcolor": "#E5ECF6",
            "gridcolor": "white",
            "gridwidth": 2,
            "linecolor": "white",
            "showbackground": true,
            "ticks": "",
            "zerolinecolor": "white"
           }
          },
          "shapedefaults": {
           "line": {
            "color": "#2a3f5f"
           }
          },
          "ternary": {
           "aaxis": {
            "gridcolor": "white",
            "linecolor": "white",
            "ticks": ""
           },
           "baxis": {
            "gridcolor": "white",
            "linecolor": "white",
            "ticks": ""
           },
           "bgcolor": "#E5ECF6",
           "caxis": {
            "gridcolor": "white",
            "linecolor": "white",
            "ticks": ""
           }
          },
          "title": {
           "x": 0.05
          },
          "xaxis": {
           "automargin": true,
           "gridcolor": "white",
           "linecolor": "white",
           "ticks": "",
           "title": {
            "standoff": 15
           },
           "zerolinecolor": "white",
           "zerolinewidth": 2
          },
          "yaxis": {
           "automargin": true,
           "gridcolor": "white",
           "linecolor": "white",
           "ticks": "",
           "title": {
            "standoff": 15
           },
           "zerolinecolor": "white",
           "zerolinewidth": 2
          }
         }
        },
        "title": {
         "text": "Recall vs. Unlabeled Data"
        },
        "width": 1200,
        "xaxis": {
         "anchor": "y",
         "domain": [
          0,
          1
         ],
         "title": {
          "text": "% of Unlabeled Data in Dataset"
         }
        },
        "yaxis": {
         "anchor": "x",
         "domain": [
          0,
          1
         ],
         "title": {
          "text": "Metric Value"
         }
        }
       }
      }
     },
     "metadata": {},
     "output_type": "display_data"
    },
    {
     "data": {
      "application/vnd.plotly.v1+json": {
       "config": {
        "plotlyServerURL": "https://plot.ly"
       },
       "data": [
        {
         "error_y": {
          "array": [
           0.049017660224067464,
           0.05559839181117789,
           0.030239833090752937,
           0.020241963878445516,
           0.019871025831218133,
           0.03835281397270886,
           0.02702059535885392,
           0.02064332802150756,
           0.04841026109108392,
           0.041462360038176604,
           0.060557640590552186,
           0.0754989975389842
          ]
         },
         "hovertemplate": "model=DecisionTreeClassifier<br>unlabeled=%{x}<br>roc_mean=%{y}<extra></extra>",
         "legendgroup": "DecisionTreeClassifier",
         "marker": {
          "color": "#636efa",
          "symbol": "circle"
         },
         "mode": "markers",
         "name": "DecisionTreeClassifier",
         "orientation": "v",
         "showlegend": true,
         "textposition": "top center",
         "texttemplate": "%{y:.3f}",
         "type": "scatter",
         "x": [
          0.1,
          0.2,
          0.3,
          0.4,
          0.5,
          0.6,
          0.7,
          0.75,
          0.8,
          0.85,
          0.9,
          0.95
         ],
         "xaxis": "x",
         "y": [
          0.6856060606060606,
          0.6792929292929293,
          0.6901515151515151,
          0.6962121212121212,
          0.7095959595959596,
          0.6792929292929293,
          0.6790404040404041,
          0.6883838383838383,
          0.6588383838383838,
          0.7017676767676767,
          0.6421717171717172,
          0.6474747474747474
         ],
         "yaxis": "y"
        },
        {
         "error_y": {
          "array": [
           0,
           0.004285495643554867,
           0.00792677263770601,
           0.007399751170315068,
           0.016169505650082943,
           0.017463845103354726,
           0.02622861044969452,
           0.008268033102901473,
           0.020442591177762877,
           0.021385773090646543,
           0.01909420455051562,
           0.02709130328604909
          ]
         },
         "hovertemplate": "model=GaussianNB<br>unlabeled=%{x}<br>roc_mean=%{y}<extra></extra>",
         "legendgroup": "GaussianNB",
         "marker": {
          "color": "#EF553B",
          "symbol": "circle"
         },
         "mode": "markers",
         "name": "GaussianNB",
         "orientation": "v",
         "showlegend": true,
         "textposition": "top center",
         "texttemplate": "%{y:.3f}",
         "type": "scatter",
         "x": [
          0.1,
          0.2,
          0.3,
          0.4,
          0.5,
          0.6,
          0.7,
          0.75,
          0.8,
          0.85,
          0.9,
          0.95
         ],
         "xaxis": "x",
         "y": [
          0.6939393939393939,
          0.6838383838383838,
          0.6744949494949495,
          0.6792929292929293,
          0.6583333333333333,
          0.6553030303030303,
          0.5941919191919192,
          0.5722222222222222,
          0.5507575757575758,
          0.5517676767676767,
          0.5616161616161617,
          0.5636363636363636
         ],
         "yaxis": "y"
        },
        {
         "error_y": {
          "array": [
           0.01718903859988404,
           0.023924685418842483,
           0.03977626781312424,
           0.013282604240790754,
           0.05894684444208999,
           0.06614940643500566,
           0.04010834559611201,
           0.029100727860379736,
           0.0339988156264343,
           0.03645121328437603,
           0.045520901808349855,
           0.05224283046862933
          ]
         },
         "hovertemplate": "model=KNeighborsClassifier<br>unlabeled=%{x}<br>roc_mean=%{y}<extra></extra>",
         "legendgroup": "KNeighborsClassifier",
         "marker": {
          "color": "#00cc96",
          "symbol": "circle"
         },
         "mode": "markers",
         "name": "KNeighborsClassifier",
         "orientation": "v",
         "showlegend": true,
         "textposition": "top center",
         "texttemplate": "%{y:.3f}",
         "type": "scatter",
         "x": [
          0.1,
          0.2,
          0.3,
          0.4,
          0.5,
          0.6,
          0.7,
          0.75,
          0.8,
          0.85,
          0.9,
          0.95
         ],
         "xaxis": "x",
         "y": [
          0.7093434343434344,
          0.7005050505050505,
          0.6838383838383838,
          0.68510101010101,
          0.6936868686868687,
          0.6757575757575758,
          0.6282828282828282,
          0.6131313131313131,
          0.6143939393939395,
          0.5840909090909091,
          0.5962121212121212,
          0.5712121212121212
         ],
         "yaxis": "y"
        },
        {
         "error_y": {
          "array": [
           0.01502755124876861,
           0.021779723556435256,
           0.011605177063713133,
           0.01479950234063021,
           0.018542989647157393,
           0.01801976037869827,
           0.020913400879824292,
           0.02337098133209192,
           0.037463492188363735,
           0.04822108388799995,
           0.05653182610277182,
           0.08674870345192529
          ]
         },
         "hovertemplate": "model=RandomForestClassifier<br>unlabeled=%{x}<br>roc_mean=%{y}<extra></extra>",
         "legendgroup": "RandomForestClassifier",
         "marker": {
          "color": "#ab63fa",
          "symbol": "circle"
         },
         "mode": "markers",
         "name": "RandomForestClassifier",
         "orientation": "v",
         "showlegend": true,
         "textposition": "top center",
         "texttemplate": "%{y:.3f}",
         "type": "scatter",
         "x": [
          0.1,
          0.2,
          0.3,
          0.4,
          0.5,
          0.6,
          0.7,
          0.75,
          0.8,
          0.85,
          0.9,
          0.95
         ],
         "xaxis": "x",
         "y": [
          0.7161616161616161,
          0.7128787878787879,
          0.7323232323232323,
          0.7232323232323232,
          0.7348484848484849,
          0.7335858585858586,
          0.7131313131313131,
          0.6919191919191918,
          0.680050505050505,
          0.6550505050505051,
          0.6704545454545454,
          0.6300505050505051
         ],
         "yaxis": "y"
        }
       ],
       "layout": {
        "autosize": false,
        "height": 500,
        "hovermode": "x unified",
        "legend": {
         "title": {
          "text": "Model"
         },
         "tracegroupgap": 0
        },
        "template": {
         "data": {
          "bar": [
           {
            "error_x": {
             "color": "#2a3f5f"
            },
            "error_y": {
             "color": "#2a3f5f"
            },
            "marker": {
             "line": {
              "color": "#E5ECF6",
              "width": 0.5
             },
             "pattern": {
              "fillmode": "overlay",
              "size": 10,
              "solidity": 0.2
             }
            },
            "type": "bar"
           }
          ],
          "barpolar": [
           {
            "marker": {
             "line": {
              "color": "#E5ECF6",
              "width": 0.5
             },
             "pattern": {
              "fillmode": "overlay",
              "size": 10,
              "solidity": 0.2
             }
            },
            "type": "barpolar"
           }
          ],
          "carpet": [
           {
            "aaxis": {
             "endlinecolor": "#2a3f5f",
             "gridcolor": "white",
             "linecolor": "white",
             "minorgridcolor": "white",
             "startlinecolor": "#2a3f5f"
            },
            "baxis": {
             "endlinecolor": "#2a3f5f",
             "gridcolor": "white",
             "linecolor": "white",
             "minorgridcolor": "white",
             "startlinecolor": "#2a3f5f"
            },
            "type": "carpet"
           }
          ],
          "choropleth": [
           {
            "colorbar": {
             "outlinewidth": 0,
             "ticks": ""
            },
            "type": "choropleth"
           }
          ],
          "contour": [
           {
            "colorbar": {
             "outlinewidth": 0,
             "ticks": ""
            },
            "colorscale": [
             [
              0,
              "#0d0887"
             ],
             [
              0.1111111111111111,
              "#46039f"
             ],
             [
              0.2222222222222222,
              "#7201a8"
             ],
             [
              0.3333333333333333,
              "#9c179e"
             ],
             [
              0.4444444444444444,
              "#bd3786"
             ],
             [
              0.5555555555555556,
              "#d8576b"
             ],
             [
              0.6666666666666666,
              "#ed7953"
             ],
             [
              0.7777777777777778,
              "#fb9f3a"
             ],
             [
              0.8888888888888888,
              "#fdca26"
             ],
             [
              1,
              "#f0f921"
             ]
            ],
            "type": "contour"
           }
          ],
          "contourcarpet": [
           {
            "colorbar": {
             "outlinewidth": 0,
             "ticks": ""
            },
            "type": "contourcarpet"
           }
          ],
          "heatmap": [
           {
            "colorbar": {
             "outlinewidth": 0,
             "ticks": ""
            },
            "colorscale": [
             [
              0,
              "#0d0887"
             ],
             [
              0.1111111111111111,
              "#46039f"
             ],
             [
              0.2222222222222222,
              "#7201a8"
             ],
             [
              0.3333333333333333,
              "#9c179e"
             ],
             [
              0.4444444444444444,
              "#bd3786"
             ],
             [
              0.5555555555555556,
              "#d8576b"
             ],
             [
              0.6666666666666666,
              "#ed7953"
             ],
             [
              0.7777777777777778,
              "#fb9f3a"
             ],
             [
              0.8888888888888888,
              "#fdca26"
             ],
             [
              1,
              "#f0f921"
             ]
            ],
            "type": "heatmap"
           }
          ],
          "heatmapgl": [
           {
            "colorbar": {
             "outlinewidth": 0,
             "ticks": ""
            },
            "colorscale": [
             [
              0,
              "#0d0887"
             ],
             [
              0.1111111111111111,
              "#46039f"
             ],
             [
              0.2222222222222222,
              "#7201a8"
             ],
             [
              0.3333333333333333,
              "#9c179e"
             ],
             [
              0.4444444444444444,
              "#bd3786"
             ],
             [
              0.5555555555555556,
              "#d8576b"
             ],
             [
              0.6666666666666666,
              "#ed7953"
             ],
             [
              0.7777777777777778,
              "#fb9f3a"
             ],
             [
              0.8888888888888888,
              "#fdca26"
             ],
             [
              1,
              "#f0f921"
             ]
            ],
            "type": "heatmapgl"
           }
          ],
          "histogram": [
           {
            "marker": {
             "pattern": {
              "fillmode": "overlay",
              "size": 10,
              "solidity": 0.2
             }
            },
            "type": "histogram"
           }
          ],
          "histogram2d": [
           {
            "colorbar": {
             "outlinewidth": 0,
             "ticks": ""
            },
            "colorscale": [
             [
              0,
              "#0d0887"
             ],
             [
              0.1111111111111111,
              "#46039f"
             ],
             [
              0.2222222222222222,
              "#7201a8"
             ],
             [
              0.3333333333333333,
              "#9c179e"
             ],
             [
              0.4444444444444444,
              "#bd3786"
             ],
             [
              0.5555555555555556,
              "#d8576b"
             ],
             [
              0.6666666666666666,
              "#ed7953"
             ],
             [
              0.7777777777777778,
              "#fb9f3a"
             ],
             [
              0.8888888888888888,
              "#fdca26"
             ],
             [
              1,
              "#f0f921"
             ]
            ],
            "type": "histogram2d"
           }
          ],
          "histogram2dcontour": [
           {
            "colorbar": {
             "outlinewidth": 0,
             "ticks": ""
            },
            "colorscale": [
             [
              0,
              "#0d0887"
             ],
             [
              0.1111111111111111,
              "#46039f"
             ],
             [
              0.2222222222222222,
              "#7201a8"
             ],
             [
              0.3333333333333333,
              "#9c179e"
             ],
             [
              0.4444444444444444,
              "#bd3786"
             ],
             [
              0.5555555555555556,
              "#d8576b"
             ],
             [
              0.6666666666666666,
              "#ed7953"
             ],
             [
              0.7777777777777778,
              "#fb9f3a"
             ],
             [
              0.8888888888888888,
              "#fdca26"
             ],
             [
              1,
              "#f0f921"
             ]
            ],
            "type": "histogram2dcontour"
           }
          ],
          "mesh3d": [
           {
            "colorbar": {
             "outlinewidth": 0,
             "ticks": ""
            },
            "type": "mesh3d"
           }
          ],
          "parcoords": [
           {
            "line": {
             "colorbar": {
              "outlinewidth": 0,
              "ticks": ""
             }
            },
            "type": "parcoords"
           }
          ],
          "pie": [
           {
            "automargin": true,
            "type": "pie"
           }
          ],
          "scatter": [
           {
            "fillpattern": {
             "fillmode": "overlay",
             "size": 10,
             "solidity": 0.2
            },
            "type": "scatter"
           }
          ],
          "scatter3d": [
           {
            "line": {
             "colorbar": {
              "outlinewidth": 0,
              "ticks": ""
             }
            },
            "marker": {
             "colorbar": {
              "outlinewidth": 0,
              "ticks": ""
             }
            },
            "type": "scatter3d"
           }
          ],
          "scattercarpet": [
           {
            "marker": {
             "colorbar": {
              "outlinewidth": 0,
              "ticks": ""
             }
            },
            "type": "scattercarpet"
           }
          ],
          "scattergeo": [
           {
            "marker": {
             "colorbar": {
              "outlinewidth": 0,
              "ticks": ""
             }
            },
            "type": "scattergeo"
           }
          ],
          "scattergl": [
           {
            "marker": {
             "colorbar": {
              "outlinewidth": 0,
              "ticks": ""
             }
            },
            "type": "scattergl"
           }
          ],
          "scattermapbox": [
           {
            "marker": {
             "colorbar": {
              "outlinewidth": 0,
              "ticks": ""
             }
            },
            "type": "scattermapbox"
           }
          ],
          "scatterpolar": [
           {
            "marker": {
             "colorbar": {
              "outlinewidth": 0,
              "ticks": ""
             }
            },
            "type": "scatterpolar"
           }
          ],
          "scatterpolargl": [
           {
            "marker": {
             "colorbar": {
              "outlinewidth": 0,
              "ticks": ""
             }
            },
            "type": "scatterpolargl"
           }
          ],
          "scatterternary": [
           {
            "marker": {
             "colorbar": {
              "outlinewidth": 0,
              "ticks": ""
             }
            },
            "type": "scatterternary"
           }
          ],
          "surface": [
           {
            "colorbar": {
             "outlinewidth": 0,
             "ticks": ""
            },
            "colorscale": [
             [
              0,
              "#0d0887"
             ],
             [
              0.1111111111111111,
              "#46039f"
             ],
             [
              0.2222222222222222,
              "#7201a8"
             ],
             [
              0.3333333333333333,
              "#9c179e"
             ],
             [
              0.4444444444444444,
              "#bd3786"
             ],
             [
              0.5555555555555556,
              "#d8576b"
             ],
             [
              0.6666666666666666,
              "#ed7953"
             ],
             [
              0.7777777777777778,
              "#fb9f3a"
             ],
             [
              0.8888888888888888,
              "#fdca26"
             ],
             [
              1,
              "#f0f921"
             ]
            ],
            "type": "surface"
           }
          ],
          "table": [
           {
            "cells": {
             "fill": {
              "color": "#EBF0F8"
             },
             "line": {
              "color": "white"
             }
            },
            "header": {
             "fill": {
              "color": "#C8D4E3"
             },
             "line": {
              "color": "white"
             }
            },
            "type": "table"
           }
          ]
         },
         "layout": {
          "annotationdefaults": {
           "arrowcolor": "#2a3f5f",
           "arrowhead": 0,
           "arrowwidth": 1
          },
          "autotypenumbers": "strict",
          "coloraxis": {
           "colorbar": {
            "outlinewidth": 0,
            "ticks": ""
           }
          },
          "colorscale": {
           "diverging": [
            [
             0,
             "#8e0152"
            ],
            [
             0.1,
             "#c51b7d"
            ],
            [
             0.2,
             "#de77ae"
            ],
            [
             0.3,
             "#f1b6da"
            ],
            [
             0.4,
             "#fde0ef"
            ],
            [
             0.5,
             "#f7f7f7"
            ],
            [
             0.6,
             "#e6f5d0"
            ],
            [
             0.7,
             "#b8e186"
            ],
            [
             0.8,
             "#7fbc41"
            ],
            [
             0.9,
             "#4d9221"
            ],
            [
             1,
             "#276419"
            ]
           ],
           "sequential": [
            [
             0,
             "#0d0887"
            ],
            [
             0.1111111111111111,
             "#46039f"
            ],
            [
             0.2222222222222222,
             "#7201a8"
            ],
            [
             0.3333333333333333,
             "#9c179e"
            ],
            [
             0.4444444444444444,
             "#bd3786"
            ],
            [
             0.5555555555555556,
             "#d8576b"
            ],
            [
             0.6666666666666666,
             "#ed7953"
            ],
            [
             0.7777777777777778,
             "#fb9f3a"
            ],
            [
             0.8888888888888888,
             "#fdca26"
            ],
            [
             1,
             "#f0f921"
            ]
           ],
           "sequentialminus": [
            [
             0,
             "#0d0887"
            ],
            [
             0.1111111111111111,
             "#46039f"
            ],
            [
             0.2222222222222222,
             "#7201a8"
            ],
            [
             0.3333333333333333,
             "#9c179e"
            ],
            [
             0.4444444444444444,
             "#bd3786"
            ],
            [
             0.5555555555555556,
             "#d8576b"
            ],
            [
             0.6666666666666666,
             "#ed7953"
            ],
            [
             0.7777777777777778,
             "#fb9f3a"
            ],
            [
             0.8888888888888888,
             "#fdca26"
            ],
            [
             1,
             "#f0f921"
            ]
           ]
          },
          "colorway": [
           "#636efa",
           "#EF553B",
           "#00cc96",
           "#ab63fa",
           "#FFA15A",
           "#19d3f3",
           "#FF6692",
           "#B6E880",
           "#FF97FF",
           "#FECB52"
          ],
          "font": {
           "color": "#2a3f5f"
          },
          "geo": {
           "bgcolor": "white",
           "lakecolor": "white",
           "landcolor": "#E5ECF6",
           "showlakes": true,
           "showland": true,
           "subunitcolor": "white"
          },
          "hoverlabel": {
           "align": "left"
          },
          "hovermode": "closest",
          "mapbox": {
           "style": "light"
          },
          "paper_bgcolor": "white",
          "plot_bgcolor": "#E5ECF6",
          "polar": {
           "angularaxis": {
            "gridcolor": "white",
            "linecolor": "white",
            "ticks": ""
           },
           "bgcolor": "#E5ECF6",
           "radialaxis": {
            "gridcolor": "white",
            "linecolor": "white",
            "ticks": ""
           }
          },
          "scene": {
           "xaxis": {
            "backgroundcolor": "#E5ECF6",
            "gridcolor": "white",
            "gridwidth": 2,
            "linecolor": "white",
            "showbackground": true,
            "ticks": "",
            "zerolinecolor": "white"
           },
           "yaxis": {
            "backgroundcolor": "#E5ECF6",
            "gridcolor": "white",
            "gridwidth": 2,
            "linecolor": "white",
            "showbackground": true,
            "ticks": "",
            "zerolinecolor": "white"
           },
           "zaxis": {
            "backgroundcolor": "#E5ECF6",
            "gridcolor": "white",
            "gridwidth": 2,
            "linecolor": "white",
            "showbackground": true,
            "ticks": "",
            "zerolinecolor": "white"
           }
          },
          "shapedefaults": {
           "line": {
            "color": "#2a3f5f"
           }
          },
          "ternary": {
           "aaxis": {
            "gridcolor": "white",
            "linecolor": "white",
            "ticks": ""
           },
           "baxis": {
            "gridcolor": "white",
            "linecolor": "white",
            "ticks": ""
           },
           "bgcolor": "#E5ECF6",
           "caxis": {
            "gridcolor": "white",
            "linecolor": "white",
            "ticks": ""
           }
          },
          "title": {
           "x": 0.05
          },
          "xaxis": {
           "automargin": true,
           "gridcolor": "white",
           "linecolor": "white",
           "ticks": "",
           "title": {
            "standoff": 15
           },
           "zerolinecolor": "white",
           "zerolinewidth": 2
          },
          "yaxis": {
           "automargin": true,
           "gridcolor": "white",
           "linecolor": "white",
           "ticks": "",
           "title": {
            "standoff": 15
           },
           "zerolinecolor": "white",
           "zerolinewidth": 2
          }
         }
        },
        "title": {
         "text": "ROC AUC vs. Unlabeled Data"
        },
        "width": 1200,
        "xaxis": {
         "anchor": "y",
         "domain": [
          0,
          1
         ],
         "title": {
          "text": "% of Unlabeled Data in Dataset"
         }
        },
        "yaxis": {
         "anchor": "x",
         "domain": [
          0,
          1
         ],
         "title": {
          "text": "Metric Value"
         }
        }
       }
      }
     },
     "metadata": {},
     "output_type": "display_data"
    }
   ],
   "source": [
    "import plotly.express as px\n",
    "\n",
    "fig1 = px.scatter(results_df_with_mean_std, x='unlabeled', y='acc_mean', error_y='acc_std', color='model', title='Accuracy vs. Unlabeled Data')\n",
    "fig2 = px.scatter(results_df_with_mean_std, x='unlabeled', y='f1_mean', error_y='f1_std', color='model', title='F1 Score vs. Unlabeled Data')\n",
    "fig3 = px.scatter(results_df_with_mean_std, x='unlabeled', y='precision_mean', error_y='precision_std', color='model', title='Precision vs. Unlabeled Data')\n",
    "fig4 = px.scatter(results_df_with_mean_std, x='unlabeled', y='recall_mean', error_y='recall_std', color='model', title='Recall vs. Unlabeled Data')\n",
    "fig5 = px.scatter(results_df_with_mean_std, x='unlabeled', y='roc_mean', error_y='roc_std', color='model', title='ROC AUC vs. Unlabeled Data')\n",
    "\n",
    "\n",
    "figs = [fig1, fig2, fig3, fig4, fig5]\n",
    "\n",
    "for fig in figs:\n",
    "    fig.update_layout(\n",
    "        xaxis_title=\"% of Unlabeled Data in Dataset\",\n",
    "        yaxis_title=\"Metric Value\",\n",
    "        legend_title=\"Model\",\n",
    "        autosize=False,\n",
    "        width=1200,\n",
    "        height=500,\n",
    "    )\n",
    "    fig.update_traces(textposition='top center', texttemplate='%{y:.3f}')\n",
    "    fig.update_layout(hovermode=\"x unified\")\n",
    "    fig.show()\n"
   ]
  },
  {
   "cell_type": "code",
   "execution_count": 15,
   "metadata": {},
   "outputs": [
    {
     "name": "stdout",
     "output_type": "stream",
     "text": [
      "+------------------------+-------------+------------+------------+-----------+-----------+------------------+-----------------+---------------+--------------+------------+------------+\n",
      "| model                  |   unlabeled |   acc_mean |    acc_std |   f1_mean |    f1_std |   precision_mean |   precision_std |   recall_mean |   recall_std |   roc_mean |    roc_std |\n",
      "|------------------------+-------------+------------+------------+-----------+-----------+------------------+-----------------+---------------+--------------+------------+------------|\n",
      "| DecisionTreeClassifier |        0.1  |   0.732468 | 0.0310363  |  0.612157 | 0.0593319 |         0.635283 |       0.0519972 |      0.598182 |    0.0963808 |   0.702626 | 0.0399787  |\n",
      "| DecisionTreeClassifier |        0.2  |   0.722727 | 0.0181225  |  0.612012 | 0.0442131 |         0.610771 |       0.0217363 |      0.618182 |    0.0808586 |   0.699495 | 0.0295079  |\n",
      "| DecisionTreeClassifier |        0.3  |   0.708442 | 0.0367902  |  0.584444 | 0.0694036 |         0.595453 |       0.0614789 |      0.581818 |    0.104973  |   0.680303 | 0.0458982  |\n",
      "| DecisionTreeClassifier |        0.4  |   0.705195 | 0.0365025  |  0.584824 | 0.0464326 |         0.591659 |       0.0570883 |      0.581818 |    0.0606061 |   0.677778 | 0.0368068  |\n",
      "| DecisionTreeClassifier |        0.5  |   0.720779 | 0.0307634  |  0.59882  | 0.0482681 |         0.615435 |       0.0478827 |      0.585455 |    0.0634485 |   0.690707 | 0.0353192  |\n",
      "| DecisionTreeClassifier |        0.6  |   0.709091 | 0.0246411  |  0.582098 | 0.0559359 |         0.598945 |       0.0437201 |      0.576364 |    0.10638   |   0.679596 | 0.0366271  |\n",
      "| DecisionTreeClassifier |        0.7  |   0.694156 | 0.0473675  |  0.567484 | 0.0741357 |         0.575165 |       0.0779201 |      0.565455 |    0.0932822 |   0.665556 | 0.052429   |\n",
      "| DecisionTreeClassifier |        0.8  |   0.722078 | 0.0447586  |  0.600719 | 0.0519552 |         0.624705 |       0.0772778 |      0.583636 |    0.0584149 |   0.691313 | 0.040973   |\n",
      "| DecisionTreeClassifier |        0.85 |   0.7      | 0.0648484  |  0.598363 | 0.0643773 |         0.586882 |       0.0932362 |      0.621818 |    0.0825667 |   0.682626 | 0.0565673  |\n",
      "| DecisionTreeClassifier |        0.9  |   0.673377 | 0.0595179  |  0.528966 | 0.0921607 |         0.551355 |       0.0888753 |      0.523636 |    0.137617  |   0.640101 | 0.0645974  |\n",
      "| GaussianNB             |        0.1  |   0.748701 | 0.0081277  |  0.587861 | 0.0113541 |         0.710144 |       0.0218324 |      0.501818 |    0.0127128 |   0.693838 | 0.00761047 |\n",
      "| GaussianNB             |        0.2  |   0.744156 | 0.00977627 |  0.574409 | 0.0135279 |         0.709426 |       0.0325748 |      0.483636 |    0.0213416 |   0.686263 | 0.00854715 |\n",
      "| GaussianNB             |        0.3  |   0.744805 | 0.0126397  |  0.56773  | 0.0158992 |         0.720895 |       0.0408264 |      0.469091 |    0.0167079 |   0.683535 | 0.0108065  |\n",
      "| GaussianNB             |        0.4  |   0.743506 | 0.015074   |  0.557697 | 0.0220675 |         0.728417 |       0.0457729 |      0.452727 |    0.0217676 |   0.678889 | 0.014121   |\n",
      "| GaussianNB             |        0.5  |   0.732468 | 0.0195525  |  0.52454  | 0.0394712 |         0.721339 |       0.0583944 |      0.414545 |    0.0435352 |   0.661818 | 0.0211066  |\n",
      "| GaussianNB             |        0.6  |   0.733766 | 0.0212077  |  0.501015 | 0.0575375 |         0.768643 |       0.0832835 |      0.378182 |    0.0604847 |   0.654747 | 0.0243581  |\n",
      "| GaussianNB             |        0.7  |   0.708442 | 0.0320244  |  0.410106 | 0.0960163 |         0.746276 |       0.101096  |      0.290909 |    0.0848485 |   0.615657 | 0.0391623  |\n",
      "| GaussianNB             |        0.8  |   0.69026  | 0.03       |  0.347177 | 0.106803  |         0.691511 |       0.111479  |      0.238182 |    0.0888453 |   0.589798 | 0.0408351  |\n",
      "| GaussianNB             |        0.85 |   0.691558 | 0.0256564  |  0.337819 | 0.0996382 |         0.724332 |       0.0866404 |      0.227273 |    0.0814244 |   0.588384 | 0.0357291  |\n",
      "| GaussianNB             |        0.9  |   0.675974 | 0.0217422  |  0.271456 | 0.109063  |         0.70354  |       0.0914189 |      0.178182 |    0.0902196 |   0.565354 | 0.033596   |\n",
      "| KNeighborsClassifier   |        0.1  |   0.729221 | 0.0173295  |  0.617567 | 0.0265321 |         0.623177 |       0.0254159 |      0.612727 |    0.0343375 |   0.703333 | 0.01961    |\n",
      "| KNeighborsClassifier   |        0.2  |   0.722078 | 0.0216017  |  0.599985 | 0.0290403 |         0.61816  |       0.0335834 |      0.583636 |    0.032581  |   0.691313 | 0.0220902  |\n",
      "| KNeighborsClassifier   |        0.3  |   0.727922 | 0.023602   |  0.600538 | 0.0315723 |         0.633106 |       0.0415155 |      0.572727 |    0.0376051 |   0.693434 | 0.0233479  |\n",
      "| KNeighborsClassifier   |        0.4  |   0.719481 | 0.0113714  |  0.582191 | 0.0268148 |         0.622036 |       0.0197267 |      0.549091 |    0.0467885 |   0.681616 | 0.0166984  |\n",
      "| KNeighborsClassifier   |        0.5  |   0.731169 | 0.0274132  |  0.591252 | 0.0548642 |         0.64549  |       0.0395324 |      0.549091 |    0.0760841 |   0.690707 | 0.0358923  |\n",
      "| KNeighborsClassifier   |        0.6  |   0.738961 | 0.0298042  |  0.593902 | 0.0499932 |         0.676367 |       0.0628078 |      0.54     |    0.0861587 |   0.694747 | 0.0319237  |\n",
      "| KNeighborsClassifier   |        0.7  |   0.71039  | 0.0334204  |  0.492508 | 0.102365  |         0.67466  |       0.0958257 |      0.414545 |    0.145656  |   0.644646 | 0.0488315  |\n",
      "| KNeighborsClassifier   |        0.8  |   0.691558 | 0.0451183  |  0.455673 | 0.087282  |         0.649891 |       0.152578  |      0.370909 |    0.108483  |   0.620303 | 0.0469318  |\n",
      "| KNeighborsClassifier   |        0.85 |   0.682468 | 0.0392545  |  0.418507 | 0.0962    |         0.624115 |       0.125858  |      0.330909 |    0.108686  |   0.604343 | 0.0435374  |\n",
      "| KNeighborsClassifier   |        0.9  |   0.687662 | 0.0232016  |  0.385748 | 0.155954  |         0.690046 |       0.142155  |      0.303636 |    0.154051  |   0.602323 | 0.0474713  |\n",
      "| RandomForestClassifier |        0.1  |   0.746753 | 0.0106039  |  0.647366 | 0.0124346 |         0.64454  |       0.0194369 |      0.650909 |    0.0206417 |   0.725455 | 0.0096745  |\n",
      "| RandomForestClassifier |        0.2  |   0.746753 | 0.0091832  |  0.641275 | 0.0174554 |         0.648902 |       0.0134478 |      0.634545 |    0.0302424 |   0.721818 | 0.0124552  |\n",
      "| RandomForestClassifier |        0.3  |   0.756494 | 0.0156833  |  0.65369  | 0.0208934 |         0.665127 |       0.0283883 |      0.643636 |    0.028684  |   0.731414 | 0.0160451  |\n",
      "| RandomForestClassifier |        0.4  |   0.75     | 0.022753   |  0.639711 | 0.038669  |         0.658516 |       0.0311717 |      0.623636 |    0.0555794 |   0.721919 | 0.028427   |\n",
      "| RandomForestClassifier |        0.5  |   0.759091 | 0.0264122  |  0.651873 | 0.0386    |         0.675818 |       0.0497127 |      0.632727 |    0.055414  |   0.73101  | 0.028594   |\n",
      "| RandomForestClassifier |        0.6  |   0.758442 | 0.0232722  |  0.641657 | 0.0481708 |         0.683049 |       0.0419093 |      0.610909 |    0.0777082 |   0.725657 | 0.0307273  |\n",
      "| RandomForestClassifier |        0.7  |   0.753896 | 0.0287887  |  0.62907  | 0.0556704 |         0.68723  |       0.0616119 |      0.592727 |    0.102923  |   0.718081 | 0.0346865  |\n",
      "| RandomForestClassifier |        0.8  |   0.737013 | 0.0292408  |  0.584419 | 0.0489076 |         0.679443 |       0.0736126 |      0.521818 |    0.0776373 |   0.689192 | 0.0310205  |\n",
      "| RandomForestClassifier |        0.85 |   0.723377 | 0.0388647  |  0.54449  | 0.113764  |         0.658427 |       0.0823562 |      0.485455 |    0.151648  |   0.670505 | 0.0583237  |\n",
      "| RandomForestClassifier |        0.9  |   0.718831 | 0.0332588  |  0.527622 | 0.109749  |         0.680123 |       0.0930877 |      0.467273 |    0.168186  |   0.662929 | 0.0467372  |\n",
      "+------------------------+-------------+------------+------------+-----------+-----------+------------------+-----------------+---------------+--------------+------------+------------+\n"
     ]
    }
   ],
   "source": [
    "# Metrics with tabulate\n",
    "from tabulate import tabulate\n",
    "\n",
    "print(tabulate(results_df_with_mean_std, headers='keys', tablefmt='psql', showindex=False))"
   ]
  }
 ],
 "metadata": {
  "kernelspec": {
   "display_name": "venv",
   "language": "python",
   "name": "python3"
  },
  "language_info": {
   "codemirror_mode": {
    "name": "ipython",
    "version": 3
   },
   "file_extension": ".py",
   "mimetype": "text/x-python",
   "name": "python",
   "nbconvert_exporter": "python",
   "pygments_lexer": "ipython3",
   "version": "3.11.0"
  },
  "orig_nbformat": 4,
  "vscode": {
   "interpreter": {
    "hash": "2b2faf7d6260e3d980efcbe3dcb6631168cb6707024a8ce61b847fb529addd2a"
   }
  }
 },
 "nbformat": 4,
 "nbformat_minor": 2
}
