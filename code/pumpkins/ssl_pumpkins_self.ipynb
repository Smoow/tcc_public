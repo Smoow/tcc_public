{
 "cells": [
  {
   "cell_type": "code",
   "execution_count": 1,
   "metadata": {},
   "outputs": [],
   "source": [
    "##################\n",
    "# Libraries\n",
    "##################\n",
    "import pandas as pd\n",
    "import numpy as np\n",
    "import seaborn as sns\n",
    "from sklearn.preprocessing import StandardScaler, RobustScaler\n",
    "from sklearn.model_selection import train_test_split, KFold\n",
    "from sklearn.metrics import accuracy_score, f1_score, precision_score, recall_score, roc_auc_score\n",
    "from sklearn.preprocessing import LabelEncoder\n",
    "from sklearn.svm import LinearSVC, SVC\n",
    "from sklearn.semi_supervised import SelfTrainingClassifier\n",
    "from sklearn.ensemble import RandomForestClassifier\n",
    "from sklearn.naive_bayes import GaussianNB\n",
    "from sklearn.neighbors import KNeighborsClassifier\n",
    "from sklearn.tree import DecisionTreeClassifier\n",
    "from loguru import logger"
   ]
  },
  {
   "cell_type": "code",
   "execution_count": 2,
   "metadata": {},
   "outputs": [],
   "source": [
    "##################\n",
    "# Constants\n",
    "##################\n",
    "MODEL_SEED=42\n",
    "ROWS_SEED=[24, 42, 206, 602, 412, 214, 754, 457, 2023, 3202]\n",
    "SIZE_OF_UNLABELLED_DATA = [0.1, 0.2, 0.3, 0.4, 0.5, 0.6, 0.7, 0.8, 0.85, 0.9]\n",
    "MODELS = [\n",
    "    GaussianNB(var_smoothing=0.01519911082952933),\n",
    "    DecisionTreeClassifier(criterion='gini', max_depth=5, min_samples_leaf=1, min_samples_split=3),\n",
    "    KNeighborsClassifier(metric='manhattan', n_neighbors=9, weights='distance'),\n",
    "    RandomForestClassifier(criterion='gini', max_depth=11, min_samples_leaf=1, min_samples_split=2, n_estimators=100),\n",
    "]"
   ]
  },
  {
   "cell_type": "code",
   "execution_count": 3,
   "metadata": {},
   "outputs": [],
   "source": [
    "##################\n",
    "# Functions\n",
    "##################\n",
    "def encode_dataframe(df: pd.DataFrame) -> pd.DataFrame:\n",
    "    \"\"\"Encode dataframe using LabelEncoder\"\"\"\n",
    "    labelencoder = LabelEncoder()\n",
    "\n",
    "    for col in df.columns:\n",
    "        df[col] = labelencoder.fit_transform(df[col])\n",
    "\n",
    "    return df\n",
    "\n",
    "def get_metrics() -> dict:\n",
    "    metrics = {\n",
    "        'accuracy': accuracy_score,\n",
    "        'precision': precision_score,\n",
    "        'recall': recall_score,\n",
    "        'f1': f1_score,\n",
    "        'roc': roc_auc_score\n",
    "    }\n",
    "    return metrics\n",
    "\n",
    "\n",
    "def get_metrics_df(y_true, y_pred) -> pd.DataFrame:\n",
    "    metrics = get_metrics()\n",
    "    df = pd.DataFrame()\n",
    "    for metric_name, metric in metrics.items():\n",
    "        df[metric_name] = [metric(y_true, y_pred)]\n",
    "\n",
    "    return df\n",
    "\n",
    "def run_pipeline(X_train, X_test, y_train, y_test, size_of_unlabelled_data=0.5, model=None, rows_seed=42) -> dict:\n",
    "    if model is None:\n",
    "        raise ValueError(\"Model is None\")\n",
    "    \n",
    "    X_train = X_train.copy()\n",
    "    X_test = X_test.copy()\n",
    "    y_train = y_train.copy()\n",
    "    y_test = y_test.copy()\n",
    "\n",
    "    # Unlabelled data\n",
    "    rng = np.random.RandomState(rows_seed)\n",
    "    random_rows_with_rng = rng.choice(X_train.index, size=int(len(X_train)*size_of_unlabelled_data), replace=False)\n",
    "    y_train.loc[random_rows_with_rng] = -1\n",
    "\n",
    "    # Scale data\n",
    "    scaler = RobustScaler()\n",
    "    X_train = scaler.fit_transform(X_train)\n",
    "    X_test = scaler.transform(X_test)\n",
    "\n",
    "\n",
    "    self_training_model = SelfTrainingClassifier(model, verbose=False)\n",
    "    self_training_model.fit(X_train, y_train)\n",
    "\n",
    "    # Predict\n",
    "    y_pred = self_training_model.predict(X_test)\n",
    "\n",
    "    # Evaluate - Get Metrics\n",
    "    metrics = get_metrics_df(y_test, y_pred)\n",
    "    accuracy = metrics[\"accuracy\"].values[0]\n",
    "    precision = metrics[\"precision\"].values[0]\n",
    "    recall = metrics[\"recall\"].values[0]\n",
    "    f1 = metrics[\"f1\"].values[0]\n",
    "    roc = metrics[\"roc\"].values[0]\n",
    "    \n",
    "\n",
    "    return {\"rows_seed\": rows_seed, \"model\": type(model).__name__, \"unlabeled\": size_of_unlabelled_data, \"acc\": accuracy, \"precision\": precision, \"recall\": recall, \"f1\": f1, \"roc\": roc}\n",
    "\n",
    "def run_pipeline_self(X_train, X_test, y_train, y_test) -> pd.DataFrame:\n",
    "    run_counter = 0\n",
    "    results = []\n",
    "\n",
    "    for model in MODELS:\n",
    "        for value in SIZE_OF_UNLABELLED_DATA:\n",
    "            logger.info(f'Model: {model}')\n",
    "            logger.info(f'Size of unlabelled data: {value}')\n",
    "            for row_seed in ROWS_SEED:\n",
    "                run_counter += 1\n",
    "                logger.info(f\"%{run_counter} - Running pipeline for row_seed: {row_seed} and size_of_unlabelled_data: {value} and model: {model}\")\n",
    "                result = run_pipeline(X_train=X_train, X_test=X_test, y_train=y_train, y_test=y_test, size_of_unlabelled_data=value, model=model, rows_seed=row_seed)\n",
    "                results.append(result)\n",
    "            print('\\n')\n",
    "\n",
    "    results_rows_seed = []\n",
    "    results_models = []\n",
    "    results_unlabeled = []\n",
    "    results_acc = []\n",
    "    results_precision = []\n",
    "    results_recall = []\n",
    "    results_f1 = []\n",
    "    results_roc = []\n",
    "\n",
    "    for result in results:\n",
    "        results_rows_seed.append(result.get('rows_seed'))\n",
    "        results_models.append(result.get('model'))\n",
    "        results_unlabeled.append(result.get('unlabeled'))\n",
    "        results_acc.append(result.get('acc'))\n",
    "        results_precision.append(result.get('precision'))\n",
    "        results_recall.append(result.get('recall'))\n",
    "        results_f1.append(result.get('f1'))\n",
    "        results_roc.append(result.get('roc'))\n",
    "\n",
    "\n",
    "    results_df = pd.DataFrame({'rows_seed': results_rows_seed, 'model': results_models, 'unlabeled': results_unlabeled, 'acc': results_acc, 'precision': results_precision, 'recall': results_recall, 'f1': results_f1, 'roc': results_roc})\n",
    "\n",
    "    return results_df\n",
    "\n",
    "    "
   ]
  },
  {
   "cell_type": "code",
   "execution_count": 4,
   "metadata": {},
   "outputs": [],
   "source": [
    "df = pd.read_excel('../../datasets/Pumpkin_Seeds_Dataset.xlsx')\n",
    "\n",
    "labelencoder = LabelEncoder()\n",
    "df['Class'] = labelencoder.fit_transform(df['Class'])\n",
    "\n",
    "\n",
    "X = df.drop('Class', axis=1)\n",
    "y = df['Class']\n",
    "\n",
    "X_train, X_test, y_train, y_test = train_test_split(X, y, test_size=0.2, random_state=MODEL_SEED)"
   ]
  },
  {
   "cell_type": "code",
   "execution_count": 5,
   "metadata": {},
   "outputs": [
    {
     "name": "stderr",
     "output_type": "stream",
     "text": [
      "\u001b[32m2023-10-22 14:25:46.791\u001b[0m | \u001b[1mINFO    \u001b[0m | \u001b[36m__main__\u001b[0m:\u001b[36mrun_pipeline_self\u001b[0m:\u001b[36m75\u001b[0m - \u001b[1mModel: GaussianNB(var_smoothing=0.01519911082952933)\u001b[0m\n",
      "\u001b[32m2023-10-22 14:25:46.792\u001b[0m | \u001b[1mINFO    \u001b[0m | \u001b[36m__main__\u001b[0m:\u001b[36mrun_pipeline_self\u001b[0m:\u001b[36m76\u001b[0m - \u001b[1mSize of unlabelled data: 0.1\u001b[0m\n",
      "\u001b[32m2023-10-22 14:25:46.792\u001b[0m | \u001b[1mINFO    \u001b[0m | \u001b[36m__main__\u001b[0m:\u001b[36mrun_pipeline_self\u001b[0m:\u001b[36m79\u001b[0m - \u001b[1m%1 - Running pipeline for row_seed: 24 and size_of_unlabelled_data: 0.1 and model: GaussianNB(var_smoothing=0.01519911082952933)\u001b[0m\n",
      "\u001b[32m2023-10-22 14:25:46.808\u001b[0m | \u001b[1mINFO    \u001b[0m | \u001b[36m__main__\u001b[0m:\u001b[36mrun_pipeline_self\u001b[0m:\u001b[36m79\u001b[0m - \u001b[1m%2 - Running pipeline for row_seed: 42 and size_of_unlabelled_data: 0.1 and model: GaussianNB(var_smoothing=0.01519911082952933)\u001b[0m\n",
      "\u001b[32m2023-10-22 14:25:46.822\u001b[0m | \u001b[1mINFO    \u001b[0m | \u001b[36m__main__\u001b[0m:\u001b[36mrun_pipeline_self\u001b[0m:\u001b[36m79\u001b[0m - \u001b[1m%3 - Running pipeline for row_seed: 206 and size_of_unlabelled_data: 0.1 and model: GaussianNB(var_smoothing=0.01519911082952933)\u001b[0m\n",
      "\u001b[32m2023-10-22 14:25:46.836\u001b[0m | \u001b[1mINFO    \u001b[0m | \u001b[36m__main__\u001b[0m:\u001b[36mrun_pipeline_self\u001b[0m:\u001b[36m79\u001b[0m - \u001b[1m%4 - Running pipeline for row_seed: 602 and size_of_unlabelled_data: 0.1 and model: GaussianNB(var_smoothing=0.01519911082952933)\u001b[0m\n",
      "\u001b[32m2023-10-22 14:25:46.852\u001b[0m | \u001b[1mINFO    \u001b[0m | \u001b[36m__main__\u001b[0m:\u001b[36mrun_pipeline_self\u001b[0m:\u001b[36m79\u001b[0m - \u001b[1m%5 - Running pipeline for row_seed: 412 and size_of_unlabelled_data: 0.1 and model: GaussianNB(var_smoothing=0.01519911082952933)\u001b[0m\n",
      "\u001b[32m2023-10-22 14:25:46.865\u001b[0m | \u001b[1mINFO    \u001b[0m | \u001b[36m__main__\u001b[0m:\u001b[36mrun_pipeline_self\u001b[0m:\u001b[36m79\u001b[0m - \u001b[1m%6 - Running pipeline for row_seed: 214 and size_of_unlabelled_data: 0.1 and model: GaussianNB(var_smoothing=0.01519911082952933)\u001b[0m\n",
      "\u001b[32m2023-10-22 14:25:46.878\u001b[0m | \u001b[1mINFO    \u001b[0m | \u001b[36m__main__\u001b[0m:\u001b[36mrun_pipeline_self\u001b[0m:\u001b[36m79\u001b[0m - \u001b[1m%7 - Running pipeline for row_seed: 754 and size_of_unlabelled_data: 0.1 and model: GaussianNB(var_smoothing=0.01519911082952933)\u001b[0m\n",
      "\u001b[32m2023-10-22 14:25:46.892\u001b[0m | \u001b[1mINFO    \u001b[0m | \u001b[36m__main__\u001b[0m:\u001b[36mrun_pipeline_self\u001b[0m:\u001b[36m79\u001b[0m - \u001b[1m%8 - Running pipeline for row_seed: 457 and size_of_unlabelled_data: 0.1 and model: GaussianNB(var_smoothing=0.01519911082952933)\u001b[0m\n",
      "\u001b[32m2023-10-22 14:25:46.905\u001b[0m | \u001b[1mINFO    \u001b[0m | \u001b[36m__main__\u001b[0m:\u001b[36mrun_pipeline_self\u001b[0m:\u001b[36m79\u001b[0m - \u001b[1m%9 - Running pipeline for row_seed: 2023 and size_of_unlabelled_data: 0.1 and model: GaussianNB(var_smoothing=0.01519911082952933)\u001b[0m\n",
      "\u001b[32m2023-10-22 14:25:46.917\u001b[0m | \u001b[1mINFO    \u001b[0m | \u001b[36m__main__\u001b[0m:\u001b[36mrun_pipeline_self\u001b[0m:\u001b[36m79\u001b[0m - \u001b[1m%10 - Running pipeline for row_seed: 3202 and size_of_unlabelled_data: 0.1 and model: GaussianNB(var_smoothing=0.01519911082952933)\u001b[0m\n",
      "\u001b[32m2023-10-22 14:25:46.932\u001b[0m | \u001b[1mINFO    \u001b[0m | \u001b[36m__main__\u001b[0m:\u001b[36mrun_pipeline_self\u001b[0m:\u001b[36m75\u001b[0m - \u001b[1mModel: GaussianNB(var_smoothing=0.01519911082952933)\u001b[0m\n",
      "\u001b[32m2023-10-22 14:25:46.933\u001b[0m | \u001b[1mINFO    \u001b[0m | \u001b[36m__main__\u001b[0m:\u001b[36mrun_pipeline_self\u001b[0m:\u001b[36m76\u001b[0m - \u001b[1mSize of unlabelled data: 0.2\u001b[0m\n",
      "\u001b[32m2023-10-22 14:25:46.933\u001b[0m | \u001b[1mINFO    \u001b[0m | \u001b[36m__main__\u001b[0m:\u001b[36mrun_pipeline_self\u001b[0m:\u001b[36m79\u001b[0m - \u001b[1m%11 - Running pipeline for row_seed: 24 and size_of_unlabelled_data: 0.2 and model: GaussianNB(var_smoothing=0.01519911082952933)\u001b[0m\n",
      "\u001b[32m2023-10-22 14:25:46.947\u001b[0m | \u001b[1mINFO    \u001b[0m | \u001b[36m__main__\u001b[0m:\u001b[36mrun_pipeline_self\u001b[0m:\u001b[36m79\u001b[0m - \u001b[1m%12 - Running pipeline for row_seed: 42 and size_of_unlabelled_data: 0.2 and model: GaussianNB(var_smoothing=0.01519911082952933)\u001b[0m\n",
      "\u001b[32m2023-10-22 14:25:46.962\u001b[0m | \u001b[1mINFO    \u001b[0m | \u001b[36m__main__\u001b[0m:\u001b[36mrun_pipeline_self\u001b[0m:\u001b[36m79\u001b[0m - \u001b[1m%13 - Running pipeline for row_seed: 206 and size_of_unlabelled_data: 0.2 and model: GaussianNB(var_smoothing=0.01519911082952933)\u001b[0m\n",
      "\u001b[32m2023-10-22 14:25:46.982\u001b[0m | \u001b[1mINFO    \u001b[0m | \u001b[36m__main__\u001b[0m:\u001b[36mrun_pipeline_self\u001b[0m:\u001b[36m79\u001b[0m - \u001b[1m%14 - Running pipeline for row_seed: 602 and size_of_unlabelled_data: 0.2 and model: GaussianNB(var_smoothing=0.01519911082952933)\u001b[0m\n",
      "\u001b[32m2023-10-22 14:25:46.997\u001b[0m | \u001b[1mINFO    \u001b[0m | \u001b[36m__main__\u001b[0m:\u001b[36mrun_pipeline_self\u001b[0m:\u001b[36m79\u001b[0m - \u001b[1m%15 - Running pipeline for row_seed: 412 and size_of_unlabelled_data: 0.2 and model: GaussianNB(var_smoothing=0.01519911082952933)\u001b[0m\n",
      "\u001b[32m2023-10-22 14:25:47.012\u001b[0m | \u001b[1mINFO    \u001b[0m | \u001b[36m__main__\u001b[0m:\u001b[36mrun_pipeline_self\u001b[0m:\u001b[36m79\u001b[0m - \u001b[1m%16 - Running pipeline for row_seed: 214 and size_of_unlabelled_data: 0.2 and model: GaussianNB(var_smoothing=0.01519911082952933)\u001b[0m\n",
      "\u001b[32m2023-10-22 14:25:47.025\u001b[0m | \u001b[1mINFO    \u001b[0m | \u001b[36m__main__\u001b[0m:\u001b[36mrun_pipeline_self\u001b[0m:\u001b[36m79\u001b[0m - \u001b[1m%17 - Running pipeline for row_seed: 754 and size_of_unlabelled_data: 0.2 and model: GaussianNB(var_smoothing=0.01519911082952933)\u001b[0m\n",
      "\u001b[32m2023-10-22 14:25:47.039\u001b[0m | \u001b[1mINFO    \u001b[0m | \u001b[36m__main__\u001b[0m:\u001b[36mrun_pipeline_self\u001b[0m:\u001b[36m79\u001b[0m - \u001b[1m%18 - Running pipeline for row_seed: 457 and size_of_unlabelled_data: 0.2 and model: GaussianNB(var_smoothing=0.01519911082952933)\u001b[0m\n",
      "\u001b[32m2023-10-22 14:25:47.054\u001b[0m | \u001b[1mINFO    \u001b[0m | \u001b[36m__main__\u001b[0m:\u001b[36mrun_pipeline_self\u001b[0m:\u001b[36m79\u001b[0m - \u001b[1m%19 - Running pipeline for row_seed: 2023 and size_of_unlabelled_data: 0.2 and model: GaussianNB(var_smoothing=0.01519911082952933)\u001b[0m\n",
      "\u001b[32m2023-10-22 14:25:47.070\u001b[0m | \u001b[1mINFO    \u001b[0m | \u001b[36m__main__\u001b[0m:\u001b[36mrun_pipeline_self\u001b[0m:\u001b[36m79\u001b[0m - \u001b[1m%20 - Running pipeline for row_seed: 3202 and size_of_unlabelled_data: 0.2 and model: GaussianNB(var_smoothing=0.01519911082952933)\u001b[0m\n",
      "\u001b[32m2023-10-22 14:25:47.086\u001b[0m | \u001b[1mINFO    \u001b[0m | \u001b[36m__main__\u001b[0m:\u001b[36mrun_pipeline_self\u001b[0m:\u001b[36m75\u001b[0m - \u001b[1mModel: GaussianNB(var_smoothing=0.01519911082952933)\u001b[0m\n",
      "\u001b[32m2023-10-22 14:25:47.087\u001b[0m | \u001b[1mINFO    \u001b[0m | \u001b[36m__main__\u001b[0m:\u001b[36mrun_pipeline_self\u001b[0m:\u001b[36m76\u001b[0m - \u001b[1mSize of unlabelled data: 0.3\u001b[0m\n",
      "\u001b[32m2023-10-22 14:25:47.088\u001b[0m | \u001b[1mINFO    \u001b[0m | \u001b[36m__main__\u001b[0m:\u001b[36mrun_pipeline_self\u001b[0m:\u001b[36m79\u001b[0m - \u001b[1m%21 - Running pipeline for row_seed: 24 and size_of_unlabelled_data: 0.3 and model: GaussianNB(var_smoothing=0.01519911082952933)\u001b[0m\n",
      "\u001b[32m2023-10-22 14:25:47.101\u001b[0m | \u001b[1mINFO    \u001b[0m | \u001b[36m__main__\u001b[0m:\u001b[36mrun_pipeline_self\u001b[0m:\u001b[36m79\u001b[0m - \u001b[1m%22 - Running pipeline for row_seed: 42 and size_of_unlabelled_data: 0.3 and model: GaussianNB(var_smoothing=0.01519911082952933)\u001b[0m\n",
      "\u001b[32m2023-10-22 14:25:47.116\u001b[0m | \u001b[1mINFO    \u001b[0m | \u001b[36m__main__\u001b[0m:\u001b[36mrun_pipeline_self\u001b[0m:\u001b[36m79\u001b[0m - \u001b[1m%23 - Running pipeline for row_seed: 206 and size_of_unlabelled_data: 0.3 and model: GaussianNB(var_smoothing=0.01519911082952933)\u001b[0m\n",
      "\u001b[32m2023-10-22 14:25:47.131\u001b[0m | \u001b[1mINFO    \u001b[0m | \u001b[36m__main__\u001b[0m:\u001b[36mrun_pipeline_self\u001b[0m:\u001b[36m79\u001b[0m - \u001b[1m%24 - Running pipeline for row_seed: 602 and size_of_unlabelled_data: 0.3 and model: GaussianNB(var_smoothing=0.01519911082952933)\u001b[0m\n"
     ]
    },
    {
     "name": "stdout",
     "output_type": "stream",
     "text": [
      "\n",
      "\n",
      "\n",
      "\n"
     ]
    },
    {
     "name": "stderr",
     "output_type": "stream",
     "text": [
      "\u001b[32m2023-10-22 14:25:47.146\u001b[0m | \u001b[1mINFO    \u001b[0m | \u001b[36m__main__\u001b[0m:\u001b[36mrun_pipeline_self\u001b[0m:\u001b[36m79\u001b[0m - \u001b[1m%25 - Running pipeline for row_seed: 412 and size_of_unlabelled_data: 0.3 and model: GaussianNB(var_smoothing=0.01519911082952933)\u001b[0m\n",
      "\u001b[32m2023-10-22 14:25:47.164\u001b[0m | \u001b[1mINFO    \u001b[0m | \u001b[36m__main__\u001b[0m:\u001b[36mrun_pipeline_self\u001b[0m:\u001b[36m79\u001b[0m - \u001b[1m%26 - Running pipeline for row_seed: 214 and size_of_unlabelled_data: 0.3 and model: GaussianNB(var_smoothing=0.01519911082952933)\u001b[0m\n",
      "\u001b[32m2023-10-22 14:25:47.182\u001b[0m | \u001b[1mINFO    \u001b[0m | \u001b[36m__main__\u001b[0m:\u001b[36mrun_pipeline_self\u001b[0m:\u001b[36m79\u001b[0m - \u001b[1m%27 - Running pipeline for row_seed: 754 and size_of_unlabelled_data: 0.3 and model: GaussianNB(var_smoothing=0.01519911082952933)\u001b[0m\n",
      "\u001b[32m2023-10-22 14:25:47.197\u001b[0m | \u001b[1mINFO    \u001b[0m | \u001b[36m__main__\u001b[0m:\u001b[36mrun_pipeline_self\u001b[0m:\u001b[36m79\u001b[0m - \u001b[1m%28 - Running pipeline for row_seed: 457 and size_of_unlabelled_data: 0.3 and model: GaussianNB(var_smoothing=0.01519911082952933)\u001b[0m\n",
      "\u001b[32m2023-10-22 14:25:47.214\u001b[0m | \u001b[1mINFO    \u001b[0m | \u001b[36m__main__\u001b[0m:\u001b[36mrun_pipeline_self\u001b[0m:\u001b[36m79\u001b[0m - \u001b[1m%29 - Running pipeline for row_seed: 2023 and size_of_unlabelled_data: 0.3 and model: GaussianNB(var_smoothing=0.01519911082952933)\u001b[0m\n",
      "\u001b[32m2023-10-22 14:25:47.229\u001b[0m | \u001b[1mINFO    \u001b[0m | \u001b[36m__main__\u001b[0m:\u001b[36mrun_pipeline_self\u001b[0m:\u001b[36m79\u001b[0m - \u001b[1m%30 - Running pipeline for row_seed: 3202 and size_of_unlabelled_data: 0.3 and model: GaussianNB(var_smoothing=0.01519911082952933)\u001b[0m\n",
      "\u001b[32m2023-10-22 14:25:47.243\u001b[0m | \u001b[1mINFO    \u001b[0m | \u001b[36m__main__\u001b[0m:\u001b[36mrun_pipeline_self\u001b[0m:\u001b[36m75\u001b[0m - \u001b[1mModel: GaussianNB(var_smoothing=0.01519911082952933)\u001b[0m\n",
      "\u001b[32m2023-10-22 14:25:47.244\u001b[0m | \u001b[1mINFO    \u001b[0m | \u001b[36m__main__\u001b[0m:\u001b[36mrun_pipeline_self\u001b[0m:\u001b[36m76\u001b[0m - \u001b[1mSize of unlabelled data: 0.4\u001b[0m\n",
      "\u001b[32m2023-10-22 14:25:47.244\u001b[0m | \u001b[1mINFO    \u001b[0m | \u001b[36m__main__\u001b[0m:\u001b[36mrun_pipeline_self\u001b[0m:\u001b[36m79\u001b[0m - \u001b[1m%31 - Running pipeline for row_seed: 24 and size_of_unlabelled_data: 0.4 and model: GaussianNB(var_smoothing=0.01519911082952933)\u001b[0m\n",
      "\u001b[32m2023-10-22 14:25:47.258\u001b[0m | \u001b[1mINFO    \u001b[0m | \u001b[36m__main__\u001b[0m:\u001b[36mrun_pipeline_self\u001b[0m:\u001b[36m79\u001b[0m - \u001b[1m%32 - Running pipeline for row_seed: 42 and size_of_unlabelled_data: 0.4 and model: GaussianNB(var_smoothing=0.01519911082952933)\u001b[0m\n",
      "\u001b[32m2023-10-22 14:25:47.272\u001b[0m | \u001b[1mINFO    \u001b[0m | \u001b[36m__main__\u001b[0m:\u001b[36mrun_pipeline_self\u001b[0m:\u001b[36m79\u001b[0m - \u001b[1m%33 - Running pipeline for row_seed: 206 and size_of_unlabelled_data: 0.4 and model: GaussianNB(var_smoothing=0.01519911082952933)\u001b[0m\n",
      "\u001b[32m2023-10-22 14:25:47.286\u001b[0m | \u001b[1mINFO    \u001b[0m | \u001b[36m__main__\u001b[0m:\u001b[36mrun_pipeline_self\u001b[0m:\u001b[36m79\u001b[0m - \u001b[1m%34 - Running pipeline for row_seed: 602 and size_of_unlabelled_data: 0.4 and model: GaussianNB(var_smoothing=0.01519911082952933)\u001b[0m\n",
      "\u001b[32m2023-10-22 14:25:47.301\u001b[0m | \u001b[1mINFO    \u001b[0m | \u001b[36m__main__\u001b[0m:\u001b[36mrun_pipeline_self\u001b[0m:\u001b[36m79\u001b[0m - \u001b[1m%35 - Running pipeline for row_seed: 412 and size_of_unlabelled_data: 0.4 and model: GaussianNB(var_smoothing=0.01519911082952933)\u001b[0m\n",
      "\u001b[32m2023-10-22 14:25:47.316\u001b[0m | \u001b[1mINFO    \u001b[0m | \u001b[36m__main__\u001b[0m:\u001b[36mrun_pipeline_self\u001b[0m:\u001b[36m79\u001b[0m - \u001b[1m%36 - Running pipeline for row_seed: 214 and size_of_unlabelled_data: 0.4 and model: GaussianNB(var_smoothing=0.01519911082952933)\u001b[0m\n",
      "\u001b[32m2023-10-22 14:25:47.330\u001b[0m | \u001b[1mINFO    \u001b[0m | \u001b[36m__main__\u001b[0m:\u001b[36mrun_pipeline_self\u001b[0m:\u001b[36m79\u001b[0m - \u001b[1m%37 - Running pipeline for row_seed: 754 and size_of_unlabelled_data: 0.4 and model: GaussianNB(var_smoothing=0.01519911082952933)\u001b[0m\n",
      "\u001b[32m2023-10-22 14:25:47.348\u001b[0m | \u001b[1mINFO    \u001b[0m | \u001b[36m__main__\u001b[0m:\u001b[36mrun_pipeline_self\u001b[0m:\u001b[36m79\u001b[0m - \u001b[1m%38 - Running pipeline for row_seed: 457 and size_of_unlabelled_data: 0.4 and model: GaussianNB(var_smoothing=0.01519911082952933)\u001b[0m\n",
      "\u001b[32m2023-10-22 14:25:47.362\u001b[0m | \u001b[1mINFO    \u001b[0m | \u001b[36m__main__\u001b[0m:\u001b[36mrun_pipeline_self\u001b[0m:\u001b[36m79\u001b[0m - \u001b[1m%39 - Running pipeline for row_seed: 2023 and size_of_unlabelled_data: 0.4 and model: GaussianNB(var_smoothing=0.01519911082952933)\u001b[0m\n",
      "\u001b[32m2023-10-22 14:25:47.377\u001b[0m | \u001b[1mINFO    \u001b[0m | \u001b[36m__main__\u001b[0m:\u001b[36mrun_pipeline_self\u001b[0m:\u001b[36m79\u001b[0m - \u001b[1m%40 - Running pipeline for row_seed: 3202 and size_of_unlabelled_data: 0.4 and model: GaussianNB(var_smoothing=0.01519911082952933)\u001b[0m\n",
      "\u001b[32m2023-10-22 14:25:47.392\u001b[0m | \u001b[1mINFO    \u001b[0m | \u001b[36m__main__\u001b[0m:\u001b[36mrun_pipeline_self\u001b[0m:\u001b[36m75\u001b[0m - \u001b[1mModel: GaussianNB(var_smoothing=0.01519911082952933)\u001b[0m\n",
      "\u001b[32m2023-10-22 14:25:47.393\u001b[0m | \u001b[1mINFO    \u001b[0m | \u001b[36m__main__\u001b[0m:\u001b[36mrun_pipeline_self\u001b[0m:\u001b[36m76\u001b[0m - \u001b[1mSize of unlabelled data: 0.5\u001b[0m\n",
      "\u001b[32m2023-10-22 14:25:47.394\u001b[0m | \u001b[1mINFO    \u001b[0m | \u001b[36m__main__\u001b[0m:\u001b[36mrun_pipeline_self\u001b[0m:\u001b[36m79\u001b[0m - \u001b[1m%41 - Running pipeline for row_seed: 24 and size_of_unlabelled_data: 0.5 and model: GaussianNB(var_smoothing=0.01519911082952933)\u001b[0m\n",
      "\u001b[32m2023-10-22 14:25:47.410\u001b[0m | \u001b[1mINFO    \u001b[0m | \u001b[36m__main__\u001b[0m:\u001b[36mrun_pipeline_self\u001b[0m:\u001b[36m79\u001b[0m - \u001b[1m%42 - Running pipeline for row_seed: 42 and size_of_unlabelled_data: 0.5 and model: GaussianNB(var_smoothing=0.01519911082952933)\u001b[0m\n",
      "\u001b[32m2023-10-22 14:25:47.425\u001b[0m | \u001b[1mINFO    \u001b[0m | \u001b[36m__main__\u001b[0m:\u001b[36mrun_pipeline_self\u001b[0m:\u001b[36m79\u001b[0m - \u001b[1m%43 - Running pipeline for row_seed: 206 and size_of_unlabelled_data: 0.5 and model: GaussianNB(var_smoothing=0.01519911082952933)\u001b[0m\n",
      "\u001b[32m2023-10-22 14:25:47.440\u001b[0m | \u001b[1mINFO    \u001b[0m | \u001b[36m__main__\u001b[0m:\u001b[36mrun_pipeline_self\u001b[0m:\u001b[36m79\u001b[0m - \u001b[1m%44 - Running pipeline for row_seed: 602 and size_of_unlabelled_data: 0.5 and model: GaussianNB(var_smoothing=0.01519911082952933)\u001b[0m\n"
     ]
    },
    {
     "name": "stdout",
     "output_type": "stream",
     "text": [
      "\n",
      "\n",
      "\n",
      "\n"
     ]
    },
    {
     "name": "stderr",
     "output_type": "stream",
     "text": [
      "\u001b[32m2023-10-22 14:25:47.466\u001b[0m | \u001b[1mINFO    \u001b[0m | \u001b[36m__main__\u001b[0m:\u001b[36mrun_pipeline_self\u001b[0m:\u001b[36m79\u001b[0m - \u001b[1m%45 - Running pipeline for row_seed: 412 and size_of_unlabelled_data: 0.5 and model: GaussianNB(var_smoothing=0.01519911082952933)\u001b[0m\n",
      "\u001b[32m2023-10-22 14:25:47.487\u001b[0m | \u001b[1mINFO    \u001b[0m | \u001b[36m__main__\u001b[0m:\u001b[36mrun_pipeline_self\u001b[0m:\u001b[36m79\u001b[0m - \u001b[1m%46 - Running pipeline for row_seed: 214 and size_of_unlabelled_data: 0.5 and model: GaussianNB(var_smoothing=0.01519911082952933)\u001b[0m\n",
      "\u001b[32m2023-10-22 14:25:47.507\u001b[0m | \u001b[1mINFO    \u001b[0m | \u001b[36m__main__\u001b[0m:\u001b[36mrun_pipeline_self\u001b[0m:\u001b[36m79\u001b[0m - \u001b[1m%47 - Running pipeline for row_seed: 754 and size_of_unlabelled_data: 0.5 and model: GaussianNB(var_smoothing=0.01519911082952933)\u001b[0m\n",
      "\u001b[32m2023-10-22 14:25:47.525\u001b[0m | \u001b[1mINFO    \u001b[0m | \u001b[36m__main__\u001b[0m:\u001b[36mrun_pipeline_self\u001b[0m:\u001b[36m79\u001b[0m - \u001b[1m%48 - Running pipeline for row_seed: 457 and size_of_unlabelled_data: 0.5 and model: GaussianNB(var_smoothing=0.01519911082952933)\u001b[0m\n",
      "\u001b[32m2023-10-22 14:25:47.540\u001b[0m | \u001b[1mINFO    \u001b[0m | \u001b[36m__main__\u001b[0m:\u001b[36mrun_pipeline_self\u001b[0m:\u001b[36m79\u001b[0m - \u001b[1m%49 - Running pipeline for row_seed: 2023 and size_of_unlabelled_data: 0.5 and model: GaussianNB(var_smoothing=0.01519911082952933)\u001b[0m\n",
      "\u001b[32m2023-10-22 14:25:47.555\u001b[0m | \u001b[1mINFO    \u001b[0m | \u001b[36m__main__\u001b[0m:\u001b[36mrun_pipeline_self\u001b[0m:\u001b[36m79\u001b[0m - \u001b[1m%50 - Running pipeline for row_seed: 3202 and size_of_unlabelled_data: 0.5 and model: GaussianNB(var_smoothing=0.01519911082952933)\u001b[0m\n",
      "\u001b[32m2023-10-22 14:25:47.571\u001b[0m | \u001b[1mINFO    \u001b[0m | \u001b[36m__main__\u001b[0m:\u001b[36mrun_pipeline_self\u001b[0m:\u001b[36m75\u001b[0m - \u001b[1mModel: GaussianNB(var_smoothing=0.01519911082952933)\u001b[0m\n",
      "\u001b[32m2023-10-22 14:25:47.571\u001b[0m | \u001b[1mINFO    \u001b[0m | \u001b[36m__main__\u001b[0m:\u001b[36mrun_pipeline_self\u001b[0m:\u001b[36m76\u001b[0m - \u001b[1mSize of unlabelled data: 0.6\u001b[0m\n",
      "\u001b[32m2023-10-22 14:25:47.572\u001b[0m | \u001b[1mINFO    \u001b[0m | \u001b[36m__main__\u001b[0m:\u001b[36mrun_pipeline_self\u001b[0m:\u001b[36m79\u001b[0m - \u001b[1m%51 - Running pipeline for row_seed: 24 and size_of_unlabelled_data: 0.6 and model: GaussianNB(var_smoothing=0.01519911082952933)\u001b[0m\n",
      "\u001b[32m2023-10-22 14:25:47.589\u001b[0m | \u001b[1mINFO    \u001b[0m | \u001b[36m__main__\u001b[0m:\u001b[36mrun_pipeline_self\u001b[0m:\u001b[36m79\u001b[0m - \u001b[1m%52 - Running pipeline for row_seed: 42 and size_of_unlabelled_data: 0.6 and model: GaussianNB(var_smoothing=0.01519911082952933)\u001b[0m\n",
      "\u001b[32m2023-10-22 14:25:47.604\u001b[0m | \u001b[1mINFO    \u001b[0m | \u001b[36m__main__\u001b[0m:\u001b[36mrun_pipeline_self\u001b[0m:\u001b[36m79\u001b[0m - \u001b[1m%53 - Running pipeline for row_seed: 206 and size_of_unlabelled_data: 0.6 and model: GaussianNB(var_smoothing=0.01519911082952933)\u001b[0m\n",
      "\u001b[32m2023-10-22 14:25:47.618\u001b[0m | \u001b[1mINFO    \u001b[0m | \u001b[36m__main__\u001b[0m:\u001b[36mrun_pipeline_self\u001b[0m:\u001b[36m79\u001b[0m - \u001b[1m%54 - Running pipeline for row_seed: 602 and size_of_unlabelled_data: 0.6 and model: GaussianNB(var_smoothing=0.01519911082952933)\u001b[0m\n",
      "\u001b[32m2023-10-22 14:25:47.633\u001b[0m | \u001b[1mINFO    \u001b[0m | \u001b[36m__main__\u001b[0m:\u001b[36mrun_pipeline_self\u001b[0m:\u001b[36m79\u001b[0m - \u001b[1m%55 - Running pipeline for row_seed: 412 and size_of_unlabelled_data: 0.6 and model: GaussianNB(var_smoothing=0.01519911082952933)\u001b[0m\n",
      "\u001b[32m2023-10-22 14:25:47.648\u001b[0m | \u001b[1mINFO    \u001b[0m | \u001b[36m__main__\u001b[0m:\u001b[36mrun_pipeline_self\u001b[0m:\u001b[36m79\u001b[0m - \u001b[1m%56 - Running pipeline for row_seed: 214 and size_of_unlabelled_data: 0.6 and model: GaussianNB(var_smoothing=0.01519911082952933)\u001b[0m\n",
      "\u001b[32m2023-10-22 14:25:47.664\u001b[0m | \u001b[1mINFO    \u001b[0m | \u001b[36m__main__\u001b[0m:\u001b[36mrun_pipeline_self\u001b[0m:\u001b[36m79\u001b[0m - \u001b[1m%57 - Running pipeline for row_seed: 754 and size_of_unlabelled_data: 0.6 and model: GaussianNB(var_smoothing=0.01519911082952933)\u001b[0m\n",
      "\u001b[32m2023-10-22 14:25:47.685\u001b[0m | \u001b[1mINFO    \u001b[0m | \u001b[36m__main__\u001b[0m:\u001b[36mrun_pipeline_self\u001b[0m:\u001b[36m79\u001b[0m - \u001b[1m%58 - Running pipeline for row_seed: 457 and size_of_unlabelled_data: 0.6 and model: GaussianNB(var_smoothing=0.01519911082952933)\u001b[0m\n",
      "\u001b[32m2023-10-22 14:25:47.701\u001b[0m | \u001b[1mINFO    \u001b[0m | \u001b[36m__main__\u001b[0m:\u001b[36mrun_pipeline_self\u001b[0m:\u001b[36m79\u001b[0m - \u001b[1m%59 - Running pipeline for row_seed: 2023 and size_of_unlabelled_data: 0.6 and model: GaussianNB(var_smoothing=0.01519911082952933)\u001b[0m\n",
      "\u001b[32m2023-10-22 14:25:47.716\u001b[0m | \u001b[1mINFO    \u001b[0m | \u001b[36m__main__\u001b[0m:\u001b[36mrun_pipeline_self\u001b[0m:\u001b[36m79\u001b[0m - \u001b[1m%60 - Running pipeline for row_seed: 3202 and size_of_unlabelled_data: 0.6 and model: GaussianNB(var_smoothing=0.01519911082952933)\u001b[0m\n",
      "\u001b[32m2023-10-22 14:25:47.731\u001b[0m | \u001b[1mINFO    \u001b[0m | \u001b[36m__main__\u001b[0m:\u001b[36mrun_pipeline_self\u001b[0m:\u001b[36m75\u001b[0m - \u001b[1mModel: GaussianNB(var_smoothing=0.01519911082952933)\u001b[0m\n",
      "\u001b[32m2023-10-22 14:25:47.732\u001b[0m | \u001b[1mINFO    \u001b[0m | \u001b[36m__main__\u001b[0m:\u001b[36mrun_pipeline_self\u001b[0m:\u001b[36m76\u001b[0m - \u001b[1mSize of unlabelled data: 0.7\u001b[0m\n",
      "\u001b[32m2023-10-22 14:25:47.732\u001b[0m | \u001b[1mINFO    \u001b[0m | \u001b[36m__main__\u001b[0m:\u001b[36mrun_pipeline_self\u001b[0m:\u001b[36m79\u001b[0m - \u001b[1m%61 - Running pipeline for row_seed: 24 and size_of_unlabelled_data: 0.7 and model: GaussianNB(var_smoothing=0.01519911082952933)\u001b[0m\n",
      "\u001b[32m2023-10-22 14:25:47.747\u001b[0m | \u001b[1mINFO    \u001b[0m | \u001b[36m__main__\u001b[0m:\u001b[36mrun_pipeline_self\u001b[0m:\u001b[36m79\u001b[0m - \u001b[1m%62 - Running pipeline for row_seed: 42 and size_of_unlabelled_data: 0.7 and model: GaussianNB(var_smoothing=0.01519911082952933)\u001b[0m\n",
      "\u001b[32m2023-10-22 14:25:47.761\u001b[0m | \u001b[1mINFO    \u001b[0m | \u001b[36m__main__\u001b[0m:\u001b[36mrun_pipeline_self\u001b[0m:\u001b[36m79\u001b[0m - \u001b[1m%63 - Running pipeline for row_seed: 206 and size_of_unlabelled_data: 0.7 and model: GaussianNB(var_smoothing=0.01519911082952933)\u001b[0m\n"
     ]
    },
    {
     "name": "stdout",
     "output_type": "stream",
     "text": [
      "\n",
      "\n",
      "\n",
      "\n"
     ]
    },
    {
     "name": "stderr",
     "output_type": "stream",
     "text": [
      "\u001b[32m2023-10-22 14:25:47.779\u001b[0m | \u001b[1mINFO    \u001b[0m | \u001b[36m__main__\u001b[0m:\u001b[36mrun_pipeline_self\u001b[0m:\u001b[36m79\u001b[0m - \u001b[1m%64 - Running pipeline for row_seed: 602 and size_of_unlabelled_data: 0.7 and model: GaussianNB(var_smoothing=0.01519911082952933)\u001b[0m\n",
      "\u001b[32m2023-10-22 14:25:47.796\u001b[0m | \u001b[1mINFO    \u001b[0m | \u001b[36m__main__\u001b[0m:\u001b[36mrun_pipeline_self\u001b[0m:\u001b[36m79\u001b[0m - \u001b[1m%65 - Running pipeline for row_seed: 412 and size_of_unlabelled_data: 0.7 and model: GaussianNB(var_smoothing=0.01519911082952933)\u001b[0m\n",
      "\u001b[32m2023-10-22 14:25:47.813\u001b[0m | \u001b[1mINFO    \u001b[0m | \u001b[36m__main__\u001b[0m:\u001b[36mrun_pipeline_self\u001b[0m:\u001b[36m79\u001b[0m - \u001b[1m%66 - Running pipeline for row_seed: 214 and size_of_unlabelled_data: 0.7 and model: GaussianNB(var_smoothing=0.01519911082952933)\u001b[0m\n",
      "\u001b[32m2023-10-22 14:25:47.835\u001b[0m | \u001b[1mINFO    \u001b[0m | \u001b[36m__main__\u001b[0m:\u001b[36mrun_pipeline_self\u001b[0m:\u001b[36m79\u001b[0m - \u001b[1m%67 - Running pipeline for row_seed: 754 and size_of_unlabelled_data: 0.7 and model: GaussianNB(var_smoothing=0.01519911082952933)\u001b[0m\n",
      "\u001b[32m2023-10-22 14:25:47.852\u001b[0m | \u001b[1mINFO    \u001b[0m | \u001b[36m__main__\u001b[0m:\u001b[36mrun_pipeline_self\u001b[0m:\u001b[36m79\u001b[0m - \u001b[1m%68 - Running pipeline for row_seed: 457 and size_of_unlabelled_data: 0.7 and model: GaussianNB(var_smoothing=0.01519911082952933)\u001b[0m\n",
      "\u001b[32m2023-10-22 14:25:47.869\u001b[0m | \u001b[1mINFO    \u001b[0m | \u001b[36m__main__\u001b[0m:\u001b[36mrun_pipeline_self\u001b[0m:\u001b[36m79\u001b[0m - \u001b[1m%69 - Running pipeline for row_seed: 2023 and size_of_unlabelled_data: 0.7 and model: GaussianNB(var_smoothing=0.01519911082952933)\u001b[0m\n",
      "\u001b[32m2023-10-22 14:25:47.884\u001b[0m | \u001b[1mINFO    \u001b[0m | \u001b[36m__main__\u001b[0m:\u001b[36mrun_pipeline_self\u001b[0m:\u001b[36m79\u001b[0m - \u001b[1m%70 - Running pipeline for row_seed: 3202 and size_of_unlabelled_data: 0.7 and model: GaussianNB(var_smoothing=0.01519911082952933)\u001b[0m\n",
      "\u001b[32m2023-10-22 14:25:47.901\u001b[0m | \u001b[1mINFO    \u001b[0m | \u001b[36m__main__\u001b[0m:\u001b[36mrun_pipeline_self\u001b[0m:\u001b[36m75\u001b[0m - \u001b[1mModel: GaussianNB(var_smoothing=0.01519911082952933)\u001b[0m\n",
      "\u001b[32m2023-10-22 14:25:47.901\u001b[0m | \u001b[1mINFO    \u001b[0m | \u001b[36m__main__\u001b[0m:\u001b[36mrun_pipeline_self\u001b[0m:\u001b[36m76\u001b[0m - \u001b[1mSize of unlabelled data: 0.8\u001b[0m\n",
      "\u001b[32m2023-10-22 14:25:47.902\u001b[0m | \u001b[1mINFO    \u001b[0m | \u001b[36m__main__\u001b[0m:\u001b[36mrun_pipeline_self\u001b[0m:\u001b[36m79\u001b[0m - \u001b[1m%71 - Running pipeline for row_seed: 24 and size_of_unlabelled_data: 0.8 and model: GaussianNB(var_smoothing=0.01519911082952933)\u001b[0m\n",
      "\u001b[32m2023-10-22 14:25:47.919\u001b[0m | \u001b[1mINFO    \u001b[0m | \u001b[36m__main__\u001b[0m:\u001b[36mrun_pipeline_self\u001b[0m:\u001b[36m79\u001b[0m - \u001b[1m%72 - Running pipeline for row_seed: 42 and size_of_unlabelled_data: 0.8 and model: GaussianNB(var_smoothing=0.01519911082952933)\u001b[0m\n",
      "\u001b[32m2023-10-22 14:25:47.937\u001b[0m | \u001b[1mINFO    \u001b[0m | \u001b[36m__main__\u001b[0m:\u001b[36mrun_pipeline_self\u001b[0m:\u001b[36m79\u001b[0m - \u001b[1m%73 - Running pipeline for row_seed: 206 and size_of_unlabelled_data: 0.8 and model: GaussianNB(var_smoothing=0.01519911082952933)\u001b[0m\n",
      "\u001b[32m2023-10-22 14:25:47.952\u001b[0m | \u001b[1mINFO    \u001b[0m | \u001b[36m__main__\u001b[0m:\u001b[36mrun_pipeline_self\u001b[0m:\u001b[36m79\u001b[0m - \u001b[1m%74 - Running pipeline for row_seed: 602 and size_of_unlabelled_data: 0.8 and model: GaussianNB(var_smoothing=0.01519911082952933)\u001b[0m\n",
      "\u001b[32m2023-10-22 14:25:47.967\u001b[0m | \u001b[1mINFO    \u001b[0m | \u001b[36m__main__\u001b[0m:\u001b[36mrun_pipeline_self\u001b[0m:\u001b[36m79\u001b[0m - \u001b[1m%75 - Running pipeline for row_seed: 412 and size_of_unlabelled_data: 0.8 and model: GaussianNB(var_smoothing=0.01519911082952933)\u001b[0m\n",
      "\u001b[32m2023-10-22 14:25:47.983\u001b[0m | \u001b[1mINFO    \u001b[0m | \u001b[36m__main__\u001b[0m:\u001b[36mrun_pipeline_self\u001b[0m:\u001b[36m79\u001b[0m - \u001b[1m%76 - Running pipeline for row_seed: 214 and size_of_unlabelled_data: 0.8 and model: GaussianNB(var_smoothing=0.01519911082952933)\u001b[0m\n",
      "\u001b[32m2023-10-22 14:25:47.998\u001b[0m | \u001b[1mINFO    \u001b[0m | \u001b[36m__main__\u001b[0m:\u001b[36mrun_pipeline_self\u001b[0m:\u001b[36m79\u001b[0m - \u001b[1m%77 - Running pipeline for row_seed: 754 and size_of_unlabelled_data: 0.8 and model: GaussianNB(var_smoothing=0.01519911082952933)\u001b[0m\n",
      "\u001b[32m2023-10-22 14:25:48.013\u001b[0m | \u001b[1mINFO    \u001b[0m | \u001b[36m__main__\u001b[0m:\u001b[36mrun_pipeline_self\u001b[0m:\u001b[36m79\u001b[0m - \u001b[1m%78 - Running pipeline for row_seed: 457 and size_of_unlabelled_data: 0.8 and model: GaussianNB(var_smoothing=0.01519911082952933)\u001b[0m\n",
      "\u001b[32m2023-10-22 14:25:48.027\u001b[0m | \u001b[1mINFO    \u001b[0m | \u001b[36m__main__\u001b[0m:\u001b[36mrun_pipeline_self\u001b[0m:\u001b[36m79\u001b[0m - \u001b[1m%79 - Running pipeline for row_seed: 2023 and size_of_unlabelled_data: 0.8 and model: GaussianNB(var_smoothing=0.01519911082952933)\u001b[0m\n",
      "\u001b[32m2023-10-22 14:25:48.044\u001b[0m | \u001b[1mINFO    \u001b[0m | \u001b[36m__main__\u001b[0m:\u001b[36mrun_pipeline_self\u001b[0m:\u001b[36m79\u001b[0m - \u001b[1m%80 - Running pipeline for row_seed: 3202 and size_of_unlabelled_data: 0.8 and model: GaussianNB(var_smoothing=0.01519911082952933)\u001b[0m\n",
      "\u001b[32m2023-10-22 14:25:48.059\u001b[0m | \u001b[1mINFO    \u001b[0m | \u001b[36m__main__\u001b[0m:\u001b[36mrun_pipeline_self\u001b[0m:\u001b[36m75\u001b[0m - \u001b[1mModel: GaussianNB(var_smoothing=0.01519911082952933)\u001b[0m\n",
      "\u001b[32m2023-10-22 14:25:48.059\u001b[0m | \u001b[1mINFO    \u001b[0m | \u001b[36m__main__\u001b[0m:\u001b[36mrun_pipeline_self\u001b[0m:\u001b[36m76\u001b[0m - \u001b[1mSize of unlabelled data: 0.85\u001b[0m\n",
      "\u001b[32m2023-10-22 14:25:48.060\u001b[0m | \u001b[1mINFO    \u001b[0m | \u001b[36m__main__\u001b[0m:\u001b[36mrun_pipeline_self\u001b[0m:\u001b[36m79\u001b[0m - \u001b[1m%81 - Running pipeline for row_seed: 24 and size_of_unlabelled_data: 0.85 and model: GaussianNB(var_smoothing=0.01519911082952933)\u001b[0m\n",
      "\u001b[32m2023-10-22 14:25:48.075\u001b[0m | \u001b[1mINFO    \u001b[0m | \u001b[36m__main__\u001b[0m:\u001b[36mrun_pipeline_self\u001b[0m:\u001b[36m79\u001b[0m - \u001b[1m%82 - Running pipeline for row_seed: 42 and size_of_unlabelled_data: 0.85 and model: GaussianNB(var_smoothing=0.01519911082952933)\u001b[0m\n",
      "\u001b[32m2023-10-22 14:25:48.099\u001b[0m | \u001b[1mINFO    \u001b[0m | \u001b[36m__main__\u001b[0m:\u001b[36mrun_pipeline_self\u001b[0m:\u001b[36m79\u001b[0m - \u001b[1m%83 - Running pipeline for row_seed: 206 and size_of_unlabelled_data: 0.85 and model: GaussianNB(var_smoothing=0.01519911082952933)\u001b[0m\n"
     ]
    },
    {
     "name": "stdout",
     "output_type": "stream",
     "text": [
      "\n",
      "\n",
      "\n",
      "\n"
     ]
    },
    {
     "name": "stderr",
     "output_type": "stream",
     "text": [
      "\u001b[32m2023-10-22 14:25:48.115\u001b[0m | \u001b[1mINFO    \u001b[0m | \u001b[36m__main__\u001b[0m:\u001b[36mrun_pipeline_self\u001b[0m:\u001b[36m79\u001b[0m - \u001b[1m%84 - Running pipeline for row_seed: 602 and size_of_unlabelled_data: 0.85 and model: GaussianNB(var_smoothing=0.01519911082952933)\u001b[0m\n",
      "\u001b[32m2023-10-22 14:25:48.131\u001b[0m | \u001b[1mINFO    \u001b[0m | \u001b[36m__main__\u001b[0m:\u001b[36mrun_pipeline_self\u001b[0m:\u001b[36m79\u001b[0m - \u001b[1m%85 - Running pipeline for row_seed: 412 and size_of_unlabelled_data: 0.85 and model: GaussianNB(var_smoothing=0.01519911082952933)\u001b[0m\n",
      "\u001b[32m2023-10-22 14:25:48.147\u001b[0m | \u001b[1mINFO    \u001b[0m | \u001b[36m__main__\u001b[0m:\u001b[36mrun_pipeline_self\u001b[0m:\u001b[36m79\u001b[0m - \u001b[1m%86 - Running pipeline for row_seed: 214 and size_of_unlabelled_data: 0.85 and model: GaussianNB(var_smoothing=0.01519911082952933)\u001b[0m\n",
      "\u001b[32m2023-10-22 14:25:48.164\u001b[0m | \u001b[1mINFO    \u001b[0m | \u001b[36m__main__\u001b[0m:\u001b[36mrun_pipeline_self\u001b[0m:\u001b[36m79\u001b[0m - \u001b[1m%87 - Running pipeline for row_seed: 754 and size_of_unlabelled_data: 0.85 and model: GaussianNB(var_smoothing=0.01519911082952933)\u001b[0m\n",
      "\u001b[32m2023-10-22 14:25:48.180\u001b[0m | \u001b[1mINFO    \u001b[0m | \u001b[36m__main__\u001b[0m:\u001b[36mrun_pipeline_self\u001b[0m:\u001b[36m79\u001b[0m - \u001b[1m%88 - Running pipeline for row_seed: 457 and size_of_unlabelled_data: 0.85 and model: GaussianNB(var_smoothing=0.01519911082952933)\u001b[0m\n",
      "\u001b[32m2023-10-22 14:25:48.203\u001b[0m | \u001b[1mINFO    \u001b[0m | \u001b[36m__main__\u001b[0m:\u001b[36mrun_pipeline_self\u001b[0m:\u001b[36m79\u001b[0m - \u001b[1m%89 - Running pipeline for row_seed: 2023 and size_of_unlabelled_data: 0.85 and model: GaussianNB(var_smoothing=0.01519911082952933)\u001b[0m\n",
      "\u001b[32m2023-10-22 14:25:48.220\u001b[0m | \u001b[1mINFO    \u001b[0m | \u001b[36m__main__\u001b[0m:\u001b[36mrun_pipeline_self\u001b[0m:\u001b[36m79\u001b[0m - \u001b[1m%90 - Running pipeline for row_seed: 3202 and size_of_unlabelled_data: 0.85 and model: GaussianNB(var_smoothing=0.01519911082952933)\u001b[0m\n",
      "\u001b[32m2023-10-22 14:25:48.235\u001b[0m | \u001b[1mINFO    \u001b[0m | \u001b[36m__main__\u001b[0m:\u001b[36mrun_pipeline_self\u001b[0m:\u001b[36m75\u001b[0m - \u001b[1mModel: GaussianNB(var_smoothing=0.01519911082952933)\u001b[0m\n",
      "\u001b[32m2023-10-22 14:25:48.236\u001b[0m | \u001b[1mINFO    \u001b[0m | \u001b[36m__main__\u001b[0m:\u001b[36mrun_pipeline_self\u001b[0m:\u001b[36m76\u001b[0m - \u001b[1mSize of unlabelled data: 0.9\u001b[0m\n",
      "\u001b[32m2023-10-22 14:25:48.236\u001b[0m | \u001b[1mINFO    \u001b[0m | \u001b[36m__main__\u001b[0m:\u001b[36mrun_pipeline_self\u001b[0m:\u001b[36m79\u001b[0m - \u001b[1m%91 - Running pipeline for row_seed: 24 and size_of_unlabelled_data: 0.9 and model: GaussianNB(var_smoothing=0.01519911082952933)\u001b[0m\n",
      "\u001b[32m2023-10-22 14:25:48.253\u001b[0m | \u001b[1mINFO    \u001b[0m | \u001b[36m__main__\u001b[0m:\u001b[36mrun_pipeline_self\u001b[0m:\u001b[36m79\u001b[0m - \u001b[1m%92 - Running pipeline for row_seed: 42 and size_of_unlabelled_data: 0.9 and model: GaussianNB(var_smoothing=0.01519911082952933)\u001b[0m\n",
      "\u001b[32m2023-10-22 14:25:48.268\u001b[0m | \u001b[1mINFO    \u001b[0m | \u001b[36m__main__\u001b[0m:\u001b[36mrun_pipeline_self\u001b[0m:\u001b[36m79\u001b[0m - \u001b[1m%93 - Running pipeline for row_seed: 206 and size_of_unlabelled_data: 0.9 and model: GaussianNB(var_smoothing=0.01519911082952933)\u001b[0m\n",
      "\u001b[32m2023-10-22 14:25:48.284\u001b[0m | \u001b[1mINFO    \u001b[0m | \u001b[36m__main__\u001b[0m:\u001b[36mrun_pipeline_self\u001b[0m:\u001b[36m79\u001b[0m - \u001b[1m%94 - Running pipeline for row_seed: 602 and size_of_unlabelled_data: 0.9 and model: GaussianNB(var_smoothing=0.01519911082952933)\u001b[0m\n",
      "\u001b[32m2023-10-22 14:25:48.300\u001b[0m | \u001b[1mINFO    \u001b[0m | \u001b[36m__main__\u001b[0m:\u001b[36mrun_pipeline_self\u001b[0m:\u001b[36m79\u001b[0m - \u001b[1m%95 - Running pipeline for row_seed: 412 and size_of_unlabelled_data: 0.9 and model: GaussianNB(var_smoothing=0.01519911082952933)\u001b[0m\n",
      "\u001b[32m2023-10-22 14:25:48.315\u001b[0m | \u001b[1mINFO    \u001b[0m | \u001b[36m__main__\u001b[0m:\u001b[36mrun_pipeline_self\u001b[0m:\u001b[36m79\u001b[0m - \u001b[1m%96 - Running pipeline for row_seed: 214 and size_of_unlabelled_data: 0.9 and model: GaussianNB(var_smoothing=0.01519911082952933)\u001b[0m\n",
      "\u001b[32m2023-10-22 14:25:48.330\u001b[0m | \u001b[1mINFO    \u001b[0m | \u001b[36m__main__\u001b[0m:\u001b[36mrun_pipeline_self\u001b[0m:\u001b[36m79\u001b[0m - \u001b[1m%97 - Running pipeline for row_seed: 754 and size_of_unlabelled_data: 0.9 and model: GaussianNB(var_smoothing=0.01519911082952933)\u001b[0m\n",
      "\u001b[32m2023-10-22 14:25:48.346\u001b[0m | \u001b[1mINFO    \u001b[0m | \u001b[36m__main__\u001b[0m:\u001b[36mrun_pipeline_self\u001b[0m:\u001b[36m79\u001b[0m - \u001b[1m%98 - Running pipeline for row_seed: 457 and size_of_unlabelled_data: 0.9 and model: GaussianNB(var_smoothing=0.01519911082952933)\u001b[0m\n",
      "\u001b[32m2023-10-22 14:25:48.362\u001b[0m | \u001b[1mINFO    \u001b[0m | \u001b[36m__main__\u001b[0m:\u001b[36mrun_pipeline_self\u001b[0m:\u001b[36m79\u001b[0m - \u001b[1m%99 - Running pipeline for row_seed: 2023 and size_of_unlabelled_data: 0.9 and model: GaussianNB(var_smoothing=0.01519911082952933)\u001b[0m\n",
      "\u001b[32m2023-10-22 14:25:48.377\u001b[0m | \u001b[1mINFO    \u001b[0m | \u001b[36m__main__\u001b[0m:\u001b[36mrun_pipeline_self\u001b[0m:\u001b[36m79\u001b[0m - \u001b[1m%100 - Running pipeline for row_seed: 3202 and size_of_unlabelled_data: 0.9 and model: GaussianNB(var_smoothing=0.01519911082952933)\u001b[0m\n",
      "\u001b[32m2023-10-22 14:25:48.392\u001b[0m | \u001b[1mINFO    \u001b[0m | \u001b[36m__main__\u001b[0m:\u001b[36mrun_pipeline_self\u001b[0m:\u001b[36m75\u001b[0m - \u001b[1mModel: DecisionTreeClassifier(max_depth=5, min_samples_split=3)\u001b[0m\n",
      "\u001b[32m2023-10-22 14:25:48.393\u001b[0m | \u001b[1mINFO    \u001b[0m | \u001b[36m__main__\u001b[0m:\u001b[36mrun_pipeline_self\u001b[0m:\u001b[36m76\u001b[0m - \u001b[1mSize of unlabelled data: 0.1\u001b[0m\n",
      "\u001b[32m2023-10-22 14:25:48.393\u001b[0m | \u001b[1mINFO    \u001b[0m | \u001b[36m__main__\u001b[0m:\u001b[36mrun_pipeline_self\u001b[0m:\u001b[36m79\u001b[0m - \u001b[1m%101 - Running pipeline for row_seed: 24 and size_of_unlabelled_data: 0.1 and model: DecisionTreeClassifier(max_depth=5, min_samples_split=3)\u001b[0m\n"
     ]
    },
    {
     "name": "stdout",
     "output_type": "stream",
     "text": [
      "\n",
      "\n",
      "\n",
      "\n"
     ]
    },
    {
     "name": "stderr",
     "output_type": "stream",
     "text": [
      "\u001b[32m2023-10-22 14:25:48.437\u001b[0m | \u001b[1mINFO    \u001b[0m | \u001b[36m__main__\u001b[0m:\u001b[36mrun_pipeline_self\u001b[0m:\u001b[36m79\u001b[0m - \u001b[1m%102 - Running pipeline for row_seed: 42 and size_of_unlabelled_data: 0.1 and model: DecisionTreeClassifier(max_depth=5, min_samples_split=3)\u001b[0m\n",
      "\u001b[32m2023-10-22 14:25:48.480\u001b[0m | \u001b[1mINFO    \u001b[0m | \u001b[36m__main__\u001b[0m:\u001b[36mrun_pipeline_self\u001b[0m:\u001b[36m79\u001b[0m - \u001b[1m%103 - Running pipeline for row_seed: 206 and size_of_unlabelled_data: 0.1 and model: DecisionTreeClassifier(max_depth=5, min_samples_split=3)\u001b[0m\n",
      "\u001b[32m2023-10-22 14:25:48.514\u001b[0m | \u001b[1mINFO    \u001b[0m | \u001b[36m__main__\u001b[0m:\u001b[36mrun_pipeline_self\u001b[0m:\u001b[36m79\u001b[0m - \u001b[1m%104 - Running pipeline for row_seed: 602 and size_of_unlabelled_data: 0.1 and model: DecisionTreeClassifier(max_depth=5, min_samples_split=3)\u001b[0m\n",
      "\u001b[32m2023-10-22 14:25:48.548\u001b[0m | \u001b[1mINFO    \u001b[0m | \u001b[36m__main__\u001b[0m:\u001b[36mrun_pipeline_self\u001b[0m:\u001b[36m79\u001b[0m - \u001b[1m%105 - Running pipeline for row_seed: 412 and size_of_unlabelled_data: 0.1 and model: DecisionTreeClassifier(max_depth=5, min_samples_split=3)\u001b[0m\n",
      "\u001b[32m2023-10-22 14:25:48.582\u001b[0m | \u001b[1mINFO    \u001b[0m | \u001b[36m__main__\u001b[0m:\u001b[36mrun_pipeline_self\u001b[0m:\u001b[36m79\u001b[0m - \u001b[1m%106 - Running pipeline for row_seed: 214 and size_of_unlabelled_data: 0.1 and model: DecisionTreeClassifier(max_depth=5, min_samples_split=3)\u001b[0m\n",
      "\u001b[32m2023-10-22 14:25:48.626\u001b[0m | \u001b[1mINFO    \u001b[0m | \u001b[36m__main__\u001b[0m:\u001b[36mrun_pipeline_self\u001b[0m:\u001b[36m79\u001b[0m - \u001b[1m%107 - Running pipeline for row_seed: 754 and size_of_unlabelled_data: 0.1 and model: DecisionTreeClassifier(max_depth=5, min_samples_split=3)\u001b[0m\n",
      "\u001b[32m2023-10-22 14:25:48.671\u001b[0m | \u001b[1mINFO    \u001b[0m | \u001b[36m__main__\u001b[0m:\u001b[36mrun_pipeline_self\u001b[0m:\u001b[36m79\u001b[0m - \u001b[1m%108 - Running pipeline for row_seed: 457 and size_of_unlabelled_data: 0.1 and model: DecisionTreeClassifier(max_depth=5, min_samples_split=3)\u001b[0m\n",
      "\u001b[32m2023-10-22 14:25:48.714\u001b[0m | \u001b[1mINFO    \u001b[0m | \u001b[36m__main__\u001b[0m:\u001b[36mrun_pipeline_self\u001b[0m:\u001b[36m79\u001b[0m - \u001b[1m%109 - Running pipeline for row_seed: 2023 and size_of_unlabelled_data: 0.1 and model: DecisionTreeClassifier(max_depth=5, min_samples_split=3)\u001b[0m\n",
      "\u001b[32m2023-10-22 14:25:48.749\u001b[0m | \u001b[1mINFO    \u001b[0m | \u001b[36m__main__\u001b[0m:\u001b[36mrun_pipeline_self\u001b[0m:\u001b[36m79\u001b[0m - \u001b[1m%110 - Running pipeline for row_seed: 3202 and size_of_unlabelled_data: 0.1 and model: DecisionTreeClassifier(max_depth=5, min_samples_split=3)\u001b[0m\n",
      "\u001b[32m2023-10-22 14:25:48.789\u001b[0m | \u001b[1mINFO    \u001b[0m | \u001b[36m__main__\u001b[0m:\u001b[36mrun_pipeline_self\u001b[0m:\u001b[36m75\u001b[0m - \u001b[1mModel: DecisionTreeClassifier(max_depth=5, min_samples_split=3)\u001b[0m\n",
      "\u001b[32m2023-10-22 14:25:48.790\u001b[0m | \u001b[1mINFO    \u001b[0m | \u001b[36m__main__\u001b[0m:\u001b[36mrun_pipeline_self\u001b[0m:\u001b[36m76\u001b[0m - \u001b[1mSize of unlabelled data: 0.2\u001b[0m\n",
      "\u001b[32m2023-10-22 14:25:48.791\u001b[0m | \u001b[1mINFO    \u001b[0m | \u001b[36m__main__\u001b[0m:\u001b[36mrun_pipeline_self\u001b[0m:\u001b[36m79\u001b[0m - \u001b[1m%111 - Running pipeline for row_seed: 24 and size_of_unlabelled_data: 0.2 and model: DecisionTreeClassifier(max_depth=5, min_samples_split=3)\u001b[0m\n",
      "\u001b[32m2023-10-22 14:25:48.834\u001b[0m | \u001b[1mINFO    \u001b[0m | \u001b[36m__main__\u001b[0m:\u001b[36mrun_pipeline_self\u001b[0m:\u001b[36m79\u001b[0m - \u001b[1m%112 - Running pipeline for row_seed: 42 and size_of_unlabelled_data: 0.2 and model: DecisionTreeClassifier(max_depth=5, min_samples_split=3)\u001b[0m\n",
      "\u001b[32m2023-10-22 14:25:48.869\u001b[0m | \u001b[1mINFO    \u001b[0m | \u001b[36m__main__\u001b[0m:\u001b[36mrun_pipeline_self\u001b[0m:\u001b[36m79\u001b[0m - \u001b[1m%113 - Running pipeline for row_seed: 206 and size_of_unlabelled_data: 0.2 and model: DecisionTreeClassifier(max_depth=5, min_samples_split=3)\u001b[0m\n",
      "\u001b[32m2023-10-22 14:25:48.918\u001b[0m | \u001b[1mINFO    \u001b[0m | \u001b[36m__main__\u001b[0m:\u001b[36mrun_pipeline_self\u001b[0m:\u001b[36m79\u001b[0m - \u001b[1m%114 - Running pipeline for row_seed: 602 and size_of_unlabelled_data: 0.2 and model: DecisionTreeClassifier(max_depth=5, min_samples_split=3)\u001b[0m\n",
      "\u001b[32m2023-10-22 14:25:48.952\u001b[0m | \u001b[1mINFO    \u001b[0m | \u001b[36m__main__\u001b[0m:\u001b[36mrun_pipeline_self\u001b[0m:\u001b[36m79\u001b[0m - \u001b[1m%115 - Running pipeline for row_seed: 412 and size_of_unlabelled_data: 0.2 and model: DecisionTreeClassifier(max_depth=5, min_samples_split=3)\u001b[0m\n",
      "\u001b[32m2023-10-22 14:25:48.986\u001b[0m | \u001b[1mINFO    \u001b[0m | \u001b[36m__main__\u001b[0m:\u001b[36mrun_pipeline_self\u001b[0m:\u001b[36m79\u001b[0m - \u001b[1m%116 - Running pipeline for row_seed: 214 and size_of_unlabelled_data: 0.2 and model: DecisionTreeClassifier(max_depth=5, min_samples_split=3)\u001b[0m\n"
     ]
    },
    {
     "name": "stdout",
     "output_type": "stream",
     "text": [
      "\n",
      "\n"
     ]
    },
    {
     "name": "stderr",
     "output_type": "stream",
     "text": [
      "\u001b[32m2023-10-22 14:25:49.029\u001b[0m | \u001b[1mINFO    \u001b[0m | \u001b[36m__main__\u001b[0m:\u001b[36mrun_pipeline_self\u001b[0m:\u001b[36m79\u001b[0m - \u001b[1m%117 - Running pipeline for row_seed: 754 and size_of_unlabelled_data: 0.2 and model: DecisionTreeClassifier(max_depth=5, min_samples_split=3)\u001b[0m\n",
      "\u001b[32m2023-10-22 14:25:49.072\u001b[0m | \u001b[1mINFO    \u001b[0m | \u001b[36m__main__\u001b[0m:\u001b[36mrun_pipeline_self\u001b[0m:\u001b[36m79\u001b[0m - \u001b[1m%118 - Running pipeline for row_seed: 457 and size_of_unlabelled_data: 0.2 and model: DecisionTreeClassifier(max_depth=5, min_samples_split=3)\u001b[0m\n",
      "\u001b[32m2023-10-22 14:25:49.114\u001b[0m | \u001b[1mINFO    \u001b[0m | \u001b[36m__main__\u001b[0m:\u001b[36mrun_pipeline_self\u001b[0m:\u001b[36m79\u001b[0m - \u001b[1m%119 - Running pipeline for row_seed: 2023 and size_of_unlabelled_data: 0.2 and model: DecisionTreeClassifier(max_depth=5, min_samples_split=3)\u001b[0m\n",
      "\u001b[32m2023-10-22 14:25:49.150\u001b[0m | \u001b[1mINFO    \u001b[0m | \u001b[36m__main__\u001b[0m:\u001b[36mrun_pipeline_self\u001b[0m:\u001b[36m79\u001b[0m - \u001b[1m%120 - Running pipeline for row_seed: 3202 and size_of_unlabelled_data: 0.2 and model: DecisionTreeClassifier(max_depth=5, min_samples_split=3)\u001b[0m\n",
      "\u001b[32m2023-10-22 14:25:49.192\u001b[0m | \u001b[1mINFO    \u001b[0m | \u001b[36m__main__\u001b[0m:\u001b[36mrun_pipeline_self\u001b[0m:\u001b[36m75\u001b[0m - \u001b[1mModel: DecisionTreeClassifier(max_depth=5, min_samples_split=3)\u001b[0m\n",
      "\u001b[32m2023-10-22 14:25:49.193\u001b[0m | \u001b[1mINFO    \u001b[0m | \u001b[36m__main__\u001b[0m:\u001b[36mrun_pipeline_self\u001b[0m:\u001b[36m76\u001b[0m - \u001b[1mSize of unlabelled data: 0.3\u001b[0m\n",
      "\u001b[32m2023-10-22 14:25:49.194\u001b[0m | \u001b[1mINFO    \u001b[0m | \u001b[36m__main__\u001b[0m:\u001b[36mrun_pipeline_self\u001b[0m:\u001b[36m79\u001b[0m - \u001b[1m%121 - Running pipeline for row_seed: 24 and size_of_unlabelled_data: 0.3 and model: DecisionTreeClassifier(max_depth=5, min_samples_split=3)\u001b[0m\n",
      "\u001b[32m2023-10-22 14:25:49.236\u001b[0m | \u001b[1mINFO    \u001b[0m | \u001b[36m__main__\u001b[0m:\u001b[36mrun_pipeline_self\u001b[0m:\u001b[36m79\u001b[0m - \u001b[1m%122 - Running pipeline for row_seed: 42 and size_of_unlabelled_data: 0.3 and model: DecisionTreeClassifier(max_depth=5, min_samples_split=3)\u001b[0m\n",
      "\u001b[32m2023-10-22 14:25:49.279\u001b[0m | \u001b[1mINFO    \u001b[0m | \u001b[36m__main__\u001b[0m:\u001b[36mrun_pipeline_self\u001b[0m:\u001b[36m79\u001b[0m - \u001b[1m%123 - Running pipeline for row_seed: 206 and size_of_unlabelled_data: 0.3 and model: DecisionTreeClassifier(max_depth=5, min_samples_split=3)\u001b[0m\n",
      "\u001b[32m2023-10-22 14:25:49.314\u001b[0m | \u001b[1mINFO    \u001b[0m | \u001b[36m__main__\u001b[0m:\u001b[36mrun_pipeline_self\u001b[0m:\u001b[36m79\u001b[0m - \u001b[1m%124 - Running pipeline for row_seed: 602 and size_of_unlabelled_data: 0.3 and model: DecisionTreeClassifier(max_depth=5, min_samples_split=3)\u001b[0m\n",
      "\u001b[32m2023-10-22 14:25:49.356\u001b[0m | \u001b[1mINFO    \u001b[0m | \u001b[36m__main__\u001b[0m:\u001b[36mrun_pipeline_self\u001b[0m:\u001b[36m79\u001b[0m - \u001b[1m%125 - Running pipeline for row_seed: 412 and size_of_unlabelled_data: 0.3 and model: DecisionTreeClassifier(max_depth=5, min_samples_split=3)\u001b[0m\n",
      "\u001b[32m2023-10-22 14:25:49.389\u001b[0m | \u001b[1mINFO    \u001b[0m | \u001b[36m__main__\u001b[0m:\u001b[36mrun_pipeline_self\u001b[0m:\u001b[36m79\u001b[0m - \u001b[1m%126 - Running pipeline for row_seed: 214 and size_of_unlabelled_data: 0.3 and model: DecisionTreeClassifier(max_depth=5, min_samples_split=3)\u001b[0m\n"
     ]
    },
    {
     "name": "stdout",
     "output_type": "stream",
     "text": [
      "\n",
      "\n"
     ]
    },
    {
     "name": "stderr",
     "output_type": "stream",
     "text": [
      "\u001b[32m2023-10-22 14:25:49.424\u001b[0m | \u001b[1mINFO    \u001b[0m | \u001b[36m__main__\u001b[0m:\u001b[36mrun_pipeline_self\u001b[0m:\u001b[36m79\u001b[0m - \u001b[1m%127 - Running pipeline for row_seed: 754 and size_of_unlabelled_data: 0.3 and model: DecisionTreeClassifier(max_depth=5, min_samples_split=3)\u001b[0m\n",
      "\u001b[32m2023-10-22 14:25:49.465\u001b[0m | \u001b[1mINFO    \u001b[0m | \u001b[36m__main__\u001b[0m:\u001b[36mrun_pipeline_self\u001b[0m:\u001b[36m79\u001b[0m - \u001b[1m%128 - Running pipeline for row_seed: 457 and size_of_unlabelled_data: 0.3 and model: DecisionTreeClassifier(max_depth=5, min_samples_split=3)\u001b[0m\n",
      "\u001b[32m2023-10-22 14:25:49.498\u001b[0m | \u001b[1mINFO    \u001b[0m | \u001b[36m__main__\u001b[0m:\u001b[36mrun_pipeline_self\u001b[0m:\u001b[36m79\u001b[0m - \u001b[1m%129 - Running pipeline for row_seed: 2023 and size_of_unlabelled_data: 0.3 and model: DecisionTreeClassifier(max_depth=5, min_samples_split=3)\u001b[0m\n",
      "\u001b[32m2023-10-22 14:25:49.531\u001b[0m | \u001b[1mINFO    \u001b[0m | \u001b[36m__main__\u001b[0m:\u001b[36mrun_pipeline_self\u001b[0m:\u001b[36m79\u001b[0m - \u001b[1m%130 - Running pipeline for row_seed: 3202 and size_of_unlabelled_data: 0.3 and model: DecisionTreeClassifier(max_depth=5, min_samples_split=3)\u001b[0m\n",
      "\u001b[32m2023-10-22 14:25:49.564\u001b[0m | \u001b[1mINFO    \u001b[0m | \u001b[36m__main__\u001b[0m:\u001b[36mrun_pipeline_self\u001b[0m:\u001b[36m75\u001b[0m - \u001b[1mModel: DecisionTreeClassifier(max_depth=5, min_samples_split=3)\u001b[0m\n",
      "\u001b[32m2023-10-22 14:25:49.565\u001b[0m | \u001b[1mINFO    \u001b[0m | \u001b[36m__main__\u001b[0m:\u001b[36mrun_pipeline_self\u001b[0m:\u001b[36m76\u001b[0m - \u001b[1mSize of unlabelled data: 0.4\u001b[0m\n",
      "\u001b[32m2023-10-22 14:25:49.566\u001b[0m | \u001b[1mINFO    \u001b[0m | \u001b[36m__main__\u001b[0m:\u001b[36mrun_pipeline_self\u001b[0m:\u001b[36m79\u001b[0m - \u001b[1m%131 - Running pipeline for row_seed: 24 and size_of_unlabelled_data: 0.4 and model: DecisionTreeClassifier(max_depth=5, min_samples_split=3)\u001b[0m\n",
      "\u001b[32m2023-10-22 14:25:49.630\u001b[0m | \u001b[1mINFO    \u001b[0m | \u001b[36m__main__\u001b[0m:\u001b[36mrun_pipeline_self\u001b[0m:\u001b[36m79\u001b[0m - \u001b[1m%132 - Running pipeline for row_seed: 42 and size_of_unlabelled_data: 0.4 and model: DecisionTreeClassifier(max_depth=5, min_samples_split=3)\u001b[0m\n",
      "\u001b[32m2023-10-22 14:25:49.681\u001b[0m | \u001b[1mINFO    \u001b[0m | \u001b[36m__main__\u001b[0m:\u001b[36mrun_pipeline_self\u001b[0m:\u001b[36m79\u001b[0m - \u001b[1m%133 - Running pipeline for row_seed: 206 and size_of_unlabelled_data: 0.4 and model: DecisionTreeClassifier(max_depth=5, min_samples_split=3)\u001b[0m\n",
      "\u001b[32m2023-10-22 14:25:49.720\u001b[0m | \u001b[1mINFO    \u001b[0m | \u001b[36m__main__\u001b[0m:\u001b[36mrun_pipeline_self\u001b[0m:\u001b[36m79\u001b[0m - \u001b[1m%134 - Running pipeline for row_seed: 602 and size_of_unlabelled_data: 0.4 and model: DecisionTreeClassifier(max_depth=5, min_samples_split=3)\u001b[0m\n"
     ]
    },
    {
     "name": "stdout",
     "output_type": "stream",
     "text": [
      "\n",
      "\n"
     ]
    },
    {
     "name": "stderr",
     "output_type": "stream",
     "text": [
      "\u001b[32m2023-10-22 14:25:49.770\u001b[0m | \u001b[1mINFO    \u001b[0m | \u001b[36m__main__\u001b[0m:\u001b[36mrun_pipeline_self\u001b[0m:\u001b[36m79\u001b[0m - \u001b[1m%135 - Running pipeline for row_seed: 412 and size_of_unlabelled_data: 0.4 and model: DecisionTreeClassifier(max_depth=5, min_samples_split=3)\u001b[0m\n",
      "\u001b[32m2023-10-22 14:25:49.802\u001b[0m | \u001b[1mINFO    \u001b[0m | \u001b[36m__main__\u001b[0m:\u001b[36mrun_pipeline_self\u001b[0m:\u001b[36m79\u001b[0m - \u001b[1m%136 - Running pipeline for row_seed: 214 and size_of_unlabelled_data: 0.4 and model: DecisionTreeClassifier(max_depth=5, min_samples_split=3)\u001b[0m\n",
      "\u001b[32m2023-10-22 14:25:49.842\u001b[0m | \u001b[1mINFO    \u001b[0m | \u001b[36m__main__\u001b[0m:\u001b[36mrun_pipeline_self\u001b[0m:\u001b[36m79\u001b[0m - \u001b[1m%137 - Running pipeline for row_seed: 754 and size_of_unlabelled_data: 0.4 and model: DecisionTreeClassifier(max_depth=5, min_samples_split=3)\u001b[0m\n",
      "\u001b[32m2023-10-22 14:25:49.880\u001b[0m | \u001b[1mINFO    \u001b[0m | \u001b[36m__main__\u001b[0m:\u001b[36mrun_pipeline_self\u001b[0m:\u001b[36m79\u001b[0m - \u001b[1m%138 - Running pipeline for row_seed: 457 and size_of_unlabelled_data: 0.4 and model: DecisionTreeClassifier(max_depth=5, min_samples_split=3)\u001b[0m\n",
      "\u001b[32m2023-10-22 14:25:49.930\u001b[0m | \u001b[1mINFO    \u001b[0m | \u001b[36m__main__\u001b[0m:\u001b[36mrun_pipeline_self\u001b[0m:\u001b[36m79\u001b[0m - \u001b[1m%139 - Running pipeline for row_seed: 2023 and size_of_unlabelled_data: 0.4 and model: DecisionTreeClassifier(max_depth=5, min_samples_split=3)\u001b[0m\n",
      "\u001b[32m2023-10-22 14:25:49.969\u001b[0m | \u001b[1mINFO    \u001b[0m | \u001b[36m__main__\u001b[0m:\u001b[36mrun_pipeline_self\u001b[0m:\u001b[36m79\u001b[0m - \u001b[1m%140 - Running pipeline for row_seed: 3202 and size_of_unlabelled_data: 0.4 and model: DecisionTreeClassifier(max_depth=5, min_samples_split=3)\u001b[0m\n",
      "\u001b[32m2023-10-22 14:25:50.011\u001b[0m | \u001b[1mINFO    \u001b[0m | \u001b[36m__main__\u001b[0m:\u001b[36mrun_pipeline_self\u001b[0m:\u001b[36m75\u001b[0m - \u001b[1mModel: DecisionTreeClassifier(max_depth=5, min_samples_split=3)\u001b[0m\n",
      "\u001b[32m2023-10-22 14:25:50.012\u001b[0m | \u001b[1mINFO    \u001b[0m | \u001b[36m__main__\u001b[0m:\u001b[36mrun_pipeline_self\u001b[0m:\u001b[36m76\u001b[0m - \u001b[1mSize of unlabelled data: 0.5\u001b[0m\n",
      "\u001b[32m2023-10-22 14:25:50.012\u001b[0m | \u001b[1mINFO    \u001b[0m | \u001b[36m__main__\u001b[0m:\u001b[36mrun_pipeline_self\u001b[0m:\u001b[36m79\u001b[0m - \u001b[1m%141 - Running pipeline for row_seed: 24 and size_of_unlabelled_data: 0.5 and model: DecisionTreeClassifier(max_depth=5, min_samples_split=3)\u001b[0m\n",
      "\u001b[32m2023-10-22 14:25:50.043\u001b[0m | \u001b[1mINFO    \u001b[0m | \u001b[36m__main__\u001b[0m:\u001b[36mrun_pipeline_self\u001b[0m:\u001b[36m79\u001b[0m - \u001b[1m%142 - Running pipeline for row_seed: 42 and size_of_unlabelled_data: 0.5 and model: DecisionTreeClassifier(max_depth=5, min_samples_split=3)\u001b[0m\n",
      "\u001b[32m2023-10-22 14:25:50.090\u001b[0m | \u001b[1mINFO    \u001b[0m | \u001b[36m__main__\u001b[0m:\u001b[36mrun_pipeline_self\u001b[0m:\u001b[36m79\u001b[0m - \u001b[1m%143 - Running pipeline for row_seed: 206 and size_of_unlabelled_data: 0.5 and model: DecisionTreeClassifier(max_depth=5, min_samples_split=3)\u001b[0m\n",
      "\u001b[32m2023-10-22 14:25:50.131\u001b[0m | \u001b[1mINFO    \u001b[0m | \u001b[36m__main__\u001b[0m:\u001b[36mrun_pipeline_self\u001b[0m:\u001b[36m79\u001b[0m - \u001b[1m%144 - Running pipeline for row_seed: 602 and size_of_unlabelled_data: 0.5 and model: DecisionTreeClassifier(max_depth=5, min_samples_split=3)\u001b[0m\n",
      "\u001b[32m2023-10-22 14:25:50.199\u001b[0m | \u001b[1mINFO    \u001b[0m | \u001b[36m__main__\u001b[0m:\u001b[36mrun_pipeline_self\u001b[0m:\u001b[36m79\u001b[0m - \u001b[1m%145 - Running pipeline for row_seed: 412 and size_of_unlabelled_data: 0.5 and model: DecisionTreeClassifier(max_depth=5, min_samples_split=3)\u001b[0m\n"
     ]
    },
    {
     "name": "stdout",
     "output_type": "stream",
     "text": [
      "\n",
      "\n"
     ]
    },
    {
     "name": "stderr",
     "output_type": "stream",
     "text": [
      "\u001b[32m2023-10-22 14:25:50.239\u001b[0m | \u001b[1mINFO    \u001b[0m | \u001b[36m__main__\u001b[0m:\u001b[36mrun_pipeline_self\u001b[0m:\u001b[36m79\u001b[0m - \u001b[1m%146 - Running pipeline for row_seed: 214 and size_of_unlabelled_data: 0.5 and model: DecisionTreeClassifier(max_depth=5, min_samples_split=3)\u001b[0m\n",
      "\u001b[32m2023-10-22 14:25:50.281\u001b[0m | \u001b[1mINFO    \u001b[0m | \u001b[36m__main__\u001b[0m:\u001b[36mrun_pipeline_self\u001b[0m:\u001b[36m79\u001b[0m - \u001b[1m%147 - Running pipeline for row_seed: 754 and size_of_unlabelled_data: 0.5 and model: DecisionTreeClassifier(max_depth=5, min_samples_split=3)\u001b[0m\n",
      "\u001b[32m2023-10-22 14:25:50.327\u001b[0m | \u001b[1mINFO    \u001b[0m | \u001b[36m__main__\u001b[0m:\u001b[36mrun_pipeline_self\u001b[0m:\u001b[36m79\u001b[0m - \u001b[1m%148 - Running pipeline for row_seed: 457 and size_of_unlabelled_data: 0.5 and model: DecisionTreeClassifier(max_depth=5, min_samples_split=3)\u001b[0m\n",
      "\u001b[32m2023-10-22 14:25:50.366\u001b[0m | \u001b[1mINFO    \u001b[0m | \u001b[36m__main__\u001b[0m:\u001b[36mrun_pipeline_self\u001b[0m:\u001b[36m79\u001b[0m - \u001b[1m%149 - Running pipeline for row_seed: 2023 and size_of_unlabelled_data: 0.5 and model: DecisionTreeClassifier(max_depth=5, min_samples_split=3)\u001b[0m\n",
      "\u001b[32m2023-10-22 14:25:50.405\u001b[0m | \u001b[1mINFO    \u001b[0m | \u001b[36m__main__\u001b[0m:\u001b[36mrun_pipeline_self\u001b[0m:\u001b[36m79\u001b[0m - \u001b[1m%150 - Running pipeline for row_seed: 3202 and size_of_unlabelled_data: 0.5 and model: DecisionTreeClassifier(max_depth=5, min_samples_split=3)\u001b[0m\n",
      "\u001b[32m2023-10-22 14:25:50.447\u001b[0m | \u001b[1mINFO    \u001b[0m | \u001b[36m__main__\u001b[0m:\u001b[36mrun_pipeline_self\u001b[0m:\u001b[36m75\u001b[0m - \u001b[1mModel: DecisionTreeClassifier(max_depth=5, min_samples_split=3)\u001b[0m\n",
      "\u001b[32m2023-10-22 14:25:50.448\u001b[0m | \u001b[1mINFO    \u001b[0m | \u001b[36m__main__\u001b[0m:\u001b[36mrun_pipeline_self\u001b[0m:\u001b[36m76\u001b[0m - \u001b[1mSize of unlabelled data: 0.6\u001b[0m\n",
      "\u001b[32m2023-10-22 14:25:50.448\u001b[0m | \u001b[1mINFO    \u001b[0m | \u001b[36m__main__\u001b[0m:\u001b[36mrun_pipeline_self\u001b[0m:\u001b[36m79\u001b[0m - \u001b[1m%151 - Running pipeline for row_seed: 24 and size_of_unlabelled_data: 0.6 and model: DecisionTreeClassifier(max_depth=5, min_samples_split=3)\u001b[0m\n",
      "\u001b[32m2023-10-22 14:25:50.489\u001b[0m | \u001b[1mINFO    \u001b[0m | \u001b[36m__main__\u001b[0m:\u001b[36mrun_pipeline_self\u001b[0m:\u001b[36m79\u001b[0m - \u001b[1m%152 - Running pipeline for row_seed: 42 and size_of_unlabelled_data: 0.6 and model: DecisionTreeClassifier(max_depth=5, min_samples_split=3)\u001b[0m\n",
      "\u001b[32m2023-10-22 14:25:50.529\u001b[0m | \u001b[1mINFO    \u001b[0m | \u001b[36m__main__\u001b[0m:\u001b[36mrun_pipeline_self\u001b[0m:\u001b[36m79\u001b[0m - \u001b[1m%153 - Running pipeline for row_seed: 206 and size_of_unlabelled_data: 0.6 and model: DecisionTreeClassifier(max_depth=5, min_samples_split=3)\u001b[0m\n",
      "\u001b[32m2023-10-22 14:25:50.577\u001b[0m | \u001b[1mINFO    \u001b[0m | \u001b[36m__main__\u001b[0m:\u001b[36mrun_pipeline_self\u001b[0m:\u001b[36m79\u001b[0m - \u001b[1m%154 - Running pipeline for row_seed: 602 and size_of_unlabelled_data: 0.6 and model: DecisionTreeClassifier(max_depth=5, min_samples_split=3)\u001b[0m\n",
      "\u001b[32m2023-10-22 14:25:50.625\u001b[0m | \u001b[1mINFO    \u001b[0m | \u001b[36m__main__\u001b[0m:\u001b[36mrun_pipeline_self\u001b[0m:\u001b[36m79\u001b[0m - \u001b[1m%155 - Running pipeline for row_seed: 412 and size_of_unlabelled_data: 0.6 and model: DecisionTreeClassifier(max_depth=5, min_samples_split=3)\u001b[0m\n"
     ]
    },
    {
     "name": "stdout",
     "output_type": "stream",
     "text": [
      "\n",
      "\n"
     ]
    },
    {
     "name": "stderr",
     "output_type": "stream",
     "text": [
      "\u001b[32m2023-10-22 14:25:50.663\u001b[0m | \u001b[1mINFO    \u001b[0m | \u001b[36m__main__\u001b[0m:\u001b[36mrun_pipeline_self\u001b[0m:\u001b[36m79\u001b[0m - \u001b[1m%156 - Running pipeline for row_seed: 214 and size_of_unlabelled_data: 0.6 and model: DecisionTreeClassifier(max_depth=5, min_samples_split=3)\u001b[0m\n",
      "\u001b[32m2023-10-22 14:25:50.720\u001b[0m | \u001b[1mINFO    \u001b[0m | \u001b[36m__main__\u001b[0m:\u001b[36mrun_pipeline_self\u001b[0m:\u001b[36m79\u001b[0m - \u001b[1m%157 - Running pipeline for row_seed: 754 and size_of_unlabelled_data: 0.6 and model: DecisionTreeClassifier(max_depth=5, min_samples_split=3)\u001b[0m\n",
      "\u001b[32m2023-10-22 14:25:50.759\u001b[0m | \u001b[1mINFO    \u001b[0m | \u001b[36m__main__\u001b[0m:\u001b[36mrun_pipeline_self\u001b[0m:\u001b[36m79\u001b[0m - \u001b[1m%158 - Running pipeline for row_seed: 457 and size_of_unlabelled_data: 0.6 and model: DecisionTreeClassifier(max_depth=5, min_samples_split=3)\u001b[0m\n",
      "\u001b[32m2023-10-22 14:25:50.804\u001b[0m | \u001b[1mINFO    \u001b[0m | \u001b[36m__main__\u001b[0m:\u001b[36mrun_pipeline_self\u001b[0m:\u001b[36m79\u001b[0m - \u001b[1m%159 - Running pipeline for row_seed: 2023 and size_of_unlabelled_data: 0.6 and model: DecisionTreeClassifier(max_depth=5, min_samples_split=3)\u001b[0m\n",
      "\u001b[32m2023-10-22 14:25:50.862\u001b[0m | \u001b[1mINFO    \u001b[0m | \u001b[36m__main__\u001b[0m:\u001b[36mrun_pipeline_self\u001b[0m:\u001b[36m79\u001b[0m - \u001b[1m%160 - Running pipeline for row_seed: 3202 and size_of_unlabelled_data: 0.6 and model: DecisionTreeClassifier(max_depth=5, min_samples_split=3)\u001b[0m\n",
      "\u001b[32m2023-10-22 14:25:50.919\u001b[0m | \u001b[1mINFO    \u001b[0m | \u001b[36m__main__\u001b[0m:\u001b[36mrun_pipeline_self\u001b[0m:\u001b[36m75\u001b[0m - \u001b[1mModel: DecisionTreeClassifier(max_depth=5, min_samples_split=3)\u001b[0m\n",
      "\u001b[32m2023-10-22 14:25:50.920\u001b[0m | \u001b[1mINFO    \u001b[0m | \u001b[36m__main__\u001b[0m:\u001b[36mrun_pipeline_self\u001b[0m:\u001b[36m76\u001b[0m - \u001b[1mSize of unlabelled data: 0.7\u001b[0m\n",
      "\u001b[32m2023-10-22 14:25:50.921\u001b[0m | \u001b[1mINFO    \u001b[0m | \u001b[36m__main__\u001b[0m:\u001b[36mrun_pipeline_self\u001b[0m:\u001b[36m79\u001b[0m - \u001b[1m%161 - Running pipeline for row_seed: 24 and size_of_unlabelled_data: 0.7 and model: DecisionTreeClassifier(max_depth=5, min_samples_split=3)\u001b[0m\n",
      "\u001b[32m2023-10-22 14:25:50.967\u001b[0m | \u001b[1mINFO    \u001b[0m | \u001b[36m__main__\u001b[0m:\u001b[36mrun_pipeline_self\u001b[0m:\u001b[36m79\u001b[0m - \u001b[1m%162 - Running pipeline for row_seed: 42 and size_of_unlabelled_data: 0.7 and model: DecisionTreeClassifier(max_depth=5, min_samples_split=3)\u001b[0m\n",
      "\u001b[32m2023-10-22 14:25:51.014\u001b[0m | \u001b[1mINFO    \u001b[0m | \u001b[36m__main__\u001b[0m:\u001b[36mrun_pipeline_self\u001b[0m:\u001b[36m79\u001b[0m - \u001b[1m%163 - Running pipeline for row_seed: 206 and size_of_unlabelled_data: 0.7 and model: DecisionTreeClassifier(max_depth=5, min_samples_split=3)\u001b[0m\n",
      "\u001b[32m2023-10-22 14:25:51.056\u001b[0m | \u001b[1mINFO    \u001b[0m | \u001b[36m__main__\u001b[0m:\u001b[36mrun_pipeline_self\u001b[0m:\u001b[36m79\u001b[0m - \u001b[1m%164 - Running pipeline for row_seed: 602 and size_of_unlabelled_data: 0.7 and model: DecisionTreeClassifier(max_depth=5, min_samples_split=3)\u001b[0m\n",
      "\u001b[32m2023-10-22 14:25:51.097\u001b[0m | \u001b[1mINFO    \u001b[0m | \u001b[36m__main__\u001b[0m:\u001b[36mrun_pipeline_self\u001b[0m:\u001b[36m79\u001b[0m - \u001b[1m%165 - Running pipeline for row_seed: 412 and size_of_unlabelled_data: 0.7 and model: DecisionTreeClassifier(max_depth=5, min_samples_split=3)\u001b[0m\n"
     ]
    },
    {
     "name": "stdout",
     "output_type": "stream",
     "text": [
      "\n",
      "\n"
     ]
    },
    {
     "name": "stderr",
     "output_type": "stream",
     "text": [
      "\u001b[32m2023-10-22 14:25:51.127\u001b[0m | \u001b[1mINFO    \u001b[0m | \u001b[36m__main__\u001b[0m:\u001b[36mrun_pipeline_self\u001b[0m:\u001b[36m79\u001b[0m - \u001b[1m%166 - Running pipeline for row_seed: 214 and size_of_unlabelled_data: 0.7 and model: DecisionTreeClassifier(max_depth=5, min_samples_split=3)\u001b[0m\n",
      "\u001b[32m2023-10-22 14:25:51.187\u001b[0m | \u001b[1mINFO    \u001b[0m | \u001b[36m__main__\u001b[0m:\u001b[36mrun_pipeline_self\u001b[0m:\u001b[36m79\u001b[0m - \u001b[1m%167 - Running pipeline for row_seed: 754 and size_of_unlabelled_data: 0.7 and model: DecisionTreeClassifier(max_depth=5, min_samples_split=3)\u001b[0m\n",
      "\u001b[32m2023-10-22 14:25:51.225\u001b[0m | \u001b[1mINFO    \u001b[0m | \u001b[36m__main__\u001b[0m:\u001b[36mrun_pipeline_self\u001b[0m:\u001b[36m79\u001b[0m - \u001b[1m%168 - Running pipeline for row_seed: 457 and size_of_unlabelled_data: 0.7 and model: DecisionTreeClassifier(max_depth=5, min_samples_split=3)\u001b[0m\n",
      "\u001b[32m2023-10-22 14:25:51.261\u001b[0m | \u001b[1mINFO    \u001b[0m | \u001b[36m__main__\u001b[0m:\u001b[36mrun_pipeline_self\u001b[0m:\u001b[36m79\u001b[0m - \u001b[1m%169 - Running pipeline for row_seed: 2023 and size_of_unlabelled_data: 0.7 and model: DecisionTreeClassifier(max_depth=5, min_samples_split=3)\u001b[0m\n",
      "\u001b[32m2023-10-22 14:25:51.290\u001b[0m | \u001b[1mINFO    \u001b[0m | \u001b[36m__main__\u001b[0m:\u001b[36mrun_pipeline_self\u001b[0m:\u001b[36m79\u001b[0m - \u001b[1m%170 - Running pipeline for row_seed: 3202 and size_of_unlabelled_data: 0.7 and model: DecisionTreeClassifier(max_depth=5, min_samples_split=3)\u001b[0m\n",
      "\u001b[32m2023-10-22 14:25:51.331\u001b[0m | \u001b[1mINFO    \u001b[0m | \u001b[36m__main__\u001b[0m:\u001b[36mrun_pipeline_self\u001b[0m:\u001b[36m75\u001b[0m - \u001b[1mModel: DecisionTreeClassifier(max_depth=5, min_samples_split=3)\u001b[0m\n",
      "\u001b[32m2023-10-22 14:25:51.331\u001b[0m | \u001b[1mINFO    \u001b[0m | \u001b[36m__main__\u001b[0m:\u001b[36mrun_pipeline_self\u001b[0m:\u001b[36m76\u001b[0m - \u001b[1mSize of unlabelled data: 0.8\u001b[0m\n",
      "\u001b[32m2023-10-22 14:25:51.332\u001b[0m | \u001b[1mINFO    \u001b[0m | \u001b[36m__main__\u001b[0m:\u001b[36mrun_pipeline_self\u001b[0m:\u001b[36m79\u001b[0m - \u001b[1m%171 - Running pipeline for row_seed: 24 and size_of_unlabelled_data: 0.8 and model: DecisionTreeClassifier(max_depth=5, min_samples_split=3)\u001b[0m\n",
      "\u001b[32m2023-10-22 14:25:51.377\u001b[0m | \u001b[1mINFO    \u001b[0m | \u001b[36m__main__\u001b[0m:\u001b[36mrun_pipeline_self\u001b[0m:\u001b[36m79\u001b[0m - \u001b[1m%172 - Running pipeline for row_seed: 42 and size_of_unlabelled_data: 0.8 and model: DecisionTreeClassifier(max_depth=5, min_samples_split=3)\u001b[0m\n",
      "\u001b[32m2023-10-22 14:25:51.414\u001b[0m | \u001b[1mINFO    \u001b[0m | \u001b[36m__main__\u001b[0m:\u001b[36mrun_pipeline_self\u001b[0m:\u001b[36m79\u001b[0m - \u001b[1m%173 - Running pipeline for row_seed: 206 and size_of_unlabelled_data: 0.8 and model: DecisionTreeClassifier(max_depth=5, min_samples_split=3)\u001b[0m\n",
      "\u001b[32m2023-10-22 14:25:51.452\u001b[0m | \u001b[1mINFO    \u001b[0m | \u001b[36m__main__\u001b[0m:\u001b[36mrun_pipeline_self\u001b[0m:\u001b[36m79\u001b[0m - \u001b[1m%174 - Running pipeline for row_seed: 602 and size_of_unlabelled_data: 0.8 and model: DecisionTreeClassifier(max_depth=5, min_samples_split=3)\u001b[0m\n",
      "\u001b[32m2023-10-22 14:25:51.479\u001b[0m | \u001b[1mINFO    \u001b[0m | \u001b[36m__main__\u001b[0m:\u001b[36mrun_pipeline_self\u001b[0m:\u001b[36m79\u001b[0m - \u001b[1m%175 - Running pipeline for row_seed: 412 and size_of_unlabelled_data: 0.8 and model: DecisionTreeClassifier(max_depth=5, min_samples_split=3)\u001b[0m\n",
      "\u001b[32m2023-10-22 14:25:51.513\u001b[0m | \u001b[1mINFO    \u001b[0m | \u001b[36m__main__\u001b[0m:\u001b[36mrun_pipeline_self\u001b[0m:\u001b[36m79\u001b[0m - \u001b[1m%176 - Running pipeline for row_seed: 214 and size_of_unlabelled_data: 0.8 and model: DecisionTreeClassifier(max_depth=5, min_samples_split=3)\u001b[0m\n"
     ]
    },
    {
     "name": "stdout",
     "output_type": "stream",
     "text": [
      "\n",
      "\n"
     ]
    },
    {
     "name": "stderr",
     "output_type": "stream",
     "text": [
      "\u001b[32m2023-10-22 14:25:51.553\u001b[0m | \u001b[1mINFO    \u001b[0m | \u001b[36m__main__\u001b[0m:\u001b[36mrun_pipeline_self\u001b[0m:\u001b[36m79\u001b[0m - \u001b[1m%177 - Running pipeline for row_seed: 754 and size_of_unlabelled_data: 0.8 and model: DecisionTreeClassifier(max_depth=5, min_samples_split=3)\u001b[0m\n",
      "\u001b[32m2023-10-22 14:25:51.589\u001b[0m | \u001b[1mINFO    \u001b[0m | \u001b[36m__main__\u001b[0m:\u001b[36mrun_pipeline_self\u001b[0m:\u001b[36m79\u001b[0m - \u001b[1m%178 - Running pipeline for row_seed: 457 and size_of_unlabelled_data: 0.8 and model: DecisionTreeClassifier(max_depth=5, min_samples_split=3)\u001b[0m\n",
      "\u001b[32m2023-10-22 14:25:51.624\u001b[0m | \u001b[1mINFO    \u001b[0m | \u001b[36m__main__\u001b[0m:\u001b[36mrun_pipeline_self\u001b[0m:\u001b[36m79\u001b[0m - \u001b[1m%179 - Running pipeline for row_seed: 2023 and size_of_unlabelled_data: 0.8 and model: DecisionTreeClassifier(max_depth=5, min_samples_split=3)\u001b[0m\n",
      "\u001b[32m2023-10-22 14:25:51.657\u001b[0m | \u001b[1mINFO    \u001b[0m | \u001b[36m__main__\u001b[0m:\u001b[36mrun_pipeline_self\u001b[0m:\u001b[36m79\u001b[0m - \u001b[1m%180 - Running pipeline for row_seed: 3202 and size_of_unlabelled_data: 0.8 and model: DecisionTreeClassifier(max_depth=5, min_samples_split=3)\u001b[0m\n",
      "\u001b[32m2023-10-22 14:25:51.694\u001b[0m | \u001b[1mINFO    \u001b[0m | \u001b[36m__main__\u001b[0m:\u001b[36mrun_pipeline_self\u001b[0m:\u001b[36m75\u001b[0m - \u001b[1mModel: DecisionTreeClassifier(max_depth=5, min_samples_split=3)\u001b[0m\n",
      "\u001b[32m2023-10-22 14:25:51.694\u001b[0m | \u001b[1mINFO    \u001b[0m | \u001b[36m__main__\u001b[0m:\u001b[36mrun_pipeline_self\u001b[0m:\u001b[36m76\u001b[0m - \u001b[1mSize of unlabelled data: 0.85\u001b[0m\n",
      "\u001b[32m2023-10-22 14:25:51.695\u001b[0m | \u001b[1mINFO    \u001b[0m | \u001b[36m__main__\u001b[0m:\u001b[36mrun_pipeline_self\u001b[0m:\u001b[36m79\u001b[0m - \u001b[1m%181 - Running pipeline for row_seed: 24 and size_of_unlabelled_data: 0.85 and model: DecisionTreeClassifier(max_depth=5, min_samples_split=3)\u001b[0m\n",
      "\u001b[32m2023-10-22 14:25:51.783\u001b[0m | \u001b[1mINFO    \u001b[0m | \u001b[36m__main__\u001b[0m:\u001b[36mrun_pipeline_self\u001b[0m:\u001b[36m79\u001b[0m - \u001b[1m%182 - Running pipeline for row_seed: 42 and size_of_unlabelled_data: 0.85 and model: DecisionTreeClassifier(max_depth=5, min_samples_split=3)\u001b[0m\n",
      "\u001b[32m2023-10-22 14:25:51.828\u001b[0m | \u001b[1mINFO    \u001b[0m | \u001b[36m__main__\u001b[0m:\u001b[36mrun_pipeline_self\u001b[0m:\u001b[36m79\u001b[0m - \u001b[1m%183 - Running pipeline for row_seed: 206 and size_of_unlabelled_data: 0.85 and model: DecisionTreeClassifier(max_depth=5, min_samples_split=3)\u001b[0m\n",
      "\u001b[32m2023-10-22 14:25:51.861\u001b[0m | \u001b[1mINFO    \u001b[0m | \u001b[36m__main__\u001b[0m:\u001b[36mrun_pipeline_self\u001b[0m:\u001b[36m79\u001b[0m - \u001b[1m%184 - Running pipeline for row_seed: 602 and size_of_unlabelled_data: 0.85 and model: DecisionTreeClassifier(max_depth=5, min_samples_split=3)\u001b[0m\n"
     ]
    },
    {
     "name": "stdout",
     "output_type": "stream",
     "text": [
      "\n",
      "\n"
     ]
    },
    {
     "name": "stderr",
     "output_type": "stream",
     "text": [
      "\u001b[32m2023-10-22 14:25:51.904\u001b[0m | \u001b[1mINFO    \u001b[0m | \u001b[36m__main__\u001b[0m:\u001b[36mrun_pipeline_self\u001b[0m:\u001b[36m79\u001b[0m - \u001b[1m%185 - Running pipeline for row_seed: 412 and size_of_unlabelled_data: 0.85 and model: DecisionTreeClassifier(max_depth=5, min_samples_split=3)\u001b[0m\n",
      "\u001b[32m2023-10-22 14:25:51.942\u001b[0m | \u001b[1mINFO    \u001b[0m | \u001b[36m__main__\u001b[0m:\u001b[36mrun_pipeline_self\u001b[0m:\u001b[36m79\u001b[0m - \u001b[1m%186 - Running pipeline for row_seed: 214 and size_of_unlabelled_data: 0.85 and model: DecisionTreeClassifier(max_depth=5, min_samples_split=3)\u001b[0m\n",
      "\u001b[32m2023-10-22 14:25:51.984\u001b[0m | \u001b[1mINFO    \u001b[0m | \u001b[36m__main__\u001b[0m:\u001b[36mrun_pipeline_self\u001b[0m:\u001b[36m79\u001b[0m - \u001b[1m%187 - Running pipeline for row_seed: 754 and size_of_unlabelled_data: 0.85 and model: DecisionTreeClassifier(max_depth=5, min_samples_split=3)\u001b[0m\n",
      "\u001b[32m2023-10-22 14:25:52.020\u001b[0m | \u001b[1mINFO    \u001b[0m | \u001b[36m__main__\u001b[0m:\u001b[36mrun_pipeline_self\u001b[0m:\u001b[36m79\u001b[0m - \u001b[1m%188 - Running pipeline for row_seed: 457 and size_of_unlabelled_data: 0.85 and model: DecisionTreeClassifier(max_depth=5, min_samples_split=3)\u001b[0m\n",
      "\u001b[32m2023-10-22 14:25:52.061\u001b[0m | \u001b[1mINFO    \u001b[0m | \u001b[36m__main__\u001b[0m:\u001b[36mrun_pipeline_self\u001b[0m:\u001b[36m79\u001b[0m - \u001b[1m%189 - Running pipeline for row_seed: 2023 and size_of_unlabelled_data: 0.85 and model: DecisionTreeClassifier(max_depth=5, min_samples_split=3)\u001b[0m\n",
      "\u001b[32m2023-10-22 14:25:52.089\u001b[0m | \u001b[1mINFO    \u001b[0m | \u001b[36m__main__\u001b[0m:\u001b[36mrun_pipeline_self\u001b[0m:\u001b[36m79\u001b[0m - \u001b[1m%190 - Running pipeline for row_seed: 3202 and size_of_unlabelled_data: 0.85 and model: DecisionTreeClassifier(max_depth=5, min_samples_split=3)\u001b[0m\n",
      "\u001b[32m2023-10-22 14:25:52.131\u001b[0m | \u001b[1mINFO    \u001b[0m | \u001b[36m__main__\u001b[0m:\u001b[36mrun_pipeline_self\u001b[0m:\u001b[36m75\u001b[0m - \u001b[1mModel: DecisionTreeClassifier(max_depth=5, min_samples_split=3)\u001b[0m\n",
      "\u001b[32m2023-10-22 14:25:52.132\u001b[0m | \u001b[1mINFO    \u001b[0m | \u001b[36m__main__\u001b[0m:\u001b[36mrun_pipeline_self\u001b[0m:\u001b[36m76\u001b[0m - \u001b[1mSize of unlabelled data: 0.9\u001b[0m\n",
      "\u001b[32m2023-10-22 14:25:52.133\u001b[0m | \u001b[1mINFO    \u001b[0m | \u001b[36m__main__\u001b[0m:\u001b[36mrun_pipeline_self\u001b[0m:\u001b[36m79\u001b[0m - \u001b[1m%191 - Running pipeline for row_seed: 24 and size_of_unlabelled_data: 0.9 and model: DecisionTreeClassifier(max_depth=5, min_samples_split=3)\u001b[0m\n",
      "\u001b[32m2023-10-22 14:25:52.167\u001b[0m | \u001b[1mINFO    \u001b[0m | \u001b[36m__main__\u001b[0m:\u001b[36mrun_pipeline_self\u001b[0m:\u001b[36m79\u001b[0m - \u001b[1m%192 - Running pipeline for row_seed: 42 and size_of_unlabelled_data: 0.9 and model: DecisionTreeClassifier(max_depth=5, min_samples_split=3)\u001b[0m\n",
      "\u001b[32m2023-10-22 14:25:52.210\u001b[0m | \u001b[1mINFO    \u001b[0m | \u001b[36m__main__\u001b[0m:\u001b[36mrun_pipeline_self\u001b[0m:\u001b[36m79\u001b[0m - \u001b[1m%193 - Running pipeline for row_seed: 206 and size_of_unlabelled_data: 0.9 and model: DecisionTreeClassifier(max_depth=5, min_samples_split=3)\u001b[0m\n",
      "\u001b[32m2023-10-22 14:25:52.245\u001b[0m | \u001b[1mINFO    \u001b[0m | \u001b[36m__main__\u001b[0m:\u001b[36mrun_pipeline_self\u001b[0m:\u001b[36m79\u001b[0m - \u001b[1m%194 - Running pipeline for row_seed: 602 and size_of_unlabelled_data: 0.9 and model: DecisionTreeClassifier(max_depth=5, min_samples_split=3)\u001b[0m\n",
      "\u001b[32m2023-10-22 14:25:52.271\u001b[0m | \u001b[1mINFO    \u001b[0m | \u001b[36m__main__\u001b[0m:\u001b[36mrun_pipeline_self\u001b[0m:\u001b[36m79\u001b[0m - \u001b[1m%195 - Running pipeline for row_seed: 412 and size_of_unlabelled_data: 0.9 and model: DecisionTreeClassifier(max_depth=5, min_samples_split=3)\u001b[0m\n",
      "\u001b[32m2023-10-22 14:25:52.303\u001b[0m | \u001b[1mINFO    \u001b[0m | \u001b[36m__main__\u001b[0m:\u001b[36mrun_pipeline_self\u001b[0m:\u001b[36m79\u001b[0m - \u001b[1m%196 - Running pipeline for row_seed: 214 and size_of_unlabelled_data: 0.9 and model: DecisionTreeClassifier(max_depth=5, min_samples_split=3)\u001b[0m\n"
     ]
    },
    {
     "name": "stdout",
     "output_type": "stream",
     "text": [
      "\n",
      "\n"
     ]
    },
    {
     "name": "stderr",
     "output_type": "stream",
     "text": [
      "\u001b[32m2023-10-22 14:25:52.339\u001b[0m | \u001b[1mINFO    \u001b[0m | \u001b[36m__main__\u001b[0m:\u001b[36mrun_pipeline_self\u001b[0m:\u001b[36m79\u001b[0m - \u001b[1m%197 - Running pipeline for row_seed: 754 and size_of_unlabelled_data: 0.9 and model: DecisionTreeClassifier(max_depth=5, min_samples_split=3)\u001b[0m\n",
      "\u001b[32m2023-10-22 14:25:52.365\u001b[0m | \u001b[1mINFO    \u001b[0m | \u001b[36m__main__\u001b[0m:\u001b[36mrun_pipeline_self\u001b[0m:\u001b[36m79\u001b[0m - \u001b[1m%198 - Running pipeline for row_seed: 457 and size_of_unlabelled_data: 0.9 and model: DecisionTreeClassifier(max_depth=5, min_samples_split=3)\u001b[0m\n",
      "\u001b[32m2023-10-22 14:25:52.391\u001b[0m | \u001b[1mINFO    \u001b[0m | \u001b[36m__main__\u001b[0m:\u001b[36mrun_pipeline_self\u001b[0m:\u001b[36m79\u001b[0m - \u001b[1m%199 - Running pipeline for row_seed: 2023 and size_of_unlabelled_data: 0.9 and model: DecisionTreeClassifier(max_depth=5, min_samples_split=3)\u001b[0m\n",
      "\u001b[32m2023-10-22 14:25:52.429\u001b[0m | \u001b[1mINFO    \u001b[0m | \u001b[36m__main__\u001b[0m:\u001b[36mrun_pipeline_self\u001b[0m:\u001b[36m79\u001b[0m - \u001b[1m%200 - Running pipeline for row_seed: 3202 and size_of_unlabelled_data: 0.9 and model: DecisionTreeClassifier(max_depth=5, min_samples_split=3)\u001b[0m\n",
      "\u001b[32m2023-10-22 14:25:52.470\u001b[0m | \u001b[1mINFO    \u001b[0m | \u001b[36m__main__\u001b[0m:\u001b[36mrun_pipeline_self\u001b[0m:\u001b[36m75\u001b[0m - \u001b[1mModel: KNeighborsClassifier(metric='manhattan', n_neighbors=9, weights='distance')\u001b[0m\n",
      "\u001b[32m2023-10-22 14:25:52.471\u001b[0m | \u001b[1mINFO    \u001b[0m | \u001b[36m__main__\u001b[0m:\u001b[36mrun_pipeline_self\u001b[0m:\u001b[36m76\u001b[0m - \u001b[1mSize of unlabelled data: 0.1\u001b[0m\n",
      "\u001b[32m2023-10-22 14:25:52.471\u001b[0m | \u001b[1mINFO    \u001b[0m | \u001b[36m__main__\u001b[0m:\u001b[36mrun_pipeline_self\u001b[0m:\u001b[36m79\u001b[0m - \u001b[1m%201 - Running pipeline for row_seed: 24 and size_of_unlabelled_data: 0.1 and model: KNeighborsClassifier(metric='manhattan', n_neighbors=9, weights='distance')\u001b[0m\n",
      "\u001b[32m2023-10-22 14:25:52.501\u001b[0m | \u001b[1mINFO    \u001b[0m | \u001b[36m__main__\u001b[0m:\u001b[36mrun_pipeline_self\u001b[0m:\u001b[36m79\u001b[0m - \u001b[1m%202 - Running pipeline for row_seed: 42 and size_of_unlabelled_data: 0.1 and model: KNeighborsClassifier(metric='manhattan', n_neighbors=9, weights='distance')\u001b[0m\n",
      "\u001b[32m2023-10-22 14:25:52.531\u001b[0m | \u001b[1mINFO    \u001b[0m | \u001b[36m__main__\u001b[0m:\u001b[36mrun_pipeline_self\u001b[0m:\u001b[36m79\u001b[0m - \u001b[1m%203 - Running pipeline for row_seed: 206 and size_of_unlabelled_data: 0.1 and model: KNeighborsClassifier(metric='manhattan', n_neighbors=9, weights='distance')\u001b[0m\n",
      "\u001b[32m2023-10-22 14:25:52.559\u001b[0m | \u001b[1mINFO    \u001b[0m | \u001b[36m__main__\u001b[0m:\u001b[36mrun_pipeline_self\u001b[0m:\u001b[36m79\u001b[0m - \u001b[1m%204 - Running pipeline for row_seed: 602 and size_of_unlabelled_data: 0.1 and model: KNeighborsClassifier(metric='manhattan', n_neighbors=9, weights='distance')\u001b[0m\n",
      "\u001b[32m2023-10-22 14:25:52.589\u001b[0m | \u001b[1mINFO    \u001b[0m | \u001b[36m__main__\u001b[0m:\u001b[36mrun_pipeline_self\u001b[0m:\u001b[36m79\u001b[0m - \u001b[1m%205 - Running pipeline for row_seed: 412 and size_of_unlabelled_data: 0.1 and model: KNeighborsClassifier(metric='manhattan', n_neighbors=9, weights='distance')\u001b[0m\n",
      "\u001b[32m2023-10-22 14:25:52.619\u001b[0m | \u001b[1mINFO    \u001b[0m | \u001b[36m__main__\u001b[0m:\u001b[36mrun_pipeline_self\u001b[0m:\u001b[36m79\u001b[0m - \u001b[1m%206 - Running pipeline for row_seed: 214 and size_of_unlabelled_data: 0.1 and model: KNeighborsClassifier(metric='manhattan', n_neighbors=9, weights='distance')\u001b[0m\n",
      "\u001b[32m2023-10-22 14:25:52.657\u001b[0m | \u001b[1mINFO    \u001b[0m | \u001b[36m__main__\u001b[0m:\u001b[36mrun_pipeline_self\u001b[0m:\u001b[36m79\u001b[0m - \u001b[1m%207 - Running pipeline for row_seed: 754 and size_of_unlabelled_data: 0.1 and model: KNeighborsClassifier(metric='manhattan', n_neighbors=9, weights='distance')\u001b[0m\n"
     ]
    },
    {
     "name": "stdout",
     "output_type": "stream",
     "text": [
      "\n",
      "\n"
     ]
    },
    {
     "name": "stderr",
     "output_type": "stream",
     "text": [
      "\u001b[32m2023-10-22 14:25:52.686\u001b[0m | \u001b[1mINFO    \u001b[0m | \u001b[36m__main__\u001b[0m:\u001b[36mrun_pipeline_self\u001b[0m:\u001b[36m79\u001b[0m - \u001b[1m%208 - Running pipeline for row_seed: 457 and size_of_unlabelled_data: 0.1 and model: KNeighborsClassifier(metric='manhattan', n_neighbors=9, weights='distance')\u001b[0m\n",
      "\u001b[32m2023-10-22 14:25:52.719\u001b[0m | \u001b[1mINFO    \u001b[0m | \u001b[36m__main__\u001b[0m:\u001b[36mrun_pipeline_self\u001b[0m:\u001b[36m79\u001b[0m - \u001b[1m%209 - Running pipeline for row_seed: 2023 and size_of_unlabelled_data: 0.1 and model: KNeighborsClassifier(metric='manhattan', n_neighbors=9, weights='distance')\u001b[0m\n",
      "\u001b[32m2023-10-22 14:25:52.754\u001b[0m | \u001b[1mINFO    \u001b[0m | \u001b[36m__main__\u001b[0m:\u001b[36mrun_pipeline_self\u001b[0m:\u001b[36m79\u001b[0m - \u001b[1m%210 - Running pipeline for row_seed: 3202 and size_of_unlabelled_data: 0.1 and model: KNeighborsClassifier(metric='manhattan', n_neighbors=9, weights='distance')\u001b[0m\n",
      "\u001b[32m2023-10-22 14:25:52.789\u001b[0m | \u001b[1mINFO    \u001b[0m | \u001b[36m__main__\u001b[0m:\u001b[36mrun_pipeline_self\u001b[0m:\u001b[36m75\u001b[0m - \u001b[1mModel: KNeighborsClassifier(metric='manhattan', n_neighbors=9, weights='distance')\u001b[0m\n",
      "\u001b[32m2023-10-22 14:25:52.790\u001b[0m | \u001b[1mINFO    \u001b[0m | \u001b[36m__main__\u001b[0m:\u001b[36mrun_pipeline_self\u001b[0m:\u001b[36m76\u001b[0m - \u001b[1mSize of unlabelled data: 0.2\u001b[0m\n",
      "\u001b[32m2023-10-22 14:25:52.790\u001b[0m | \u001b[1mINFO    \u001b[0m | \u001b[36m__main__\u001b[0m:\u001b[36mrun_pipeline_self\u001b[0m:\u001b[36m79\u001b[0m - \u001b[1m%211 - Running pipeline for row_seed: 24 and size_of_unlabelled_data: 0.2 and model: KNeighborsClassifier(metric='manhattan', n_neighbors=9, weights='distance')\u001b[0m\n",
      "\u001b[32m2023-10-22 14:25:52.833\u001b[0m | \u001b[1mINFO    \u001b[0m | \u001b[36m__main__\u001b[0m:\u001b[36mrun_pipeline_self\u001b[0m:\u001b[36m79\u001b[0m - \u001b[1m%212 - Running pipeline for row_seed: 42 and size_of_unlabelled_data: 0.2 and model: KNeighborsClassifier(metric='manhattan', n_neighbors=9, weights='distance')\u001b[0m\n",
      "\u001b[32m2023-10-22 14:25:52.874\u001b[0m | \u001b[1mINFO    \u001b[0m | \u001b[36m__main__\u001b[0m:\u001b[36mrun_pipeline_self\u001b[0m:\u001b[36m79\u001b[0m - \u001b[1m%213 - Running pipeline for row_seed: 206 and size_of_unlabelled_data: 0.2 and model: KNeighborsClassifier(metric='manhattan', n_neighbors=9, weights='distance')\u001b[0m\n",
      "\u001b[32m2023-10-22 14:25:52.919\u001b[0m | \u001b[1mINFO    \u001b[0m | \u001b[36m__main__\u001b[0m:\u001b[36mrun_pipeline_self\u001b[0m:\u001b[36m79\u001b[0m - \u001b[1m%214 - Running pipeline for row_seed: 602 and size_of_unlabelled_data: 0.2 and model: KNeighborsClassifier(metric='manhattan', n_neighbors=9, weights='distance')\u001b[0m\n",
      "\u001b[32m2023-10-22 14:25:52.967\u001b[0m | \u001b[1mINFO    \u001b[0m | \u001b[36m__main__\u001b[0m:\u001b[36mrun_pipeline_self\u001b[0m:\u001b[36m79\u001b[0m - \u001b[1m%215 - Running pipeline for row_seed: 412 and size_of_unlabelled_data: 0.2 and model: KNeighborsClassifier(metric='manhattan', n_neighbors=9, weights='distance')\u001b[0m\n"
     ]
    },
    {
     "name": "stdout",
     "output_type": "stream",
     "text": [
      "\n",
      "\n"
     ]
    },
    {
     "name": "stderr",
     "output_type": "stream",
     "text": [
      "\u001b[32m2023-10-22 14:25:53.000\u001b[0m | \u001b[1mINFO    \u001b[0m | \u001b[36m__main__\u001b[0m:\u001b[36mrun_pipeline_self\u001b[0m:\u001b[36m79\u001b[0m - \u001b[1m%216 - Running pipeline for row_seed: 214 and size_of_unlabelled_data: 0.2 and model: KNeighborsClassifier(metric='manhattan', n_neighbors=9, weights='distance')\u001b[0m\n",
      "\u001b[32m2023-10-22 14:25:53.034\u001b[0m | \u001b[1mINFO    \u001b[0m | \u001b[36m__main__\u001b[0m:\u001b[36mrun_pipeline_self\u001b[0m:\u001b[36m79\u001b[0m - \u001b[1m%217 - Running pipeline for row_seed: 754 and size_of_unlabelled_data: 0.2 and model: KNeighborsClassifier(metric='manhattan', n_neighbors=9, weights='distance')\u001b[0m\n",
      "\u001b[32m2023-10-22 14:25:53.078\u001b[0m | \u001b[1mINFO    \u001b[0m | \u001b[36m__main__\u001b[0m:\u001b[36mrun_pipeline_self\u001b[0m:\u001b[36m79\u001b[0m - \u001b[1m%218 - Running pipeline for row_seed: 457 and size_of_unlabelled_data: 0.2 and model: KNeighborsClassifier(metric='manhattan', n_neighbors=9, weights='distance')\u001b[0m\n",
      "\u001b[32m2023-10-22 14:25:53.116\u001b[0m | \u001b[1mINFO    \u001b[0m | \u001b[36m__main__\u001b[0m:\u001b[36mrun_pipeline_self\u001b[0m:\u001b[36m79\u001b[0m - \u001b[1m%219 - Running pipeline for row_seed: 2023 and size_of_unlabelled_data: 0.2 and model: KNeighborsClassifier(metric='manhattan', n_neighbors=9, weights='distance')\u001b[0m\n",
      "\u001b[32m2023-10-22 14:25:53.154\u001b[0m | \u001b[1mINFO    \u001b[0m | \u001b[36m__main__\u001b[0m:\u001b[36mrun_pipeline_self\u001b[0m:\u001b[36m79\u001b[0m - \u001b[1m%220 - Running pipeline for row_seed: 3202 and size_of_unlabelled_data: 0.2 and model: KNeighborsClassifier(metric='manhattan', n_neighbors=9, weights='distance')\u001b[0m\n",
      "\u001b[32m2023-10-22 14:25:53.189\u001b[0m | \u001b[1mINFO    \u001b[0m | \u001b[36m__main__\u001b[0m:\u001b[36mrun_pipeline_self\u001b[0m:\u001b[36m75\u001b[0m - \u001b[1mModel: KNeighborsClassifier(metric='manhattan', n_neighbors=9, weights='distance')\u001b[0m\n",
      "\u001b[32m2023-10-22 14:25:53.189\u001b[0m | \u001b[1mINFO    \u001b[0m | \u001b[36m__main__\u001b[0m:\u001b[36mrun_pipeline_self\u001b[0m:\u001b[36m76\u001b[0m - \u001b[1mSize of unlabelled data: 0.3\u001b[0m\n",
      "\u001b[32m2023-10-22 14:25:53.190\u001b[0m | \u001b[1mINFO    \u001b[0m | \u001b[36m__main__\u001b[0m:\u001b[36mrun_pipeline_self\u001b[0m:\u001b[36m79\u001b[0m - \u001b[1m%221 - Running pipeline for row_seed: 24 and size_of_unlabelled_data: 0.3 and model: KNeighborsClassifier(metric='manhattan', n_neighbors=9, weights='distance')\u001b[0m\n",
      "\u001b[32m2023-10-22 14:25:53.228\u001b[0m | \u001b[1mINFO    \u001b[0m | \u001b[36m__main__\u001b[0m:\u001b[36mrun_pipeline_self\u001b[0m:\u001b[36m79\u001b[0m - \u001b[1m%222 - Running pipeline for row_seed: 42 and size_of_unlabelled_data: 0.3 and model: KNeighborsClassifier(metric='manhattan', n_neighbors=9, weights='distance')\u001b[0m\n",
      "\u001b[32m2023-10-22 14:25:53.268\u001b[0m | \u001b[1mINFO    \u001b[0m | \u001b[36m__main__\u001b[0m:\u001b[36mrun_pipeline_self\u001b[0m:\u001b[36m79\u001b[0m - \u001b[1m%223 - Running pipeline for row_seed: 206 and size_of_unlabelled_data: 0.3 and model: KNeighborsClassifier(metric='manhattan', n_neighbors=9, weights='distance')\u001b[0m\n",
      "\u001b[32m2023-10-22 14:25:53.308\u001b[0m | \u001b[1mINFO    \u001b[0m | \u001b[36m__main__\u001b[0m:\u001b[36mrun_pipeline_self\u001b[0m:\u001b[36m79\u001b[0m - \u001b[1m%224 - Running pipeline for row_seed: 602 and size_of_unlabelled_data: 0.3 and model: KNeighborsClassifier(metric='manhattan', n_neighbors=9, weights='distance')\u001b[0m\n",
      "\u001b[32m2023-10-22 14:25:53.360\u001b[0m | \u001b[1mINFO    \u001b[0m | \u001b[36m__main__\u001b[0m:\u001b[36mrun_pipeline_self\u001b[0m:\u001b[36m79\u001b[0m - \u001b[1m%225 - Running pipeline for row_seed: 412 and size_of_unlabelled_data: 0.3 and model: KNeighborsClassifier(metric='manhattan', n_neighbors=9, weights='distance')\u001b[0m\n"
     ]
    },
    {
     "name": "stdout",
     "output_type": "stream",
     "text": [
      "\n",
      "\n"
     ]
    },
    {
     "name": "stderr",
     "output_type": "stream",
     "text": [
      "\u001b[32m2023-10-22 14:25:53.404\u001b[0m | \u001b[1mINFO    \u001b[0m | \u001b[36m__main__\u001b[0m:\u001b[36mrun_pipeline_self\u001b[0m:\u001b[36m79\u001b[0m - \u001b[1m%226 - Running pipeline for row_seed: 214 and size_of_unlabelled_data: 0.3 and model: KNeighborsClassifier(metric='manhattan', n_neighbors=9, weights='distance')\u001b[0m\n",
      "\u001b[32m2023-10-22 14:25:53.461\u001b[0m | \u001b[1mINFO    \u001b[0m | \u001b[36m__main__\u001b[0m:\u001b[36mrun_pipeline_self\u001b[0m:\u001b[36m79\u001b[0m - \u001b[1m%227 - Running pipeline for row_seed: 754 and size_of_unlabelled_data: 0.3 and model: KNeighborsClassifier(metric='manhattan', n_neighbors=9, weights='distance')\u001b[0m\n",
      "\u001b[32m2023-10-22 14:25:53.527\u001b[0m | \u001b[1mINFO    \u001b[0m | \u001b[36m__main__\u001b[0m:\u001b[36mrun_pipeline_self\u001b[0m:\u001b[36m79\u001b[0m - \u001b[1m%228 - Running pipeline for row_seed: 457 and size_of_unlabelled_data: 0.3 and model: KNeighborsClassifier(metric='manhattan', n_neighbors=9, weights='distance')\u001b[0m\n",
      "\u001b[32m2023-10-22 14:25:53.564\u001b[0m | \u001b[1mINFO    \u001b[0m | \u001b[36m__main__\u001b[0m:\u001b[36mrun_pipeline_self\u001b[0m:\u001b[36m79\u001b[0m - \u001b[1m%229 - Running pipeline for row_seed: 2023 and size_of_unlabelled_data: 0.3 and model: KNeighborsClassifier(metric='manhattan', n_neighbors=9, weights='distance')\u001b[0m\n",
      "\u001b[32m2023-10-22 14:25:53.601\u001b[0m | \u001b[1mINFO    \u001b[0m | \u001b[36m__main__\u001b[0m:\u001b[36mrun_pipeline_self\u001b[0m:\u001b[36m79\u001b[0m - \u001b[1m%230 - Running pipeline for row_seed: 3202 and size_of_unlabelled_data: 0.3 and model: KNeighborsClassifier(metric='manhattan', n_neighbors=9, weights='distance')\u001b[0m\n",
      "\u001b[32m2023-10-22 14:25:53.636\u001b[0m | \u001b[1mINFO    \u001b[0m | \u001b[36m__main__\u001b[0m:\u001b[36mrun_pipeline_self\u001b[0m:\u001b[36m75\u001b[0m - \u001b[1mModel: KNeighborsClassifier(metric='manhattan', n_neighbors=9, weights='distance')\u001b[0m\n",
      "\u001b[32m2023-10-22 14:25:53.637\u001b[0m | \u001b[1mINFO    \u001b[0m | \u001b[36m__main__\u001b[0m:\u001b[36mrun_pipeline_self\u001b[0m:\u001b[36m76\u001b[0m - \u001b[1mSize of unlabelled data: 0.4\u001b[0m\n",
      "\u001b[32m2023-10-22 14:25:53.637\u001b[0m | \u001b[1mINFO    \u001b[0m | \u001b[36m__main__\u001b[0m:\u001b[36mrun_pipeline_self\u001b[0m:\u001b[36m79\u001b[0m - \u001b[1m%231 - Running pipeline for row_seed: 24 and size_of_unlabelled_data: 0.4 and model: KNeighborsClassifier(metric='manhattan', n_neighbors=9, weights='distance')\u001b[0m\n",
      "\u001b[32m2023-10-22 14:25:53.702\u001b[0m | \u001b[1mINFO    \u001b[0m | \u001b[36m__main__\u001b[0m:\u001b[36mrun_pipeline_self\u001b[0m:\u001b[36m79\u001b[0m - \u001b[1m%232 - Running pipeline for row_seed: 42 and size_of_unlabelled_data: 0.4 and model: KNeighborsClassifier(metric='manhattan', n_neighbors=9, weights='distance')\u001b[0m\n",
      "\u001b[32m2023-10-22 14:25:53.757\u001b[0m | \u001b[1mINFO    \u001b[0m | \u001b[36m__main__\u001b[0m:\u001b[36mrun_pipeline_self\u001b[0m:\u001b[36m79\u001b[0m - \u001b[1m%233 - Running pipeline for row_seed: 206 and size_of_unlabelled_data: 0.4 and model: KNeighborsClassifier(metric='manhattan', n_neighbors=9, weights='distance')\u001b[0m\n",
      "\u001b[32m2023-10-22 14:25:53.804\u001b[0m | \u001b[1mINFO    \u001b[0m | \u001b[36m__main__\u001b[0m:\u001b[36mrun_pipeline_self\u001b[0m:\u001b[36m79\u001b[0m - \u001b[1m%234 - Running pipeline for row_seed: 602 and size_of_unlabelled_data: 0.4 and model: KNeighborsClassifier(metric='manhattan', n_neighbors=9, weights='distance')\u001b[0m\n"
     ]
    },
    {
     "name": "stdout",
     "output_type": "stream",
     "text": [
      "\n",
      "\n"
     ]
    },
    {
     "name": "stderr",
     "output_type": "stream",
     "text": [
      "\u001b[32m2023-10-22 14:25:53.868\u001b[0m | \u001b[1mINFO    \u001b[0m | \u001b[36m__main__\u001b[0m:\u001b[36mrun_pipeline_self\u001b[0m:\u001b[36m79\u001b[0m - \u001b[1m%235 - Running pipeline for row_seed: 412 and size_of_unlabelled_data: 0.4 and model: KNeighborsClassifier(metric='manhattan', n_neighbors=9, weights='distance')\u001b[0m\n",
      "\u001b[32m2023-10-22 14:25:53.913\u001b[0m | \u001b[1mINFO    \u001b[0m | \u001b[36m__main__\u001b[0m:\u001b[36mrun_pipeline_self\u001b[0m:\u001b[36m79\u001b[0m - \u001b[1m%236 - Running pipeline for row_seed: 214 and size_of_unlabelled_data: 0.4 and model: KNeighborsClassifier(metric='manhattan', n_neighbors=9, weights='distance')\u001b[0m\n",
      "\u001b[32m2023-10-22 14:25:53.964\u001b[0m | \u001b[1mINFO    \u001b[0m | \u001b[36m__main__\u001b[0m:\u001b[36mrun_pipeline_self\u001b[0m:\u001b[36m79\u001b[0m - \u001b[1m%237 - Running pipeline for row_seed: 754 and size_of_unlabelled_data: 0.4 and model: KNeighborsClassifier(metric='manhattan', n_neighbors=9, weights='distance')\u001b[0m\n",
      "\u001b[32m2023-10-22 14:25:54.005\u001b[0m | \u001b[1mINFO    \u001b[0m | \u001b[36m__main__\u001b[0m:\u001b[36mrun_pipeline_self\u001b[0m:\u001b[36m79\u001b[0m - \u001b[1m%238 - Running pipeline for row_seed: 457 and size_of_unlabelled_data: 0.4 and model: KNeighborsClassifier(metric='manhattan', n_neighbors=9, weights='distance')\u001b[0m\n",
      "\u001b[32m2023-10-22 14:25:54.049\u001b[0m | \u001b[1mINFO    \u001b[0m | \u001b[36m__main__\u001b[0m:\u001b[36mrun_pipeline_self\u001b[0m:\u001b[36m79\u001b[0m - \u001b[1m%239 - Running pipeline for row_seed: 2023 and size_of_unlabelled_data: 0.4 and model: KNeighborsClassifier(metric='manhattan', n_neighbors=9, weights='distance')\u001b[0m\n",
      "\u001b[32m2023-10-22 14:25:54.089\u001b[0m | \u001b[1mINFO    \u001b[0m | \u001b[36m__main__\u001b[0m:\u001b[36mrun_pipeline_self\u001b[0m:\u001b[36m79\u001b[0m - \u001b[1m%240 - Running pipeline for row_seed: 3202 and size_of_unlabelled_data: 0.4 and model: KNeighborsClassifier(metric='manhattan', n_neighbors=9, weights='distance')\u001b[0m\n",
      "\u001b[32m2023-10-22 14:25:54.137\u001b[0m | \u001b[1mINFO    \u001b[0m | \u001b[36m__main__\u001b[0m:\u001b[36mrun_pipeline_self\u001b[0m:\u001b[36m75\u001b[0m - \u001b[1mModel: KNeighborsClassifier(metric='manhattan', n_neighbors=9, weights='distance')\u001b[0m\n",
      "\u001b[32m2023-10-22 14:25:54.137\u001b[0m | \u001b[1mINFO    \u001b[0m | \u001b[36m__main__\u001b[0m:\u001b[36mrun_pipeline_self\u001b[0m:\u001b[36m76\u001b[0m - \u001b[1mSize of unlabelled data: 0.5\u001b[0m\n",
      "\u001b[32m2023-10-22 14:25:54.138\u001b[0m | \u001b[1mINFO    \u001b[0m | \u001b[36m__main__\u001b[0m:\u001b[36mrun_pipeline_self\u001b[0m:\u001b[36m79\u001b[0m - \u001b[1m%241 - Running pipeline for row_seed: 24 and size_of_unlabelled_data: 0.5 and model: KNeighborsClassifier(metric='manhattan', n_neighbors=9, weights='distance')\u001b[0m\n",
      "\u001b[32m2023-10-22 14:25:54.197\u001b[0m | \u001b[1mINFO    \u001b[0m | \u001b[36m__main__\u001b[0m:\u001b[36mrun_pipeline_self\u001b[0m:\u001b[36m79\u001b[0m - \u001b[1m%242 - Running pipeline for row_seed: 42 and size_of_unlabelled_data: 0.5 and model: KNeighborsClassifier(metric='manhattan', n_neighbors=9, weights='distance')\u001b[0m\n",
      "\u001b[32m2023-10-22 14:25:54.248\u001b[0m | \u001b[1mINFO    \u001b[0m | \u001b[36m__main__\u001b[0m:\u001b[36mrun_pipeline_self\u001b[0m:\u001b[36m79\u001b[0m - \u001b[1m%243 - Running pipeline for row_seed: 206 and size_of_unlabelled_data: 0.5 and model: KNeighborsClassifier(metric='manhattan', n_neighbors=9, weights='distance')\u001b[0m\n",
      "\u001b[32m2023-10-22 14:25:54.314\u001b[0m | \u001b[1mINFO    \u001b[0m | \u001b[36m__main__\u001b[0m:\u001b[36mrun_pipeline_self\u001b[0m:\u001b[36m79\u001b[0m - \u001b[1m%244 - Running pipeline for row_seed: 602 and size_of_unlabelled_data: 0.5 and model: KNeighborsClassifier(metric='manhattan', n_neighbors=9, weights='distance')\u001b[0m\n"
     ]
    },
    {
     "name": "stdout",
     "output_type": "stream",
     "text": [
      "\n",
      "\n"
     ]
    },
    {
     "name": "stderr",
     "output_type": "stream",
     "text": [
      "\u001b[32m2023-10-22 14:25:54.380\u001b[0m | \u001b[1mINFO    \u001b[0m | \u001b[36m__main__\u001b[0m:\u001b[36mrun_pipeline_self\u001b[0m:\u001b[36m79\u001b[0m - \u001b[1m%245 - Running pipeline for row_seed: 412 and size_of_unlabelled_data: 0.5 and model: KNeighborsClassifier(metric='manhattan', n_neighbors=9, weights='distance')\u001b[0m\n",
      "\u001b[32m2023-10-22 14:25:54.434\u001b[0m | \u001b[1mINFO    \u001b[0m | \u001b[36m__main__\u001b[0m:\u001b[36mrun_pipeline_self\u001b[0m:\u001b[36m79\u001b[0m - \u001b[1m%246 - Running pipeline for row_seed: 214 and size_of_unlabelled_data: 0.5 and model: KNeighborsClassifier(metric='manhattan', n_neighbors=9, weights='distance')\u001b[0m\n",
      "\u001b[32m2023-10-22 14:25:54.488\u001b[0m | \u001b[1mINFO    \u001b[0m | \u001b[36m__main__\u001b[0m:\u001b[36mrun_pipeline_self\u001b[0m:\u001b[36m79\u001b[0m - \u001b[1m%247 - Running pipeline for row_seed: 754 and size_of_unlabelled_data: 0.5 and model: KNeighborsClassifier(metric='manhattan', n_neighbors=9, weights='distance')\u001b[0m\n",
      "\u001b[32m2023-10-22 14:25:54.542\u001b[0m | \u001b[1mINFO    \u001b[0m | \u001b[36m__main__\u001b[0m:\u001b[36mrun_pipeline_self\u001b[0m:\u001b[36m79\u001b[0m - \u001b[1m%248 - Running pipeline for row_seed: 457 and size_of_unlabelled_data: 0.5 and model: KNeighborsClassifier(metric='manhattan', n_neighbors=9, weights='distance')\u001b[0m\n",
      "\u001b[32m2023-10-22 14:25:54.593\u001b[0m | \u001b[1mINFO    \u001b[0m | \u001b[36m__main__\u001b[0m:\u001b[36mrun_pipeline_self\u001b[0m:\u001b[36m79\u001b[0m - \u001b[1m%249 - Running pipeline for row_seed: 2023 and size_of_unlabelled_data: 0.5 and model: KNeighborsClassifier(metric='manhattan', n_neighbors=9, weights='distance')\u001b[0m\n",
      "\u001b[32m2023-10-22 14:25:54.643\u001b[0m | \u001b[1mINFO    \u001b[0m | \u001b[36m__main__\u001b[0m:\u001b[36mrun_pipeline_self\u001b[0m:\u001b[36m79\u001b[0m - \u001b[1m%250 - Running pipeline for row_seed: 3202 and size_of_unlabelled_data: 0.5 and model: KNeighborsClassifier(metric='manhattan', n_neighbors=9, weights='distance')\u001b[0m\n",
      "\u001b[32m2023-10-22 14:25:54.690\u001b[0m | \u001b[1mINFO    \u001b[0m | \u001b[36m__main__\u001b[0m:\u001b[36mrun_pipeline_self\u001b[0m:\u001b[36m75\u001b[0m - \u001b[1mModel: KNeighborsClassifier(metric='manhattan', n_neighbors=9, weights='distance')\u001b[0m\n",
      "\u001b[32m2023-10-22 14:25:54.690\u001b[0m | \u001b[1mINFO    \u001b[0m | \u001b[36m__main__\u001b[0m:\u001b[36mrun_pipeline_self\u001b[0m:\u001b[36m76\u001b[0m - \u001b[1mSize of unlabelled data: 0.6\u001b[0m\n",
      "\u001b[32m2023-10-22 14:25:54.691\u001b[0m | \u001b[1mINFO    \u001b[0m | \u001b[36m__main__\u001b[0m:\u001b[36mrun_pipeline_self\u001b[0m:\u001b[36m79\u001b[0m - \u001b[1m%251 - Running pipeline for row_seed: 24 and size_of_unlabelled_data: 0.6 and model: KNeighborsClassifier(metric='manhattan', n_neighbors=9, weights='distance')\u001b[0m\n",
      "\u001b[32m2023-10-22 14:25:54.743\u001b[0m | \u001b[1mINFO    \u001b[0m | \u001b[36m__main__\u001b[0m:\u001b[36mrun_pipeline_self\u001b[0m:\u001b[36m79\u001b[0m - \u001b[1m%252 - Running pipeline for row_seed: 42 and size_of_unlabelled_data: 0.6 and model: KNeighborsClassifier(metric='manhattan', n_neighbors=9, weights='distance')\u001b[0m\n",
      "\u001b[32m2023-10-22 14:25:54.796\u001b[0m | \u001b[1mINFO    \u001b[0m | \u001b[36m__main__\u001b[0m:\u001b[36mrun_pipeline_self\u001b[0m:\u001b[36m79\u001b[0m - \u001b[1m%253 - Running pipeline for row_seed: 206 and size_of_unlabelled_data: 0.6 and model: KNeighborsClassifier(metric='manhattan', n_neighbors=9, weights='distance')\u001b[0m\n",
      "\u001b[32m2023-10-22 14:25:54.867\u001b[0m | \u001b[1mINFO    \u001b[0m | \u001b[36m__main__\u001b[0m:\u001b[36mrun_pipeline_self\u001b[0m:\u001b[36m79\u001b[0m - \u001b[1m%254 - Running pipeline for row_seed: 602 and size_of_unlabelled_data: 0.6 and model: KNeighborsClassifier(metric='manhattan', n_neighbors=9, weights='distance')\u001b[0m\n"
     ]
    },
    {
     "name": "stdout",
     "output_type": "stream",
     "text": [
      "\n",
      "\n"
     ]
    },
    {
     "name": "stderr",
     "output_type": "stream",
     "text": [
      "\u001b[32m2023-10-22 14:25:54.918\u001b[0m | \u001b[1mINFO    \u001b[0m | \u001b[36m__main__\u001b[0m:\u001b[36mrun_pipeline_self\u001b[0m:\u001b[36m79\u001b[0m - \u001b[1m%255 - Running pipeline for row_seed: 412 and size_of_unlabelled_data: 0.6 and model: KNeighborsClassifier(metric='manhattan', n_neighbors=9, weights='distance')\u001b[0m\n",
      "\u001b[32m2023-10-22 14:25:54.978\u001b[0m | \u001b[1mINFO    \u001b[0m | \u001b[36m__main__\u001b[0m:\u001b[36mrun_pipeline_self\u001b[0m:\u001b[36m79\u001b[0m - \u001b[1m%256 - Running pipeline for row_seed: 214 and size_of_unlabelled_data: 0.6 and model: KNeighborsClassifier(metric='manhattan', n_neighbors=9, weights='distance')\u001b[0m\n",
      "\u001b[32m2023-10-22 14:25:55.031\u001b[0m | \u001b[1mINFO    \u001b[0m | \u001b[36m__main__\u001b[0m:\u001b[36mrun_pipeline_self\u001b[0m:\u001b[36m79\u001b[0m - \u001b[1m%257 - Running pipeline for row_seed: 754 and size_of_unlabelled_data: 0.6 and model: KNeighborsClassifier(metric='manhattan', n_neighbors=9, weights='distance')\u001b[0m\n",
      "\u001b[32m2023-10-22 14:25:55.079\u001b[0m | \u001b[1mINFO    \u001b[0m | \u001b[36m__main__\u001b[0m:\u001b[36mrun_pipeline_self\u001b[0m:\u001b[36m79\u001b[0m - \u001b[1m%258 - Running pipeline for row_seed: 457 and size_of_unlabelled_data: 0.6 and model: KNeighborsClassifier(metric='manhattan', n_neighbors=9, weights='distance')\u001b[0m\n",
      "\u001b[32m2023-10-22 14:25:55.125\u001b[0m | \u001b[1mINFO    \u001b[0m | \u001b[36m__main__\u001b[0m:\u001b[36mrun_pipeline_self\u001b[0m:\u001b[36m79\u001b[0m - \u001b[1m%259 - Running pipeline for row_seed: 2023 and size_of_unlabelled_data: 0.6 and model: KNeighborsClassifier(metric='manhattan', n_neighbors=9, weights='distance')\u001b[0m\n",
      "\u001b[32m2023-10-22 14:25:55.179\u001b[0m | \u001b[1mINFO    \u001b[0m | \u001b[36m__main__\u001b[0m:\u001b[36mrun_pipeline_self\u001b[0m:\u001b[36m79\u001b[0m - \u001b[1m%260 - Running pipeline for row_seed: 3202 and size_of_unlabelled_data: 0.6 and model: KNeighborsClassifier(metric='manhattan', n_neighbors=9, weights='distance')\u001b[0m\n",
      "\u001b[32m2023-10-22 14:25:55.227\u001b[0m | \u001b[1mINFO    \u001b[0m | \u001b[36m__main__\u001b[0m:\u001b[36mrun_pipeline_self\u001b[0m:\u001b[36m75\u001b[0m - \u001b[1mModel: KNeighborsClassifier(metric='manhattan', n_neighbors=9, weights='distance')\u001b[0m\n",
      "\u001b[32m2023-10-22 14:25:55.227\u001b[0m | \u001b[1mINFO    \u001b[0m | \u001b[36m__main__\u001b[0m:\u001b[36mrun_pipeline_self\u001b[0m:\u001b[36m76\u001b[0m - \u001b[1mSize of unlabelled data: 0.7\u001b[0m\n",
      "\u001b[32m2023-10-22 14:25:55.228\u001b[0m | \u001b[1mINFO    \u001b[0m | \u001b[36m__main__\u001b[0m:\u001b[36mrun_pipeline_self\u001b[0m:\u001b[36m79\u001b[0m - \u001b[1m%261 - Running pipeline for row_seed: 24 and size_of_unlabelled_data: 0.7 and model: KNeighborsClassifier(metric='manhattan', n_neighbors=9, weights='distance')\u001b[0m\n",
      "\u001b[32m2023-10-22 14:25:55.278\u001b[0m | \u001b[1mINFO    \u001b[0m | \u001b[36m__main__\u001b[0m:\u001b[36mrun_pipeline_self\u001b[0m:\u001b[36m79\u001b[0m - \u001b[1m%262 - Running pipeline for row_seed: 42 and size_of_unlabelled_data: 0.7 and model: KNeighborsClassifier(metric='manhattan', n_neighbors=9, weights='distance')\u001b[0m\n",
      "\u001b[32m2023-10-22 14:25:55.327\u001b[0m | \u001b[1mINFO    \u001b[0m | \u001b[36m__main__\u001b[0m:\u001b[36mrun_pipeline_self\u001b[0m:\u001b[36m79\u001b[0m - \u001b[1m%263 - Running pipeline for row_seed: 206 and size_of_unlabelled_data: 0.7 and model: KNeighborsClassifier(metric='manhattan', n_neighbors=9, weights='distance')\u001b[0m\n",
      "\u001b[32m2023-10-22 14:25:55.374\u001b[0m | \u001b[1mINFO    \u001b[0m | \u001b[36m__main__\u001b[0m:\u001b[36mrun_pipeline_self\u001b[0m:\u001b[36m79\u001b[0m - \u001b[1m%264 - Running pipeline for row_seed: 602 and size_of_unlabelled_data: 0.7 and model: KNeighborsClassifier(metric='manhattan', n_neighbors=9, weights='distance')\u001b[0m\n",
      "\u001b[32m2023-10-22 14:25:55.425\u001b[0m | \u001b[1mINFO    \u001b[0m | \u001b[36m__main__\u001b[0m:\u001b[36mrun_pipeline_self\u001b[0m:\u001b[36m79\u001b[0m - \u001b[1m%265 - Running pipeline for row_seed: 412 and size_of_unlabelled_data: 0.7 and model: KNeighborsClassifier(metric='manhattan', n_neighbors=9, weights='distance')\u001b[0m\n"
     ]
    },
    {
     "name": "stdout",
     "output_type": "stream",
     "text": [
      "\n",
      "\n"
     ]
    },
    {
     "name": "stderr",
     "output_type": "stream",
     "text": [
      "\u001b[32m2023-10-22 14:25:55.479\u001b[0m | \u001b[1mINFO    \u001b[0m | \u001b[36m__main__\u001b[0m:\u001b[36mrun_pipeline_self\u001b[0m:\u001b[36m79\u001b[0m - \u001b[1m%266 - Running pipeline for row_seed: 214 and size_of_unlabelled_data: 0.7 and model: KNeighborsClassifier(metric='manhattan', n_neighbors=9, weights='distance')\u001b[0m\n",
      "\u001b[32m2023-10-22 14:25:55.527\u001b[0m | \u001b[1mINFO    \u001b[0m | \u001b[36m__main__\u001b[0m:\u001b[36mrun_pipeline_self\u001b[0m:\u001b[36m79\u001b[0m - \u001b[1m%267 - Running pipeline for row_seed: 754 and size_of_unlabelled_data: 0.7 and model: KNeighborsClassifier(metric='manhattan', n_neighbors=9, weights='distance')\u001b[0m\n",
      "\u001b[32m2023-10-22 14:25:55.582\u001b[0m | \u001b[1mINFO    \u001b[0m | \u001b[36m__main__\u001b[0m:\u001b[36mrun_pipeline_self\u001b[0m:\u001b[36m79\u001b[0m - \u001b[1m%268 - Running pipeline for row_seed: 457 and size_of_unlabelled_data: 0.7 and model: KNeighborsClassifier(metric='manhattan', n_neighbors=9, weights='distance')\u001b[0m\n",
      "\u001b[32m2023-10-22 14:25:55.630\u001b[0m | \u001b[1mINFO    \u001b[0m | \u001b[36m__main__\u001b[0m:\u001b[36mrun_pipeline_self\u001b[0m:\u001b[36m79\u001b[0m - \u001b[1m%269 - Running pipeline for row_seed: 2023 and size_of_unlabelled_data: 0.7 and model: KNeighborsClassifier(metric='manhattan', n_neighbors=9, weights='distance')\u001b[0m\n",
      "\u001b[32m2023-10-22 14:25:55.683\u001b[0m | \u001b[1mINFO    \u001b[0m | \u001b[36m__main__\u001b[0m:\u001b[36mrun_pipeline_self\u001b[0m:\u001b[36m79\u001b[0m - \u001b[1m%270 - Running pipeline for row_seed: 3202 and size_of_unlabelled_data: 0.7 and model: KNeighborsClassifier(metric='manhattan', n_neighbors=9, weights='distance')\u001b[0m\n",
      "\u001b[32m2023-10-22 14:25:55.729\u001b[0m | \u001b[1mINFO    \u001b[0m | \u001b[36m__main__\u001b[0m:\u001b[36mrun_pipeline_self\u001b[0m:\u001b[36m75\u001b[0m - \u001b[1mModel: KNeighborsClassifier(metric='manhattan', n_neighbors=9, weights='distance')\u001b[0m\n",
      "\u001b[32m2023-10-22 14:25:55.729\u001b[0m | \u001b[1mINFO    \u001b[0m | \u001b[36m__main__\u001b[0m:\u001b[36mrun_pipeline_self\u001b[0m:\u001b[36m76\u001b[0m - \u001b[1mSize of unlabelled data: 0.8\u001b[0m\n",
      "\u001b[32m2023-10-22 14:25:55.730\u001b[0m | \u001b[1mINFO    \u001b[0m | \u001b[36m__main__\u001b[0m:\u001b[36mrun_pipeline_self\u001b[0m:\u001b[36m79\u001b[0m - \u001b[1m%271 - Running pipeline for row_seed: 24 and size_of_unlabelled_data: 0.8 and model: KNeighborsClassifier(metric='manhattan', n_neighbors=9, weights='distance')\u001b[0m\n",
      "\u001b[32m2023-10-22 14:25:55.779\u001b[0m | \u001b[1mINFO    \u001b[0m | \u001b[36m__main__\u001b[0m:\u001b[36mrun_pipeline_self\u001b[0m:\u001b[36m79\u001b[0m - \u001b[1m%272 - Running pipeline for row_seed: 42 and size_of_unlabelled_data: 0.8 and model: KNeighborsClassifier(metric='manhattan', n_neighbors=9, weights='distance')\u001b[0m\n",
      "\u001b[32m2023-10-22 14:25:55.833\u001b[0m | \u001b[1mINFO    \u001b[0m | \u001b[36m__main__\u001b[0m:\u001b[36mrun_pipeline_self\u001b[0m:\u001b[36m79\u001b[0m - \u001b[1m%273 - Running pipeline for row_seed: 206 and size_of_unlabelled_data: 0.8 and model: KNeighborsClassifier(metric='manhattan', n_neighbors=9, weights='distance')\u001b[0m\n",
      "\u001b[32m2023-10-22 14:25:55.888\u001b[0m | \u001b[1mINFO    \u001b[0m | \u001b[36m__main__\u001b[0m:\u001b[36mrun_pipeline_self\u001b[0m:\u001b[36m79\u001b[0m - \u001b[1m%274 - Running pipeline for row_seed: 602 and size_of_unlabelled_data: 0.8 and model: KNeighborsClassifier(metric='manhattan', n_neighbors=9, weights='distance')\u001b[0m\n"
     ]
    },
    {
     "name": "stdout",
     "output_type": "stream",
     "text": [
      "\n",
      "\n"
     ]
    },
    {
     "name": "stderr",
     "output_type": "stream",
     "text": [
      "\u001b[32m2023-10-22 14:25:55.935\u001b[0m | \u001b[1mINFO    \u001b[0m | \u001b[36m__main__\u001b[0m:\u001b[36mrun_pipeline_self\u001b[0m:\u001b[36m79\u001b[0m - \u001b[1m%275 - Running pipeline for row_seed: 412 and size_of_unlabelled_data: 0.8 and model: KNeighborsClassifier(metric='manhattan', n_neighbors=9, weights='distance')\u001b[0m\n",
      "\u001b[32m2023-10-22 14:25:55.987\u001b[0m | \u001b[1mINFO    \u001b[0m | \u001b[36m__main__\u001b[0m:\u001b[36mrun_pipeline_self\u001b[0m:\u001b[36m79\u001b[0m - \u001b[1m%276 - Running pipeline for row_seed: 214 and size_of_unlabelled_data: 0.8 and model: KNeighborsClassifier(metric='manhattan', n_neighbors=9, weights='distance')\u001b[0m\n",
      "\u001b[32m2023-10-22 14:25:56.035\u001b[0m | \u001b[1mINFO    \u001b[0m | \u001b[36m__main__\u001b[0m:\u001b[36mrun_pipeline_self\u001b[0m:\u001b[36m79\u001b[0m - \u001b[1m%277 - Running pipeline for row_seed: 754 and size_of_unlabelled_data: 0.8 and model: KNeighborsClassifier(metric='manhattan', n_neighbors=9, weights='distance')\u001b[0m\n",
      "\u001b[32m2023-10-22 14:25:56.084\u001b[0m | \u001b[1mINFO    \u001b[0m | \u001b[36m__main__\u001b[0m:\u001b[36mrun_pipeline_self\u001b[0m:\u001b[36m79\u001b[0m - \u001b[1m%278 - Running pipeline for row_seed: 457 and size_of_unlabelled_data: 0.8 and model: KNeighborsClassifier(metric='manhattan', n_neighbors=9, weights='distance')\u001b[0m\n",
      "\u001b[32m2023-10-22 14:25:56.129\u001b[0m | \u001b[1mINFO    \u001b[0m | \u001b[36m__main__\u001b[0m:\u001b[36mrun_pipeline_self\u001b[0m:\u001b[36m79\u001b[0m - \u001b[1m%279 - Running pipeline for row_seed: 2023 and size_of_unlabelled_data: 0.8 and model: KNeighborsClassifier(metric='manhattan', n_neighbors=9, weights='distance')\u001b[0m\n",
      "\u001b[32m2023-10-22 14:25:56.188\u001b[0m | \u001b[1mINFO    \u001b[0m | \u001b[36m__main__\u001b[0m:\u001b[36mrun_pipeline_self\u001b[0m:\u001b[36m79\u001b[0m - \u001b[1m%280 - Running pipeline for row_seed: 3202 and size_of_unlabelled_data: 0.8 and model: KNeighborsClassifier(metric='manhattan', n_neighbors=9, weights='distance')\u001b[0m\n",
      "\u001b[32m2023-10-22 14:25:56.244\u001b[0m | \u001b[1mINFO    \u001b[0m | \u001b[36m__main__\u001b[0m:\u001b[36mrun_pipeline_self\u001b[0m:\u001b[36m75\u001b[0m - \u001b[1mModel: KNeighborsClassifier(metric='manhattan', n_neighbors=9, weights='distance')\u001b[0m\n",
      "\u001b[32m2023-10-22 14:25:56.245\u001b[0m | \u001b[1mINFO    \u001b[0m | \u001b[36m__main__\u001b[0m:\u001b[36mrun_pipeline_self\u001b[0m:\u001b[36m76\u001b[0m - \u001b[1mSize of unlabelled data: 0.85\u001b[0m\n",
      "\u001b[32m2023-10-22 14:25:56.245\u001b[0m | \u001b[1mINFO    \u001b[0m | \u001b[36m__main__\u001b[0m:\u001b[36mrun_pipeline_self\u001b[0m:\u001b[36m79\u001b[0m - \u001b[1m%281 - Running pipeline for row_seed: 24 and size_of_unlabelled_data: 0.85 and model: KNeighborsClassifier(metric='manhattan', n_neighbors=9, weights='distance')\u001b[0m\n",
      "\u001b[32m2023-10-22 14:25:56.292\u001b[0m | \u001b[1mINFO    \u001b[0m | \u001b[36m__main__\u001b[0m:\u001b[36mrun_pipeline_self\u001b[0m:\u001b[36m79\u001b[0m - \u001b[1m%282 - Running pipeline for row_seed: 42 and size_of_unlabelled_data: 0.85 and model: KNeighborsClassifier(metric='manhattan', n_neighbors=9, weights='distance')\u001b[0m\n",
      "\u001b[32m2023-10-22 14:25:56.345\u001b[0m | \u001b[1mINFO    \u001b[0m | \u001b[36m__main__\u001b[0m:\u001b[36mrun_pipeline_self\u001b[0m:\u001b[36m79\u001b[0m - \u001b[1m%283 - Running pipeline for row_seed: 206 and size_of_unlabelled_data: 0.85 and model: KNeighborsClassifier(metric='manhattan', n_neighbors=9, weights='distance')\u001b[0m\n",
      "\u001b[32m2023-10-22 14:25:56.400\u001b[0m | \u001b[1mINFO    \u001b[0m | \u001b[36m__main__\u001b[0m:\u001b[36mrun_pipeline_self\u001b[0m:\u001b[36m79\u001b[0m - \u001b[1m%284 - Running pipeline for row_seed: 602 and size_of_unlabelled_data: 0.85 and model: KNeighborsClassifier(metric='manhattan', n_neighbors=9, weights='distance')\u001b[0m\n"
     ]
    },
    {
     "name": "stdout",
     "output_type": "stream",
     "text": [
      "\n",
      "\n"
     ]
    },
    {
     "name": "stderr",
     "output_type": "stream",
     "text": [
      "\u001b[32m2023-10-22 14:25:56.451\u001b[0m | \u001b[1mINFO    \u001b[0m | \u001b[36m__main__\u001b[0m:\u001b[36mrun_pipeline_self\u001b[0m:\u001b[36m79\u001b[0m - \u001b[1m%285 - Running pipeline for row_seed: 412 and size_of_unlabelled_data: 0.85 and model: KNeighborsClassifier(metric='manhattan', n_neighbors=9, weights='distance')\u001b[0m\n",
      "\u001b[32m2023-10-22 14:25:56.498\u001b[0m | \u001b[1mINFO    \u001b[0m | \u001b[36m__main__\u001b[0m:\u001b[36mrun_pipeline_self\u001b[0m:\u001b[36m79\u001b[0m - \u001b[1m%286 - Running pipeline for row_seed: 214 and size_of_unlabelled_data: 0.85 and model: KNeighborsClassifier(metric='manhattan', n_neighbors=9, weights='distance')\u001b[0m\n",
      "\u001b[32m2023-10-22 14:25:56.547\u001b[0m | \u001b[1mINFO    \u001b[0m | \u001b[36m__main__\u001b[0m:\u001b[36mrun_pipeline_self\u001b[0m:\u001b[36m79\u001b[0m - \u001b[1m%287 - Running pipeline for row_seed: 754 and size_of_unlabelled_data: 0.85 and model: KNeighborsClassifier(metric='manhattan', n_neighbors=9, weights='distance')\u001b[0m\n",
      "\u001b[32m2023-10-22 14:25:56.595\u001b[0m | \u001b[1mINFO    \u001b[0m | \u001b[36m__main__\u001b[0m:\u001b[36mrun_pipeline_self\u001b[0m:\u001b[36m79\u001b[0m - \u001b[1m%288 - Running pipeline for row_seed: 457 and size_of_unlabelled_data: 0.85 and model: KNeighborsClassifier(metric='manhattan', n_neighbors=9, weights='distance')\u001b[0m\n",
      "\u001b[32m2023-10-22 14:25:56.637\u001b[0m | \u001b[1mINFO    \u001b[0m | \u001b[36m__main__\u001b[0m:\u001b[36mrun_pipeline_self\u001b[0m:\u001b[36m79\u001b[0m - \u001b[1m%289 - Running pipeline for row_seed: 2023 and size_of_unlabelled_data: 0.85 and model: KNeighborsClassifier(metric='manhattan', n_neighbors=9, weights='distance')\u001b[0m\n",
      "\u001b[32m2023-10-22 14:25:56.688\u001b[0m | \u001b[1mINFO    \u001b[0m | \u001b[36m__main__\u001b[0m:\u001b[36mrun_pipeline_self\u001b[0m:\u001b[36m79\u001b[0m - \u001b[1m%290 - Running pipeline for row_seed: 3202 and size_of_unlabelled_data: 0.85 and model: KNeighborsClassifier(metric='manhattan', n_neighbors=9, weights='distance')\u001b[0m\n",
      "\u001b[32m2023-10-22 14:25:56.739\u001b[0m | \u001b[1mINFO    \u001b[0m | \u001b[36m__main__\u001b[0m:\u001b[36mrun_pipeline_self\u001b[0m:\u001b[36m75\u001b[0m - \u001b[1mModel: KNeighborsClassifier(metric='manhattan', n_neighbors=9, weights='distance')\u001b[0m\n",
      "\u001b[32m2023-10-22 14:25:56.740\u001b[0m | \u001b[1mINFO    \u001b[0m | \u001b[36m__main__\u001b[0m:\u001b[36mrun_pipeline_self\u001b[0m:\u001b[36m76\u001b[0m - \u001b[1mSize of unlabelled data: 0.9\u001b[0m\n",
      "\u001b[32m2023-10-22 14:25:56.740\u001b[0m | \u001b[1mINFO    \u001b[0m | \u001b[36m__main__\u001b[0m:\u001b[36mrun_pipeline_self\u001b[0m:\u001b[36m79\u001b[0m - \u001b[1m%291 - Running pipeline for row_seed: 24 and size_of_unlabelled_data: 0.9 and model: KNeighborsClassifier(metric='manhattan', n_neighbors=9, weights='distance')\u001b[0m\n",
      "\u001b[32m2023-10-22 14:25:56.784\u001b[0m | \u001b[1mINFO    \u001b[0m | \u001b[36m__main__\u001b[0m:\u001b[36mrun_pipeline_self\u001b[0m:\u001b[36m79\u001b[0m - \u001b[1m%292 - Running pipeline for row_seed: 42 and size_of_unlabelled_data: 0.9 and model: KNeighborsClassifier(metric='manhattan', n_neighbors=9, weights='distance')\u001b[0m\n",
      "\u001b[32m2023-10-22 14:25:56.835\u001b[0m | \u001b[1mINFO    \u001b[0m | \u001b[36m__main__\u001b[0m:\u001b[36mrun_pipeline_self\u001b[0m:\u001b[36m79\u001b[0m - \u001b[1m%293 - Running pipeline for row_seed: 206 and size_of_unlabelled_data: 0.9 and model: KNeighborsClassifier(metric='manhattan', n_neighbors=9, weights='distance')\u001b[0m\n",
      "\u001b[32m2023-10-22 14:25:56.883\u001b[0m | \u001b[1mINFO    \u001b[0m | \u001b[36m__main__\u001b[0m:\u001b[36mrun_pipeline_self\u001b[0m:\u001b[36m79\u001b[0m - \u001b[1m%294 - Running pipeline for row_seed: 602 and size_of_unlabelled_data: 0.9 and model: KNeighborsClassifier(metric='manhattan', n_neighbors=9, weights='distance')\u001b[0m\n",
      "\u001b[32m2023-10-22 14:25:56.932\u001b[0m | \u001b[1mINFO    \u001b[0m | \u001b[36m__main__\u001b[0m:\u001b[36mrun_pipeline_self\u001b[0m:\u001b[36m79\u001b[0m - \u001b[1m%295 - Running pipeline for row_seed: 412 and size_of_unlabelled_data: 0.9 and model: KNeighborsClassifier(metric='manhattan', n_neighbors=9, weights='distance')\u001b[0m\n"
     ]
    },
    {
     "name": "stdout",
     "output_type": "stream",
     "text": [
      "\n",
      "\n"
     ]
    },
    {
     "name": "stderr",
     "output_type": "stream",
     "text": [
      "\u001b[32m2023-10-22 14:25:56.991\u001b[0m | \u001b[1mINFO    \u001b[0m | \u001b[36m__main__\u001b[0m:\u001b[36mrun_pipeline_self\u001b[0m:\u001b[36m79\u001b[0m - \u001b[1m%296 - Running pipeline for row_seed: 214 and size_of_unlabelled_data: 0.9 and model: KNeighborsClassifier(metric='manhattan', n_neighbors=9, weights='distance')\u001b[0m\n",
      "\u001b[32m2023-10-22 14:25:57.035\u001b[0m | \u001b[1mINFO    \u001b[0m | \u001b[36m__main__\u001b[0m:\u001b[36mrun_pipeline_self\u001b[0m:\u001b[36m79\u001b[0m - \u001b[1m%297 - Running pipeline for row_seed: 754 and size_of_unlabelled_data: 0.9 and model: KNeighborsClassifier(metric='manhattan', n_neighbors=9, weights='distance')\u001b[0m\n",
      "\u001b[32m2023-10-22 14:25:57.085\u001b[0m | \u001b[1mINFO    \u001b[0m | \u001b[36m__main__\u001b[0m:\u001b[36mrun_pipeline_self\u001b[0m:\u001b[36m79\u001b[0m - \u001b[1m%298 - Running pipeline for row_seed: 457 and size_of_unlabelled_data: 0.9 and model: KNeighborsClassifier(metric='manhattan', n_neighbors=9, weights='distance')\u001b[0m\n",
      "\u001b[32m2023-10-22 14:25:57.130\u001b[0m | \u001b[1mINFO    \u001b[0m | \u001b[36m__main__\u001b[0m:\u001b[36mrun_pipeline_self\u001b[0m:\u001b[36m79\u001b[0m - \u001b[1m%299 - Running pipeline for row_seed: 2023 and size_of_unlabelled_data: 0.9 and model: KNeighborsClassifier(metric='manhattan', n_neighbors=9, weights='distance')\u001b[0m\n",
      "\u001b[32m2023-10-22 14:25:57.191\u001b[0m | \u001b[1mINFO    \u001b[0m | \u001b[36m__main__\u001b[0m:\u001b[36mrun_pipeline_self\u001b[0m:\u001b[36m79\u001b[0m - \u001b[1m%300 - Running pipeline for row_seed: 3202 and size_of_unlabelled_data: 0.9 and model: KNeighborsClassifier(metric='manhattan', n_neighbors=9, weights='distance')\u001b[0m\n",
      "\u001b[32m2023-10-22 14:25:57.240\u001b[0m | \u001b[1mINFO    \u001b[0m | \u001b[36m__main__\u001b[0m:\u001b[36mrun_pipeline_self\u001b[0m:\u001b[36m75\u001b[0m - \u001b[1mModel: RandomForestClassifier(max_depth=11)\u001b[0m\n",
      "\u001b[32m2023-10-22 14:25:57.240\u001b[0m | \u001b[1mINFO    \u001b[0m | \u001b[36m__main__\u001b[0m:\u001b[36mrun_pipeline_self\u001b[0m:\u001b[36m76\u001b[0m - \u001b[1mSize of unlabelled data: 0.1\u001b[0m\n",
      "\u001b[32m2023-10-22 14:25:57.241\u001b[0m | \u001b[1mINFO    \u001b[0m | \u001b[36m__main__\u001b[0m:\u001b[36mrun_pipeline_self\u001b[0m:\u001b[36m79\u001b[0m - \u001b[1m%301 - Running pipeline for row_seed: 24 and size_of_unlabelled_data: 0.1 and model: RandomForestClassifier(max_depth=11)\u001b[0m\n"
     ]
    },
    {
     "name": "stdout",
     "output_type": "stream",
     "text": [
      "\n",
      "\n"
     ]
    },
    {
     "name": "stderr",
     "output_type": "stream",
     "text": [
      "\u001b[32m2023-10-22 14:25:59.081\u001b[0m | \u001b[1mINFO    \u001b[0m | \u001b[36m__main__\u001b[0m:\u001b[36mrun_pipeline_self\u001b[0m:\u001b[36m79\u001b[0m - \u001b[1m%302 - Running pipeline for row_seed: 42 and size_of_unlabelled_data: 0.1 and model: RandomForestClassifier(max_depth=11)\u001b[0m\n",
      "\u001b[32m2023-10-22 14:26:00.579\u001b[0m | \u001b[1mINFO    \u001b[0m | \u001b[36m__main__\u001b[0m:\u001b[36mrun_pipeline_self\u001b[0m:\u001b[36m79\u001b[0m - \u001b[1m%303 - Running pipeline for row_seed: 206 and size_of_unlabelled_data: 0.1 and model: RandomForestClassifier(max_depth=11)\u001b[0m\n",
      "\u001b[32m2023-10-22 14:26:03.034\u001b[0m | \u001b[1mINFO    \u001b[0m | \u001b[36m__main__\u001b[0m:\u001b[36mrun_pipeline_self\u001b[0m:\u001b[36m79\u001b[0m - \u001b[1m%304 - Running pipeline for row_seed: 602 and size_of_unlabelled_data: 0.1 and model: RandomForestClassifier(max_depth=11)\u001b[0m\n",
      "\u001b[32m2023-10-22 14:26:04.257\u001b[0m | \u001b[1mINFO    \u001b[0m | \u001b[36m__main__\u001b[0m:\u001b[36mrun_pipeline_self\u001b[0m:\u001b[36m79\u001b[0m - \u001b[1m%305 - Running pipeline for row_seed: 412 and size_of_unlabelled_data: 0.1 and model: RandomForestClassifier(max_depth=11)\u001b[0m\n",
      "\u001b[32m2023-10-22 14:26:06.337\u001b[0m | \u001b[1mINFO    \u001b[0m | \u001b[36m__main__\u001b[0m:\u001b[36mrun_pipeline_self\u001b[0m:\u001b[36m79\u001b[0m - \u001b[1m%306 - Running pipeline for row_seed: 214 and size_of_unlabelled_data: 0.1 and model: RandomForestClassifier(max_depth=11)\u001b[0m\n",
      "\u001b[32m2023-10-22 14:26:08.652\u001b[0m | \u001b[1mINFO    \u001b[0m | \u001b[36m__main__\u001b[0m:\u001b[36mrun_pipeline_self\u001b[0m:\u001b[36m79\u001b[0m - \u001b[1m%307 - Running pipeline for row_seed: 754 and size_of_unlabelled_data: 0.1 and model: RandomForestClassifier(max_depth=11)\u001b[0m\n",
      "\u001b[32m2023-10-22 14:26:10.383\u001b[0m | \u001b[1mINFO    \u001b[0m | \u001b[36m__main__\u001b[0m:\u001b[36mrun_pipeline_self\u001b[0m:\u001b[36m79\u001b[0m - \u001b[1m%308 - Running pipeline for row_seed: 457 and size_of_unlabelled_data: 0.1 and model: RandomForestClassifier(max_depth=11)\u001b[0m\n",
      "\u001b[32m2023-10-22 14:26:12.718\u001b[0m | \u001b[1mINFO    \u001b[0m | \u001b[36m__main__\u001b[0m:\u001b[36mrun_pipeline_self\u001b[0m:\u001b[36m79\u001b[0m - \u001b[1m%309 - Running pipeline for row_seed: 2023 and size_of_unlabelled_data: 0.1 and model: RandomForestClassifier(max_depth=11)\u001b[0m\n",
      "\u001b[32m2023-10-22 14:26:14.525\u001b[0m | \u001b[1mINFO    \u001b[0m | \u001b[36m__main__\u001b[0m:\u001b[36mrun_pipeline_self\u001b[0m:\u001b[36m79\u001b[0m - \u001b[1m%310 - Running pipeline for row_seed: 3202 and size_of_unlabelled_data: 0.1 and model: RandomForestClassifier(max_depth=11)\u001b[0m\n",
      "\u001b[32m2023-10-22 14:26:16.617\u001b[0m | \u001b[1mINFO    \u001b[0m | \u001b[36m__main__\u001b[0m:\u001b[36mrun_pipeline_self\u001b[0m:\u001b[36m75\u001b[0m - \u001b[1mModel: RandomForestClassifier(max_depth=11)\u001b[0m\n",
      "\u001b[32m2023-10-22 14:26:16.618\u001b[0m | \u001b[1mINFO    \u001b[0m | \u001b[36m__main__\u001b[0m:\u001b[36mrun_pipeline_self\u001b[0m:\u001b[36m76\u001b[0m - \u001b[1mSize of unlabelled data: 0.2\u001b[0m\n",
      "\u001b[32m2023-10-22 14:26:16.619\u001b[0m | \u001b[1mINFO    \u001b[0m | \u001b[36m__main__\u001b[0m:\u001b[36mrun_pipeline_self\u001b[0m:\u001b[36m79\u001b[0m - \u001b[1m%311 - Running pipeline for row_seed: 24 and size_of_unlabelled_data: 0.2 and model: RandomForestClassifier(max_depth=11)\u001b[0m\n"
     ]
    },
    {
     "name": "stdout",
     "output_type": "stream",
     "text": [
      "\n",
      "\n"
     ]
    },
    {
     "name": "stderr",
     "output_type": "stream",
     "text": [
      "\u001b[32m2023-10-22 14:26:18.805\u001b[0m | \u001b[1mINFO    \u001b[0m | \u001b[36m__main__\u001b[0m:\u001b[36mrun_pipeline_self\u001b[0m:\u001b[36m79\u001b[0m - \u001b[1m%312 - Running pipeline for row_seed: 42 and size_of_unlabelled_data: 0.2 and model: RandomForestClassifier(max_depth=11)\u001b[0m\n",
      "\u001b[32m2023-10-22 14:26:22.046\u001b[0m | \u001b[1mINFO    \u001b[0m | \u001b[36m__main__\u001b[0m:\u001b[36mrun_pipeline_self\u001b[0m:\u001b[36m79\u001b[0m - \u001b[1m%313 - Running pipeline for row_seed: 206 and size_of_unlabelled_data: 0.2 and model: RandomForestClassifier(max_depth=11)\u001b[0m\n",
      "\u001b[32m2023-10-22 14:26:25.284\u001b[0m | \u001b[1mINFO    \u001b[0m | \u001b[36m__main__\u001b[0m:\u001b[36mrun_pipeline_self\u001b[0m:\u001b[36m79\u001b[0m - \u001b[1m%314 - Running pipeline for row_seed: 602 and size_of_unlabelled_data: 0.2 and model: RandomForestClassifier(max_depth=11)\u001b[0m\n",
      "\u001b[32m2023-10-22 14:26:27.620\u001b[0m | \u001b[1mINFO    \u001b[0m | \u001b[36m__main__\u001b[0m:\u001b[36mrun_pipeline_self\u001b[0m:\u001b[36m79\u001b[0m - \u001b[1m%315 - Running pipeline for row_seed: 412 and size_of_unlabelled_data: 0.2 and model: RandomForestClassifier(max_depth=11)\u001b[0m\n",
      "\u001b[32m2023-10-22 14:26:30.153\u001b[0m | \u001b[1mINFO    \u001b[0m | \u001b[36m__main__\u001b[0m:\u001b[36mrun_pipeline_self\u001b[0m:\u001b[36m79\u001b[0m - \u001b[1m%316 - Running pipeline for row_seed: 214 and size_of_unlabelled_data: 0.2 and model: RandomForestClassifier(max_depth=11)\u001b[0m\n",
      "\u001b[32m2023-10-22 14:26:32.042\u001b[0m | \u001b[1mINFO    \u001b[0m | \u001b[36m__main__\u001b[0m:\u001b[36mrun_pipeline_self\u001b[0m:\u001b[36m79\u001b[0m - \u001b[1m%317 - Running pipeline for row_seed: 754 and size_of_unlabelled_data: 0.2 and model: RandomForestClassifier(max_depth=11)\u001b[0m\n",
      "\u001b[32m2023-10-22 14:26:33.401\u001b[0m | \u001b[1mINFO    \u001b[0m | \u001b[36m__main__\u001b[0m:\u001b[36mrun_pipeline_self\u001b[0m:\u001b[36m79\u001b[0m - \u001b[1m%318 - Running pipeline for row_seed: 457 and size_of_unlabelled_data: 0.2 and model: RandomForestClassifier(max_depth=11)\u001b[0m\n",
      "\u001b[32m2023-10-22 14:26:35.282\u001b[0m | \u001b[1mINFO    \u001b[0m | \u001b[36m__main__\u001b[0m:\u001b[36mrun_pipeline_self\u001b[0m:\u001b[36m79\u001b[0m - \u001b[1m%319 - Running pipeline for row_seed: 2023 and size_of_unlabelled_data: 0.2 and model: RandomForestClassifier(max_depth=11)\u001b[0m\n",
      "\u001b[32m2023-10-22 14:26:36.965\u001b[0m | \u001b[1mINFO    \u001b[0m | \u001b[36m__main__\u001b[0m:\u001b[36mrun_pipeline_self\u001b[0m:\u001b[36m79\u001b[0m - \u001b[1m%320 - Running pipeline for row_seed: 3202 and size_of_unlabelled_data: 0.2 and model: RandomForestClassifier(max_depth=11)\u001b[0m\n",
      "\u001b[32m2023-10-22 14:26:38.922\u001b[0m | \u001b[1mINFO    \u001b[0m | \u001b[36m__main__\u001b[0m:\u001b[36mrun_pipeline_self\u001b[0m:\u001b[36m75\u001b[0m - \u001b[1mModel: RandomForestClassifier(max_depth=11)\u001b[0m\n",
      "\u001b[32m2023-10-22 14:26:38.922\u001b[0m | \u001b[1mINFO    \u001b[0m | \u001b[36m__main__\u001b[0m:\u001b[36mrun_pipeline_self\u001b[0m:\u001b[36m76\u001b[0m - \u001b[1mSize of unlabelled data: 0.3\u001b[0m\n",
      "\u001b[32m2023-10-22 14:26:38.923\u001b[0m | \u001b[1mINFO    \u001b[0m | \u001b[36m__main__\u001b[0m:\u001b[36mrun_pipeline_self\u001b[0m:\u001b[36m79\u001b[0m - \u001b[1m%321 - Running pipeline for row_seed: 24 and size_of_unlabelled_data: 0.3 and model: RandomForestClassifier(max_depth=11)\u001b[0m\n"
     ]
    },
    {
     "name": "stdout",
     "output_type": "stream",
     "text": [
      "\n",
      "\n"
     ]
    },
    {
     "name": "stderr",
     "output_type": "stream",
     "text": [
      "\u001b[32m2023-10-22 14:26:41.978\u001b[0m | \u001b[1mINFO    \u001b[0m | \u001b[36m__main__\u001b[0m:\u001b[36mrun_pipeline_self\u001b[0m:\u001b[36m79\u001b[0m - \u001b[1m%322 - Running pipeline for row_seed: 42 and size_of_unlabelled_data: 0.3 and model: RandomForestClassifier(max_depth=11)\u001b[0m\n",
      "\u001b[32m2023-10-22 14:26:44.440\u001b[0m | \u001b[1mINFO    \u001b[0m | \u001b[36m__main__\u001b[0m:\u001b[36mrun_pipeline_self\u001b[0m:\u001b[36m79\u001b[0m - \u001b[1m%323 - Running pipeline for row_seed: 206 and size_of_unlabelled_data: 0.3 and model: RandomForestClassifier(max_depth=11)\u001b[0m\n",
      "\u001b[32m2023-10-22 14:26:47.442\u001b[0m | \u001b[1mINFO    \u001b[0m | \u001b[36m__main__\u001b[0m:\u001b[36mrun_pipeline_self\u001b[0m:\u001b[36m79\u001b[0m - \u001b[1m%324 - Running pipeline for row_seed: 602 and size_of_unlabelled_data: 0.3 and model: RandomForestClassifier(max_depth=11)\u001b[0m\n",
      "\u001b[32m2023-10-22 14:26:50.495\u001b[0m | \u001b[1mINFO    \u001b[0m | \u001b[36m__main__\u001b[0m:\u001b[36mrun_pipeline_self\u001b[0m:\u001b[36m79\u001b[0m - \u001b[1m%325 - Running pipeline for row_seed: 412 and size_of_unlabelled_data: 0.3 and model: RandomForestClassifier(max_depth=11)\u001b[0m\n",
      "\u001b[32m2023-10-22 14:26:53.494\u001b[0m | \u001b[1mINFO    \u001b[0m | \u001b[36m__main__\u001b[0m:\u001b[36mrun_pipeline_self\u001b[0m:\u001b[36m79\u001b[0m - \u001b[1m%326 - Running pipeline for row_seed: 214 and size_of_unlabelled_data: 0.3 and model: RandomForestClassifier(max_depth=11)\u001b[0m\n",
      "\u001b[32m2023-10-22 14:26:55.630\u001b[0m | \u001b[1mINFO    \u001b[0m | \u001b[36m__main__\u001b[0m:\u001b[36mrun_pipeline_self\u001b[0m:\u001b[36m79\u001b[0m - \u001b[1m%327 - Running pipeline for row_seed: 754 and size_of_unlabelled_data: 0.3 and model: RandomForestClassifier(max_depth=11)\u001b[0m\n",
      "\u001b[32m2023-10-22 14:26:58.550\u001b[0m | \u001b[1mINFO    \u001b[0m | \u001b[36m__main__\u001b[0m:\u001b[36mrun_pipeline_self\u001b[0m:\u001b[36m79\u001b[0m - \u001b[1m%328 - Running pipeline for row_seed: 457 and size_of_unlabelled_data: 0.3 and model: RandomForestClassifier(max_depth=11)\u001b[0m\n",
      "\u001b[32m2023-10-22 14:27:00.153\u001b[0m | \u001b[1mINFO    \u001b[0m | \u001b[36m__main__\u001b[0m:\u001b[36mrun_pipeline_self\u001b[0m:\u001b[36m79\u001b[0m - \u001b[1m%329 - Running pipeline for row_seed: 2023 and size_of_unlabelled_data: 0.3 and model: RandomForestClassifier(max_depth=11)\u001b[0m\n",
      "\u001b[32m2023-10-22 14:27:02.580\u001b[0m | \u001b[1mINFO    \u001b[0m | \u001b[36m__main__\u001b[0m:\u001b[36mrun_pipeline_self\u001b[0m:\u001b[36m79\u001b[0m - \u001b[1m%330 - Running pipeline for row_seed: 3202 and size_of_unlabelled_data: 0.3 and model: RandomForestClassifier(max_depth=11)\u001b[0m\n",
      "\u001b[32m2023-10-22 14:27:04.993\u001b[0m | \u001b[1mINFO    \u001b[0m | \u001b[36m__main__\u001b[0m:\u001b[36mrun_pipeline_self\u001b[0m:\u001b[36m75\u001b[0m - \u001b[1mModel: RandomForestClassifier(max_depth=11)\u001b[0m\n",
      "\u001b[32m2023-10-22 14:27:04.993\u001b[0m | \u001b[1mINFO    \u001b[0m | \u001b[36m__main__\u001b[0m:\u001b[36mrun_pipeline_self\u001b[0m:\u001b[36m76\u001b[0m - \u001b[1mSize of unlabelled data: 0.4\u001b[0m\n",
      "\u001b[32m2023-10-22 14:27:04.994\u001b[0m | \u001b[1mINFO    \u001b[0m | \u001b[36m__main__\u001b[0m:\u001b[36mrun_pipeline_self\u001b[0m:\u001b[36m79\u001b[0m - \u001b[1m%331 - Running pipeline for row_seed: 24 and size_of_unlabelled_data: 0.4 and model: RandomForestClassifier(max_depth=11)\u001b[0m\n"
     ]
    },
    {
     "name": "stdout",
     "output_type": "stream",
     "text": [
      "\n",
      "\n"
     ]
    },
    {
     "name": "stderr",
     "output_type": "stream",
     "text": [
      "\u001b[32m2023-10-22 14:27:08.043\u001b[0m | \u001b[1mINFO    \u001b[0m | \u001b[36m__main__\u001b[0m:\u001b[36mrun_pipeline_self\u001b[0m:\u001b[36m79\u001b[0m - \u001b[1m%332 - Running pipeline for row_seed: 42 and size_of_unlabelled_data: 0.4 and model: RandomForestClassifier(max_depth=11)\u001b[0m\n",
      "\u001b[32m2023-10-22 14:27:11.035\u001b[0m | \u001b[1mINFO    \u001b[0m | \u001b[36m__main__\u001b[0m:\u001b[36mrun_pipeline_self\u001b[0m:\u001b[36m79\u001b[0m - \u001b[1m%333 - Running pipeline for row_seed: 206 and size_of_unlabelled_data: 0.4 and model: RandomForestClassifier(max_depth=11)\u001b[0m\n",
      "\u001b[32m2023-10-22 14:27:13.928\u001b[0m | \u001b[1mINFO    \u001b[0m | \u001b[36m__main__\u001b[0m:\u001b[36mrun_pipeline_self\u001b[0m:\u001b[36m79\u001b[0m - \u001b[1m%334 - Running pipeline for row_seed: 602 and size_of_unlabelled_data: 0.4 and model: RandomForestClassifier(max_depth=11)\u001b[0m\n",
      "\u001b[32m2023-10-22 14:27:16.674\u001b[0m | \u001b[1mINFO    \u001b[0m | \u001b[36m__main__\u001b[0m:\u001b[36mrun_pipeline_self\u001b[0m:\u001b[36m79\u001b[0m - \u001b[1m%335 - Running pipeline for row_seed: 412 and size_of_unlabelled_data: 0.4 and model: RandomForestClassifier(max_depth=11)\u001b[0m\n",
      "\u001b[32m2023-10-22 14:27:19.625\u001b[0m | \u001b[1mINFO    \u001b[0m | \u001b[36m__main__\u001b[0m:\u001b[36mrun_pipeline_self\u001b[0m:\u001b[36m79\u001b[0m - \u001b[1m%336 - Running pipeline for row_seed: 214 and size_of_unlabelled_data: 0.4 and model: RandomForestClassifier(max_depth=11)\u001b[0m\n",
      "\u001b[32m2023-10-22 14:27:22.505\u001b[0m | \u001b[1mINFO    \u001b[0m | \u001b[36m__main__\u001b[0m:\u001b[36mrun_pipeline_self\u001b[0m:\u001b[36m79\u001b[0m - \u001b[1m%337 - Running pipeline for row_seed: 754 and size_of_unlabelled_data: 0.4 and model: RandomForestClassifier(max_depth=11)\u001b[0m\n",
      "\u001b[32m2023-10-22 14:27:24.317\u001b[0m | \u001b[1mINFO    \u001b[0m | \u001b[36m__main__\u001b[0m:\u001b[36mrun_pipeline_self\u001b[0m:\u001b[36m79\u001b[0m - \u001b[1m%338 - Running pipeline for row_seed: 457 and size_of_unlabelled_data: 0.4 and model: RandomForestClassifier(max_depth=11)\u001b[0m\n",
      "\u001b[32m2023-10-22 14:27:26.411\u001b[0m | \u001b[1mINFO    \u001b[0m | \u001b[36m__main__\u001b[0m:\u001b[36mrun_pipeline_self\u001b[0m:\u001b[36m79\u001b[0m - \u001b[1m%339 - Running pipeline for row_seed: 2023 and size_of_unlabelled_data: 0.4 and model: RandomForestClassifier(max_depth=11)\u001b[0m\n",
      "\u001b[32m2023-10-22 14:27:29.374\u001b[0m | \u001b[1mINFO    \u001b[0m | \u001b[36m__main__\u001b[0m:\u001b[36mrun_pipeline_self\u001b[0m:\u001b[36m79\u001b[0m - \u001b[1m%340 - Running pipeline for row_seed: 3202 and size_of_unlabelled_data: 0.4 and model: RandomForestClassifier(max_depth=11)\u001b[0m\n",
      "\u001b[32m2023-10-22 14:27:32.067\u001b[0m | \u001b[1mINFO    \u001b[0m | \u001b[36m__main__\u001b[0m:\u001b[36mrun_pipeline_self\u001b[0m:\u001b[36m75\u001b[0m - \u001b[1mModel: RandomForestClassifier(max_depth=11)\u001b[0m\n",
      "\u001b[32m2023-10-22 14:27:32.068\u001b[0m | \u001b[1mINFO    \u001b[0m | \u001b[36m__main__\u001b[0m:\u001b[36mrun_pipeline_self\u001b[0m:\u001b[36m76\u001b[0m - \u001b[1mSize of unlabelled data: 0.5\u001b[0m\n",
      "\u001b[32m2023-10-22 14:27:32.068\u001b[0m | \u001b[1mINFO    \u001b[0m | \u001b[36m__main__\u001b[0m:\u001b[36mrun_pipeline_self\u001b[0m:\u001b[36m79\u001b[0m - \u001b[1m%341 - Running pipeline for row_seed: 24 and size_of_unlabelled_data: 0.5 and model: RandomForestClassifier(max_depth=11)\u001b[0m\n"
     ]
    },
    {
     "name": "stdout",
     "output_type": "stream",
     "text": [
      "\n",
      "\n"
     ]
    },
    {
     "name": "stderr",
     "output_type": "stream",
     "text": [
      "\u001b[32m2023-10-22 14:27:35.015\u001b[0m | \u001b[1mINFO    \u001b[0m | \u001b[36m__main__\u001b[0m:\u001b[36mrun_pipeline_self\u001b[0m:\u001b[36m79\u001b[0m - \u001b[1m%342 - Running pipeline for row_seed: 42 and size_of_unlabelled_data: 0.5 and model: RandomForestClassifier(max_depth=11)\u001b[0m\n",
      "\u001b[32m2023-10-22 14:27:37.866\u001b[0m | \u001b[1mINFO    \u001b[0m | \u001b[36m__main__\u001b[0m:\u001b[36mrun_pipeline_self\u001b[0m:\u001b[36m79\u001b[0m - \u001b[1m%343 - Running pipeline for row_seed: 206 and size_of_unlabelled_data: 0.5 and model: RandomForestClassifier(max_depth=11)\u001b[0m\n",
      "\u001b[32m2023-10-22 14:27:40.790\u001b[0m | \u001b[1mINFO    \u001b[0m | \u001b[36m__main__\u001b[0m:\u001b[36mrun_pipeline_self\u001b[0m:\u001b[36m79\u001b[0m - \u001b[1m%344 - Running pipeline for row_seed: 602 and size_of_unlabelled_data: 0.5 and model: RandomForestClassifier(max_depth=11)\u001b[0m\n",
      "\u001b[32m2023-10-22 14:27:42.604\u001b[0m | \u001b[1mINFO    \u001b[0m | \u001b[36m__main__\u001b[0m:\u001b[36mrun_pipeline_self\u001b[0m:\u001b[36m79\u001b[0m - \u001b[1m%345 - Running pipeline for row_seed: 412 and size_of_unlabelled_data: 0.5 and model: RandomForestClassifier(max_depth=11)\u001b[0m\n",
      "\u001b[32m2023-10-22 14:27:45.575\u001b[0m | \u001b[1mINFO    \u001b[0m | \u001b[36m__main__\u001b[0m:\u001b[36mrun_pipeline_self\u001b[0m:\u001b[36m79\u001b[0m - \u001b[1m%346 - Running pipeline for row_seed: 214 and size_of_unlabelled_data: 0.5 and model: RandomForestClassifier(max_depth=11)\u001b[0m\n",
      "\u001b[32m2023-10-22 14:27:48.394\u001b[0m | \u001b[1mINFO    \u001b[0m | \u001b[36m__main__\u001b[0m:\u001b[36mrun_pipeline_self\u001b[0m:\u001b[36m79\u001b[0m - \u001b[1m%347 - Running pipeline for row_seed: 754 and size_of_unlabelled_data: 0.5 and model: RandomForestClassifier(max_depth=11)\u001b[0m\n",
      "\u001b[32m2023-10-22 14:27:51.242\u001b[0m | \u001b[1mINFO    \u001b[0m | \u001b[36m__main__\u001b[0m:\u001b[36mrun_pipeline_self\u001b[0m:\u001b[36m79\u001b[0m - \u001b[1m%348 - Running pipeline for row_seed: 457 and size_of_unlabelled_data: 0.5 and model: RandomForestClassifier(max_depth=11)\u001b[0m\n",
      "\u001b[32m2023-10-22 14:27:54.098\u001b[0m | \u001b[1mINFO    \u001b[0m | \u001b[36m__main__\u001b[0m:\u001b[36mrun_pipeline_self\u001b[0m:\u001b[36m79\u001b[0m - \u001b[1m%349 - Running pipeline for row_seed: 2023 and size_of_unlabelled_data: 0.5 and model: RandomForestClassifier(max_depth=11)\u001b[0m\n",
      "\u001b[32m2023-10-22 14:27:56.127\u001b[0m | \u001b[1mINFO    \u001b[0m | \u001b[36m__main__\u001b[0m:\u001b[36mrun_pipeline_self\u001b[0m:\u001b[36m79\u001b[0m - \u001b[1m%350 - Running pipeline for row_seed: 3202 and size_of_unlabelled_data: 0.5 and model: RandomForestClassifier(max_depth=11)\u001b[0m\n",
      "\u001b[32m2023-10-22 14:27:59.008\u001b[0m | \u001b[1mINFO    \u001b[0m | \u001b[36m__main__\u001b[0m:\u001b[36mrun_pipeline_self\u001b[0m:\u001b[36m75\u001b[0m - \u001b[1mModel: RandomForestClassifier(max_depth=11)\u001b[0m\n",
      "\u001b[32m2023-10-22 14:27:59.008\u001b[0m | \u001b[1mINFO    \u001b[0m | \u001b[36m__main__\u001b[0m:\u001b[36mrun_pipeline_self\u001b[0m:\u001b[36m76\u001b[0m - \u001b[1mSize of unlabelled data: 0.6\u001b[0m\n",
      "\u001b[32m2023-10-22 14:27:59.009\u001b[0m | \u001b[1mINFO    \u001b[0m | \u001b[36m__main__\u001b[0m:\u001b[36mrun_pipeline_self\u001b[0m:\u001b[36m79\u001b[0m - \u001b[1m%351 - Running pipeline for row_seed: 24 and size_of_unlabelled_data: 0.6 and model: RandomForestClassifier(max_depth=11)\u001b[0m\n"
     ]
    },
    {
     "name": "stdout",
     "output_type": "stream",
     "text": [
      "\n",
      "\n"
     ]
    },
    {
     "name": "stderr",
     "output_type": "stream",
     "text": [
      "\u001b[32m2023-10-22 14:28:01.859\u001b[0m | \u001b[1mINFO    \u001b[0m | \u001b[36m__main__\u001b[0m:\u001b[36mrun_pipeline_self\u001b[0m:\u001b[36m79\u001b[0m - \u001b[1m%352 - Running pipeline for row_seed: 42 and size_of_unlabelled_data: 0.6 and model: RandomForestClassifier(max_depth=11)\u001b[0m\n",
      "\u001b[32m2023-10-22 14:28:04.667\u001b[0m | \u001b[1mINFO    \u001b[0m | \u001b[36m__main__\u001b[0m:\u001b[36mrun_pipeline_self\u001b[0m:\u001b[36m79\u001b[0m - \u001b[1m%353 - Running pipeline for row_seed: 206 and size_of_unlabelled_data: 0.6 and model: RandomForestClassifier(max_depth=11)\u001b[0m\n",
      "\u001b[32m2023-10-22 14:28:07.529\u001b[0m | \u001b[1mINFO    \u001b[0m | \u001b[36m__main__\u001b[0m:\u001b[36mrun_pipeline_self\u001b[0m:\u001b[36m79\u001b[0m - \u001b[1m%354 - Running pipeline for row_seed: 602 and size_of_unlabelled_data: 0.6 and model: RandomForestClassifier(max_depth=11)\u001b[0m\n",
      "\u001b[32m2023-10-22 14:28:10.283\u001b[0m | \u001b[1mINFO    \u001b[0m | \u001b[36m__main__\u001b[0m:\u001b[36mrun_pipeline_self\u001b[0m:\u001b[36m79\u001b[0m - \u001b[1m%355 - Running pipeline for row_seed: 412 and size_of_unlabelled_data: 0.6 and model: RandomForestClassifier(max_depth=11)\u001b[0m\n",
      "\u001b[32m2023-10-22 14:28:13.107\u001b[0m | \u001b[1mINFO    \u001b[0m | \u001b[36m__main__\u001b[0m:\u001b[36mrun_pipeline_self\u001b[0m:\u001b[36m79\u001b[0m - \u001b[1m%356 - Running pipeline for row_seed: 214 and size_of_unlabelled_data: 0.6 and model: RandomForestClassifier(max_depth=11)\u001b[0m\n",
      "\u001b[32m2023-10-22 14:28:15.813\u001b[0m | \u001b[1mINFO    \u001b[0m | \u001b[36m__main__\u001b[0m:\u001b[36mrun_pipeline_self\u001b[0m:\u001b[36m79\u001b[0m - \u001b[1m%357 - Running pipeline for row_seed: 754 and size_of_unlabelled_data: 0.6 and model: RandomForestClassifier(max_depth=11)\u001b[0m\n",
      "\u001b[32m2023-10-22 14:28:18.532\u001b[0m | \u001b[1mINFO    \u001b[0m | \u001b[36m__main__\u001b[0m:\u001b[36mrun_pipeline_self\u001b[0m:\u001b[36m79\u001b[0m - \u001b[1m%358 - Running pipeline for row_seed: 457 and size_of_unlabelled_data: 0.6 and model: RandomForestClassifier(max_depth=11)\u001b[0m\n",
      "\u001b[32m2023-10-22 14:28:21.296\u001b[0m | \u001b[1mINFO    \u001b[0m | \u001b[36m__main__\u001b[0m:\u001b[36mrun_pipeline_self\u001b[0m:\u001b[36m79\u001b[0m - \u001b[1m%359 - Running pipeline for row_seed: 2023 and size_of_unlabelled_data: 0.6 and model: RandomForestClassifier(max_depth=11)\u001b[0m\n",
      "\u001b[32m2023-10-22 14:28:24.135\u001b[0m | \u001b[1mINFO    \u001b[0m | \u001b[36m__main__\u001b[0m:\u001b[36mrun_pipeline_self\u001b[0m:\u001b[36m79\u001b[0m - \u001b[1m%360 - Running pipeline for row_seed: 3202 and size_of_unlabelled_data: 0.6 and model: RandomForestClassifier(max_depth=11)\u001b[0m\n",
      "\u001b[32m2023-10-22 14:28:27.026\u001b[0m | \u001b[1mINFO    \u001b[0m | \u001b[36m__main__\u001b[0m:\u001b[36mrun_pipeline_self\u001b[0m:\u001b[36m75\u001b[0m - \u001b[1mModel: RandomForestClassifier(max_depth=11)\u001b[0m\n",
      "\u001b[32m2023-10-22 14:28:27.027\u001b[0m | \u001b[1mINFO    \u001b[0m | \u001b[36m__main__\u001b[0m:\u001b[36mrun_pipeline_self\u001b[0m:\u001b[36m76\u001b[0m - \u001b[1mSize of unlabelled data: 0.7\u001b[0m\n",
      "\u001b[32m2023-10-22 14:28:27.027\u001b[0m | \u001b[1mINFO    \u001b[0m | \u001b[36m__main__\u001b[0m:\u001b[36mrun_pipeline_self\u001b[0m:\u001b[36m79\u001b[0m - \u001b[1m%361 - Running pipeline for row_seed: 24 and size_of_unlabelled_data: 0.7 and model: RandomForestClassifier(max_depth=11)\u001b[0m\n"
     ]
    },
    {
     "name": "stdout",
     "output_type": "stream",
     "text": [
      "\n",
      "\n"
     ]
    },
    {
     "name": "stderr",
     "output_type": "stream",
     "text": [
      "\u001b[32m2023-10-22 14:28:29.843\u001b[0m | \u001b[1mINFO    \u001b[0m | \u001b[36m__main__\u001b[0m:\u001b[36mrun_pipeline_self\u001b[0m:\u001b[36m79\u001b[0m - \u001b[1m%362 - Running pipeline for row_seed: 42 and size_of_unlabelled_data: 0.7 and model: RandomForestClassifier(max_depth=11)\u001b[0m\n",
      "\u001b[32m2023-10-22 14:28:32.583\u001b[0m | \u001b[1mINFO    \u001b[0m | \u001b[36m__main__\u001b[0m:\u001b[36mrun_pipeline_self\u001b[0m:\u001b[36m79\u001b[0m - \u001b[1m%363 - Running pipeline for row_seed: 206 and size_of_unlabelled_data: 0.7 and model: RandomForestClassifier(max_depth=11)\u001b[0m\n",
      "\u001b[32m2023-10-22 14:28:35.302\u001b[0m | \u001b[1mINFO    \u001b[0m | \u001b[36m__main__\u001b[0m:\u001b[36mrun_pipeline_self\u001b[0m:\u001b[36m79\u001b[0m - \u001b[1m%364 - Running pipeline for row_seed: 602 and size_of_unlabelled_data: 0.7 and model: RandomForestClassifier(max_depth=11)\u001b[0m\n",
      "\u001b[32m2023-10-22 14:28:37.981\u001b[0m | \u001b[1mINFO    \u001b[0m | \u001b[36m__main__\u001b[0m:\u001b[36mrun_pipeline_self\u001b[0m:\u001b[36m79\u001b[0m - \u001b[1m%365 - Running pipeline for row_seed: 412 and size_of_unlabelled_data: 0.7 and model: RandomForestClassifier(max_depth=11)\u001b[0m\n",
      "\u001b[32m2023-10-22 14:28:40.697\u001b[0m | \u001b[1mINFO    \u001b[0m | \u001b[36m__main__\u001b[0m:\u001b[36mrun_pipeline_self\u001b[0m:\u001b[36m79\u001b[0m - \u001b[1m%366 - Running pipeline for row_seed: 214 and size_of_unlabelled_data: 0.7 and model: RandomForestClassifier(max_depth=11)\u001b[0m\n",
      "\u001b[32m2023-10-22 14:28:43.305\u001b[0m | \u001b[1mINFO    \u001b[0m | \u001b[36m__main__\u001b[0m:\u001b[36mrun_pipeline_self\u001b[0m:\u001b[36m79\u001b[0m - \u001b[1m%367 - Running pipeline for row_seed: 754 and size_of_unlabelled_data: 0.7 and model: RandomForestClassifier(max_depth=11)\u001b[0m\n",
      "\u001b[32m2023-10-22 14:28:46.030\u001b[0m | \u001b[1mINFO    \u001b[0m | \u001b[36m__main__\u001b[0m:\u001b[36mrun_pipeline_self\u001b[0m:\u001b[36m79\u001b[0m - \u001b[1m%368 - Running pipeline for row_seed: 457 and size_of_unlabelled_data: 0.7 and model: RandomForestClassifier(max_depth=11)\u001b[0m\n",
      "\u001b[32m2023-10-22 14:28:48.722\u001b[0m | \u001b[1mINFO    \u001b[0m | \u001b[36m__main__\u001b[0m:\u001b[36mrun_pipeline_self\u001b[0m:\u001b[36m79\u001b[0m - \u001b[1m%369 - Running pipeline for row_seed: 2023 and size_of_unlabelled_data: 0.7 and model: RandomForestClassifier(max_depth=11)\u001b[0m\n",
      "\u001b[32m2023-10-22 14:28:51.461\u001b[0m | \u001b[1mINFO    \u001b[0m | \u001b[36m__main__\u001b[0m:\u001b[36mrun_pipeline_self\u001b[0m:\u001b[36m79\u001b[0m - \u001b[1m%370 - Running pipeline for row_seed: 3202 and size_of_unlabelled_data: 0.7 and model: RandomForestClassifier(max_depth=11)\u001b[0m\n",
      "\u001b[32m2023-10-22 14:28:54.284\u001b[0m | \u001b[1mINFO    \u001b[0m | \u001b[36m__main__\u001b[0m:\u001b[36mrun_pipeline_self\u001b[0m:\u001b[36m75\u001b[0m - \u001b[1mModel: RandomForestClassifier(max_depth=11)\u001b[0m\n",
      "\u001b[32m2023-10-22 14:28:54.284\u001b[0m | \u001b[1mINFO    \u001b[0m | \u001b[36m__main__\u001b[0m:\u001b[36mrun_pipeline_self\u001b[0m:\u001b[36m76\u001b[0m - \u001b[1mSize of unlabelled data: 0.8\u001b[0m\n",
      "\u001b[32m2023-10-22 14:28:54.285\u001b[0m | \u001b[1mINFO    \u001b[0m | \u001b[36m__main__\u001b[0m:\u001b[36mrun_pipeline_self\u001b[0m:\u001b[36m79\u001b[0m - \u001b[1m%371 - Running pipeline for row_seed: 24 and size_of_unlabelled_data: 0.8 and model: RandomForestClassifier(max_depth=11)\u001b[0m\n"
     ]
    },
    {
     "name": "stdout",
     "output_type": "stream",
     "text": [
      "\n",
      "\n"
     ]
    },
    {
     "name": "stderr",
     "output_type": "stream",
     "text": [
      "\u001b[32m2023-10-22 14:28:56.263\u001b[0m | \u001b[1mINFO    \u001b[0m | \u001b[36m__main__\u001b[0m:\u001b[36mrun_pipeline_self\u001b[0m:\u001b[36m79\u001b[0m - \u001b[1m%372 - Running pipeline for row_seed: 42 and size_of_unlabelled_data: 0.8 and model: RandomForestClassifier(max_depth=11)\u001b[0m\n",
      "\u001b[32m2023-10-22 14:28:58.722\u001b[0m | \u001b[1mINFO    \u001b[0m | \u001b[36m__main__\u001b[0m:\u001b[36mrun_pipeline_self\u001b[0m:\u001b[36m79\u001b[0m - \u001b[1m%373 - Running pipeline for row_seed: 206 and size_of_unlabelled_data: 0.8 and model: RandomForestClassifier(max_depth=11)\u001b[0m\n",
      "\u001b[32m2023-10-22 14:29:01.274\u001b[0m | \u001b[1mINFO    \u001b[0m | \u001b[36m__main__\u001b[0m:\u001b[36mrun_pipeline_self\u001b[0m:\u001b[36m79\u001b[0m - \u001b[1m%374 - Running pipeline for row_seed: 602 and size_of_unlabelled_data: 0.8 and model: RandomForestClassifier(max_depth=11)\u001b[0m\n",
      "\u001b[32m2023-10-22 14:29:03.765\u001b[0m | \u001b[1mINFO    \u001b[0m | \u001b[36m__main__\u001b[0m:\u001b[36mrun_pipeline_self\u001b[0m:\u001b[36m79\u001b[0m - \u001b[1m%375 - Running pipeline for row_seed: 412 and size_of_unlabelled_data: 0.8 and model: RandomForestClassifier(max_depth=11)\u001b[0m\n",
      "\u001b[32m2023-10-22 14:29:06.417\u001b[0m | \u001b[1mINFO    \u001b[0m | \u001b[36m__main__\u001b[0m:\u001b[36mrun_pipeline_self\u001b[0m:\u001b[36m79\u001b[0m - \u001b[1m%376 - Running pipeline for row_seed: 214 and size_of_unlabelled_data: 0.8 and model: RandomForestClassifier(max_depth=11)\u001b[0m\n",
      "\u001b[32m2023-10-22 14:29:08.713\u001b[0m | \u001b[1mINFO    \u001b[0m | \u001b[36m__main__\u001b[0m:\u001b[36mrun_pipeline_self\u001b[0m:\u001b[36m79\u001b[0m - \u001b[1m%377 - Running pipeline for row_seed: 754 and size_of_unlabelled_data: 0.8 and model: RandomForestClassifier(max_depth=11)\u001b[0m\n",
      "\u001b[32m2023-10-22 14:29:10.778\u001b[0m | \u001b[1mINFO    \u001b[0m | \u001b[36m__main__\u001b[0m:\u001b[36mrun_pipeline_self\u001b[0m:\u001b[36m79\u001b[0m - \u001b[1m%378 - Running pipeline for row_seed: 457 and size_of_unlabelled_data: 0.8 and model: RandomForestClassifier(max_depth=11)\u001b[0m\n",
      "\u001b[32m2023-10-22 14:29:13.327\u001b[0m | \u001b[1mINFO    \u001b[0m | \u001b[36m__main__\u001b[0m:\u001b[36mrun_pipeline_self\u001b[0m:\u001b[36m79\u001b[0m - \u001b[1m%379 - Running pipeline for row_seed: 2023 and size_of_unlabelled_data: 0.8 and model: RandomForestClassifier(max_depth=11)\u001b[0m\n",
      "\u001b[32m2023-10-22 14:29:15.409\u001b[0m | \u001b[1mINFO    \u001b[0m | \u001b[36m__main__\u001b[0m:\u001b[36mrun_pipeline_self\u001b[0m:\u001b[36m79\u001b[0m - \u001b[1m%380 - Running pipeline for row_seed: 3202 and size_of_unlabelled_data: 0.8 and model: RandomForestClassifier(max_depth=11)\u001b[0m\n",
      "\u001b[32m2023-10-22 14:29:18.122\u001b[0m | \u001b[1mINFO    \u001b[0m | \u001b[36m__main__\u001b[0m:\u001b[36mrun_pipeline_self\u001b[0m:\u001b[36m75\u001b[0m - \u001b[1mModel: RandomForestClassifier(max_depth=11)\u001b[0m\n",
      "\u001b[32m2023-10-22 14:29:18.122\u001b[0m | \u001b[1mINFO    \u001b[0m | \u001b[36m__main__\u001b[0m:\u001b[36mrun_pipeline_self\u001b[0m:\u001b[36m76\u001b[0m - \u001b[1mSize of unlabelled data: 0.85\u001b[0m\n",
      "\u001b[32m2023-10-22 14:29:18.123\u001b[0m | \u001b[1mINFO    \u001b[0m | \u001b[36m__main__\u001b[0m:\u001b[36mrun_pipeline_self\u001b[0m:\u001b[36m79\u001b[0m - \u001b[1m%381 - Running pipeline for row_seed: 24 and size_of_unlabelled_data: 0.85 and model: RandomForestClassifier(max_depth=11)\u001b[0m\n"
     ]
    },
    {
     "name": "stdout",
     "output_type": "stream",
     "text": [
      "\n",
      "\n"
     ]
    },
    {
     "name": "stderr",
     "output_type": "stream",
     "text": [
      "\u001b[32m2023-10-22 14:29:20.533\u001b[0m | \u001b[1mINFO    \u001b[0m | \u001b[36m__main__\u001b[0m:\u001b[36mrun_pipeline_self\u001b[0m:\u001b[36m79\u001b[0m - \u001b[1m%382 - Running pipeline for row_seed: 42 and size_of_unlabelled_data: 0.85 and model: RandomForestClassifier(max_depth=11)\u001b[0m\n",
      "\u001b[32m2023-10-22 14:29:22.896\u001b[0m | \u001b[1mINFO    \u001b[0m | \u001b[36m__main__\u001b[0m:\u001b[36mrun_pipeline_self\u001b[0m:\u001b[36m79\u001b[0m - \u001b[1m%383 - Running pipeline for row_seed: 206 and size_of_unlabelled_data: 0.85 and model: RandomForestClassifier(max_depth=11)\u001b[0m\n",
      "\u001b[32m2023-10-22 14:29:25.425\u001b[0m | \u001b[1mINFO    \u001b[0m | \u001b[36m__main__\u001b[0m:\u001b[36mrun_pipeline_self\u001b[0m:\u001b[36m79\u001b[0m - \u001b[1m%384 - Running pipeline for row_seed: 602 and size_of_unlabelled_data: 0.85 and model: RandomForestClassifier(max_depth=11)\u001b[0m\n",
      "\u001b[32m2023-10-22 14:29:27.761\u001b[0m | \u001b[1mINFO    \u001b[0m | \u001b[36m__main__\u001b[0m:\u001b[36mrun_pipeline_self\u001b[0m:\u001b[36m79\u001b[0m - \u001b[1m%385 - Running pipeline for row_seed: 412 and size_of_unlabelled_data: 0.85 and model: RandomForestClassifier(max_depth=11)\u001b[0m\n",
      "\u001b[32m2023-10-22 14:29:30.249\u001b[0m | \u001b[1mINFO    \u001b[0m | \u001b[36m__main__\u001b[0m:\u001b[36mrun_pipeline_self\u001b[0m:\u001b[36m79\u001b[0m - \u001b[1m%386 - Running pipeline for row_seed: 214 and size_of_unlabelled_data: 0.85 and model: RandomForestClassifier(max_depth=11)\u001b[0m\n",
      "\u001b[32m2023-10-22 14:29:32.659\u001b[0m | \u001b[1mINFO    \u001b[0m | \u001b[36m__main__\u001b[0m:\u001b[36mrun_pipeline_self\u001b[0m:\u001b[36m79\u001b[0m - \u001b[1m%387 - Running pipeline for row_seed: 754 and size_of_unlabelled_data: 0.85 and model: RandomForestClassifier(max_depth=11)\u001b[0m\n",
      "\u001b[32m2023-10-22 14:29:34.974\u001b[0m | \u001b[1mINFO    \u001b[0m | \u001b[36m__main__\u001b[0m:\u001b[36mrun_pipeline_self\u001b[0m:\u001b[36m79\u001b[0m - \u001b[1m%388 - Running pipeline for row_seed: 457 and size_of_unlabelled_data: 0.85 and model: RandomForestClassifier(max_depth=11)\u001b[0m\n",
      "\u001b[32m2023-10-22 14:29:37.361\u001b[0m | \u001b[1mINFO    \u001b[0m | \u001b[36m__main__\u001b[0m:\u001b[36mrun_pipeline_self\u001b[0m:\u001b[36m79\u001b[0m - \u001b[1m%389 - Running pipeline for row_seed: 2023 and size_of_unlabelled_data: 0.85 and model: RandomForestClassifier(max_depth=11)\u001b[0m\n",
      "\u001b[32m2023-10-22 14:29:39.883\u001b[0m | \u001b[1mINFO    \u001b[0m | \u001b[36m__main__\u001b[0m:\u001b[36mrun_pipeline_self\u001b[0m:\u001b[36m79\u001b[0m - \u001b[1m%390 - Running pipeline for row_seed: 3202 and size_of_unlabelled_data: 0.85 and model: RandomForestClassifier(max_depth=11)\u001b[0m\n",
      "\u001b[32m2023-10-22 14:29:42.531\u001b[0m | \u001b[1mINFO    \u001b[0m | \u001b[36m__main__\u001b[0m:\u001b[36mrun_pipeline_self\u001b[0m:\u001b[36m75\u001b[0m - \u001b[1mModel: RandomForestClassifier(max_depth=11)\u001b[0m\n",
      "\u001b[32m2023-10-22 14:29:42.532\u001b[0m | \u001b[1mINFO    \u001b[0m | \u001b[36m__main__\u001b[0m:\u001b[36mrun_pipeline_self\u001b[0m:\u001b[36m76\u001b[0m - \u001b[1mSize of unlabelled data: 0.9\u001b[0m\n",
      "\u001b[32m2023-10-22 14:29:42.532\u001b[0m | \u001b[1mINFO    \u001b[0m | \u001b[36m__main__\u001b[0m:\u001b[36mrun_pipeline_self\u001b[0m:\u001b[36m79\u001b[0m - \u001b[1m%391 - Running pipeline for row_seed: 24 and size_of_unlabelled_data: 0.9 and model: RandomForestClassifier(max_depth=11)\u001b[0m\n"
     ]
    },
    {
     "name": "stdout",
     "output_type": "stream",
     "text": [
      "\n",
      "\n"
     ]
    },
    {
     "name": "stderr",
     "output_type": "stream",
     "text": [
      "\u001b[32m2023-10-22 14:29:44.814\u001b[0m | \u001b[1mINFO    \u001b[0m | \u001b[36m__main__\u001b[0m:\u001b[36mrun_pipeline_self\u001b[0m:\u001b[36m79\u001b[0m - \u001b[1m%392 - Running pipeline for row_seed: 42 and size_of_unlabelled_data: 0.9 and model: RandomForestClassifier(max_depth=11)\u001b[0m\n",
      "\u001b[32m2023-10-22 14:29:47.030\u001b[0m | \u001b[1mINFO    \u001b[0m | \u001b[36m__main__\u001b[0m:\u001b[36mrun_pipeline_self\u001b[0m:\u001b[36m79\u001b[0m - \u001b[1m%393 - Running pipeline for row_seed: 206 and size_of_unlabelled_data: 0.9 and model: RandomForestClassifier(max_depth=11)\u001b[0m\n",
      "\u001b[32m2023-10-22 14:29:49.446\u001b[0m | \u001b[1mINFO    \u001b[0m | \u001b[36m__main__\u001b[0m:\u001b[36mrun_pipeline_self\u001b[0m:\u001b[36m79\u001b[0m - \u001b[1m%394 - Running pipeline for row_seed: 602 and size_of_unlabelled_data: 0.9 and model: RandomForestClassifier(max_depth=11)\u001b[0m\n",
      "\u001b[32m2023-10-22 14:29:51.751\u001b[0m | \u001b[1mINFO    \u001b[0m | \u001b[36m__main__\u001b[0m:\u001b[36mrun_pipeline_self\u001b[0m:\u001b[36m79\u001b[0m - \u001b[1m%395 - Running pipeline for row_seed: 412 and size_of_unlabelled_data: 0.9 and model: RandomForestClassifier(max_depth=11)\u001b[0m\n",
      "\u001b[32m2023-10-22 14:29:53.637\u001b[0m | \u001b[1mINFO    \u001b[0m | \u001b[36m__main__\u001b[0m:\u001b[36mrun_pipeline_self\u001b[0m:\u001b[36m79\u001b[0m - \u001b[1m%396 - Running pipeline for row_seed: 214 and size_of_unlabelled_data: 0.9 and model: RandomForestClassifier(max_depth=11)\u001b[0m\n",
      "\u001b[32m2023-10-22 14:29:56.017\u001b[0m | \u001b[1mINFO    \u001b[0m | \u001b[36m__main__\u001b[0m:\u001b[36mrun_pipeline_self\u001b[0m:\u001b[36m79\u001b[0m - \u001b[1m%397 - Running pipeline for row_seed: 754 and size_of_unlabelled_data: 0.9 and model: RandomForestClassifier(max_depth=11)\u001b[0m\n",
      "\u001b[32m2023-10-22 14:29:58.178\u001b[0m | \u001b[1mINFO    \u001b[0m | \u001b[36m__main__\u001b[0m:\u001b[36mrun_pipeline_self\u001b[0m:\u001b[36m79\u001b[0m - \u001b[1m%398 - Running pipeline for row_seed: 457 and size_of_unlabelled_data: 0.9 and model: RandomForestClassifier(max_depth=11)\u001b[0m\n",
      "\u001b[32m2023-10-22 14:30:00.368\u001b[0m | \u001b[1mINFO    \u001b[0m | \u001b[36m__main__\u001b[0m:\u001b[36mrun_pipeline_self\u001b[0m:\u001b[36m79\u001b[0m - \u001b[1m%399 - Running pipeline for row_seed: 2023 and size_of_unlabelled_data: 0.9 and model: RandomForestClassifier(max_depth=11)\u001b[0m\n",
      "\u001b[32m2023-10-22 14:30:02.681\u001b[0m | \u001b[1mINFO    \u001b[0m | \u001b[36m__main__\u001b[0m:\u001b[36mrun_pipeline_self\u001b[0m:\u001b[36m79\u001b[0m - \u001b[1m%400 - Running pipeline for row_seed: 3202 and size_of_unlabelled_data: 0.9 and model: RandomForestClassifier(max_depth=11)\u001b[0m\n"
     ]
    },
    {
     "name": "stdout",
     "output_type": "stream",
     "text": [
      "\n",
      "\n"
     ]
    }
   ],
   "source": [
    "results_df = run_pipeline_self(X_train, X_test, y_train, y_test)"
   ]
  },
  {
   "cell_type": "code",
   "execution_count": 6,
   "metadata": {},
   "outputs": [
    {
     "data": {
      "text/plain": [
       "Index(['model', 'unlabeled', 'acc_mean', 'acc_std', 'f1_mean', 'f1_std',\n",
       "       'precision_mean', 'precision_std', 'recall_mean', 'recall_std',\n",
       "       'roc_mean', 'roc_std'],\n",
       "      dtype='object')"
      ]
     },
     "execution_count": 6,
     "metadata": {},
     "output_type": "execute_result"
    }
   ],
   "source": [
    "# mean and standard deviation for all metrics\n",
    "results_df_with_mean_std = results_df.groupby(['model', 'unlabeled']).agg({'acc': ['mean', 'std'], 'f1': ['mean', 'std'], 'precision': ['mean', 'std'], 'recall': ['mean', 'std'], 'roc': ['mean', 'std']})\n",
    "results_df_with_mean_std = results_df_with_mean_std.reset_index(level=1)\n",
    "results_df_with_mean_std.columns = [\"_\".join(col) for col in results_df_with_mean_std.columns.values]\n",
    "results_df_with_mean_std.rename(columns={'unlabeled_': 'unlabeled'}, inplace=True)\n",
    "results_df_with_mean_std.reset_index(inplace=True)\n",
    "results_df_with_mean_std.columns"
   ]
  },
  {
   "cell_type": "code",
   "execution_count": 7,
   "metadata": {},
   "outputs": [
    {
     "name": "stdout",
     "output_type": "stream",
     "text": [
      "+------------------------+-------------+------------+------------+-----------+------------+------------------+-----------------+---------------+--------------+------------+------------+\n",
      "| model                  |   unlabeled |   acc_mean |    acc_std |   f1_mean |     f1_std |   precision_mean |   precision_std |   recall_mean |   recall_std |   roc_mean |    roc_std |\n",
      "|------------------------+-------------+------------+------------+-----------+------------+------------------+-----------------+---------------+--------------+------------+------------|\n",
      "| DecisionTreeClassifier |        0.1  |     0.855  | 0.00849837 |  0.850007 | 0.00967974 |         0.877062 |      0.0225789  |      0.825703 |   0.0280933  |   0.854883 | 0.0085024  |\n",
      "| DecisionTreeClassifier |        0.2  |     0.852  | 0.0077746  |  0.845717 | 0.00847551 |         0.879893 |      0.020128   |      0.814859 |   0.0221147  |   0.851852 | 0.00776468 |\n",
      "| DecisionTreeClassifier |        0.3  |     0.8506 | 0.00760409 |  0.844599 | 0.00846306 |         0.876644 |      0.0210022  |      0.815663 |   0.0232215  |   0.850461 | 0.00759989 |\n",
      "| DecisionTreeClassifier |        0.4  |     0.8524 | 0.00697933 |  0.846378 | 0.00798179 |         0.878851 |      0.0177498  |      0.816867 |   0.0211834  |   0.852258 | 0.00698365 |\n",
      "| DecisionTreeClassifier |        0.5  |     0.852  | 0.011392   |  0.845679 | 0.0142352  |         0.879474 |      0.0221099  |      0.815663 |   0.0329247  |   0.851855 | 0.0114276  |\n",
      "| DecisionTreeClassifier |        0.6  |     0.8468 | 0.0123     |  0.84001  | 0.0161092  |         0.875042 |      0.0259802  |      0.809639 |   0.0403476  |   0.846652 | 0.0123486  |\n",
      "| DecisionTreeClassifier |        0.7  |     0.8466 | 0.0119648  |  0.840807 | 0.0134568  |         0.870235 |      0.0201865  |      0.814056 |   0.025544   |   0.84647  | 0.0119729  |\n",
      "| DecisionTreeClassifier |        0.8  |     0.8348 | 0.0171062  |  0.827302 | 0.0159361  |         0.865261 |      0.03621    |      0.794378 |   0.0314407  |   0.834639 | 0.0170466  |\n",
      "| DecisionTreeClassifier |        0.85 |     0.8358 | 0.0159847  |  0.830367 | 0.0136956  |         0.857123 |      0.0311251  |      0.806024 |   0.0153862  |   0.835681 | 0.0159184  |\n",
      "| DecisionTreeClassifier |        0.9  |     0.8206 | 0.0093832  |  0.812124 | 0.0126458  |         0.849295 |      0.0263972  |      0.77992  |   0.0364064  |   0.820438 | 0.009403   |\n",
      "| GaussianNB             |        0.1  |     0.8322 | 0.00175119 |  0.823924 | 0.00184702 |         0.862873 |      0.00326169 |      0.788353 |   0.00330632 |   0.832025 | 0.00174974 |\n",
      "| GaussianNB             |        0.2  |     0.831  | 0.00194365 |  0.82259  | 0.00205303 |         0.861873 |      0.0034491  |      0.786747 |   0.00351645 |   0.830824 | 0.00194235 |\n",
      "| GaussianNB             |        0.3  |     0.8308 | 0.00139841 |  0.822194 | 0.00143685 |         0.86244  |      0.00231924 |      0.785542 |   0.00207389 |   0.83062  | 0.00139693 |\n",
      "| GaussianNB             |        0.4  |     0.8304 | 0.00245855 |  0.822    | 0.00238273 |         0.861054 |      0.00404789 |      0.786345 |   0.00253998 |   0.830224 | 0.00245368 |\n",
      "| GaussianNB             |        0.5  |     0.829  | 0.00316228 |  0.820496 | 0.00292436 |         0.859692 |      0.00568258 |      0.784739 |   0.00280806 |   0.828824 | 0.00315307 |\n",
      "| GaussianNB             |        0.6  |     0.8272 | 0.00402216 |  0.818176 | 0.00436359 |         0.859463 |      0.00615031 |      0.780723 |   0.0068783  |   0.827015 | 0.00402264 |\n",
      "| GaussianNB             |        0.7  |     0.8268 | 0.0034254  |  0.816817 | 0.00430056 |         0.862895 |      0.00597218 |      0.775502 |   0.00916781 |   0.826596 | 0.00343532 |\n",
      "| GaussianNB             |        0.8  |     0.826  | 0.00266667 |  0.815587 | 0.00339247 |         0.863619 |      0.00555537 |      0.772691 |   0.00785161 |   0.825788 | 0.0026735  |\n",
      "| GaussianNB             |        0.85 |     0.8258 | 0.00257337 |  0.8148   | 0.00200836 |         0.865955 |      0.00948343 |      0.769478 |   0.00713409 |   0.825576 | 0.00255025 |\n",
      "| GaussianNB             |        0.9  |     0.8272 | 0.00193218 |  0.816468 | 0.00261295 |         0.866704 |      0.00835357 |      0.771888 |   0.00961622 |   0.82698  | 0.00192818 |\n",
      "| KNeighborsClassifier   |        0.1  |     0.8602 | 0.00370585 |  0.85495  | 0.00378481 |         0.884518 |      0.00504    |      0.827309 |   0.0042333  |   0.860069 | 0.00370358 |\n",
      "| KNeighborsClassifier   |        0.2  |     0.8582 | 0.00446716 |  0.852936 | 0.00456785 |         0.882064 |      0.00655589 |      0.825703 |   0.00574233 |   0.858071 | 0.00446405 |\n",
      "| KNeighborsClassifier   |        0.3  |     0.8612 | 0.00590292 |  0.855361 | 0.00599454 |         0.889138 |      0.00858343 |      0.824096 |   0.00650332 |   0.861052 | 0.00589738 |\n",
      "| KNeighborsClassifier   |        0.4  |     0.8612 | 0.00509466 |  0.855421 | 0.0050649  |         0.888857 |      0.00952618 |      0.824498 |   0.00734451 |   0.861054 | 0.00508504 |\n",
      "| KNeighborsClassifier   |        0.5  |     0.8588 | 0.0042374  |  0.852183 | 0.00405406 |         0.890331 |      0.00961997 |      0.817269 |   0.00689132 |   0.858635 | 0.00422396 |\n",
      "| KNeighborsClassifier   |        0.6  |     0.854  | 0.00541603 |  0.846483 | 0.00622078 |         0.888487 |      0.00916964 |      0.808434 |   0.0122766  |   0.853818 | 0.00542544 |\n",
      "| KNeighborsClassifier   |        0.7  |     0.8556 | 0.00350238 |  0.847544 | 0.00370241 |         0.893738 |      0.00927232 |      0.806024 |   0.00888994 |   0.855402 | 0.00349611 |\n",
      "| KNeighborsClassifier   |        0.8  |     0.8486 | 0.00471876 |  0.839052 | 0.00654016 |         0.891292 |      0.00570777 |      0.792771 |   0.0140658  |   0.848378 | 0.00475036 |\n",
      "| KNeighborsClassifier   |        0.85 |     0.8464 | 0.00631049 |  0.836753 | 0.00757523 |         0.888869 |      0.0132383  |      0.790763 |   0.0168749  |   0.846178 | 0.00632121 |\n",
      "| KNeighborsClassifier   |        0.9  |     0.8406 | 0.0100244  |  0.829562 | 0.0117044  |         0.887534 |      0.0213105  |      0.779518 |   0.0248614  |   0.840357 | 0.0100312  |\n",
      "| RandomForestClassifier |        0.1  |     0.862  | 0.00596285 |  0.860213 | 0.00593787 |         0.867983 |      0.00744784 |      0.85261  |   0.00657185 |   0.861963 | 0.00595939 |\n",
      "| RandomForestClassifier |        0.2  |     0.862  | 0.00452155 |  0.859754 | 0.00458928 |         0.870439 |      0.00726378 |      0.849398 |   0.0076317  |   0.86195  | 0.00451856 |\n",
      "| RandomForestClassifier |        0.3  |     0.8632 | 0.00315524 |  0.860174 | 0.00326964 |         0.876038 |      0.00748401 |      0.84498  |   0.00829555 |   0.863127 | 0.0031514  |\n",
      "| RandomForestClassifier |        0.4  |     0.8618 | 0.00682805 |  0.85872  | 0.00687178 |         0.874766 |      0.0106544  |      0.843373 |   0.0100178  |   0.861727 | 0.00682176 |\n",
      "| RandomForestClassifier |        0.5  |     0.8632 | 0.00567255 |  0.859817 | 0.00612191 |         0.877974 |      0.00959352 |      0.84257  |   0.01224    |   0.863118 | 0.00567592 |\n",
      "| RandomForestClassifier |        0.6  |     0.8564 | 0.00609554 |  0.853366 | 0.00685583 |         0.868278 |      0.0131357  |      0.839357 |   0.0175567  |   0.856332 | 0.00610249 |\n",
      "| RandomForestClassifier |        0.7  |     0.8542 | 0.00726942 |  0.851444 | 0.00830073 |         0.864228 |      0.0114722  |      0.839357 |   0.0176585  |   0.854141 | 0.0072842  |\n",
      "| RandomForestClassifier |        0.8  |     0.844  | 0.0102848  |  0.841873 | 0.00763659 |         0.851804 |      0.0286713  |      0.833333 |   0.020674   |   0.843958 | 0.010203   |\n",
      "| RandomForestClassifier |        0.85 |     0.8406 | 0.0124383  |  0.838318 | 0.00961236 |         0.84888  |      0.0288992  |      0.828916 |   0.0152869  |   0.840553 | 0.0123582  |\n",
      "| RandomForestClassifier |        0.9  |     0.8338 | 0.0104329  |  0.828837 | 0.00733471 |         0.853143 |      0.0338894  |      0.807631 |   0.0263997  |   0.833696 | 0.0103307  |\n",
      "+------------------------+-------------+------------+------------+-----------+------------+------------------+-----------------+---------------+--------------+------------+------------+\n"
     ]
    }
   ],
   "source": [
    "# Metrics with tabulate\n",
    "from tabulate import tabulate\n",
    "\n",
    "print(tabulate(results_df_with_mean_std, headers='keys', tablefmt='psql', showindex=False))"
   ]
  }
 ],
 "metadata": {
  "kernelspec": {
   "display_name": "venv",
   "language": "python",
   "name": "python3"
  },
  "language_info": {
   "codemirror_mode": {
    "name": "ipython",
    "version": 3
   },
   "file_extension": ".py",
   "mimetype": "text/x-python",
   "name": "python",
   "nbconvert_exporter": "python",
   "pygments_lexer": "ipython3",
   "version": "3.11.0"
  },
  "orig_nbformat": 4,
  "vscode": {
   "interpreter": {
    "hash": "2b2faf7d6260e3d980efcbe3dcb6631168cb6707024a8ce61b847fb529addd2a"
   }
  }
 },
 "nbformat": 4,
 "nbformat_minor": 2
}
