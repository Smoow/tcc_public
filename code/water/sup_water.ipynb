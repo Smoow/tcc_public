{
 "cells": [
  {
   "cell_type": "code",
   "execution_count": 21,
   "metadata": {},
   "outputs": [],
   "source": [
    "import pandas as pd\n",
    "import numpy as np\n",
    "import seaborn as sns\n",
    "import matplotlib.pyplot as plt\n",
    "\n",
    "from sklearn.preprocessing import RobustScaler\n",
    "from sklearn.model_selection import train_test_split\n",
    "from sklearn.metrics import accuracy_score, mean_absolute_error, mean_squared_error\n",
    "from sklearn.svm import LinearSVC, SVC\n",
    "from sklearn.linear_model import RidgeClassifier\n",
    "from sklearn.neighbors import KNeighborsClassifier\n",
    "from sklearn.naive_bayes import GaussianNB\n",
    "from sklearn.tree import DecisionTreeClassifier\n",
    "from sklearn.ensemble import RandomForestClassifier"
   ]
  },
  {
   "cell_type": "code",
   "execution_count": 22,
   "metadata": {},
   "outputs": [],
   "source": [
    "df = pd.read_csv('../../datasets/water_potability.csv')"
   ]
  },
  {
   "cell_type": "code",
   "execution_count": 23,
   "metadata": {},
   "outputs": [
    {
     "data": {
      "text/plain": [
       "Index(['ph', 'Hardness', 'Solids', 'Chloramines', 'Sulfate', 'Conductivity',\n",
       "       'Organic_carbon', 'Trihalomethanes', 'Turbidity', 'Potability'],\n",
       "      dtype='object')"
      ]
     },
     "execution_count": 23,
     "metadata": {},
     "output_type": "execute_result"
    }
   ],
   "source": [
    "df.columns"
   ]
  },
  {
   "cell_type": "code",
   "execution_count": 24,
   "metadata": {},
   "outputs": [
    {
     "data": {
      "text/plain": [
       "ph                 491\n",
       "Hardness             0\n",
       "Solids               0\n",
       "Chloramines          0\n",
       "Sulfate            781\n",
       "Conductivity         0\n",
       "Organic_carbon       0\n",
       "Trihalomethanes    162\n",
       "Turbidity            0\n",
       "Potability           0\n",
       "dtype: int64"
      ]
     },
     "execution_count": 24,
     "metadata": {},
     "output_type": "execute_result"
    }
   ],
   "source": [
    "# check if has NaN values\n",
    "df.isna().sum()"
   ]
  },
  {
   "cell_type": "code",
   "execution_count": 25,
   "metadata": {},
   "outputs": [],
   "source": [
    "# Drop NaN\n",
    "df = df.dropna()"
   ]
  },
  {
   "cell_type": "code",
   "execution_count": 26,
   "metadata": {},
   "outputs": [],
   "source": [
    "df.describe().T.to_latex('./water_potability_describe.tex', float_format='%.2f')"
   ]
  },
  {
   "cell_type": "code",
   "execution_count": 7,
   "metadata": {},
   "outputs": [
    {
     "name": "stdout",
     "output_type": "stream",
     "text": [
      "<class 'pandas.core.frame.DataFrame'>\n",
      "Index: 2011 entries, 3 to 3271\n",
      "Data columns (total 10 columns):\n",
      " #   Column           Non-Null Count  Dtype  \n",
      "---  ------           --------------  -----  \n",
      " 0   ph               2011 non-null   float64\n",
      " 1   Hardness         2011 non-null   float64\n",
      " 2   Solids           2011 non-null   float64\n",
      " 3   Chloramines      2011 non-null   float64\n",
      " 4   Sulfate          2011 non-null   float64\n",
      " 5   Conductivity     2011 non-null   float64\n",
      " 6   Organic_carbon   2011 non-null   float64\n",
      " 7   Trihalomethanes  2011 non-null   float64\n",
      " 8   Turbidity        2011 non-null   float64\n",
      " 9   Potability       2011 non-null   int64  \n",
      "dtypes: float64(9), int64(1)\n",
      "memory usage: 172.8 KB\n"
     ]
    }
   ],
   "source": [
    "df.info()"
   ]
  },
  {
   "cell_type": "code",
   "execution_count": 8,
   "metadata": {},
   "outputs": [
    {
     "data": {
      "text/plain": [
       "array([0, 1])"
      ]
     },
     "execution_count": 8,
     "metadata": {},
     "output_type": "execute_result"
    }
   ],
   "source": [
    "df['Potability'].unique()"
   ]
  },
  {
   "cell_type": "code",
   "execution_count": 9,
   "metadata": {},
   "outputs": [
    {
     "data": {
      "text/plain": [
       "Potability\n",
       "0    0.596718\n",
       "1    0.403282\n",
       "Name: proportion, dtype: float64"
      ]
     },
     "execution_count": 9,
     "metadata": {},
     "output_type": "execute_result"
    }
   ],
   "source": [
    "df['Potability'].value_counts(normalize=True)"
   ]
  },
  {
   "cell_type": "code",
   "execution_count": 10,
   "metadata": {},
   "outputs": [
    {
     "data": {
      "text/html": [
       "<div>\n",
       "<style scoped>\n",
       "    .dataframe tbody tr th:only-of-type {\n",
       "        vertical-align: middle;\n",
       "    }\n",
       "\n",
       "    .dataframe tbody tr th {\n",
       "        vertical-align: top;\n",
       "    }\n",
       "\n",
       "    .dataframe thead th {\n",
       "        text-align: right;\n",
       "    }\n",
       "</style>\n",
       "<table border=\"1\" class=\"dataframe\">\n",
       "  <thead>\n",
       "    <tr style=\"text-align: right;\">\n",
       "      <th></th>\n",
       "      <th>ph</th>\n",
       "      <th>Hardness</th>\n",
       "      <th>Solids</th>\n",
       "      <th>Chloramines</th>\n",
       "      <th>Sulfate</th>\n",
       "      <th>Conductivity</th>\n",
       "      <th>Organic_carbon</th>\n",
       "      <th>Trihalomethanes</th>\n",
       "      <th>Turbidity</th>\n",
       "      <th>Potability</th>\n",
       "    </tr>\n",
       "  </thead>\n",
       "  <tbody>\n",
       "    <tr>\n",
       "      <th>3</th>\n",
       "      <td>8.316766</td>\n",
       "      <td>214.373394</td>\n",
       "      <td>22018.417441</td>\n",
       "      <td>8.059332</td>\n",
       "      <td>356.886136</td>\n",
       "      <td>363.266516</td>\n",
       "      <td>18.436524</td>\n",
       "      <td>100.341674</td>\n",
       "      <td>4.628771</td>\n",
       "      <td>0</td>\n",
       "    </tr>\n",
       "    <tr>\n",
       "      <th>4</th>\n",
       "      <td>9.092223</td>\n",
       "      <td>181.101509</td>\n",
       "      <td>17978.986339</td>\n",
       "      <td>6.546600</td>\n",
       "      <td>310.135738</td>\n",
       "      <td>398.410813</td>\n",
       "      <td>11.558279</td>\n",
       "      <td>31.997993</td>\n",
       "      <td>4.075075</td>\n",
       "      <td>0</td>\n",
       "    </tr>\n",
       "    <tr>\n",
       "      <th>5</th>\n",
       "      <td>5.584087</td>\n",
       "      <td>188.313324</td>\n",
       "      <td>28748.687739</td>\n",
       "      <td>7.544869</td>\n",
       "      <td>326.678363</td>\n",
       "      <td>280.467916</td>\n",
       "      <td>8.399735</td>\n",
       "      <td>54.917862</td>\n",
       "      <td>2.559708</td>\n",
       "      <td>0</td>\n",
       "    </tr>\n",
       "    <tr>\n",
       "      <th>6</th>\n",
       "      <td>10.223862</td>\n",
       "      <td>248.071735</td>\n",
       "      <td>28749.716544</td>\n",
       "      <td>7.513408</td>\n",
       "      <td>393.663396</td>\n",
       "      <td>283.651634</td>\n",
       "      <td>13.789695</td>\n",
       "      <td>84.603556</td>\n",
       "      <td>2.672989</td>\n",
       "      <td>0</td>\n",
       "    </tr>\n",
       "    <tr>\n",
       "      <th>7</th>\n",
       "      <td>8.635849</td>\n",
       "      <td>203.361523</td>\n",
       "      <td>13672.091764</td>\n",
       "      <td>4.563009</td>\n",
       "      <td>303.309771</td>\n",
       "      <td>474.607645</td>\n",
       "      <td>12.363817</td>\n",
       "      <td>62.798309</td>\n",
       "      <td>4.401425</td>\n",
       "      <td>0</td>\n",
       "    </tr>\n",
       "  </tbody>\n",
       "</table>\n",
       "</div>"
      ],
      "text/plain": [
       "          ph    Hardness        Solids  Chloramines     Sulfate  Conductivity   \n",
       "3   8.316766  214.373394  22018.417441     8.059332  356.886136    363.266516  \\\n",
       "4   9.092223  181.101509  17978.986339     6.546600  310.135738    398.410813   \n",
       "5   5.584087  188.313324  28748.687739     7.544869  326.678363    280.467916   \n",
       "6  10.223862  248.071735  28749.716544     7.513408  393.663396    283.651634   \n",
       "7   8.635849  203.361523  13672.091764     4.563009  303.309771    474.607645   \n",
       "\n",
       "   Organic_carbon  Trihalomethanes  Turbidity  Potability  \n",
       "3       18.436524       100.341674   4.628771           0  \n",
       "4       11.558279        31.997993   4.075075           0  \n",
       "5        8.399735        54.917862   2.559708           0  \n",
       "6       13.789695        84.603556   2.672989           0  \n",
       "7       12.363817        62.798309   4.401425           0  "
      ]
     },
     "execution_count": 10,
     "metadata": {},
     "output_type": "execute_result"
    }
   ],
   "source": [
    "df.head()"
   ]
  },
  {
   "cell_type": "code",
   "execution_count": 12,
   "metadata": {},
   "outputs": [],
   "source": [
    "# Scaler\n",
    "scaler = RobustScaler()\n",
    "\n",
    "features = pd.DataFrame(scaler.fit_transform(df.drop('Potability', axis=1)), columns=df.columns[:-1])\n",
    "target = df['Potability']"
   ]
  },
  {
   "cell_type": "code",
   "execution_count": 12,
   "metadata": {},
   "outputs": [
    {
     "data": {
      "text/plain": [
       "2011"
      ]
     },
     "execution_count": 12,
     "metadata": {},
     "output_type": "execute_result"
    }
   ],
   "source": [
    "len(target)"
   ]
  },
  {
   "cell_type": "code",
   "execution_count": 13,
   "metadata": {},
   "outputs": [],
   "source": [
    "# # Hiperparameters with GridSearchCV for Models: GaussianNB, Decision Tree, KNN and Random Forest\n",
    "# from sklearn.model_selection import GridSearchCV\n",
    "\n",
    "\n",
    "# # GaussianNB\n",
    "# params_gnb = {'var_smoothing': np.logspace(0, -9, num=100)}\n",
    "\n",
    "# grid_gnb = GridSearchCV(estimator=GaussianNB(), param_grid=params_gnb, cv=5, verbose=1, n_jobs=-1)\n",
    "# grid_gnb.fit(X_train, y_train)\n",
    "# print(f\"Model: GaussianNB | Best params: {grid_gnb.best_params_}\\n\")\n",
    "\n",
    "# # Decision Tree\n",
    "# params_dt = {'criterion': ['gini', 'entropy'],\n",
    "#              'max_depth': [3, 5, 7, 9, 11, 13, 15],\n",
    "#              'min_samples_split': [2, 3, 4, 5, 6, 7, 8, 9],\n",
    "#              'min_samples_leaf': [1, 2, 3, 4, 5, 6, 7, 8, 9]}\n",
    "\n",
    "# grid_dt = GridSearchCV(estimator=DecisionTreeClassifier(), param_grid=params_dt, cv=5, verbose=1, n_jobs=-1)\n",
    "# grid_dt.fit(X_train, y_train)\n",
    "# print(f\"Model: DT | Best params: {grid_dt.best_params_}\\n\")\n",
    "\n",
    "# # KNN\n",
    "# params_knn = {'n_neighbors': [3, 5, 7, 9, 11, 13, 15],\n",
    "#               'weights': ['uniform', 'distance'],\n",
    "#               'metric': ['euclidean', 'manhattan', 'minkowski']}\n",
    "\n",
    "# grid_knn = GridSearchCV(estimator=KNeighborsClassifier(), param_grid=params_knn, cv=5, verbose=1, n_jobs=-1)\n",
    "# grid_knn.fit(X_train, y_train)\n",
    "\n",
    "# print(f\"Model: KNN | Best params: {grid_knn.best_params_}\\n\")\n",
    "\n",
    "# # Random Forest\n",
    "# params_rf = {'n_estimators': [100, 200, 300, 400, 500],\n",
    "#              'criterion': ['gini', 'entropy'],\n",
    "#              'max_depth': [3, 5, 7, 9, 11, 13, 15],\n",
    "#              'min_samples_split': [2, 3, 4, 5, 6, 7, 8, 9],\n",
    "#              'min_samples_leaf': [1, 2, 3, 4, 5, 6, 7, 8, 9]}\n",
    "\n",
    "# grid_rf = GridSearchCV(estimator=RandomForestClassifier(), param_grid=params_rf, cv=5, verbose=1, n_jobs=-1)\n",
    "# grid_rf.fit(X_train, y_train)\n",
    "# print(f\"Model: RF | Best params: {grid_rf.best_params_}\\n\")"
   ]
  },
  {
   "cell_type": "code",
   "execution_count": null,
   "metadata": {},
   "outputs": [],
   "source": [
    "models_with_best_params = {\n",
    "    'GaussianNB': GaussianNB(var_smoothing=0.01519911082952933),\n",
    "    'DT': DecisionTreeClassifier(criterion='entropy', max_depth=9, min_samples_leaf=3, min_samples_split=3),\n",
    "    'KNN': KNeighborsClassifier(metric='manhattan', n_neighbors=15, weights='distance'),\n",
    "    'RF': RandomForestClassifier(criterion='gini', max_depth=15, min_samples_leaf=1, min_samples_split=9, n_estimators=400),\n",
    "}"
   ]
  },
  {
   "cell_type": "code",
   "execution_count": 14,
   "metadata": {},
   "outputs": [],
   "source": [
    "# Metrics: Accuracy, Precision, Recall, F1\n",
    "from sklearn.metrics import f1_score, precision_score, recall_score, roc_auc_score\n",
    "\n",
    "\n",
    "def get_metrics():\n",
    "    metrics = {\n",
    "        'accuracy': accuracy_score,\n",
    "        'precision': precision_score,\n",
    "        'recall': recall_score,\n",
    "        'f1': f1_score,\n",
    "        'roc': roc_auc_score\n",
    "    }\n",
    "    return metrics\n",
    "\n",
    "\n",
    "def get_metrics_df(y_true, y_pred, name):\n",
    "    metrics = get_metrics()\n",
    "    df = pd.DataFrame()\n",
    "    for metric_name, metric in metrics.items():\n",
    "        df[metric_name] = [metric(y_true, y_pred)]\n",
    "    return df"
   ]
  },
  {
   "cell_type": "code",
   "execution_count": 15,
   "metadata": {},
   "outputs": [],
   "source": [
    "SEEDS = [24, 42, 206, 602, 412, 214, 754, 457, 2023, 3202]"
   ]
  },
  {
   "cell_type": "code",
   "execution_count": 16,
   "metadata": {},
   "outputs": [
    {
     "name": "stdout",
     "output_type": "stream",
     "text": [
      "%1 - Running for seed: 24\n",
      "%2 - Running for seed: 42\n",
      "%3 - Running for seed: 206\n"
     ]
    },
    {
     "name": "stderr",
     "output_type": "stream",
     "text": [
      "/home/smoow/tcc/venv/lib/python3.11/site-packages/sklearn/metrics/_classification.py:1344: UndefinedMetricWarning: Precision is ill-defined and being set to 0.0 due to no predicted samples. Use `zero_division` parameter to control this behavior.\n",
      "  _warn_prf(average, modifier, msg_start, len(result))\n"
     ]
    },
    {
     "name": "stdout",
     "output_type": "stream",
     "text": [
      "%4 - Running for seed: 602\n",
      "%5 - Running for seed: 412\n",
      "%6 - Running for seed: 214\n",
      "%7 - Running for seed: 754\n",
      "%8 - Running for seed: 457\n",
      "%9 - Running for seed: 2023\n",
      "%10 - Running for seed: 3202\n"
     ]
    }
   ],
   "source": [
    "run_counter = 0\n",
    "results = dict()\n",
    "\n",
    "# Splitting dataset\n",
    "X = df.drop(columns='Potability')\n",
    "y = df['Potability']\n",
    "\n",
    "for seed in SEEDS:\n",
    "    run_counter += 1\n",
    "    print(f'%{run_counter} - Running for seed: {seed}')\n",
    "    X_train, X_test, y_train, y_test = train_test_split(X, y, test_size=.2, random_state=seed)\n",
    "\n",
    "    models_with_best_params = {\n",
    "        'GaussianNB': GaussianNB(var_smoothing=0.01519911082952933),\n",
    "        'DT': DecisionTreeClassifier(criterion='gini', max_depth=5, min_samples_leaf=1, min_samples_split=3),\n",
    "        'KNN': KNeighborsClassifier(metric='manhattan', n_neighbors=9, weights='distance'),\n",
    "        'RF': RandomForestClassifier(criterion='gini', max_depth=11, min_samples_leaf=1, min_samples_split=2, n_estimators=100),\n",
    "    }\n",
    "\n",
    "    for name, model in models_with_best_params.items():\n",
    "        model.fit(X_train, y_train)\n",
    "        y_pred = model.predict(X_test)\n",
    "        results[f\"{model.__class__.__name__}_{seed}\"] = get_metrics_df(y_test, y_pred, name)"
   ]
  },
  {
   "cell_type": "code",
   "execution_count": 17,
   "metadata": {},
   "outputs": [
    {
     "data": {
      "text/plain": [
       "dict_keys(['GaussianNB_24', 'DecisionTreeClassifier_24', 'KNeighborsClassifier_24', 'RandomForestClassifier_24', 'GaussianNB_42', 'DecisionTreeClassifier_42', 'KNeighborsClassifier_42', 'RandomForestClassifier_42', 'GaussianNB_206', 'DecisionTreeClassifier_206', 'KNeighborsClassifier_206', 'RandomForestClassifier_206', 'GaussianNB_602', 'DecisionTreeClassifier_602', 'KNeighborsClassifier_602', 'RandomForestClassifier_602', 'GaussianNB_412', 'DecisionTreeClassifier_412', 'KNeighborsClassifier_412', 'RandomForestClassifier_412', 'GaussianNB_214', 'DecisionTreeClassifier_214', 'KNeighborsClassifier_214', 'RandomForestClassifier_214', 'GaussianNB_754', 'DecisionTreeClassifier_754', 'KNeighborsClassifier_754', 'RandomForestClassifier_754', 'GaussianNB_457', 'DecisionTreeClassifier_457', 'KNeighborsClassifier_457', 'RandomForestClassifier_457', 'GaussianNB_2023', 'DecisionTreeClassifier_2023', 'KNeighborsClassifier_2023', 'RandomForestClassifier_2023', 'GaussianNB_3202', 'DecisionTreeClassifier_3202', 'KNeighborsClassifier_3202', 'RandomForestClassifier_3202'])"
      ]
     },
     "execution_count": 17,
     "metadata": {},
     "output_type": "execute_result"
    }
   ],
   "source": [
    "results.keys()"
   ]
  },
  {
   "cell_type": "code",
   "execution_count": 18,
   "metadata": {},
   "outputs": [],
   "source": [
    "gaussian_keys = [key for key in results.keys() if 'Gaussian' in key]\n",
    "dt_keys = [key for key in results.keys() if 'DecisionTreeClassifier' in key]\n",
    "knn_keys = [key for key in results.keys() if 'KNeighborsClassifier' in key]\n",
    "rf_keys = [key for key in results.keys() if 'RandomForestClassifier' in key]"
   ]
  },
  {
   "cell_type": "code",
   "execution_count": 19,
   "metadata": {},
   "outputs": [
    {
     "name": "stdout",
     "output_type": "stream",
     "text": [
      "10\n"
     ]
    }
   ],
   "source": [
    "print(len(gaussian_keys))\n",
    "assert len(gaussian_keys) == len(dt_keys) == len(knn_keys) == len(rf_keys)"
   ]
  },
  {
   "cell_type": "code",
   "execution_count": 20,
   "metadata": {},
   "outputs": [
    {
     "name": "stdout",
     "output_type": "stream",
     "text": [
      "+------------+-----------------+----------------+------------------+-----------------+---------------+--------------+-----------+----------+------------+-----------+\n",
      "| Model      |   Accuracy Mean |   Accuracy Std |   Precision Mean |   Precision Std |   Recall Mean |   Recall Std |   F1 Mean |   F1 Std |   ROC Mean |   ROC Std |\n",
      "|------------+-----------------+----------------+------------------+-----------------+---------------+--------------+-----------+----------+------------+-----------|\n",
      "| GaussianNB |          0.5809 |        0.02119 |           0.3192 |          0.1428 |       0.02149 |      0.01445 |   0.03942 |  0.02562 |     0.4952 |  0.006406 |\n",
      "+------------+-----------------+----------------+------------------+-----------------+---------------+--------------+-----------+----------+------------+-----------+\n",
      "+------------------------+-----------------+----------------+------------------+-----------------+---------------+--------------+-----------+----------+------------+-----------+\n",
      "| Model                  |   Accuracy Mean |   Accuracy Std |   Precision Mean |   Precision Std |   Recall Mean |   Recall Std |   F1 Mean |   F1 Std |   ROC Mean |   ROC Std |\n",
      "|------------------------+-----------------+----------------+------------------+-----------------+---------------+--------------+-----------+----------+------------+-----------|\n",
      "| DecisionTreeClassifier |          0.6293 |        0.02524 |           0.6315 |         0.06973 |        0.2489 |      0.04975 |    0.3523 |  0.04862 |     0.5711 |   0.01932 |\n",
      "+------------------------+-----------------+----------------+------------------+-----------------+---------------+--------------+-----------+----------+------------+-----------+\n",
      "+----------------------+-----------------+----------------+------------------+-----------------+---------------+--------------+-----------+----------+------------+-----------+\n",
      "| Model                |   Accuracy Mean |   Accuracy Std |   Precision Mean |   Precision Std |   Recall Mean |   Recall Std |   F1 Mean |   F1 Std |   ROC Mean |   ROC Std |\n",
      "|----------------------+-----------------+----------------+------------------+-----------------+---------------+--------------+-----------+----------+------------+-----------|\n",
      "| KNeighborsClassifier |          0.5655 |        0.02245 |            0.454 |          0.0261 |        0.2953 |      0.02546 |    0.3575 |  0.02479 |     0.5244 |   0.01785 |\n",
      "+----------------------+-----------------+----------------+------------------+-----------------+---------------+--------------+-----------+----------+------------+-----------+\n",
      "+------------------------+-----------------+----------------+------------------+-----------------+---------------+--------------+-----------+----------+------------+-----------+\n",
      "| Model                  |   Accuracy Mean |   Accuracy Std |   Precision Mean |   Precision Std |   Recall Mean |   Recall Std |   F1 Mean |   F1 Std |   ROC Mean |   ROC Std |\n",
      "|------------------------+-----------------+----------------+------------------+-----------------+---------------+--------------+-----------+----------+------------+-----------|\n",
      "| RandomForestClassifier |          0.6787 |        0.01977 |           0.7208 |         0.03255 |        0.3555 |      0.03053 |     0.475 |  0.02908 |     0.6296 |   0.01441 |\n",
      "+------------------------+-----------------+----------------+------------------+-----------------+---------------+--------------+-----------+----------+------------+-----------+\n"
     ]
    }
   ],
   "source": [
    "# Gaussian accuracy mean\n",
    "from tabulate import tabulate\n",
    "\n",
    "\n",
    "# Gaussian accuracy mean\n",
    "gaussian_accuracy_mean = np.mean([results[key]['accuracy'].values[0] for key in gaussian_keys])\n",
    "\n",
    "# Gaussian accuracy std\n",
    "gaussian_accuracy_std = np.std([results[key]['accuracy'].values[0] for key in gaussian_keys])\n",
    "\n",
    "# Gaussian precision mean\n",
    "gaussian_precision_mean = np.mean([results[key]['precision'].values[0] for key in gaussian_keys])\n",
    "\n",
    "# Gaussian precision std\n",
    "gaussian_precision_std = np.std([results[key]['precision'].values[0] for key in gaussian_keys])\n",
    "\n",
    "# Gaussian recall mean\n",
    "gaussian_recall_mean = np.mean([results[key]['recall'].values[0] for key in gaussian_keys])\n",
    "\n",
    "# Gaussian recall std\n",
    "gaussian_recall_std = np.std([results[key]['recall'].values[0] for key in gaussian_keys])\n",
    "\n",
    "# Gaussian f1 mean\n",
    "gaussian_f1_mean = np.mean([results[key]['f1'].values[0] for key in gaussian_keys])\n",
    "\n",
    "# Gaussian f1 std\n",
    "gaussian_f1_std = np.std([results[key]['f1'].values[0] for key in gaussian_keys])\n",
    "\n",
    "# Gaussian roc mean\n",
    "gaussian_roc_mean = np.mean([results[key]['roc'].values[0] for key in gaussian_keys])\n",
    "\n",
    "# Gaussian roc std\n",
    "gaussian_roc_std = np.std([results[key]['roc'].values[0] for key in gaussian_keys])\n",
    "\n",
    "\n",
    "# Print tabulate\n",
    "print(tabulate(\n",
    "    [\n",
    "        ['GaussianNB', \n",
    "         gaussian_accuracy_mean, gaussian_accuracy_std, \n",
    "         gaussian_precision_mean, gaussian_precision_std, \n",
    "         gaussian_recall_mean, gaussian_recall_std, \n",
    "         gaussian_f1_mean, gaussian_f1_std, \n",
    "         gaussian_roc_mean, gaussian_roc_std],\n",
    "    ],\n",
    "    headers=['Model', 'Accuracy Mean', 'Accuracy Std', \n",
    "             'Precision Mean', 'Precision Std', \n",
    "             'Recall Mean', 'Recall Std', \n",
    "             'F1 Mean', 'F1 Std', \n",
    "             'ROC Mean', 'ROC Std'],\n",
    "    tablefmt='psql',\n",
    "    floatfmt=(\".4\"),\n",
    "))\n",
    "\n",
    "\n",
    "# DT accuracy mean\n",
    "dt_accuracy_mean = np.mean([results[key]['accuracy'].values[0] for key in dt_keys])\n",
    "\n",
    "# DT accuracy std\n",
    "dt_accuracy_std = np.std([results[key]['accuracy'].values[0] for key in dt_keys])\n",
    "\n",
    "# DT precision mean\n",
    "dt_precision_mean = np.mean([results[key]['precision'].values[0] for key in dt_keys])\n",
    "\n",
    "# DT precision std\n",
    "dt_precision_std = np.std([results[key]['precision'].values[0] for key in dt_keys])\n",
    "\n",
    "# DT recall mean\n",
    "dt_recall_mean = np.mean([results[key]['recall'].values[0] for key in dt_keys])\n",
    "\n",
    "# DT recall std\n",
    "dt_recall_std = np.std([results[key]['recall'].values[0] for key in dt_keys])\n",
    "\n",
    "# DT f1 mean\n",
    "dt_f1_mean = np.mean([results[key]['f1'].values[0] for key in dt_keys])\n",
    "\n",
    "# DT f1 std\n",
    "dt_f1_std = np.std([results[key]['f1'].values[0] for key in dt_keys])\n",
    "\n",
    "# DT roc mean\n",
    "dt_roc_mean = np.mean([results[key]['roc'].values[0] for key in dt_keys])\n",
    "\n",
    "# DT roc std\n",
    "dt_roc_std = np.std([results[key]['roc'].values[0] for key in dt_keys])\n",
    "\n",
    "\n",
    "# Print tabulate\n",
    "print(tabulate(\n",
    "    [\n",
    "        ['DecisionTreeClassifier', dt_accuracy_mean, dt_accuracy_std, \n",
    "         dt_precision_mean, dt_precision_std, \n",
    "         dt_recall_mean, dt_recall_std, \n",
    "         dt_f1_mean, dt_f1_std, \n",
    "         dt_roc_mean, dt_roc_std],\n",
    "    ],\n",
    "    headers=['Model', 'Accuracy Mean', 'Accuracy Std', \n",
    "             'Precision Mean', 'Precision Std', \n",
    "             'Recall Mean', 'Recall Std', \n",
    "             'F1 Mean', 'F1 Std', \n",
    "             'ROC Mean', 'ROC Std'],\n",
    "    tablefmt='psql',\n",
    "    floatfmt=(\".4\"),\n",
    "))\n",
    "\n",
    "\n",
    "# KNN accuracy mean\n",
    "knn_accuracy_mean = np.mean([results[key]['accuracy'].values[0] for key in knn_keys])\n",
    "\n",
    "# KNN accuracy std\n",
    "knn_accuracy_std = np.std([results[key]['accuracy'].values[0] for key in knn_keys])\n",
    "\n",
    "# KNN precision mean\n",
    "knn_precision_mean = np.mean([results[key]['precision'].values[0] for key in knn_keys])\n",
    "\n",
    "# KNN precision std\n",
    "knn_precision_std = np.std([results[key]['precision'].values[0] for key in knn_keys])\n",
    "\n",
    "# KNN recall mean\n",
    "knn_recall_mean = np.mean([results[key]['recall'].values[0] for key in knn_keys])\n",
    "\n",
    "# KNN recall std\n",
    "knn_recall_std = np.std([results[key]['recall'].values[0] for key in knn_keys])\n",
    "\n",
    "# KNN f1 mean\n",
    "knn_f1_mean = np.mean([results[key]['f1'].values[0] for key in knn_keys])\n",
    "\n",
    "# KNN f1 std\n",
    "knn_f1_std = np.std([results[key]['f1'].values[0] for key in knn_keys])\n",
    "\n",
    "# KNN roc mean\n",
    "knn_roc_mean = np.mean([results[key]['roc'].values[0] for key in knn_keys])\n",
    "\n",
    "# KNN roc std\n",
    "knn_roc_std = np.std([results[key]['roc'].values[0] for key in knn_keys])\n",
    "\n",
    "\n",
    "# Print tabulate\n",
    "print(tabulate(\n",
    "    [\n",
    "        ['KNeighborsClassifier', knn_accuracy_mean, knn_accuracy_std, \n",
    "         knn_precision_mean, knn_precision_std, \n",
    "         knn_recall_mean, knn_recall_std, \n",
    "         knn_f1_mean, knn_f1_std, \n",
    "         knn_roc_mean, knn_roc_std],\n",
    "    ],\n",
    "    headers=['Model', 'Accuracy Mean', 'Accuracy Std', \n",
    "             'Precision Mean', 'Precision Std', \n",
    "             'Recall Mean', 'Recall Std', \n",
    "             'F1 Mean', 'F1 Std', \n",
    "             'ROC Mean', 'ROC Std'],\n",
    "    tablefmt='psql',\n",
    "    floatfmt=(\".4\"),\n",
    "))\n",
    "\n",
    "\n",
    "# RF accuracy mean\n",
    "rf_accuracy_mean = np.mean([results[key]['accuracy'].values[0] for key in rf_keys])\n",
    "\n",
    "# RF accuracy std\n",
    "rf_accuracy_std = np.std([results[key]['accuracy'].values[0] for key in rf_keys])\n",
    "\n",
    "# RF precision mean\n",
    "rf_precision_mean = np.mean([results[key]['precision'].values[0] for key in rf_keys])\n",
    "\n",
    "# RF precision std\n",
    "rf_precision_std = np.std([results[key]['precision'].values[0] for key in rf_keys])\n",
    "\n",
    "# RF recall mean\n",
    "rf_recall_mean = np.mean([results[key]['recall'].values[0] for key in rf_keys])\n",
    "\n",
    "# RF recall std\n",
    "rf_recall_std = np.std([results[key]['recall'].values[0] for key in rf_keys])\n",
    "\n",
    "# RF f1 mean\n",
    "rf_f1_mean = np.mean([results[key]['f1'].values[0] for key in rf_keys])\n",
    "\n",
    "# RF f1 std\n",
    "rf_f1_std = np.std([results[key]['f1'].values[0] for key in rf_keys])\n",
    "\n",
    "# RF roc mean\n",
    "rf_roc_mean = np.mean([results[key]['roc'].values[0] for key in rf_keys])\n",
    "\n",
    "# RF roc std\n",
    "rf_roc_std = np.std([results[key]['roc'].values[0] for key in rf_keys])\n",
    "\n",
    "\n",
    "# Print tabulate\n",
    "print(tabulate(\n",
    "    [\n",
    "        ['RandomForestClassifier', rf_accuracy_mean, rf_accuracy_std, \n",
    "         rf_precision_mean, rf_precision_std, \n",
    "         rf_recall_mean, rf_recall_std, \n",
    "         rf_f1_mean, rf_f1_std, \n",
    "         rf_roc_mean, rf_roc_std],\n",
    "    ],\n",
    "    headers=['Model', 'Accuracy Mean', 'Accuracy Std', \n",
    "             'Precision Mean', 'Precision Std', \n",
    "             'Recall Mean', 'Recall Std', \n",
    "             'F1 Mean', 'F1 Std', \n",
    "             'ROC Mean', 'ROC Std'],\n",
    "    tablefmt='psql',\n",
    "    floatfmt=(\".4\"),\n",
    "))"
   ]
  }
 ],
 "metadata": {
  "kernelspec": {
   "display_name": "venv",
   "language": "python",
   "name": "python3"
  },
  "language_info": {
   "codemirror_mode": {
    "name": "ipython",
    "version": 3
   },
   "file_extension": ".py",
   "mimetype": "text/x-python",
   "name": "python",
   "nbconvert_exporter": "python",
   "pygments_lexer": "ipython3",
   "version": "3.11.0"
  },
  "orig_nbformat": 4
 },
 "nbformat": 4,
 "nbformat_minor": 2
}
