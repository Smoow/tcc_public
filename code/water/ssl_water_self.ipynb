{
 "cells": [
  {
   "cell_type": "code",
   "execution_count": 1,
   "metadata": {},
   "outputs": [],
   "source": [
    "##################\n",
    "# Libraries\n",
    "##################\n",
    "import pandas as pd\n",
    "import numpy as np\n",
    "import seaborn as sns\n",
    "from sklearn.preprocessing import StandardScaler, RobustScaler\n",
    "from sklearn.model_selection import train_test_split, KFold\n",
    "from sklearn.metrics import accuracy_score, f1_score, precision_score, recall_score, roc_auc_score\n",
    "from sklearn.preprocessing import LabelEncoder\n",
    "from sklearn.svm import LinearSVC, SVC\n",
    "from sklearn.semi_supervised import SelfTrainingClassifier\n",
    "from sklearn.ensemble import RandomForestClassifier\n",
    "from sklearn.naive_bayes import GaussianNB\n",
    "from sklearn.neighbors import KNeighborsClassifier\n",
    "from sklearn.tree import DecisionTreeClassifier\n",
    "from loguru import logger"
   ]
  },
  {
   "cell_type": "code",
   "execution_count": 2,
   "metadata": {},
   "outputs": [],
   "source": [
    "##################\n",
    "# Constants\n",
    "##################\n",
    "MODEL_SEED=42\n",
    "ROWS_SEED=[24, 42, 206, 602, 412, 214, 754, 457, 2023, 3202]\n",
    "SIZE_OF_UNLABELLED_DATA = [0.1, 0.2, 0.3, 0.4, 0.5, 0.6, 0.7, 0.8, 0.85, 0.9]\n",
    "MODELS = [\n",
    "    GaussianNB(var_smoothing=0.01519911082952933),\n",
    "    DecisionTreeClassifier(criterion='entropy', max_depth=9, min_samples_leaf=3, min_samples_split=3),\n",
    "    KNeighborsClassifier(metric='manhattan', n_neighbors=15, weights='distance'),\n",
    "    RandomForestClassifier(criterion='gini', max_depth=15, min_samples_leaf=1, min_samples_split=9, n_estimators=400),\n",
    "]"
   ]
  },
  {
   "cell_type": "code",
   "execution_count": 3,
   "metadata": {},
   "outputs": [],
   "source": [
    "##################\n",
    "# Functions\n",
    "##################\n",
    "def encode_dataframe(df: pd.DataFrame) -> pd.DataFrame:\n",
    "    \"\"\"Encode dataframe using LabelEncoder\"\"\"\n",
    "    labelencoder = LabelEncoder()\n",
    "\n",
    "    for col in df.columns:\n",
    "        df[col] = labelencoder.fit_transform(df[col])\n",
    "\n",
    "    return df\n",
    "\n",
    "def get_metrics() -> dict:\n",
    "    metrics = {\n",
    "        'accuracy': accuracy_score,\n",
    "        'precision': precision_score,\n",
    "        'recall': recall_score,\n",
    "        'f1': f1_score,\n",
    "        'roc': roc_auc_score\n",
    "    }\n",
    "    return metrics\n",
    "\n",
    "\n",
    "def get_metrics_df(y_true, y_pred) -> pd.DataFrame:\n",
    "    metrics = get_metrics()\n",
    "    df = pd.DataFrame()\n",
    "    for metric_name, metric in metrics.items():\n",
    "        df[metric_name] = [metric(y_true, y_pred)]\n",
    "\n",
    "    return df\n",
    "\n",
    "def run_pipeline(X_train, X_test, y_train, y_test, size_of_unlabelled_data=0.5, model=None, rows_seed=42) -> dict:\n",
    "    if model is None:\n",
    "        raise ValueError(\"Model is None\")\n",
    "    \n",
    "    X_train = X_train.copy()\n",
    "    X_test = X_test.copy()\n",
    "    y_train = y_train.copy()\n",
    "    y_test = y_test.copy()\n",
    "\n",
    "    # Unlabelled data\n",
    "    rng = np.random.RandomState(rows_seed)\n",
    "    random_rows_with_rng = rng.choice(X_train.index, size=int(len(X_train)*size_of_unlabelled_data), replace=False)\n",
    "    y_train.loc[random_rows_with_rng] = -1\n",
    "\n",
    "    # Scale data\n",
    "    scaler = RobustScaler()\n",
    "    X_train = scaler.fit_transform(X_train)\n",
    "    X_test = scaler.transform(X_test)\n",
    "\n",
    "\n",
    "    self_training_model = SelfTrainingClassifier(model, verbose=False)\n",
    "    self_training_model.fit(X_train, y_train)\n",
    "\n",
    "    # Predict\n",
    "    y_pred = self_training_model.predict(X_test)\n",
    "\n",
    "    # Evaluate - Get Metrics\n",
    "    metrics = get_metrics_df(y_test, y_pred)\n",
    "    accuracy = metrics[\"accuracy\"].values[0]\n",
    "    precision = metrics[\"precision\"].values[0]\n",
    "    recall = metrics[\"recall\"].values[0]\n",
    "    f1 = metrics[\"f1\"].values[0]\n",
    "    roc = metrics[\"roc\"].values[0]\n",
    "    \n",
    "\n",
    "    return {\"rows_seed\": rows_seed, \"model\": type(model).__name__, \"unlabeled\": size_of_unlabelled_data, \"acc\": accuracy, \"precision\": precision, \"recall\": recall, \"f1\": f1, \"roc\": roc}\n",
    "\n",
    "def run_pipeline_self(X_train, X_test, y_train, y_test) -> pd.DataFrame:\n",
    "    run_counter = 0\n",
    "    results = []\n",
    "\n",
    "    for model in MODELS:\n",
    "        for value in SIZE_OF_UNLABELLED_DATA:\n",
    "            logger.info(f'Model: {model}')\n",
    "            logger.info(f'Size of unlabelled data: {value}')\n",
    "            for row_seed in ROWS_SEED:\n",
    "                run_counter += 1\n",
    "                logger.info(f\"%{run_counter} - Running pipeline for row_seed: {row_seed} and size_of_unlabelled_data: {value} and model: {model}\")\n",
    "                result = run_pipeline(X_train=X_train, X_test=X_test, y_train=y_train, y_test=y_test, size_of_unlabelled_data=value, model=model, rows_seed=row_seed)\n",
    "                results.append(result)\n",
    "            print('\\n')\n",
    "\n",
    "    results_rows_seed = []\n",
    "    results_models = []\n",
    "    results_unlabeled = []\n",
    "    results_acc = []\n",
    "    results_precision = []\n",
    "    results_recall = []\n",
    "    results_f1 = []\n",
    "    results_roc = []\n",
    "\n",
    "    for result in results:\n",
    "        results_rows_seed.append(result.get('rows_seed'))\n",
    "        results_models.append(result.get('model'))\n",
    "        results_unlabeled.append(result.get('unlabeled'))\n",
    "        results_acc.append(result.get('acc'))\n",
    "        results_precision.append(result.get('precision'))\n",
    "        results_recall.append(result.get('recall'))\n",
    "        results_f1.append(result.get('f1'))\n",
    "        results_roc.append(result.get('roc'))\n",
    "\n",
    "\n",
    "    results_df = pd.DataFrame({'rows_seed': results_rows_seed, 'model': results_models, 'unlabeled': results_unlabeled, 'acc': results_acc, 'precision': results_precision, 'recall': results_recall, 'f1': results_f1, 'roc': results_roc})\n",
    "\n",
    "    return results_df\n",
    "\n",
    "    "
   ]
  },
  {
   "cell_type": "code",
   "execution_count": 6,
   "metadata": {},
   "outputs": [],
   "source": [
    "df = pd.read_csv('../../datasets/water_potability.csv')\n",
    "df = df.dropna()\n",
    "\n",
    "X = df.drop('Potability', axis=1)\n",
    "y = df['Potability']\n",
    "\n",
    "X_train, X_test, y_train, y_test = train_test_split(X, y, test_size=0.2, random_state=MODEL_SEED)"
   ]
  },
  {
   "cell_type": "code",
   "execution_count": 7,
   "metadata": {},
   "outputs": [
    {
     "name": "stderr",
     "output_type": "stream",
     "text": [
      "\u001b[32m2023-10-22 14:34:21.235\u001b[0m | \u001b[1mINFO    \u001b[0m | \u001b[36m__main__\u001b[0m:\u001b[36mrun_pipeline_self\u001b[0m:\u001b[36m75\u001b[0m - \u001b[1mModel: GaussianNB(var_smoothing=0.01519911082952933)\u001b[0m\n",
      "\u001b[32m2023-10-22 14:34:21.235\u001b[0m | \u001b[1mINFO    \u001b[0m | \u001b[36m__main__\u001b[0m:\u001b[36mrun_pipeline_self\u001b[0m:\u001b[36m76\u001b[0m - \u001b[1mSize of unlabelled data: 0.1\u001b[0m\n",
      "\u001b[32m2023-10-22 14:34:21.236\u001b[0m | \u001b[1mINFO    \u001b[0m | \u001b[36m__main__\u001b[0m:\u001b[36mrun_pipeline_self\u001b[0m:\u001b[36m79\u001b[0m - \u001b[1m%1 - Running pipeline for row_seed: 24 and size_of_unlabelled_data: 0.1 and model: GaussianNB(var_smoothing=0.01519911082952933)\u001b[0m\n",
      "\u001b[32m2023-10-22 14:34:21.252\u001b[0m | \u001b[1mINFO    \u001b[0m | \u001b[36m__main__\u001b[0m:\u001b[36mrun_pipeline_self\u001b[0m:\u001b[36m79\u001b[0m - \u001b[1m%2 - Running pipeline for row_seed: 42 and size_of_unlabelled_data: 0.1 and model: GaussianNB(var_smoothing=0.01519911082952933)\u001b[0m\n",
      "\u001b[32m2023-10-22 14:34:21.266\u001b[0m | \u001b[1mINFO    \u001b[0m | \u001b[36m__main__\u001b[0m:\u001b[36mrun_pipeline_self\u001b[0m:\u001b[36m79\u001b[0m - \u001b[1m%3 - Running pipeline for row_seed: 206 and size_of_unlabelled_data: 0.1 and model: GaussianNB(var_smoothing=0.01519911082952933)\u001b[0m\n",
      "\u001b[32m2023-10-22 14:34:21.279\u001b[0m | \u001b[1mINFO    \u001b[0m | \u001b[36m__main__\u001b[0m:\u001b[36mrun_pipeline_self\u001b[0m:\u001b[36m79\u001b[0m - \u001b[1m%4 - Running pipeline for row_seed: 602 and size_of_unlabelled_data: 0.1 and model: GaussianNB(var_smoothing=0.01519911082952933)\u001b[0m\n",
      "\u001b[32m2023-10-22 14:34:21.295\u001b[0m | \u001b[1mINFO    \u001b[0m | \u001b[36m__main__\u001b[0m:\u001b[36mrun_pipeline_self\u001b[0m:\u001b[36m79\u001b[0m - \u001b[1m%5 - Running pipeline for row_seed: 412 and size_of_unlabelled_data: 0.1 and model: GaussianNB(var_smoothing=0.01519911082952933)\u001b[0m\n",
      "\u001b[32m2023-10-22 14:34:21.308\u001b[0m | \u001b[1mINFO    \u001b[0m | \u001b[36m__main__\u001b[0m:\u001b[36mrun_pipeline_self\u001b[0m:\u001b[36m79\u001b[0m - \u001b[1m%6 - Running pipeline for row_seed: 214 and size_of_unlabelled_data: 0.1 and model: GaussianNB(var_smoothing=0.01519911082952933)\u001b[0m\n",
      "\u001b[32m2023-10-22 14:34:21.320\u001b[0m | \u001b[1mINFO    \u001b[0m | \u001b[36m__main__\u001b[0m:\u001b[36mrun_pipeline_self\u001b[0m:\u001b[36m79\u001b[0m - \u001b[1m%7 - Running pipeline for row_seed: 754 and size_of_unlabelled_data: 0.1 and model: GaussianNB(var_smoothing=0.01519911082952933)\u001b[0m\n",
      "\u001b[32m2023-10-22 14:34:21.333\u001b[0m | \u001b[1mINFO    \u001b[0m | \u001b[36m__main__\u001b[0m:\u001b[36mrun_pipeline_self\u001b[0m:\u001b[36m79\u001b[0m - \u001b[1m%8 - Running pipeline for row_seed: 457 and size_of_unlabelled_data: 0.1 and model: GaussianNB(var_smoothing=0.01519911082952933)\u001b[0m\n",
      "\u001b[32m2023-10-22 14:34:21.355\u001b[0m | \u001b[1mINFO    \u001b[0m | \u001b[36m__main__\u001b[0m:\u001b[36mrun_pipeline_self\u001b[0m:\u001b[36m79\u001b[0m - \u001b[1m%9 - Running pipeline for row_seed: 2023 and size_of_unlabelled_data: 0.1 and model: GaussianNB(var_smoothing=0.01519911082952933)\u001b[0m\n",
      "\u001b[32m2023-10-22 14:34:21.374\u001b[0m | \u001b[1mINFO    \u001b[0m | \u001b[36m__main__\u001b[0m:\u001b[36mrun_pipeline_self\u001b[0m:\u001b[36m79\u001b[0m - \u001b[1m%10 - Running pipeline for row_seed: 3202 and size_of_unlabelled_data: 0.1 and model: GaussianNB(var_smoothing=0.01519911082952933)\u001b[0m\n",
      "\u001b[32m2023-10-22 14:34:21.390\u001b[0m | \u001b[1mINFO    \u001b[0m | \u001b[36m__main__\u001b[0m:\u001b[36mrun_pipeline_self\u001b[0m:\u001b[36m75\u001b[0m - \u001b[1mModel: GaussianNB(var_smoothing=0.01519911082952933)\u001b[0m\n",
      "\u001b[32m2023-10-22 14:34:21.390\u001b[0m | \u001b[1mINFO    \u001b[0m | \u001b[36m__main__\u001b[0m:\u001b[36mrun_pipeline_self\u001b[0m:\u001b[36m76\u001b[0m - \u001b[1mSize of unlabelled data: 0.2\u001b[0m\n",
      "\u001b[32m2023-10-22 14:34:21.391\u001b[0m | \u001b[1mINFO    \u001b[0m | \u001b[36m__main__\u001b[0m:\u001b[36mrun_pipeline_self\u001b[0m:\u001b[36m79\u001b[0m - \u001b[1m%11 - Running pipeline for row_seed: 24 and size_of_unlabelled_data: 0.2 and model: GaussianNB(var_smoothing=0.01519911082952933)\u001b[0m\n",
      "\u001b[32m2023-10-22 14:34:21.407\u001b[0m | \u001b[1mINFO    \u001b[0m | \u001b[36m__main__\u001b[0m:\u001b[36mrun_pipeline_self\u001b[0m:\u001b[36m79\u001b[0m - \u001b[1m%12 - Running pipeline for row_seed: 42 and size_of_unlabelled_data: 0.2 and model: GaussianNB(var_smoothing=0.01519911082952933)\u001b[0m\n",
      "\u001b[32m2023-10-22 14:34:21.423\u001b[0m | \u001b[1mINFO    \u001b[0m | \u001b[36m__main__\u001b[0m:\u001b[36mrun_pipeline_self\u001b[0m:\u001b[36m79\u001b[0m - \u001b[1m%13 - Running pipeline for row_seed: 206 and size_of_unlabelled_data: 0.2 and model: GaussianNB(var_smoothing=0.01519911082952933)\u001b[0m\n",
      "\u001b[32m2023-10-22 14:34:21.440\u001b[0m | \u001b[1mINFO    \u001b[0m | \u001b[36m__main__\u001b[0m:\u001b[36mrun_pipeline_self\u001b[0m:\u001b[36m79\u001b[0m - \u001b[1m%14 - Running pipeline for row_seed: 602 and size_of_unlabelled_data: 0.2 and model: GaussianNB(var_smoothing=0.01519911082952933)\u001b[0m\n",
      "\u001b[32m2023-10-22 14:34:21.460\u001b[0m | \u001b[1mINFO    \u001b[0m | \u001b[36m__main__\u001b[0m:\u001b[36mrun_pipeline_self\u001b[0m:\u001b[36m79\u001b[0m - \u001b[1m%15 - Running pipeline for row_seed: 412 and size_of_unlabelled_data: 0.2 and model: GaussianNB(var_smoothing=0.01519911082952933)\u001b[0m\n",
      "\u001b[32m2023-10-22 14:34:21.479\u001b[0m | \u001b[1mINFO    \u001b[0m | \u001b[36m__main__\u001b[0m:\u001b[36mrun_pipeline_self\u001b[0m:\u001b[36m79\u001b[0m - \u001b[1m%16 - Running pipeline for row_seed: 214 and size_of_unlabelled_data: 0.2 and model: GaussianNB(var_smoothing=0.01519911082952933)\u001b[0m\n",
      "\u001b[32m2023-10-22 14:34:21.494\u001b[0m | \u001b[1mINFO    \u001b[0m | \u001b[36m__main__\u001b[0m:\u001b[36mrun_pipeline_self\u001b[0m:\u001b[36m79\u001b[0m - \u001b[1m%17 - Running pipeline for row_seed: 754 and size_of_unlabelled_data: 0.2 and model: GaussianNB(var_smoothing=0.01519911082952933)\u001b[0m\n",
      "\u001b[32m2023-10-22 14:34:21.510\u001b[0m | \u001b[1mINFO    \u001b[0m | \u001b[36m__main__\u001b[0m:\u001b[36mrun_pipeline_self\u001b[0m:\u001b[36m79\u001b[0m - \u001b[1m%18 - Running pipeline for row_seed: 457 and size_of_unlabelled_data: 0.2 and model: GaussianNB(var_smoothing=0.01519911082952933)\u001b[0m\n",
      "\u001b[32m2023-10-22 14:34:21.528\u001b[0m | \u001b[1mINFO    \u001b[0m | \u001b[36m__main__\u001b[0m:\u001b[36mrun_pipeline_self\u001b[0m:\u001b[36m79\u001b[0m - \u001b[1m%19 - Running pipeline for row_seed: 2023 and size_of_unlabelled_data: 0.2 and model: GaussianNB(var_smoothing=0.01519911082952933)\u001b[0m\n",
      "\u001b[32m2023-10-22 14:34:21.546\u001b[0m | \u001b[1mINFO    \u001b[0m | \u001b[36m__main__\u001b[0m:\u001b[36mrun_pipeline_self\u001b[0m:\u001b[36m79\u001b[0m - \u001b[1m%20 - Running pipeline for row_seed: 3202 and size_of_unlabelled_data: 0.2 and model: GaussianNB(var_smoothing=0.01519911082952933)\u001b[0m\n",
      "\u001b[32m2023-10-22 14:34:21.562\u001b[0m | \u001b[1mINFO    \u001b[0m | \u001b[36m__main__\u001b[0m:\u001b[36mrun_pipeline_self\u001b[0m:\u001b[36m75\u001b[0m - \u001b[1mModel: GaussianNB(var_smoothing=0.01519911082952933)\u001b[0m\n",
      "\u001b[32m2023-10-22 14:34:21.563\u001b[0m | \u001b[1mINFO    \u001b[0m | \u001b[36m__main__\u001b[0m:\u001b[36mrun_pipeline_self\u001b[0m:\u001b[36m76\u001b[0m - \u001b[1mSize of unlabelled data: 0.3\u001b[0m\n",
      "\u001b[32m2023-10-22 14:34:21.563\u001b[0m | \u001b[1mINFO    \u001b[0m | \u001b[36m__main__\u001b[0m:\u001b[36mrun_pipeline_self\u001b[0m:\u001b[36m79\u001b[0m - \u001b[1m%21 - Running pipeline for row_seed: 24 and size_of_unlabelled_data: 0.3 and model: GaussianNB(var_smoothing=0.01519911082952933)\u001b[0m\n",
      "\u001b[32m2023-10-22 14:34:21.584\u001b[0m | \u001b[1mINFO    \u001b[0m | \u001b[36m__main__\u001b[0m:\u001b[36mrun_pipeline_self\u001b[0m:\u001b[36m79\u001b[0m - \u001b[1m%22 - Running pipeline for row_seed: 42 and size_of_unlabelled_data: 0.3 and model: GaussianNB(var_smoothing=0.01519911082952933)\u001b[0m\n"
     ]
    },
    {
     "name": "stdout",
     "output_type": "stream",
     "text": [
      "\n",
      "\n",
      "\n",
      "\n"
     ]
    },
    {
     "name": "stderr",
     "output_type": "stream",
     "text": [
      "\u001b[32m2023-10-22 14:34:21.603\u001b[0m | \u001b[1mINFO    \u001b[0m | \u001b[36m__main__\u001b[0m:\u001b[36mrun_pipeline_self\u001b[0m:\u001b[36m79\u001b[0m - \u001b[1m%23 - Running pipeline for row_seed: 206 and size_of_unlabelled_data: 0.3 and model: GaussianNB(var_smoothing=0.01519911082952933)\u001b[0m\n",
      "\u001b[32m2023-10-22 14:34:21.622\u001b[0m | \u001b[1mINFO    \u001b[0m | \u001b[36m__main__\u001b[0m:\u001b[36mrun_pipeline_self\u001b[0m:\u001b[36m79\u001b[0m - \u001b[1m%24 - Running pipeline for row_seed: 602 and size_of_unlabelled_data: 0.3 and model: GaussianNB(var_smoothing=0.01519911082952933)\u001b[0m\n",
      "\u001b[32m2023-10-22 14:34:21.643\u001b[0m | \u001b[1mINFO    \u001b[0m | \u001b[36m__main__\u001b[0m:\u001b[36mrun_pipeline_self\u001b[0m:\u001b[36m79\u001b[0m - \u001b[1m%25 - Running pipeline for row_seed: 412 and size_of_unlabelled_data: 0.3 and model: GaussianNB(var_smoothing=0.01519911082952933)\u001b[0m\n",
      "\u001b[32m2023-10-22 14:34:21.661\u001b[0m | \u001b[1mINFO    \u001b[0m | \u001b[36m__main__\u001b[0m:\u001b[36mrun_pipeline_self\u001b[0m:\u001b[36m79\u001b[0m - \u001b[1m%26 - Running pipeline for row_seed: 214 and size_of_unlabelled_data: 0.3 and model: GaussianNB(var_smoothing=0.01519911082952933)\u001b[0m\n",
      "\u001b[32m2023-10-22 14:34:21.678\u001b[0m | \u001b[1mINFO    \u001b[0m | \u001b[36m__main__\u001b[0m:\u001b[36mrun_pipeline_self\u001b[0m:\u001b[36m79\u001b[0m - \u001b[1m%27 - Running pipeline for row_seed: 754 and size_of_unlabelled_data: 0.3 and model: GaussianNB(var_smoothing=0.01519911082952933)\u001b[0m\n",
      "\u001b[32m2023-10-22 14:34:21.697\u001b[0m | \u001b[1mINFO    \u001b[0m | \u001b[36m__main__\u001b[0m:\u001b[36mrun_pipeline_self\u001b[0m:\u001b[36m79\u001b[0m - \u001b[1m%28 - Running pipeline for row_seed: 457 and size_of_unlabelled_data: 0.3 and model: GaussianNB(var_smoothing=0.01519911082952933)\u001b[0m\n",
      "\u001b[32m2023-10-22 14:34:21.716\u001b[0m | \u001b[1mINFO    \u001b[0m | \u001b[36m__main__\u001b[0m:\u001b[36mrun_pipeline_self\u001b[0m:\u001b[36m79\u001b[0m - \u001b[1m%29 - Running pipeline for row_seed: 2023 and size_of_unlabelled_data: 0.3 and model: GaussianNB(var_smoothing=0.01519911082952933)\u001b[0m\n",
      "\u001b[32m2023-10-22 14:34:21.735\u001b[0m | \u001b[1mINFO    \u001b[0m | \u001b[36m__main__\u001b[0m:\u001b[36mrun_pipeline_self\u001b[0m:\u001b[36m79\u001b[0m - \u001b[1m%30 - Running pipeline for row_seed: 3202 and size_of_unlabelled_data: 0.3 and model: GaussianNB(var_smoothing=0.01519911082952933)\u001b[0m\n",
      "\u001b[32m2023-10-22 14:34:21.756\u001b[0m | \u001b[1mINFO    \u001b[0m | \u001b[36m__main__\u001b[0m:\u001b[36mrun_pipeline_self\u001b[0m:\u001b[36m75\u001b[0m - \u001b[1mModel: GaussianNB(var_smoothing=0.01519911082952933)\u001b[0m\n",
      "\u001b[32m2023-10-22 14:34:21.757\u001b[0m | \u001b[1mINFO    \u001b[0m | \u001b[36m__main__\u001b[0m:\u001b[36mrun_pipeline_self\u001b[0m:\u001b[36m76\u001b[0m - \u001b[1mSize of unlabelled data: 0.4\u001b[0m\n",
      "\u001b[32m2023-10-22 14:34:21.758\u001b[0m | \u001b[1mINFO    \u001b[0m | \u001b[36m__main__\u001b[0m:\u001b[36mrun_pipeline_self\u001b[0m:\u001b[36m79\u001b[0m - \u001b[1m%31 - Running pipeline for row_seed: 24 and size_of_unlabelled_data: 0.4 and model: GaussianNB(var_smoothing=0.01519911082952933)\u001b[0m\n",
      "\u001b[32m2023-10-22 14:34:21.777\u001b[0m | \u001b[1mINFO    \u001b[0m | \u001b[36m__main__\u001b[0m:\u001b[36mrun_pipeline_self\u001b[0m:\u001b[36m79\u001b[0m - \u001b[1m%32 - Running pipeline for row_seed: 42 and size_of_unlabelled_data: 0.4 and model: GaussianNB(var_smoothing=0.01519911082952933)\u001b[0m\n",
      "\u001b[32m2023-10-22 14:34:21.797\u001b[0m | \u001b[1mINFO    \u001b[0m | \u001b[36m__main__\u001b[0m:\u001b[36mrun_pipeline_self\u001b[0m:\u001b[36m79\u001b[0m - \u001b[1m%33 - Running pipeline for row_seed: 206 and size_of_unlabelled_data: 0.4 and model: GaussianNB(var_smoothing=0.01519911082952933)\u001b[0m\n",
      "\u001b[32m2023-10-22 14:34:21.815\u001b[0m | \u001b[1mINFO    \u001b[0m | \u001b[36m__main__\u001b[0m:\u001b[36mrun_pipeline_self\u001b[0m:\u001b[36m79\u001b[0m - \u001b[1m%34 - Running pipeline for row_seed: 602 and size_of_unlabelled_data: 0.4 and model: GaussianNB(var_smoothing=0.01519911082952933)\u001b[0m\n",
      "\u001b[32m2023-10-22 14:34:21.845\u001b[0m | \u001b[1mINFO    \u001b[0m | \u001b[36m__main__\u001b[0m:\u001b[36mrun_pipeline_self\u001b[0m:\u001b[36m79\u001b[0m - \u001b[1m%35 - Running pipeline for row_seed: 412 and size_of_unlabelled_data: 0.4 and model: GaussianNB(var_smoothing=0.01519911082952933)\u001b[0m\n",
      "\u001b[32m2023-10-22 14:34:21.863\u001b[0m | \u001b[1mINFO    \u001b[0m | \u001b[36m__main__\u001b[0m:\u001b[36mrun_pipeline_self\u001b[0m:\u001b[36m79\u001b[0m - \u001b[1m%36 - Running pipeline for row_seed: 214 and size_of_unlabelled_data: 0.4 and model: GaussianNB(var_smoothing=0.01519911082952933)\u001b[0m\n",
      "\u001b[32m2023-10-22 14:34:21.882\u001b[0m | \u001b[1mINFO    \u001b[0m | \u001b[36m__main__\u001b[0m:\u001b[36mrun_pipeline_self\u001b[0m:\u001b[36m79\u001b[0m - \u001b[1m%37 - Running pipeline for row_seed: 754 and size_of_unlabelled_data: 0.4 and model: GaussianNB(var_smoothing=0.01519911082952933)\u001b[0m\n",
      "\u001b[32m2023-10-22 14:34:21.901\u001b[0m | \u001b[1mINFO    \u001b[0m | \u001b[36m__main__\u001b[0m:\u001b[36mrun_pipeline_self\u001b[0m:\u001b[36m79\u001b[0m - \u001b[1m%38 - Running pipeline for row_seed: 457 and size_of_unlabelled_data: 0.4 and model: GaussianNB(var_smoothing=0.01519911082952933)\u001b[0m\n",
      "\u001b[32m2023-10-22 14:34:21.922\u001b[0m | \u001b[1mINFO    \u001b[0m | \u001b[36m__main__\u001b[0m:\u001b[36mrun_pipeline_self\u001b[0m:\u001b[36m79\u001b[0m - \u001b[1m%39 - Running pipeline for row_seed: 2023 and size_of_unlabelled_data: 0.4 and model: GaussianNB(var_smoothing=0.01519911082952933)\u001b[0m\n",
      "\u001b[32m2023-10-22 14:34:21.941\u001b[0m | \u001b[1mINFO    \u001b[0m | \u001b[36m__main__\u001b[0m:\u001b[36mrun_pipeline_self\u001b[0m:\u001b[36m79\u001b[0m - \u001b[1m%40 - Running pipeline for row_seed: 3202 and size_of_unlabelled_data: 0.4 and model: GaussianNB(var_smoothing=0.01519911082952933)\u001b[0m\n"
     ]
    },
    {
     "name": "stdout",
     "output_type": "stream",
     "text": [
      "\n",
      "\n"
     ]
    },
    {
     "name": "stderr",
     "output_type": "stream",
     "text": [
      "\u001b[32m2023-10-22 14:34:21.961\u001b[0m | \u001b[1mINFO    \u001b[0m | \u001b[36m__main__\u001b[0m:\u001b[36mrun_pipeline_self\u001b[0m:\u001b[36m75\u001b[0m - \u001b[1mModel: GaussianNB(var_smoothing=0.01519911082952933)\u001b[0m\n",
      "\u001b[32m2023-10-22 14:34:21.962\u001b[0m | \u001b[1mINFO    \u001b[0m | \u001b[36m__main__\u001b[0m:\u001b[36mrun_pipeline_self\u001b[0m:\u001b[36m76\u001b[0m - \u001b[1mSize of unlabelled data: 0.5\u001b[0m\n",
      "\u001b[32m2023-10-22 14:34:21.962\u001b[0m | \u001b[1mINFO    \u001b[0m | \u001b[36m__main__\u001b[0m:\u001b[36mrun_pipeline_self\u001b[0m:\u001b[36m79\u001b[0m - \u001b[1m%41 - Running pipeline for row_seed: 24 and size_of_unlabelled_data: 0.5 and model: GaussianNB(var_smoothing=0.01519911082952933)\u001b[0m\n",
      "\u001b[32m2023-10-22 14:34:21.996\u001b[0m | \u001b[1mINFO    \u001b[0m | \u001b[36m__main__\u001b[0m:\u001b[36mrun_pipeline_self\u001b[0m:\u001b[36m79\u001b[0m - \u001b[1m%42 - Running pipeline for row_seed: 42 and size_of_unlabelled_data: 0.5 and model: GaussianNB(var_smoothing=0.01519911082952933)\u001b[0m\n",
      "\u001b[32m2023-10-22 14:34:22.020\u001b[0m | \u001b[1mINFO    \u001b[0m | \u001b[36m__main__\u001b[0m:\u001b[36mrun_pipeline_self\u001b[0m:\u001b[36m79\u001b[0m - \u001b[1m%43 - Running pipeline for row_seed: 206 and size_of_unlabelled_data: 0.5 and model: GaussianNB(var_smoothing=0.01519911082952933)\u001b[0m\n",
      "\u001b[32m2023-10-22 14:34:22.044\u001b[0m | \u001b[1mINFO    \u001b[0m | \u001b[36m__main__\u001b[0m:\u001b[36mrun_pipeline_self\u001b[0m:\u001b[36m79\u001b[0m - \u001b[1m%44 - Running pipeline for row_seed: 602 and size_of_unlabelled_data: 0.5 and model: GaussianNB(var_smoothing=0.01519911082952933)\u001b[0m\n",
      "\u001b[32m2023-10-22 14:34:22.068\u001b[0m | \u001b[1mINFO    \u001b[0m | \u001b[36m__main__\u001b[0m:\u001b[36mrun_pipeline_self\u001b[0m:\u001b[36m79\u001b[0m - \u001b[1m%45 - Running pipeline for row_seed: 412 and size_of_unlabelled_data: 0.5 and model: GaussianNB(var_smoothing=0.01519911082952933)\u001b[0m\n",
      "\u001b[32m2023-10-22 14:34:22.092\u001b[0m | \u001b[1mINFO    \u001b[0m | \u001b[36m__main__\u001b[0m:\u001b[36mrun_pipeline_self\u001b[0m:\u001b[36m79\u001b[0m - \u001b[1m%46 - Running pipeline for row_seed: 214 and size_of_unlabelled_data: 0.5 and model: GaussianNB(var_smoothing=0.01519911082952933)\u001b[0m\n",
      "\u001b[32m2023-10-22 14:34:22.111\u001b[0m | \u001b[1mINFO    \u001b[0m | \u001b[36m__main__\u001b[0m:\u001b[36mrun_pipeline_self\u001b[0m:\u001b[36m79\u001b[0m - \u001b[1m%47 - Running pipeline for row_seed: 754 and size_of_unlabelled_data: 0.5 and model: GaussianNB(var_smoothing=0.01519911082952933)\u001b[0m\n",
      "\u001b[32m2023-10-22 14:34:22.131\u001b[0m | \u001b[1mINFO    \u001b[0m | \u001b[36m__main__\u001b[0m:\u001b[36mrun_pipeline_self\u001b[0m:\u001b[36m79\u001b[0m - \u001b[1m%48 - Running pipeline for row_seed: 457 and size_of_unlabelled_data: 0.5 and model: GaussianNB(var_smoothing=0.01519911082952933)\u001b[0m\n",
      "\u001b[32m2023-10-22 14:34:22.151\u001b[0m | \u001b[1mINFO    \u001b[0m | \u001b[36m__main__\u001b[0m:\u001b[36mrun_pipeline_self\u001b[0m:\u001b[36m79\u001b[0m - \u001b[1m%49 - Running pipeline for row_seed: 2023 and size_of_unlabelled_data: 0.5 and model: GaussianNB(var_smoothing=0.01519911082952933)\u001b[0m\n"
     ]
    },
    {
     "name": "stdout",
     "output_type": "stream",
     "text": [
      "\n",
      "\n"
     ]
    },
    {
     "name": "stderr",
     "output_type": "stream",
     "text": [
      "\u001b[32m2023-10-22 14:34:22.170\u001b[0m | \u001b[1mINFO    \u001b[0m | \u001b[36m__main__\u001b[0m:\u001b[36mrun_pipeline_self\u001b[0m:\u001b[36m79\u001b[0m - \u001b[1m%50 - Running pipeline for row_seed: 3202 and size_of_unlabelled_data: 0.5 and model: GaussianNB(var_smoothing=0.01519911082952933)\u001b[0m\n",
      "\u001b[32m2023-10-22 14:34:22.188\u001b[0m | \u001b[1mINFO    \u001b[0m | \u001b[36m__main__\u001b[0m:\u001b[36mrun_pipeline_self\u001b[0m:\u001b[36m75\u001b[0m - \u001b[1mModel: GaussianNB(var_smoothing=0.01519911082952933)\u001b[0m\n",
      "\u001b[32m2023-10-22 14:34:22.188\u001b[0m | \u001b[1mINFO    \u001b[0m | \u001b[36m__main__\u001b[0m:\u001b[36mrun_pipeline_self\u001b[0m:\u001b[36m76\u001b[0m - \u001b[1mSize of unlabelled data: 0.6\u001b[0m\n",
      "\u001b[32m2023-10-22 14:34:22.189\u001b[0m | \u001b[1mINFO    \u001b[0m | \u001b[36m__main__\u001b[0m:\u001b[36mrun_pipeline_self\u001b[0m:\u001b[36m79\u001b[0m - \u001b[1m%51 - Running pipeline for row_seed: 24 and size_of_unlabelled_data: 0.6 and model: GaussianNB(var_smoothing=0.01519911082952933)\u001b[0m\n",
      "\u001b[32m2023-10-22 14:34:22.209\u001b[0m | \u001b[1mINFO    \u001b[0m | \u001b[36m__main__\u001b[0m:\u001b[36mrun_pipeline_self\u001b[0m:\u001b[36m79\u001b[0m - \u001b[1m%52 - Running pipeline for row_seed: 42 and size_of_unlabelled_data: 0.6 and model: GaussianNB(var_smoothing=0.01519911082952933)\u001b[0m\n",
      "\u001b[32m2023-10-22 14:34:22.229\u001b[0m | \u001b[1mINFO    \u001b[0m | \u001b[36m__main__\u001b[0m:\u001b[36mrun_pipeline_self\u001b[0m:\u001b[36m79\u001b[0m - \u001b[1m%53 - Running pipeline for row_seed: 206 and size_of_unlabelled_data: 0.6 and model: GaussianNB(var_smoothing=0.01519911082952933)\u001b[0m\n",
      "\u001b[32m2023-10-22 14:34:22.247\u001b[0m | \u001b[1mINFO    \u001b[0m | \u001b[36m__main__\u001b[0m:\u001b[36mrun_pipeline_self\u001b[0m:\u001b[36m79\u001b[0m - \u001b[1m%54 - Running pipeline for row_seed: 602 and size_of_unlabelled_data: 0.6 and model: GaussianNB(var_smoothing=0.01519911082952933)\u001b[0m\n",
      "\u001b[32m2023-10-22 14:34:22.266\u001b[0m | \u001b[1mINFO    \u001b[0m | \u001b[36m__main__\u001b[0m:\u001b[36mrun_pipeline_self\u001b[0m:\u001b[36m79\u001b[0m - \u001b[1m%55 - Running pipeline for row_seed: 412 and size_of_unlabelled_data: 0.6 and model: GaussianNB(var_smoothing=0.01519911082952933)\u001b[0m\n",
      "\u001b[32m2023-10-22 14:34:22.284\u001b[0m | \u001b[1mINFO    \u001b[0m | \u001b[36m__main__\u001b[0m:\u001b[36mrun_pipeline_self\u001b[0m:\u001b[36m79\u001b[0m - \u001b[1m%56 - Running pipeline for row_seed: 214 and size_of_unlabelled_data: 0.6 and model: GaussianNB(var_smoothing=0.01519911082952933)\u001b[0m\n",
      "\u001b[32m2023-10-22 14:34:22.301\u001b[0m | \u001b[1mINFO    \u001b[0m | \u001b[36m__main__\u001b[0m:\u001b[36mrun_pipeline_self\u001b[0m:\u001b[36m79\u001b[0m - \u001b[1m%57 - Running pipeline for row_seed: 754 and size_of_unlabelled_data: 0.6 and model: GaussianNB(var_smoothing=0.01519911082952933)\u001b[0m\n",
      "\u001b[32m2023-10-22 14:34:22.319\u001b[0m | \u001b[1mINFO    \u001b[0m | \u001b[36m__main__\u001b[0m:\u001b[36mrun_pipeline_self\u001b[0m:\u001b[36m79\u001b[0m - \u001b[1m%58 - Running pipeline for row_seed: 457 and size_of_unlabelled_data: 0.6 and model: GaussianNB(var_smoothing=0.01519911082952933)\u001b[0m\n",
      "\u001b[32m2023-10-22 14:34:22.338\u001b[0m | \u001b[1mINFO    \u001b[0m | \u001b[36m__main__\u001b[0m:\u001b[36mrun_pipeline_self\u001b[0m:\u001b[36m79\u001b[0m - \u001b[1m%59 - Running pipeline for row_seed: 2023 and size_of_unlabelled_data: 0.6 and model: GaussianNB(var_smoothing=0.01519911082952933)\u001b[0m\n",
      "\u001b[32m2023-10-22 14:34:22.356\u001b[0m | \u001b[1mINFO    \u001b[0m | \u001b[36m__main__\u001b[0m:\u001b[36mrun_pipeline_self\u001b[0m:\u001b[36m79\u001b[0m - \u001b[1m%60 - Running pipeline for row_seed: 3202 and size_of_unlabelled_data: 0.6 and model: GaussianNB(var_smoothing=0.01519911082952933)\u001b[0m\n",
      "\u001b[32m2023-10-22 14:34:22.374\u001b[0m | \u001b[1mINFO    \u001b[0m | \u001b[36m__main__\u001b[0m:\u001b[36mrun_pipeline_self\u001b[0m:\u001b[36m75\u001b[0m - \u001b[1mModel: GaussianNB(var_smoothing=0.01519911082952933)\u001b[0m\n",
      "\u001b[32m2023-10-22 14:34:22.375\u001b[0m | \u001b[1mINFO    \u001b[0m | \u001b[36m__main__\u001b[0m:\u001b[36mrun_pipeline_self\u001b[0m:\u001b[36m76\u001b[0m - \u001b[1mSize of unlabelled data: 0.7\u001b[0m\n",
      "\u001b[32m2023-10-22 14:34:22.376\u001b[0m | \u001b[1mINFO    \u001b[0m | \u001b[36m__main__\u001b[0m:\u001b[36mrun_pipeline_self\u001b[0m:\u001b[36m79\u001b[0m - \u001b[1m%61 - Running pipeline for row_seed: 24 and size_of_unlabelled_data: 0.7 and model: GaussianNB(var_smoothing=0.01519911082952933)\u001b[0m\n"
     ]
    },
    {
     "name": "stdout",
     "output_type": "stream",
     "text": [
      "\n",
      "\n",
      "\n",
      "\n"
     ]
    },
    {
     "name": "stderr",
     "output_type": "stream",
     "text": [
      "\u001b[32m2023-10-22 14:34:22.394\u001b[0m | \u001b[1mINFO    \u001b[0m | \u001b[36m__main__\u001b[0m:\u001b[36mrun_pipeline_self\u001b[0m:\u001b[36m79\u001b[0m - \u001b[1m%62 - Running pipeline for row_seed: 42 and size_of_unlabelled_data: 0.7 and model: GaussianNB(var_smoothing=0.01519911082952933)\u001b[0m\n",
      "\u001b[32m2023-10-22 14:34:22.412\u001b[0m | \u001b[1mINFO    \u001b[0m | \u001b[36m__main__\u001b[0m:\u001b[36mrun_pipeline_self\u001b[0m:\u001b[36m79\u001b[0m - \u001b[1m%63 - Running pipeline for row_seed: 206 and size_of_unlabelled_data: 0.7 and model: GaussianNB(var_smoothing=0.01519911082952933)\u001b[0m\n",
      "\u001b[32m2023-10-22 14:34:22.429\u001b[0m | \u001b[1mINFO    \u001b[0m | \u001b[36m__main__\u001b[0m:\u001b[36mrun_pipeline_self\u001b[0m:\u001b[36m79\u001b[0m - \u001b[1m%64 - Running pipeline for row_seed: 602 and size_of_unlabelled_data: 0.7 and model: GaussianNB(var_smoothing=0.01519911082952933)\u001b[0m\n",
      "\u001b[32m2023-10-22 14:34:22.447\u001b[0m | \u001b[1mINFO    \u001b[0m | \u001b[36m__main__\u001b[0m:\u001b[36mrun_pipeline_self\u001b[0m:\u001b[36m79\u001b[0m - \u001b[1m%65 - Running pipeline for row_seed: 412 and size_of_unlabelled_data: 0.7 and model: GaussianNB(var_smoothing=0.01519911082952933)\u001b[0m\n",
      "\u001b[32m2023-10-22 14:34:22.463\u001b[0m | \u001b[1mINFO    \u001b[0m | \u001b[36m__main__\u001b[0m:\u001b[36mrun_pipeline_self\u001b[0m:\u001b[36m79\u001b[0m - \u001b[1m%66 - Running pipeline for row_seed: 214 and size_of_unlabelled_data: 0.7 and model: GaussianNB(var_smoothing=0.01519911082952933)\u001b[0m\n",
      "\u001b[32m2023-10-22 14:34:22.478\u001b[0m | \u001b[1mINFO    \u001b[0m | \u001b[36m__main__\u001b[0m:\u001b[36mrun_pipeline_self\u001b[0m:\u001b[36m79\u001b[0m - \u001b[1m%67 - Running pipeline for row_seed: 754 and size_of_unlabelled_data: 0.7 and model: GaussianNB(var_smoothing=0.01519911082952933)\u001b[0m\n",
      "\u001b[32m2023-10-22 14:34:22.496\u001b[0m | \u001b[1mINFO    \u001b[0m | \u001b[36m__main__\u001b[0m:\u001b[36mrun_pipeline_self\u001b[0m:\u001b[36m79\u001b[0m - \u001b[1m%68 - Running pipeline for row_seed: 457 and size_of_unlabelled_data: 0.7 and model: GaussianNB(var_smoothing=0.01519911082952933)\u001b[0m\n",
      "\u001b[32m2023-10-22 14:34:22.514\u001b[0m | \u001b[1mINFO    \u001b[0m | \u001b[36m__main__\u001b[0m:\u001b[36mrun_pipeline_self\u001b[0m:\u001b[36m79\u001b[0m - \u001b[1m%69 - Running pipeline for row_seed: 2023 and size_of_unlabelled_data: 0.7 and model: GaussianNB(var_smoothing=0.01519911082952933)\u001b[0m\n",
      "\u001b[32m2023-10-22 14:34:22.529\u001b[0m | \u001b[1mINFO    \u001b[0m | \u001b[36m__main__\u001b[0m:\u001b[36mrun_pipeline_self\u001b[0m:\u001b[36m79\u001b[0m - \u001b[1m%70 - Running pipeline for row_seed: 3202 and size_of_unlabelled_data: 0.7 and model: GaussianNB(var_smoothing=0.01519911082952933)\u001b[0m\n",
      "\u001b[32m2023-10-22 14:34:22.546\u001b[0m | \u001b[1mINFO    \u001b[0m | \u001b[36m__main__\u001b[0m:\u001b[36mrun_pipeline_self\u001b[0m:\u001b[36m75\u001b[0m - \u001b[1mModel: GaussianNB(var_smoothing=0.01519911082952933)\u001b[0m\n",
      "\u001b[32m2023-10-22 14:34:22.546\u001b[0m | \u001b[1mINFO    \u001b[0m | \u001b[36m__main__\u001b[0m:\u001b[36mrun_pipeline_self\u001b[0m:\u001b[36m76\u001b[0m - \u001b[1mSize of unlabelled data: 0.8\u001b[0m\n",
      "\u001b[32m2023-10-22 14:34:22.547\u001b[0m | \u001b[1mINFO    \u001b[0m | \u001b[36m__main__\u001b[0m:\u001b[36mrun_pipeline_self\u001b[0m:\u001b[36m79\u001b[0m - \u001b[1m%71 - Running pipeline for row_seed: 24 and size_of_unlabelled_data: 0.8 and model: GaussianNB(var_smoothing=0.01519911082952933)\u001b[0m\n",
      "\u001b[32m2023-10-22 14:34:22.566\u001b[0m | \u001b[1mINFO    \u001b[0m | \u001b[36m__main__\u001b[0m:\u001b[36mrun_pipeline_self\u001b[0m:\u001b[36m79\u001b[0m - \u001b[1m%72 - Running pipeline for row_seed: 42 and size_of_unlabelled_data: 0.8 and model: GaussianNB(var_smoothing=0.01519911082952933)\u001b[0m\n",
      "\u001b[32m2023-10-22 14:34:22.587\u001b[0m | \u001b[1mINFO    \u001b[0m | \u001b[36m__main__\u001b[0m:\u001b[36mrun_pipeline_self\u001b[0m:\u001b[36m79\u001b[0m - \u001b[1m%73 - Running pipeline for row_seed: 206 and size_of_unlabelled_data: 0.8 and model: GaussianNB(var_smoothing=0.01519911082952933)\u001b[0m\n",
      "\u001b[32m2023-10-22 14:34:22.607\u001b[0m | \u001b[1mINFO    \u001b[0m | \u001b[36m__main__\u001b[0m:\u001b[36mrun_pipeline_self\u001b[0m:\u001b[36m79\u001b[0m - \u001b[1m%74 - Running pipeline for row_seed: 602 and size_of_unlabelled_data: 0.8 and model: GaussianNB(var_smoothing=0.01519911082952933)\u001b[0m\n",
      "\u001b[32m2023-10-22 14:34:22.623\u001b[0m | \u001b[1mINFO    \u001b[0m | \u001b[36m__main__\u001b[0m:\u001b[36mrun_pipeline_self\u001b[0m:\u001b[36m79\u001b[0m - \u001b[1m%75 - Running pipeline for row_seed: 412 and size_of_unlabelled_data: 0.8 and model: GaussianNB(var_smoothing=0.01519911082952933)\u001b[0m\n",
      "\u001b[32m2023-10-22 14:34:22.640\u001b[0m | \u001b[1mINFO    \u001b[0m | \u001b[36m__main__\u001b[0m:\u001b[36mrun_pipeline_self\u001b[0m:\u001b[36m79\u001b[0m - \u001b[1m%76 - Running pipeline for row_seed: 214 and size_of_unlabelled_data: 0.8 and model: GaussianNB(var_smoothing=0.01519911082952933)\u001b[0m\n",
      "\u001b[32m2023-10-22 14:34:22.655\u001b[0m | \u001b[1mINFO    \u001b[0m | \u001b[36m__main__\u001b[0m:\u001b[36mrun_pipeline_self\u001b[0m:\u001b[36m79\u001b[0m - \u001b[1m%77 - Running pipeline for row_seed: 754 and size_of_unlabelled_data: 0.8 and model: GaussianNB(var_smoothing=0.01519911082952933)\u001b[0m\n",
      "\u001b[32m2023-10-22 14:34:22.673\u001b[0m | \u001b[1mINFO    \u001b[0m | \u001b[36m__main__\u001b[0m:\u001b[36mrun_pipeline_self\u001b[0m:\u001b[36m79\u001b[0m - \u001b[1m%78 - Running pipeline for row_seed: 457 and size_of_unlabelled_data: 0.8 and model: GaussianNB(var_smoothing=0.01519911082952933)\u001b[0m\n",
      "\u001b[32m2023-10-22 14:34:22.689\u001b[0m | \u001b[1mINFO    \u001b[0m | \u001b[36m__main__\u001b[0m:\u001b[36mrun_pipeline_self\u001b[0m:\u001b[36m79\u001b[0m - \u001b[1m%79 - Running pipeline for row_seed: 2023 and size_of_unlabelled_data: 0.8 and model: GaussianNB(var_smoothing=0.01519911082952933)\u001b[0m\n",
      "\u001b[32m2023-10-22 14:34:22.705\u001b[0m | \u001b[1mINFO    \u001b[0m | \u001b[36m__main__\u001b[0m:\u001b[36mrun_pipeline_self\u001b[0m:\u001b[36m79\u001b[0m - \u001b[1m%80 - Running pipeline for row_seed: 3202 and size_of_unlabelled_data: 0.8 and model: GaussianNB(var_smoothing=0.01519911082952933)\u001b[0m\n",
      "\u001b[32m2023-10-22 14:34:22.727\u001b[0m | \u001b[1mINFO    \u001b[0m | \u001b[36m__main__\u001b[0m:\u001b[36mrun_pipeline_self\u001b[0m:\u001b[36m75\u001b[0m - \u001b[1mModel: GaussianNB(var_smoothing=0.01519911082952933)\u001b[0m\n",
      "\u001b[32m2023-10-22 14:34:22.728\u001b[0m | \u001b[1mINFO    \u001b[0m | \u001b[36m__main__\u001b[0m:\u001b[36mrun_pipeline_self\u001b[0m:\u001b[36m76\u001b[0m - \u001b[1mSize of unlabelled data: 0.85\u001b[0m\n",
      "\u001b[32m2023-10-22 14:34:22.728\u001b[0m | \u001b[1mINFO    \u001b[0m | \u001b[36m__main__\u001b[0m:\u001b[36mrun_pipeline_self\u001b[0m:\u001b[36m79\u001b[0m - \u001b[1m%81 - Running pipeline for row_seed: 24 and size_of_unlabelled_data: 0.85 and model: GaussianNB(var_smoothing=0.01519911082952933)\u001b[0m\n",
      "\u001b[32m2023-10-22 14:34:22.745\u001b[0m | \u001b[1mINFO    \u001b[0m | \u001b[36m__main__\u001b[0m:\u001b[36mrun_pipeline_self\u001b[0m:\u001b[36m79\u001b[0m - \u001b[1m%82 - Running pipeline for row_seed: 42 and size_of_unlabelled_data: 0.85 and model: GaussianNB(var_smoothing=0.01519911082952933)\u001b[0m\n"
     ]
    },
    {
     "name": "stdout",
     "output_type": "stream",
     "text": [
      "\n",
      "\n",
      "\n",
      "\n"
     ]
    },
    {
     "name": "stderr",
     "output_type": "stream",
     "text": [
      "\u001b[32m2023-10-22 14:34:22.762\u001b[0m | \u001b[1mINFO    \u001b[0m | \u001b[36m__main__\u001b[0m:\u001b[36mrun_pipeline_self\u001b[0m:\u001b[36m79\u001b[0m - \u001b[1m%83 - Running pipeline for row_seed: 206 and size_of_unlabelled_data: 0.85 and model: GaussianNB(var_smoothing=0.01519911082952933)\u001b[0m\n",
      "\u001b[32m2023-10-22 14:34:22.779\u001b[0m | \u001b[1mINFO    \u001b[0m | \u001b[36m__main__\u001b[0m:\u001b[36mrun_pipeline_self\u001b[0m:\u001b[36m79\u001b[0m - \u001b[1m%84 - Running pipeline for row_seed: 602 and size_of_unlabelled_data: 0.85 and model: GaussianNB(var_smoothing=0.01519911082952933)\u001b[0m\n",
      "\u001b[32m2023-10-22 14:34:22.798\u001b[0m | \u001b[1mINFO    \u001b[0m | \u001b[36m__main__\u001b[0m:\u001b[36mrun_pipeline_self\u001b[0m:\u001b[36m79\u001b[0m - \u001b[1m%85 - Running pipeline for row_seed: 412 and size_of_unlabelled_data: 0.85 and model: GaussianNB(var_smoothing=0.01519911082952933)\u001b[0m\n",
      "\u001b[32m2023-10-22 14:34:22.815\u001b[0m | \u001b[1mINFO    \u001b[0m | \u001b[36m__main__\u001b[0m:\u001b[36mrun_pipeline_self\u001b[0m:\u001b[36m79\u001b[0m - \u001b[1m%86 - Running pipeline for row_seed: 214 and size_of_unlabelled_data: 0.85 and model: GaussianNB(var_smoothing=0.01519911082952933)\u001b[0m\n",
      "\u001b[32m2023-10-22 14:34:22.831\u001b[0m | \u001b[1mINFO    \u001b[0m | \u001b[36m__main__\u001b[0m:\u001b[36mrun_pipeline_self\u001b[0m:\u001b[36m79\u001b[0m - \u001b[1m%87 - Running pipeline for row_seed: 754 and size_of_unlabelled_data: 0.85 and model: GaussianNB(var_smoothing=0.01519911082952933)\u001b[0m\n",
      "\u001b[32m2023-10-22 14:34:22.850\u001b[0m | \u001b[1mINFO    \u001b[0m | \u001b[36m__main__\u001b[0m:\u001b[36mrun_pipeline_self\u001b[0m:\u001b[36m79\u001b[0m - \u001b[1m%88 - Running pipeline for row_seed: 457 and size_of_unlabelled_data: 0.85 and model: GaussianNB(var_smoothing=0.01519911082952933)\u001b[0m\n",
      "\u001b[32m2023-10-22 14:34:22.867\u001b[0m | \u001b[1mINFO    \u001b[0m | \u001b[36m__main__\u001b[0m:\u001b[36mrun_pipeline_self\u001b[0m:\u001b[36m79\u001b[0m - \u001b[1m%89 - Running pipeline for row_seed: 2023 and size_of_unlabelled_data: 0.85 and model: GaussianNB(var_smoothing=0.01519911082952933)\u001b[0m\n",
      "\u001b[32m2023-10-22 14:34:22.884\u001b[0m | \u001b[1mINFO    \u001b[0m | \u001b[36m__main__\u001b[0m:\u001b[36mrun_pipeline_self\u001b[0m:\u001b[36m79\u001b[0m - \u001b[1m%90 - Running pipeline for row_seed: 3202 and size_of_unlabelled_data: 0.85 and model: GaussianNB(var_smoothing=0.01519911082952933)\u001b[0m\n",
      "\u001b[32m2023-10-22 14:34:22.903\u001b[0m | \u001b[1mINFO    \u001b[0m | \u001b[36m__main__\u001b[0m:\u001b[36mrun_pipeline_self\u001b[0m:\u001b[36m75\u001b[0m - \u001b[1mModel: GaussianNB(var_smoothing=0.01519911082952933)\u001b[0m\n",
      "\u001b[32m2023-10-22 14:34:22.904\u001b[0m | \u001b[1mINFO    \u001b[0m | \u001b[36m__main__\u001b[0m:\u001b[36mrun_pipeline_self\u001b[0m:\u001b[36m76\u001b[0m - \u001b[1mSize of unlabelled data: 0.9\u001b[0m\n",
      "\u001b[32m2023-10-22 14:34:22.905\u001b[0m | \u001b[1mINFO    \u001b[0m | \u001b[36m__main__\u001b[0m:\u001b[36mrun_pipeline_self\u001b[0m:\u001b[36m79\u001b[0m - \u001b[1m%91 - Running pipeline for row_seed: 24 and size_of_unlabelled_data: 0.9 and model: GaussianNB(var_smoothing=0.01519911082952933)\u001b[0m\n",
      "\u001b[32m2023-10-22 14:34:22.922\u001b[0m | \u001b[1mINFO    \u001b[0m | \u001b[36m__main__\u001b[0m:\u001b[36mrun_pipeline_self\u001b[0m:\u001b[36m79\u001b[0m - \u001b[1m%92 - Running pipeline for row_seed: 42 and size_of_unlabelled_data: 0.9 and model: GaussianNB(var_smoothing=0.01519911082952933)\u001b[0m\n",
      "\u001b[32m2023-10-22 14:34:22.940\u001b[0m | \u001b[1mINFO    \u001b[0m | \u001b[36m__main__\u001b[0m:\u001b[36mrun_pipeline_self\u001b[0m:\u001b[36m79\u001b[0m - \u001b[1m%93 - Running pipeline for row_seed: 206 and size_of_unlabelled_data: 0.9 and model: GaussianNB(var_smoothing=0.01519911082952933)\u001b[0m\n",
      "\u001b[32m2023-10-22 14:34:22.957\u001b[0m | \u001b[1mINFO    \u001b[0m | \u001b[36m__main__\u001b[0m:\u001b[36mrun_pipeline_self\u001b[0m:\u001b[36m79\u001b[0m - \u001b[1m%94 - Running pipeline for row_seed: 602 and size_of_unlabelled_data: 0.9 and model: GaussianNB(var_smoothing=0.01519911082952933)\u001b[0m\n",
      "\u001b[32m2023-10-22 14:34:22.974\u001b[0m | \u001b[1mINFO    \u001b[0m | \u001b[36m__main__\u001b[0m:\u001b[36mrun_pipeline_self\u001b[0m:\u001b[36m79\u001b[0m - \u001b[1m%95 - Running pipeline for row_seed: 412 and size_of_unlabelled_data: 0.9 and model: GaussianNB(var_smoothing=0.01519911082952933)\u001b[0m\n",
      "\u001b[32m2023-10-22 14:34:22.995\u001b[0m | \u001b[1mINFO    \u001b[0m | \u001b[36m__main__\u001b[0m:\u001b[36mrun_pipeline_self\u001b[0m:\u001b[36m79\u001b[0m - \u001b[1m%96 - Running pipeline for row_seed: 214 and size_of_unlabelled_data: 0.9 and model: GaussianNB(var_smoothing=0.01519911082952933)\u001b[0m\n",
      "\u001b[32m2023-10-22 14:34:23.010\u001b[0m | \u001b[1mINFO    \u001b[0m | \u001b[36m__main__\u001b[0m:\u001b[36mrun_pipeline_self\u001b[0m:\u001b[36m79\u001b[0m - \u001b[1m%97 - Running pipeline for row_seed: 754 and size_of_unlabelled_data: 0.9 and model: GaussianNB(var_smoothing=0.01519911082952933)\u001b[0m\n",
      "\u001b[32m2023-10-22 14:34:23.027\u001b[0m | \u001b[1mINFO    \u001b[0m | \u001b[36m__main__\u001b[0m:\u001b[36mrun_pipeline_self\u001b[0m:\u001b[36m79\u001b[0m - \u001b[1m%98 - Running pipeline for row_seed: 457 and size_of_unlabelled_data: 0.9 and model: GaussianNB(var_smoothing=0.01519911082952933)\u001b[0m\n",
      "\u001b[32m2023-10-22 14:34:23.045\u001b[0m | \u001b[1mINFO    \u001b[0m | \u001b[36m__main__\u001b[0m:\u001b[36mrun_pipeline_self\u001b[0m:\u001b[36m79\u001b[0m - \u001b[1m%99 - Running pipeline for row_seed: 2023 and size_of_unlabelled_data: 0.9 and model: GaussianNB(var_smoothing=0.01519911082952933)\u001b[0m\n",
      "\u001b[32m2023-10-22 14:34:23.063\u001b[0m | \u001b[1mINFO    \u001b[0m | \u001b[36m__main__\u001b[0m:\u001b[36mrun_pipeline_self\u001b[0m:\u001b[36m79\u001b[0m - \u001b[1m%100 - Running pipeline for row_seed: 3202 and size_of_unlabelled_data: 0.9 and model: GaussianNB(var_smoothing=0.01519911082952933)\u001b[0m\n",
      "\u001b[32m2023-10-22 14:34:23.081\u001b[0m | \u001b[1mINFO    \u001b[0m | \u001b[36m__main__\u001b[0m:\u001b[36mrun_pipeline_self\u001b[0m:\u001b[36m75\u001b[0m - \u001b[1mModel: DecisionTreeClassifier(criterion='entropy', max_depth=9, min_samples_leaf=3,\n",
      "                       min_samples_split=3)\u001b[0m\n",
      "\u001b[32m2023-10-22 14:34:23.081\u001b[0m | \u001b[1mINFO    \u001b[0m | \u001b[36m__main__\u001b[0m:\u001b[36mrun_pipeline_self\u001b[0m:\u001b[36m76\u001b[0m - \u001b[1mSize of unlabelled data: 0.1\u001b[0m\n",
      "\u001b[32m2023-10-22 14:34:23.082\u001b[0m | \u001b[1mINFO    \u001b[0m | \u001b[36m__main__\u001b[0m:\u001b[36mrun_pipeline_self\u001b[0m:\u001b[36m79\u001b[0m - \u001b[1m%101 - Running pipeline for row_seed: 24 and size_of_unlabelled_data: 0.1 and model: DecisionTreeClassifier(criterion='entropy', max_depth=9, min_samples_leaf=3,\n",
      "                       min_samples_split=3)\u001b[0m\n"
     ]
    },
    {
     "name": "stdout",
     "output_type": "stream",
     "text": [
      "\n",
      "\n",
      "\n",
      "\n"
     ]
    },
    {
     "name": "stderr",
     "output_type": "stream",
     "text": [
      "\u001b[32m2023-10-22 14:34:23.137\u001b[0m | \u001b[1mINFO    \u001b[0m | \u001b[36m__main__\u001b[0m:\u001b[36mrun_pipeline_self\u001b[0m:\u001b[36m79\u001b[0m - \u001b[1m%102 - Running pipeline for row_seed: 42 and size_of_unlabelled_data: 0.1 and model: DecisionTreeClassifier(criterion='entropy', max_depth=9, min_samples_leaf=3,\n",
      "                       min_samples_split=3)\u001b[0m\n",
      "\u001b[32m2023-10-22 14:34:23.202\u001b[0m | \u001b[1mINFO    \u001b[0m | \u001b[36m__main__\u001b[0m:\u001b[36mrun_pipeline_self\u001b[0m:\u001b[36m79\u001b[0m - \u001b[1m%103 - Running pipeline for row_seed: 206 and size_of_unlabelled_data: 0.1 and model: DecisionTreeClassifier(criterion='entropy', max_depth=9, min_samples_leaf=3,\n",
      "                       min_samples_split=3)\u001b[0m\n",
      "\u001b[32m2023-10-22 14:34:23.294\u001b[0m | \u001b[1mINFO    \u001b[0m | \u001b[36m__main__\u001b[0m:\u001b[36mrun_pipeline_self\u001b[0m:\u001b[36m79\u001b[0m - \u001b[1m%104 - Running pipeline for row_seed: 602 and size_of_unlabelled_data: 0.1 and model: DecisionTreeClassifier(criterion='entropy', max_depth=9, min_samples_leaf=3,\n",
      "                       min_samples_split=3)\u001b[0m\n",
      "\u001b[32m2023-10-22 14:34:23.404\u001b[0m | \u001b[1mINFO    \u001b[0m | \u001b[36m__main__\u001b[0m:\u001b[36mrun_pipeline_self\u001b[0m:\u001b[36m79\u001b[0m - \u001b[1m%105 - Running pipeline for row_seed: 412 and size_of_unlabelled_data: 0.1 and model: DecisionTreeClassifier(criterion='entropy', max_depth=9, min_samples_leaf=3,\n",
      "                       min_samples_split=3)\u001b[0m\n",
      "\u001b[32m2023-10-22 14:34:23.501\u001b[0m | \u001b[1mINFO    \u001b[0m | \u001b[36m__main__\u001b[0m:\u001b[36mrun_pipeline_self\u001b[0m:\u001b[36m79\u001b[0m - \u001b[1m%106 - Running pipeline for row_seed: 214 and size_of_unlabelled_data: 0.1 and model: DecisionTreeClassifier(criterion='entropy', max_depth=9, min_samples_leaf=3,\n",
      "                       min_samples_split=3)\u001b[0m\n",
      "\u001b[32m2023-10-22 14:34:23.565\u001b[0m | \u001b[1mINFO    \u001b[0m | \u001b[36m__main__\u001b[0m:\u001b[36mrun_pipeline_self\u001b[0m:\u001b[36m79\u001b[0m - \u001b[1m%107 - Running pipeline for row_seed: 754 and size_of_unlabelled_data: 0.1 and model: DecisionTreeClassifier(criterion='entropy', max_depth=9, min_samples_leaf=3,\n",
      "                       min_samples_split=3)\u001b[0m\n",
      "\u001b[32m2023-10-22 14:34:23.619\u001b[0m | \u001b[1mINFO    \u001b[0m | \u001b[36m__main__\u001b[0m:\u001b[36mrun_pipeline_self\u001b[0m:\u001b[36m79\u001b[0m - \u001b[1m%108 - Running pipeline for row_seed: 457 and size_of_unlabelled_data: 0.1 and model: DecisionTreeClassifier(criterion='entropy', max_depth=9, min_samples_leaf=3,\n",
      "                       min_samples_split=3)\u001b[0m\n",
      "\u001b[32m2023-10-22 14:34:23.710\u001b[0m | \u001b[1mINFO    \u001b[0m | \u001b[36m__main__\u001b[0m:\u001b[36mrun_pipeline_self\u001b[0m:\u001b[36m79\u001b[0m - \u001b[1m%109 - Running pipeline for row_seed: 2023 and size_of_unlabelled_data: 0.1 and model: DecisionTreeClassifier(criterion='entropy', max_depth=9, min_samples_leaf=3,\n",
      "                       min_samples_split=3)\u001b[0m\n",
      "\u001b[32m2023-10-22 14:34:23.765\u001b[0m | \u001b[1mINFO    \u001b[0m | \u001b[36m__main__\u001b[0m:\u001b[36mrun_pipeline_self\u001b[0m:\u001b[36m79\u001b[0m - \u001b[1m%110 - Running pipeline for row_seed: 3202 and size_of_unlabelled_data: 0.1 and model: DecisionTreeClassifier(criterion='entropy', max_depth=9, min_samples_leaf=3,\n",
      "                       min_samples_split=3)\u001b[0m\n",
      "\u001b[32m2023-10-22 14:34:23.830\u001b[0m | \u001b[1mINFO    \u001b[0m | \u001b[36m__main__\u001b[0m:\u001b[36mrun_pipeline_self\u001b[0m:\u001b[36m75\u001b[0m - \u001b[1mModel: DecisionTreeClassifier(criterion='entropy', max_depth=9, min_samples_leaf=3,\n",
      "                       min_samples_split=3)\u001b[0m\n",
      "\u001b[32m2023-10-22 14:34:23.830\u001b[0m | \u001b[1mINFO    \u001b[0m | \u001b[36m__main__\u001b[0m:\u001b[36mrun_pipeline_self\u001b[0m:\u001b[36m76\u001b[0m - \u001b[1mSize of unlabelled data: 0.2\u001b[0m\n",
      "\u001b[32m2023-10-22 14:34:23.831\u001b[0m | \u001b[1mINFO    \u001b[0m | \u001b[36m__main__\u001b[0m:\u001b[36mrun_pipeline_self\u001b[0m:\u001b[36m79\u001b[0m - \u001b[1m%111 - Running pipeline for row_seed: 24 and size_of_unlabelled_data: 0.2 and model: DecisionTreeClassifier(criterion='entropy', max_depth=9, min_samples_leaf=3,\n",
      "                       min_samples_split=3)\u001b[0m\n",
      "\u001b[32m2023-10-22 14:34:23.893\u001b[0m | \u001b[1mINFO    \u001b[0m | \u001b[36m__main__\u001b[0m:\u001b[36mrun_pipeline_self\u001b[0m:\u001b[36m79\u001b[0m - \u001b[1m%112 - Running pipeline for row_seed: 42 and size_of_unlabelled_data: 0.2 and model: DecisionTreeClassifier(criterion='entropy', max_depth=9, min_samples_leaf=3,\n",
      "                       min_samples_split=3)\u001b[0m\n",
      "\u001b[32m2023-10-22 14:34:23.956\u001b[0m | \u001b[1mINFO    \u001b[0m | \u001b[36m__main__\u001b[0m:\u001b[36mrun_pipeline_self\u001b[0m:\u001b[36m79\u001b[0m - \u001b[1m%113 - Running pipeline for row_seed: 206 and size_of_unlabelled_data: 0.2 and model: DecisionTreeClassifier(criterion='entropy', max_depth=9, min_samples_leaf=3,\n",
      "                       min_samples_split=3)\u001b[0m\n",
      "\u001b[32m2023-10-22 14:34:24.027\u001b[0m | \u001b[1mINFO    \u001b[0m | \u001b[36m__main__\u001b[0m:\u001b[36mrun_pipeline_self\u001b[0m:\u001b[36m79\u001b[0m - \u001b[1m%114 - Running pipeline for row_seed: 602 and size_of_unlabelled_data: 0.2 and model: DecisionTreeClassifier(criterion='entropy', max_depth=9, min_samples_leaf=3,\n",
      "                       min_samples_split=3)\u001b[0m\n"
     ]
    },
    {
     "name": "stdout",
     "output_type": "stream",
     "text": [
      "\n",
      "\n"
     ]
    },
    {
     "name": "stderr",
     "output_type": "stream",
     "text": [
      "\u001b[32m2023-10-22 14:34:24.100\u001b[0m | \u001b[1mINFO    \u001b[0m | \u001b[36m__main__\u001b[0m:\u001b[36mrun_pipeline_self\u001b[0m:\u001b[36m79\u001b[0m - \u001b[1m%115 - Running pipeline for row_seed: 412 and size_of_unlabelled_data: 0.2 and model: DecisionTreeClassifier(criterion='entropy', max_depth=9, min_samples_leaf=3,\n",
      "                       min_samples_split=3)\u001b[0m\n",
      "\u001b[32m2023-10-22 14:34:24.172\u001b[0m | \u001b[1mINFO    \u001b[0m | \u001b[36m__main__\u001b[0m:\u001b[36mrun_pipeline_self\u001b[0m:\u001b[36m79\u001b[0m - \u001b[1m%116 - Running pipeline for row_seed: 214 and size_of_unlabelled_data: 0.2 and model: DecisionTreeClassifier(criterion='entropy', max_depth=9, min_samples_leaf=3,\n",
      "                       min_samples_split=3)\u001b[0m\n",
      "\u001b[32m2023-10-22 14:34:24.301\u001b[0m | \u001b[1mINFO    \u001b[0m | \u001b[36m__main__\u001b[0m:\u001b[36mrun_pipeline_self\u001b[0m:\u001b[36m79\u001b[0m - \u001b[1m%117 - Running pipeline for row_seed: 754 and size_of_unlabelled_data: 0.2 and model: DecisionTreeClassifier(criterion='entropy', max_depth=9, min_samples_leaf=3,\n",
      "                       min_samples_split=3)\u001b[0m\n",
      "\u001b[32m2023-10-22 14:34:24.413\u001b[0m | \u001b[1mINFO    \u001b[0m | \u001b[36m__main__\u001b[0m:\u001b[36mrun_pipeline_self\u001b[0m:\u001b[36m79\u001b[0m - \u001b[1m%118 - Running pipeline for row_seed: 457 and size_of_unlabelled_data: 0.2 and model: DecisionTreeClassifier(criterion='entropy', max_depth=9, min_samples_leaf=3,\n",
      "                       min_samples_split=3)\u001b[0m\n",
      "\u001b[32m2023-10-22 14:34:24.516\u001b[0m | \u001b[1mINFO    \u001b[0m | \u001b[36m__main__\u001b[0m:\u001b[36mrun_pipeline_self\u001b[0m:\u001b[36m79\u001b[0m - \u001b[1m%119 - Running pipeline for row_seed: 2023 and size_of_unlabelled_data: 0.2 and model: DecisionTreeClassifier(criterion='entropy', max_depth=9, min_samples_leaf=3,\n",
      "                       min_samples_split=3)\u001b[0m\n",
      "\u001b[32m2023-10-22 14:34:24.579\u001b[0m | \u001b[1mINFO    \u001b[0m | \u001b[36m__main__\u001b[0m:\u001b[36mrun_pipeline_self\u001b[0m:\u001b[36m79\u001b[0m - \u001b[1m%120 - Running pipeline for row_seed: 3202 and size_of_unlabelled_data: 0.2 and model: DecisionTreeClassifier(criterion='entropy', max_depth=9, min_samples_leaf=3,\n",
      "                       min_samples_split=3)\u001b[0m\n",
      "\u001b[32m2023-10-22 14:34:24.652\u001b[0m | \u001b[1mINFO    \u001b[0m | \u001b[36m__main__\u001b[0m:\u001b[36mrun_pipeline_self\u001b[0m:\u001b[36m75\u001b[0m - \u001b[1mModel: DecisionTreeClassifier(criterion='entropy', max_depth=9, min_samples_leaf=3,\n",
      "                       min_samples_split=3)\u001b[0m\n",
      "\u001b[32m2023-10-22 14:34:24.652\u001b[0m | \u001b[1mINFO    \u001b[0m | \u001b[36m__main__\u001b[0m:\u001b[36mrun_pipeline_self\u001b[0m:\u001b[36m76\u001b[0m - \u001b[1mSize of unlabelled data: 0.3\u001b[0m\n",
      "\u001b[32m2023-10-22 14:34:24.653\u001b[0m | \u001b[1mINFO    \u001b[0m | \u001b[36m__main__\u001b[0m:\u001b[36mrun_pipeline_self\u001b[0m:\u001b[36m79\u001b[0m - \u001b[1m%121 - Running pipeline for row_seed: 24 and size_of_unlabelled_data: 0.3 and model: DecisionTreeClassifier(criterion='entropy', max_depth=9, min_samples_leaf=3,\n",
      "                       min_samples_split=3)\u001b[0m\n",
      "\u001b[32m2023-10-22 14:34:24.724\u001b[0m | \u001b[1mINFO    \u001b[0m | \u001b[36m__main__\u001b[0m:\u001b[36mrun_pipeline_self\u001b[0m:\u001b[36m79\u001b[0m - \u001b[1m%122 - Running pipeline for row_seed: 42 and size_of_unlabelled_data: 0.3 and model: DecisionTreeClassifier(criterion='entropy', max_depth=9, min_samples_leaf=3,\n",
      "                       min_samples_split=3)\u001b[0m\n",
      "\u001b[32m2023-10-22 14:34:24.835\u001b[0m | \u001b[1mINFO    \u001b[0m | \u001b[36m__main__\u001b[0m:\u001b[36mrun_pipeline_self\u001b[0m:\u001b[36m79\u001b[0m - \u001b[1m%123 - Running pipeline for row_seed: 206 and size_of_unlabelled_data: 0.3 and model: DecisionTreeClassifier(criterion='entropy', max_depth=9, min_samples_leaf=3,\n",
      "                       min_samples_split=3)\u001b[0m\n"
     ]
    },
    {
     "name": "stdout",
     "output_type": "stream",
     "text": [
      "\n",
      "\n"
     ]
    },
    {
     "name": "stderr",
     "output_type": "stream",
     "text": [
      "\u001b[32m2023-10-22 14:34:24.962\u001b[0m | \u001b[1mINFO    \u001b[0m | \u001b[36m__main__\u001b[0m:\u001b[36mrun_pipeline_self\u001b[0m:\u001b[36m79\u001b[0m - \u001b[1m%124 - Running pipeline for row_seed: 602 and size_of_unlabelled_data: 0.3 and model: DecisionTreeClassifier(criterion='entropy', max_depth=9, min_samples_leaf=3,\n",
      "                       min_samples_split=3)\u001b[0m\n",
      "\u001b[32m2023-10-22 14:34:25.030\u001b[0m | \u001b[1mINFO    \u001b[0m | \u001b[36m__main__\u001b[0m:\u001b[36mrun_pipeline_self\u001b[0m:\u001b[36m79\u001b[0m - \u001b[1m%125 - Running pipeline for row_seed: 412 and size_of_unlabelled_data: 0.3 and model: DecisionTreeClassifier(criterion='entropy', max_depth=9, min_samples_leaf=3,\n",
      "                       min_samples_split=3)\u001b[0m\n",
      "\u001b[32m2023-10-22 14:34:25.101\u001b[0m | \u001b[1mINFO    \u001b[0m | \u001b[36m__main__\u001b[0m:\u001b[36mrun_pipeline_self\u001b[0m:\u001b[36m79\u001b[0m - \u001b[1m%126 - Running pipeline for row_seed: 214 and size_of_unlabelled_data: 0.3 and model: DecisionTreeClassifier(criterion='entropy', max_depth=9, min_samples_leaf=3,\n",
      "                       min_samples_split=3)\u001b[0m\n",
      "\u001b[32m2023-10-22 14:34:25.161\u001b[0m | \u001b[1mINFO    \u001b[0m | \u001b[36m__main__\u001b[0m:\u001b[36mrun_pipeline_self\u001b[0m:\u001b[36m79\u001b[0m - \u001b[1m%127 - Running pipeline for row_seed: 754 and size_of_unlabelled_data: 0.3 and model: DecisionTreeClassifier(criterion='entropy', max_depth=9, min_samples_leaf=3,\n",
      "                       min_samples_split=3)\u001b[0m\n",
      "\u001b[32m2023-10-22 14:34:25.237\u001b[0m | \u001b[1mINFO    \u001b[0m | \u001b[36m__main__\u001b[0m:\u001b[36mrun_pipeline_self\u001b[0m:\u001b[36m79\u001b[0m - \u001b[1m%128 - Running pipeline for row_seed: 457 and size_of_unlabelled_data: 0.3 and model: DecisionTreeClassifier(criterion='entropy', max_depth=9, min_samples_leaf=3,\n",
      "                       min_samples_split=3)\u001b[0m\n",
      "\u001b[32m2023-10-22 14:34:25.327\u001b[0m | \u001b[1mINFO    \u001b[0m | \u001b[36m__main__\u001b[0m:\u001b[36mrun_pipeline_self\u001b[0m:\u001b[36m79\u001b[0m - \u001b[1m%129 - Running pipeline for row_seed: 2023 and size_of_unlabelled_data: 0.3 and model: DecisionTreeClassifier(criterion='entropy', max_depth=9, min_samples_leaf=3,\n",
      "                       min_samples_split=3)\u001b[0m\n",
      "\u001b[32m2023-10-22 14:34:25.428\u001b[0m | \u001b[1mINFO    \u001b[0m | \u001b[36m__main__\u001b[0m:\u001b[36mrun_pipeline_self\u001b[0m:\u001b[36m79\u001b[0m - \u001b[1m%130 - Running pipeline for row_seed: 3202 and size_of_unlabelled_data: 0.3 and model: DecisionTreeClassifier(criterion='entropy', max_depth=9, min_samples_leaf=3,\n",
      "                       min_samples_split=3)\u001b[0m\n",
      "\u001b[32m2023-10-22 14:34:25.496\u001b[0m | \u001b[1mINFO    \u001b[0m | \u001b[36m__main__\u001b[0m:\u001b[36mrun_pipeline_self\u001b[0m:\u001b[36m75\u001b[0m - \u001b[1mModel: DecisionTreeClassifier(criterion='entropy', max_depth=9, min_samples_leaf=3,\n",
      "                       min_samples_split=3)\u001b[0m\n",
      "\u001b[32m2023-10-22 14:34:25.496\u001b[0m | \u001b[1mINFO    \u001b[0m | \u001b[36m__main__\u001b[0m:\u001b[36mrun_pipeline_self\u001b[0m:\u001b[36m76\u001b[0m - \u001b[1mSize of unlabelled data: 0.4\u001b[0m\n",
      "\u001b[32m2023-10-22 14:34:25.497\u001b[0m | \u001b[1mINFO    \u001b[0m | \u001b[36m__main__\u001b[0m:\u001b[36mrun_pipeline_self\u001b[0m:\u001b[36m79\u001b[0m - \u001b[1m%131 - Running pipeline for row_seed: 24 and size_of_unlabelled_data: 0.4 and model: DecisionTreeClassifier(criterion='entropy', max_depth=9, min_samples_leaf=3,\n",
      "                       min_samples_split=3)\u001b[0m\n",
      "\u001b[32m2023-10-22 14:34:25.554\u001b[0m | \u001b[1mINFO    \u001b[0m | \u001b[36m__main__\u001b[0m:\u001b[36mrun_pipeline_self\u001b[0m:\u001b[36m79\u001b[0m - \u001b[1m%132 - Running pipeline for row_seed: 42 and size_of_unlabelled_data: 0.4 and model: DecisionTreeClassifier(criterion='entropy', max_depth=9, min_samples_leaf=3,\n",
      "                       min_samples_split=3)\u001b[0m\n",
      "\u001b[32m2023-10-22 14:34:25.643\u001b[0m | \u001b[1mINFO    \u001b[0m | \u001b[36m__main__\u001b[0m:\u001b[36mrun_pipeline_self\u001b[0m:\u001b[36m79\u001b[0m - \u001b[1m%133 - Running pipeline for row_seed: 206 and size_of_unlabelled_data: 0.4 and model: DecisionTreeClassifier(criterion='entropy', max_depth=9, min_samples_leaf=3,\n",
      "                       min_samples_split=3)\u001b[0m\n"
     ]
    },
    {
     "name": "stdout",
     "output_type": "stream",
     "text": [
      "\n",
      "\n"
     ]
    },
    {
     "name": "stderr",
     "output_type": "stream",
     "text": [
      "\u001b[32m2023-10-22 14:34:25.700\u001b[0m | \u001b[1mINFO    \u001b[0m | \u001b[36m__main__\u001b[0m:\u001b[36mrun_pipeline_self\u001b[0m:\u001b[36m79\u001b[0m - \u001b[1m%134 - Running pipeline for row_seed: 602 and size_of_unlabelled_data: 0.4 and model: DecisionTreeClassifier(criterion='entropy', max_depth=9, min_samples_leaf=3,\n",
      "                       min_samples_split=3)\u001b[0m\n",
      "\u001b[32m2023-10-22 14:34:25.791\u001b[0m | \u001b[1mINFO    \u001b[0m | \u001b[36m__main__\u001b[0m:\u001b[36mrun_pipeline_self\u001b[0m:\u001b[36m79\u001b[0m - \u001b[1m%135 - Running pipeline for row_seed: 412 and size_of_unlabelled_data: 0.4 and model: DecisionTreeClassifier(criterion='entropy', max_depth=9, min_samples_leaf=3,\n",
      "                       min_samples_split=3)\u001b[0m\n",
      "\u001b[32m2023-10-22 14:34:25.879\u001b[0m | \u001b[1mINFO    \u001b[0m | \u001b[36m__main__\u001b[0m:\u001b[36mrun_pipeline_self\u001b[0m:\u001b[36m79\u001b[0m - \u001b[1m%136 - Running pipeline for row_seed: 214 and size_of_unlabelled_data: 0.4 and model: DecisionTreeClassifier(criterion='entropy', max_depth=9, min_samples_leaf=3,\n",
      "                       min_samples_split=3)\u001b[0m\n",
      "\u001b[32m2023-10-22 14:34:25.969\u001b[0m | \u001b[1mINFO    \u001b[0m | \u001b[36m__main__\u001b[0m:\u001b[36mrun_pipeline_self\u001b[0m:\u001b[36m79\u001b[0m - \u001b[1m%137 - Running pipeline for row_seed: 754 and size_of_unlabelled_data: 0.4 and model: DecisionTreeClassifier(criterion='entropy', max_depth=9, min_samples_leaf=3,\n",
      "                       min_samples_split=3)\u001b[0m\n",
      "\u001b[32m2023-10-22 14:34:26.057\u001b[0m | \u001b[1mINFO    \u001b[0m | \u001b[36m__main__\u001b[0m:\u001b[36mrun_pipeline_self\u001b[0m:\u001b[36m79\u001b[0m - \u001b[1m%138 - Running pipeline for row_seed: 457 and size_of_unlabelled_data: 0.4 and model: DecisionTreeClassifier(criterion='entropy', max_depth=9, min_samples_leaf=3,\n",
      "                       min_samples_split=3)\u001b[0m\n",
      "\u001b[32m2023-10-22 14:34:26.149\u001b[0m | \u001b[1mINFO    \u001b[0m | \u001b[36m__main__\u001b[0m:\u001b[36mrun_pipeline_self\u001b[0m:\u001b[36m79\u001b[0m - \u001b[1m%139 - Running pipeline for row_seed: 2023 and size_of_unlabelled_data: 0.4 and model: DecisionTreeClassifier(criterion='entropy', max_depth=9, min_samples_leaf=3,\n",
      "                       min_samples_split=3)\u001b[0m\n",
      "\u001b[32m2023-10-22 14:34:26.228\u001b[0m | \u001b[1mINFO    \u001b[0m | \u001b[36m__main__\u001b[0m:\u001b[36mrun_pipeline_self\u001b[0m:\u001b[36m79\u001b[0m - \u001b[1m%140 - Running pipeline for row_seed: 3202 and size_of_unlabelled_data: 0.4 and model: DecisionTreeClassifier(criterion='entropy', max_depth=9, min_samples_leaf=3,\n",
      "                       min_samples_split=3)\u001b[0m\n",
      "\u001b[32m2023-10-22 14:34:26.314\u001b[0m | \u001b[1mINFO    \u001b[0m | \u001b[36m__main__\u001b[0m:\u001b[36mrun_pipeline_self\u001b[0m:\u001b[36m75\u001b[0m - \u001b[1mModel: DecisionTreeClassifier(criterion='entropy', max_depth=9, min_samples_leaf=3,\n",
      "                       min_samples_split=3)\u001b[0m\n",
      "\u001b[32m2023-10-22 14:34:26.316\u001b[0m | \u001b[1mINFO    \u001b[0m | \u001b[36m__main__\u001b[0m:\u001b[36mrun_pipeline_self\u001b[0m:\u001b[36m76\u001b[0m - \u001b[1mSize of unlabelled data: 0.5\u001b[0m\n",
      "\u001b[32m2023-10-22 14:34:26.317\u001b[0m | \u001b[1mINFO    \u001b[0m | \u001b[36m__main__\u001b[0m:\u001b[36mrun_pipeline_self\u001b[0m:\u001b[36m79\u001b[0m - \u001b[1m%141 - Running pipeline for row_seed: 24 and size_of_unlabelled_data: 0.5 and model: DecisionTreeClassifier(criterion='entropy', max_depth=9, min_samples_leaf=3,\n",
      "                       min_samples_split=3)\u001b[0m\n",
      "\u001b[32m2023-10-22 14:34:26.385\u001b[0m | \u001b[1mINFO    \u001b[0m | \u001b[36m__main__\u001b[0m:\u001b[36mrun_pipeline_self\u001b[0m:\u001b[36m79\u001b[0m - \u001b[1m%142 - Running pipeline for row_seed: 42 and size_of_unlabelled_data: 0.5 and model: DecisionTreeClassifier(criterion='entropy', max_depth=9, min_samples_leaf=3,\n",
      "                       min_samples_split=3)\u001b[0m\n",
      "\u001b[32m2023-10-22 14:34:26.475\u001b[0m | \u001b[1mINFO    \u001b[0m | \u001b[36m__main__\u001b[0m:\u001b[36mrun_pipeline_self\u001b[0m:\u001b[36m79\u001b[0m - \u001b[1m%143 - Running pipeline for row_seed: 206 and size_of_unlabelled_data: 0.5 and model: DecisionTreeClassifier(criterion='entropy', max_depth=9, min_samples_leaf=3,\n",
      "                       min_samples_split=3)\u001b[0m\n"
     ]
    },
    {
     "name": "stdout",
     "output_type": "stream",
     "text": [
      "\n",
      "\n"
     ]
    },
    {
     "name": "stderr",
     "output_type": "stream",
     "text": [
      "\u001b[32m2023-10-22 14:34:26.548\u001b[0m | \u001b[1mINFO    \u001b[0m | \u001b[36m__main__\u001b[0m:\u001b[36mrun_pipeline_self\u001b[0m:\u001b[36m79\u001b[0m - \u001b[1m%144 - Running pipeline for row_seed: 602 and size_of_unlabelled_data: 0.5 and model: DecisionTreeClassifier(criterion='entropy', max_depth=9, min_samples_leaf=3,\n",
      "                       min_samples_split=3)\u001b[0m\n",
      "\u001b[32m2023-10-22 14:34:26.631\u001b[0m | \u001b[1mINFO    \u001b[0m | \u001b[36m__main__\u001b[0m:\u001b[36mrun_pipeline_self\u001b[0m:\u001b[36m79\u001b[0m - \u001b[1m%145 - Running pipeline for row_seed: 412 and size_of_unlabelled_data: 0.5 and model: DecisionTreeClassifier(criterion='entropy', max_depth=9, min_samples_leaf=3,\n",
      "                       min_samples_split=3)\u001b[0m\n",
      "\u001b[32m2023-10-22 14:34:26.687\u001b[0m | \u001b[1mINFO    \u001b[0m | \u001b[36m__main__\u001b[0m:\u001b[36mrun_pipeline_self\u001b[0m:\u001b[36m79\u001b[0m - \u001b[1m%146 - Running pipeline for row_seed: 214 and size_of_unlabelled_data: 0.5 and model: DecisionTreeClassifier(criterion='entropy', max_depth=9, min_samples_leaf=3,\n",
      "                       min_samples_split=3)\u001b[0m\n",
      "\u001b[32m2023-10-22 14:34:26.746\u001b[0m | \u001b[1mINFO    \u001b[0m | \u001b[36m__main__\u001b[0m:\u001b[36mrun_pipeline_self\u001b[0m:\u001b[36m79\u001b[0m - \u001b[1m%147 - Running pipeline for row_seed: 754 and size_of_unlabelled_data: 0.5 and model: DecisionTreeClassifier(criterion='entropy', max_depth=9, min_samples_leaf=3,\n",
      "                       min_samples_split=3)\u001b[0m\n",
      "\u001b[32m2023-10-22 14:34:26.824\u001b[0m | \u001b[1mINFO    \u001b[0m | \u001b[36m__main__\u001b[0m:\u001b[36mrun_pipeline_self\u001b[0m:\u001b[36m79\u001b[0m - \u001b[1m%148 - Running pipeline for row_seed: 457 and size_of_unlabelled_data: 0.5 and model: DecisionTreeClassifier(criterion='entropy', max_depth=9, min_samples_leaf=3,\n",
      "                       min_samples_split=3)\u001b[0m\n",
      "\u001b[32m2023-10-22 14:34:26.899\u001b[0m | \u001b[1mINFO    \u001b[0m | \u001b[36m__main__\u001b[0m:\u001b[36mrun_pipeline_self\u001b[0m:\u001b[36m79\u001b[0m - \u001b[1m%149 - Running pipeline for row_seed: 2023 and size_of_unlabelled_data: 0.5 and model: DecisionTreeClassifier(criterion='entropy', max_depth=9, min_samples_leaf=3,\n",
      "                       min_samples_split=3)\u001b[0m\n",
      "\u001b[32m2023-10-22 14:34:27.022\u001b[0m | \u001b[1mINFO    \u001b[0m | \u001b[36m__main__\u001b[0m:\u001b[36mrun_pipeline_self\u001b[0m:\u001b[36m79\u001b[0m - \u001b[1m%150 - Running pipeline for row_seed: 3202 and size_of_unlabelled_data: 0.5 and model: DecisionTreeClassifier(criterion='entropy', max_depth=9, min_samples_leaf=3,\n",
      "                       min_samples_split=3)\u001b[0m\n",
      "\u001b[32m2023-10-22 14:34:27.153\u001b[0m | \u001b[1mINFO    \u001b[0m | \u001b[36m__main__\u001b[0m:\u001b[36mrun_pipeline_self\u001b[0m:\u001b[36m75\u001b[0m - \u001b[1mModel: DecisionTreeClassifier(criterion='entropy', max_depth=9, min_samples_leaf=3,\n",
      "                       min_samples_split=3)\u001b[0m\n",
      "\u001b[32m2023-10-22 14:34:27.153\u001b[0m | \u001b[1mINFO    \u001b[0m | \u001b[36m__main__\u001b[0m:\u001b[36mrun_pipeline_self\u001b[0m:\u001b[36m76\u001b[0m - \u001b[1mSize of unlabelled data: 0.6\u001b[0m\n",
      "\u001b[32m2023-10-22 14:34:27.154\u001b[0m | \u001b[1mINFO    \u001b[0m | \u001b[36m__main__\u001b[0m:\u001b[36mrun_pipeline_self\u001b[0m:\u001b[36m79\u001b[0m - \u001b[1m%151 - Running pipeline for row_seed: 24 and size_of_unlabelled_data: 0.6 and model: DecisionTreeClassifier(criterion='entropy', max_depth=9, min_samples_leaf=3,\n",
      "                       min_samples_split=3)\u001b[0m\n",
      "\u001b[32m2023-10-22 14:34:27.227\u001b[0m | \u001b[1mINFO    \u001b[0m | \u001b[36m__main__\u001b[0m:\u001b[36mrun_pipeline_self\u001b[0m:\u001b[36m79\u001b[0m - \u001b[1m%152 - Running pipeline for row_seed: 42 and size_of_unlabelled_data: 0.6 and model: DecisionTreeClassifier(criterion='entropy', max_depth=9, min_samples_leaf=3,\n",
      "                       min_samples_split=3)\u001b[0m\n",
      "\u001b[32m2023-10-22 14:34:27.286\u001b[0m | \u001b[1mINFO    \u001b[0m | \u001b[36m__main__\u001b[0m:\u001b[36mrun_pipeline_self\u001b[0m:\u001b[36m79\u001b[0m - \u001b[1m%153 - Running pipeline for row_seed: 206 and size_of_unlabelled_data: 0.6 and model: DecisionTreeClassifier(criterion='entropy', max_depth=9, min_samples_leaf=3,\n",
      "                       min_samples_split=3)\u001b[0m\n",
      "\u001b[32m2023-10-22 14:34:27.341\u001b[0m | \u001b[1mINFO    \u001b[0m | \u001b[36m__main__\u001b[0m:\u001b[36mrun_pipeline_self\u001b[0m:\u001b[36m79\u001b[0m - \u001b[1m%154 - Running pipeline for row_seed: 602 and size_of_unlabelled_data: 0.6 and model: DecisionTreeClassifier(criterion='entropy', max_depth=9, min_samples_leaf=3,\n",
      "                       min_samples_split=3)\u001b[0m\n"
     ]
    },
    {
     "name": "stdout",
     "output_type": "stream",
     "text": [
      "\n",
      "\n"
     ]
    },
    {
     "name": "stderr",
     "output_type": "stream",
     "text": [
      "\u001b[32m2023-10-22 14:34:27.425\u001b[0m | \u001b[1mINFO    \u001b[0m | \u001b[36m__main__\u001b[0m:\u001b[36mrun_pipeline_self\u001b[0m:\u001b[36m79\u001b[0m - \u001b[1m%155 - Running pipeline for row_seed: 412 and size_of_unlabelled_data: 0.6 and model: DecisionTreeClassifier(criterion='entropy', max_depth=9, min_samples_leaf=3,\n",
      "                       min_samples_split=3)\u001b[0m\n",
      "\u001b[32m2023-10-22 14:34:27.527\u001b[0m | \u001b[1mINFO    \u001b[0m | \u001b[36m__main__\u001b[0m:\u001b[36mrun_pipeline_self\u001b[0m:\u001b[36m79\u001b[0m - \u001b[1m%156 - Running pipeline for row_seed: 214 and size_of_unlabelled_data: 0.6 and model: DecisionTreeClassifier(criterion='entropy', max_depth=9, min_samples_leaf=3,\n",
      "                       min_samples_split=3)\u001b[0m\n",
      "\u001b[32m2023-10-22 14:34:27.605\u001b[0m | \u001b[1mINFO    \u001b[0m | \u001b[36m__main__\u001b[0m:\u001b[36mrun_pipeline_self\u001b[0m:\u001b[36m79\u001b[0m - \u001b[1m%157 - Running pipeline for row_seed: 754 and size_of_unlabelled_data: 0.6 and model: DecisionTreeClassifier(criterion='entropy', max_depth=9, min_samples_leaf=3,\n",
      "                       min_samples_split=3)\u001b[0m\n",
      "\u001b[32m2023-10-22 14:34:27.670\u001b[0m | \u001b[1mINFO    \u001b[0m | \u001b[36m__main__\u001b[0m:\u001b[36mrun_pipeline_self\u001b[0m:\u001b[36m79\u001b[0m - \u001b[1m%158 - Running pipeline for row_seed: 457 and size_of_unlabelled_data: 0.6 and model: DecisionTreeClassifier(criterion='entropy', max_depth=9, min_samples_leaf=3,\n",
      "                       min_samples_split=3)\u001b[0m\n",
      "\u001b[32m2023-10-22 14:34:27.757\u001b[0m | \u001b[1mINFO    \u001b[0m | \u001b[36m__main__\u001b[0m:\u001b[36mrun_pipeline_self\u001b[0m:\u001b[36m79\u001b[0m - \u001b[1m%159 - Running pipeline for row_seed: 2023 and size_of_unlabelled_data: 0.6 and model: DecisionTreeClassifier(criterion='entropy', max_depth=9, min_samples_leaf=3,\n",
      "                       min_samples_split=3)\u001b[0m\n",
      "\u001b[32m2023-10-22 14:34:27.825\u001b[0m | \u001b[1mINFO    \u001b[0m | \u001b[36m__main__\u001b[0m:\u001b[36mrun_pipeline_self\u001b[0m:\u001b[36m79\u001b[0m - \u001b[1m%160 - Running pipeline for row_seed: 3202 and size_of_unlabelled_data: 0.6 and model: DecisionTreeClassifier(criterion='entropy', max_depth=9, min_samples_leaf=3,\n",
      "                       min_samples_split=3)\u001b[0m\n",
      "\u001b[32m2023-10-22 14:34:27.885\u001b[0m | \u001b[1mINFO    \u001b[0m | \u001b[36m__main__\u001b[0m:\u001b[36mrun_pipeline_self\u001b[0m:\u001b[36m75\u001b[0m - \u001b[1mModel: DecisionTreeClassifier(criterion='entropy', max_depth=9, min_samples_leaf=3,\n",
      "                       min_samples_split=3)\u001b[0m\n",
      "\u001b[32m2023-10-22 14:34:27.885\u001b[0m | \u001b[1mINFO    \u001b[0m | \u001b[36m__main__\u001b[0m:\u001b[36mrun_pipeline_self\u001b[0m:\u001b[36m76\u001b[0m - \u001b[1mSize of unlabelled data: 0.7\u001b[0m\n",
      "\u001b[32m2023-10-22 14:34:27.886\u001b[0m | \u001b[1mINFO    \u001b[0m | \u001b[36m__main__\u001b[0m:\u001b[36mrun_pipeline_self\u001b[0m:\u001b[36m79\u001b[0m - \u001b[1m%161 - Running pipeline for row_seed: 24 and size_of_unlabelled_data: 0.7 and model: DecisionTreeClassifier(criterion='entropy', max_depth=9, min_samples_leaf=3,\n",
      "                       min_samples_split=3)\u001b[0m\n",
      "\u001b[32m2023-10-22 14:34:27.948\u001b[0m | \u001b[1mINFO    \u001b[0m | \u001b[36m__main__\u001b[0m:\u001b[36mrun_pipeline_self\u001b[0m:\u001b[36m79\u001b[0m - \u001b[1m%162 - Running pipeline for row_seed: 42 and size_of_unlabelled_data: 0.7 and model: DecisionTreeClassifier(criterion='entropy', max_depth=9, min_samples_leaf=3,\n",
      "                       min_samples_split=3)\u001b[0m\n",
      "\u001b[32m2023-10-22 14:34:28.009\u001b[0m | \u001b[1mINFO    \u001b[0m | \u001b[36m__main__\u001b[0m:\u001b[36mrun_pipeline_self\u001b[0m:\u001b[36m79\u001b[0m - \u001b[1m%163 - Running pipeline for row_seed: 206 and size_of_unlabelled_data: 0.7 and model: DecisionTreeClassifier(criterion='entropy', max_depth=9, min_samples_leaf=3,\n",
      "                       min_samples_split=3)\u001b[0m\n",
      "\u001b[32m2023-10-22 14:34:28.081\u001b[0m | \u001b[1mINFO    \u001b[0m | \u001b[36m__main__\u001b[0m:\u001b[36mrun_pipeline_self\u001b[0m:\u001b[36m79\u001b[0m - \u001b[1m%164 - Running pipeline for row_seed: 602 and size_of_unlabelled_data: 0.7 and model: DecisionTreeClassifier(criterion='entropy', max_depth=9, min_samples_leaf=3,\n",
      "                       min_samples_split=3)\u001b[0m\n"
     ]
    },
    {
     "name": "stdout",
     "output_type": "stream",
     "text": [
      "\n",
      "\n"
     ]
    },
    {
     "name": "stderr",
     "output_type": "stream",
     "text": [
      "\u001b[32m2023-10-22 14:34:28.140\u001b[0m | \u001b[1mINFO    \u001b[0m | \u001b[36m__main__\u001b[0m:\u001b[36mrun_pipeline_self\u001b[0m:\u001b[36m79\u001b[0m - \u001b[1m%165 - Running pipeline for row_seed: 412 and size_of_unlabelled_data: 0.7 and model: DecisionTreeClassifier(criterion='entropy', max_depth=9, min_samples_leaf=3,\n",
      "                       min_samples_split=3)\u001b[0m\n",
      "\u001b[32m2023-10-22 14:34:28.218\u001b[0m | \u001b[1mINFO    \u001b[0m | \u001b[36m__main__\u001b[0m:\u001b[36mrun_pipeline_self\u001b[0m:\u001b[36m79\u001b[0m - \u001b[1m%166 - Running pipeline for row_seed: 214 and size_of_unlabelled_data: 0.7 and model: DecisionTreeClassifier(criterion='entropy', max_depth=9, min_samples_leaf=3,\n",
      "                       min_samples_split=3)\u001b[0m\n",
      "\u001b[32m2023-10-22 14:34:28.301\u001b[0m | \u001b[1mINFO    \u001b[0m | \u001b[36m__main__\u001b[0m:\u001b[36mrun_pipeline_self\u001b[0m:\u001b[36m79\u001b[0m - \u001b[1m%167 - Running pipeline for row_seed: 754 and size_of_unlabelled_data: 0.7 and model: DecisionTreeClassifier(criterion='entropy', max_depth=9, min_samples_leaf=3,\n",
      "                       min_samples_split=3)\u001b[0m\n",
      "\u001b[32m2023-10-22 14:34:28.372\u001b[0m | \u001b[1mINFO    \u001b[0m | \u001b[36m__main__\u001b[0m:\u001b[36mrun_pipeline_self\u001b[0m:\u001b[36m79\u001b[0m - \u001b[1m%168 - Running pipeline for row_seed: 457 and size_of_unlabelled_data: 0.7 and model: DecisionTreeClassifier(criterion='entropy', max_depth=9, min_samples_leaf=3,\n",
      "                       min_samples_split=3)\u001b[0m\n",
      "\u001b[32m2023-10-22 14:34:28.445\u001b[0m | \u001b[1mINFO    \u001b[0m | \u001b[36m__main__\u001b[0m:\u001b[36mrun_pipeline_self\u001b[0m:\u001b[36m79\u001b[0m - \u001b[1m%169 - Running pipeline for row_seed: 2023 and size_of_unlabelled_data: 0.7 and model: DecisionTreeClassifier(criterion='entropy', max_depth=9, min_samples_leaf=3,\n",
      "                       min_samples_split=3)\u001b[0m\n",
      "\u001b[32m2023-10-22 14:34:28.502\u001b[0m | \u001b[1mINFO    \u001b[0m | \u001b[36m__main__\u001b[0m:\u001b[36mrun_pipeline_self\u001b[0m:\u001b[36m79\u001b[0m - \u001b[1m%170 - Running pipeline for row_seed: 3202 and size_of_unlabelled_data: 0.7 and model: DecisionTreeClassifier(criterion='entropy', max_depth=9, min_samples_leaf=3,\n",
      "                       min_samples_split=3)\u001b[0m\n",
      "\u001b[32m2023-10-22 14:34:28.558\u001b[0m | \u001b[1mINFO    \u001b[0m | \u001b[36m__main__\u001b[0m:\u001b[36mrun_pipeline_self\u001b[0m:\u001b[36m75\u001b[0m - \u001b[1mModel: DecisionTreeClassifier(criterion='entropy', max_depth=9, min_samples_leaf=3,\n",
      "                       min_samples_split=3)\u001b[0m\n",
      "\u001b[32m2023-10-22 14:34:28.559\u001b[0m | \u001b[1mINFO    \u001b[0m | \u001b[36m__main__\u001b[0m:\u001b[36mrun_pipeline_self\u001b[0m:\u001b[36m76\u001b[0m - \u001b[1mSize of unlabelled data: 0.8\u001b[0m\n",
      "\u001b[32m2023-10-22 14:34:28.560\u001b[0m | \u001b[1mINFO    \u001b[0m | \u001b[36m__main__\u001b[0m:\u001b[36mrun_pipeline_self\u001b[0m:\u001b[36m79\u001b[0m - \u001b[1m%171 - Running pipeline for row_seed: 24 and size_of_unlabelled_data: 0.8 and model: DecisionTreeClassifier(criterion='entropy', max_depth=9, min_samples_leaf=3,\n",
      "                       min_samples_split=3)\u001b[0m\n",
      "\u001b[32m2023-10-22 14:34:28.617\u001b[0m | \u001b[1mINFO    \u001b[0m | \u001b[36m__main__\u001b[0m:\u001b[36mrun_pipeline_self\u001b[0m:\u001b[36m79\u001b[0m - \u001b[1m%172 - Running pipeline for row_seed: 42 and size_of_unlabelled_data: 0.8 and model: DecisionTreeClassifier(criterion='entropy', max_depth=9, min_samples_leaf=3,\n",
      "                       min_samples_split=3)\u001b[0m\n",
      "\u001b[32m2023-10-22 14:34:28.698\u001b[0m | \u001b[1mINFO    \u001b[0m | \u001b[36m__main__\u001b[0m:\u001b[36mrun_pipeline_self\u001b[0m:\u001b[36m79\u001b[0m - \u001b[1m%173 - Running pipeline for row_seed: 206 and size_of_unlabelled_data: 0.8 and model: DecisionTreeClassifier(criterion='entropy', max_depth=9, min_samples_leaf=3,\n",
      "                       min_samples_split=3)\u001b[0m\n",
      "\u001b[32m2023-10-22 14:34:28.744\u001b[0m | \u001b[1mINFO    \u001b[0m | \u001b[36m__main__\u001b[0m:\u001b[36mrun_pipeline_self\u001b[0m:\u001b[36m79\u001b[0m - \u001b[1m%174 - Running pipeline for row_seed: 602 and size_of_unlabelled_data: 0.8 and model: DecisionTreeClassifier(criterion='entropy', max_depth=9, min_samples_leaf=3,\n",
      "                       min_samples_split=3)\u001b[0m\n"
     ]
    },
    {
     "name": "stdout",
     "output_type": "stream",
     "text": [
      "\n",
      "\n"
     ]
    },
    {
     "name": "stderr",
     "output_type": "stream",
     "text": [
      "\u001b[32m2023-10-22 14:34:28.804\u001b[0m | \u001b[1mINFO    \u001b[0m | \u001b[36m__main__\u001b[0m:\u001b[36mrun_pipeline_self\u001b[0m:\u001b[36m79\u001b[0m - \u001b[1m%175 - Running pipeline for row_seed: 412 and size_of_unlabelled_data: 0.8 and model: DecisionTreeClassifier(criterion='entropy', max_depth=9, min_samples_leaf=3,\n",
      "                       min_samples_split=3)\u001b[0m\n",
      "\u001b[32m2023-10-22 14:34:28.852\u001b[0m | \u001b[1mINFO    \u001b[0m | \u001b[36m__main__\u001b[0m:\u001b[36mrun_pipeline_self\u001b[0m:\u001b[36m79\u001b[0m - \u001b[1m%176 - Running pipeline for row_seed: 214 and size_of_unlabelled_data: 0.8 and model: DecisionTreeClassifier(criterion='entropy', max_depth=9, min_samples_leaf=3,\n",
      "                       min_samples_split=3)\u001b[0m\n",
      "\u001b[32m2023-10-22 14:34:28.915\u001b[0m | \u001b[1mINFO    \u001b[0m | \u001b[36m__main__\u001b[0m:\u001b[36mrun_pipeline_self\u001b[0m:\u001b[36m79\u001b[0m - \u001b[1m%177 - Running pipeline for row_seed: 754 and size_of_unlabelled_data: 0.8 and model: DecisionTreeClassifier(criterion='entropy', max_depth=9, min_samples_leaf=3,\n",
      "                       min_samples_split=3)\u001b[0m\n",
      "\u001b[32m2023-10-22 14:34:28.990\u001b[0m | \u001b[1mINFO    \u001b[0m | \u001b[36m__main__\u001b[0m:\u001b[36mrun_pipeline_self\u001b[0m:\u001b[36m79\u001b[0m - \u001b[1m%178 - Running pipeline for row_seed: 457 and size_of_unlabelled_data: 0.8 and model: DecisionTreeClassifier(criterion='entropy', max_depth=9, min_samples_leaf=3,\n",
      "                       min_samples_split=3)\u001b[0m\n",
      "\u001b[32m2023-10-22 14:34:29.095\u001b[0m | \u001b[1mINFO    \u001b[0m | \u001b[36m__main__\u001b[0m:\u001b[36mrun_pipeline_self\u001b[0m:\u001b[36m79\u001b[0m - \u001b[1m%179 - Running pipeline for row_seed: 2023 and size_of_unlabelled_data: 0.8 and model: DecisionTreeClassifier(criterion='entropy', max_depth=9, min_samples_leaf=3,\n",
      "                       min_samples_split=3)\u001b[0m\n",
      "\u001b[32m2023-10-22 14:34:29.190\u001b[0m | \u001b[1mINFO    \u001b[0m | \u001b[36m__main__\u001b[0m:\u001b[36mrun_pipeline_self\u001b[0m:\u001b[36m79\u001b[0m - \u001b[1m%180 - Running pipeline for row_seed: 3202 and size_of_unlabelled_data: 0.8 and model: DecisionTreeClassifier(criterion='entropy', max_depth=9, min_samples_leaf=3,\n",
      "                       min_samples_split=3)\u001b[0m\n",
      "\u001b[32m2023-10-22 14:34:29.278\u001b[0m | \u001b[1mINFO    \u001b[0m | \u001b[36m__main__\u001b[0m:\u001b[36mrun_pipeline_self\u001b[0m:\u001b[36m75\u001b[0m - \u001b[1mModel: DecisionTreeClassifier(criterion='entropy', max_depth=9, min_samples_leaf=3,\n",
      "                       min_samples_split=3)\u001b[0m\n",
      "\u001b[32m2023-10-22 14:34:29.278\u001b[0m | \u001b[1mINFO    \u001b[0m | \u001b[36m__main__\u001b[0m:\u001b[36mrun_pipeline_self\u001b[0m:\u001b[36m76\u001b[0m - \u001b[1mSize of unlabelled data: 0.85\u001b[0m\n",
      "\u001b[32m2023-10-22 14:34:29.279\u001b[0m | \u001b[1mINFO    \u001b[0m | \u001b[36m__main__\u001b[0m:\u001b[36mrun_pipeline_self\u001b[0m:\u001b[36m79\u001b[0m - \u001b[1m%181 - Running pipeline for row_seed: 24 and size_of_unlabelled_data: 0.85 and model: DecisionTreeClassifier(criterion='entropy', max_depth=9, min_samples_leaf=3,\n",
      "                       min_samples_split=3)\u001b[0m\n",
      "\u001b[32m2023-10-22 14:34:29.342\u001b[0m | \u001b[1mINFO    \u001b[0m | \u001b[36m__main__\u001b[0m:\u001b[36mrun_pipeline_self\u001b[0m:\u001b[36m79\u001b[0m - \u001b[1m%182 - Running pipeline for row_seed: 42 and size_of_unlabelled_data: 0.85 and model: DecisionTreeClassifier(criterion='entropy', max_depth=9, min_samples_leaf=3,\n",
      "                       min_samples_split=3)\u001b[0m\n",
      "\u001b[32m2023-10-22 14:34:29.401\u001b[0m | \u001b[1mINFO    \u001b[0m | \u001b[36m__main__\u001b[0m:\u001b[36mrun_pipeline_self\u001b[0m:\u001b[36m79\u001b[0m - \u001b[1m%183 - Running pipeline for row_seed: 206 and size_of_unlabelled_data: 0.85 and model: DecisionTreeClassifier(criterion='entropy', max_depth=9, min_samples_leaf=3,\n",
      "                       min_samples_split=3)\u001b[0m\n",
      "\u001b[32m2023-10-22 14:34:29.471\u001b[0m | \u001b[1mINFO    \u001b[0m | \u001b[36m__main__\u001b[0m:\u001b[36mrun_pipeline_self\u001b[0m:\u001b[36m79\u001b[0m - \u001b[1m%184 - Running pipeline for row_seed: 602 and size_of_unlabelled_data: 0.85 and model: DecisionTreeClassifier(criterion='entropy', max_depth=9, min_samples_leaf=3,\n",
      "                       min_samples_split=3)\u001b[0m\n"
     ]
    },
    {
     "name": "stdout",
     "output_type": "stream",
     "text": [
      "\n",
      "\n"
     ]
    },
    {
     "name": "stderr",
     "output_type": "stream",
     "text": [
      "\u001b[32m2023-10-22 14:34:29.516\u001b[0m | \u001b[1mINFO    \u001b[0m | \u001b[36m__main__\u001b[0m:\u001b[36mrun_pipeline_self\u001b[0m:\u001b[36m79\u001b[0m - \u001b[1m%185 - Running pipeline for row_seed: 412 and size_of_unlabelled_data: 0.85 and model: DecisionTreeClassifier(criterion='entropy', max_depth=9, min_samples_leaf=3,\n",
      "                       min_samples_split=3)\u001b[0m\n",
      "\u001b[32m2023-10-22 14:34:29.588\u001b[0m | \u001b[1mINFO    \u001b[0m | \u001b[36m__main__\u001b[0m:\u001b[36mrun_pipeline_self\u001b[0m:\u001b[36m79\u001b[0m - \u001b[1m%186 - Running pipeline for row_seed: 214 and size_of_unlabelled_data: 0.85 and model: DecisionTreeClassifier(criterion='entropy', max_depth=9, min_samples_leaf=3,\n",
      "                       min_samples_split=3)\u001b[0m\n",
      "\u001b[32m2023-10-22 14:34:29.651\u001b[0m | \u001b[1mINFO    \u001b[0m | \u001b[36m__main__\u001b[0m:\u001b[36mrun_pipeline_self\u001b[0m:\u001b[36m79\u001b[0m - \u001b[1m%187 - Running pipeline for row_seed: 754 and size_of_unlabelled_data: 0.85 and model: DecisionTreeClassifier(criterion='entropy', max_depth=9, min_samples_leaf=3,\n",
      "                       min_samples_split=3)\u001b[0m\n",
      "\u001b[32m2023-10-22 14:34:29.707\u001b[0m | \u001b[1mINFO    \u001b[0m | \u001b[36m__main__\u001b[0m:\u001b[36mrun_pipeline_self\u001b[0m:\u001b[36m79\u001b[0m - \u001b[1m%188 - Running pipeline for row_seed: 457 and size_of_unlabelled_data: 0.85 and model: DecisionTreeClassifier(criterion='entropy', max_depth=9, min_samples_leaf=3,\n",
      "                       min_samples_split=3)\u001b[0m\n",
      "\u001b[32m2023-10-22 14:34:29.751\u001b[0m | \u001b[1mINFO    \u001b[0m | \u001b[36m__main__\u001b[0m:\u001b[36mrun_pipeline_self\u001b[0m:\u001b[36m79\u001b[0m - \u001b[1m%189 - Running pipeline for row_seed: 2023 and size_of_unlabelled_data: 0.85 and model: DecisionTreeClassifier(criterion='entropy', max_depth=9, min_samples_leaf=3,\n",
      "                       min_samples_split=3)\u001b[0m\n",
      "\u001b[32m2023-10-22 14:34:29.779\u001b[0m | \u001b[1mINFO    \u001b[0m | \u001b[36m__main__\u001b[0m:\u001b[36mrun_pipeline_self\u001b[0m:\u001b[36m79\u001b[0m - \u001b[1m%190 - Running pipeline for row_seed: 3202 and size_of_unlabelled_data: 0.85 and model: DecisionTreeClassifier(criterion='entropy', max_depth=9, min_samples_leaf=3,\n",
      "                       min_samples_split=3)\u001b[0m\n",
      "\u001b[32m2023-10-22 14:34:29.866\u001b[0m | \u001b[1mINFO    \u001b[0m | \u001b[36m__main__\u001b[0m:\u001b[36mrun_pipeline_self\u001b[0m:\u001b[36m75\u001b[0m - \u001b[1mModel: DecisionTreeClassifier(criterion='entropy', max_depth=9, min_samples_leaf=3,\n",
      "                       min_samples_split=3)\u001b[0m\n",
      "\u001b[32m2023-10-22 14:34:29.867\u001b[0m | \u001b[1mINFO    \u001b[0m | \u001b[36m__main__\u001b[0m:\u001b[36mrun_pipeline_self\u001b[0m:\u001b[36m76\u001b[0m - \u001b[1mSize of unlabelled data: 0.9\u001b[0m\n",
      "\u001b[32m2023-10-22 14:34:29.867\u001b[0m | \u001b[1mINFO    \u001b[0m | \u001b[36m__main__\u001b[0m:\u001b[36mrun_pipeline_self\u001b[0m:\u001b[36m79\u001b[0m - \u001b[1m%191 - Running pipeline for row_seed: 24 and size_of_unlabelled_data: 0.9 and model: DecisionTreeClassifier(criterion='entropy', max_depth=9, min_samples_leaf=3,\n",
      "                       min_samples_split=3)\u001b[0m\n",
      "\u001b[32m2023-10-22 14:34:29.912\u001b[0m | \u001b[1mINFO    \u001b[0m | \u001b[36m__main__\u001b[0m:\u001b[36mrun_pipeline_self\u001b[0m:\u001b[36m79\u001b[0m - \u001b[1m%192 - Running pipeline for row_seed: 42 and size_of_unlabelled_data: 0.9 and model: DecisionTreeClassifier(criterion='entropy', max_depth=9, min_samples_leaf=3,\n",
      "                       min_samples_split=3)\u001b[0m\n",
      "\u001b[32m2023-10-22 14:34:29.947\u001b[0m | \u001b[1mINFO    \u001b[0m | \u001b[36m__main__\u001b[0m:\u001b[36mrun_pipeline_self\u001b[0m:\u001b[36m79\u001b[0m - \u001b[1m%193 - Running pipeline for row_seed: 206 and size_of_unlabelled_data: 0.9 and model: DecisionTreeClassifier(criterion='entropy', max_depth=9, min_samples_leaf=3,\n",
      "                       min_samples_split=3)\u001b[0m\n",
      "\u001b[32m2023-10-22 14:34:30.024\u001b[0m | \u001b[1mINFO    \u001b[0m | \u001b[36m__main__\u001b[0m:\u001b[36mrun_pipeline_self\u001b[0m:\u001b[36m79\u001b[0m - \u001b[1m%194 - Running pipeline for row_seed: 602 and size_of_unlabelled_data: 0.9 and model: DecisionTreeClassifier(criterion='entropy', max_depth=9, min_samples_leaf=3,\n",
      "                       min_samples_split=3)\u001b[0m\n"
     ]
    },
    {
     "name": "stdout",
     "output_type": "stream",
     "text": [
      "\n",
      "\n"
     ]
    },
    {
     "name": "stderr",
     "output_type": "stream",
     "text": [
      "\u001b[32m2023-10-22 14:34:30.074\u001b[0m | \u001b[1mINFO    \u001b[0m | \u001b[36m__main__\u001b[0m:\u001b[36mrun_pipeline_self\u001b[0m:\u001b[36m79\u001b[0m - \u001b[1m%195 - Running pipeline for row_seed: 412 and size_of_unlabelled_data: 0.9 and model: DecisionTreeClassifier(criterion='entropy', max_depth=9, min_samples_leaf=3,\n",
      "                       min_samples_split=3)\u001b[0m\n",
      "\u001b[32m2023-10-22 14:34:30.148\u001b[0m | \u001b[1mINFO    \u001b[0m | \u001b[36m__main__\u001b[0m:\u001b[36mrun_pipeline_self\u001b[0m:\u001b[36m79\u001b[0m - \u001b[1m%196 - Running pipeline for row_seed: 214 and size_of_unlabelled_data: 0.9 and model: DecisionTreeClassifier(criterion='entropy', max_depth=9, min_samples_leaf=3,\n",
      "                       min_samples_split=3)\u001b[0m\n",
      "\u001b[32m2023-10-22 14:34:30.199\u001b[0m | \u001b[1mINFO    \u001b[0m | \u001b[36m__main__\u001b[0m:\u001b[36mrun_pipeline_self\u001b[0m:\u001b[36m79\u001b[0m - \u001b[1m%197 - Running pipeline for row_seed: 754 and size_of_unlabelled_data: 0.9 and model: DecisionTreeClassifier(criterion='entropy', max_depth=9, min_samples_leaf=3,\n",
      "                       min_samples_split=3)\u001b[0m\n",
      "\u001b[32m2023-10-22 14:34:30.260\u001b[0m | \u001b[1mINFO    \u001b[0m | \u001b[36m__main__\u001b[0m:\u001b[36mrun_pipeline_self\u001b[0m:\u001b[36m79\u001b[0m - \u001b[1m%198 - Running pipeline for row_seed: 457 and size_of_unlabelled_data: 0.9 and model: DecisionTreeClassifier(criterion='entropy', max_depth=9, min_samples_leaf=3,\n",
      "                       min_samples_split=3)\u001b[0m\n",
      "\u001b[32m2023-10-22 14:34:30.320\u001b[0m | \u001b[1mINFO    \u001b[0m | \u001b[36m__main__\u001b[0m:\u001b[36mrun_pipeline_self\u001b[0m:\u001b[36m79\u001b[0m - \u001b[1m%199 - Running pipeline for row_seed: 2023 and size_of_unlabelled_data: 0.9 and model: DecisionTreeClassifier(criterion='entropy', max_depth=9, min_samples_leaf=3,\n",
      "                       min_samples_split=3)\u001b[0m\n",
      "\u001b[32m2023-10-22 14:34:30.371\u001b[0m | \u001b[1mINFO    \u001b[0m | \u001b[36m__main__\u001b[0m:\u001b[36mrun_pipeline_self\u001b[0m:\u001b[36m79\u001b[0m - \u001b[1m%200 - Running pipeline for row_seed: 3202 and size_of_unlabelled_data: 0.9 and model: DecisionTreeClassifier(criterion='entropy', max_depth=9, min_samples_leaf=3,\n",
      "                       min_samples_split=3)\u001b[0m\n",
      "\u001b[32m2023-10-22 14:34:30.441\u001b[0m | \u001b[1mINFO    \u001b[0m | \u001b[36m__main__\u001b[0m:\u001b[36mrun_pipeline_self\u001b[0m:\u001b[36m75\u001b[0m - \u001b[1mModel: KNeighborsClassifier(metric='manhattan', n_neighbors=15, weights='distance')\u001b[0m\n",
      "\u001b[32m2023-10-22 14:34:30.441\u001b[0m | \u001b[1mINFO    \u001b[0m | \u001b[36m__main__\u001b[0m:\u001b[36mrun_pipeline_self\u001b[0m:\u001b[36m76\u001b[0m - \u001b[1mSize of unlabelled data: 0.1\u001b[0m\n",
      "\u001b[32m2023-10-22 14:34:30.442\u001b[0m | \u001b[1mINFO    \u001b[0m | \u001b[36m__main__\u001b[0m:\u001b[36mrun_pipeline_self\u001b[0m:\u001b[36m79\u001b[0m - \u001b[1m%201 - Running pipeline for row_seed: 24 and size_of_unlabelled_data: 0.1 and model: KNeighborsClassifier(metric='manhattan', n_neighbors=15, weights='distance')\u001b[0m\n",
      "\u001b[32m2023-10-22 14:34:30.476\u001b[0m | \u001b[1mINFO    \u001b[0m | \u001b[36m__main__\u001b[0m:\u001b[36mrun_pipeline_self\u001b[0m:\u001b[36m79\u001b[0m - \u001b[1m%202 - Running pipeline for row_seed: 42 and size_of_unlabelled_data: 0.1 and model: KNeighborsClassifier(metric='manhattan', n_neighbors=15, weights='distance')\u001b[0m\n",
      "\u001b[32m2023-10-22 14:34:30.509\u001b[0m | \u001b[1mINFO    \u001b[0m | \u001b[36m__main__\u001b[0m:\u001b[36mrun_pipeline_self\u001b[0m:\u001b[36m79\u001b[0m - \u001b[1m%203 - Running pipeline for row_seed: 206 and size_of_unlabelled_data: 0.1 and model: KNeighborsClassifier(metric='manhattan', n_neighbors=15, weights='distance')\u001b[0m\n",
      "\u001b[32m2023-10-22 14:34:30.541\u001b[0m | \u001b[1mINFO    \u001b[0m | \u001b[36m__main__\u001b[0m:\u001b[36mrun_pipeline_self\u001b[0m:\u001b[36m79\u001b[0m - \u001b[1m%204 - Running pipeline for row_seed: 602 and size_of_unlabelled_data: 0.1 and model: KNeighborsClassifier(metric='manhattan', n_neighbors=15, weights='distance')\u001b[0m\n",
      "\u001b[32m2023-10-22 14:34:30.575\u001b[0m | \u001b[1mINFO    \u001b[0m | \u001b[36m__main__\u001b[0m:\u001b[36mrun_pipeline_self\u001b[0m:\u001b[36m79\u001b[0m - \u001b[1m%205 - Running pipeline for row_seed: 412 and size_of_unlabelled_data: 0.1 and model: KNeighborsClassifier(metric='manhattan', n_neighbors=15, weights='distance')\u001b[0m\n",
      "\u001b[32m2023-10-22 14:34:30.607\u001b[0m | \u001b[1mINFO    \u001b[0m | \u001b[36m__main__\u001b[0m:\u001b[36mrun_pipeline_self\u001b[0m:\u001b[36m79\u001b[0m - \u001b[1m%206 - Running pipeline for row_seed: 214 and size_of_unlabelled_data: 0.1 and model: KNeighborsClassifier(metric='manhattan', n_neighbors=15, weights='distance')\u001b[0m\n"
     ]
    },
    {
     "name": "stdout",
     "output_type": "stream",
     "text": [
      "\n",
      "\n"
     ]
    },
    {
     "name": "stderr",
     "output_type": "stream",
     "text": [
      "\u001b[32m2023-10-22 14:34:30.642\u001b[0m | \u001b[1mINFO    \u001b[0m | \u001b[36m__main__\u001b[0m:\u001b[36mrun_pipeline_self\u001b[0m:\u001b[36m79\u001b[0m - \u001b[1m%207 - Running pipeline for row_seed: 754 and size_of_unlabelled_data: 0.1 and model: KNeighborsClassifier(metric='manhattan', n_neighbors=15, weights='distance')\u001b[0m\n",
      "\u001b[32m2023-10-22 14:34:30.674\u001b[0m | \u001b[1mINFO    \u001b[0m | \u001b[36m__main__\u001b[0m:\u001b[36mrun_pipeline_self\u001b[0m:\u001b[36m79\u001b[0m - \u001b[1m%208 - Running pipeline for row_seed: 457 and size_of_unlabelled_data: 0.1 and model: KNeighborsClassifier(metric='manhattan', n_neighbors=15, weights='distance')\u001b[0m\n",
      "\u001b[32m2023-10-22 14:34:30.705\u001b[0m | \u001b[1mINFO    \u001b[0m | \u001b[36m__main__\u001b[0m:\u001b[36mrun_pipeline_self\u001b[0m:\u001b[36m79\u001b[0m - \u001b[1m%209 - Running pipeline for row_seed: 2023 and size_of_unlabelled_data: 0.1 and model: KNeighborsClassifier(metric='manhattan', n_neighbors=15, weights='distance')\u001b[0m\n",
      "\u001b[32m2023-10-22 14:34:30.735\u001b[0m | \u001b[1mINFO    \u001b[0m | \u001b[36m__main__\u001b[0m:\u001b[36mrun_pipeline_self\u001b[0m:\u001b[36m79\u001b[0m - \u001b[1m%210 - Running pipeline for row_seed: 3202 and size_of_unlabelled_data: 0.1 and model: KNeighborsClassifier(metric='manhattan', n_neighbors=15, weights='distance')\u001b[0m\n",
      "\u001b[32m2023-10-22 14:34:30.772\u001b[0m | \u001b[1mINFO    \u001b[0m | \u001b[36m__main__\u001b[0m:\u001b[36mrun_pipeline_self\u001b[0m:\u001b[36m75\u001b[0m - \u001b[1mModel: KNeighborsClassifier(metric='manhattan', n_neighbors=15, weights='distance')\u001b[0m\n",
      "\u001b[32m2023-10-22 14:34:30.773\u001b[0m | \u001b[1mINFO    \u001b[0m | \u001b[36m__main__\u001b[0m:\u001b[36mrun_pipeline_self\u001b[0m:\u001b[36m76\u001b[0m - \u001b[1mSize of unlabelled data: 0.2\u001b[0m\n",
      "\u001b[32m2023-10-22 14:34:30.773\u001b[0m | \u001b[1mINFO    \u001b[0m | \u001b[36m__main__\u001b[0m:\u001b[36mrun_pipeline_self\u001b[0m:\u001b[36m79\u001b[0m - \u001b[1m%211 - Running pipeline for row_seed: 24 and size_of_unlabelled_data: 0.2 and model: KNeighborsClassifier(metric='manhattan', n_neighbors=15, weights='distance')\u001b[0m\n",
      "\u001b[32m2023-10-22 14:34:30.811\u001b[0m | \u001b[1mINFO    \u001b[0m | \u001b[36m__main__\u001b[0m:\u001b[36mrun_pipeline_self\u001b[0m:\u001b[36m79\u001b[0m - \u001b[1m%212 - Running pipeline for row_seed: 42 and size_of_unlabelled_data: 0.2 and model: KNeighborsClassifier(metric='manhattan', n_neighbors=15, weights='distance')\u001b[0m\n",
      "\u001b[32m2023-10-22 14:34:30.852\u001b[0m | \u001b[1mINFO    \u001b[0m | \u001b[36m__main__\u001b[0m:\u001b[36mrun_pipeline_self\u001b[0m:\u001b[36m79\u001b[0m - \u001b[1m%213 - Running pipeline for row_seed: 206 and size_of_unlabelled_data: 0.2 and model: KNeighborsClassifier(metric='manhattan', n_neighbors=15, weights='distance')\u001b[0m\n",
      "\u001b[32m2023-10-22 14:34:30.896\u001b[0m | \u001b[1mINFO    \u001b[0m | \u001b[36m__main__\u001b[0m:\u001b[36mrun_pipeline_self\u001b[0m:\u001b[36m79\u001b[0m - \u001b[1m%214 - Running pipeline for row_seed: 602 and size_of_unlabelled_data: 0.2 and model: KNeighborsClassifier(metric='manhattan', n_neighbors=15, weights='distance')\u001b[0m\n",
      "\u001b[32m2023-10-22 14:34:30.939\u001b[0m | \u001b[1mINFO    \u001b[0m | \u001b[36m__main__\u001b[0m:\u001b[36mrun_pipeline_self\u001b[0m:\u001b[36m79\u001b[0m - \u001b[1m%215 - Running pipeline for row_seed: 412 and size_of_unlabelled_data: 0.2 and model: KNeighborsClassifier(metric='manhattan', n_neighbors=15, weights='distance')\u001b[0m\n"
     ]
    },
    {
     "name": "stdout",
     "output_type": "stream",
     "text": [
      "\n",
      "\n"
     ]
    },
    {
     "name": "stderr",
     "output_type": "stream",
     "text": [
      "\u001b[32m2023-10-22 14:34:30.988\u001b[0m | \u001b[1mINFO    \u001b[0m | \u001b[36m__main__\u001b[0m:\u001b[36mrun_pipeline_self\u001b[0m:\u001b[36m79\u001b[0m - \u001b[1m%216 - Running pipeline for row_seed: 214 and size_of_unlabelled_data: 0.2 and model: KNeighborsClassifier(metric='manhattan', n_neighbors=15, weights='distance')\u001b[0m\n",
      "\u001b[32m2023-10-22 14:34:31.044\u001b[0m | \u001b[1mINFO    \u001b[0m | \u001b[36m__main__\u001b[0m:\u001b[36mrun_pipeline_self\u001b[0m:\u001b[36m79\u001b[0m - \u001b[1m%217 - Running pipeline for row_seed: 754 and size_of_unlabelled_data: 0.2 and model: KNeighborsClassifier(metric='manhattan', n_neighbors=15, weights='distance')\u001b[0m\n",
      "\u001b[32m2023-10-22 14:34:31.103\u001b[0m | \u001b[1mINFO    \u001b[0m | \u001b[36m__main__\u001b[0m:\u001b[36mrun_pipeline_self\u001b[0m:\u001b[36m79\u001b[0m - \u001b[1m%218 - Running pipeline for row_seed: 457 and size_of_unlabelled_data: 0.2 and model: KNeighborsClassifier(metric='manhattan', n_neighbors=15, weights='distance')\u001b[0m\n",
      "\u001b[32m2023-10-22 14:34:31.148\u001b[0m | \u001b[1mINFO    \u001b[0m | \u001b[36m__main__\u001b[0m:\u001b[36mrun_pipeline_self\u001b[0m:\u001b[36m79\u001b[0m - \u001b[1m%219 - Running pipeline for row_seed: 2023 and size_of_unlabelled_data: 0.2 and model: KNeighborsClassifier(metric='manhattan', n_neighbors=15, weights='distance')\u001b[0m\n",
      "\u001b[32m2023-10-22 14:34:31.192\u001b[0m | \u001b[1mINFO    \u001b[0m | \u001b[36m__main__\u001b[0m:\u001b[36mrun_pipeline_self\u001b[0m:\u001b[36m79\u001b[0m - \u001b[1m%220 - Running pipeline for row_seed: 3202 and size_of_unlabelled_data: 0.2 and model: KNeighborsClassifier(metric='manhattan', n_neighbors=15, weights='distance')\u001b[0m\n",
      "\u001b[32m2023-10-22 14:34:31.235\u001b[0m | \u001b[1mINFO    \u001b[0m | \u001b[36m__main__\u001b[0m:\u001b[36mrun_pipeline_self\u001b[0m:\u001b[36m75\u001b[0m - \u001b[1mModel: KNeighborsClassifier(metric='manhattan', n_neighbors=15, weights='distance')\u001b[0m\n",
      "\u001b[32m2023-10-22 14:34:31.236\u001b[0m | \u001b[1mINFO    \u001b[0m | \u001b[36m__main__\u001b[0m:\u001b[36mrun_pipeline_self\u001b[0m:\u001b[36m76\u001b[0m - \u001b[1mSize of unlabelled data: 0.3\u001b[0m\n",
      "\u001b[32m2023-10-22 14:34:31.237\u001b[0m | \u001b[1mINFO    \u001b[0m | \u001b[36m__main__\u001b[0m:\u001b[36mrun_pipeline_self\u001b[0m:\u001b[36m79\u001b[0m - \u001b[1m%221 - Running pipeline for row_seed: 24 and size_of_unlabelled_data: 0.3 and model: KNeighborsClassifier(metric='manhattan', n_neighbors=15, weights='distance')\u001b[0m\n",
      "\u001b[32m2023-10-22 14:34:31.306\u001b[0m | \u001b[1mINFO    \u001b[0m | \u001b[36m__main__\u001b[0m:\u001b[36mrun_pipeline_self\u001b[0m:\u001b[36m79\u001b[0m - \u001b[1m%222 - Running pipeline for row_seed: 42 and size_of_unlabelled_data: 0.3 and model: KNeighborsClassifier(metric='manhattan', n_neighbors=15, weights='distance')\u001b[0m\n",
      "\u001b[32m2023-10-22 14:34:31.369\u001b[0m | \u001b[1mINFO    \u001b[0m | \u001b[36m__main__\u001b[0m:\u001b[36mrun_pipeline_self\u001b[0m:\u001b[36m79\u001b[0m - \u001b[1m%223 - Running pipeline for row_seed: 206 and size_of_unlabelled_data: 0.3 and model: KNeighborsClassifier(metric='manhattan', n_neighbors=15, weights='distance')\u001b[0m\n",
      "\u001b[32m2023-10-22 14:34:31.429\u001b[0m | \u001b[1mINFO    \u001b[0m | \u001b[36m__main__\u001b[0m:\u001b[36mrun_pipeline_self\u001b[0m:\u001b[36m79\u001b[0m - \u001b[1m%224 - Running pipeline for row_seed: 602 and size_of_unlabelled_data: 0.3 and model: KNeighborsClassifier(metric='manhattan', n_neighbors=15, weights='distance')\u001b[0m\n"
     ]
    },
    {
     "name": "stdout",
     "output_type": "stream",
     "text": [
      "\n",
      "\n"
     ]
    },
    {
     "name": "stderr",
     "output_type": "stream",
     "text": [
      "\u001b[32m2023-10-22 14:34:31.493\u001b[0m | \u001b[1mINFO    \u001b[0m | \u001b[36m__main__\u001b[0m:\u001b[36mrun_pipeline_self\u001b[0m:\u001b[36m79\u001b[0m - \u001b[1m%225 - Running pipeline for row_seed: 412 and size_of_unlabelled_data: 0.3 and model: KNeighborsClassifier(metric='manhattan', n_neighbors=15, weights='distance')\u001b[0m\n",
      "\u001b[32m2023-10-22 14:34:31.572\u001b[0m | \u001b[1mINFO    \u001b[0m | \u001b[36m__main__\u001b[0m:\u001b[36mrun_pipeline_self\u001b[0m:\u001b[36m79\u001b[0m - \u001b[1m%226 - Running pipeline for row_seed: 214 and size_of_unlabelled_data: 0.3 and model: KNeighborsClassifier(metric='manhattan', n_neighbors=15, weights='distance')\u001b[0m\n",
      "\u001b[32m2023-10-22 14:34:31.654\u001b[0m | \u001b[1mINFO    \u001b[0m | \u001b[36m__main__\u001b[0m:\u001b[36mrun_pipeline_self\u001b[0m:\u001b[36m79\u001b[0m - \u001b[1m%227 - Running pipeline for row_seed: 754 and size_of_unlabelled_data: 0.3 and model: KNeighborsClassifier(metric='manhattan', n_neighbors=15, weights='distance')\u001b[0m\n",
      "\u001b[32m2023-10-22 14:34:31.732\u001b[0m | \u001b[1mINFO    \u001b[0m | \u001b[36m__main__\u001b[0m:\u001b[36mrun_pipeline_self\u001b[0m:\u001b[36m79\u001b[0m - \u001b[1m%228 - Running pipeline for row_seed: 457 and size_of_unlabelled_data: 0.3 and model: KNeighborsClassifier(metric='manhattan', n_neighbors=15, weights='distance')\u001b[0m\n",
      "\u001b[32m2023-10-22 14:34:31.793\u001b[0m | \u001b[1mINFO    \u001b[0m | \u001b[36m__main__\u001b[0m:\u001b[36mrun_pipeline_self\u001b[0m:\u001b[36m79\u001b[0m - \u001b[1m%229 - Running pipeline for row_seed: 2023 and size_of_unlabelled_data: 0.3 and model: KNeighborsClassifier(metric='manhattan', n_neighbors=15, weights='distance')\u001b[0m\n",
      "\u001b[32m2023-10-22 14:34:31.851\u001b[0m | \u001b[1mINFO    \u001b[0m | \u001b[36m__main__\u001b[0m:\u001b[36mrun_pipeline_self\u001b[0m:\u001b[36m79\u001b[0m - \u001b[1m%230 - Running pipeline for row_seed: 3202 and size_of_unlabelled_data: 0.3 and model: KNeighborsClassifier(metric='manhattan', n_neighbors=15, weights='distance')\u001b[0m\n",
      "\u001b[32m2023-10-22 14:34:31.912\u001b[0m | \u001b[1mINFO    \u001b[0m | \u001b[36m__main__\u001b[0m:\u001b[36mrun_pipeline_self\u001b[0m:\u001b[36m75\u001b[0m - \u001b[1mModel: KNeighborsClassifier(metric='manhattan', n_neighbors=15, weights='distance')\u001b[0m\n",
      "\u001b[32m2023-10-22 14:34:31.912\u001b[0m | \u001b[1mINFO    \u001b[0m | \u001b[36m__main__\u001b[0m:\u001b[36mrun_pipeline_self\u001b[0m:\u001b[36m76\u001b[0m - \u001b[1mSize of unlabelled data: 0.4\u001b[0m\n",
      "\u001b[32m2023-10-22 14:34:31.913\u001b[0m | \u001b[1mINFO    \u001b[0m | \u001b[36m__main__\u001b[0m:\u001b[36mrun_pipeline_self\u001b[0m:\u001b[36m79\u001b[0m - \u001b[1m%231 - Running pipeline for row_seed: 24 and size_of_unlabelled_data: 0.4 and model: KNeighborsClassifier(metric='manhattan', n_neighbors=15, weights='distance')\u001b[0m\n",
      "\u001b[32m2023-10-22 14:34:32.011\u001b[0m | \u001b[1mINFO    \u001b[0m | \u001b[36m__main__\u001b[0m:\u001b[36mrun_pipeline_self\u001b[0m:\u001b[36m79\u001b[0m - \u001b[1m%232 - Running pipeline for row_seed: 42 and size_of_unlabelled_data: 0.4 and model: KNeighborsClassifier(metric='manhattan', n_neighbors=15, weights='distance')\u001b[0m\n",
      "\u001b[32m2023-10-22 14:34:32.092\u001b[0m | \u001b[1mINFO    \u001b[0m | \u001b[36m__main__\u001b[0m:\u001b[36mrun_pipeline_self\u001b[0m:\u001b[36m79\u001b[0m - \u001b[1m%233 - Running pipeline for row_seed: 206 and size_of_unlabelled_data: 0.4 and model: KNeighborsClassifier(metric='manhattan', n_neighbors=15, weights='distance')\u001b[0m\n"
     ]
    },
    {
     "name": "stdout",
     "output_type": "stream",
     "text": [
      "\n",
      "\n"
     ]
    },
    {
     "name": "stderr",
     "output_type": "stream",
     "text": [
      "\u001b[32m2023-10-22 14:34:32.207\u001b[0m | \u001b[1mINFO    \u001b[0m | \u001b[36m__main__\u001b[0m:\u001b[36mrun_pipeline_self\u001b[0m:\u001b[36m79\u001b[0m - \u001b[1m%234 - Running pipeline for row_seed: 602 and size_of_unlabelled_data: 0.4 and model: KNeighborsClassifier(metric='manhattan', n_neighbors=15, weights='distance')\u001b[0m\n",
      "\u001b[32m2023-10-22 14:34:32.292\u001b[0m | \u001b[1mINFO    \u001b[0m | \u001b[36m__main__\u001b[0m:\u001b[36mrun_pipeline_self\u001b[0m:\u001b[36m79\u001b[0m - \u001b[1m%235 - Running pipeline for row_seed: 412 and size_of_unlabelled_data: 0.4 and model: KNeighborsClassifier(metric='manhattan', n_neighbors=15, weights='distance')\u001b[0m\n",
      "\u001b[32m2023-10-22 14:34:32.388\u001b[0m | \u001b[1mINFO    \u001b[0m | \u001b[36m__main__\u001b[0m:\u001b[36mrun_pipeline_self\u001b[0m:\u001b[36m79\u001b[0m - \u001b[1m%236 - Running pipeline for row_seed: 214 and size_of_unlabelled_data: 0.4 and model: KNeighborsClassifier(metric='manhattan', n_neighbors=15, weights='distance')\u001b[0m\n",
      "\u001b[32m2023-10-22 14:34:32.485\u001b[0m | \u001b[1mINFO    \u001b[0m | \u001b[36m__main__\u001b[0m:\u001b[36mrun_pipeline_self\u001b[0m:\u001b[36m79\u001b[0m - \u001b[1m%237 - Running pipeline for row_seed: 754 and size_of_unlabelled_data: 0.4 and model: KNeighborsClassifier(metric='manhattan', n_neighbors=15, weights='distance')\u001b[0m\n",
      "\u001b[32m2023-10-22 14:34:32.573\u001b[0m | \u001b[1mINFO    \u001b[0m | \u001b[36m__main__\u001b[0m:\u001b[36mrun_pipeline_self\u001b[0m:\u001b[36m79\u001b[0m - \u001b[1m%238 - Running pipeline for row_seed: 457 and size_of_unlabelled_data: 0.4 and model: KNeighborsClassifier(metric='manhattan', n_neighbors=15, weights='distance')\u001b[0m\n",
      "\u001b[32m2023-10-22 14:34:32.648\u001b[0m | \u001b[1mINFO    \u001b[0m | \u001b[36m__main__\u001b[0m:\u001b[36mrun_pipeline_self\u001b[0m:\u001b[36m79\u001b[0m - \u001b[1m%239 - Running pipeline for row_seed: 2023 and size_of_unlabelled_data: 0.4 and model: KNeighborsClassifier(metric='manhattan', n_neighbors=15, weights='distance')\u001b[0m\n",
      "\u001b[32m2023-10-22 14:34:32.733\u001b[0m | \u001b[1mINFO    \u001b[0m | \u001b[36m__main__\u001b[0m:\u001b[36mrun_pipeline_self\u001b[0m:\u001b[36m79\u001b[0m - \u001b[1m%240 - Running pipeline for row_seed: 3202 and size_of_unlabelled_data: 0.4 and model: KNeighborsClassifier(metric='manhattan', n_neighbors=15, weights='distance')\u001b[0m\n",
      "\u001b[32m2023-10-22 14:34:32.820\u001b[0m | \u001b[1mINFO    \u001b[0m | \u001b[36m__main__\u001b[0m:\u001b[36mrun_pipeline_self\u001b[0m:\u001b[36m75\u001b[0m - \u001b[1mModel: KNeighborsClassifier(metric='manhattan', n_neighbors=15, weights='distance')\u001b[0m\n",
      "\u001b[32m2023-10-22 14:34:32.820\u001b[0m | \u001b[1mINFO    \u001b[0m | \u001b[36m__main__\u001b[0m:\u001b[36mrun_pipeline_self\u001b[0m:\u001b[36m76\u001b[0m - \u001b[1mSize of unlabelled data: 0.5\u001b[0m\n",
      "\u001b[32m2023-10-22 14:34:32.821\u001b[0m | \u001b[1mINFO    \u001b[0m | \u001b[36m__main__\u001b[0m:\u001b[36mrun_pipeline_self\u001b[0m:\u001b[36m79\u001b[0m - \u001b[1m%241 - Running pipeline for row_seed: 24 and size_of_unlabelled_data: 0.5 and model: KNeighborsClassifier(metric='manhattan', n_neighbors=15, weights='distance')\u001b[0m\n",
      "\u001b[32m2023-10-22 14:34:32.926\u001b[0m | \u001b[1mINFO    \u001b[0m | \u001b[36m__main__\u001b[0m:\u001b[36mrun_pipeline_self\u001b[0m:\u001b[36m79\u001b[0m - \u001b[1m%242 - Running pipeline for row_seed: 42 and size_of_unlabelled_data: 0.5 and model: KNeighborsClassifier(metric='manhattan', n_neighbors=15, weights='distance')\u001b[0m\n"
     ]
    },
    {
     "name": "stdout",
     "output_type": "stream",
     "text": [
      "\n",
      "\n"
     ]
    },
    {
     "name": "stderr",
     "output_type": "stream",
     "text": [
      "\u001b[32m2023-10-22 14:34:33.021\u001b[0m | \u001b[1mINFO    \u001b[0m | \u001b[36m__main__\u001b[0m:\u001b[36mrun_pipeline_self\u001b[0m:\u001b[36m79\u001b[0m - \u001b[1m%243 - Running pipeline for row_seed: 206 and size_of_unlabelled_data: 0.5 and model: KNeighborsClassifier(metric='manhattan', n_neighbors=15, weights='distance')\u001b[0m\n",
      "\u001b[32m2023-10-22 14:34:33.141\u001b[0m | \u001b[1mINFO    \u001b[0m | \u001b[36m__main__\u001b[0m:\u001b[36mrun_pipeline_self\u001b[0m:\u001b[36m79\u001b[0m - \u001b[1m%244 - Running pipeline for row_seed: 602 and size_of_unlabelled_data: 0.5 and model: KNeighborsClassifier(metric='manhattan', n_neighbors=15, weights='distance')\u001b[0m\n",
      "\u001b[32m2023-10-22 14:34:33.242\u001b[0m | \u001b[1mINFO    \u001b[0m | \u001b[36m__main__\u001b[0m:\u001b[36mrun_pipeline_self\u001b[0m:\u001b[36m79\u001b[0m - \u001b[1m%245 - Running pipeline for row_seed: 412 and size_of_unlabelled_data: 0.5 and model: KNeighborsClassifier(metric='manhattan', n_neighbors=15, weights='distance')\u001b[0m\n",
      "\u001b[32m2023-10-22 14:34:33.322\u001b[0m | \u001b[1mINFO    \u001b[0m | \u001b[36m__main__\u001b[0m:\u001b[36mrun_pipeline_self\u001b[0m:\u001b[36m79\u001b[0m - \u001b[1m%246 - Running pipeline for row_seed: 214 and size_of_unlabelled_data: 0.5 and model: KNeighborsClassifier(metric='manhattan', n_neighbors=15, weights='distance')\u001b[0m\n",
      "\u001b[32m2023-10-22 14:34:33.424\u001b[0m | \u001b[1mINFO    \u001b[0m | \u001b[36m__main__\u001b[0m:\u001b[36mrun_pipeline_self\u001b[0m:\u001b[36m79\u001b[0m - \u001b[1m%247 - Running pipeline for row_seed: 754 and size_of_unlabelled_data: 0.5 and model: KNeighborsClassifier(metric='manhattan', n_neighbors=15, weights='distance')\u001b[0m\n",
      "\u001b[32m2023-10-22 14:34:33.526\u001b[0m | \u001b[1mINFO    \u001b[0m | \u001b[36m__main__\u001b[0m:\u001b[36mrun_pipeline_self\u001b[0m:\u001b[36m79\u001b[0m - \u001b[1m%248 - Running pipeline for row_seed: 457 and size_of_unlabelled_data: 0.5 and model: KNeighborsClassifier(metric='manhattan', n_neighbors=15, weights='distance')\u001b[0m\n",
      "\u001b[32m2023-10-22 14:34:33.643\u001b[0m | \u001b[1mINFO    \u001b[0m | \u001b[36m__main__\u001b[0m:\u001b[36mrun_pipeline_self\u001b[0m:\u001b[36m79\u001b[0m - \u001b[1m%249 - Running pipeline for row_seed: 2023 and size_of_unlabelled_data: 0.5 and model: KNeighborsClassifier(metric='manhattan', n_neighbors=15, weights='distance')\u001b[0m\n",
      "\u001b[32m2023-10-22 14:34:33.747\u001b[0m | \u001b[1mINFO    \u001b[0m | \u001b[36m__main__\u001b[0m:\u001b[36mrun_pipeline_self\u001b[0m:\u001b[36m79\u001b[0m - \u001b[1m%250 - Running pipeline for row_seed: 3202 and size_of_unlabelled_data: 0.5 and model: KNeighborsClassifier(metric='manhattan', n_neighbors=15, weights='distance')\u001b[0m\n",
      "\u001b[32m2023-10-22 14:34:33.851\u001b[0m | \u001b[1mINFO    \u001b[0m | \u001b[36m__main__\u001b[0m:\u001b[36mrun_pipeline_self\u001b[0m:\u001b[36m75\u001b[0m - \u001b[1mModel: KNeighborsClassifier(metric='manhattan', n_neighbors=15, weights='distance')\u001b[0m\n",
      "\u001b[32m2023-10-22 14:34:33.852\u001b[0m | \u001b[1mINFO    \u001b[0m | \u001b[36m__main__\u001b[0m:\u001b[36mrun_pipeline_self\u001b[0m:\u001b[36m76\u001b[0m - \u001b[1mSize of unlabelled data: 0.6\u001b[0m\n",
      "\u001b[32m2023-10-22 14:34:33.853\u001b[0m | \u001b[1mINFO    \u001b[0m | \u001b[36m__main__\u001b[0m:\u001b[36mrun_pipeline_self\u001b[0m:\u001b[36m79\u001b[0m - \u001b[1m%251 - Running pipeline for row_seed: 24 and size_of_unlabelled_data: 0.6 and model: KNeighborsClassifier(metric='manhattan', n_neighbors=15, weights='distance')\u001b[0m\n",
      "\u001b[32m2023-10-22 14:34:33.948\u001b[0m | \u001b[1mINFO    \u001b[0m | \u001b[36m__main__\u001b[0m:\u001b[36mrun_pipeline_self\u001b[0m:\u001b[36m79\u001b[0m - \u001b[1m%252 - Running pipeline for row_seed: 42 and size_of_unlabelled_data: 0.6 and model: KNeighborsClassifier(metric='manhattan', n_neighbors=15, weights='distance')\u001b[0m\n",
      "\u001b[32m2023-10-22 14:34:34.038\u001b[0m | \u001b[1mINFO    \u001b[0m | \u001b[36m__main__\u001b[0m:\u001b[36mrun_pipeline_self\u001b[0m:\u001b[36m79\u001b[0m - \u001b[1m%253 - Running pipeline for row_seed: 206 and size_of_unlabelled_data: 0.6 and model: KNeighborsClassifier(metric='manhattan', n_neighbors=15, weights='distance')\u001b[0m\n"
     ]
    },
    {
     "name": "stdout",
     "output_type": "stream",
     "text": [
      "\n",
      "\n"
     ]
    },
    {
     "name": "stderr",
     "output_type": "stream",
     "text": [
      "\u001b[32m2023-10-22 14:34:34.146\u001b[0m | \u001b[1mINFO    \u001b[0m | \u001b[36m__main__\u001b[0m:\u001b[36mrun_pipeline_self\u001b[0m:\u001b[36m79\u001b[0m - \u001b[1m%254 - Running pipeline for row_seed: 602 and size_of_unlabelled_data: 0.6 and model: KNeighborsClassifier(metric='manhattan', n_neighbors=15, weights='distance')\u001b[0m\n",
      "\u001b[32m2023-10-22 14:34:34.249\u001b[0m | \u001b[1mINFO    \u001b[0m | \u001b[36m__main__\u001b[0m:\u001b[36mrun_pipeline_self\u001b[0m:\u001b[36m79\u001b[0m - \u001b[1m%255 - Running pipeline for row_seed: 412 and size_of_unlabelled_data: 0.6 and model: KNeighborsClassifier(metric='manhattan', n_neighbors=15, weights='distance')\u001b[0m\n",
      "\u001b[32m2023-10-22 14:34:34.335\u001b[0m | \u001b[1mINFO    \u001b[0m | \u001b[36m__main__\u001b[0m:\u001b[36mrun_pipeline_self\u001b[0m:\u001b[36m79\u001b[0m - \u001b[1m%256 - Running pipeline for row_seed: 214 and size_of_unlabelled_data: 0.6 and model: KNeighborsClassifier(metric='manhattan', n_neighbors=15, weights='distance')\u001b[0m\n",
      "\u001b[32m2023-10-22 14:34:34.439\u001b[0m | \u001b[1mINFO    \u001b[0m | \u001b[36m__main__\u001b[0m:\u001b[36mrun_pipeline_self\u001b[0m:\u001b[36m79\u001b[0m - \u001b[1m%257 - Running pipeline for row_seed: 754 and size_of_unlabelled_data: 0.6 and model: KNeighborsClassifier(metric='manhattan', n_neighbors=15, weights='distance')\u001b[0m\n",
      "\u001b[32m2023-10-22 14:34:34.523\u001b[0m | \u001b[1mINFO    \u001b[0m | \u001b[36m__main__\u001b[0m:\u001b[36mrun_pipeline_self\u001b[0m:\u001b[36m79\u001b[0m - \u001b[1m%258 - Running pipeline for row_seed: 457 and size_of_unlabelled_data: 0.6 and model: KNeighborsClassifier(metric='manhattan', n_neighbors=15, weights='distance')\u001b[0m\n",
      "\u001b[32m2023-10-22 14:34:34.609\u001b[0m | \u001b[1mINFO    \u001b[0m | \u001b[36m__main__\u001b[0m:\u001b[36mrun_pipeline_self\u001b[0m:\u001b[36m79\u001b[0m - \u001b[1m%259 - Running pipeline for row_seed: 2023 and size_of_unlabelled_data: 0.6 and model: KNeighborsClassifier(metric='manhattan', n_neighbors=15, weights='distance')\u001b[0m\n",
      "\u001b[32m2023-10-22 14:34:34.682\u001b[0m | \u001b[1mINFO    \u001b[0m | \u001b[36m__main__\u001b[0m:\u001b[36mrun_pipeline_self\u001b[0m:\u001b[36m79\u001b[0m - \u001b[1m%260 - Running pipeline for row_seed: 3202 and size_of_unlabelled_data: 0.6 and model: KNeighborsClassifier(metric='manhattan', n_neighbors=15, weights='distance')\u001b[0m\n",
      "\u001b[32m2023-10-22 14:34:34.806\u001b[0m | \u001b[1mINFO    \u001b[0m | \u001b[36m__main__\u001b[0m:\u001b[36mrun_pipeline_self\u001b[0m:\u001b[36m75\u001b[0m - \u001b[1mModel: KNeighborsClassifier(metric='manhattan', n_neighbors=15, weights='distance')\u001b[0m\n",
      "\u001b[32m2023-10-22 14:34:34.807\u001b[0m | \u001b[1mINFO    \u001b[0m | \u001b[36m__main__\u001b[0m:\u001b[36mrun_pipeline_self\u001b[0m:\u001b[36m76\u001b[0m - \u001b[1mSize of unlabelled data: 0.7\u001b[0m\n",
      "\u001b[32m2023-10-22 14:34:34.807\u001b[0m | \u001b[1mINFO    \u001b[0m | \u001b[36m__main__\u001b[0m:\u001b[36mrun_pipeline_self\u001b[0m:\u001b[36m79\u001b[0m - \u001b[1m%261 - Running pipeline for row_seed: 24 and size_of_unlabelled_data: 0.7 and model: KNeighborsClassifier(metric='manhattan', n_neighbors=15, weights='distance')\u001b[0m\n",
      "\u001b[32m2023-10-22 14:34:34.877\u001b[0m | \u001b[1mINFO    \u001b[0m | \u001b[36m__main__\u001b[0m:\u001b[36mrun_pipeline_self\u001b[0m:\u001b[36m79\u001b[0m - \u001b[1m%262 - Running pipeline for row_seed: 42 and size_of_unlabelled_data: 0.7 and model: KNeighborsClassifier(metric='manhattan', n_neighbors=15, weights='distance')\u001b[0m\n",
      "\u001b[32m2023-10-22 14:34:34.957\u001b[0m | \u001b[1mINFO    \u001b[0m | \u001b[36m__main__\u001b[0m:\u001b[36mrun_pipeline_self\u001b[0m:\u001b[36m79\u001b[0m - \u001b[1m%263 - Running pipeline for row_seed: 206 and size_of_unlabelled_data: 0.7 and model: KNeighborsClassifier(metric='manhattan', n_neighbors=15, weights='distance')\u001b[0m\n"
     ]
    },
    {
     "name": "stdout",
     "output_type": "stream",
     "text": [
      "\n",
      "\n"
     ]
    },
    {
     "name": "stderr",
     "output_type": "stream",
     "text": [
      "\u001b[32m2023-10-22 14:34:35.048\u001b[0m | \u001b[1mINFO    \u001b[0m | \u001b[36m__main__\u001b[0m:\u001b[36mrun_pipeline_self\u001b[0m:\u001b[36m79\u001b[0m - \u001b[1m%264 - Running pipeline for row_seed: 602 and size_of_unlabelled_data: 0.7 and model: KNeighborsClassifier(metric='manhattan', n_neighbors=15, weights='distance')\u001b[0m\n",
      "\u001b[32m2023-10-22 14:34:35.148\u001b[0m | \u001b[1mINFO    \u001b[0m | \u001b[36m__main__\u001b[0m:\u001b[36mrun_pipeline_self\u001b[0m:\u001b[36m79\u001b[0m - \u001b[1m%265 - Running pipeline for row_seed: 412 and size_of_unlabelled_data: 0.7 and model: KNeighborsClassifier(metric='manhattan', n_neighbors=15, weights='distance')\u001b[0m\n",
      "\u001b[32m2023-10-22 14:34:35.214\u001b[0m | \u001b[1mINFO    \u001b[0m | \u001b[36m__main__\u001b[0m:\u001b[36mrun_pipeline_self\u001b[0m:\u001b[36m79\u001b[0m - \u001b[1m%266 - Running pipeline for row_seed: 214 and size_of_unlabelled_data: 0.7 and model: KNeighborsClassifier(metric='manhattan', n_neighbors=15, weights='distance')\u001b[0m\n",
      "\u001b[32m2023-10-22 14:34:35.303\u001b[0m | \u001b[1mINFO    \u001b[0m | \u001b[36m__main__\u001b[0m:\u001b[36mrun_pipeline_self\u001b[0m:\u001b[36m79\u001b[0m - \u001b[1m%267 - Running pipeline for row_seed: 754 and size_of_unlabelled_data: 0.7 and model: KNeighborsClassifier(metric='manhattan', n_neighbors=15, weights='distance')\u001b[0m\n",
      "\u001b[32m2023-10-22 14:34:35.385\u001b[0m | \u001b[1mINFO    \u001b[0m | \u001b[36m__main__\u001b[0m:\u001b[36mrun_pipeline_self\u001b[0m:\u001b[36m79\u001b[0m - \u001b[1m%268 - Running pipeline for row_seed: 457 and size_of_unlabelled_data: 0.7 and model: KNeighborsClassifier(metric='manhattan', n_neighbors=15, weights='distance')\u001b[0m\n",
      "\u001b[32m2023-10-22 14:34:35.459\u001b[0m | \u001b[1mINFO    \u001b[0m | \u001b[36m__main__\u001b[0m:\u001b[36mrun_pipeline_self\u001b[0m:\u001b[36m79\u001b[0m - \u001b[1m%269 - Running pipeline for row_seed: 2023 and size_of_unlabelled_data: 0.7 and model: KNeighborsClassifier(metric='manhattan', n_neighbors=15, weights='distance')\u001b[0m\n",
      "\u001b[32m2023-10-22 14:34:35.519\u001b[0m | \u001b[1mINFO    \u001b[0m | \u001b[36m__main__\u001b[0m:\u001b[36mrun_pipeline_self\u001b[0m:\u001b[36m79\u001b[0m - \u001b[1m%270 - Running pipeline for row_seed: 3202 and size_of_unlabelled_data: 0.7 and model: KNeighborsClassifier(metric='manhattan', n_neighbors=15, weights='distance')\u001b[0m\n",
      "\u001b[32m2023-10-22 14:34:35.612\u001b[0m | \u001b[1mINFO    \u001b[0m | \u001b[36m__main__\u001b[0m:\u001b[36mrun_pipeline_self\u001b[0m:\u001b[36m75\u001b[0m - \u001b[1mModel: KNeighborsClassifier(metric='manhattan', n_neighbors=15, weights='distance')\u001b[0m\n",
      "\u001b[32m2023-10-22 14:34:35.612\u001b[0m | \u001b[1mINFO    \u001b[0m | \u001b[36m__main__\u001b[0m:\u001b[36mrun_pipeline_self\u001b[0m:\u001b[36m76\u001b[0m - \u001b[1mSize of unlabelled data: 0.8\u001b[0m\n",
      "\u001b[32m2023-10-22 14:34:35.613\u001b[0m | \u001b[1mINFO    \u001b[0m | \u001b[36m__main__\u001b[0m:\u001b[36mrun_pipeline_self\u001b[0m:\u001b[36m79\u001b[0m - \u001b[1m%271 - Running pipeline for row_seed: 24 and size_of_unlabelled_data: 0.8 and model: KNeighborsClassifier(metric='manhattan', n_neighbors=15, weights='distance')\u001b[0m\n",
      "\u001b[32m2023-10-22 14:34:35.673\u001b[0m | \u001b[1mINFO    \u001b[0m | \u001b[36m__main__\u001b[0m:\u001b[36mrun_pipeline_self\u001b[0m:\u001b[36m79\u001b[0m - \u001b[1m%272 - Running pipeline for row_seed: 42 and size_of_unlabelled_data: 0.8 and model: KNeighborsClassifier(metric='manhattan', n_neighbors=15, weights='distance')\u001b[0m\n",
      "/home/smoow/tcc/venv/lib/python3.11/site-packages/sklearn/metrics/_classification.py:1344: UndefinedMetricWarning: Precision is ill-defined and being set to 0.0 due to no predicted samples. Use `zero_division` parameter to control this behavior.\n",
      "  _warn_prf(average, modifier, msg_start, len(result))\n",
      "\u001b[32m2023-10-22 14:34:35.732\u001b[0m | \u001b[1mINFO    \u001b[0m | \u001b[36m__main__\u001b[0m:\u001b[36mrun_pipeline_self\u001b[0m:\u001b[36m79\u001b[0m - \u001b[1m%273 - Running pipeline for row_seed: 206 and size_of_unlabelled_data: 0.8 and model: KNeighborsClassifier(metric='manhattan', n_neighbors=15, weights='distance')\u001b[0m\n",
      "\u001b[32m2023-10-22 14:34:35.795\u001b[0m | \u001b[1mINFO    \u001b[0m | \u001b[36m__main__\u001b[0m:\u001b[36mrun_pipeline_self\u001b[0m:\u001b[36m79\u001b[0m - \u001b[1m%274 - Running pipeline for row_seed: 602 and size_of_unlabelled_data: 0.8 and model: KNeighborsClassifier(metric='manhattan', n_neighbors=15, weights='distance')\u001b[0m\n"
     ]
    },
    {
     "name": "stdout",
     "output_type": "stream",
     "text": [
      "\n",
      "\n"
     ]
    },
    {
     "name": "stderr",
     "output_type": "stream",
     "text": [
      "\u001b[32m2023-10-22 14:34:35.873\u001b[0m | \u001b[1mINFO    \u001b[0m | \u001b[36m__main__\u001b[0m:\u001b[36mrun_pipeline_self\u001b[0m:\u001b[36m79\u001b[0m - \u001b[1m%275 - Running pipeline for row_seed: 412 and size_of_unlabelled_data: 0.8 and model: KNeighborsClassifier(metric='manhattan', n_neighbors=15, weights='distance')\u001b[0m\n",
      "/home/smoow/tcc/venv/lib/python3.11/site-packages/sklearn/metrics/_classification.py:1344: UndefinedMetricWarning: Precision is ill-defined and being set to 0.0 due to no predicted samples. Use `zero_division` parameter to control this behavior.\n",
      "  _warn_prf(average, modifier, msg_start, len(result))\n",
      "\u001b[32m2023-10-22 14:34:35.947\u001b[0m | \u001b[1mINFO    \u001b[0m | \u001b[36m__main__\u001b[0m:\u001b[36mrun_pipeline_self\u001b[0m:\u001b[36m79\u001b[0m - \u001b[1m%276 - Running pipeline for row_seed: 214 and size_of_unlabelled_data: 0.8 and model: KNeighborsClassifier(metric='manhattan', n_neighbors=15, weights='distance')\u001b[0m\n",
      "/home/smoow/tcc/venv/lib/python3.11/site-packages/sklearn/metrics/_classification.py:1344: UndefinedMetricWarning: Precision is ill-defined and being set to 0.0 due to no predicted samples. Use `zero_division` parameter to control this behavior.\n",
      "  _warn_prf(average, modifier, msg_start, len(result))\n",
      "\u001b[32m2023-10-22 14:34:36.009\u001b[0m | \u001b[1mINFO    \u001b[0m | \u001b[36m__main__\u001b[0m:\u001b[36mrun_pipeline_self\u001b[0m:\u001b[36m79\u001b[0m - \u001b[1m%277 - Running pipeline for row_seed: 754 and size_of_unlabelled_data: 0.8 and model: KNeighborsClassifier(metric='manhattan', n_neighbors=15, weights='distance')\u001b[0m\n",
      "\u001b[32m2023-10-22 14:34:36.077\u001b[0m | \u001b[1mINFO    \u001b[0m | \u001b[36m__main__\u001b[0m:\u001b[36mrun_pipeline_self\u001b[0m:\u001b[36m79\u001b[0m - \u001b[1m%278 - Running pipeline for row_seed: 457 and size_of_unlabelled_data: 0.8 and model: KNeighborsClassifier(metric='manhattan', n_neighbors=15, weights='distance')\u001b[0m\n",
      "/home/smoow/tcc/venv/lib/python3.11/site-packages/sklearn/metrics/_classification.py:1344: UndefinedMetricWarning: Precision is ill-defined and being set to 0.0 due to no predicted samples. Use `zero_division` parameter to control this behavior.\n",
      "  _warn_prf(average, modifier, msg_start, len(result))\n",
      "\u001b[32m2023-10-22 14:34:36.148\u001b[0m | \u001b[1mINFO    \u001b[0m | \u001b[36m__main__\u001b[0m:\u001b[36mrun_pipeline_self\u001b[0m:\u001b[36m79\u001b[0m - \u001b[1m%279 - Running pipeline for row_seed: 2023 and size_of_unlabelled_data: 0.8 and model: KNeighborsClassifier(metric='manhattan', n_neighbors=15, weights='distance')\u001b[0m\n",
      "/home/smoow/tcc/venv/lib/python3.11/site-packages/sklearn/metrics/_classification.py:1344: UndefinedMetricWarning: Precision is ill-defined and being set to 0.0 due to no predicted samples. Use `zero_division` parameter to control this behavior.\n",
      "  _warn_prf(average, modifier, msg_start, len(result))\n",
      "\u001b[32m2023-10-22 14:34:36.196\u001b[0m | \u001b[1mINFO    \u001b[0m | \u001b[36m__main__\u001b[0m:\u001b[36mrun_pipeline_self\u001b[0m:\u001b[36m79\u001b[0m - \u001b[1m%280 - Running pipeline for row_seed: 3202 and size_of_unlabelled_data: 0.8 and model: KNeighborsClassifier(metric='manhattan', n_neighbors=15, weights='distance')\u001b[0m\n",
      "\u001b[32m2023-10-22 14:34:36.262\u001b[0m | \u001b[1mINFO    \u001b[0m | \u001b[36m__main__\u001b[0m:\u001b[36mrun_pipeline_self\u001b[0m:\u001b[36m75\u001b[0m - \u001b[1mModel: KNeighborsClassifier(metric='manhattan', n_neighbors=15, weights='distance')\u001b[0m\n",
      "\u001b[32m2023-10-22 14:34:36.262\u001b[0m | \u001b[1mINFO    \u001b[0m | \u001b[36m__main__\u001b[0m:\u001b[36mrun_pipeline_self\u001b[0m:\u001b[36m76\u001b[0m - \u001b[1mSize of unlabelled data: 0.85\u001b[0m\n",
      "\u001b[32m2023-10-22 14:34:36.263\u001b[0m | \u001b[1mINFO    \u001b[0m | \u001b[36m__main__\u001b[0m:\u001b[36mrun_pipeline_self\u001b[0m:\u001b[36m79\u001b[0m - \u001b[1m%281 - Running pipeline for row_seed: 24 and size_of_unlabelled_data: 0.85 and model: KNeighborsClassifier(metric='manhattan', n_neighbors=15, weights='distance')\u001b[0m\n",
      "/home/smoow/tcc/venv/lib/python3.11/site-packages/sklearn/metrics/_classification.py:1344: UndefinedMetricWarning: Precision is ill-defined and being set to 0.0 due to no predicted samples. Use `zero_division` parameter to control this behavior.\n",
      "  _warn_prf(average, modifier, msg_start, len(result))\n",
      "\u001b[32m2023-10-22 14:34:36.317\u001b[0m | \u001b[1mINFO    \u001b[0m | \u001b[36m__main__\u001b[0m:\u001b[36mrun_pipeline_self\u001b[0m:\u001b[36m79\u001b[0m - \u001b[1m%282 - Running pipeline for row_seed: 42 and size_of_unlabelled_data: 0.85 and model: KNeighborsClassifier(metric='manhattan', n_neighbors=15, weights='distance')\u001b[0m\n",
      "/home/smoow/tcc/venv/lib/python3.11/site-packages/sklearn/metrics/_classification.py:1344: UndefinedMetricWarning: Precision is ill-defined and being set to 0.0 due to no predicted samples. Use `zero_division` parameter to control this behavior.\n",
      "  _warn_prf(average, modifier, msg_start, len(result))\n",
      "\u001b[32m2023-10-22 14:34:36.368\u001b[0m | \u001b[1mINFO    \u001b[0m | \u001b[36m__main__\u001b[0m:\u001b[36mrun_pipeline_self\u001b[0m:\u001b[36m79\u001b[0m - \u001b[1m%283 - Running pipeline for row_seed: 206 and size_of_unlabelled_data: 0.85 and model: KNeighborsClassifier(metric='manhattan', n_neighbors=15, weights='distance')\u001b[0m\n",
      "/home/smoow/tcc/venv/lib/python3.11/site-packages/sklearn/metrics/_classification.py:1344: UndefinedMetricWarning: Precision is ill-defined and being set to 0.0 due to no predicted samples. Use `zero_division` parameter to control this behavior.\n",
      "  _warn_prf(average, modifier, msg_start, len(result))\n",
      "\u001b[32m2023-10-22 14:34:36.429\u001b[0m | \u001b[1mINFO    \u001b[0m | \u001b[36m__main__\u001b[0m:\u001b[36mrun_pipeline_self\u001b[0m:\u001b[36m79\u001b[0m - \u001b[1m%284 - Running pipeline for row_seed: 602 and size_of_unlabelled_data: 0.85 and model: KNeighborsClassifier(metric='manhattan', n_neighbors=15, weights='distance')\u001b[0m\n"
     ]
    },
    {
     "name": "stdout",
     "output_type": "stream",
     "text": [
      "\n",
      "\n"
     ]
    },
    {
     "name": "stderr",
     "output_type": "stream",
     "text": [
      "/home/smoow/tcc/venv/lib/python3.11/site-packages/sklearn/metrics/_classification.py:1344: UndefinedMetricWarning: Precision is ill-defined and being set to 0.0 due to no predicted samples. Use `zero_division` parameter to control this behavior.\n",
      "  _warn_prf(average, modifier, msg_start, len(result))\n",
      "\u001b[32m2023-10-22 14:34:36.492\u001b[0m | \u001b[1mINFO    \u001b[0m | \u001b[36m__main__\u001b[0m:\u001b[36mrun_pipeline_self\u001b[0m:\u001b[36m79\u001b[0m - \u001b[1m%285 - Running pipeline for row_seed: 412 and size_of_unlabelled_data: 0.85 and model: KNeighborsClassifier(metric='manhattan', n_neighbors=15, weights='distance')\u001b[0m\n",
      "/home/smoow/tcc/venv/lib/python3.11/site-packages/sklearn/metrics/_classification.py:1344: UndefinedMetricWarning: Precision is ill-defined and being set to 0.0 due to no predicted samples. Use `zero_division` parameter to control this behavior.\n",
      "  _warn_prf(average, modifier, msg_start, len(result))\n",
      "\u001b[32m2023-10-22 14:34:36.544\u001b[0m | \u001b[1mINFO    \u001b[0m | \u001b[36m__main__\u001b[0m:\u001b[36mrun_pipeline_self\u001b[0m:\u001b[36m79\u001b[0m - \u001b[1m%286 - Running pipeline for row_seed: 214 and size_of_unlabelled_data: 0.85 and model: KNeighborsClassifier(metric='manhattan', n_neighbors=15, weights='distance')\u001b[0m\n",
      "/home/smoow/tcc/venv/lib/python3.11/site-packages/sklearn/metrics/_classification.py:1344: UndefinedMetricWarning: Precision is ill-defined and being set to 0.0 due to no predicted samples. Use `zero_division` parameter to control this behavior.\n",
      "  _warn_prf(average, modifier, msg_start, len(result))\n",
      "\u001b[32m2023-10-22 14:34:36.593\u001b[0m | \u001b[1mINFO    \u001b[0m | \u001b[36m__main__\u001b[0m:\u001b[36mrun_pipeline_self\u001b[0m:\u001b[36m79\u001b[0m - \u001b[1m%287 - Running pipeline for row_seed: 754 and size_of_unlabelled_data: 0.85 and model: KNeighborsClassifier(metric='manhattan', n_neighbors=15, weights='distance')\u001b[0m\n",
      "/home/smoow/tcc/venv/lib/python3.11/site-packages/sklearn/metrics/_classification.py:1344: UndefinedMetricWarning: Precision is ill-defined and being set to 0.0 due to no predicted samples. Use `zero_division` parameter to control this behavior.\n",
      "  _warn_prf(average, modifier, msg_start, len(result))\n",
      "\u001b[32m2023-10-22 14:34:36.651\u001b[0m | \u001b[1mINFO    \u001b[0m | \u001b[36m__main__\u001b[0m:\u001b[36mrun_pipeline_self\u001b[0m:\u001b[36m79\u001b[0m - \u001b[1m%288 - Running pipeline for row_seed: 457 and size_of_unlabelled_data: 0.85 and model: KNeighborsClassifier(metric='manhattan', n_neighbors=15, weights='distance')\u001b[0m\n",
      "/home/smoow/tcc/venv/lib/python3.11/site-packages/sklearn/metrics/_classification.py:1344: UndefinedMetricWarning: Precision is ill-defined and being set to 0.0 due to no predicted samples. Use `zero_division` parameter to control this behavior.\n",
      "  _warn_prf(average, modifier, msg_start, len(result))\n",
      "\u001b[32m2023-10-22 14:34:36.707\u001b[0m | \u001b[1mINFO    \u001b[0m | \u001b[36m__main__\u001b[0m:\u001b[36mrun_pipeline_self\u001b[0m:\u001b[36m79\u001b[0m - \u001b[1m%289 - Running pipeline for row_seed: 2023 and size_of_unlabelled_data: 0.85 and model: KNeighborsClassifier(metric='manhattan', n_neighbors=15, weights='distance')\u001b[0m\n",
      "/home/smoow/tcc/venv/lib/python3.11/site-packages/sklearn/metrics/_classification.py:1344: UndefinedMetricWarning: Precision is ill-defined and being set to 0.0 due to no predicted samples. Use `zero_division` parameter to control this behavior.\n",
      "  _warn_prf(average, modifier, msg_start, len(result))\n",
      "\u001b[32m2023-10-22 14:34:36.749\u001b[0m | \u001b[1mINFO    \u001b[0m | \u001b[36m__main__\u001b[0m:\u001b[36mrun_pipeline_self\u001b[0m:\u001b[36m79\u001b[0m - \u001b[1m%290 - Running pipeline for row_seed: 3202 and size_of_unlabelled_data: 0.85 and model: KNeighborsClassifier(metric='manhattan', n_neighbors=15, weights='distance')\u001b[0m\n",
      "\u001b[32m2023-10-22 14:34:36.804\u001b[0m | \u001b[1mINFO    \u001b[0m | \u001b[36m__main__\u001b[0m:\u001b[36mrun_pipeline_self\u001b[0m:\u001b[36m75\u001b[0m - \u001b[1mModel: KNeighborsClassifier(metric='manhattan', n_neighbors=15, weights='distance')\u001b[0m\n",
      "\u001b[32m2023-10-22 14:34:36.805\u001b[0m | \u001b[1mINFO    \u001b[0m | \u001b[36m__main__\u001b[0m:\u001b[36mrun_pipeline_self\u001b[0m:\u001b[36m76\u001b[0m - \u001b[1mSize of unlabelled data: 0.9\u001b[0m\n",
      "\u001b[32m2023-10-22 14:34:36.805\u001b[0m | \u001b[1mINFO    \u001b[0m | \u001b[36m__main__\u001b[0m:\u001b[36mrun_pipeline_self\u001b[0m:\u001b[36m79\u001b[0m - \u001b[1m%291 - Running pipeline for row_seed: 24 and size_of_unlabelled_data: 0.9 and model: KNeighborsClassifier(metric='manhattan', n_neighbors=15, weights='distance')\u001b[0m\n",
      "/home/smoow/tcc/venv/lib/python3.11/site-packages/sklearn/metrics/_classification.py:1344: UndefinedMetricWarning: Precision is ill-defined and being set to 0.0 due to no predicted samples. Use `zero_division` parameter to control this behavior.\n",
      "  _warn_prf(average, modifier, msg_start, len(result))\n",
      "\u001b[32m2023-10-22 14:34:36.855\u001b[0m | \u001b[1mINFO    \u001b[0m | \u001b[36m__main__\u001b[0m:\u001b[36mrun_pipeline_self\u001b[0m:\u001b[36m79\u001b[0m - \u001b[1m%292 - Running pipeline for row_seed: 42 and size_of_unlabelled_data: 0.9 and model: KNeighborsClassifier(metric='manhattan', n_neighbors=15, weights='distance')\u001b[0m\n",
      "/home/smoow/tcc/venv/lib/python3.11/site-packages/sklearn/metrics/_classification.py:1344: UndefinedMetricWarning: Precision is ill-defined and being set to 0.0 due to no predicted samples. Use `zero_division` parameter to control this behavior.\n",
      "  _warn_prf(average, modifier, msg_start, len(result))\n",
      "\u001b[32m2023-10-22 14:34:36.899\u001b[0m | \u001b[1mINFO    \u001b[0m | \u001b[36m__main__\u001b[0m:\u001b[36mrun_pipeline_self\u001b[0m:\u001b[36m79\u001b[0m - \u001b[1m%293 - Running pipeline for row_seed: 206 and size_of_unlabelled_data: 0.9 and model: KNeighborsClassifier(metric='manhattan', n_neighbors=15, weights='distance')\u001b[0m\n",
      "/home/smoow/tcc/venv/lib/python3.11/site-packages/sklearn/metrics/_classification.py:1344: UndefinedMetricWarning: Precision is ill-defined and being set to 0.0 due to no predicted samples. Use `zero_division` parameter to control this behavior.\n",
      "  _warn_prf(average, modifier, msg_start, len(result))\n",
      "\u001b[32m2023-10-22 14:34:36.949\u001b[0m | \u001b[1mINFO    \u001b[0m | \u001b[36m__main__\u001b[0m:\u001b[36mrun_pipeline_self\u001b[0m:\u001b[36m79\u001b[0m - \u001b[1m%294 - Running pipeline for row_seed: 602 and size_of_unlabelled_data: 0.9 and model: KNeighborsClassifier(metric='manhattan', n_neighbors=15, weights='distance')\u001b[0m\n",
      "/home/smoow/tcc/venv/lib/python3.11/site-packages/sklearn/metrics/_classification.py:1344: UndefinedMetricWarning: Precision is ill-defined and being set to 0.0 due to no predicted samples. Use `zero_division` parameter to control this behavior.\n",
      "  _warn_prf(average, modifier, msg_start, len(result))\n",
      "\u001b[32m2023-10-22 14:34:37.002\u001b[0m | \u001b[1mINFO    \u001b[0m | \u001b[36m__main__\u001b[0m:\u001b[36mrun_pipeline_self\u001b[0m:\u001b[36m79\u001b[0m - \u001b[1m%295 - Running pipeline for row_seed: 412 and size_of_unlabelled_data: 0.9 and model: KNeighborsClassifier(metric='manhattan', n_neighbors=15, weights='distance')\u001b[0m\n"
     ]
    },
    {
     "name": "stdout",
     "output_type": "stream",
     "text": [
      "\n",
      "\n"
     ]
    },
    {
     "name": "stderr",
     "output_type": "stream",
     "text": [
      "/home/smoow/tcc/venv/lib/python3.11/site-packages/sklearn/metrics/_classification.py:1344: UndefinedMetricWarning: Precision is ill-defined and being set to 0.0 due to no predicted samples. Use `zero_division` parameter to control this behavior.\n",
      "  _warn_prf(average, modifier, msg_start, len(result))\n",
      "\u001b[32m2023-10-22 14:34:37.048\u001b[0m | \u001b[1mINFO    \u001b[0m | \u001b[36m__main__\u001b[0m:\u001b[36mrun_pipeline_self\u001b[0m:\u001b[36m79\u001b[0m - \u001b[1m%296 - Running pipeline for row_seed: 214 and size_of_unlabelled_data: 0.9 and model: KNeighborsClassifier(metric='manhattan', n_neighbors=15, weights='distance')\u001b[0m\n",
      "/home/smoow/tcc/venv/lib/python3.11/site-packages/sklearn/metrics/_classification.py:1344: UndefinedMetricWarning: Precision is ill-defined and being set to 0.0 due to no predicted samples. Use `zero_division` parameter to control this behavior.\n",
      "  _warn_prf(average, modifier, msg_start, len(result))\n",
      "\u001b[32m2023-10-22 14:34:37.094\u001b[0m | \u001b[1mINFO    \u001b[0m | \u001b[36m__main__\u001b[0m:\u001b[36mrun_pipeline_self\u001b[0m:\u001b[36m79\u001b[0m - \u001b[1m%297 - Running pipeline for row_seed: 754 and size_of_unlabelled_data: 0.9 and model: KNeighborsClassifier(metric='manhattan', n_neighbors=15, weights='distance')\u001b[0m\n",
      "/home/smoow/tcc/venv/lib/python3.11/site-packages/sklearn/metrics/_classification.py:1344: UndefinedMetricWarning: Precision is ill-defined and being set to 0.0 due to no predicted samples. Use `zero_division` parameter to control this behavior.\n",
      "  _warn_prf(average, modifier, msg_start, len(result))\n",
      "\u001b[32m2023-10-22 14:34:37.149\u001b[0m | \u001b[1mINFO    \u001b[0m | \u001b[36m__main__\u001b[0m:\u001b[36mrun_pipeline_self\u001b[0m:\u001b[36m79\u001b[0m - \u001b[1m%298 - Running pipeline for row_seed: 457 and size_of_unlabelled_data: 0.9 and model: KNeighborsClassifier(metric='manhattan', n_neighbors=15, weights='distance')\u001b[0m\n",
      "/home/smoow/tcc/venv/lib/python3.11/site-packages/sklearn/metrics/_classification.py:1344: UndefinedMetricWarning: Precision is ill-defined and being set to 0.0 due to no predicted samples. Use `zero_division` parameter to control this behavior.\n",
      "  _warn_prf(average, modifier, msg_start, len(result))\n",
      "\u001b[32m2023-10-22 14:34:37.210\u001b[0m | \u001b[1mINFO    \u001b[0m | \u001b[36m__main__\u001b[0m:\u001b[36mrun_pipeline_self\u001b[0m:\u001b[36m79\u001b[0m - \u001b[1m%299 - Running pipeline for row_seed: 2023 and size_of_unlabelled_data: 0.9 and model: KNeighborsClassifier(metric='manhattan', n_neighbors=15, weights='distance')\u001b[0m\n",
      "/home/smoow/tcc/venv/lib/python3.11/site-packages/sklearn/metrics/_classification.py:1344: UndefinedMetricWarning: Precision is ill-defined and being set to 0.0 due to no predicted samples. Use `zero_division` parameter to control this behavior.\n",
      "  _warn_prf(average, modifier, msg_start, len(result))\n",
      "\u001b[32m2023-10-22 14:34:37.253\u001b[0m | \u001b[1mINFO    \u001b[0m | \u001b[36m__main__\u001b[0m:\u001b[36mrun_pipeline_self\u001b[0m:\u001b[36m79\u001b[0m - \u001b[1m%300 - Running pipeline for row_seed: 3202 and size_of_unlabelled_data: 0.9 and model: KNeighborsClassifier(metric='manhattan', n_neighbors=15, weights='distance')\u001b[0m\n",
      "/home/smoow/tcc/venv/lib/python3.11/site-packages/sklearn/metrics/_classification.py:1344: UndefinedMetricWarning: Precision is ill-defined and being set to 0.0 due to no predicted samples. Use `zero_division` parameter to control this behavior.\n",
      "  _warn_prf(average, modifier, msg_start, len(result))\n",
      "\u001b[32m2023-10-22 14:34:37.309\u001b[0m | \u001b[1mINFO    \u001b[0m | \u001b[36m__main__\u001b[0m:\u001b[36mrun_pipeline_self\u001b[0m:\u001b[36m75\u001b[0m - \u001b[1mModel: RandomForestClassifier(max_depth=15, min_samples_split=9, n_estimators=400)\u001b[0m\n",
      "\u001b[32m2023-10-22 14:34:37.310\u001b[0m | \u001b[1mINFO    \u001b[0m | \u001b[36m__main__\u001b[0m:\u001b[36mrun_pipeline_self\u001b[0m:\u001b[36m76\u001b[0m - \u001b[1mSize of unlabelled data: 0.1\u001b[0m\n",
      "\u001b[32m2023-10-22 14:34:37.310\u001b[0m | \u001b[1mINFO    \u001b[0m | \u001b[36m__main__\u001b[0m:\u001b[36mrun_pipeline_self\u001b[0m:\u001b[36m79\u001b[0m - \u001b[1m%301 - Running pipeline for row_seed: 24 and size_of_unlabelled_data: 0.1 and model: RandomForestClassifier(max_depth=15, min_samples_split=9, n_estimators=400)\u001b[0m\n"
     ]
    },
    {
     "name": "stdout",
     "output_type": "stream",
     "text": [
      "\n",
      "\n"
     ]
    },
    {
     "name": "stderr",
     "output_type": "stream",
     "text": [
      "\u001b[32m2023-10-22 14:34:42.293\u001b[0m | \u001b[1mINFO    \u001b[0m | \u001b[36m__main__\u001b[0m:\u001b[36mrun_pipeline_self\u001b[0m:\u001b[36m79\u001b[0m - \u001b[1m%302 - Running pipeline for row_seed: 42 and size_of_unlabelled_data: 0.1 and model: RandomForestClassifier(max_depth=15, min_samples_split=9, n_estimators=400)\u001b[0m\n",
      "\u001b[32m2023-10-22 14:34:49.771\u001b[0m | \u001b[1mINFO    \u001b[0m | \u001b[36m__main__\u001b[0m:\u001b[36mrun_pipeline_self\u001b[0m:\u001b[36m79\u001b[0m - \u001b[1m%303 - Running pipeline for row_seed: 206 and size_of_unlabelled_data: 0.1 and model: RandomForestClassifier(max_depth=15, min_samples_split=9, n_estimators=400)\u001b[0m\n",
      "\u001b[32m2023-10-22 14:34:55.892\u001b[0m | \u001b[1mINFO    \u001b[0m | \u001b[36m__main__\u001b[0m:\u001b[36mrun_pipeline_self\u001b[0m:\u001b[36m79\u001b[0m - \u001b[1m%304 - Running pipeline for row_seed: 602 and size_of_unlabelled_data: 0.1 and model: RandomForestClassifier(max_depth=15, min_samples_split=9, n_estimators=400)\u001b[0m\n",
      "\u001b[32m2023-10-22 14:35:03.218\u001b[0m | \u001b[1mINFO    \u001b[0m | \u001b[36m__main__\u001b[0m:\u001b[36mrun_pipeline_self\u001b[0m:\u001b[36m79\u001b[0m - \u001b[1m%305 - Running pipeline for row_seed: 412 and size_of_unlabelled_data: 0.1 and model: RandomForestClassifier(max_depth=15, min_samples_split=9, n_estimators=400)\u001b[0m\n",
      "\u001b[32m2023-10-22 14:35:12.178\u001b[0m | \u001b[1mINFO    \u001b[0m | \u001b[36m__main__\u001b[0m:\u001b[36mrun_pipeline_self\u001b[0m:\u001b[36m79\u001b[0m - \u001b[1m%306 - Running pipeline for row_seed: 214 and size_of_unlabelled_data: 0.1 and model: RandomForestClassifier(max_depth=15, min_samples_split=9, n_estimators=400)\u001b[0m\n",
      "\u001b[32m2023-10-22 14:35:19.310\u001b[0m | \u001b[1mINFO    \u001b[0m | \u001b[36m__main__\u001b[0m:\u001b[36mrun_pipeline_self\u001b[0m:\u001b[36m79\u001b[0m - \u001b[1m%307 - Running pipeline for row_seed: 754 and size_of_unlabelled_data: 0.1 and model: RandomForestClassifier(max_depth=15, min_samples_split=9, n_estimators=400)\u001b[0m\n",
      "\u001b[32m2023-10-22 14:35:27.608\u001b[0m | \u001b[1mINFO    \u001b[0m | \u001b[36m__main__\u001b[0m:\u001b[36mrun_pipeline_self\u001b[0m:\u001b[36m79\u001b[0m - \u001b[1m%308 - Running pipeline for row_seed: 457 and size_of_unlabelled_data: 0.1 and model: RandomForestClassifier(max_depth=15, min_samples_split=9, n_estimators=400)\u001b[0m\n",
      "\u001b[32m2023-10-22 14:35:32.286\u001b[0m | \u001b[1mINFO    \u001b[0m | \u001b[36m__main__\u001b[0m:\u001b[36mrun_pipeline_self\u001b[0m:\u001b[36m79\u001b[0m - \u001b[1m%309 - Running pipeline for row_seed: 2023 and size_of_unlabelled_data: 0.1 and model: RandomForestClassifier(max_depth=15, min_samples_split=9, n_estimators=400)\u001b[0m\n",
      "\u001b[32m2023-10-22 14:35:39.291\u001b[0m | \u001b[1mINFO    \u001b[0m | \u001b[36m__main__\u001b[0m:\u001b[36mrun_pipeline_self\u001b[0m:\u001b[36m79\u001b[0m - \u001b[1m%310 - Running pipeline for row_seed: 3202 and size_of_unlabelled_data: 0.1 and model: RandomForestClassifier(max_depth=15, min_samples_split=9, n_estimators=400)\u001b[0m\n",
      "\u001b[32m2023-10-22 14:35:51.129\u001b[0m | \u001b[1mINFO    \u001b[0m | \u001b[36m__main__\u001b[0m:\u001b[36mrun_pipeline_self\u001b[0m:\u001b[36m75\u001b[0m - \u001b[1mModel: RandomForestClassifier(max_depth=15, min_samples_split=9, n_estimators=400)\u001b[0m\n",
      "\u001b[32m2023-10-22 14:35:51.129\u001b[0m | \u001b[1mINFO    \u001b[0m | \u001b[36m__main__\u001b[0m:\u001b[36mrun_pipeline_self\u001b[0m:\u001b[36m76\u001b[0m - \u001b[1mSize of unlabelled data: 0.2\u001b[0m\n",
      "\u001b[32m2023-10-22 14:35:51.130\u001b[0m | \u001b[1mINFO    \u001b[0m | \u001b[36m__main__\u001b[0m:\u001b[36mrun_pipeline_self\u001b[0m:\u001b[36m79\u001b[0m - \u001b[1m%311 - Running pipeline for row_seed: 24 and size_of_unlabelled_data: 0.2 and model: RandomForestClassifier(max_depth=15, min_samples_split=9, n_estimators=400)\u001b[0m\n"
     ]
    },
    {
     "name": "stdout",
     "output_type": "stream",
     "text": [
      "\n",
      "\n"
     ]
    },
    {
     "name": "stderr",
     "output_type": "stream",
     "text": [
      "\u001b[32m2023-10-22 14:35:58.783\u001b[0m | \u001b[1mINFO    \u001b[0m | \u001b[36m__main__\u001b[0m:\u001b[36mrun_pipeline_self\u001b[0m:\u001b[36m79\u001b[0m - \u001b[1m%312 - Running pipeline for row_seed: 42 and size_of_unlabelled_data: 0.2 and model: RandomForestClassifier(max_depth=15, min_samples_split=9, n_estimators=400)\u001b[0m\n",
      "\u001b[32m2023-10-22 14:36:09.979\u001b[0m | \u001b[1mINFO    \u001b[0m | \u001b[36m__main__\u001b[0m:\u001b[36mrun_pipeline_self\u001b[0m:\u001b[36m79\u001b[0m - \u001b[1m%313 - Running pipeline for row_seed: 206 and size_of_unlabelled_data: 0.2 and model: RandomForestClassifier(max_depth=15, min_samples_split=9, n_estimators=400)\u001b[0m\n",
      "\u001b[32m2023-10-22 14:36:21.001\u001b[0m | \u001b[1mINFO    \u001b[0m | \u001b[36m__main__\u001b[0m:\u001b[36mrun_pipeline_self\u001b[0m:\u001b[36m79\u001b[0m - \u001b[1m%314 - Running pipeline for row_seed: 602 and size_of_unlabelled_data: 0.2 and model: RandomForestClassifier(max_depth=15, min_samples_split=9, n_estimators=400)\u001b[0m\n",
      "\u001b[32m2023-10-22 14:36:29.513\u001b[0m | \u001b[1mINFO    \u001b[0m | \u001b[36m__main__\u001b[0m:\u001b[36mrun_pipeline_self\u001b[0m:\u001b[36m79\u001b[0m - \u001b[1m%315 - Running pipeline for row_seed: 412 and size_of_unlabelled_data: 0.2 and model: RandomForestClassifier(max_depth=15, min_samples_split=9, n_estimators=400)\u001b[0m\n",
      "\u001b[32m2023-10-22 14:36:41.755\u001b[0m | \u001b[1mINFO    \u001b[0m | \u001b[36m__main__\u001b[0m:\u001b[36mrun_pipeline_self\u001b[0m:\u001b[36m79\u001b[0m - \u001b[1m%316 - Running pipeline for row_seed: 214 and size_of_unlabelled_data: 0.2 and model: RandomForestClassifier(max_depth=15, min_samples_split=9, n_estimators=400)\u001b[0m\n",
      "\u001b[32m2023-10-22 14:36:53.821\u001b[0m | \u001b[1mINFO    \u001b[0m | \u001b[36m__main__\u001b[0m:\u001b[36mrun_pipeline_self\u001b[0m:\u001b[36m79\u001b[0m - \u001b[1m%317 - Running pipeline for row_seed: 754 and size_of_unlabelled_data: 0.2 and model: RandomForestClassifier(max_depth=15, min_samples_split=9, n_estimators=400)\u001b[0m\n",
      "\u001b[32m2023-10-22 14:37:05.994\u001b[0m | \u001b[1mINFO    \u001b[0m | \u001b[36m__main__\u001b[0m:\u001b[36mrun_pipeline_self\u001b[0m:\u001b[36m79\u001b[0m - \u001b[1m%318 - Running pipeline for row_seed: 457 and size_of_unlabelled_data: 0.2 and model: RandomForestClassifier(max_depth=15, min_samples_split=9, n_estimators=400)\u001b[0m\n",
      "\u001b[32m2023-10-22 14:37:13.701\u001b[0m | \u001b[1mINFO    \u001b[0m | \u001b[36m__main__\u001b[0m:\u001b[36mrun_pipeline_self\u001b[0m:\u001b[36m79\u001b[0m - \u001b[1m%319 - Running pipeline for row_seed: 2023 and size_of_unlabelled_data: 0.2 and model: RandomForestClassifier(max_depth=15, min_samples_split=9, n_estimators=400)\u001b[0m\n",
      "\u001b[32m2023-10-22 14:37:26.307\u001b[0m | \u001b[1mINFO    \u001b[0m | \u001b[36m__main__\u001b[0m:\u001b[36mrun_pipeline_self\u001b[0m:\u001b[36m79\u001b[0m - \u001b[1m%320 - Running pipeline for row_seed: 3202 and size_of_unlabelled_data: 0.2 and model: RandomForestClassifier(max_depth=15, min_samples_split=9, n_estimators=400)\u001b[0m\n",
      "\u001b[32m2023-10-22 14:37:34.098\u001b[0m | \u001b[1mINFO    \u001b[0m | \u001b[36m__main__\u001b[0m:\u001b[36mrun_pipeline_self\u001b[0m:\u001b[36m75\u001b[0m - \u001b[1mModel: RandomForestClassifier(max_depth=15, min_samples_split=9, n_estimators=400)\u001b[0m\n",
      "\u001b[32m2023-10-22 14:37:34.098\u001b[0m | \u001b[1mINFO    \u001b[0m | \u001b[36m__main__\u001b[0m:\u001b[36mrun_pipeline_self\u001b[0m:\u001b[36m76\u001b[0m - \u001b[1mSize of unlabelled data: 0.3\u001b[0m\n",
      "\u001b[32m2023-10-22 14:37:34.099\u001b[0m | \u001b[1mINFO    \u001b[0m | \u001b[36m__main__\u001b[0m:\u001b[36mrun_pipeline_self\u001b[0m:\u001b[36m79\u001b[0m - \u001b[1m%321 - Running pipeline for row_seed: 24 and size_of_unlabelled_data: 0.3 and model: RandomForestClassifier(max_depth=15, min_samples_split=9, n_estimators=400)\u001b[0m\n"
     ]
    },
    {
     "name": "stdout",
     "output_type": "stream",
     "text": [
      "\n",
      "\n"
     ]
    },
    {
     "name": "stderr",
     "output_type": "stream",
     "text": [
      "\u001b[32m2023-10-22 14:37:45.839\u001b[0m | \u001b[1mINFO    \u001b[0m | \u001b[36m__main__\u001b[0m:\u001b[36mrun_pipeline_self\u001b[0m:\u001b[36m79\u001b[0m - \u001b[1m%322 - Running pipeline for row_seed: 42 and size_of_unlabelled_data: 0.3 and model: RandomForestClassifier(max_depth=15, min_samples_split=9, n_estimators=400)\u001b[0m\n",
      "\u001b[32m2023-10-22 14:37:57.644\u001b[0m | \u001b[1mINFO    \u001b[0m | \u001b[36m__main__\u001b[0m:\u001b[36mrun_pipeline_self\u001b[0m:\u001b[36m79\u001b[0m - \u001b[1m%323 - Running pipeline for row_seed: 206 and size_of_unlabelled_data: 0.3 and model: RandomForestClassifier(max_depth=15, min_samples_split=9, n_estimators=400)\u001b[0m\n",
      "\u001b[32m2023-10-22 14:38:09.427\u001b[0m | \u001b[1mINFO    \u001b[0m | \u001b[36m__main__\u001b[0m:\u001b[36mrun_pipeline_self\u001b[0m:\u001b[36m79\u001b[0m - \u001b[1m%324 - Running pipeline for row_seed: 602 and size_of_unlabelled_data: 0.3 and model: RandomForestClassifier(max_depth=15, min_samples_split=9, n_estimators=400)\u001b[0m\n",
      "\u001b[32m2023-10-22 14:38:20.492\u001b[0m | \u001b[1mINFO    \u001b[0m | \u001b[36m__main__\u001b[0m:\u001b[36mrun_pipeline_self\u001b[0m:\u001b[36m79\u001b[0m - \u001b[1m%325 - Running pipeline for row_seed: 412 and size_of_unlabelled_data: 0.3 and model: RandomForestClassifier(max_depth=15, min_samples_split=9, n_estimators=400)\u001b[0m\n",
      "\u001b[32m2023-10-22 14:38:31.784\u001b[0m | \u001b[1mINFO    \u001b[0m | \u001b[36m__main__\u001b[0m:\u001b[36mrun_pipeline_self\u001b[0m:\u001b[36m79\u001b[0m - \u001b[1m%326 - Running pipeline for row_seed: 214 and size_of_unlabelled_data: 0.3 and model: RandomForestClassifier(max_depth=15, min_samples_split=9, n_estimators=400)\u001b[0m\n",
      "\u001b[32m2023-10-22 14:38:42.592\u001b[0m | \u001b[1mINFO    \u001b[0m | \u001b[36m__main__\u001b[0m:\u001b[36mrun_pipeline_self\u001b[0m:\u001b[36m79\u001b[0m - \u001b[1m%327 - Running pipeline for row_seed: 754 and size_of_unlabelled_data: 0.3 and model: RandomForestClassifier(max_depth=15, min_samples_split=9, n_estimators=400)\u001b[0m\n",
      "\u001b[32m2023-10-22 14:38:51.635\u001b[0m | \u001b[1mINFO    \u001b[0m | \u001b[36m__main__\u001b[0m:\u001b[36mrun_pipeline_self\u001b[0m:\u001b[36m79\u001b[0m - \u001b[1m%328 - Running pipeline for row_seed: 457 and size_of_unlabelled_data: 0.3 and model: RandomForestClassifier(max_depth=15, min_samples_split=9, n_estimators=400)\u001b[0m\n",
      "\u001b[32m2023-10-22 14:39:00.556\u001b[0m | \u001b[1mINFO    \u001b[0m | \u001b[36m__main__\u001b[0m:\u001b[36mrun_pipeline_self\u001b[0m:\u001b[36m79\u001b[0m - \u001b[1m%329 - Running pipeline for row_seed: 2023 and size_of_unlabelled_data: 0.3 and model: RandomForestClassifier(max_depth=15, min_samples_split=9, n_estimators=400)\u001b[0m\n",
      "\u001b[32m2023-10-22 14:39:10.562\u001b[0m | \u001b[1mINFO    \u001b[0m | \u001b[36m__main__\u001b[0m:\u001b[36mrun_pipeline_self\u001b[0m:\u001b[36m79\u001b[0m - \u001b[1m%330 - Running pipeline for row_seed: 3202 and size_of_unlabelled_data: 0.3 and model: RandomForestClassifier(max_depth=15, min_samples_split=9, n_estimators=400)\u001b[0m\n",
      "\u001b[32m2023-10-22 14:39:21.403\u001b[0m | \u001b[1mINFO    \u001b[0m | \u001b[36m__main__\u001b[0m:\u001b[36mrun_pipeline_self\u001b[0m:\u001b[36m75\u001b[0m - \u001b[1mModel: RandomForestClassifier(max_depth=15, min_samples_split=9, n_estimators=400)\u001b[0m\n",
      "\u001b[32m2023-10-22 14:39:21.404\u001b[0m | \u001b[1mINFO    \u001b[0m | \u001b[36m__main__\u001b[0m:\u001b[36mrun_pipeline_self\u001b[0m:\u001b[36m76\u001b[0m - \u001b[1mSize of unlabelled data: 0.4\u001b[0m\n",
      "\u001b[32m2023-10-22 14:39:21.404\u001b[0m | \u001b[1mINFO    \u001b[0m | \u001b[36m__main__\u001b[0m:\u001b[36mrun_pipeline_self\u001b[0m:\u001b[36m79\u001b[0m - \u001b[1m%331 - Running pipeline for row_seed: 24 and size_of_unlabelled_data: 0.4 and model: RandomForestClassifier(max_depth=15, min_samples_split=9, n_estimators=400)\u001b[0m\n"
     ]
    },
    {
     "name": "stdout",
     "output_type": "stream",
     "text": [
      "\n",
      "\n"
     ]
    },
    {
     "name": "stderr",
     "output_type": "stream",
     "text": [
      "\u001b[32m2023-10-22 14:39:32.403\u001b[0m | \u001b[1mINFO    \u001b[0m | \u001b[36m__main__\u001b[0m:\u001b[36mrun_pipeline_self\u001b[0m:\u001b[36m79\u001b[0m - \u001b[1m%332 - Running pipeline for row_seed: 42 and size_of_unlabelled_data: 0.4 and model: RandomForestClassifier(max_depth=15, min_samples_split=9, n_estimators=400)\u001b[0m\n",
      "\u001b[32m2023-10-22 14:39:43.934\u001b[0m | \u001b[1mINFO    \u001b[0m | \u001b[36m__main__\u001b[0m:\u001b[36mrun_pipeline_self\u001b[0m:\u001b[36m79\u001b[0m - \u001b[1m%333 - Running pipeline for row_seed: 206 and size_of_unlabelled_data: 0.4 and model: RandomForestClassifier(max_depth=15, min_samples_split=9, n_estimators=400)\u001b[0m\n",
      "\u001b[32m2023-10-22 14:39:55.174\u001b[0m | \u001b[1mINFO    \u001b[0m | \u001b[36m__main__\u001b[0m:\u001b[36mrun_pipeline_self\u001b[0m:\u001b[36m79\u001b[0m - \u001b[1m%334 - Running pipeline for row_seed: 602 and size_of_unlabelled_data: 0.4 and model: RandomForestClassifier(max_depth=15, min_samples_split=9, n_estimators=400)\u001b[0m\n",
      "\u001b[32m2023-10-22 14:40:05.701\u001b[0m | \u001b[1mINFO    \u001b[0m | \u001b[36m__main__\u001b[0m:\u001b[36mrun_pipeline_self\u001b[0m:\u001b[36m79\u001b[0m - \u001b[1m%335 - Running pipeline for row_seed: 412 and size_of_unlabelled_data: 0.4 and model: RandomForestClassifier(max_depth=15, min_samples_split=9, n_estimators=400)\u001b[0m\n",
      "\u001b[32m2023-10-22 14:40:17.060\u001b[0m | \u001b[1mINFO    \u001b[0m | \u001b[36m__main__\u001b[0m:\u001b[36mrun_pipeline_self\u001b[0m:\u001b[36m79\u001b[0m - \u001b[1m%336 - Running pipeline for row_seed: 214 and size_of_unlabelled_data: 0.4 and model: RandomForestClassifier(max_depth=15, min_samples_split=9, n_estimators=400)\u001b[0m\n",
      "\u001b[32m2023-10-22 14:40:27.624\u001b[0m | \u001b[1mINFO    \u001b[0m | \u001b[36m__main__\u001b[0m:\u001b[36mrun_pipeline_self\u001b[0m:\u001b[36m79\u001b[0m - \u001b[1m%337 - Running pipeline for row_seed: 754 and size_of_unlabelled_data: 0.4 and model: RandomForestClassifier(max_depth=15, min_samples_split=9, n_estimators=400)\u001b[0m\n",
      "\u001b[32m2023-10-22 14:40:38.974\u001b[0m | \u001b[1mINFO    \u001b[0m | \u001b[36m__main__\u001b[0m:\u001b[36mrun_pipeline_self\u001b[0m:\u001b[36m79\u001b[0m - \u001b[1m%338 - Running pipeline for row_seed: 457 and size_of_unlabelled_data: 0.4 and model: RandomForestClassifier(max_depth=15, min_samples_split=9, n_estimators=400)\u001b[0m\n",
      "\u001b[32m2023-10-22 14:40:49.459\u001b[0m | \u001b[1mINFO    \u001b[0m | \u001b[36m__main__\u001b[0m:\u001b[36mrun_pipeline_self\u001b[0m:\u001b[36m79\u001b[0m - \u001b[1m%339 - Running pipeline for row_seed: 2023 and size_of_unlabelled_data: 0.4 and model: RandomForestClassifier(max_depth=15, min_samples_split=9, n_estimators=400)\u001b[0m\n",
      "\u001b[32m2023-10-22 14:40:59.959\u001b[0m | \u001b[1mINFO    \u001b[0m | \u001b[36m__main__\u001b[0m:\u001b[36mrun_pipeline_self\u001b[0m:\u001b[36m79\u001b[0m - \u001b[1m%340 - Running pipeline for row_seed: 3202 and size_of_unlabelled_data: 0.4 and model: RandomForestClassifier(max_depth=15, min_samples_split=9, n_estimators=400)\u001b[0m\n",
      "\u001b[32m2023-10-22 14:41:10.055\u001b[0m | \u001b[1mINFO    \u001b[0m | \u001b[36m__main__\u001b[0m:\u001b[36mrun_pipeline_self\u001b[0m:\u001b[36m75\u001b[0m - \u001b[1mModel: RandomForestClassifier(max_depth=15, min_samples_split=9, n_estimators=400)\u001b[0m\n",
      "\u001b[32m2023-10-22 14:41:10.056\u001b[0m | \u001b[1mINFO    \u001b[0m | \u001b[36m__main__\u001b[0m:\u001b[36mrun_pipeline_self\u001b[0m:\u001b[36m76\u001b[0m - \u001b[1mSize of unlabelled data: 0.5\u001b[0m\n",
      "\u001b[32m2023-10-22 14:41:10.056\u001b[0m | \u001b[1mINFO    \u001b[0m | \u001b[36m__main__\u001b[0m:\u001b[36mrun_pipeline_self\u001b[0m:\u001b[36m79\u001b[0m - \u001b[1m%341 - Running pipeline for row_seed: 24 and size_of_unlabelled_data: 0.5 and model: RandomForestClassifier(max_depth=15, min_samples_split=9, n_estimators=400)\u001b[0m\n"
     ]
    },
    {
     "name": "stdout",
     "output_type": "stream",
     "text": [
      "\n",
      "\n"
     ]
    },
    {
     "name": "stderr",
     "output_type": "stream",
     "text": [
      "\u001b[32m2023-10-22 14:41:20.192\u001b[0m | \u001b[1mINFO    \u001b[0m | \u001b[36m__main__\u001b[0m:\u001b[36mrun_pipeline_self\u001b[0m:\u001b[36m79\u001b[0m - \u001b[1m%342 - Running pipeline for row_seed: 42 and size_of_unlabelled_data: 0.5 and model: RandomForestClassifier(max_depth=15, min_samples_split=9, n_estimators=400)\u001b[0m\n",
      "\u001b[32m2023-10-22 14:41:30.973\u001b[0m | \u001b[1mINFO    \u001b[0m | \u001b[36m__main__\u001b[0m:\u001b[36mrun_pipeline_self\u001b[0m:\u001b[36m79\u001b[0m - \u001b[1m%343 - Running pipeline for row_seed: 206 and size_of_unlabelled_data: 0.5 and model: RandomForestClassifier(max_depth=15, min_samples_split=9, n_estimators=400)\u001b[0m\n",
      "\u001b[32m2023-10-22 14:41:41.348\u001b[0m | \u001b[1mINFO    \u001b[0m | \u001b[36m__main__\u001b[0m:\u001b[36mrun_pipeline_self\u001b[0m:\u001b[36m79\u001b[0m - \u001b[1m%344 - Running pipeline for row_seed: 602 and size_of_unlabelled_data: 0.5 and model: RandomForestClassifier(max_depth=15, min_samples_split=9, n_estimators=400)\u001b[0m\n",
      "\u001b[32m2023-10-22 14:41:51.093\u001b[0m | \u001b[1mINFO    \u001b[0m | \u001b[36m__main__\u001b[0m:\u001b[36mrun_pipeline_self\u001b[0m:\u001b[36m79\u001b[0m - \u001b[1m%345 - Running pipeline for row_seed: 412 and size_of_unlabelled_data: 0.5 and model: RandomForestClassifier(max_depth=15, min_samples_split=9, n_estimators=400)\u001b[0m\n",
      "\u001b[32m2023-10-22 14:42:02.339\u001b[0m | \u001b[1mINFO    \u001b[0m | \u001b[36m__main__\u001b[0m:\u001b[36mrun_pipeline_self\u001b[0m:\u001b[36m79\u001b[0m - \u001b[1m%346 - Running pipeline for row_seed: 214 and size_of_unlabelled_data: 0.5 and model: RandomForestClassifier(max_depth=15, min_samples_split=9, n_estimators=400)\u001b[0m\n",
      "\u001b[32m2023-10-22 14:42:11.876\u001b[0m | \u001b[1mINFO    \u001b[0m | \u001b[36m__main__\u001b[0m:\u001b[36mrun_pipeline_self\u001b[0m:\u001b[36m79\u001b[0m - \u001b[1m%347 - Running pipeline for row_seed: 754 and size_of_unlabelled_data: 0.5 and model: RandomForestClassifier(max_depth=15, min_samples_split=9, n_estimators=400)\u001b[0m\n",
      "\u001b[32m2023-10-22 14:42:23.147\u001b[0m | \u001b[1mINFO    \u001b[0m | \u001b[36m__main__\u001b[0m:\u001b[36mrun_pipeline_self\u001b[0m:\u001b[36m79\u001b[0m - \u001b[1m%348 - Running pipeline for row_seed: 457 and size_of_unlabelled_data: 0.5 and model: RandomForestClassifier(max_depth=15, min_samples_split=9, n_estimators=400)\u001b[0m\n",
      "\u001b[32m2023-10-22 14:42:33.160\u001b[0m | \u001b[1mINFO    \u001b[0m | \u001b[36m__main__\u001b[0m:\u001b[36mrun_pipeline_self\u001b[0m:\u001b[36m79\u001b[0m - \u001b[1m%349 - Running pipeline for row_seed: 2023 and size_of_unlabelled_data: 0.5 and model: RandomForestClassifier(max_depth=15, min_samples_split=9, n_estimators=400)\u001b[0m\n",
      "\u001b[32m2023-10-22 14:42:43.555\u001b[0m | \u001b[1mINFO    \u001b[0m | \u001b[36m__main__\u001b[0m:\u001b[36mrun_pipeline_self\u001b[0m:\u001b[36m79\u001b[0m - \u001b[1m%350 - Running pipeline for row_seed: 3202 and size_of_unlabelled_data: 0.5 and model: RandomForestClassifier(max_depth=15, min_samples_split=9, n_estimators=400)\u001b[0m\n",
      "\u001b[32m2023-10-22 14:42:53.257\u001b[0m | \u001b[1mINFO    \u001b[0m | \u001b[36m__main__\u001b[0m:\u001b[36mrun_pipeline_self\u001b[0m:\u001b[36m75\u001b[0m - \u001b[1mModel: RandomForestClassifier(max_depth=15, min_samples_split=9, n_estimators=400)\u001b[0m\n",
      "\u001b[32m2023-10-22 14:42:53.257\u001b[0m | \u001b[1mINFO    \u001b[0m | \u001b[36m__main__\u001b[0m:\u001b[36mrun_pipeline_self\u001b[0m:\u001b[36m76\u001b[0m - \u001b[1mSize of unlabelled data: 0.6\u001b[0m\n",
      "\u001b[32m2023-10-22 14:42:53.258\u001b[0m | \u001b[1mINFO    \u001b[0m | \u001b[36m__main__\u001b[0m:\u001b[36mrun_pipeline_self\u001b[0m:\u001b[36m79\u001b[0m - \u001b[1m%351 - Running pipeline for row_seed: 24 and size_of_unlabelled_data: 0.6 and model: RandomForestClassifier(max_depth=15, min_samples_split=9, n_estimators=400)\u001b[0m\n"
     ]
    },
    {
     "name": "stdout",
     "output_type": "stream",
     "text": [
      "\n",
      "\n"
     ]
    },
    {
     "name": "stderr",
     "output_type": "stream",
     "text": [
      "\u001b[32m2023-10-22 14:43:03.975\u001b[0m | \u001b[1mINFO    \u001b[0m | \u001b[36m__main__\u001b[0m:\u001b[36mrun_pipeline_self\u001b[0m:\u001b[36m79\u001b[0m - \u001b[1m%352 - Running pipeline for row_seed: 42 and size_of_unlabelled_data: 0.6 and model: RandomForestClassifier(max_depth=15, min_samples_split=9, n_estimators=400)\u001b[0m\n",
      "\u001b[32m2023-10-22 14:43:13.810\u001b[0m | \u001b[1mINFO    \u001b[0m | \u001b[36m__main__\u001b[0m:\u001b[36mrun_pipeline_self\u001b[0m:\u001b[36m79\u001b[0m - \u001b[1m%353 - Running pipeline for row_seed: 206 and size_of_unlabelled_data: 0.6 and model: RandomForestClassifier(max_depth=15, min_samples_split=9, n_estimators=400)\u001b[0m\n",
      "\u001b[32m2023-10-22 14:43:22.634\u001b[0m | \u001b[1mINFO    \u001b[0m | \u001b[36m__main__\u001b[0m:\u001b[36mrun_pipeline_self\u001b[0m:\u001b[36m79\u001b[0m - \u001b[1m%354 - Running pipeline for row_seed: 602 and size_of_unlabelled_data: 0.6 and model: RandomForestClassifier(max_depth=15, min_samples_split=9, n_estimators=400)\u001b[0m\n",
      "\u001b[32m2023-10-22 14:43:32.451\u001b[0m | \u001b[1mINFO    \u001b[0m | \u001b[36m__main__\u001b[0m:\u001b[36mrun_pipeline_self\u001b[0m:\u001b[36m79\u001b[0m - \u001b[1m%355 - Running pipeline for row_seed: 412 and size_of_unlabelled_data: 0.6 and model: RandomForestClassifier(max_depth=15, min_samples_split=9, n_estimators=400)\u001b[0m\n",
      "\u001b[32m2023-10-22 14:43:43.655\u001b[0m | \u001b[1mINFO    \u001b[0m | \u001b[36m__main__\u001b[0m:\u001b[36mrun_pipeline_self\u001b[0m:\u001b[36m79\u001b[0m - \u001b[1m%356 - Running pipeline for row_seed: 214 and size_of_unlabelled_data: 0.6 and model: RandomForestClassifier(max_depth=15, min_samples_split=9, n_estimators=400)\u001b[0m\n",
      "\u001b[32m2023-10-22 14:43:52.266\u001b[0m | \u001b[1mINFO    \u001b[0m | \u001b[36m__main__\u001b[0m:\u001b[36mrun_pipeline_self\u001b[0m:\u001b[36m79\u001b[0m - \u001b[1m%357 - Running pipeline for row_seed: 754 and size_of_unlabelled_data: 0.6 and model: RandomForestClassifier(max_depth=15, min_samples_split=9, n_estimators=400)\u001b[0m\n",
      "\u001b[32m2023-10-22 14:44:02.463\u001b[0m | \u001b[1mINFO    \u001b[0m | \u001b[36m__main__\u001b[0m:\u001b[36mrun_pipeline_self\u001b[0m:\u001b[36m79\u001b[0m - \u001b[1m%358 - Running pipeline for row_seed: 457 and size_of_unlabelled_data: 0.6 and model: RandomForestClassifier(max_depth=15, min_samples_split=9, n_estimators=400)\u001b[0m\n",
      "\u001b[32m2023-10-22 14:44:11.113\u001b[0m | \u001b[1mINFO    \u001b[0m | \u001b[36m__main__\u001b[0m:\u001b[36mrun_pipeline_self\u001b[0m:\u001b[36m79\u001b[0m - \u001b[1m%359 - Running pipeline for row_seed: 2023 and size_of_unlabelled_data: 0.6 and model: RandomForestClassifier(max_depth=15, min_samples_split=9, n_estimators=400)\u001b[0m\n",
      "\u001b[32m2023-10-22 14:44:20.269\u001b[0m | \u001b[1mINFO    \u001b[0m | \u001b[36m__main__\u001b[0m:\u001b[36mrun_pipeline_self\u001b[0m:\u001b[36m79\u001b[0m - \u001b[1m%360 - Running pipeline for row_seed: 3202 and size_of_unlabelled_data: 0.6 and model: RandomForestClassifier(max_depth=15, min_samples_split=9, n_estimators=400)\u001b[0m\n",
      "\u001b[32m2023-10-22 14:44:28.311\u001b[0m | \u001b[1mINFO    \u001b[0m | \u001b[36m__main__\u001b[0m:\u001b[36mrun_pipeline_self\u001b[0m:\u001b[36m75\u001b[0m - \u001b[1mModel: RandomForestClassifier(max_depth=15, min_samples_split=9, n_estimators=400)\u001b[0m\n",
      "\u001b[32m2023-10-22 14:44:28.311\u001b[0m | \u001b[1mINFO    \u001b[0m | \u001b[36m__main__\u001b[0m:\u001b[36mrun_pipeline_self\u001b[0m:\u001b[36m76\u001b[0m - \u001b[1mSize of unlabelled data: 0.7\u001b[0m\n",
      "\u001b[32m2023-10-22 14:44:28.312\u001b[0m | \u001b[1mINFO    \u001b[0m | \u001b[36m__main__\u001b[0m:\u001b[36mrun_pipeline_self\u001b[0m:\u001b[36m79\u001b[0m - \u001b[1m%361 - Running pipeline for row_seed: 24 and size_of_unlabelled_data: 0.7 and model: RandomForestClassifier(max_depth=15, min_samples_split=9, n_estimators=400)\u001b[0m\n"
     ]
    },
    {
     "name": "stdout",
     "output_type": "stream",
     "text": [
      "\n",
      "\n"
     ]
    },
    {
     "name": "stderr",
     "output_type": "stream",
     "text": [
      "\u001b[32m2023-10-22 14:44:39.325\u001b[0m | \u001b[1mINFO    \u001b[0m | \u001b[36m__main__\u001b[0m:\u001b[36mrun_pipeline_self\u001b[0m:\u001b[36m79\u001b[0m - \u001b[1m%362 - Running pipeline for row_seed: 42 and size_of_unlabelled_data: 0.7 and model: RandomForestClassifier(max_depth=15, min_samples_split=9, n_estimators=400)\u001b[0m\n",
      "\u001b[32m2023-10-22 14:44:49.913\u001b[0m | \u001b[1mINFO    \u001b[0m | \u001b[36m__main__\u001b[0m:\u001b[36mrun_pipeline_self\u001b[0m:\u001b[36m79\u001b[0m - \u001b[1m%363 - Running pipeline for row_seed: 206 and size_of_unlabelled_data: 0.7 and model: RandomForestClassifier(max_depth=15, min_samples_split=9, n_estimators=400)\u001b[0m\n",
      "\u001b[32m2023-10-22 14:45:00.090\u001b[0m | \u001b[1mINFO    \u001b[0m | \u001b[36m__main__\u001b[0m:\u001b[36mrun_pipeline_self\u001b[0m:\u001b[36m79\u001b[0m - \u001b[1m%364 - Running pipeline for row_seed: 602 and size_of_unlabelled_data: 0.7 and model: RandomForestClassifier(max_depth=15, min_samples_split=9, n_estimators=400)\u001b[0m\n",
      "\u001b[32m2023-10-22 14:45:09.281\u001b[0m | \u001b[1mINFO    \u001b[0m | \u001b[36m__main__\u001b[0m:\u001b[36mrun_pipeline_self\u001b[0m:\u001b[36m79\u001b[0m - \u001b[1m%365 - Running pipeline for row_seed: 412 and size_of_unlabelled_data: 0.7 and model: RandomForestClassifier(max_depth=15, min_samples_split=9, n_estimators=400)\u001b[0m\n",
      "\u001b[32m2023-10-22 14:45:21.083\u001b[0m | \u001b[1mINFO    \u001b[0m | \u001b[36m__main__\u001b[0m:\u001b[36mrun_pipeline_self\u001b[0m:\u001b[36m79\u001b[0m - \u001b[1m%366 - Running pipeline for row_seed: 214 and size_of_unlabelled_data: 0.7 and model: RandomForestClassifier(max_depth=15, min_samples_split=9, n_estimators=400)\u001b[0m\n",
      "\u001b[32m2023-10-22 14:45:31.751\u001b[0m | \u001b[1mINFO    \u001b[0m | \u001b[36m__main__\u001b[0m:\u001b[36mrun_pipeline_self\u001b[0m:\u001b[36m79\u001b[0m - \u001b[1m%367 - Running pipeline for row_seed: 754 and size_of_unlabelled_data: 0.7 and model: RandomForestClassifier(max_depth=15, min_samples_split=9, n_estimators=400)\u001b[0m\n",
      "\u001b[32m2023-10-22 14:45:42.236\u001b[0m | \u001b[1mINFO    \u001b[0m | \u001b[36m__main__\u001b[0m:\u001b[36mrun_pipeline_self\u001b[0m:\u001b[36m79\u001b[0m - \u001b[1m%368 - Running pipeline for row_seed: 457 and size_of_unlabelled_data: 0.7 and model: RandomForestClassifier(max_depth=15, min_samples_split=9, n_estimators=400)\u001b[0m\n",
      "\u001b[32m2023-10-22 14:45:51.841\u001b[0m | \u001b[1mINFO    \u001b[0m | \u001b[36m__main__\u001b[0m:\u001b[36mrun_pipeline_self\u001b[0m:\u001b[36m79\u001b[0m - \u001b[1m%369 - Running pipeline for row_seed: 2023 and size_of_unlabelled_data: 0.7 and model: RandomForestClassifier(max_depth=15, min_samples_split=9, n_estimators=400)\u001b[0m\n",
      "\u001b[32m2023-10-22 14:46:02.904\u001b[0m | \u001b[1mINFO    \u001b[0m | \u001b[36m__main__\u001b[0m:\u001b[36mrun_pipeline_self\u001b[0m:\u001b[36m79\u001b[0m - \u001b[1m%370 - Running pipeline for row_seed: 3202 and size_of_unlabelled_data: 0.7 and model: RandomForestClassifier(max_depth=15, min_samples_split=9, n_estimators=400)\u001b[0m\n",
      "\u001b[32m2023-10-22 14:46:11.863\u001b[0m | \u001b[1mINFO    \u001b[0m | \u001b[36m__main__\u001b[0m:\u001b[36mrun_pipeline_self\u001b[0m:\u001b[36m75\u001b[0m - \u001b[1mModel: RandomForestClassifier(max_depth=15, min_samples_split=9, n_estimators=400)\u001b[0m\n",
      "\u001b[32m2023-10-22 14:46:11.864\u001b[0m | \u001b[1mINFO    \u001b[0m | \u001b[36m__main__\u001b[0m:\u001b[36mrun_pipeline_self\u001b[0m:\u001b[36m76\u001b[0m - \u001b[1mSize of unlabelled data: 0.8\u001b[0m\n",
      "\u001b[32m2023-10-22 14:46:11.864\u001b[0m | \u001b[1mINFO    \u001b[0m | \u001b[36m__main__\u001b[0m:\u001b[36mrun_pipeline_self\u001b[0m:\u001b[36m79\u001b[0m - \u001b[1m%371 - Running pipeline for row_seed: 24 and size_of_unlabelled_data: 0.8 and model: RandomForestClassifier(max_depth=15, min_samples_split=9, n_estimators=400)\u001b[0m\n"
     ]
    },
    {
     "name": "stdout",
     "output_type": "stream",
     "text": [
      "\n",
      "\n"
     ]
    },
    {
     "name": "stderr",
     "output_type": "stream",
     "text": [
      "\u001b[32m2023-10-22 14:46:21.705\u001b[0m | \u001b[1mINFO    \u001b[0m | \u001b[36m__main__\u001b[0m:\u001b[36mrun_pipeline_self\u001b[0m:\u001b[36m79\u001b[0m - \u001b[1m%372 - Running pipeline for row_seed: 42 and size_of_unlabelled_data: 0.8 and model: RandomForestClassifier(max_depth=15, min_samples_split=9, n_estimators=400)\u001b[0m\n",
      "\u001b[32m2023-10-22 14:46:32.876\u001b[0m | \u001b[1mINFO    \u001b[0m | \u001b[36m__main__\u001b[0m:\u001b[36mrun_pipeline_self\u001b[0m:\u001b[36m79\u001b[0m - \u001b[1m%373 - Running pipeline for row_seed: 206 and size_of_unlabelled_data: 0.8 and model: RandomForestClassifier(max_depth=15, min_samples_split=9, n_estimators=400)\u001b[0m\n",
      "\u001b[32m2023-10-22 14:46:43.064\u001b[0m | \u001b[1mINFO    \u001b[0m | \u001b[36m__main__\u001b[0m:\u001b[36mrun_pipeline_self\u001b[0m:\u001b[36m79\u001b[0m - \u001b[1m%374 - Running pipeline for row_seed: 602 and size_of_unlabelled_data: 0.8 and model: RandomForestClassifier(max_depth=15, min_samples_split=9, n_estimators=400)\u001b[0m\n",
      "\u001b[32m2023-10-22 14:46:53.008\u001b[0m | \u001b[1mINFO    \u001b[0m | \u001b[36m__main__\u001b[0m:\u001b[36mrun_pipeline_self\u001b[0m:\u001b[36m79\u001b[0m - \u001b[1m%375 - Running pipeline for row_seed: 412 and size_of_unlabelled_data: 0.8 and model: RandomForestClassifier(max_depth=15, min_samples_split=9, n_estimators=400)\u001b[0m\n",
      "\u001b[32m2023-10-22 14:47:05.435\u001b[0m | \u001b[1mINFO    \u001b[0m | \u001b[36m__main__\u001b[0m:\u001b[36mrun_pipeline_self\u001b[0m:\u001b[36m79\u001b[0m - \u001b[1m%376 - Running pipeline for row_seed: 214 and size_of_unlabelled_data: 0.8 and model: RandomForestClassifier(max_depth=15, min_samples_split=9, n_estimators=400)\u001b[0m\n",
      "\u001b[32m2023-10-22 14:47:16.499\u001b[0m | \u001b[1mINFO    \u001b[0m | \u001b[36m__main__\u001b[0m:\u001b[36mrun_pipeline_self\u001b[0m:\u001b[36m79\u001b[0m - \u001b[1m%377 - Running pipeline for row_seed: 754 and size_of_unlabelled_data: 0.8 and model: RandomForestClassifier(max_depth=15, min_samples_split=9, n_estimators=400)\u001b[0m\n",
      "\u001b[32m2023-10-22 14:47:26.168\u001b[0m | \u001b[1mINFO    \u001b[0m | \u001b[36m__main__\u001b[0m:\u001b[36mrun_pipeline_self\u001b[0m:\u001b[36m79\u001b[0m - \u001b[1m%378 - Running pipeline for row_seed: 457 and size_of_unlabelled_data: 0.8 and model: RandomForestClassifier(max_depth=15, min_samples_split=9, n_estimators=400)\u001b[0m\n",
      "\u001b[32m2023-10-22 14:47:36.573\u001b[0m | \u001b[1mINFO    \u001b[0m | \u001b[36m__main__\u001b[0m:\u001b[36mrun_pipeline_self\u001b[0m:\u001b[36m79\u001b[0m - \u001b[1m%379 - Running pipeline for row_seed: 2023 and size_of_unlabelled_data: 0.8 and model: RandomForestClassifier(max_depth=15, min_samples_split=9, n_estimators=400)\u001b[0m\n",
      "\u001b[32m2023-10-22 14:47:48.749\u001b[0m | \u001b[1mINFO    \u001b[0m | \u001b[36m__main__\u001b[0m:\u001b[36mrun_pipeline_self\u001b[0m:\u001b[36m79\u001b[0m - \u001b[1m%380 - Running pipeline for row_seed: 3202 and size_of_unlabelled_data: 0.8 and model: RandomForestClassifier(max_depth=15, min_samples_split=9, n_estimators=400)\u001b[0m\n",
      "\u001b[32m2023-10-22 14:47:57.132\u001b[0m | \u001b[1mINFO    \u001b[0m | \u001b[36m__main__\u001b[0m:\u001b[36mrun_pipeline_self\u001b[0m:\u001b[36m75\u001b[0m - \u001b[1mModel: RandomForestClassifier(max_depth=15, min_samples_split=9, n_estimators=400)\u001b[0m\n",
      "\u001b[32m2023-10-22 14:47:57.132\u001b[0m | \u001b[1mINFO    \u001b[0m | \u001b[36m__main__\u001b[0m:\u001b[36mrun_pipeline_self\u001b[0m:\u001b[36m76\u001b[0m - \u001b[1mSize of unlabelled data: 0.85\u001b[0m\n",
      "\u001b[32m2023-10-22 14:47:57.133\u001b[0m | \u001b[1mINFO    \u001b[0m | \u001b[36m__main__\u001b[0m:\u001b[36mrun_pipeline_self\u001b[0m:\u001b[36m79\u001b[0m - \u001b[1m%381 - Running pipeline for row_seed: 24 and size_of_unlabelled_data: 0.85 and model: RandomForestClassifier(max_depth=15, min_samples_split=9, n_estimators=400)\u001b[0m\n"
     ]
    },
    {
     "name": "stdout",
     "output_type": "stream",
     "text": [
      "\n",
      "\n"
     ]
    },
    {
     "name": "stderr",
     "output_type": "stream",
     "text": [
      "\u001b[32m2023-10-22 14:48:05.864\u001b[0m | \u001b[1mINFO    \u001b[0m | \u001b[36m__main__\u001b[0m:\u001b[36mrun_pipeline_self\u001b[0m:\u001b[36m79\u001b[0m - \u001b[1m%382 - Running pipeline for row_seed: 42 and size_of_unlabelled_data: 0.85 and model: RandomForestClassifier(max_depth=15, min_samples_split=9, n_estimators=400)\u001b[0m\n",
      "\u001b[32m2023-10-22 14:48:16.390\u001b[0m | \u001b[1mINFO    \u001b[0m | \u001b[36m__main__\u001b[0m:\u001b[36mrun_pipeline_self\u001b[0m:\u001b[36m79\u001b[0m - \u001b[1m%383 - Running pipeline for row_seed: 206 and size_of_unlabelled_data: 0.85 and model: RandomForestClassifier(max_depth=15, min_samples_split=9, n_estimators=400)\u001b[0m\n",
      "\u001b[32m2023-10-22 14:48:28.563\u001b[0m | \u001b[1mINFO    \u001b[0m | \u001b[36m__main__\u001b[0m:\u001b[36mrun_pipeline_self\u001b[0m:\u001b[36m79\u001b[0m - \u001b[1m%384 - Running pipeline for row_seed: 602 and size_of_unlabelled_data: 0.85 and model: RandomForestClassifier(max_depth=15, min_samples_split=9, n_estimators=400)\u001b[0m\n",
      "\u001b[32m2023-10-22 14:48:38.138\u001b[0m | \u001b[1mINFO    \u001b[0m | \u001b[36m__main__\u001b[0m:\u001b[36mrun_pipeline_self\u001b[0m:\u001b[36m79\u001b[0m - \u001b[1m%385 - Running pipeline for row_seed: 412 and size_of_unlabelled_data: 0.85 and model: RandomForestClassifier(max_depth=15, min_samples_split=9, n_estimators=400)\u001b[0m\n",
      "\u001b[32m2023-10-22 14:48:49.183\u001b[0m | \u001b[1mINFO    \u001b[0m | \u001b[36m__main__\u001b[0m:\u001b[36mrun_pipeline_self\u001b[0m:\u001b[36m79\u001b[0m - \u001b[1m%386 - Running pipeline for row_seed: 214 and size_of_unlabelled_data: 0.85 and model: RandomForestClassifier(max_depth=15, min_samples_split=9, n_estimators=400)\u001b[0m\n",
      "\u001b[32m2023-10-22 14:48:59.914\u001b[0m | \u001b[1mINFO    \u001b[0m | \u001b[36m__main__\u001b[0m:\u001b[36mrun_pipeline_self\u001b[0m:\u001b[36m79\u001b[0m - \u001b[1m%387 - Running pipeline for row_seed: 754 and size_of_unlabelled_data: 0.85 and model: RandomForestClassifier(max_depth=15, min_samples_split=9, n_estimators=400)\u001b[0m\n",
      "\u001b[32m2023-10-22 14:49:09.665\u001b[0m | \u001b[1mINFO    \u001b[0m | \u001b[36m__main__\u001b[0m:\u001b[36mrun_pipeline_self\u001b[0m:\u001b[36m79\u001b[0m - \u001b[1m%388 - Running pipeline for row_seed: 457 and size_of_unlabelled_data: 0.85 and model: RandomForestClassifier(max_depth=15, min_samples_split=9, n_estimators=400)\u001b[0m\n",
      "\u001b[32m2023-10-22 14:49:20.160\u001b[0m | \u001b[1mINFO    \u001b[0m | \u001b[36m__main__\u001b[0m:\u001b[36mrun_pipeline_self\u001b[0m:\u001b[36m79\u001b[0m - \u001b[1m%389 - Running pipeline for row_seed: 2023 and size_of_unlabelled_data: 0.85 and model: RandomForestClassifier(max_depth=15, min_samples_split=9, n_estimators=400)\u001b[0m\n",
      "\u001b[32m2023-10-22 14:49:32.799\u001b[0m | \u001b[1mINFO    \u001b[0m | \u001b[36m__main__\u001b[0m:\u001b[36mrun_pipeline_self\u001b[0m:\u001b[36m79\u001b[0m - \u001b[1m%390 - Running pipeline for row_seed: 3202 and size_of_unlabelled_data: 0.85 and model: RandomForestClassifier(max_depth=15, min_samples_split=9, n_estimators=400)\u001b[0m\n",
      "\u001b[32m2023-10-22 14:49:42.792\u001b[0m | \u001b[1mINFO    \u001b[0m | \u001b[36m__main__\u001b[0m:\u001b[36mrun_pipeline_self\u001b[0m:\u001b[36m75\u001b[0m - \u001b[1mModel: RandomForestClassifier(max_depth=15, min_samples_split=9, n_estimators=400)\u001b[0m\n",
      "\u001b[32m2023-10-22 14:49:42.793\u001b[0m | \u001b[1mINFO    \u001b[0m | \u001b[36m__main__\u001b[0m:\u001b[36mrun_pipeline_self\u001b[0m:\u001b[36m76\u001b[0m - \u001b[1mSize of unlabelled data: 0.9\u001b[0m\n",
      "\u001b[32m2023-10-22 14:49:42.794\u001b[0m | \u001b[1mINFO    \u001b[0m | \u001b[36m__main__\u001b[0m:\u001b[36mrun_pipeline_self\u001b[0m:\u001b[36m79\u001b[0m - \u001b[1m%391 - Running pipeline for row_seed: 24 and size_of_unlabelled_data: 0.9 and model: RandomForestClassifier(max_depth=15, min_samples_split=9, n_estimators=400)\u001b[0m\n"
     ]
    },
    {
     "name": "stdout",
     "output_type": "stream",
     "text": [
      "\n",
      "\n"
     ]
    },
    {
     "name": "stderr",
     "output_type": "stream",
     "text": [
      "\u001b[32m2023-10-22 14:49:53.671\u001b[0m | \u001b[1mINFO    \u001b[0m | \u001b[36m__main__\u001b[0m:\u001b[36mrun_pipeline_self\u001b[0m:\u001b[36m79\u001b[0m - \u001b[1m%392 - Running pipeline for row_seed: 42 and size_of_unlabelled_data: 0.9 and model: RandomForestClassifier(max_depth=15, min_samples_split=9, n_estimators=400)\u001b[0m\n",
      "\u001b[32m2023-10-22 14:50:04.030\u001b[0m | \u001b[1mINFO    \u001b[0m | \u001b[36m__main__\u001b[0m:\u001b[36mrun_pipeline_self\u001b[0m:\u001b[36m79\u001b[0m - \u001b[1m%393 - Running pipeline for row_seed: 206 and size_of_unlabelled_data: 0.9 and model: RandomForestClassifier(max_depth=15, min_samples_split=9, n_estimators=400)\u001b[0m\n",
      "\u001b[32m2023-10-22 14:50:13.293\u001b[0m | \u001b[1mINFO    \u001b[0m | \u001b[36m__main__\u001b[0m:\u001b[36mrun_pipeline_self\u001b[0m:\u001b[36m79\u001b[0m - \u001b[1m%394 - Running pipeline for row_seed: 602 and size_of_unlabelled_data: 0.9 and model: RandomForestClassifier(max_depth=15, min_samples_split=9, n_estimators=400)\u001b[0m\n",
      "\u001b[32m2023-10-22 14:50:22.300\u001b[0m | \u001b[1mINFO    \u001b[0m | \u001b[36m__main__\u001b[0m:\u001b[36mrun_pipeline_self\u001b[0m:\u001b[36m79\u001b[0m - \u001b[1m%395 - Running pipeline for row_seed: 412 and size_of_unlabelled_data: 0.9 and model: RandomForestClassifier(max_depth=15, min_samples_split=9, n_estimators=400)\u001b[0m\n",
      "\u001b[32m2023-10-22 14:50:31.531\u001b[0m | \u001b[1mINFO    \u001b[0m | \u001b[36m__main__\u001b[0m:\u001b[36mrun_pipeline_self\u001b[0m:\u001b[36m79\u001b[0m - \u001b[1m%396 - Running pipeline for row_seed: 214 and size_of_unlabelled_data: 0.9 and model: RandomForestClassifier(max_depth=15, min_samples_split=9, n_estimators=400)\u001b[0m\n",
      "\u001b[32m2023-10-22 14:50:40.946\u001b[0m | \u001b[1mINFO    \u001b[0m | \u001b[36m__main__\u001b[0m:\u001b[36mrun_pipeline_self\u001b[0m:\u001b[36m79\u001b[0m - \u001b[1m%397 - Running pipeline for row_seed: 754 and size_of_unlabelled_data: 0.9 and model: RandomForestClassifier(max_depth=15, min_samples_split=9, n_estimators=400)\u001b[0m\n",
      "\u001b[32m2023-10-22 14:50:51.217\u001b[0m | \u001b[1mINFO    \u001b[0m | \u001b[36m__main__\u001b[0m:\u001b[36mrun_pipeline_self\u001b[0m:\u001b[36m79\u001b[0m - \u001b[1m%398 - Running pipeline for row_seed: 457 and size_of_unlabelled_data: 0.9 and model: RandomForestClassifier(max_depth=15, min_samples_split=9, n_estimators=400)\u001b[0m\n",
      "\u001b[32m2023-10-22 14:51:00.132\u001b[0m | \u001b[1mINFO    \u001b[0m | \u001b[36m__main__\u001b[0m:\u001b[36mrun_pipeline_self\u001b[0m:\u001b[36m79\u001b[0m - \u001b[1m%399 - Running pipeline for row_seed: 2023 and size_of_unlabelled_data: 0.9 and model: RandomForestClassifier(max_depth=15, min_samples_split=9, n_estimators=400)\u001b[0m\n",
      "\u001b[32m2023-10-22 14:51:12.107\u001b[0m | \u001b[1mINFO    \u001b[0m | \u001b[36m__main__\u001b[0m:\u001b[36mrun_pipeline_self\u001b[0m:\u001b[36m79\u001b[0m - \u001b[1m%400 - Running pipeline for row_seed: 3202 and size_of_unlabelled_data: 0.9 and model: RandomForestClassifier(max_depth=15, min_samples_split=9, n_estimators=400)\u001b[0m\n"
     ]
    },
    {
     "name": "stdout",
     "output_type": "stream",
     "text": [
      "\n",
      "\n"
     ]
    }
   ],
   "source": [
    "results_df = run_pipeline_self(X_train, X_test, y_train, y_test)"
   ]
  },
  {
   "cell_type": "code",
   "execution_count": 8,
   "metadata": {},
   "outputs": [
    {
     "data": {
      "text/plain": [
       "Index(['model', 'unlabeled', 'acc_mean', 'acc_std', 'f1_mean', 'f1_std',\n",
       "       'precision_mean', 'precision_std', 'recall_mean', 'recall_std',\n",
       "       'roc_mean', 'roc_std'],\n",
       "      dtype='object')"
      ]
     },
     "execution_count": 8,
     "metadata": {},
     "output_type": "execute_result"
    }
   ],
   "source": [
    "# mean and standard deviation for all metrics\n",
    "results_df_with_mean_std = results_df.groupby(['model', 'unlabeled']).agg({'acc': ['mean', 'std'], 'f1': ['mean', 'std'], 'precision': ['mean', 'std'], 'recall': ['mean', 'std'], 'roc': ['mean', 'std']})\n",
    "results_df_with_mean_std = results_df_with_mean_std.reset_index(level=1)\n",
    "results_df_with_mean_std.columns = [\"_\".join(col) for col in results_df_with_mean_std.columns.values]\n",
    "results_df_with_mean_std.rename(columns={'unlabeled_': 'unlabeled'}, inplace=True)\n",
    "results_df_with_mean_std.reset_index(inplace=True)\n",
    "results_df_with_mean_std.columns"
   ]
  },
  {
   "cell_type": "code",
   "execution_count": 9,
   "metadata": {},
   "outputs": [
    {
     "name": "stdout",
     "output_type": "stream",
     "text": [
      "+------------------------+-------------+------------+-------------+------------+------------+------------------+-----------------+---------------+--------------+------------+-------------+\n",
      "| model                  |   unlabeled |   acc_mean |     acc_std |    f1_mean |     f1_std |   precision_mean |   precision_std |   recall_mean |   recall_std |   roc_mean |     roc_std |\n",
      "|------------------------+-------------+------------+-------------+------------+------------+------------------+-----------------+---------------+--------------+------------+-------------|\n",
      "| DecisionTreeClassifier |        0.1  |   0.623573 | 0.0190078   | 0.473598   | 0.0603724  |         0.592388 |       0.0432474 |   0.404651    |   0.0858507  |   0.595616 | 0.020058    |\n",
      "| DecisionTreeClassifier |        0.2  |   0.616873 | 0.0183541   | 0.465505   | 0.0421481  |         0.579696 |       0.0374585 |   0.395349    |   0.0679125  |   0.588584 | 0.016758    |\n",
      "| DecisionTreeClassifier |        0.3  |   0.613151 | 0.0176801   | 0.459167   | 0.0480957  |         0.571978 |       0.0315903 |   0.389535    |   0.0679125  |   0.584594 | 0.0183476   |\n",
      "| DecisionTreeClassifier |        0.4  |   0.61737  | 0.0168621   | 0.479452   | 0.0481584  |         0.575039 |       0.0344576 |   0.418605    |   0.0755068  |   0.591986 | 0.0177695   |\n",
      "| DecisionTreeClassifier |        0.5  |   0.609429 | 0.0300101   | 0.466156   | 0.0323453  |         0.565673 |       0.0571935 |   0.400581    |   0.0458979  |   0.582758 | 0.0263869   |\n",
      "| DecisionTreeClassifier |        0.6  |   0.608933 | 0.0177091   | 0.461146   | 0.0591163  |         0.558803 |       0.0256492 |   0.398256    |   0.0777733  |   0.582028 | 0.022767    |\n",
      "| DecisionTreeClassifier |        0.7  |   0.600248 | 0.0259051   | 0.457979   | 0.0743337  |         0.547982 |       0.0401664 |   0.40814     |   0.112162   |   0.575715 | 0.0277322   |\n",
      "| DecisionTreeClassifier |        0.8  |   0.583623 | 0.0331224   | 0.465337   | 0.095034   |         0.512614 |       0.0479122 |   0.441279    |   0.130277   |   0.565445 | 0.0379547   |\n",
      "| DecisionTreeClassifier |        0.85 |   0.565757 | 0.0253863   | 0.358854   | 0.113139   |         0.479105 |       0.0613947 |   0.303488    |   0.134848   |   0.532264 | 0.033324    |\n",
      "| DecisionTreeClassifier |        0.9  |   0.566749 | 0.0243463   | 0.397156   | 0.0755312  |         0.492607 |       0.045226  |   0.34593     |   0.107667   |   0.53855  | 0.0246055   |\n",
      "| GaussianNB             |        0.1  |   0.621836 | 0.00575435  | 0.352477   | 0.0148779  |         0.654337 |       0.0147069 |   0.241279    |   0.0123333  |   0.573237 | 0.00650525  |\n",
      "| GaussianNB             |        0.2  |   0.621092 | 0.00510548  | 0.365568   | 0.0221458  |         0.641229 |       0.0198895 |   0.256395    |   0.0230041  |   0.574518 | 0.00625065  |\n",
      "| GaussianNB             |        0.3  |   0.616873 | 0.00973065  | 0.371817   | 0.0278493  |         0.618611 |       0.0235137 |   0.266279    |   0.0255344  |   0.572101 | 0.0112551   |\n",
      "| GaussianNB             |        0.4  |   0.61737  | 0.00728626  | 0.374447   | 0.0265969  |         0.620313 |       0.0223878 |   0.269186    |   0.0274141  |   0.572905 | 0.00834576  |\n",
      "| GaussianNB             |        0.5  |   0.613896 | 0.00951739  | 0.371536   | 0.0300271  |         0.610533 |       0.0310186 |   0.268605    |   0.0324055  |   0.5698   | 0.00978584  |\n",
      "| GaussianNB             |        0.6  |   0.614392 | 0.00663768  | 0.361965   | 0.0234977  |         0.617181 |       0.023924  |   0.256977    |   0.0243292  |   0.568748 | 0.00713884  |\n",
      "| GaussianNB             |        0.7  |   0.614144 | 0.00930291  | 0.361298   | 0.0243328  |         0.617206 |       0.0304456 |   0.256395    |   0.0250368  |   0.568457 | 0.00919058  |\n",
      "| GaussianNB             |        0.8  |   0.608189 | 0.010093    | 0.336131   | 0.050344   |         0.611778 |       0.038323  |   0.235465    |   0.0489701  |   0.56059  | 0.0117266   |\n",
      "| GaussianNB             |        0.85 |   0.607692 | 0.00901913  | 0.346585   | 0.0633372  |         0.612807 |       0.0610394 |   0.249419    |   0.0647095  |   0.561939 | 0.0103582   |\n",
      "| GaussianNB             |        0.9  |   0.61067  | 0.0129967   | 0.336703   | 0.0674322  |         0.623733 |       0.0566674 |   0.236628    |   0.0637506  |   0.562903 | 0.0160774   |\n",
      "| KNeighborsClassifier   |        0.1  |   0.626551 | 0.0148538   | 0.421451   | 0.0194726  |         0.622757 |       0.0354078 |   0.318605    |   0.0139212  |   0.587224 | 0.0145272   |\n",
      "| KNeighborsClassifier   |        0.2  |   0.630521 | 0.00734704  | 0.413785   | 0.0132708  |         0.642489 |       0.0281393 |   0.305814    |   0.01649    |   0.589054 | 0.00637574  |\n",
      "| KNeighborsClassifier   |        0.3  |   0.625806 | 0.0145066   | 0.383604   | 0.0325242  |         0.649004 |       0.0486687 |   0.273837    |   0.0325962  |   0.580858 | 0.01461     |\n",
      "| KNeighborsClassifier   |        0.4  |   0.616625 | 0.0116534   | 0.319489   | 0.0340397  |         0.668057 |       0.0630797 |   0.212209    |   0.0325731  |   0.564979 | 0.0106281   |\n",
      "| KNeighborsClassifier   |        0.5  |   0.606948 | 0.00944523  | 0.239565   | 0.0517649  |         0.70242  |       0.0794841 |   0.147093    |   0.0388613  |   0.548222 | 0.0112794   |\n",
      "| KNeighborsClassifier   |        0.6  |   0.587097 | 0.00820486  | 0.102331   | 0.0501464  |         0.741706 |       0.124464  |   0.0563953   |   0.0314945  |   0.519323 | 0.010256    |\n",
      "| KNeighborsClassifier   |        0.7  |   0.577171 | 0.00291262  | 0.0261644  | 0.0149468  |         0.788333 |       0.171783  |   0.0133721   |   0.00777613 |   0.505171 | 0.00348644  |\n",
      "| KNeighborsClassifier   |        0.8  |   0.57469  | 0.00239725  | 0.0080462  | 0.0108585  |         0.45     |       0.497214  |   0.00406977  |   0.0055156  |   0.501818 | 0.00276668  |\n",
      "| KNeighborsClassifier   |        0.85 |   0.573449 | 0.000784684 | 0.00115607 | 0.00365581 |         0.1      |       0.316228  |   0.000581395 |   0.00183853 |   0.500291 | 0.000919267 |\n",
      "| KNeighborsClassifier   |        0.9  |   0.573201 | 0           | 0          | 0          |         0        |       0         |   0           |   0          |   0.5      | 0           |\n",
      "| RandomForestClassifier |        0.1  |   0.677667 | 0.00734704  | 0.521965   | 0.0169098  |         0.711446 |       0.0190357 |   0.412791    |   0.0220964  |   0.643841 | 0.00815688  |\n",
      "| RandomForestClassifier |        0.2  |   0.670471 | 0.010898    | 0.515315   | 0.0205529  |         0.693284 |       0.0287939 |   0.411047    |   0.0262952  |   0.637341 | 0.0110713   |\n",
      "| RandomForestClassifier |        0.3  |   0.660794 | 0.0170337   | 0.5037     | 0.0365854  |         0.672029 |       0.0398558 |   0.405233    |   0.0457832  |   0.628157 | 0.0183592   |\n",
      "| RandomForestClassifier |        0.4  |   0.654094 | 0.016301    | 0.49407    | 0.0453039  |         0.657011 |       0.0328445 |   0.398837    |   0.0555766  |   0.621497 | 0.0197625   |\n",
      "| RandomForestClassifier |        0.5  |   0.642928 | 0.00847152  | 0.477072   | 0.0451416  |         0.638405 |       0.0273921 |   0.386047    |   0.0630486  |   0.610123 | 0.0125502   |\n",
      "| RandomForestClassifier |        0.6  |   0.638213 | 0.0164514   | 0.44198    | 0.0582975  |         0.654692 |       0.0591439 |   0.34186     |   0.075646   |   0.600367 | 0.018654    |\n",
      "| RandomForestClassifier |        0.7  |   0.608933 | 0.0161746   | 0.389833   | 0.0919133  |         0.595327 |       0.0632577 |   0.306977    |   0.11233    |   0.570371 | 0.0208255   |\n",
      "| RandomForestClassifier |        0.8  |   0.598263 | 0.0201402   | 0.343191   | 0.115136   |         0.563288 |       0.0632356 |   0.261047    |   0.111243   |   0.555199 | 0.0264938   |\n",
      "| RandomForestClassifier |        0.85 |   0.580645 | 0.0257874   | 0.343634   | 0.102039   |         0.524696 |       0.0678013 |   0.272674    |   0.116552   |   0.541316 | 0.0252989   |\n",
      "| RandomForestClassifier |        0.9  |   0.564764 | 0.0220768   | 0.363278   | 0.0760941  |         0.482495 |       0.039712  |   0.3         |   0.0971392  |   0.530952 | 0.0258751   |\n",
      "+------------------------+-------------+------------+-------------+------------+------------+------------------+-----------------+---------------+--------------+------------+-------------+\n"
     ]
    }
   ],
   "source": [
    "# Metrics with tabulate\n",
    "from tabulate import tabulate\n",
    "\n",
    "print(tabulate(results_df_with_mean_std, headers='keys', tablefmt='psql', showindex=False))"
   ]
  }
 ],
 "metadata": {
  "kernelspec": {
   "display_name": "venv",
   "language": "python",
   "name": "python3"
  },
  "language_info": {
   "codemirror_mode": {
    "name": "ipython",
    "version": 3
   },
   "file_extension": ".py",
   "mimetype": "text/x-python",
   "name": "python",
   "nbconvert_exporter": "python",
   "pygments_lexer": "ipython3",
   "version": "3.11.0"
  },
  "orig_nbformat": 4,
  "vscode": {
   "interpreter": {
    "hash": "2b2faf7d6260e3d980efcbe3dcb6631168cb6707024a8ce61b847fb529addd2a"
   }
  }
 },
 "nbformat": 4,
 "nbformat_minor": 2
}
