{
 "cells": [
  {
   "cell_type": "code",
   "execution_count": 1,
   "metadata": {},
   "outputs": [],
   "source": [
    "##################\n",
    "# Libraries\n",
    "##################\n",
    "import pandas as pd\n",
    "import numpy as np\n",
    "import seaborn as sns\n",
    "from sklearn.preprocessing import StandardScaler, RobustScaler\n",
    "from sklearn.model_selection import train_test_split, KFold\n",
    "from sklearn.metrics import accuracy_score, f1_score, precision_score, recall_score, roc_auc_score\n",
    "from sklearn.preprocessing import LabelEncoder\n",
    "from sklearn.svm import LinearSVC, SVC\n",
    "from sklearn.semi_supervised import SelfTrainingClassifier\n",
    "from sklearn.ensemble import RandomForestClassifier\n",
    "from sklearn.naive_bayes import GaussianNB\n",
    "from sklearn.neighbors import KNeighborsClassifier\n",
    "from sklearn.tree import DecisionTreeClassifier\n",
    "from loguru import logger"
   ]
  },
  {
   "cell_type": "code",
   "execution_count": 3,
   "metadata": {},
   "outputs": [],
   "source": [
    "##################\n",
    "# Constants\n",
    "##################\n",
    "MODEL_SEED=42\n",
    "ROWS_SEED=[24, 42, 206, 602, 412, 214, 754, 457, 2023, 3202]\n",
    "SIZE_OF_UNLABELLED_DATA = [0.1, 0.2, 0.3, 0.4, 0.5, 0.6, 0.7, 0.8, 0.85, 0.9]\n",
    "MODELS = [\n",
    "    GaussianNB(var_smoothing=0.8111308307896871),\n",
    "    DecisionTreeClassifier(criterion='gini', max_depth=15, min_samples_leaf=1, min_samples_split=2),\n",
    "    KNeighborsClassifier(metric='manhattan', n_neighbors=15, weights='distance'),\n",
    "    RandomForestClassifier(criterion='gini', max_depth=15, min_samples_leaf=1, min_samples_split=3, n_estimators=200),\n",
    "]"
   ]
  },
  {
   "cell_type": "code",
   "execution_count": 4,
   "metadata": {},
   "outputs": [],
   "source": [
    "##################\n",
    "# Functions\n",
    "##################\n",
    "def encode_dataframe(df: pd.DataFrame) -> pd.DataFrame:\n",
    "    \"\"\"Encode dataframe using LabelEncoder\"\"\"\n",
    "    labelencoder = LabelEncoder()\n",
    "\n",
    "    for col in df.columns:\n",
    "        df[col] = labelencoder.fit_transform(df[col])\n",
    "\n",
    "    return df\n",
    "\n",
    "def get_metrics() -> dict:\n",
    "    metrics = {\n",
    "        'accuracy': accuracy_score,\n",
    "        'precision': precision_score,\n",
    "        'recall': recall_score,\n",
    "        'f1': f1_score,\n",
    "        'roc': roc_auc_score\n",
    "    }\n",
    "    return metrics\n",
    "\n",
    "\n",
    "def get_metrics_df(y_true, y_pred) -> pd.DataFrame:\n",
    "    metrics = get_metrics()\n",
    "    df = pd.DataFrame()\n",
    "    for metric_name, metric in metrics.items():\n",
    "        df[metric_name] = [metric(y_true, y_pred)]\n",
    "\n",
    "    return df\n",
    "\n",
    "def run_pipeline(X_train, X_test, y_train, y_test, size_of_unlabelled_data=0.5, model=None, rows_seed=42) -> dict:\n",
    "    if model is None:\n",
    "        raise ValueError(\"Model is None\")\n",
    "    \n",
    "    X_train = X_train.copy()\n",
    "    X_test = X_test.copy()\n",
    "    y_train = y_train.copy()\n",
    "    y_test = y_test.copy()\n",
    "\n",
    "    # Unlabelled data\n",
    "    rng = np.random.RandomState(rows_seed)\n",
    "    random_rows_with_rng = rng.choice(X_train.index, size=int(len(X_train)*size_of_unlabelled_data), replace=False)\n",
    "    y_train.loc[random_rows_with_rng] = -1\n",
    "\n",
    "    # Scale data\n",
    "    scaler = RobustScaler()\n",
    "    X_train = scaler.fit_transform(X_train)\n",
    "    X_test = scaler.transform(X_test)\n",
    "\n",
    "\n",
    "    self_training_model = SelfTrainingClassifier(model, verbose=False)\n",
    "    self_training_model.fit(X_train, y_train)\n",
    "\n",
    "    # Predict\n",
    "    y_pred = self_training_model.predict(X_test)\n",
    "\n",
    "    # Evaluate - Get Metrics\n",
    "    metrics = get_metrics_df(y_test, y_pred)\n",
    "    accuracy = metrics[\"accuracy\"].values[0]\n",
    "    precision = metrics[\"precision\"].values[0]\n",
    "    recall = metrics[\"recall\"].values[0]\n",
    "    f1 = metrics[\"f1\"].values[0]\n",
    "    roc = metrics[\"roc\"].values[0]\n",
    "    \n",
    "\n",
    "    return {\"rows_seed\": rows_seed, \"model\": type(model).__name__, \"unlabeled\": size_of_unlabelled_data, \"acc\": accuracy, \"precision\": precision, \"recall\": recall, \"f1\": f1, \"roc\": roc}\n",
    "\n",
    "def run_pipeline_self(X_train, X_test, y_train, y_test) -> pd.DataFrame:\n",
    "    run_counter = 0\n",
    "    results = []\n",
    "\n",
    "    for model in MODELS:\n",
    "        for value in SIZE_OF_UNLABELLED_DATA:\n",
    "            logger.info(f'Model: {model}')\n",
    "            logger.info(f'Size of unlabelled data: {value}')\n",
    "            for row_seed in ROWS_SEED:\n",
    "                run_counter += 1\n",
    "                logger.info(f\"%{run_counter} - Running pipeline for row_seed: {row_seed} and size_of_unlabelled_data: {value} and model: {model}\")\n",
    "                result = run_pipeline(X_train=X_train, X_test=X_test, y_train=y_train, y_test=y_test, size_of_unlabelled_data=value, model=model, rows_seed=row_seed)\n",
    "                results.append(result)\n",
    "            print('\\n')\n",
    "\n",
    "    results_rows_seed = []\n",
    "    results_models = []\n",
    "    results_unlabeled = []\n",
    "    results_acc = []\n",
    "    results_precision = []\n",
    "    results_recall = []\n",
    "    results_f1 = []\n",
    "    results_roc = []\n",
    "\n",
    "    for result in results:\n",
    "        results_rows_seed.append(result.get('rows_seed'))\n",
    "        results_models.append(result.get('model'))\n",
    "        results_unlabeled.append(result.get('unlabeled'))\n",
    "        results_acc.append(result.get('acc'))\n",
    "        results_precision.append(result.get('precision'))\n",
    "        results_recall.append(result.get('recall'))\n",
    "        results_f1.append(result.get('f1'))\n",
    "        results_roc.append(result.get('roc'))\n",
    "\n",
    "\n",
    "    results_df = pd.DataFrame({'rows_seed': results_rows_seed, 'model': results_models, 'unlabeled': results_unlabeled, 'acc': results_acc, 'precision': results_precision, 'recall': results_recall, 'f1': results_f1, 'roc': results_roc})\n",
    "\n",
    "    return results_df\n",
    "\n",
    "    "
   ]
  },
  {
   "cell_type": "code",
   "execution_count": 7,
   "metadata": {},
   "outputs": [],
   "source": [
    "df = pd.read_csv('../../datasets/Hotel Reservations.csv')\n",
    "df.set_index('Booking_ID', inplace=True)\n",
    "\n",
    "\n",
    "labelencoder = LabelEncoder()\n",
    "\n",
    "df['type_of_meal_plan'] = labelencoder.fit_transform(df['type_of_meal_plan'])\n",
    "df['room_type_reserved'] = labelencoder.fit_transform(df['room_type_reserved'])\n",
    "df['market_segment_type'] = labelencoder.fit_transform(df['market_segment_type'])\n",
    "df['booking_status'] = labelencoder.fit_transform(df['booking_status'])\n",
    "\n",
    "\n",
    "X = df.drop('booking_status', axis=1)\n",
    "y = df['booking_status']\n",
    "\n",
    "X_train, X_test, y_train, y_test = train_test_split(X, y, test_size=0.2, random_state=MODEL_SEED)"
   ]
  },
  {
   "cell_type": "code",
   "execution_count": 8,
   "metadata": {},
   "outputs": [
    {
     "name": "stderr",
     "output_type": "stream",
     "text": [
      "\u001b[32m2023-10-22 11:01:35.120\u001b[0m | \u001b[1mINFO    \u001b[0m | \u001b[36m__main__\u001b[0m:\u001b[36mrun_pipeline_self\u001b[0m:\u001b[36m75\u001b[0m - \u001b[1mModel: GaussianNB(var_smoothing=0.8111308307896871)\u001b[0m\n",
      "\u001b[32m2023-10-22 11:01:35.121\u001b[0m | \u001b[1mINFO    \u001b[0m | \u001b[36m__main__\u001b[0m:\u001b[36mrun_pipeline_self\u001b[0m:\u001b[36m76\u001b[0m - \u001b[1mSize of unlabelled data: 0.1\u001b[0m\n",
      "\u001b[32m2023-10-22 11:01:35.121\u001b[0m | \u001b[1mINFO    \u001b[0m | \u001b[36m__main__\u001b[0m:\u001b[36mrun_pipeline_self\u001b[0m:\u001b[36m79\u001b[0m - \u001b[1m%1 - Running pipeline for row_seed: 24 and size_of_unlabelled_data: 0.1 and model: GaussianNB(var_smoothing=0.8111308307896871)\u001b[0m\n",
      "\u001b[32m2023-10-22 11:01:35.185\u001b[0m | \u001b[1mINFO    \u001b[0m | \u001b[36m__main__\u001b[0m:\u001b[36mrun_pipeline_self\u001b[0m:\u001b[36m79\u001b[0m - \u001b[1m%2 - Running pipeline for row_seed: 42 and size_of_unlabelled_data: 0.1 and model: GaussianNB(var_smoothing=0.8111308307896871)\u001b[0m\n",
      "\u001b[32m2023-10-22 11:01:35.235\u001b[0m | \u001b[1mINFO    \u001b[0m | \u001b[36m__main__\u001b[0m:\u001b[36mrun_pipeline_self\u001b[0m:\u001b[36m79\u001b[0m - \u001b[1m%3 - Running pipeline for row_seed: 206 and size_of_unlabelled_data: 0.1 and model: GaussianNB(var_smoothing=0.8111308307896871)\u001b[0m\n",
      "\u001b[32m2023-10-22 11:01:35.285\u001b[0m | \u001b[1mINFO    \u001b[0m | \u001b[36m__main__\u001b[0m:\u001b[36mrun_pipeline_self\u001b[0m:\u001b[36m79\u001b[0m - \u001b[1m%4 - Running pipeline for row_seed: 602 and size_of_unlabelled_data: 0.1 and model: GaussianNB(var_smoothing=0.8111308307896871)\u001b[0m\n",
      "\u001b[32m2023-10-22 11:01:35.338\u001b[0m | \u001b[1mINFO    \u001b[0m | \u001b[36m__main__\u001b[0m:\u001b[36mrun_pipeline_self\u001b[0m:\u001b[36m79\u001b[0m - \u001b[1m%5 - Running pipeline for row_seed: 412 and size_of_unlabelled_data: 0.1 and model: GaussianNB(var_smoothing=0.8111308307896871)\u001b[0m\n",
      "\u001b[32m2023-10-22 11:01:35.387\u001b[0m | \u001b[1mINFO    \u001b[0m | \u001b[36m__main__\u001b[0m:\u001b[36mrun_pipeline_self\u001b[0m:\u001b[36m79\u001b[0m - \u001b[1m%6 - Running pipeline for row_seed: 214 and size_of_unlabelled_data: 0.1 and model: GaussianNB(var_smoothing=0.8111308307896871)\u001b[0m\n",
      "\u001b[32m2023-10-22 11:01:35.434\u001b[0m | \u001b[1mINFO    \u001b[0m | \u001b[36m__main__\u001b[0m:\u001b[36mrun_pipeline_self\u001b[0m:\u001b[36m79\u001b[0m - \u001b[1m%7 - Running pipeline for row_seed: 754 and size_of_unlabelled_data: 0.1 and model: GaussianNB(var_smoothing=0.8111308307896871)\u001b[0m\n",
      "\u001b[32m2023-10-22 11:01:35.481\u001b[0m | \u001b[1mINFO    \u001b[0m | \u001b[36m__main__\u001b[0m:\u001b[36mrun_pipeline_self\u001b[0m:\u001b[36m79\u001b[0m - \u001b[1m%8 - Running pipeline for row_seed: 457 and size_of_unlabelled_data: 0.1 and model: GaussianNB(var_smoothing=0.8111308307896871)\u001b[0m\n",
      "\u001b[32m2023-10-22 11:01:35.527\u001b[0m | \u001b[1mINFO    \u001b[0m | \u001b[36m__main__\u001b[0m:\u001b[36mrun_pipeline_self\u001b[0m:\u001b[36m79\u001b[0m - \u001b[1m%9 - Running pipeline for row_seed: 2023 and size_of_unlabelled_data: 0.1 and model: GaussianNB(var_smoothing=0.8111308307896871)\u001b[0m\n",
      "\u001b[32m2023-10-22 11:01:35.573\u001b[0m | \u001b[1mINFO    \u001b[0m | \u001b[36m__main__\u001b[0m:\u001b[36mrun_pipeline_self\u001b[0m:\u001b[36m79\u001b[0m - \u001b[1m%10 - Running pipeline for row_seed: 3202 and size_of_unlabelled_data: 0.1 and model: GaussianNB(var_smoothing=0.8111308307896871)\u001b[0m\n",
      "\u001b[32m2023-10-22 11:01:35.620\u001b[0m | \u001b[1mINFO    \u001b[0m | \u001b[36m__main__\u001b[0m:\u001b[36mrun_pipeline_self\u001b[0m:\u001b[36m75\u001b[0m - \u001b[1mModel: GaussianNB(var_smoothing=0.8111308307896871)\u001b[0m\n",
      "\u001b[32m2023-10-22 11:01:35.621\u001b[0m | \u001b[1mINFO    \u001b[0m | \u001b[36m__main__\u001b[0m:\u001b[36mrun_pipeline_self\u001b[0m:\u001b[36m76\u001b[0m - \u001b[1mSize of unlabelled data: 0.2\u001b[0m\n",
      "\u001b[32m2023-10-22 11:01:35.621\u001b[0m | \u001b[1mINFO    \u001b[0m | \u001b[36m__main__\u001b[0m:\u001b[36mrun_pipeline_self\u001b[0m:\u001b[36m79\u001b[0m - \u001b[1m%11 - Running pipeline for row_seed: 24 and size_of_unlabelled_data: 0.2 and model: GaussianNB(var_smoothing=0.8111308307896871)\u001b[0m\n",
      "\u001b[32m2023-10-22 11:01:35.671\u001b[0m | \u001b[1mINFO    \u001b[0m | \u001b[36m__main__\u001b[0m:\u001b[36mrun_pipeline_self\u001b[0m:\u001b[36m79\u001b[0m - \u001b[1m%12 - Running pipeline for row_seed: 42 and size_of_unlabelled_data: 0.2 and model: GaussianNB(var_smoothing=0.8111308307896871)\u001b[0m\n",
      "\u001b[32m2023-10-22 11:01:35.717\u001b[0m | \u001b[1mINFO    \u001b[0m | \u001b[36m__main__\u001b[0m:\u001b[36mrun_pipeline_self\u001b[0m:\u001b[36m79\u001b[0m - \u001b[1m%13 - Running pipeline for row_seed: 206 and size_of_unlabelled_data: 0.2 and model: GaussianNB(var_smoothing=0.8111308307896871)\u001b[0m\n",
      "\u001b[32m2023-10-22 11:01:35.770\u001b[0m | \u001b[1mINFO    \u001b[0m | \u001b[36m__main__\u001b[0m:\u001b[36mrun_pipeline_self\u001b[0m:\u001b[36m79\u001b[0m - \u001b[1m%14 - Running pipeline for row_seed: 602 and size_of_unlabelled_data: 0.2 and model: GaussianNB(var_smoothing=0.8111308307896871)\u001b[0m\n",
      "\u001b[32m2023-10-22 11:01:35.818\u001b[0m | \u001b[1mINFO    \u001b[0m | \u001b[36m__main__\u001b[0m:\u001b[36mrun_pipeline_self\u001b[0m:\u001b[36m79\u001b[0m - \u001b[1m%15 - Running pipeline for row_seed: 412 and size_of_unlabelled_data: 0.2 and model: GaussianNB(var_smoothing=0.8111308307896871)\u001b[0m\n"
     ]
    },
    {
     "name": "stdout",
     "output_type": "stream",
     "text": [
      "\n",
      "\n"
     ]
    },
    {
     "name": "stderr",
     "output_type": "stream",
     "text": [
      "\u001b[32m2023-10-22 11:01:35.869\u001b[0m | \u001b[1mINFO    \u001b[0m | \u001b[36m__main__\u001b[0m:\u001b[36mrun_pipeline_self\u001b[0m:\u001b[36m79\u001b[0m - \u001b[1m%16 - Running pipeline for row_seed: 214 and size_of_unlabelled_data: 0.2 and model: GaussianNB(var_smoothing=0.8111308307896871)\u001b[0m\n",
      "\u001b[32m2023-10-22 11:01:35.917\u001b[0m | \u001b[1mINFO    \u001b[0m | \u001b[36m__main__\u001b[0m:\u001b[36mrun_pipeline_self\u001b[0m:\u001b[36m79\u001b[0m - \u001b[1m%17 - Running pipeline for row_seed: 754 and size_of_unlabelled_data: 0.2 and model: GaussianNB(var_smoothing=0.8111308307896871)\u001b[0m\n",
      "\u001b[32m2023-10-22 11:01:35.964\u001b[0m | \u001b[1mINFO    \u001b[0m | \u001b[36m__main__\u001b[0m:\u001b[36mrun_pipeline_self\u001b[0m:\u001b[36m79\u001b[0m - \u001b[1m%18 - Running pipeline for row_seed: 457 and size_of_unlabelled_data: 0.2 and model: GaussianNB(var_smoothing=0.8111308307896871)\u001b[0m\n",
      "\u001b[32m2023-10-22 11:01:36.009\u001b[0m | \u001b[1mINFO    \u001b[0m | \u001b[36m__main__\u001b[0m:\u001b[36mrun_pipeline_self\u001b[0m:\u001b[36m79\u001b[0m - \u001b[1m%19 - Running pipeline for row_seed: 2023 and size_of_unlabelled_data: 0.2 and model: GaussianNB(var_smoothing=0.8111308307896871)\u001b[0m\n",
      "\u001b[32m2023-10-22 11:01:36.056\u001b[0m | \u001b[1mINFO    \u001b[0m | \u001b[36m__main__\u001b[0m:\u001b[36mrun_pipeline_self\u001b[0m:\u001b[36m79\u001b[0m - \u001b[1m%20 - Running pipeline for row_seed: 3202 and size_of_unlabelled_data: 0.2 and model: GaussianNB(var_smoothing=0.8111308307896871)\u001b[0m\n",
      "\u001b[32m2023-10-22 11:01:36.101\u001b[0m | \u001b[1mINFO    \u001b[0m | \u001b[36m__main__\u001b[0m:\u001b[36mrun_pipeline_self\u001b[0m:\u001b[36m75\u001b[0m - \u001b[1mModel: GaussianNB(var_smoothing=0.8111308307896871)\u001b[0m\n",
      "\u001b[32m2023-10-22 11:01:36.102\u001b[0m | \u001b[1mINFO    \u001b[0m | \u001b[36m__main__\u001b[0m:\u001b[36mrun_pipeline_self\u001b[0m:\u001b[36m76\u001b[0m - \u001b[1mSize of unlabelled data: 0.3\u001b[0m\n",
      "\u001b[32m2023-10-22 11:01:36.102\u001b[0m | \u001b[1mINFO    \u001b[0m | \u001b[36m__main__\u001b[0m:\u001b[36mrun_pipeline_self\u001b[0m:\u001b[36m79\u001b[0m - \u001b[1m%21 - Running pipeline for row_seed: 24 and size_of_unlabelled_data: 0.3 and model: GaussianNB(var_smoothing=0.8111308307896871)\u001b[0m\n",
      "\u001b[32m2023-10-22 11:01:36.148\u001b[0m | \u001b[1mINFO    \u001b[0m | \u001b[36m__main__\u001b[0m:\u001b[36mrun_pipeline_self\u001b[0m:\u001b[36m79\u001b[0m - \u001b[1m%22 - Running pipeline for row_seed: 42 and size_of_unlabelled_data: 0.3 and model: GaussianNB(var_smoothing=0.8111308307896871)\u001b[0m\n",
      "\u001b[32m2023-10-22 11:01:36.191\u001b[0m | \u001b[1mINFO    \u001b[0m | \u001b[36m__main__\u001b[0m:\u001b[36mrun_pipeline_self\u001b[0m:\u001b[36m79\u001b[0m - \u001b[1m%23 - Running pipeline for row_seed: 206 and size_of_unlabelled_data: 0.3 and model: GaussianNB(var_smoothing=0.8111308307896871)\u001b[0m\n",
      "\u001b[32m2023-10-22 11:01:36.240\u001b[0m | \u001b[1mINFO    \u001b[0m | \u001b[36m__main__\u001b[0m:\u001b[36mrun_pipeline_self\u001b[0m:\u001b[36m79\u001b[0m - \u001b[1m%24 - Running pipeline for row_seed: 602 and size_of_unlabelled_data: 0.3 and model: GaussianNB(var_smoothing=0.8111308307896871)\u001b[0m\n",
      "\u001b[32m2023-10-22 11:01:36.286\u001b[0m | \u001b[1mINFO    \u001b[0m | \u001b[36m__main__\u001b[0m:\u001b[36mrun_pipeline_self\u001b[0m:\u001b[36m79\u001b[0m - \u001b[1m%25 - Running pipeline for row_seed: 412 and size_of_unlabelled_data: 0.3 and model: GaussianNB(var_smoothing=0.8111308307896871)\u001b[0m\n"
     ]
    },
    {
     "name": "stdout",
     "output_type": "stream",
     "text": [
      "\n",
      "\n"
     ]
    },
    {
     "name": "stderr",
     "output_type": "stream",
     "text": [
      "\u001b[32m2023-10-22 11:01:36.334\u001b[0m | \u001b[1mINFO    \u001b[0m | \u001b[36m__main__\u001b[0m:\u001b[36mrun_pipeline_self\u001b[0m:\u001b[36m79\u001b[0m - \u001b[1m%26 - Running pipeline for row_seed: 214 and size_of_unlabelled_data: 0.3 and model: GaussianNB(var_smoothing=0.8111308307896871)\u001b[0m\n",
      "\u001b[32m2023-10-22 11:01:36.390\u001b[0m | \u001b[1mINFO    \u001b[0m | \u001b[36m__main__\u001b[0m:\u001b[36mrun_pipeline_self\u001b[0m:\u001b[36m79\u001b[0m - \u001b[1m%27 - Running pipeline for row_seed: 754 and size_of_unlabelled_data: 0.3 and model: GaussianNB(var_smoothing=0.8111308307896871)\u001b[0m\n",
      "\u001b[32m2023-10-22 11:01:36.443\u001b[0m | \u001b[1mINFO    \u001b[0m | \u001b[36m__main__\u001b[0m:\u001b[36mrun_pipeline_self\u001b[0m:\u001b[36m79\u001b[0m - \u001b[1m%28 - Running pipeline for row_seed: 457 and size_of_unlabelled_data: 0.3 and model: GaussianNB(var_smoothing=0.8111308307896871)\u001b[0m\n",
      "\u001b[32m2023-10-22 11:01:36.494\u001b[0m | \u001b[1mINFO    \u001b[0m | \u001b[36m__main__\u001b[0m:\u001b[36mrun_pipeline_self\u001b[0m:\u001b[36m79\u001b[0m - \u001b[1m%29 - Running pipeline for row_seed: 2023 and size_of_unlabelled_data: 0.3 and model: GaussianNB(var_smoothing=0.8111308307896871)\u001b[0m\n",
      "\u001b[32m2023-10-22 11:01:36.543\u001b[0m | \u001b[1mINFO    \u001b[0m | \u001b[36m__main__\u001b[0m:\u001b[36mrun_pipeline_self\u001b[0m:\u001b[36m79\u001b[0m - \u001b[1m%30 - Running pipeline for row_seed: 3202 and size_of_unlabelled_data: 0.3 and model: GaussianNB(var_smoothing=0.8111308307896871)\u001b[0m\n",
      "\u001b[32m2023-10-22 11:01:36.588\u001b[0m | \u001b[1mINFO    \u001b[0m | \u001b[36m__main__\u001b[0m:\u001b[36mrun_pipeline_self\u001b[0m:\u001b[36m75\u001b[0m - \u001b[1mModel: GaussianNB(var_smoothing=0.8111308307896871)\u001b[0m\n",
      "\u001b[32m2023-10-22 11:01:36.588\u001b[0m | \u001b[1mINFO    \u001b[0m | \u001b[36m__main__\u001b[0m:\u001b[36mrun_pipeline_self\u001b[0m:\u001b[36m76\u001b[0m - \u001b[1mSize of unlabelled data: 0.4\u001b[0m\n",
      "\u001b[32m2023-10-22 11:01:36.589\u001b[0m | \u001b[1mINFO    \u001b[0m | \u001b[36m__main__\u001b[0m:\u001b[36mrun_pipeline_self\u001b[0m:\u001b[36m79\u001b[0m - \u001b[1m%31 - Running pipeline for row_seed: 24 and size_of_unlabelled_data: 0.4 and model: GaussianNB(var_smoothing=0.8111308307896871)\u001b[0m\n",
      "\u001b[32m2023-10-22 11:01:36.639\u001b[0m | \u001b[1mINFO    \u001b[0m | \u001b[36m__main__\u001b[0m:\u001b[36mrun_pipeline_self\u001b[0m:\u001b[36m79\u001b[0m - \u001b[1m%32 - Running pipeline for row_seed: 42 and size_of_unlabelled_data: 0.4 and model: GaussianNB(var_smoothing=0.8111308307896871)\u001b[0m\n",
      "\u001b[32m2023-10-22 11:01:36.687\u001b[0m | \u001b[1mINFO    \u001b[0m | \u001b[36m__main__\u001b[0m:\u001b[36mrun_pipeline_self\u001b[0m:\u001b[36m79\u001b[0m - \u001b[1m%33 - Running pipeline for row_seed: 206 and size_of_unlabelled_data: 0.4 and model: GaussianNB(var_smoothing=0.8111308307896871)\u001b[0m\n",
      "\u001b[32m2023-10-22 11:01:36.733\u001b[0m | \u001b[1mINFO    \u001b[0m | \u001b[36m__main__\u001b[0m:\u001b[36mrun_pipeline_self\u001b[0m:\u001b[36m79\u001b[0m - \u001b[1m%34 - Running pipeline for row_seed: 602 and size_of_unlabelled_data: 0.4 and model: GaussianNB(var_smoothing=0.8111308307896871)\u001b[0m\n",
      "\u001b[32m2023-10-22 11:01:36.778\u001b[0m | \u001b[1mINFO    \u001b[0m | \u001b[36m__main__\u001b[0m:\u001b[36mrun_pipeline_self\u001b[0m:\u001b[36m79\u001b[0m - \u001b[1m%35 - Running pipeline for row_seed: 412 and size_of_unlabelled_data: 0.4 and model: GaussianNB(var_smoothing=0.8111308307896871)\u001b[0m\n"
     ]
    },
    {
     "name": "stdout",
     "output_type": "stream",
     "text": [
      "\n",
      "\n"
     ]
    },
    {
     "name": "stderr",
     "output_type": "stream",
     "text": [
      "\u001b[32m2023-10-22 11:01:36.829\u001b[0m | \u001b[1mINFO    \u001b[0m | \u001b[36m__main__\u001b[0m:\u001b[36mrun_pipeline_self\u001b[0m:\u001b[36m79\u001b[0m - \u001b[1m%36 - Running pipeline for row_seed: 214 and size_of_unlabelled_data: 0.4 and model: GaussianNB(var_smoothing=0.8111308307896871)\u001b[0m\n",
      "\u001b[32m2023-10-22 11:01:36.881\u001b[0m | \u001b[1mINFO    \u001b[0m | \u001b[36m__main__\u001b[0m:\u001b[36mrun_pipeline_self\u001b[0m:\u001b[36m79\u001b[0m - \u001b[1m%37 - Running pipeline for row_seed: 754 and size_of_unlabelled_data: 0.4 and model: GaussianNB(var_smoothing=0.8111308307896871)\u001b[0m\n",
      "\u001b[32m2023-10-22 11:01:36.926\u001b[0m | \u001b[1mINFO    \u001b[0m | \u001b[36m__main__\u001b[0m:\u001b[36mrun_pipeline_self\u001b[0m:\u001b[36m79\u001b[0m - \u001b[1m%38 - Running pipeline for row_seed: 457 and size_of_unlabelled_data: 0.4 and model: GaussianNB(var_smoothing=0.8111308307896871)\u001b[0m\n",
      "\u001b[32m2023-10-22 11:01:36.970\u001b[0m | \u001b[1mINFO    \u001b[0m | \u001b[36m__main__\u001b[0m:\u001b[36mrun_pipeline_self\u001b[0m:\u001b[36m79\u001b[0m - \u001b[1m%39 - Running pipeline for row_seed: 2023 and size_of_unlabelled_data: 0.4 and model: GaussianNB(var_smoothing=0.8111308307896871)\u001b[0m\n",
      "\u001b[32m2023-10-22 11:01:37.015\u001b[0m | \u001b[1mINFO    \u001b[0m | \u001b[36m__main__\u001b[0m:\u001b[36mrun_pipeline_self\u001b[0m:\u001b[36m79\u001b[0m - \u001b[1m%40 - Running pipeline for row_seed: 3202 and size_of_unlabelled_data: 0.4 and model: GaussianNB(var_smoothing=0.8111308307896871)\u001b[0m\n",
      "\u001b[32m2023-10-22 11:01:37.060\u001b[0m | \u001b[1mINFO    \u001b[0m | \u001b[36m__main__\u001b[0m:\u001b[36mrun_pipeline_self\u001b[0m:\u001b[36m75\u001b[0m - \u001b[1mModel: GaussianNB(var_smoothing=0.8111308307896871)\u001b[0m\n",
      "\u001b[32m2023-10-22 11:01:37.060\u001b[0m | \u001b[1mINFO    \u001b[0m | \u001b[36m__main__\u001b[0m:\u001b[36mrun_pipeline_self\u001b[0m:\u001b[36m76\u001b[0m - \u001b[1mSize of unlabelled data: 0.5\u001b[0m\n",
      "\u001b[32m2023-10-22 11:01:37.061\u001b[0m | \u001b[1mINFO    \u001b[0m | \u001b[36m__main__\u001b[0m:\u001b[36mrun_pipeline_self\u001b[0m:\u001b[36m79\u001b[0m - \u001b[1m%41 - Running pipeline for row_seed: 24 and size_of_unlabelled_data: 0.5 and model: GaussianNB(var_smoothing=0.8111308307896871)\u001b[0m\n",
      "\u001b[32m2023-10-22 11:01:37.107\u001b[0m | \u001b[1mINFO    \u001b[0m | \u001b[36m__main__\u001b[0m:\u001b[36mrun_pipeline_self\u001b[0m:\u001b[36m79\u001b[0m - \u001b[1m%42 - Running pipeline for row_seed: 42 and size_of_unlabelled_data: 0.5 and model: GaussianNB(var_smoothing=0.8111308307896871)\u001b[0m\n",
      "\u001b[32m2023-10-22 11:01:37.151\u001b[0m | \u001b[1mINFO    \u001b[0m | \u001b[36m__main__\u001b[0m:\u001b[36mrun_pipeline_self\u001b[0m:\u001b[36m79\u001b[0m - \u001b[1m%43 - Running pipeline for row_seed: 206 and size_of_unlabelled_data: 0.5 and model: GaussianNB(var_smoothing=0.8111308307896871)\u001b[0m\n",
      "\u001b[32m2023-10-22 11:01:37.197\u001b[0m | \u001b[1mINFO    \u001b[0m | \u001b[36m__main__\u001b[0m:\u001b[36mrun_pipeline_self\u001b[0m:\u001b[36m79\u001b[0m - \u001b[1m%44 - Running pipeline for row_seed: 602 and size_of_unlabelled_data: 0.5 and model: GaussianNB(var_smoothing=0.8111308307896871)\u001b[0m\n",
      "\u001b[32m2023-10-22 11:01:37.248\u001b[0m | \u001b[1mINFO    \u001b[0m | \u001b[36m__main__\u001b[0m:\u001b[36mrun_pipeline_self\u001b[0m:\u001b[36m79\u001b[0m - \u001b[1m%45 - Running pipeline for row_seed: 412 and size_of_unlabelled_data: 0.5 and model: GaussianNB(var_smoothing=0.8111308307896871)\u001b[0m\n"
     ]
    },
    {
     "name": "stdout",
     "output_type": "stream",
     "text": [
      "\n",
      "\n"
     ]
    },
    {
     "name": "stderr",
     "output_type": "stream",
     "text": [
      "\u001b[32m2023-10-22 11:01:37.298\u001b[0m | \u001b[1mINFO    \u001b[0m | \u001b[36m__main__\u001b[0m:\u001b[36mrun_pipeline_self\u001b[0m:\u001b[36m79\u001b[0m - \u001b[1m%46 - Running pipeline for row_seed: 214 and size_of_unlabelled_data: 0.5 and model: GaussianNB(var_smoothing=0.8111308307896871)\u001b[0m\n",
      "\u001b[32m2023-10-22 11:01:37.346\u001b[0m | \u001b[1mINFO    \u001b[0m | \u001b[36m__main__\u001b[0m:\u001b[36mrun_pipeline_self\u001b[0m:\u001b[36m79\u001b[0m - \u001b[1m%47 - Running pipeline for row_seed: 754 and size_of_unlabelled_data: 0.5 and model: GaussianNB(var_smoothing=0.8111308307896871)\u001b[0m\n",
      "\u001b[32m2023-10-22 11:01:37.402\u001b[0m | \u001b[1mINFO    \u001b[0m | \u001b[36m__main__\u001b[0m:\u001b[36mrun_pipeline_self\u001b[0m:\u001b[36m79\u001b[0m - \u001b[1m%48 - Running pipeline for row_seed: 457 and size_of_unlabelled_data: 0.5 and model: GaussianNB(var_smoothing=0.8111308307896871)\u001b[0m\n",
      "\u001b[32m2023-10-22 11:01:37.446\u001b[0m | \u001b[1mINFO    \u001b[0m | \u001b[36m__main__\u001b[0m:\u001b[36mrun_pipeline_self\u001b[0m:\u001b[36m79\u001b[0m - \u001b[1m%49 - Running pipeline for row_seed: 2023 and size_of_unlabelled_data: 0.5 and model: GaussianNB(var_smoothing=0.8111308307896871)\u001b[0m\n",
      "\u001b[32m2023-10-22 11:01:37.488\u001b[0m | \u001b[1mINFO    \u001b[0m | \u001b[36m__main__\u001b[0m:\u001b[36mrun_pipeline_self\u001b[0m:\u001b[36m79\u001b[0m - \u001b[1m%50 - Running pipeline for row_seed: 3202 and size_of_unlabelled_data: 0.5 and model: GaussianNB(var_smoothing=0.8111308307896871)\u001b[0m\n",
      "\u001b[32m2023-10-22 11:01:37.532\u001b[0m | \u001b[1mINFO    \u001b[0m | \u001b[36m__main__\u001b[0m:\u001b[36mrun_pipeline_self\u001b[0m:\u001b[36m75\u001b[0m - \u001b[1mModel: GaussianNB(var_smoothing=0.8111308307896871)\u001b[0m\n",
      "\u001b[32m2023-10-22 11:01:37.533\u001b[0m | \u001b[1mINFO    \u001b[0m | \u001b[36m__main__\u001b[0m:\u001b[36mrun_pipeline_self\u001b[0m:\u001b[36m76\u001b[0m - \u001b[1mSize of unlabelled data: 0.6\u001b[0m\n",
      "\u001b[32m2023-10-22 11:01:37.533\u001b[0m | \u001b[1mINFO    \u001b[0m | \u001b[36m__main__\u001b[0m:\u001b[36mrun_pipeline_self\u001b[0m:\u001b[36m79\u001b[0m - \u001b[1m%51 - Running pipeline for row_seed: 24 and size_of_unlabelled_data: 0.6 and model: GaussianNB(var_smoothing=0.8111308307896871)\u001b[0m\n",
      "\u001b[32m2023-10-22 11:01:37.577\u001b[0m | \u001b[1mINFO    \u001b[0m | \u001b[36m__main__\u001b[0m:\u001b[36mrun_pipeline_self\u001b[0m:\u001b[36m79\u001b[0m - \u001b[1m%52 - Running pipeline for row_seed: 42 and size_of_unlabelled_data: 0.6 and model: GaussianNB(var_smoothing=0.8111308307896871)\u001b[0m\n",
      "\u001b[32m2023-10-22 11:01:37.620\u001b[0m | \u001b[1mINFO    \u001b[0m | \u001b[36m__main__\u001b[0m:\u001b[36mrun_pipeline_self\u001b[0m:\u001b[36m79\u001b[0m - \u001b[1m%53 - Running pipeline for row_seed: 206 and size_of_unlabelled_data: 0.6 and model: GaussianNB(var_smoothing=0.8111308307896871)\u001b[0m\n",
      "\u001b[32m2023-10-22 11:01:37.664\u001b[0m | \u001b[1mINFO    \u001b[0m | \u001b[36m__main__\u001b[0m:\u001b[36mrun_pipeline_self\u001b[0m:\u001b[36m79\u001b[0m - \u001b[1m%54 - Running pipeline for row_seed: 602 and size_of_unlabelled_data: 0.6 and model: GaussianNB(var_smoothing=0.8111308307896871)\u001b[0m\n",
      "\u001b[32m2023-10-22 11:01:37.707\u001b[0m | \u001b[1mINFO    \u001b[0m | \u001b[36m__main__\u001b[0m:\u001b[36mrun_pipeline_self\u001b[0m:\u001b[36m79\u001b[0m - \u001b[1m%55 - Running pipeline for row_seed: 412 and size_of_unlabelled_data: 0.6 and model: GaussianNB(var_smoothing=0.8111308307896871)\u001b[0m\n"
     ]
    },
    {
     "name": "stdout",
     "output_type": "stream",
     "text": [
      "\n",
      "\n"
     ]
    },
    {
     "name": "stderr",
     "output_type": "stream",
     "text": [
      "\u001b[32m2023-10-22 11:01:37.753\u001b[0m | \u001b[1mINFO    \u001b[0m | \u001b[36m__main__\u001b[0m:\u001b[36mrun_pipeline_self\u001b[0m:\u001b[36m79\u001b[0m - \u001b[1m%56 - Running pipeline for row_seed: 214 and size_of_unlabelled_data: 0.6 and model: GaussianNB(var_smoothing=0.8111308307896871)\u001b[0m\n",
      "\u001b[32m2023-10-22 11:01:37.801\u001b[0m | \u001b[1mINFO    \u001b[0m | \u001b[36m__main__\u001b[0m:\u001b[36mrun_pipeline_self\u001b[0m:\u001b[36m79\u001b[0m - \u001b[1m%57 - Running pipeline for row_seed: 754 and size_of_unlabelled_data: 0.6 and model: GaussianNB(var_smoothing=0.8111308307896871)\u001b[0m\n",
      "\u001b[32m2023-10-22 11:01:37.845\u001b[0m | \u001b[1mINFO    \u001b[0m | \u001b[36m__main__\u001b[0m:\u001b[36mrun_pipeline_self\u001b[0m:\u001b[36m79\u001b[0m - \u001b[1m%58 - Running pipeline for row_seed: 457 and size_of_unlabelled_data: 0.6 and model: GaussianNB(var_smoothing=0.8111308307896871)\u001b[0m\n",
      "\u001b[32m2023-10-22 11:01:37.888\u001b[0m | \u001b[1mINFO    \u001b[0m | \u001b[36m__main__\u001b[0m:\u001b[36mrun_pipeline_self\u001b[0m:\u001b[36m79\u001b[0m - \u001b[1m%59 - Running pipeline for row_seed: 2023 and size_of_unlabelled_data: 0.6 and model: GaussianNB(var_smoothing=0.8111308307896871)\u001b[0m\n",
      "\u001b[32m2023-10-22 11:01:37.935\u001b[0m | \u001b[1mINFO    \u001b[0m | \u001b[36m__main__\u001b[0m:\u001b[36mrun_pipeline_self\u001b[0m:\u001b[36m79\u001b[0m - \u001b[1m%60 - Running pipeline for row_seed: 3202 and size_of_unlabelled_data: 0.6 and model: GaussianNB(var_smoothing=0.8111308307896871)\u001b[0m\n",
      "\u001b[32m2023-10-22 11:01:37.986\u001b[0m | \u001b[1mINFO    \u001b[0m | \u001b[36m__main__\u001b[0m:\u001b[36mrun_pipeline_self\u001b[0m:\u001b[36m75\u001b[0m - \u001b[1mModel: GaussianNB(var_smoothing=0.8111308307896871)\u001b[0m\n",
      "\u001b[32m2023-10-22 11:01:37.986\u001b[0m | \u001b[1mINFO    \u001b[0m | \u001b[36m__main__\u001b[0m:\u001b[36mrun_pipeline_self\u001b[0m:\u001b[36m76\u001b[0m - \u001b[1mSize of unlabelled data: 0.7\u001b[0m\n",
      "\u001b[32m2023-10-22 11:01:37.987\u001b[0m | \u001b[1mINFO    \u001b[0m | \u001b[36m__main__\u001b[0m:\u001b[36mrun_pipeline_self\u001b[0m:\u001b[36m79\u001b[0m - \u001b[1m%61 - Running pipeline for row_seed: 24 and size_of_unlabelled_data: 0.7 and model: GaussianNB(var_smoothing=0.8111308307896871)\u001b[0m\n",
      "\u001b[32m2023-10-22 11:01:38.029\u001b[0m | \u001b[1mINFO    \u001b[0m | \u001b[36m__main__\u001b[0m:\u001b[36mrun_pipeline_self\u001b[0m:\u001b[36m79\u001b[0m - \u001b[1m%62 - Running pipeline for row_seed: 42 and size_of_unlabelled_data: 0.7 and model: GaussianNB(var_smoothing=0.8111308307896871)\u001b[0m\n",
      "\u001b[32m2023-10-22 11:01:38.071\u001b[0m | \u001b[1mINFO    \u001b[0m | \u001b[36m__main__\u001b[0m:\u001b[36mrun_pipeline_self\u001b[0m:\u001b[36m79\u001b[0m - \u001b[1m%63 - Running pipeline for row_seed: 206 and size_of_unlabelled_data: 0.7 and model: GaussianNB(var_smoothing=0.8111308307896871)\u001b[0m\n",
      "\u001b[32m2023-10-22 11:01:38.114\u001b[0m | \u001b[1mINFO    \u001b[0m | \u001b[36m__main__\u001b[0m:\u001b[36mrun_pipeline_self\u001b[0m:\u001b[36m79\u001b[0m - \u001b[1m%64 - Running pipeline for row_seed: 602 and size_of_unlabelled_data: 0.7 and model: GaussianNB(var_smoothing=0.8111308307896871)\u001b[0m\n",
      "\u001b[32m2023-10-22 11:01:38.157\u001b[0m | \u001b[1mINFO    \u001b[0m | \u001b[36m__main__\u001b[0m:\u001b[36mrun_pipeline_self\u001b[0m:\u001b[36m79\u001b[0m - \u001b[1m%65 - Running pipeline for row_seed: 412 and size_of_unlabelled_data: 0.7 and model: GaussianNB(var_smoothing=0.8111308307896871)\u001b[0m\n"
     ]
    },
    {
     "name": "stdout",
     "output_type": "stream",
     "text": [
      "\n",
      "\n"
     ]
    },
    {
     "name": "stderr",
     "output_type": "stream",
     "text": [
      "\u001b[32m2023-10-22 11:01:38.204\u001b[0m | \u001b[1mINFO    \u001b[0m | \u001b[36m__main__\u001b[0m:\u001b[36mrun_pipeline_self\u001b[0m:\u001b[36m79\u001b[0m - \u001b[1m%66 - Running pipeline for row_seed: 214 and size_of_unlabelled_data: 0.7 and model: GaussianNB(var_smoothing=0.8111308307896871)\u001b[0m\n",
      "\u001b[32m2023-10-22 11:01:38.252\u001b[0m | \u001b[1mINFO    \u001b[0m | \u001b[36m__main__\u001b[0m:\u001b[36mrun_pipeline_self\u001b[0m:\u001b[36m79\u001b[0m - \u001b[1m%67 - Running pipeline for row_seed: 754 and size_of_unlabelled_data: 0.7 and model: GaussianNB(var_smoothing=0.8111308307896871)\u001b[0m\n",
      "\u001b[32m2023-10-22 11:01:38.308\u001b[0m | \u001b[1mINFO    \u001b[0m | \u001b[36m__main__\u001b[0m:\u001b[36mrun_pipeline_self\u001b[0m:\u001b[36m79\u001b[0m - \u001b[1m%68 - Running pipeline for row_seed: 457 and size_of_unlabelled_data: 0.7 and model: GaussianNB(var_smoothing=0.8111308307896871)\u001b[0m\n",
      "\u001b[32m2023-10-22 11:01:38.361\u001b[0m | \u001b[1mINFO    \u001b[0m | \u001b[36m__main__\u001b[0m:\u001b[36mrun_pipeline_self\u001b[0m:\u001b[36m79\u001b[0m - \u001b[1m%69 - Running pipeline for row_seed: 2023 and size_of_unlabelled_data: 0.7 and model: GaussianNB(var_smoothing=0.8111308307896871)\u001b[0m\n",
      "\u001b[32m2023-10-22 11:01:38.418\u001b[0m | \u001b[1mINFO    \u001b[0m | \u001b[36m__main__\u001b[0m:\u001b[36mrun_pipeline_self\u001b[0m:\u001b[36m79\u001b[0m - \u001b[1m%70 - Running pipeline for row_seed: 3202 and size_of_unlabelled_data: 0.7 and model: GaussianNB(var_smoothing=0.8111308307896871)\u001b[0m\n",
      "\u001b[32m2023-10-22 11:01:38.465\u001b[0m | \u001b[1mINFO    \u001b[0m | \u001b[36m__main__\u001b[0m:\u001b[36mrun_pipeline_self\u001b[0m:\u001b[36m75\u001b[0m - \u001b[1mModel: GaussianNB(var_smoothing=0.8111308307896871)\u001b[0m\n",
      "\u001b[32m2023-10-22 11:01:38.466\u001b[0m | \u001b[1mINFO    \u001b[0m | \u001b[36m__main__\u001b[0m:\u001b[36mrun_pipeline_self\u001b[0m:\u001b[36m76\u001b[0m - \u001b[1mSize of unlabelled data: 0.8\u001b[0m\n",
      "\u001b[32m2023-10-22 11:01:38.466\u001b[0m | \u001b[1mINFO    \u001b[0m | \u001b[36m__main__\u001b[0m:\u001b[36mrun_pipeline_self\u001b[0m:\u001b[36m79\u001b[0m - \u001b[1m%71 - Running pipeline for row_seed: 24 and size_of_unlabelled_data: 0.8 and model: GaussianNB(var_smoothing=0.8111308307896871)\u001b[0m\n",
      "\u001b[32m2023-10-22 11:01:38.511\u001b[0m | \u001b[1mINFO    \u001b[0m | \u001b[36m__main__\u001b[0m:\u001b[36mrun_pipeline_self\u001b[0m:\u001b[36m79\u001b[0m - \u001b[1m%72 - Running pipeline for row_seed: 42 and size_of_unlabelled_data: 0.8 and model: GaussianNB(var_smoothing=0.8111308307896871)\u001b[0m\n",
      "\u001b[32m2023-10-22 11:01:38.556\u001b[0m | \u001b[1mINFO    \u001b[0m | \u001b[36m__main__\u001b[0m:\u001b[36mrun_pipeline_self\u001b[0m:\u001b[36m79\u001b[0m - \u001b[1m%73 - Running pipeline for row_seed: 206 and size_of_unlabelled_data: 0.8 and model: GaussianNB(var_smoothing=0.8111308307896871)\u001b[0m\n",
      "\u001b[32m2023-10-22 11:01:38.600\u001b[0m | \u001b[1mINFO    \u001b[0m | \u001b[36m__main__\u001b[0m:\u001b[36mrun_pipeline_self\u001b[0m:\u001b[36m79\u001b[0m - \u001b[1m%74 - Running pipeline for row_seed: 602 and size_of_unlabelled_data: 0.8 and model: GaussianNB(var_smoothing=0.8111308307896871)\u001b[0m\n",
      "\u001b[32m2023-10-22 11:01:38.643\u001b[0m | \u001b[1mINFO    \u001b[0m | \u001b[36m__main__\u001b[0m:\u001b[36mrun_pipeline_self\u001b[0m:\u001b[36m79\u001b[0m - \u001b[1m%75 - Running pipeline for row_seed: 412 and size_of_unlabelled_data: 0.8 and model: GaussianNB(var_smoothing=0.8111308307896871)\u001b[0m\n"
     ]
    },
    {
     "name": "stdout",
     "output_type": "stream",
     "text": [
      "\n",
      "\n"
     ]
    },
    {
     "name": "stderr",
     "output_type": "stream",
     "text": [
      "\u001b[32m2023-10-22 11:01:38.690\u001b[0m | \u001b[1mINFO    \u001b[0m | \u001b[36m__main__\u001b[0m:\u001b[36mrun_pipeline_self\u001b[0m:\u001b[36m79\u001b[0m - \u001b[1m%76 - Running pipeline for row_seed: 214 and size_of_unlabelled_data: 0.8 and model: GaussianNB(var_smoothing=0.8111308307896871)\u001b[0m\n",
      "\u001b[32m2023-10-22 11:01:38.733\u001b[0m | \u001b[1mINFO    \u001b[0m | \u001b[36m__main__\u001b[0m:\u001b[36mrun_pipeline_self\u001b[0m:\u001b[36m79\u001b[0m - \u001b[1m%77 - Running pipeline for row_seed: 754 and size_of_unlabelled_data: 0.8 and model: GaussianNB(var_smoothing=0.8111308307896871)\u001b[0m\n",
      "\u001b[32m2023-10-22 11:01:38.776\u001b[0m | \u001b[1mINFO    \u001b[0m | \u001b[36m__main__\u001b[0m:\u001b[36mrun_pipeline_self\u001b[0m:\u001b[36m79\u001b[0m - \u001b[1m%78 - Running pipeline for row_seed: 457 and size_of_unlabelled_data: 0.8 and model: GaussianNB(var_smoothing=0.8111308307896871)\u001b[0m\n",
      "\u001b[32m2023-10-22 11:01:38.819\u001b[0m | \u001b[1mINFO    \u001b[0m | \u001b[36m__main__\u001b[0m:\u001b[36mrun_pipeline_self\u001b[0m:\u001b[36m79\u001b[0m - \u001b[1m%79 - Running pipeline for row_seed: 2023 and size_of_unlabelled_data: 0.8 and model: GaussianNB(var_smoothing=0.8111308307896871)\u001b[0m\n",
      "\u001b[32m2023-10-22 11:01:38.863\u001b[0m | \u001b[1mINFO    \u001b[0m | \u001b[36m__main__\u001b[0m:\u001b[36mrun_pipeline_self\u001b[0m:\u001b[36m79\u001b[0m - \u001b[1m%80 - Running pipeline for row_seed: 3202 and size_of_unlabelled_data: 0.8 and model: GaussianNB(var_smoothing=0.8111308307896871)\u001b[0m\n",
      "\u001b[32m2023-10-22 11:01:38.906\u001b[0m | \u001b[1mINFO    \u001b[0m | \u001b[36m__main__\u001b[0m:\u001b[36mrun_pipeline_self\u001b[0m:\u001b[36m75\u001b[0m - \u001b[1mModel: GaussianNB(var_smoothing=0.8111308307896871)\u001b[0m\n",
      "\u001b[32m2023-10-22 11:01:38.907\u001b[0m | \u001b[1mINFO    \u001b[0m | \u001b[36m__main__\u001b[0m:\u001b[36mrun_pipeline_self\u001b[0m:\u001b[36m76\u001b[0m - \u001b[1mSize of unlabelled data: 0.85\u001b[0m\n",
      "\u001b[32m2023-10-22 11:01:38.908\u001b[0m | \u001b[1mINFO    \u001b[0m | \u001b[36m__main__\u001b[0m:\u001b[36mrun_pipeline_self\u001b[0m:\u001b[36m79\u001b[0m - \u001b[1m%81 - Running pipeline for row_seed: 24 and size_of_unlabelled_data: 0.85 and model: GaussianNB(var_smoothing=0.8111308307896871)\u001b[0m\n",
      "\u001b[32m2023-10-22 11:01:38.958\u001b[0m | \u001b[1mINFO    \u001b[0m | \u001b[36m__main__\u001b[0m:\u001b[36mrun_pipeline_self\u001b[0m:\u001b[36m79\u001b[0m - \u001b[1m%82 - Running pipeline for row_seed: 42 and size_of_unlabelled_data: 0.85 and model: GaussianNB(var_smoothing=0.8111308307896871)\u001b[0m\n",
      "\u001b[32m2023-10-22 11:01:39.005\u001b[0m | \u001b[1mINFO    \u001b[0m | \u001b[36m__main__\u001b[0m:\u001b[36mrun_pipeline_self\u001b[0m:\u001b[36m79\u001b[0m - \u001b[1m%83 - Running pipeline for row_seed: 206 and size_of_unlabelled_data: 0.85 and model: GaussianNB(var_smoothing=0.8111308307896871)\u001b[0m\n",
      "\u001b[32m2023-10-22 11:01:39.052\u001b[0m | \u001b[1mINFO    \u001b[0m | \u001b[36m__main__\u001b[0m:\u001b[36mrun_pipeline_self\u001b[0m:\u001b[36m79\u001b[0m - \u001b[1m%84 - Running pipeline for row_seed: 602 and size_of_unlabelled_data: 0.85 and model: GaussianNB(var_smoothing=0.8111308307896871)\u001b[0m\n",
      "\u001b[32m2023-10-22 11:01:39.100\u001b[0m | \u001b[1mINFO    \u001b[0m | \u001b[36m__main__\u001b[0m:\u001b[36mrun_pipeline_self\u001b[0m:\u001b[36m79\u001b[0m - \u001b[1m%85 - Running pipeline for row_seed: 412 and size_of_unlabelled_data: 0.85 and model: GaussianNB(var_smoothing=0.8111308307896871)\u001b[0m\n"
     ]
    },
    {
     "name": "stdout",
     "output_type": "stream",
     "text": [
      "\n",
      "\n"
     ]
    },
    {
     "name": "stderr",
     "output_type": "stream",
     "text": [
      "\u001b[32m2023-10-22 11:01:39.151\u001b[0m | \u001b[1mINFO    \u001b[0m | \u001b[36m__main__\u001b[0m:\u001b[36mrun_pipeline_self\u001b[0m:\u001b[36m79\u001b[0m - \u001b[1m%86 - Running pipeline for row_seed: 214 and size_of_unlabelled_data: 0.85 and model: GaussianNB(var_smoothing=0.8111308307896871)\u001b[0m\n",
      "\u001b[32m2023-10-22 11:01:39.199\u001b[0m | \u001b[1mINFO    \u001b[0m | \u001b[36m__main__\u001b[0m:\u001b[36mrun_pipeline_self\u001b[0m:\u001b[36m79\u001b[0m - \u001b[1m%87 - Running pipeline for row_seed: 754 and size_of_unlabelled_data: 0.85 and model: GaussianNB(var_smoothing=0.8111308307896871)\u001b[0m\n",
      "\u001b[32m2023-10-22 11:01:39.245\u001b[0m | \u001b[1mINFO    \u001b[0m | \u001b[36m__main__\u001b[0m:\u001b[36mrun_pipeline_self\u001b[0m:\u001b[36m79\u001b[0m - \u001b[1m%88 - Running pipeline for row_seed: 457 and size_of_unlabelled_data: 0.85 and model: GaussianNB(var_smoothing=0.8111308307896871)\u001b[0m\n",
      "\u001b[32m2023-10-22 11:01:39.293\u001b[0m | \u001b[1mINFO    \u001b[0m | \u001b[36m__main__\u001b[0m:\u001b[36mrun_pipeline_self\u001b[0m:\u001b[36m79\u001b[0m - \u001b[1m%89 - Running pipeline for row_seed: 2023 and size_of_unlabelled_data: 0.85 and model: GaussianNB(var_smoothing=0.8111308307896871)\u001b[0m\n",
      "\u001b[32m2023-10-22 11:01:39.344\u001b[0m | \u001b[1mINFO    \u001b[0m | \u001b[36m__main__\u001b[0m:\u001b[36mrun_pipeline_self\u001b[0m:\u001b[36m79\u001b[0m - \u001b[1m%90 - Running pipeline for row_seed: 3202 and size_of_unlabelled_data: 0.85 and model: GaussianNB(var_smoothing=0.8111308307896871)\u001b[0m\n",
      "\u001b[32m2023-10-22 11:01:39.391\u001b[0m | \u001b[1mINFO    \u001b[0m | \u001b[36m__main__\u001b[0m:\u001b[36mrun_pipeline_self\u001b[0m:\u001b[36m75\u001b[0m - \u001b[1mModel: GaussianNB(var_smoothing=0.8111308307896871)\u001b[0m\n",
      "\u001b[32m2023-10-22 11:01:39.392\u001b[0m | \u001b[1mINFO    \u001b[0m | \u001b[36m__main__\u001b[0m:\u001b[36mrun_pipeline_self\u001b[0m:\u001b[36m76\u001b[0m - \u001b[1mSize of unlabelled data: 0.9\u001b[0m\n",
      "\u001b[32m2023-10-22 11:01:39.392\u001b[0m | \u001b[1mINFO    \u001b[0m | \u001b[36m__main__\u001b[0m:\u001b[36mrun_pipeline_self\u001b[0m:\u001b[36m79\u001b[0m - \u001b[1m%91 - Running pipeline for row_seed: 24 and size_of_unlabelled_data: 0.9 and model: GaussianNB(var_smoothing=0.8111308307896871)\u001b[0m\n",
      "\u001b[32m2023-10-22 11:01:39.445\u001b[0m | \u001b[1mINFO    \u001b[0m | \u001b[36m__main__\u001b[0m:\u001b[36mrun_pipeline_self\u001b[0m:\u001b[36m79\u001b[0m - \u001b[1m%92 - Running pipeline for row_seed: 42 and size_of_unlabelled_data: 0.9 and model: GaussianNB(var_smoothing=0.8111308307896871)\u001b[0m\n",
      "\u001b[32m2023-10-22 11:01:39.491\u001b[0m | \u001b[1mINFO    \u001b[0m | \u001b[36m__main__\u001b[0m:\u001b[36mrun_pipeline_self\u001b[0m:\u001b[36m79\u001b[0m - \u001b[1m%93 - Running pipeline for row_seed: 206 and size_of_unlabelled_data: 0.9 and model: GaussianNB(var_smoothing=0.8111308307896871)\u001b[0m\n",
      "\u001b[32m2023-10-22 11:01:39.536\u001b[0m | \u001b[1mINFO    \u001b[0m | \u001b[36m__main__\u001b[0m:\u001b[36mrun_pipeline_self\u001b[0m:\u001b[36m79\u001b[0m - \u001b[1m%94 - Running pipeline for row_seed: 602 and size_of_unlabelled_data: 0.9 and model: GaussianNB(var_smoothing=0.8111308307896871)\u001b[0m\n",
      "\u001b[32m2023-10-22 11:01:39.584\u001b[0m | \u001b[1mINFO    \u001b[0m | \u001b[36m__main__\u001b[0m:\u001b[36mrun_pipeline_self\u001b[0m:\u001b[36m79\u001b[0m - \u001b[1m%95 - Running pipeline for row_seed: 412 and size_of_unlabelled_data: 0.9 and model: GaussianNB(var_smoothing=0.8111308307896871)\u001b[0m\n"
     ]
    },
    {
     "name": "stdout",
     "output_type": "stream",
     "text": [
      "\n",
      "\n"
     ]
    },
    {
     "name": "stderr",
     "output_type": "stream",
     "text": [
      "\u001b[32m2023-10-22 11:01:39.632\u001b[0m | \u001b[1mINFO    \u001b[0m | \u001b[36m__main__\u001b[0m:\u001b[36mrun_pipeline_self\u001b[0m:\u001b[36m79\u001b[0m - \u001b[1m%96 - Running pipeline for row_seed: 214 and size_of_unlabelled_data: 0.9 and model: GaussianNB(var_smoothing=0.8111308307896871)\u001b[0m\n",
      "\u001b[32m2023-10-22 11:01:39.680\u001b[0m | \u001b[1mINFO    \u001b[0m | \u001b[36m__main__\u001b[0m:\u001b[36mrun_pipeline_self\u001b[0m:\u001b[36m79\u001b[0m - \u001b[1m%97 - Running pipeline for row_seed: 754 and size_of_unlabelled_data: 0.9 and model: GaussianNB(var_smoothing=0.8111308307896871)\u001b[0m\n",
      "\u001b[32m2023-10-22 11:01:39.727\u001b[0m | \u001b[1mINFO    \u001b[0m | \u001b[36m__main__\u001b[0m:\u001b[36mrun_pipeline_self\u001b[0m:\u001b[36m79\u001b[0m - \u001b[1m%98 - Running pipeline for row_seed: 457 and size_of_unlabelled_data: 0.9 and model: GaussianNB(var_smoothing=0.8111308307896871)\u001b[0m\n",
      "\u001b[32m2023-10-22 11:01:39.774\u001b[0m | \u001b[1mINFO    \u001b[0m | \u001b[36m__main__\u001b[0m:\u001b[36mrun_pipeline_self\u001b[0m:\u001b[36m79\u001b[0m - \u001b[1m%99 - Running pipeline for row_seed: 2023 and size_of_unlabelled_data: 0.9 and model: GaussianNB(var_smoothing=0.8111308307896871)\u001b[0m\n",
      "\u001b[32m2023-10-22 11:01:39.820\u001b[0m | \u001b[1mINFO    \u001b[0m | \u001b[36m__main__\u001b[0m:\u001b[36mrun_pipeline_self\u001b[0m:\u001b[36m79\u001b[0m - \u001b[1m%100 - Running pipeline for row_seed: 3202 and size_of_unlabelled_data: 0.9 and model: GaussianNB(var_smoothing=0.8111308307896871)\u001b[0m\n",
      "\u001b[32m2023-10-22 11:01:39.870\u001b[0m | \u001b[1mINFO    \u001b[0m | \u001b[36m__main__\u001b[0m:\u001b[36mrun_pipeline_self\u001b[0m:\u001b[36m75\u001b[0m - \u001b[1mModel: DecisionTreeClassifier(max_depth=15)\u001b[0m\n",
      "\u001b[32m2023-10-22 11:01:39.870\u001b[0m | \u001b[1mINFO    \u001b[0m | \u001b[36m__main__\u001b[0m:\u001b[36mrun_pipeline_self\u001b[0m:\u001b[36m76\u001b[0m - \u001b[1mSize of unlabelled data: 0.1\u001b[0m\n",
      "\u001b[32m2023-10-22 11:01:39.871\u001b[0m | \u001b[1mINFO    \u001b[0m | \u001b[36m__main__\u001b[0m:\u001b[36mrun_pipeline_self\u001b[0m:\u001b[36m79\u001b[0m - \u001b[1m%101 - Running pipeline for row_seed: 24 and size_of_unlabelled_data: 0.1 and model: DecisionTreeClassifier(max_depth=15)\u001b[0m\n"
     ]
    },
    {
     "name": "stdout",
     "output_type": "stream",
     "text": [
      "\n",
      "\n"
     ]
    },
    {
     "name": "stderr",
     "output_type": "stream",
     "text": [
      "\u001b[32m2023-10-22 11:01:40.298\u001b[0m | \u001b[1mINFO    \u001b[0m | \u001b[36m__main__\u001b[0m:\u001b[36mrun_pipeline_self\u001b[0m:\u001b[36m79\u001b[0m - \u001b[1m%102 - Running pipeline for row_seed: 42 and size_of_unlabelled_data: 0.1 and model: DecisionTreeClassifier(max_depth=15)\u001b[0m\n",
      "\u001b[32m2023-10-22 11:01:40.782\u001b[0m | \u001b[1mINFO    \u001b[0m | \u001b[36m__main__\u001b[0m:\u001b[36mrun_pipeline_self\u001b[0m:\u001b[36m79\u001b[0m - \u001b[1m%103 - Running pipeline for row_seed: 206 and size_of_unlabelled_data: 0.1 and model: DecisionTreeClassifier(max_depth=15)\u001b[0m\n",
      "\u001b[32m2023-10-22 11:01:41.200\u001b[0m | \u001b[1mINFO    \u001b[0m | \u001b[36m__main__\u001b[0m:\u001b[36mrun_pipeline_self\u001b[0m:\u001b[36m79\u001b[0m - \u001b[1m%104 - Running pipeline for row_seed: 602 and size_of_unlabelled_data: 0.1 and model: DecisionTreeClassifier(max_depth=15)\u001b[0m\n",
      "\u001b[32m2023-10-22 11:01:41.616\u001b[0m | \u001b[1mINFO    \u001b[0m | \u001b[36m__main__\u001b[0m:\u001b[36mrun_pipeline_self\u001b[0m:\u001b[36m79\u001b[0m - \u001b[1m%105 - Running pipeline for row_seed: 412 and size_of_unlabelled_data: 0.1 and model: DecisionTreeClassifier(max_depth=15)\u001b[0m\n",
      "\u001b[32m2023-10-22 11:01:42.097\u001b[0m | \u001b[1mINFO    \u001b[0m | \u001b[36m__main__\u001b[0m:\u001b[36mrun_pipeline_self\u001b[0m:\u001b[36m79\u001b[0m - \u001b[1m%106 - Running pipeline for row_seed: 214 and size_of_unlabelled_data: 0.1 and model: DecisionTreeClassifier(max_depth=15)\u001b[0m\n",
      "\u001b[32m2023-10-22 11:01:42.649\u001b[0m | \u001b[1mINFO    \u001b[0m | \u001b[36m__main__\u001b[0m:\u001b[36mrun_pipeline_self\u001b[0m:\u001b[36m79\u001b[0m - \u001b[1m%107 - Running pipeline for row_seed: 754 and size_of_unlabelled_data: 0.1 and model: DecisionTreeClassifier(max_depth=15)\u001b[0m\n",
      "\u001b[32m2023-10-22 11:01:43.135\u001b[0m | \u001b[1mINFO    \u001b[0m | \u001b[36m__main__\u001b[0m:\u001b[36mrun_pipeline_self\u001b[0m:\u001b[36m79\u001b[0m - \u001b[1m%108 - Running pipeline for row_seed: 457 and size_of_unlabelled_data: 0.1 and model: DecisionTreeClassifier(max_depth=15)\u001b[0m\n",
      "\u001b[32m2023-10-22 11:01:43.537\u001b[0m | \u001b[1mINFO    \u001b[0m | \u001b[36m__main__\u001b[0m:\u001b[36mrun_pipeline_self\u001b[0m:\u001b[36m79\u001b[0m - \u001b[1m%109 - Running pipeline for row_seed: 2023 and size_of_unlabelled_data: 0.1 and model: DecisionTreeClassifier(max_depth=15)\u001b[0m\n",
      "\u001b[32m2023-10-22 11:01:43.944\u001b[0m | \u001b[1mINFO    \u001b[0m | \u001b[36m__main__\u001b[0m:\u001b[36mrun_pipeline_self\u001b[0m:\u001b[36m79\u001b[0m - \u001b[1m%110 - Running pipeline for row_seed: 3202 and size_of_unlabelled_data: 0.1 and model: DecisionTreeClassifier(max_depth=15)\u001b[0m\n",
      "\u001b[32m2023-10-22 11:01:44.412\u001b[0m | \u001b[1mINFO    \u001b[0m | \u001b[36m__main__\u001b[0m:\u001b[36mrun_pipeline_self\u001b[0m:\u001b[36m75\u001b[0m - \u001b[1mModel: DecisionTreeClassifier(max_depth=15)\u001b[0m\n",
      "\u001b[32m2023-10-22 11:01:44.412\u001b[0m | \u001b[1mINFO    \u001b[0m | \u001b[36m__main__\u001b[0m:\u001b[36mrun_pipeline_self\u001b[0m:\u001b[36m76\u001b[0m - \u001b[1mSize of unlabelled data: 0.2\u001b[0m\n",
      "\u001b[32m2023-10-22 11:01:44.413\u001b[0m | \u001b[1mINFO    \u001b[0m | \u001b[36m__main__\u001b[0m:\u001b[36mrun_pipeline_self\u001b[0m:\u001b[36m79\u001b[0m - \u001b[1m%111 - Running pipeline for row_seed: 24 and size_of_unlabelled_data: 0.2 and model: DecisionTreeClassifier(max_depth=15)\u001b[0m\n"
     ]
    },
    {
     "name": "stdout",
     "output_type": "stream",
     "text": [
      "\n",
      "\n"
     ]
    },
    {
     "name": "stderr",
     "output_type": "stream",
     "text": [
      "\u001b[32m2023-10-22 11:01:44.815\u001b[0m | \u001b[1mINFO    \u001b[0m | \u001b[36m__main__\u001b[0m:\u001b[36mrun_pipeline_self\u001b[0m:\u001b[36m79\u001b[0m - \u001b[1m%112 - Running pipeline for row_seed: 42 and size_of_unlabelled_data: 0.2 and model: DecisionTreeClassifier(max_depth=15)\u001b[0m\n",
      "\u001b[32m2023-10-22 11:01:45.287\u001b[0m | \u001b[1mINFO    \u001b[0m | \u001b[36m__main__\u001b[0m:\u001b[36mrun_pipeline_self\u001b[0m:\u001b[36m79\u001b[0m - \u001b[1m%113 - Running pipeline for row_seed: 206 and size_of_unlabelled_data: 0.2 and model: DecisionTreeClassifier(max_depth=15)\u001b[0m\n",
      "\u001b[32m2023-10-22 11:01:45.886\u001b[0m | \u001b[1mINFO    \u001b[0m | \u001b[36m__main__\u001b[0m:\u001b[36mrun_pipeline_self\u001b[0m:\u001b[36m79\u001b[0m - \u001b[1m%114 - Running pipeline for row_seed: 602 and size_of_unlabelled_data: 0.2 and model: DecisionTreeClassifier(max_depth=15)\u001b[0m\n",
      "\u001b[32m2023-10-22 11:01:46.613\u001b[0m | \u001b[1mINFO    \u001b[0m | \u001b[36m__main__\u001b[0m:\u001b[36mrun_pipeline_self\u001b[0m:\u001b[36m79\u001b[0m - \u001b[1m%115 - Running pipeline for row_seed: 412 and size_of_unlabelled_data: 0.2 and model: DecisionTreeClassifier(max_depth=15)\u001b[0m\n",
      "\u001b[32m2023-10-22 11:01:47.147\u001b[0m | \u001b[1mINFO    \u001b[0m | \u001b[36m__main__\u001b[0m:\u001b[36mrun_pipeline_self\u001b[0m:\u001b[36m79\u001b[0m - \u001b[1m%116 - Running pipeline for row_seed: 214 and size_of_unlabelled_data: 0.2 and model: DecisionTreeClassifier(max_depth=15)\u001b[0m\n",
      "\u001b[32m2023-10-22 11:01:47.556\u001b[0m | \u001b[1mINFO    \u001b[0m | \u001b[36m__main__\u001b[0m:\u001b[36mrun_pipeline_self\u001b[0m:\u001b[36m79\u001b[0m - \u001b[1m%117 - Running pipeline for row_seed: 754 and size_of_unlabelled_data: 0.2 and model: DecisionTreeClassifier(max_depth=15)\u001b[0m\n",
      "\u001b[32m2023-10-22 11:01:47.953\u001b[0m | \u001b[1mINFO    \u001b[0m | \u001b[36m__main__\u001b[0m:\u001b[36mrun_pipeline_self\u001b[0m:\u001b[36m79\u001b[0m - \u001b[1m%118 - Running pipeline for row_seed: 457 and size_of_unlabelled_data: 0.2 and model: DecisionTreeClassifier(max_depth=15)\u001b[0m\n",
      "\u001b[32m2023-10-22 11:01:48.350\u001b[0m | \u001b[1mINFO    \u001b[0m | \u001b[36m__main__\u001b[0m:\u001b[36mrun_pipeline_self\u001b[0m:\u001b[36m79\u001b[0m - \u001b[1m%119 - Running pipeline for row_seed: 2023 and size_of_unlabelled_data: 0.2 and model: DecisionTreeClassifier(max_depth=15)\u001b[0m\n",
      "\u001b[32m2023-10-22 11:01:48.822\u001b[0m | \u001b[1mINFO    \u001b[0m | \u001b[36m__main__\u001b[0m:\u001b[36mrun_pipeline_self\u001b[0m:\u001b[36m79\u001b[0m - \u001b[1m%120 - Running pipeline for row_seed: 3202 and size_of_unlabelled_data: 0.2 and model: DecisionTreeClassifier(max_depth=15)\u001b[0m\n",
      "\u001b[32m2023-10-22 11:01:49.289\u001b[0m | \u001b[1mINFO    \u001b[0m | \u001b[36m__main__\u001b[0m:\u001b[36mrun_pipeline_self\u001b[0m:\u001b[36m75\u001b[0m - \u001b[1mModel: DecisionTreeClassifier(max_depth=15)\u001b[0m\n",
      "\u001b[32m2023-10-22 11:01:49.290\u001b[0m | \u001b[1mINFO    \u001b[0m | \u001b[36m__main__\u001b[0m:\u001b[36mrun_pipeline_self\u001b[0m:\u001b[36m76\u001b[0m - \u001b[1mSize of unlabelled data: 0.3\u001b[0m\n",
      "\u001b[32m2023-10-22 11:01:49.290\u001b[0m | \u001b[1mINFO    \u001b[0m | \u001b[36m__main__\u001b[0m:\u001b[36mrun_pipeline_self\u001b[0m:\u001b[36m79\u001b[0m - \u001b[1m%121 - Running pipeline for row_seed: 24 and size_of_unlabelled_data: 0.3 and model: DecisionTreeClassifier(max_depth=15)\u001b[0m\n"
     ]
    },
    {
     "name": "stdout",
     "output_type": "stream",
     "text": [
      "\n",
      "\n"
     ]
    },
    {
     "name": "stderr",
     "output_type": "stream",
     "text": [
      "\u001b[32m2023-10-22 11:01:49.684\u001b[0m | \u001b[1mINFO    \u001b[0m | \u001b[36m__main__\u001b[0m:\u001b[36mrun_pipeline_self\u001b[0m:\u001b[36m79\u001b[0m - \u001b[1m%122 - Running pipeline for row_seed: 42 and size_of_unlabelled_data: 0.3 and model: DecisionTreeClassifier(max_depth=15)\u001b[0m\n",
      "\u001b[32m2023-10-22 11:01:50.216\u001b[0m | \u001b[1mINFO    \u001b[0m | \u001b[36m__main__\u001b[0m:\u001b[36mrun_pipeline_self\u001b[0m:\u001b[36m79\u001b[0m - \u001b[1m%123 - Running pipeline for row_seed: 206 and size_of_unlabelled_data: 0.3 and model: DecisionTreeClassifier(max_depth=15)\u001b[0m\n",
      "\u001b[32m2023-10-22 11:01:50.825\u001b[0m | \u001b[1mINFO    \u001b[0m | \u001b[36m__main__\u001b[0m:\u001b[36mrun_pipeline_self\u001b[0m:\u001b[36m79\u001b[0m - \u001b[1m%124 - Running pipeline for row_seed: 602 and size_of_unlabelled_data: 0.3 and model: DecisionTreeClassifier(max_depth=15)\u001b[0m\n",
      "\u001b[32m2023-10-22 11:01:51.403\u001b[0m | \u001b[1mINFO    \u001b[0m | \u001b[36m__main__\u001b[0m:\u001b[36mrun_pipeline_self\u001b[0m:\u001b[36m79\u001b[0m - \u001b[1m%125 - Running pipeline for row_seed: 412 and size_of_unlabelled_data: 0.3 and model: DecisionTreeClassifier(max_depth=15)\u001b[0m\n",
      "\u001b[32m2023-10-22 11:01:52.023\u001b[0m | \u001b[1mINFO    \u001b[0m | \u001b[36m__main__\u001b[0m:\u001b[36mrun_pipeline_self\u001b[0m:\u001b[36m79\u001b[0m - \u001b[1m%126 - Running pipeline for row_seed: 214 and size_of_unlabelled_data: 0.3 and model: DecisionTreeClassifier(max_depth=15)\u001b[0m\n",
      "\u001b[32m2023-10-22 11:01:52.561\u001b[0m | \u001b[1mINFO    \u001b[0m | \u001b[36m__main__\u001b[0m:\u001b[36mrun_pipeline_self\u001b[0m:\u001b[36m79\u001b[0m - \u001b[1m%127 - Running pipeline for row_seed: 754 and size_of_unlabelled_data: 0.3 and model: DecisionTreeClassifier(max_depth=15)\u001b[0m\n",
      "\u001b[32m2023-10-22 11:01:53.094\u001b[0m | \u001b[1mINFO    \u001b[0m | \u001b[36m__main__\u001b[0m:\u001b[36mrun_pipeline_self\u001b[0m:\u001b[36m79\u001b[0m - \u001b[1m%128 - Running pipeline for row_seed: 457 and size_of_unlabelled_data: 0.3 and model: DecisionTreeClassifier(max_depth=15)\u001b[0m\n",
      "\u001b[32m2023-10-22 11:01:53.558\u001b[0m | \u001b[1mINFO    \u001b[0m | \u001b[36m__main__\u001b[0m:\u001b[36mrun_pipeline_self\u001b[0m:\u001b[36m79\u001b[0m - \u001b[1m%129 - Running pipeline for row_seed: 2023 and size_of_unlabelled_data: 0.3 and model: DecisionTreeClassifier(max_depth=15)\u001b[0m\n",
      "\u001b[32m2023-10-22 11:01:54.080\u001b[0m | \u001b[1mINFO    \u001b[0m | \u001b[36m__main__\u001b[0m:\u001b[36mrun_pipeline_self\u001b[0m:\u001b[36m79\u001b[0m - \u001b[1m%130 - Running pipeline for row_seed: 3202 and size_of_unlabelled_data: 0.3 and model: DecisionTreeClassifier(max_depth=15)\u001b[0m\n",
      "\u001b[32m2023-10-22 11:01:54.483\u001b[0m | \u001b[1mINFO    \u001b[0m | \u001b[36m__main__\u001b[0m:\u001b[36mrun_pipeline_self\u001b[0m:\u001b[36m75\u001b[0m - \u001b[1mModel: DecisionTreeClassifier(max_depth=15)\u001b[0m\n",
      "\u001b[32m2023-10-22 11:01:54.484\u001b[0m | \u001b[1mINFO    \u001b[0m | \u001b[36m__main__\u001b[0m:\u001b[36mrun_pipeline_self\u001b[0m:\u001b[36m76\u001b[0m - \u001b[1mSize of unlabelled data: 0.4\u001b[0m\n",
      "\u001b[32m2023-10-22 11:01:54.485\u001b[0m | \u001b[1mINFO    \u001b[0m | \u001b[36m__main__\u001b[0m:\u001b[36mrun_pipeline_self\u001b[0m:\u001b[36m79\u001b[0m - \u001b[1m%131 - Running pipeline for row_seed: 24 and size_of_unlabelled_data: 0.4 and model: DecisionTreeClassifier(max_depth=15)\u001b[0m\n"
     ]
    },
    {
     "name": "stdout",
     "output_type": "stream",
     "text": [
      "\n",
      "\n"
     ]
    },
    {
     "name": "stderr",
     "output_type": "stream",
     "text": [
      "\u001b[32m2023-10-22 11:01:54.940\u001b[0m | \u001b[1mINFO    \u001b[0m | \u001b[36m__main__\u001b[0m:\u001b[36mrun_pipeline_self\u001b[0m:\u001b[36m79\u001b[0m - \u001b[1m%132 - Running pipeline for row_seed: 42 and size_of_unlabelled_data: 0.4 and model: DecisionTreeClassifier(max_depth=15)\u001b[0m\n",
      "\u001b[32m2023-10-22 11:01:55.402\u001b[0m | \u001b[1mINFO    \u001b[0m | \u001b[36m__main__\u001b[0m:\u001b[36mrun_pipeline_self\u001b[0m:\u001b[36m79\u001b[0m - \u001b[1m%133 - Running pipeline for row_seed: 206 and size_of_unlabelled_data: 0.4 and model: DecisionTreeClassifier(max_depth=15)\u001b[0m\n",
      "\u001b[32m2023-10-22 11:01:55.928\u001b[0m | \u001b[1mINFO    \u001b[0m | \u001b[36m__main__\u001b[0m:\u001b[36mrun_pipeline_self\u001b[0m:\u001b[36m79\u001b[0m - \u001b[1m%134 - Running pipeline for row_seed: 602 and size_of_unlabelled_data: 0.4 and model: DecisionTreeClassifier(max_depth=15)\u001b[0m\n",
      "\u001b[32m2023-10-22 11:01:56.320\u001b[0m | \u001b[1mINFO    \u001b[0m | \u001b[36m__main__\u001b[0m:\u001b[36mrun_pipeline_self\u001b[0m:\u001b[36m79\u001b[0m - \u001b[1m%135 - Running pipeline for row_seed: 412 and size_of_unlabelled_data: 0.4 and model: DecisionTreeClassifier(max_depth=15)\u001b[0m\n",
      "\u001b[32m2023-10-22 11:01:56.923\u001b[0m | \u001b[1mINFO    \u001b[0m | \u001b[36m__main__\u001b[0m:\u001b[36mrun_pipeline_self\u001b[0m:\u001b[36m79\u001b[0m - \u001b[1m%136 - Running pipeline for row_seed: 214 and size_of_unlabelled_data: 0.4 and model: DecisionTreeClassifier(max_depth=15)\u001b[0m\n",
      "\u001b[32m2023-10-22 11:01:57.379\u001b[0m | \u001b[1mINFO    \u001b[0m | \u001b[36m__main__\u001b[0m:\u001b[36mrun_pipeline_self\u001b[0m:\u001b[36m79\u001b[0m - \u001b[1m%137 - Running pipeline for row_seed: 754 and size_of_unlabelled_data: 0.4 and model: DecisionTreeClassifier(max_depth=15)\u001b[0m\n",
      "\u001b[32m2023-10-22 11:01:58.106\u001b[0m | \u001b[1mINFO    \u001b[0m | \u001b[36m__main__\u001b[0m:\u001b[36mrun_pipeline_self\u001b[0m:\u001b[36m79\u001b[0m - \u001b[1m%138 - Running pipeline for row_seed: 457 and size_of_unlabelled_data: 0.4 and model: DecisionTreeClassifier(max_depth=15)\u001b[0m\n",
      "\u001b[32m2023-10-22 11:01:58.504\u001b[0m | \u001b[1mINFO    \u001b[0m | \u001b[36m__main__\u001b[0m:\u001b[36mrun_pipeline_self\u001b[0m:\u001b[36m79\u001b[0m - \u001b[1m%139 - Running pipeline for row_seed: 2023 and size_of_unlabelled_data: 0.4 and model: DecisionTreeClassifier(max_depth=15)\u001b[0m\n",
      "\u001b[32m2023-10-22 11:01:59.103\u001b[0m | \u001b[1mINFO    \u001b[0m | \u001b[36m__main__\u001b[0m:\u001b[36mrun_pipeline_self\u001b[0m:\u001b[36m79\u001b[0m - \u001b[1m%140 - Running pipeline for row_seed: 3202 and size_of_unlabelled_data: 0.4 and model: DecisionTreeClassifier(max_depth=15)\u001b[0m\n",
      "\u001b[32m2023-10-22 11:01:59.634\u001b[0m | \u001b[1mINFO    \u001b[0m | \u001b[36m__main__\u001b[0m:\u001b[36mrun_pipeline_self\u001b[0m:\u001b[36m75\u001b[0m - \u001b[1mModel: DecisionTreeClassifier(max_depth=15)\u001b[0m\n",
      "\u001b[32m2023-10-22 11:01:59.634\u001b[0m | \u001b[1mINFO    \u001b[0m | \u001b[36m__main__\u001b[0m:\u001b[36mrun_pipeline_self\u001b[0m:\u001b[36m76\u001b[0m - \u001b[1mSize of unlabelled data: 0.5\u001b[0m\n",
      "\u001b[32m2023-10-22 11:01:59.635\u001b[0m | \u001b[1mINFO    \u001b[0m | \u001b[36m__main__\u001b[0m:\u001b[36mrun_pipeline_self\u001b[0m:\u001b[36m79\u001b[0m - \u001b[1m%141 - Running pipeline for row_seed: 24 and size_of_unlabelled_data: 0.5 and model: DecisionTreeClassifier(max_depth=15)\u001b[0m\n"
     ]
    },
    {
     "name": "stdout",
     "output_type": "stream",
     "text": [
      "\n",
      "\n"
     ]
    },
    {
     "name": "stderr",
     "output_type": "stream",
     "text": [
      "\u001b[32m2023-10-22 11:02:00.274\u001b[0m | \u001b[1mINFO    \u001b[0m | \u001b[36m__main__\u001b[0m:\u001b[36mrun_pipeline_self\u001b[0m:\u001b[36m79\u001b[0m - \u001b[1m%142 - Running pipeline for row_seed: 42 and size_of_unlabelled_data: 0.5 and model: DecisionTreeClassifier(max_depth=15)\u001b[0m\n",
      "\u001b[32m2023-10-22 11:02:00.659\u001b[0m | \u001b[1mINFO    \u001b[0m | \u001b[36m__main__\u001b[0m:\u001b[36mrun_pipeline_self\u001b[0m:\u001b[36m79\u001b[0m - \u001b[1m%143 - Running pipeline for row_seed: 206 and size_of_unlabelled_data: 0.5 and model: DecisionTreeClassifier(max_depth=15)\u001b[0m\n",
      "\u001b[32m2023-10-22 11:02:01.101\u001b[0m | \u001b[1mINFO    \u001b[0m | \u001b[36m__main__\u001b[0m:\u001b[36mrun_pipeline_self\u001b[0m:\u001b[36m79\u001b[0m - \u001b[1m%144 - Running pipeline for row_seed: 602 and size_of_unlabelled_data: 0.5 and model: DecisionTreeClassifier(max_depth=15)\u001b[0m\n",
      "\u001b[32m2023-10-22 11:02:01.688\u001b[0m | \u001b[1mINFO    \u001b[0m | \u001b[36m__main__\u001b[0m:\u001b[36mrun_pipeline_self\u001b[0m:\u001b[36m79\u001b[0m - \u001b[1m%145 - Running pipeline for row_seed: 412 and size_of_unlabelled_data: 0.5 and model: DecisionTreeClassifier(max_depth=15)\u001b[0m\n",
      "\u001b[32m2023-10-22 11:02:02.337\u001b[0m | \u001b[1mINFO    \u001b[0m | \u001b[36m__main__\u001b[0m:\u001b[36mrun_pipeline_self\u001b[0m:\u001b[36m79\u001b[0m - \u001b[1m%146 - Running pipeline for row_seed: 214 and size_of_unlabelled_data: 0.5 and model: DecisionTreeClassifier(max_depth=15)\u001b[0m\n",
      "\u001b[32m2023-10-22 11:02:02.850\u001b[0m | \u001b[1mINFO    \u001b[0m | \u001b[36m__main__\u001b[0m:\u001b[36mrun_pipeline_self\u001b[0m:\u001b[36m79\u001b[0m - \u001b[1m%147 - Running pipeline for row_seed: 754 and size_of_unlabelled_data: 0.5 and model: DecisionTreeClassifier(max_depth=15)\u001b[0m\n",
      "\u001b[32m2023-10-22 11:02:03.362\u001b[0m | \u001b[1mINFO    \u001b[0m | \u001b[36m__main__\u001b[0m:\u001b[36mrun_pipeline_self\u001b[0m:\u001b[36m79\u001b[0m - \u001b[1m%148 - Running pipeline for row_seed: 457 and size_of_unlabelled_data: 0.5 and model: DecisionTreeClassifier(max_depth=15)\u001b[0m\n",
      "\u001b[32m2023-10-22 11:02:03.883\u001b[0m | \u001b[1mINFO    \u001b[0m | \u001b[36m__main__\u001b[0m:\u001b[36mrun_pipeline_self\u001b[0m:\u001b[36m79\u001b[0m - \u001b[1m%149 - Running pipeline for row_seed: 2023 and size_of_unlabelled_data: 0.5 and model: DecisionTreeClassifier(max_depth=15)\u001b[0m\n",
      "\u001b[32m2023-10-22 11:02:04.467\u001b[0m | \u001b[1mINFO    \u001b[0m | \u001b[36m__main__\u001b[0m:\u001b[36mrun_pipeline_self\u001b[0m:\u001b[36m79\u001b[0m - \u001b[1m%150 - Running pipeline for row_seed: 3202 and size_of_unlabelled_data: 0.5 and model: DecisionTreeClassifier(max_depth=15)\u001b[0m\n",
      "\u001b[32m2023-10-22 11:02:04.985\u001b[0m | \u001b[1mINFO    \u001b[0m | \u001b[36m__main__\u001b[0m:\u001b[36mrun_pipeline_self\u001b[0m:\u001b[36m75\u001b[0m - \u001b[1mModel: DecisionTreeClassifier(max_depth=15)\u001b[0m\n",
      "\u001b[32m2023-10-22 11:02:04.986\u001b[0m | \u001b[1mINFO    \u001b[0m | \u001b[36m__main__\u001b[0m:\u001b[36mrun_pipeline_self\u001b[0m:\u001b[36m76\u001b[0m - \u001b[1mSize of unlabelled data: 0.6\u001b[0m\n",
      "\u001b[32m2023-10-22 11:02:04.986\u001b[0m | \u001b[1mINFO    \u001b[0m | \u001b[36m__main__\u001b[0m:\u001b[36mrun_pipeline_self\u001b[0m:\u001b[36m79\u001b[0m - \u001b[1m%151 - Running pipeline for row_seed: 24 and size_of_unlabelled_data: 0.6 and model: DecisionTreeClassifier(max_depth=15)\u001b[0m\n"
     ]
    },
    {
     "name": "stdout",
     "output_type": "stream",
     "text": [
      "\n",
      "\n"
     ]
    },
    {
     "name": "stderr",
     "output_type": "stream",
     "text": [
      "\u001b[32m2023-10-22 11:02:05.576\u001b[0m | \u001b[1mINFO    \u001b[0m | \u001b[36m__main__\u001b[0m:\u001b[36mrun_pipeline_self\u001b[0m:\u001b[36m79\u001b[0m - \u001b[1m%152 - Running pipeline for row_seed: 42 and size_of_unlabelled_data: 0.6 and model: DecisionTreeClassifier(max_depth=15)\u001b[0m\n",
      "\u001b[32m2023-10-22 11:02:06.223\u001b[0m | \u001b[1mINFO    \u001b[0m | \u001b[36m__main__\u001b[0m:\u001b[36mrun_pipeline_self\u001b[0m:\u001b[36m79\u001b[0m - \u001b[1m%153 - Running pipeline for row_seed: 206 and size_of_unlabelled_data: 0.6 and model: DecisionTreeClassifier(max_depth=15)\u001b[0m\n",
      "\u001b[32m2023-10-22 11:02:06.668\u001b[0m | \u001b[1mINFO    \u001b[0m | \u001b[36m__main__\u001b[0m:\u001b[36mrun_pipeline_self\u001b[0m:\u001b[36m79\u001b[0m - \u001b[1m%154 - Running pipeline for row_seed: 602 and size_of_unlabelled_data: 0.6 and model: DecisionTreeClassifier(max_depth=15)\u001b[0m\n",
      "\u001b[32m2023-10-22 11:02:07.263\u001b[0m | \u001b[1mINFO    \u001b[0m | \u001b[36m__main__\u001b[0m:\u001b[36mrun_pipeline_self\u001b[0m:\u001b[36m79\u001b[0m - \u001b[1m%155 - Running pipeline for row_seed: 412 and size_of_unlabelled_data: 0.6 and model: DecisionTreeClassifier(max_depth=15)\u001b[0m\n",
      "\u001b[32m2023-10-22 11:02:07.922\u001b[0m | \u001b[1mINFO    \u001b[0m | \u001b[36m__main__\u001b[0m:\u001b[36mrun_pipeline_self\u001b[0m:\u001b[36m79\u001b[0m - \u001b[1m%156 - Running pipeline for row_seed: 214 and size_of_unlabelled_data: 0.6 and model: DecisionTreeClassifier(max_depth=15)\u001b[0m\n",
      "\u001b[32m2023-10-22 11:02:08.448\u001b[0m | \u001b[1mINFO    \u001b[0m | \u001b[36m__main__\u001b[0m:\u001b[36mrun_pipeline_self\u001b[0m:\u001b[36m79\u001b[0m - \u001b[1m%157 - Running pipeline for row_seed: 754 and size_of_unlabelled_data: 0.6 and model: DecisionTreeClassifier(max_depth=15)\u001b[0m\n",
      "\u001b[32m2023-10-22 11:02:08.953\u001b[0m | \u001b[1mINFO    \u001b[0m | \u001b[36m__main__\u001b[0m:\u001b[36mrun_pipeline_self\u001b[0m:\u001b[36m79\u001b[0m - \u001b[1m%158 - Running pipeline for row_seed: 457 and size_of_unlabelled_data: 0.6 and model: DecisionTreeClassifier(max_depth=15)\u001b[0m\n",
      "\u001b[32m2023-10-22 11:02:09.463\u001b[0m | \u001b[1mINFO    \u001b[0m | \u001b[36m__main__\u001b[0m:\u001b[36mrun_pipeline_self\u001b[0m:\u001b[36m79\u001b[0m - \u001b[1m%159 - Running pipeline for row_seed: 2023 and size_of_unlabelled_data: 0.6 and model: DecisionTreeClassifier(max_depth=15)\u001b[0m\n",
      "\u001b[32m2023-10-22 11:02:09.911\u001b[0m | \u001b[1mINFO    \u001b[0m | \u001b[36m__main__\u001b[0m:\u001b[36mrun_pipeline_self\u001b[0m:\u001b[36m79\u001b[0m - \u001b[1m%160 - Running pipeline for row_seed: 3202 and size_of_unlabelled_data: 0.6 and model: DecisionTreeClassifier(max_depth=15)\u001b[0m\n",
      "\u001b[32m2023-10-22 11:02:10.369\u001b[0m | \u001b[1mINFO    \u001b[0m | \u001b[36m__main__\u001b[0m:\u001b[36mrun_pipeline_self\u001b[0m:\u001b[36m75\u001b[0m - \u001b[1mModel: DecisionTreeClassifier(max_depth=15)\u001b[0m\n",
      "\u001b[32m2023-10-22 11:02:10.369\u001b[0m | \u001b[1mINFO    \u001b[0m | \u001b[36m__main__\u001b[0m:\u001b[36mrun_pipeline_self\u001b[0m:\u001b[36m76\u001b[0m - \u001b[1mSize of unlabelled data: 0.7\u001b[0m\n",
      "\u001b[32m2023-10-22 11:02:10.370\u001b[0m | \u001b[1mINFO    \u001b[0m | \u001b[36m__main__\u001b[0m:\u001b[36mrun_pipeline_self\u001b[0m:\u001b[36m79\u001b[0m - \u001b[1m%161 - Running pipeline for row_seed: 24 and size_of_unlabelled_data: 0.7 and model: DecisionTreeClassifier(max_depth=15)\u001b[0m\n"
     ]
    },
    {
     "name": "stdout",
     "output_type": "stream",
     "text": [
      "\n",
      "\n"
     ]
    },
    {
     "name": "stderr",
     "output_type": "stream",
     "text": [
      "\u001b[32m2023-10-22 11:02:10.743\u001b[0m | \u001b[1mINFO    \u001b[0m | \u001b[36m__main__\u001b[0m:\u001b[36mrun_pipeline_self\u001b[0m:\u001b[36m79\u001b[0m - \u001b[1m%162 - Running pipeline for row_seed: 42 and size_of_unlabelled_data: 0.7 and model: DecisionTreeClassifier(max_depth=15)\u001b[0m\n",
      "\u001b[32m2023-10-22 11:02:11.180\u001b[0m | \u001b[1mINFO    \u001b[0m | \u001b[36m__main__\u001b[0m:\u001b[36mrun_pipeline_self\u001b[0m:\u001b[36m79\u001b[0m - \u001b[1m%163 - Running pipeline for row_seed: 206 and size_of_unlabelled_data: 0.7 and model: DecisionTreeClassifier(max_depth=15)\u001b[0m\n",
      "\u001b[32m2023-10-22 11:02:11.614\u001b[0m | \u001b[1mINFO    \u001b[0m | \u001b[36m__main__\u001b[0m:\u001b[36mrun_pipeline_self\u001b[0m:\u001b[36m79\u001b[0m - \u001b[1m%164 - Running pipeline for row_seed: 602 and size_of_unlabelled_data: 0.7 and model: DecisionTreeClassifier(max_depth=15)\u001b[0m\n",
      "\u001b[32m2023-10-22 11:02:12.131\u001b[0m | \u001b[1mINFO    \u001b[0m | \u001b[36m__main__\u001b[0m:\u001b[36mrun_pipeline_self\u001b[0m:\u001b[36m79\u001b[0m - \u001b[1m%165 - Running pipeline for row_seed: 412 and size_of_unlabelled_data: 0.7 and model: DecisionTreeClassifier(max_depth=15)\u001b[0m\n",
      "\u001b[32m2023-10-22 11:02:12.643\u001b[0m | \u001b[1mINFO    \u001b[0m | \u001b[36m__main__\u001b[0m:\u001b[36mrun_pipeline_self\u001b[0m:\u001b[36m79\u001b[0m - \u001b[1m%166 - Running pipeline for row_seed: 214 and size_of_unlabelled_data: 0.7 and model: DecisionTreeClassifier(max_depth=15)\u001b[0m\n",
      "\u001b[32m2023-10-22 11:02:13.021\u001b[0m | \u001b[1mINFO    \u001b[0m | \u001b[36m__main__\u001b[0m:\u001b[36mrun_pipeline_self\u001b[0m:\u001b[36m79\u001b[0m - \u001b[1m%167 - Running pipeline for row_seed: 754 and size_of_unlabelled_data: 0.7 and model: DecisionTreeClassifier(max_depth=15)\u001b[0m\n",
      "\u001b[32m2023-10-22 11:02:13.571\u001b[0m | \u001b[1mINFO    \u001b[0m | \u001b[36m__main__\u001b[0m:\u001b[36mrun_pipeline_self\u001b[0m:\u001b[36m79\u001b[0m - \u001b[1m%168 - Running pipeline for row_seed: 457 and size_of_unlabelled_data: 0.7 and model: DecisionTreeClassifier(max_depth=15)\u001b[0m\n",
      "\u001b[32m2023-10-22 11:02:14.005\u001b[0m | \u001b[1mINFO    \u001b[0m | \u001b[36m__main__\u001b[0m:\u001b[36mrun_pipeline_self\u001b[0m:\u001b[36m79\u001b[0m - \u001b[1m%169 - Running pipeline for row_seed: 2023 and size_of_unlabelled_data: 0.7 and model: DecisionTreeClassifier(max_depth=15)\u001b[0m\n",
      "\u001b[32m2023-10-22 11:02:14.575\u001b[0m | \u001b[1mINFO    \u001b[0m | \u001b[36m__main__\u001b[0m:\u001b[36mrun_pipeline_self\u001b[0m:\u001b[36m79\u001b[0m - \u001b[1m%170 - Running pipeline for row_seed: 3202 and size_of_unlabelled_data: 0.7 and model: DecisionTreeClassifier(max_depth=15)\u001b[0m\n",
      "\u001b[32m2023-10-22 11:02:15.102\u001b[0m | \u001b[1mINFO    \u001b[0m | \u001b[36m__main__\u001b[0m:\u001b[36mrun_pipeline_self\u001b[0m:\u001b[36m75\u001b[0m - \u001b[1mModel: DecisionTreeClassifier(max_depth=15)\u001b[0m\n",
      "\u001b[32m2023-10-22 11:02:15.103\u001b[0m | \u001b[1mINFO    \u001b[0m | \u001b[36m__main__\u001b[0m:\u001b[36mrun_pipeline_self\u001b[0m:\u001b[36m76\u001b[0m - \u001b[1mSize of unlabelled data: 0.8\u001b[0m\n",
      "\u001b[32m2023-10-22 11:02:15.103\u001b[0m | \u001b[1mINFO    \u001b[0m | \u001b[36m__main__\u001b[0m:\u001b[36mrun_pipeline_self\u001b[0m:\u001b[36m79\u001b[0m - \u001b[1m%171 - Running pipeline for row_seed: 24 and size_of_unlabelled_data: 0.8 and model: DecisionTreeClassifier(max_depth=15)\u001b[0m\n"
     ]
    },
    {
     "name": "stdout",
     "output_type": "stream",
     "text": [
      "\n",
      "\n"
     ]
    },
    {
     "name": "stderr",
     "output_type": "stream",
     "text": [
      "\u001b[32m2023-10-22 11:02:15.601\u001b[0m | \u001b[1mINFO    \u001b[0m | \u001b[36m__main__\u001b[0m:\u001b[36mrun_pipeline_self\u001b[0m:\u001b[36m79\u001b[0m - \u001b[1m%172 - Running pipeline for row_seed: 42 and size_of_unlabelled_data: 0.8 and model: DecisionTreeClassifier(max_depth=15)\u001b[0m\n",
      "\u001b[32m2023-10-22 11:02:16.160\u001b[0m | \u001b[1mINFO    \u001b[0m | \u001b[36m__main__\u001b[0m:\u001b[36mrun_pipeline_self\u001b[0m:\u001b[36m79\u001b[0m - \u001b[1m%173 - Running pipeline for row_seed: 206 and size_of_unlabelled_data: 0.8 and model: DecisionTreeClassifier(max_depth=15)\u001b[0m\n",
      "\u001b[32m2023-10-22 11:02:16.667\u001b[0m | \u001b[1mINFO    \u001b[0m | \u001b[36m__main__\u001b[0m:\u001b[36mrun_pipeline_self\u001b[0m:\u001b[36m79\u001b[0m - \u001b[1m%174 - Running pipeline for row_seed: 602 and size_of_unlabelled_data: 0.8 and model: DecisionTreeClassifier(max_depth=15)\u001b[0m\n",
      "\u001b[32m2023-10-22 11:02:17.166\u001b[0m | \u001b[1mINFO    \u001b[0m | \u001b[36m__main__\u001b[0m:\u001b[36mrun_pipeline_self\u001b[0m:\u001b[36m79\u001b[0m - \u001b[1m%175 - Running pipeline for row_seed: 412 and size_of_unlabelled_data: 0.8 and model: DecisionTreeClassifier(max_depth=15)\u001b[0m\n",
      "\u001b[32m2023-10-22 11:02:17.544\u001b[0m | \u001b[1mINFO    \u001b[0m | \u001b[36m__main__\u001b[0m:\u001b[36mrun_pipeline_self\u001b[0m:\u001b[36m79\u001b[0m - \u001b[1m%176 - Running pipeline for row_seed: 214 and size_of_unlabelled_data: 0.8 and model: DecisionTreeClassifier(max_depth=15)\u001b[0m\n",
      "\u001b[32m2023-10-22 11:02:18.055\u001b[0m | \u001b[1mINFO    \u001b[0m | \u001b[36m__main__\u001b[0m:\u001b[36mrun_pipeline_self\u001b[0m:\u001b[36m79\u001b[0m - \u001b[1m%177 - Running pipeline for row_seed: 754 and size_of_unlabelled_data: 0.8 and model: DecisionTreeClassifier(max_depth=15)\u001b[0m\n",
      "\u001b[32m2023-10-22 11:02:18.620\u001b[0m | \u001b[1mINFO    \u001b[0m | \u001b[36m__main__\u001b[0m:\u001b[36mrun_pipeline_self\u001b[0m:\u001b[36m79\u001b[0m - \u001b[1m%178 - Running pipeline for row_seed: 457 and size_of_unlabelled_data: 0.8 and model: DecisionTreeClassifier(max_depth=15)\u001b[0m\n",
      "\u001b[32m2023-10-22 11:02:18.985\u001b[0m | \u001b[1mINFO    \u001b[0m | \u001b[36m__main__\u001b[0m:\u001b[36mrun_pipeline_self\u001b[0m:\u001b[36m79\u001b[0m - \u001b[1m%179 - Running pipeline for row_seed: 2023 and size_of_unlabelled_data: 0.8 and model: DecisionTreeClassifier(max_depth=15)\u001b[0m\n",
      "\u001b[32m2023-10-22 11:02:19.404\u001b[0m | \u001b[1mINFO    \u001b[0m | \u001b[36m__main__\u001b[0m:\u001b[36mrun_pipeline_self\u001b[0m:\u001b[36m79\u001b[0m - \u001b[1m%180 - Running pipeline for row_seed: 3202 and size_of_unlabelled_data: 0.8 and model: DecisionTreeClassifier(max_depth=15)\u001b[0m\n",
      "\u001b[32m2023-10-22 11:02:20.014\u001b[0m | \u001b[1mINFO    \u001b[0m | \u001b[36m__main__\u001b[0m:\u001b[36mrun_pipeline_self\u001b[0m:\u001b[36m75\u001b[0m - \u001b[1mModel: DecisionTreeClassifier(max_depth=15)\u001b[0m\n",
      "\u001b[32m2023-10-22 11:02:20.014\u001b[0m | \u001b[1mINFO    \u001b[0m | \u001b[36m__main__\u001b[0m:\u001b[36mrun_pipeline_self\u001b[0m:\u001b[36m76\u001b[0m - \u001b[1mSize of unlabelled data: 0.85\u001b[0m\n",
      "\u001b[32m2023-10-22 11:02:20.015\u001b[0m | \u001b[1mINFO    \u001b[0m | \u001b[36m__main__\u001b[0m:\u001b[36mrun_pipeline_self\u001b[0m:\u001b[36m79\u001b[0m - \u001b[1m%181 - Running pipeline for row_seed: 24 and size_of_unlabelled_data: 0.85 and model: DecisionTreeClassifier(max_depth=15)\u001b[0m\n"
     ]
    },
    {
     "name": "stdout",
     "output_type": "stream",
     "text": [
      "\n",
      "\n"
     ]
    },
    {
     "name": "stderr",
     "output_type": "stream",
     "text": [
      "\u001b[32m2023-10-22 11:02:20.493\u001b[0m | \u001b[1mINFO    \u001b[0m | \u001b[36m__main__\u001b[0m:\u001b[36mrun_pipeline_self\u001b[0m:\u001b[36m79\u001b[0m - \u001b[1m%182 - Running pipeline for row_seed: 42 and size_of_unlabelled_data: 0.85 and model: DecisionTreeClassifier(max_depth=15)\u001b[0m\n",
      "\u001b[32m2023-10-22 11:02:20.857\u001b[0m | \u001b[1mINFO    \u001b[0m | \u001b[36m__main__\u001b[0m:\u001b[36mrun_pipeline_self\u001b[0m:\u001b[36m79\u001b[0m - \u001b[1m%183 - Running pipeline for row_seed: 206 and size_of_unlabelled_data: 0.85 and model: DecisionTreeClassifier(max_depth=15)\u001b[0m\n",
      "\u001b[32m2023-10-22 11:02:21.213\u001b[0m | \u001b[1mINFO    \u001b[0m | \u001b[36m__main__\u001b[0m:\u001b[36mrun_pipeline_self\u001b[0m:\u001b[36m79\u001b[0m - \u001b[1m%184 - Running pipeline for row_seed: 602 and size_of_unlabelled_data: 0.85 and model: DecisionTreeClassifier(max_depth=15)\u001b[0m\n",
      "\u001b[32m2023-10-22 11:02:21.581\u001b[0m | \u001b[1mINFO    \u001b[0m | \u001b[36m__main__\u001b[0m:\u001b[36mrun_pipeline_self\u001b[0m:\u001b[36m79\u001b[0m - \u001b[1m%185 - Running pipeline for row_seed: 412 and size_of_unlabelled_data: 0.85 and model: DecisionTreeClassifier(max_depth=15)\u001b[0m\n",
      "\u001b[32m2023-10-22 11:02:22.103\u001b[0m | \u001b[1mINFO    \u001b[0m | \u001b[36m__main__\u001b[0m:\u001b[36mrun_pipeline_self\u001b[0m:\u001b[36m79\u001b[0m - \u001b[1m%186 - Running pipeline for row_seed: 214 and size_of_unlabelled_data: 0.85 and model: DecisionTreeClassifier(max_depth=15)\u001b[0m\n",
      "\u001b[32m2023-10-22 11:02:22.466\u001b[0m | \u001b[1mINFO    \u001b[0m | \u001b[36m__main__\u001b[0m:\u001b[36mrun_pipeline_self\u001b[0m:\u001b[36m79\u001b[0m - \u001b[1m%187 - Running pipeline for row_seed: 754 and size_of_unlabelled_data: 0.85 and model: DecisionTreeClassifier(max_depth=15)\u001b[0m\n",
      "\u001b[32m2023-10-22 11:02:22.862\u001b[0m | \u001b[1mINFO    \u001b[0m | \u001b[36m__main__\u001b[0m:\u001b[36mrun_pipeline_self\u001b[0m:\u001b[36m79\u001b[0m - \u001b[1m%188 - Running pipeline for row_seed: 457 and size_of_unlabelled_data: 0.85 and model: DecisionTreeClassifier(max_depth=15)\u001b[0m\n",
      "\u001b[32m2023-10-22 11:02:23.267\u001b[0m | \u001b[1mINFO    \u001b[0m | \u001b[36m__main__\u001b[0m:\u001b[36mrun_pipeline_self\u001b[0m:\u001b[36m79\u001b[0m - \u001b[1m%189 - Running pipeline for row_seed: 2023 and size_of_unlabelled_data: 0.85 and model: DecisionTreeClassifier(max_depth=15)\u001b[0m\n",
      "\u001b[32m2023-10-22 11:02:23.619\u001b[0m | \u001b[1mINFO    \u001b[0m | \u001b[36m__main__\u001b[0m:\u001b[36mrun_pipeline_self\u001b[0m:\u001b[36m79\u001b[0m - \u001b[1m%190 - Running pipeline for row_seed: 3202 and size_of_unlabelled_data: 0.85 and model: DecisionTreeClassifier(max_depth=15)\u001b[0m\n",
      "\u001b[32m2023-10-22 11:02:23.987\u001b[0m | \u001b[1mINFO    \u001b[0m | \u001b[36m__main__\u001b[0m:\u001b[36mrun_pipeline_self\u001b[0m:\u001b[36m75\u001b[0m - \u001b[1mModel: DecisionTreeClassifier(max_depth=15)\u001b[0m\n",
      "\u001b[32m2023-10-22 11:02:23.988\u001b[0m | \u001b[1mINFO    \u001b[0m | \u001b[36m__main__\u001b[0m:\u001b[36mrun_pipeline_self\u001b[0m:\u001b[36m76\u001b[0m - \u001b[1mSize of unlabelled data: 0.9\u001b[0m\n",
      "\u001b[32m2023-10-22 11:02:23.989\u001b[0m | \u001b[1mINFO    \u001b[0m | \u001b[36m__main__\u001b[0m:\u001b[36mrun_pipeline_self\u001b[0m:\u001b[36m79\u001b[0m - \u001b[1m%191 - Running pipeline for row_seed: 24 and size_of_unlabelled_data: 0.9 and model: DecisionTreeClassifier(max_depth=15)\u001b[0m\n"
     ]
    },
    {
     "name": "stdout",
     "output_type": "stream",
     "text": [
      "\n",
      "\n"
     ]
    },
    {
     "name": "stderr",
     "output_type": "stream",
     "text": [
      "\u001b[32m2023-10-22 11:02:24.452\u001b[0m | \u001b[1mINFO    \u001b[0m | \u001b[36m__main__\u001b[0m:\u001b[36mrun_pipeline_self\u001b[0m:\u001b[36m79\u001b[0m - \u001b[1m%192 - Running pipeline for row_seed: 42 and size_of_unlabelled_data: 0.9 and model: DecisionTreeClassifier(max_depth=15)\u001b[0m\n",
      "\u001b[32m2023-10-22 11:02:24.809\u001b[0m | \u001b[1mINFO    \u001b[0m | \u001b[36m__main__\u001b[0m:\u001b[36mrun_pipeline_self\u001b[0m:\u001b[36m79\u001b[0m - \u001b[1m%193 - Running pipeline for row_seed: 206 and size_of_unlabelled_data: 0.9 and model: DecisionTreeClassifier(max_depth=15)\u001b[0m\n",
      "\u001b[32m2023-10-22 11:02:25.313\u001b[0m | \u001b[1mINFO    \u001b[0m | \u001b[36m__main__\u001b[0m:\u001b[36mrun_pipeline_self\u001b[0m:\u001b[36m79\u001b[0m - \u001b[1m%194 - Running pipeline for row_seed: 602 and size_of_unlabelled_data: 0.9 and model: DecisionTreeClassifier(max_depth=15)\u001b[0m\n",
      "\u001b[32m2023-10-22 11:02:25.818\u001b[0m | \u001b[1mINFO    \u001b[0m | \u001b[36m__main__\u001b[0m:\u001b[36mrun_pipeline_self\u001b[0m:\u001b[36m79\u001b[0m - \u001b[1m%195 - Running pipeline for row_seed: 412 and size_of_unlabelled_data: 0.9 and model: DecisionTreeClassifier(max_depth=15)\u001b[0m\n",
      "\u001b[32m2023-10-22 11:02:26.103\u001b[0m | \u001b[1mINFO    \u001b[0m | \u001b[36m__main__\u001b[0m:\u001b[36mrun_pipeline_self\u001b[0m:\u001b[36m79\u001b[0m - \u001b[1m%196 - Running pipeline for row_seed: 214 and size_of_unlabelled_data: 0.9 and model: DecisionTreeClassifier(max_depth=15)\u001b[0m\n",
      "\u001b[32m2023-10-22 11:02:26.527\u001b[0m | \u001b[1mINFO    \u001b[0m | \u001b[36m__main__\u001b[0m:\u001b[36mrun_pipeline_self\u001b[0m:\u001b[36m79\u001b[0m - \u001b[1m%197 - Running pipeline for row_seed: 754 and size_of_unlabelled_data: 0.9 and model: DecisionTreeClassifier(max_depth=15)\u001b[0m\n",
      "\u001b[32m2023-10-22 11:02:26.831\u001b[0m | \u001b[1mINFO    \u001b[0m | \u001b[36m__main__\u001b[0m:\u001b[36mrun_pipeline_self\u001b[0m:\u001b[36m79\u001b[0m - \u001b[1m%198 - Running pipeline for row_seed: 457 and size_of_unlabelled_data: 0.9 and model: DecisionTreeClassifier(max_depth=15)\u001b[0m\n",
      "\u001b[32m2023-10-22 11:02:27.179\u001b[0m | \u001b[1mINFO    \u001b[0m | \u001b[36m__main__\u001b[0m:\u001b[36mrun_pipeline_self\u001b[0m:\u001b[36m79\u001b[0m - \u001b[1m%199 - Running pipeline for row_seed: 2023 and size_of_unlabelled_data: 0.9 and model: DecisionTreeClassifier(max_depth=15)\u001b[0m\n",
      "\u001b[32m2023-10-22 11:02:27.526\u001b[0m | \u001b[1mINFO    \u001b[0m | \u001b[36m__main__\u001b[0m:\u001b[36mrun_pipeline_self\u001b[0m:\u001b[36m79\u001b[0m - \u001b[1m%200 - Running pipeline for row_seed: 3202 and size_of_unlabelled_data: 0.9 and model: DecisionTreeClassifier(max_depth=15)\u001b[0m\n",
      "\u001b[32m2023-10-22 11:02:27.883\u001b[0m | \u001b[1mINFO    \u001b[0m | \u001b[36m__main__\u001b[0m:\u001b[36mrun_pipeline_self\u001b[0m:\u001b[36m75\u001b[0m - \u001b[1mModel: KNeighborsClassifier(metric='manhattan', n_neighbors=15, weights='distance')\u001b[0m\n",
      "\u001b[32m2023-10-22 11:02:27.884\u001b[0m | \u001b[1mINFO    \u001b[0m | \u001b[36m__main__\u001b[0m:\u001b[36mrun_pipeline_self\u001b[0m:\u001b[36m76\u001b[0m - \u001b[1mSize of unlabelled data: 0.1\u001b[0m\n",
      "\u001b[32m2023-10-22 11:02:27.884\u001b[0m | \u001b[1mINFO    \u001b[0m | \u001b[36m__main__\u001b[0m:\u001b[36mrun_pipeline_self\u001b[0m:\u001b[36m79\u001b[0m - \u001b[1m%201 - Running pipeline for row_seed: 24 and size_of_unlabelled_data: 0.1 and model: KNeighborsClassifier(metric='manhattan', n_neighbors=15, weights='distance')\u001b[0m\n"
     ]
    },
    {
     "name": "stdout",
     "output_type": "stream",
     "text": [
      "\n",
      "\n"
     ]
    },
    {
     "name": "stderr",
     "output_type": "stream",
     "text": [
      "\u001b[32m2023-10-22 11:02:28.837\u001b[0m | \u001b[1mINFO    \u001b[0m | \u001b[36m__main__\u001b[0m:\u001b[36mrun_pipeline_self\u001b[0m:\u001b[36m79\u001b[0m - \u001b[1m%202 - Running pipeline for row_seed: 42 and size_of_unlabelled_data: 0.1 and model: KNeighborsClassifier(metric='manhattan', n_neighbors=15, weights='distance')\u001b[0m\n",
      "\u001b[32m2023-10-22 11:02:29.628\u001b[0m | \u001b[1mINFO    \u001b[0m | \u001b[36m__main__\u001b[0m:\u001b[36mrun_pipeline_self\u001b[0m:\u001b[36m79\u001b[0m - \u001b[1m%203 - Running pipeline for row_seed: 206 and size_of_unlabelled_data: 0.1 and model: KNeighborsClassifier(metric='manhattan', n_neighbors=15, weights='distance')\u001b[0m\n",
      "\u001b[32m2023-10-22 11:02:30.452\u001b[0m | \u001b[1mINFO    \u001b[0m | \u001b[36m__main__\u001b[0m:\u001b[36mrun_pipeline_self\u001b[0m:\u001b[36m79\u001b[0m - \u001b[1m%204 - Running pipeline for row_seed: 602 and size_of_unlabelled_data: 0.1 and model: KNeighborsClassifier(metric='manhattan', n_neighbors=15, weights='distance')\u001b[0m\n",
      "\u001b[32m2023-10-22 11:02:31.167\u001b[0m | \u001b[1mINFO    \u001b[0m | \u001b[36m__main__\u001b[0m:\u001b[36mrun_pipeline_self\u001b[0m:\u001b[36m79\u001b[0m - \u001b[1m%205 - Running pipeline for row_seed: 412 and size_of_unlabelled_data: 0.1 and model: KNeighborsClassifier(metric='manhattan', n_neighbors=15, weights='distance')\u001b[0m\n",
      "\u001b[32m2023-10-22 11:02:31.960\u001b[0m | \u001b[1mINFO    \u001b[0m | \u001b[36m__main__\u001b[0m:\u001b[36mrun_pipeline_self\u001b[0m:\u001b[36m79\u001b[0m - \u001b[1m%206 - Running pipeline for row_seed: 214 and size_of_unlabelled_data: 0.1 and model: KNeighborsClassifier(metric='manhattan', n_neighbors=15, weights='distance')\u001b[0m\n",
      "\u001b[32m2023-10-22 11:02:32.770\u001b[0m | \u001b[1mINFO    \u001b[0m | \u001b[36m__main__\u001b[0m:\u001b[36mrun_pipeline_self\u001b[0m:\u001b[36m79\u001b[0m - \u001b[1m%207 - Running pipeline for row_seed: 754 and size_of_unlabelled_data: 0.1 and model: KNeighborsClassifier(metric='manhattan', n_neighbors=15, weights='distance')\u001b[0m\n",
      "\u001b[32m2023-10-22 11:02:33.520\u001b[0m | \u001b[1mINFO    \u001b[0m | \u001b[36m__main__\u001b[0m:\u001b[36mrun_pipeline_self\u001b[0m:\u001b[36m79\u001b[0m - \u001b[1m%208 - Running pipeline for row_seed: 457 and size_of_unlabelled_data: 0.1 and model: KNeighborsClassifier(metric='manhattan', n_neighbors=15, weights='distance')\u001b[0m\n",
      "\u001b[32m2023-10-22 11:02:34.250\u001b[0m | \u001b[1mINFO    \u001b[0m | \u001b[36m__main__\u001b[0m:\u001b[36mrun_pipeline_self\u001b[0m:\u001b[36m79\u001b[0m - \u001b[1m%209 - Running pipeline for row_seed: 2023 and size_of_unlabelled_data: 0.1 and model: KNeighborsClassifier(metric='manhattan', n_neighbors=15, weights='distance')\u001b[0m\n",
      "\u001b[32m2023-10-22 11:02:35.060\u001b[0m | \u001b[1mINFO    \u001b[0m | \u001b[36m__main__\u001b[0m:\u001b[36mrun_pipeline_self\u001b[0m:\u001b[36m79\u001b[0m - \u001b[1m%210 - Running pipeline for row_seed: 3202 and size_of_unlabelled_data: 0.1 and model: KNeighborsClassifier(metric='manhattan', n_neighbors=15, weights='distance')\u001b[0m\n",
      "\u001b[32m2023-10-22 11:02:35.821\u001b[0m | \u001b[1mINFO    \u001b[0m | \u001b[36m__main__\u001b[0m:\u001b[36mrun_pipeline_self\u001b[0m:\u001b[36m75\u001b[0m - \u001b[1mModel: KNeighborsClassifier(metric='manhattan', n_neighbors=15, weights='distance')\u001b[0m\n",
      "\u001b[32m2023-10-22 11:02:35.822\u001b[0m | \u001b[1mINFO    \u001b[0m | \u001b[36m__main__\u001b[0m:\u001b[36mrun_pipeline_self\u001b[0m:\u001b[36m76\u001b[0m - \u001b[1mSize of unlabelled data: 0.2\u001b[0m\n",
      "\u001b[32m2023-10-22 11:02:35.822\u001b[0m | \u001b[1mINFO    \u001b[0m | \u001b[36m__main__\u001b[0m:\u001b[36mrun_pipeline_self\u001b[0m:\u001b[36m79\u001b[0m - \u001b[1m%211 - Running pipeline for row_seed: 24 and size_of_unlabelled_data: 0.2 and model: KNeighborsClassifier(metric='manhattan', n_neighbors=15, weights='distance')\u001b[0m\n"
     ]
    },
    {
     "name": "stdout",
     "output_type": "stream",
     "text": [
      "\n",
      "\n"
     ]
    },
    {
     "name": "stderr",
     "output_type": "stream",
     "text": [
      "\u001b[32m2023-10-22 11:02:36.887\u001b[0m | \u001b[1mINFO    \u001b[0m | \u001b[36m__main__\u001b[0m:\u001b[36mrun_pipeline_self\u001b[0m:\u001b[36m79\u001b[0m - \u001b[1m%212 - Running pipeline for row_seed: 42 and size_of_unlabelled_data: 0.2 and model: KNeighborsClassifier(metric='manhattan', n_neighbors=15, weights='distance')\u001b[0m\n",
      "\u001b[32m2023-10-22 11:02:37.911\u001b[0m | \u001b[1mINFO    \u001b[0m | \u001b[36m__main__\u001b[0m:\u001b[36mrun_pipeline_self\u001b[0m:\u001b[36m79\u001b[0m - \u001b[1m%213 - Running pipeline for row_seed: 206 and size_of_unlabelled_data: 0.2 and model: KNeighborsClassifier(metric='manhattan', n_neighbors=15, weights='distance')\u001b[0m\n",
      "\u001b[32m2023-10-22 11:02:39.151\u001b[0m | \u001b[1mINFO    \u001b[0m | \u001b[36m__main__\u001b[0m:\u001b[36mrun_pipeline_self\u001b[0m:\u001b[36m79\u001b[0m - \u001b[1m%214 - Running pipeline for row_seed: 602 and size_of_unlabelled_data: 0.2 and model: KNeighborsClassifier(metric='manhattan', n_neighbors=15, weights='distance')\u001b[0m\n",
      "\u001b[32m2023-10-22 11:02:40.182\u001b[0m | \u001b[1mINFO    \u001b[0m | \u001b[36m__main__\u001b[0m:\u001b[36mrun_pipeline_self\u001b[0m:\u001b[36m79\u001b[0m - \u001b[1m%215 - Running pipeline for row_seed: 412 and size_of_unlabelled_data: 0.2 and model: KNeighborsClassifier(metric='manhattan', n_neighbors=15, weights='distance')\u001b[0m\n",
      "\u001b[32m2023-10-22 11:02:41.359\u001b[0m | \u001b[1mINFO    \u001b[0m | \u001b[36m__main__\u001b[0m:\u001b[36mrun_pipeline_self\u001b[0m:\u001b[36m79\u001b[0m - \u001b[1m%216 - Running pipeline for row_seed: 214 and size_of_unlabelled_data: 0.2 and model: KNeighborsClassifier(metric='manhattan', n_neighbors=15, weights='distance')\u001b[0m\n",
      "\u001b[32m2023-10-22 11:02:42.385\u001b[0m | \u001b[1mINFO    \u001b[0m | \u001b[36m__main__\u001b[0m:\u001b[36mrun_pipeline_self\u001b[0m:\u001b[36m79\u001b[0m - \u001b[1m%217 - Running pipeline for row_seed: 754 and size_of_unlabelled_data: 0.2 and model: KNeighborsClassifier(metric='manhattan', n_neighbors=15, weights='distance')\u001b[0m\n",
      "\u001b[32m2023-10-22 11:02:43.474\u001b[0m | \u001b[1mINFO    \u001b[0m | \u001b[36m__main__\u001b[0m:\u001b[36mrun_pipeline_self\u001b[0m:\u001b[36m79\u001b[0m - \u001b[1m%218 - Running pipeline for row_seed: 457 and size_of_unlabelled_data: 0.2 and model: KNeighborsClassifier(metric='manhattan', n_neighbors=15, weights='distance')\u001b[0m\n",
      "\u001b[32m2023-10-22 11:02:44.578\u001b[0m | \u001b[1mINFO    \u001b[0m | \u001b[36m__main__\u001b[0m:\u001b[36mrun_pipeline_self\u001b[0m:\u001b[36m79\u001b[0m - \u001b[1m%219 - Running pipeline for row_seed: 2023 and size_of_unlabelled_data: 0.2 and model: KNeighborsClassifier(metric='manhattan', n_neighbors=15, weights='distance')\u001b[0m\n",
      "\u001b[32m2023-10-22 11:02:45.676\u001b[0m | \u001b[1mINFO    \u001b[0m | \u001b[36m__main__\u001b[0m:\u001b[36mrun_pipeline_self\u001b[0m:\u001b[36m79\u001b[0m - \u001b[1m%220 - Running pipeline for row_seed: 3202 and size_of_unlabelled_data: 0.2 and model: KNeighborsClassifier(metric='manhattan', n_neighbors=15, weights='distance')\u001b[0m\n",
      "\u001b[32m2023-10-22 11:02:46.729\u001b[0m | \u001b[1mINFO    \u001b[0m | \u001b[36m__main__\u001b[0m:\u001b[36mrun_pipeline_self\u001b[0m:\u001b[36m75\u001b[0m - \u001b[1mModel: KNeighborsClassifier(metric='manhattan', n_neighbors=15, weights='distance')\u001b[0m\n",
      "\u001b[32m2023-10-22 11:02:46.730\u001b[0m | \u001b[1mINFO    \u001b[0m | \u001b[36m__main__\u001b[0m:\u001b[36mrun_pipeline_self\u001b[0m:\u001b[36m76\u001b[0m - \u001b[1mSize of unlabelled data: 0.3\u001b[0m\n",
      "\u001b[32m2023-10-22 11:02:46.730\u001b[0m | \u001b[1mINFO    \u001b[0m | \u001b[36m__main__\u001b[0m:\u001b[36mrun_pipeline_self\u001b[0m:\u001b[36m79\u001b[0m - \u001b[1m%221 - Running pipeline for row_seed: 24 and size_of_unlabelled_data: 0.3 and model: KNeighborsClassifier(metric='manhattan', n_neighbors=15, weights='distance')\u001b[0m\n"
     ]
    },
    {
     "name": "stdout",
     "output_type": "stream",
     "text": [
      "\n",
      "\n"
     ]
    },
    {
     "name": "stderr",
     "output_type": "stream",
     "text": [
      "\u001b[32m2023-10-22 11:02:48.073\u001b[0m | \u001b[1mINFO    \u001b[0m | \u001b[36m__main__\u001b[0m:\u001b[36mrun_pipeline_self\u001b[0m:\u001b[36m79\u001b[0m - \u001b[1m%222 - Running pipeline for row_seed: 42 and size_of_unlabelled_data: 0.3 and model: KNeighborsClassifier(metric='manhattan', n_neighbors=15, weights='distance')\u001b[0m\n",
      "\u001b[32m2023-10-22 11:02:49.426\u001b[0m | \u001b[1mINFO    \u001b[0m | \u001b[36m__main__\u001b[0m:\u001b[36mrun_pipeline_self\u001b[0m:\u001b[36m79\u001b[0m - \u001b[1m%223 - Running pipeline for row_seed: 206 and size_of_unlabelled_data: 0.3 and model: KNeighborsClassifier(metric='manhattan', n_neighbors=15, weights='distance')\u001b[0m\n",
      "\u001b[32m2023-10-22 11:02:50.708\u001b[0m | \u001b[1mINFO    \u001b[0m | \u001b[36m__main__\u001b[0m:\u001b[36mrun_pipeline_self\u001b[0m:\u001b[36m79\u001b[0m - \u001b[1m%224 - Running pipeline for row_seed: 602 and size_of_unlabelled_data: 0.3 and model: KNeighborsClassifier(metric='manhattan', n_neighbors=15, weights='distance')\u001b[0m\n",
      "\u001b[32m2023-10-22 11:02:51.985\u001b[0m | \u001b[1mINFO    \u001b[0m | \u001b[36m__main__\u001b[0m:\u001b[36mrun_pipeline_self\u001b[0m:\u001b[36m79\u001b[0m - \u001b[1m%225 - Running pipeline for row_seed: 412 and size_of_unlabelled_data: 0.3 and model: KNeighborsClassifier(metric='manhattan', n_neighbors=15, weights='distance')\u001b[0m\n",
      "\u001b[32m2023-10-22 11:02:53.425\u001b[0m | \u001b[1mINFO    \u001b[0m | \u001b[36m__main__\u001b[0m:\u001b[36mrun_pipeline_self\u001b[0m:\u001b[36m79\u001b[0m - \u001b[1m%226 - Running pipeline for row_seed: 214 and size_of_unlabelled_data: 0.3 and model: KNeighborsClassifier(metric='manhattan', n_neighbors=15, weights='distance')\u001b[0m\n",
      "\u001b[32m2023-10-22 11:02:55.018\u001b[0m | \u001b[1mINFO    \u001b[0m | \u001b[36m__main__\u001b[0m:\u001b[36mrun_pipeline_self\u001b[0m:\u001b[36m79\u001b[0m - \u001b[1m%227 - Running pipeline for row_seed: 754 and size_of_unlabelled_data: 0.3 and model: KNeighborsClassifier(metric='manhattan', n_neighbors=15, weights='distance')\u001b[0m\n",
      "\u001b[32m2023-10-22 11:02:56.308\u001b[0m | \u001b[1mINFO    \u001b[0m | \u001b[36m__main__\u001b[0m:\u001b[36mrun_pipeline_self\u001b[0m:\u001b[36m79\u001b[0m - \u001b[1m%228 - Running pipeline for row_seed: 457 and size_of_unlabelled_data: 0.3 and model: KNeighborsClassifier(metric='manhattan', n_neighbors=15, weights='distance')\u001b[0m\n",
      "\u001b[32m2023-10-22 11:02:57.626\u001b[0m | \u001b[1mINFO    \u001b[0m | \u001b[36m__main__\u001b[0m:\u001b[36mrun_pipeline_self\u001b[0m:\u001b[36m79\u001b[0m - \u001b[1m%229 - Running pipeline for row_seed: 2023 and size_of_unlabelled_data: 0.3 and model: KNeighborsClassifier(metric='manhattan', n_neighbors=15, weights='distance')\u001b[0m\n",
      "\u001b[32m2023-10-22 11:02:58.908\u001b[0m | \u001b[1mINFO    \u001b[0m | \u001b[36m__main__\u001b[0m:\u001b[36mrun_pipeline_self\u001b[0m:\u001b[36m79\u001b[0m - \u001b[1m%230 - Running pipeline for row_seed: 3202 and size_of_unlabelled_data: 0.3 and model: KNeighborsClassifier(metric='manhattan', n_neighbors=15, weights='distance')\u001b[0m\n",
      "\u001b[32m2023-10-22 11:03:00.259\u001b[0m | \u001b[1mINFO    \u001b[0m | \u001b[36m__main__\u001b[0m:\u001b[36mrun_pipeline_self\u001b[0m:\u001b[36m75\u001b[0m - \u001b[1mModel: KNeighborsClassifier(metric='manhattan', n_neighbors=15, weights='distance')\u001b[0m\n",
      "\u001b[32m2023-10-22 11:03:00.260\u001b[0m | \u001b[1mINFO    \u001b[0m | \u001b[36m__main__\u001b[0m:\u001b[36mrun_pipeline_self\u001b[0m:\u001b[36m76\u001b[0m - \u001b[1mSize of unlabelled data: 0.4\u001b[0m\n",
      "\u001b[32m2023-10-22 11:03:00.260\u001b[0m | \u001b[1mINFO    \u001b[0m | \u001b[36m__main__\u001b[0m:\u001b[36mrun_pipeline_self\u001b[0m:\u001b[36m79\u001b[0m - \u001b[1m%231 - Running pipeline for row_seed: 24 and size_of_unlabelled_data: 0.4 and model: KNeighborsClassifier(metric='manhattan', n_neighbors=15, weights='distance')\u001b[0m\n"
     ]
    },
    {
     "name": "stdout",
     "output_type": "stream",
     "text": [
      "\n",
      "\n"
     ]
    },
    {
     "name": "stderr",
     "output_type": "stream",
     "text": [
      "\u001b[32m2023-10-22 11:03:01.911\u001b[0m | \u001b[1mINFO    \u001b[0m | \u001b[36m__main__\u001b[0m:\u001b[36mrun_pipeline_self\u001b[0m:\u001b[36m79\u001b[0m - \u001b[1m%232 - Running pipeline for row_seed: 42 and size_of_unlabelled_data: 0.4 and model: KNeighborsClassifier(metric='manhattan', n_neighbors=15, weights='distance')\u001b[0m\n",
      "\u001b[32m2023-10-22 11:03:03.475\u001b[0m | \u001b[1mINFO    \u001b[0m | \u001b[36m__main__\u001b[0m:\u001b[36mrun_pipeline_self\u001b[0m:\u001b[36m79\u001b[0m - \u001b[1m%233 - Running pipeline for row_seed: 206 and size_of_unlabelled_data: 0.4 and model: KNeighborsClassifier(metric='manhattan', n_neighbors=15, weights='distance')\u001b[0m\n",
      "\u001b[32m2023-10-22 11:03:05.158\u001b[0m | \u001b[1mINFO    \u001b[0m | \u001b[36m__main__\u001b[0m:\u001b[36mrun_pipeline_self\u001b[0m:\u001b[36m79\u001b[0m - \u001b[1m%234 - Running pipeline for row_seed: 602 and size_of_unlabelled_data: 0.4 and model: KNeighborsClassifier(metric='manhattan', n_neighbors=15, weights='distance')\u001b[0m\n",
      "\u001b[32m2023-10-22 11:03:06.730\u001b[0m | \u001b[1mINFO    \u001b[0m | \u001b[36m__main__\u001b[0m:\u001b[36mrun_pipeline_self\u001b[0m:\u001b[36m79\u001b[0m - \u001b[1m%235 - Running pipeline for row_seed: 412 and size_of_unlabelled_data: 0.4 and model: KNeighborsClassifier(metric='manhattan', n_neighbors=15, weights='distance')\u001b[0m\n",
      "\u001b[32m2023-10-22 11:03:08.830\u001b[0m | \u001b[1mINFO    \u001b[0m | \u001b[36m__main__\u001b[0m:\u001b[36mrun_pipeline_self\u001b[0m:\u001b[36m79\u001b[0m - \u001b[1m%236 - Running pipeline for row_seed: 214 and size_of_unlabelled_data: 0.4 and model: KNeighborsClassifier(metric='manhattan', n_neighbors=15, weights='distance')\u001b[0m\n",
      "\u001b[32m2023-10-22 11:03:10.472\u001b[0m | \u001b[1mINFO    \u001b[0m | \u001b[36m__main__\u001b[0m:\u001b[36mrun_pipeline_self\u001b[0m:\u001b[36m79\u001b[0m - \u001b[1m%237 - Running pipeline for row_seed: 754 and size_of_unlabelled_data: 0.4 and model: KNeighborsClassifier(metric='manhattan', n_neighbors=15, weights='distance')\u001b[0m\n",
      "\u001b[32m2023-10-22 11:03:12.350\u001b[0m | \u001b[1mINFO    \u001b[0m | \u001b[36m__main__\u001b[0m:\u001b[36mrun_pipeline_self\u001b[0m:\u001b[36m79\u001b[0m - \u001b[1m%238 - Running pipeline for row_seed: 457 and size_of_unlabelled_data: 0.4 and model: KNeighborsClassifier(metric='manhattan', n_neighbors=15, weights='distance')\u001b[0m\n",
      "\u001b[32m2023-10-22 11:03:14.025\u001b[0m | \u001b[1mINFO    \u001b[0m | \u001b[36m__main__\u001b[0m:\u001b[36mrun_pipeline_self\u001b[0m:\u001b[36m79\u001b[0m - \u001b[1m%239 - Running pipeline for row_seed: 2023 and size_of_unlabelled_data: 0.4 and model: KNeighborsClassifier(metric='manhattan', n_neighbors=15, weights='distance')\u001b[0m\n",
      "\u001b[32m2023-10-22 11:03:15.835\u001b[0m | \u001b[1mINFO    \u001b[0m | \u001b[36m__main__\u001b[0m:\u001b[36mrun_pipeline_self\u001b[0m:\u001b[36m79\u001b[0m - \u001b[1m%240 - Running pipeline for row_seed: 3202 and size_of_unlabelled_data: 0.4 and model: KNeighborsClassifier(metric='manhattan', n_neighbors=15, weights='distance')\u001b[0m\n",
      "\u001b[32m2023-10-22 11:03:17.552\u001b[0m | \u001b[1mINFO    \u001b[0m | \u001b[36m__main__\u001b[0m:\u001b[36mrun_pipeline_self\u001b[0m:\u001b[36m75\u001b[0m - \u001b[1mModel: KNeighborsClassifier(metric='manhattan', n_neighbors=15, weights='distance')\u001b[0m\n",
      "\u001b[32m2023-10-22 11:03:17.552\u001b[0m | \u001b[1mINFO    \u001b[0m | \u001b[36m__main__\u001b[0m:\u001b[36mrun_pipeline_self\u001b[0m:\u001b[36m76\u001b[0m - \u001b[1mSize of unlabelled data: 0.5\u001b[0m\n",
      "\u001b[32m2023-10-22 11:03:17.553\u001b[0m | \u001b[1mINFO    \u001b[0m | \u001b[36m__main__\u001b[0m:\u001b[36mrun_pipeline_self\u001b[0m:\u001b[36m79\u001b[0m - \u001b[1m%241 - Running pipeline for row_seed: 24 and size_of_unlabelled_data: 0.5 and model: KNeighborsClassifier(metric='manhattan', n_neighbors=15, weights='distance')\u001b[0m\n"
     ]
    },
    {
     "name": "stdout",
     "output_type": "stream",
     "text": [
      "\n",
      "\n"
     ]
    },
    {
     "name": "stderr",
     "output_type": "stream",
     "text": [
      "\u001b[32m2023-10-22 11:03:19.687\u001b[0m | \u001b[1mINFO    \u001b[0m | \u001b[36m__main__\u001b[0m:\u001b[36mrun_pipeline_self\u001b[0m:\u001b[36m79\u001b[0m - \u001b[1m%242 - Running pipeline for row_seed: 42 and size_of_unlabelled_data: 0.5 and model: KNeighborsClassifier(metric='manhattan', n_neighbors=15, weights='distance')\u001b[0m\n",
      "\u001b[32m2023-10-22 11:03:21.634\u001b[0m | \u001b[1mINFO    \u001b[0m | \u001b[36m__main__\u001b[0m:\u001b[36mrun_pipeline_self\u001b[0m:\u001b[36m79\u001b[0m - \u001b[1m%243 - Running pipeline for row_seed: 206 and size_of_unlabelled_data: 0.5 and model: KNeighborsClassifier(metric='manhattan', n_neighbors=15, weights='distance')\u001b[0m\n",
      "\u001b[32m2023-10-22 11:03:23.671\u001b[0m | \u001b[1mINFO    \u001b[0m | \u001b[36m__main__\u001b[0m:\u001b[36mrun_pipeline_self\u001b[0m:\u001b[36m79\u001b[0m - \u001b[1m%244 - Running pipeline for row_seed: 602 and size_of_unlabelled_data: 0.5 and model: KNeighborsClassifier(metric='manhattan', n_neighbors=15, weights='distance')\u001b[0m\n",
      "\u001b[32m2023-10-22 11:03:25.740\u001b[0m | \u001b[1mINFO    \u001b[0m | \u001b[36m__main__\u001b[0m:\u001b[36mrun_pipeline_self\u001b[0m:\u001b[36m79\u001b[0m - \u001b[1m%245 - Running pipeline for row_seed: 412 and size_of_unlabelled_data: 0.5 and model: KNeighborsClassifier(metric='manhattan', n_neighbors=15, weights='distance')\u001b[0m\n",
      "\u001b[32m2023-10-22 11:03:27.459\u001b[0m | \u001b[1mINFO    \u001b[0m | \u001b[36m__main__\u001b[0m:\u001b[36mrun_pipeline_self\u001b[0m:\u001b[36m79\u001b[0m - \u001b[1m%246 - Running pipeline for row_seed: 214 and size_of_unlabelled_data: 0.5 and model: KNeighborsClassifier(metric='manhattan', n_neighbors=15, weights='distance')\u001b[0m\n",
      "\u001b[32m2023-10-22 11:03:29.193\u001b[0m | \u001b[1mINFO    \u001b[0m | \u001b[36m__main__\u001b[0m:\u001b[36mrun_pipeline_self\u001b[0m:\u001b[36m79\u001b[0m - \u001b[1m%247 - Running pipeline for row_seed: 754 and size_of_unlabelled_data: 0.5 and model: KNeighborsClassifier(metric='manhattan', n_neighbors=15, weights='distance')\u001b[0m\n",
      "\u001b[32m2023-10-22 11:03:31.105\u001b[0m | \u001b[1mINFO    \u001b[0m | \u001b[36m__main__\u001b[0m:\u001b[36mrun_pipeline_self\u001b[0m:\u001b[36m79\u001b[0m - \u001b[1m%248 - Running pipeline for row_seed: 457 and size_of_unlabelled_data: 0.5 and model: KNeighborsClassifier(metric='manhattan', n_neighbors=15, weights='distance')\u001b[0m\n",
      "\u001b[32m2023-10-22 11:03:33.120\u001b[0m | \u001b[1mINFO    \u001b[0m | \u001b[36m__main__\u001b[0m:\u001b[36mrun_pipeline_self\u001b[0m:\u001b[36m79\u001b[0m - \u001b[1m%249 - Running pipeline for row_seed: 2023 and size_of_unlabelled_data: 0.5 and model: KNeighborsClassifier(metric='manhattan', n_neighbors=15, weights='distance')\u001b[0m\n",
      "\u001b[32m2023-10-22 11:03:35.049\u001b[0m | \u001b[1mINFO    \u001b[0m | \u001b[36m__main__\u001b[0m:\u001b[36mrun_pipeline_self\u001b[0m:\u001b[36m79\u001b[0m - \u001b[1m%250 - Running pipeline for row_seed: 3202 and size_of_unlabelled_data: 0.5 and model: KNeighborsClassifier(metric='manhattan', n_neighbors=15, weights='distance')\u001b[0m\n",
      "\u001b[32m2023-10-22 11:03:37.181\u001b[0m | \u001b[1mINFO    \u001b[0m | \u001b[36m__main__\u001b[0m:\u001b[36mrun_pipeline_self\u001b[0m:\u001b[36m75\u001b[0m - \u001b[1mModel: KNeighborsClassifier(metric='manhattan', n_neighbors=15, weights='distance')\u001b[0m\n",
      "\u001b[32m2023-10-22 11:03:37.182\u001b[0m | \u001b[1mINFO    \u001b[0m | \u001b[36m__main__\u001b[0m:\u001b[36mrun_pipeline_self\u001b[0m:\u001b[36m76\u001b[0m - \u001b[1mSize of unlabelled data: 0.6\u001b[0m\n",
      "\u001b[32m2023-10-22 11:03:37.182\u001b[0m | \u001b[1mINFO    \u001b[0m | \u001b[36m__main__\u001b[0m:\u001b[36mrun_pipeline_self\u001b[0m:\u001b[36m79\u001b[0m - \u001b[1m%251 - Running pipeline for row_seed: 24 and size_of_unlabelled_data: 0.6 and model: KNeighborsClassifier(metric='manhattan', n_neighbors=15, weights='distance')\u001b[0m\n"
     ]
    },
    {
     "name": "stdout",
     "output_type": "stream",
     "text": [
      "\n",
      "\n"
     ]
    },
    {
     "name": "stderr",
     "output_type": "stream",
     "text": [
      "\u001b[32m2023-10-22 11:03:39.636\u001b[0m | \u001b[1mINFO    \u001b[0m | \u001b[36m__main__\u001b[0m:\u001b[36mrun_pipeline_self\u001b[0m:\u001b[36m79\u001b[0m - \u001b[1m%252 - Running pipeline for row_seed: 42 and size_of_unlabelled_data: 0.6 and model: KNeighborsClassifier(metric='manhattan', n_neighbors=15, weights='distance')\u001b[0m\n",
      "\u001b[32m2023-10-22 11:03:41.888\u001b[0m | \u001b[1mINFO    \u001b[0m | \u001b[36m__main__\u001b[0m:\u001b[36mrun_pipeline_self\u001b[0m:\u001b[36m79\u001b[0m - \u001b[1m%253 - Running pipeline for row_seed: 206 and size_of_unlabelled_data: 0.6 and model: KNeighborsClassifier(metric='manhattan', n_neighbors=15, weights='distance')\u001b[0m\n",
      "\u001b[32m2023-10-22 11:03:44.058\u001b[0m | \u001b[1mINFO    \u001b[0m | \u001b[36m__main__\u001b[0m:\u001b[36mrun_pipeline_self\u001b[0m:\u001b[36m79\u001b[0m - \u001b[1m%254 - Running pipeline for row_seed: 602 and size_of_unlabelled_data: 0.6 and model: KNeighborsClassifier(metric='manhattan', n_neighbors=15, weights='distance')\u001b[0m\n",
      "\u001b[32m2023-10-22 11:03:46.287\u001b[0m | \u001b[1mINFO    \u001b[0m | \u001b[36m__main__\u001b[0m:\u001b[36mrun_pipeline_self\u001b[0m:\u001b[36m79\u001b[0m - \u001b[1m%255 - Running pipeline for row_seed: 412 and size_of_unlabelled_data: 0.6 and model: KNeighborsClassifier(metric='manhattan', n_neighbors=15, weights='distance')\u001b[0m\n",
      "\u001b[32m2023-10-22 11:03:48.420\u001b[0m | \u001b[1mINFO    \u001b[0m | \u001b[36m__main__\u001b[0m:\u001b[36mrun_pipeline_self\u001b[0m:\u001b[36m79\u001b[0m - \u001b[1m%256 - Running pipeline for row_seed: 214 and size_of_unlabelled_data: 0.6 and model: KNeighborsClassifier(metric='manhattan', n_neighbors=15, weights='distance')\u001b[0m\n",
      "\u001b[32m2023-10-22 11:03:50.684\u001b[0m | \u001b[1mINFO    \u001b[0m | \u001b[36m__main__\u001b[0m:\u001b[36mrun_pipeline_self\u001b[0m:\u001b[36m79\u001b[0m - \u001b[1m%257 - Running pipeline for row_seed: 754 and size_of_unlabelled_data: 0.6 and model: KNeighborsClassifier(metric='manhattan', n_neighbors=15, weights='distance')\u001b[0m\n",
      "\u001b[32m2023-10-22 11:03:52.680\u001b[0m | \u001b[1mINFO    \u001b[0m | \u001b[36m__main__\u001b[0m:\u001b[36mrun_pipeline_self\u001b[0m:\u001b[36m79\u001b[0m - \u001b[1m%258 - Running pipeline for row_seed: 457 and size_of_unlabelled_data: 0.6 and model: KNeighborsClassifier(metric='manhattan', n_neighbors=15, weights='distance')\u001b[0m\n",
      "\u001b[32m2023-10-22 11:03:54.877\u001b[0m | \u001b[1mINFO    \u001b[0m | \u001b[36m__main__\u001b[0m:\u001b[36mrun_pipeline_self\u001b[0m:\u001b[36m79\u001b[0m - \u001b[1m%259 - Running pipeline for row_seed: 2023 and size_of_unlabelled_data: 0.6 and model: KNeighborsClassifier(metric='manhattan', n_neighbors=15, weights='distance')\u001b[0m\n",
      "\u001b[32m2023-10-22 11:03:57.132\u001b[0m | \u001b[1mINFO    \u001b[0m | \u001b[36m__main__\u001b[0m:\u001b[36mrun_pipeline_self\u001b[0m:\u001b[36m79\u001b[0m - \u001b[1m%260 - Running pipeline for row_seed: 3202 and size_of_unlabelled_data: 0.6 and model: KNeighborsClassifier(metric='manhattan', n_neighbors=15, weights='distance')\u001b[0m\n",
      "\u001b[32m2023-10-22 11:03:59.208\u001b[0m | \u001b[1mINFO    \u001b[0m | \u001b[36m__main__\u001b[0m:\u001b[36mrun_pipeline_self\u001b[0m:\u001b[36m75\u001b[0m - \u001b[1mModel: KNeighborsClassifier(metric='manhattan', n_neighbors=15, weights='distance')\u001b[0m\n",
      "\u001b[32m2023-10-22 11:03:59.208\u001b[0m | \u001b[1mINFO    \u001b[0m | \u001b[36m__main__\u001b[0m:\u001b[36mrun_pipeline_self\u001b[0m:\u001b[36m76\u001b[0m - \u001b[1mSize of unlabelled data: 0.7\u001b[0m\n",
      "\u001b[32m2023-10-22 11:03:59.209\u001b[0m | \u001b[1mINFO    \u001b[0m | \u001b[36m__main__\u001b[0m:\u001b[36mrun_pipeline_self\u001b[0m:\u001b[36m79\u001b[0m - \u001b[1m%261 - Running pipeline for row_seed: 24 and size_of_unlabelled_data: 0.7 and model: KNeighborsClassifier(metric='manhattan', n_neighbors=15, weights='distance')\u001b[0m\n"
     ]
    },
    {
     "name": "stdout",
     "output_type": "stream",
     "text": [
      "\n",
      "\n"
     ]
    },
    {
     "name": "stderr",
     "output_type": "stream",
     "text": [
      "\u001b[32m2023-10-22 11:04:01.472\u001b[0m | \u001b[1mINFO    \u001b[0m | \u001b[36m__main__\u001b[0m:\u001b[36mrun_pipeline_self\u001b[0m:\u001b[36m79\u001b[0m - \u001b[1m%262 - Running pipeline for row_seed: 42 and size_of_unlabelled_data: 0.7 and model: KNeighborsClassifier(metric='manhattan', n_neighbors=15, weights='distance')\u001b[0m\n",
      "\u001b[32m2023-10-22 11:04:03.706\u001b[0m | \u001b[1mINFO    \u001b[0m | \u001b[36m__main__\u001b[0m:\u001b[36mrun_pipeline_self\u001b[0m:\u001b[36m79\u001b[0m - \u001b[1m%263 - Running pipeline for row_seed: 206 and size_of_unlabelled_data: 0.7 and model: KNeighborsClassifier(metric='manhattan', n_neighbors=15, weights='distance')\u001b[0m\n",
      "\u001b[32m2023-10-22 11:04:05.907\u001b[0m | \u001b[1mINFO    \u001b[0m | \u001b[36m__main__\u001b[0m:\u001b[36mrun_pipeline_self\u001b[0m:\u001b[36m79\u001b[0m - \u001b[1m%264 - Running pipeline for row_seed: 602 and size_of_unlabelled_data: 0.7 and model: KNeighborsClassifier(metric='manhattan', n_neighbors=15, weights='distance')\u001b[0m\n",
      "\u001b[32m2023-10-22 11:04:08.193\u001b[0m | \u001b[1mINFO    \u001b[0m | \u001b[36m__main__\u001b[0m:\u001b[36mrun_pipeline_self\u001b[0m:\u001b[36m79\u001b[0m - \u001b[1m%265 - Running pipeline for row_seed: 412 and size_of_unlabelled_data: 0.7 and model: KNeighborsClassifier(metric='manhattan', n_neighbors=15, weights='distance')\u001b[0m\n",
      "\u001b[32m2023-10-22 11:04:10.401\u001b[0m | \u001b[1mINFO    \u001b[0m | \u001b[36m__main__\u001b[0m:\u001b[36mrun_pipeline_self\u001b[0m:\u001b[36m79\u001b[0m - \u001b[1m%266 - Running pipeline for row_seed: 214 and size_of_unlabelled_data: 0.7 and model: KNeighborsClassifier(metric='manhattan', n_neighbors=15, weights='distance')\u001b[0m\n",
      "\u001b[32m2023-10-22 11:04:12.762\u001b[0m | \u001b[1mINFO    \u001b[0m | \u001b[36m__main__\u001b[0m:\u001b[36mrun_pipeline_self\u001b[0m:\u001b[36m79\u001b[0m - \u001b[1m%267 - Running pipeline for row_seed: 754 and size_of_unlabelled_data: 0.7 and model: KNeighborsClassifier(metric='manhattan', n_neighbors=15, weights='distance')\u001b[0m\n",
      "\u001b[32m2023-10-22 11:04:15.001\u001b[0m | \u001b[1mINFO    \u001b[0m | \u001b[36m__main__\u001b[0m:\u001b[36mrun_pipeline_self\u001b[0m:\u001b[36m79\u001b[0m - \u001b[1m%268 - Running pipeline for row_seed: 457 and size_of_unlabelled_data: 0.7 and model: KNeighborsClassifier(metric='manhattan', n_neighbors=15, weights='distance')\u001b[0m\n",
      "\u001b[32m2023-10-22 11:04:17.250\u001b[0m | \u001b[1mINFO    \u001b[0m | \u001b[36m__main__\u001b[0m:\u001b[36mrun_pipeline_self\u001b[0m:\u001b[36m79\u001b[0m - \u001b[1m%269 - Running pipeline for row_seed: 2023 and size_of_unlabelled_data: 0.7 and model: KNeighborsClassifier(metric='manhattan', n_neighbors=15, weights='distance')\u001b[0m\n",
      "\u001b[32m2023-10-22 11:04:19.494\u001b[0m | \u001b[1mINFO    \u001b[0m | \u001b[36m__main__\u001b[0m:\u001b[36mrun_pipeline_self\u001b[0m:\u001b[36m79\u001b[0m - \u001b[1m%270 - Running pipeline for row_seed: 3202 and size_of_unlabelled_data: 0.7 and model: KNeighborsClassifier(metric='manhattan', n_neighbors=15, weights='distance')\u001b[0m\n",
      "\u001b[32m2023-10-22 11:04:21.728\u001b[0m | \u001b[1mINFO    \u001b[0m | \u001b[36m__main__\u001b[0m:\u001b[36mrun_pipeline_self\u001b[0m:\u001b[36m75\u001b[0m - \u001b[1mModel: KNeighborsClassifier(metric='manhattan', n_neighbors=15, weights='distance')\u001b[0m\n",
      "\u001b[32m2023-10-22 11:04:21.729\u001b[0m | \u001b[1mINFO    \u001b[0m | \u001b[36m__main__\u001b[0m:\u001b[36mrun_pipeline_self\u001b[0m:\u001b[36m76\u001b[0m - \u001b[1mSize of unlabelled data: 0.8\u001b[0m\n",
      "\u001b[32m2023-10-22 11:04:21.729\u001b[0m | \u001b[1mINFO    \u001b[0m | \u001b[36m__main__\u001b[0m:\u001b[36mrun_pipeline_self\u001b[0m:\u001b[36m79\u001b[0m - \u001b[1m%271 - Running pipeline for row_seed: 24 and size_of_unlabelled_data: 0.8 and model: KNeighborsClassifier(metric='manhattan', n_neighbors=15, weights='distance')\u001b[0m\n"
     ]
    },
    {
     "name": "stdout",
     "output_type": "stream",
     "text": [
      "\n",
      "\n"
     ]
    },
    {
     "name": "stderr",
     "output_type": "stream",
     "text": [
      "\u001b[32m2023-10-22 11:04:23.954\u001b[0m | \u001b[1mINFO    \u001b[0m | \u001b[36m__main__\u001b[0m:\u001b[36mrun_pipeline_self\u001b[0m:\u001b[36m79\u001b[0m - \u001b[1m%272 - Running pipeline for row_seed: 42 and size_of_unlabelled_data: 0.8 and model: KNeighborsClassifier(metric='manhattan', n_neighbors=15, weights='distance')\u001b[0m\n",
      "\u001b[32m2023-10-22 11:04:26.075\u001b[0m | \u001b[1mINFO    \u001b[0m | \u001b[36m__main__\u001b[0m:\u001b[36mrun_pipeline_self\u001b[0m:\u001b[36m79\u001b[0m - \u001b[1m%273 - Running pipeline for row_seed: 206 and size_of_unlabelled_data: 0.8 and model: KNeighborsClassifier(metric='manhattan', n_neighbors=15, weights='distance')\u001b[0m\n",
      "\u001b[32m2023-10-22 11:04:28.095\u001b[0m | \u001b[1mINFO    \u001b[0m | \u001b[36m__main__\u001b[0m:\u001b[36mrun_pipeline_self\u001b[0m:\u001b[36m79\u001b[0m - \u001b[1m%274 - Running pipeline for row_seed: 602 and size_of_unlabelled_data: 0.8 and model: KNeighborsClassifier(metric='manhattan', n_neighbors=15, weights='distance')\u001b[0m\n",
      "\u001b[32m2023-10-22 11:04:30.366\u001b[0m | \u001b[1mINFO    \u001b[0m | \u001b[36m__main__\u001b[0m:\u001b[36mrun_pipeline_self\u001b[0m:\u001b[36m79\u001b[0m - \u001b[1m%275 - Running pipeline for row_seed: 412 and size_of_unlabelled_data: 0.8 and model: KNeighborsClassifier(metric='manhattan', n_neighbors=15, weights='distance')\u001b[0m\n",
      "\u001b[32m2023-10-22 11:04:32.767\u001b[0m | \u001b[1mINFO    \u001b[0m | \u001b[36m__main__\u001b[0m:\u001b[36mrun_pipeline_self\u001b[0m:\u001b[36m79\u001b[0m - \u001b[1m%276 - Running pipeline for row_seed: 214 and size_of_unlabelled_data: 0.8 and model: KNeighborsClassifier(metric='manhattan', n_neighbors=15, weights='distance')\u001b[0m\n",
      "\u001b[32m2023-10-22 11:04:35.000\u001b[0m | \u001b[1mINFO    \u001b[0m | \u001b[36m__main__\u001b[0m:\u001b[36mrun_pipeline_self\u001b[0m:\u001b[36m79\u001b[0m - \u001b[1m%277 - Running pipeline for row_seed: 754 and size_of_unlabelled_data: 0.8 and model: KNeighborsClassifier(metric='manhattan', n_neighbors=15, weights='distance')\u001b[0m\n",
      "\u001b[32m2023-10-22 11:04:37.001\u001b[0m | \u001b[1mINFO    \u001b[0m | \u001b[36m__main__\u001b[0m:\u001b[36mrun_pipeline_self\u001b[0m:\u001b[36m79\u001b[0m - \u001b[1m%278 - Running pipeline for row_seed: 457 and size_of_unlabelled_data: 0.8 and model: KNeighborsClassifier(metric='manhattan', n_neighbors=15, weights='distance')\u001b[0m\n",
      "\u001b[32m2023-10-22 11:04:39.329\u001b[0m | \u001b[1mINFO    \u001b[0m | \u001b[36m__main__\u001b[0m:\u001b[36mrun_pipeline_self\u001b[0m:\u001b[36m79\u001b[0m - \u001b[1m%279 - Running pipeline for row_seed: 2023 and size_of_unlabelled_data: 0.8 and model: KNeighborsClassifier(metric='manhattan', n_neighbors=15, weights='distance')\u001b[0m\n",
      "\u001b[32m2023-10-22 11:04:41.517\u001b[0m | \u001b[1mINFO    \u001b[0m | \u001b[36m__main__\u001b[0m:\u001b[36mrun_pipeline_self\u001b[0m:\u001b[36m79\u001b[0m - \u001b[1m%280 - Running pipeline for row_seed: 3202 and size_of_unlabelled_data: 0.8 and model: KNeighborsClassifier(metric='manhattan', n_neighbors=15, weights='distance')\u001b[0m\n",
      "\u001b[32m2023-10-22 11:04:43.770\u001b[0m | \u001b[1mINFO    \u001b[0m | \u001b[36m__main__\u001b[0m:\u001b[36mrun_pipeline_self\u001b[0m:\u001b[36m75\u001b[0m - \u001b[1mModel: KNeighborsClassifier(metric='manhattan', n_neighbors=15, weights='distance')\u001b[0m\n",
      "\u001b[32m2023-10-22 11:04:43.770\u001b[0m | \u001b[1mINFO    \u001b[0m | \u001b[36m__main__\u001b[0m:\u001b[36mrun_pipeline_self\u001b[0m:\u001b[36m76\u001b[0m - \u001b[1mSize of unlabelled data: 0.85\u001b[0m\n",
      "\u001b[32m2023-10-22 11:04:43.771\u001b[0m | \u001b[1mINFO    \u001b[0m | \u001b[36m__main__\u001b[0m:\u001b[36mrun_pipeline_self\u001b[0m:\u001b[36m79\u001b[0m - \u001b[1m%281 - Running pipeline for row_seed: 24 and size_of_unlabelled_data: 0.85 and model: KNeighborsClassifier(metric='manhattan', n_neighbors=15, weights='distance')\u001b[0m\n"
     ]
    },
    {
     "name": "stdout",
     "output_type": "stream",
     "text": [
      "\n",
      "\n"
     ]
    },
    {
     "name": "stderr",
     "output_type": "stream",
     "text": [
      "\u001b[32m2023-10-22 11:04:45.828\u001b[0m | \u001b[1mINFO    \u001b[0m | \u001b[36m__main__\u001b[0m:\u001b[36mrun_pipeline_self\u001b[0m:\u001b[36m79\u001b[0m - \u001b[1m%282 - Running pipeline for row_seed: 42 and size_of_unlabelled_data: 0.85 and model: KNeighborsClassifier(metric='manhattan', n_neighbors=15, weights='distance')\u001b[0m\n",
      "\u001b[32m2023-10-22 11:04:47.896\u001b[0m | \u001b[1mINFO    \u001b[0m | \u001b[36m__main__\u001b[0m:\u001b[36mrun_pipeline_self\u001b[0m:\u001b[36m79\u001b[0m - \u001b[1m%283 - Running pipeline for row_seed: 206 and size_of_unlabelled_data: 0.85 and model: KNeighborsClassifier(metric='manhattan', n_neighbors=15, weights='distance')\u001b[0m\n",
      "\u001b[32m2023-10-22 11:04:49.964\u001b[0m | \u001b[1mINFO    \u001b[0m | \u001b[36m__main__\u001b[0m:\u001b[36mrun_pipeline_self\u001b[0m:\u001b[36m79\u001b[0m - \u001b[1m%284 - Running pipeline for row_seed: 602 and size_of_unlabelled_data: 0.85 and model: KNeighborsClassifier(metric='manhattan', n_neighbors=15, weights='distance')\u001b[0m\n",
      "\u001b[32m2023-10-22 11:04:52.005\u001b[0m | \u001b[1mINFO    \u001b[0m | \u001b[36m__main__\u001b[0m:\u001b[36mrun_pipeline_self\u001b[0m:\u001b[36m79\u001b[0m - \u001b[1m%285 - Running pipeline for row_seed: 412 and size_of_unlabelled_data: 0.85 and model: KNeighborsClassifier(metric='manhattan', n_neighbors=15, weights='distance')\u001b[0m\n",
      "\u001b[32m2023-10-22 11:04:53.970\u001b[0m | \u001b[1mINFO    \u001b[0m | \u001b[36m__main__\u001b[0m:\u001b[36mrun_pipeline_self\u001b[0m:\u001b[36m79\u001b[0m - \u001b[1m%286 - Running pipeline for row_seed: 214 and size_of_unlabelled_data: 0.85 and model: KNeighborsClassifier(metric='manhattan', n_neighbors=15, weights='distance')\u001b[0m\n",
      "\u001b[32m2023-10-22 11:04:55.929\u001b[0m | \u001b[1mINFO    \u001b[0m | \u001b[36m__main__\u001b[0m:\u001b[36mrun_pipeline_self\u001b[0m:\u001b[36m79\u001b[0m - \u001b[1m%287 - Running pipeline for row_seed: 754 and size_of_unlabelled_data: 0.85 and model: KNeighborsClassifier(metric='manhattan', n_neighbors=15, weights='distance')\u001b[0m\n",
      "\u001b[32m2023-10-22 11:04:57.998\u001b[0m | \u001b[1mINFO    \u001b[0m | \u001b[36m__main__\u001b[0m:\u001b[36mrun_pipeline_self\u001b[0m:\u001b[36m79\u001b[0m - \u001b[1m%288 - Running pipeline for row_seed: 457 and size_of_unlabelled_data: 0.85 and model: KNeighborsClassifier(metric='manhattan', n_neighbors=15, weights='distance')\u001b[0m\n",
      "\u001b[32m2023-10-22 11:05:00.073\u001b[0m | \u001b[1mINFO    \u001b[0m | \u001b[36m__main__\u001b[0m:\u001b[36mrun_pipeline_self\u001b[0m:\u001b[36m79\u001b[0m - \u001b[1m%289 - Running pipeline for row_seed: 2023 and size_of_unlabelled_data: 0.85 and model: KNeighborsClassifier(metric='manhattan', n_neighbors=15, weights='distance')\u001b[0m\n",
      "\u001b[32m2023-10-22 11:05:02.114\u001b[0m | \u001b[1mINFO    \u001b[0m | \u001b[36m__main__\u001b[0m:\u001b[36mrun_pipeline_self\u001b[0m:\u001b[36m79\u001b[0m - \u001b[1m%290 - Running pipeline for row_seed: 3202 and size_of_unlabelled_data: 0.85 and model: KNeighborsClassifier(metric='manhattan', n_neighbors=15, weights='distance')\u001b[0m\n",
      "\u001b[32m2023-10-22 11:05:04.310\u001b[0m | \u001b[1mINFO    \u001b[0m | \u001b[36m__main__\u001b[0m:\u001b[36mrun_pipeline_self\u001b[0m:\u001b[36m75\u001b[0m - \u001b[1mModel: KNeighborsClassifier(metric='manhattan', n_neighbors=15, weights='distance')\u001b[0m\n",
      "\u001b[32m2023-10-22 11:05:04.311\u001b[0m | \u001b[1mINFO    \u001b[0m | \u001b[36m__main__\u001b[0m:\u001b[36mrun_pipeline_self\u001b[0m:\u001b[36m76\u001b[0m - \u001b[1mSize of unlabelled data: 0.9\u001b[0m\n",
      "\u001b[32m2023-10-22 11:05:04.312\u001b[0m | \u001b[1mINFO    \u001b[0m | \u001b[36m__main__\u001b[0m:\u001b[36mrun_pipeline_self\u001b[0m:\u001b[36m79\u001b[0m - \u001b[1m%291 - Running pipeline for row_seed: 24 and size_of_unlabelled_data: 0.9 and model: KNeighborsClassifier(metric='manhattan', n_neighbors=15, weights='distance')\u001b[0m\n"
     ]
    },
    {
     "name": "stdout",
     "output_type": "stream",
     "text": [
      "\n",
      "\n"
     ]
    },
    {
     "name": "stderr",
     "output_type": "stream",
     "text": [
      "\u001b[32m2023-10-22 11:05:06.351\u001b[0m | \u001b[1mINFO    \u001b[0m | \u001b[36m__main__\u001b[0m:\u001b[36mrun_pipeline_self\u001b[0m:\u001b[36m79\u001b[0m - \u001b[1m%292 - Running pipeline for row_seed: 42 and size_of_unlabelled_data: 0.9 and model: KNeighborsClassifier(metric='manhattan', n_neighbors=15, weights='distance')\u001b[0m\n",
      "\u001b[32m2023-10-22 11:05:08.462\u001b[0m | \u001b[1mINFO    \u001b[0m | \u001b[36m__main__\u001b[0m:\u001b[36mrun_pipeline_self\u001b[0m:\u001b[36m79\u001b[0m - \u001b[1m%293 - Running pipeline for row_seed: 206 and size_of_unlabelled_data: 0.9 and model: KNeighborsClassifier(metric='manhattan', n_neighbors=15, weights='distance')\u001b[0m\n",
      "\u001b[32m2023-10-22 11:05:10.422\u001b[0m | \u001b[1mINFO    \u001b[0m | \u001b[36m__main__\u001b[0m:\u001b[36mrun_pipeline_self\u001b[0m:\u001b[36m79\u001b[0m - \u001b[1m%294 - Running pipeline for row_seed: 602 and size_of_unlabelled_data: 0.9 and model: KNeighborsClassifier(metric='manhattan', n_neighbors=15, weights='distance')\u001b[0m\n",
      "\u001b[32m2023-10-22 11:05:12.337\u001b[0m | \u001b[1mINFO    \u001b[0m | \u001b[36m__main__\u001b[0m:\u001b[36mrun_pipeline_self\u001b[0m:\u001b[36m79\u001b[0m - \u001b[1m%295 - Running pipeline for row_seed: 412 and size_of_unlabelled_data: 0.9 and model: KNeighborsClassifier(metric='manhattan', n_neighbors=15, weights='distance')\u001b[0m\n",
      "\u001b[32m2023-10-22 11:05:14.226\u001b[0m | \u001b[1mINFO    \u001b[0m | \u001b[36m__main__\u001b[0m:\u001b[36mrun_pipeline_self\u001b[0m:\u001b[36m79\u001b[0m - \u001b[1m%296 - Running pipeline for row_seed: 214 and size_of_unlabelled_data: 0.9 and model: KNeighborsClassifier(metric='manhattan', n_neighbors=15, weights='distance')\u001b[0m\n",
      "\u001b[32m2023-10-22 11:05:16.087\u001b[0m | \u001b[1mINFO    \u001b[0m | \u001b[36m__main__\u001b[0m:\u001b[36mrun_pipeline_self\u001b[0m:\u001b[36m79\u001b[0m - \u001b[1m%297 - Running pipeline for row_seed: 754 and size_of_unlabelled_data: 0.9 and model: KNeighborsClassifier(metric='manhattan', n_neighbors=15, weights='distance')\u001b[0m\n",
      "\u001b[32m2023-10-22 11:05:18.022\u001b[0m | \u001b[1mINFO    \u001b[0m | \u001b[36m__main__\u001b[0m:\u001b[36mrun_pipeline_self\u001b[0m:\u001b[36m79\u001b[0m - \u001b[1m%298 - Running pipeline for row_seed: 457 and size_of_unlabelled_data: 0.9 and model: KNeighborsClassifier(metric='manhattan', n_neighbors=15, weights='distance')\u001b[0m\n",
      "\u001b[32m2023-10-22 11:05:20.090\u001b[0m | \u001b[1mINFO    \u001b[0m | \u001b[36m__main__\u001b[0m:\u001b[36mrun_pipeline_self\u001b[0m:\u001b[36m79\u001b[0m - \u001b[1m%299 - Running pipeline for row_seed: 2023 and size_of_unlabelled_data: 0.9 and model: KNeighborsClassifier(metric='manhattan', n_neighbors=15, weights='distance')\u001b[0m\n",
      "\u001b[32m2023-10-22 11:05:22.000\u001b[0m | \u001b[1mINFO    \u001b[0m | \u001b[36m__main__\u001b[0m:\u001b[36mrun_pipeline_self\u001b[0m:\u001b[36m79\u001b[0m - \u001b[1m%300 - Running pipeline for row_seed: 3202 and size_of_unlabelled_data: 0.9 and model: KNeighborsClassifier(metric='manhattan', n_neighbors=15, weights='distance')\u001b[0m\n",
      "\u001b[32m2023-10-22 11:05:23.945\u001b[0m | \u001b[1mINFO    \u001b[0m | \u001b[36m__main__\u001b[0m:\u001b[36mrun_pipeline_self\u001b[0m:\u001b[36m75\u001b[0m - \u001b[1mModel: RandomForestClassifier(max_depth=15, min_samples_split=3, n_estimators=200)\u001b[0m\n",
      "\u001b[32m2023-10-22 11:05:23.946\u001b[0m | \u001b[1mINFO    \u001b[0m | \u001b[36m__main__\u001b[0m:\u001b[36mrun_pipeline_self\u001b[0m:\u001b[36m76\u001b[0m - \u001b[1mSize of unlabelled data: 0.1\u001b[0m\n",
      "\u001b[32m2023-10-22 11:05:23.946\u001b[0m | \u001b[1mINFO    \u001b[0m | \u001b[36m__main__\u001b[0m:\u001b[36mrun_pipeline_self\u001b[0m:\u001b[36m79\u001b[0m - \u001b[1m%301 - Running pipeline for row_seed: 24 and size_of_unlabelled_data: 0.1 and model: RandomForestClassifier(max_depth=15, min_samples_split=3, n_estimators=200)\u001b[0m\n"
     ]
    },
    {
     "name": "stdout",
     "output_type": "stream",
     "text": [
      "\n",
      "\n"
     ]
    },
    {
     "name": "stderr",
     "output_type": "stream",
     "text": [
      "\u001b[32m2023-10-22 11:05:56.506\u001b[0m | \u001b[1mINFO    \u001b[0m | \u001b[36m__main__\u001b[0m:\u001b[36mrun_pipeline_self\u001b[0m:\u001b[36m79\u001b[0m - \u001b[1m%302 - Running pipeline for row_seed: 42 and size_of_unlabelled_data: 0.1 and model: RandomForestClassifier(max_depth=15, min_samples_split=3, n_estimators=200)\u001b[0m\n",
      "\u001b[32m2023-10-22 11:06:29.086\u001b[0m | \u001b[1mINFO    \u001b[0m | \u001b[36m__main__\u001b[0m:\u001b[36mrun_pipeline_self\u001b[0m:\u001b[36m79\u001b[0m - \u001b[1m%303 - Running pipeline for row_seed: 206 and size_of_unlabelled_data: 0.1 and model: RandomForestClassifier(max_depth=15, min_samples_split=3, n_estimators=200)\u001b[0m\n",
      "\u001b[32m2023-10-22 11:07:01.348\u001b[0m | \u001b[1mINFO    \u001b[0m | \u001b[36m__main__\u001b[0m:\u001b[36mrun_pipeline_self\u001b[0m:\u001b[36m79\u001b[0m - \u001b[1m%304 - Running pipeline for row_seed: 602 and size_of_unlabelled_data: 0.1 and model: RandomForestClassifier(max_depth=15, min_samples_split=3, n_estimators=200)\u001b[0m\n",
      "\u001b[32m2023-10-22 11:07:33.511\u001b[0m | \u001b[1mINFO    \u001b[0m | \u001b[36m__main__\u001b[0m:\u001b[36mrun_pipeline_self\u001b[0m:\u001b[36m79\u001b[0m - \u001b[1m%305 - Running pipeline for row_seed: 412 and size_of_unlabelled_data: 0.1 and model: RandomForestClassifier(max_depth=15, min_samples_split=3, n_estimators=200)\u001b[0m\n",
      "\u001b[32m2023-10-22 11:08:05.849\u001b[0m | \u001b[1mINFO    \u001b[0m | \u001b[36m__main__\u001b[0m:\u001b[36mrun_pipeline_self\u001b[0m:\u001b[36m79\u001b[0m - \u001b[1m%306 - Running pipeline for row_seed: 214 and size_of_unlabelled_data: 0.1 and model: RandomForestClassifier(max_depth=15, min_samples_split=3, n_estimators=200)\u001b[0m\n",
      "\u001b[32m2023-10-22 11:08:38.164\u001b[0m | \u001b[1mINFO    \u001b[0m | \u001b[36m__main__\u001b[0m:\u001b[36mrun_pipeline_self\u001b[0m:\u001b[36m79\u001b[0m - \u001b[1m%307 - Running pipeline for row_seed: 754 and size_of_unlabelled_data: 0.1 and model: RandomForestClassifier(max_depth=15, min_samples_split=3, n_estimators=200)\u001b[0m\n",
      "\u001b[32m2023-10-22 11:09:10.576\u001b[0m | \u001b[1mINFO    \u001b[0m | \u001b[36m__main__\u001b[0m:\u001b[36mrun_pipeline_self\u001b[0m:\u001b[36m79\u001b[0m - \u001b[1m%308 - Running pipeline for row_seed: 457 and size_of_unlabelled_data: 0.1 and model: RandomForestClassifier(max_depth=15, min_samples_split=3, n_estimators=200)\u001b[0m\n",
      "\u001b[32m2023-10-22 11:09:43.180\u001b[0m | \u001b[1mINFO    \u001b[0m | \u001b[36m__main__\u001b[0m:\u001b[36mrun_pipeline_self\u001b[0m:\u001b[36m79\u001b[0m - \u001b[1m%309 - Running pipeline for row_seed: 2023 and size_of_unlabelled_data: 0.1 and model: RandomForestClassifier(max_depth=15, min_samples_split=3, n_estimators=200)\u001b[0m\n",
      "\u001b[32m2023-10-22 11:10:15.631\u001b[0m | \u001b[1mINFO    \u001b[0m | \u001b[36m__main__\u001b[0m:\u001b[36mrun_pipeline_self\u001b[0m:\u001b[36m79\u001b[0m - \u001b[1m%310 - Running pipeline for row_seed: 3202 and size_of_unlabelled_data: 0.1 and model: RandomForestClassifier(max_depth=15, min_samples_split=3, n_estimators=200)\u001b[0m\n",
      "\u001b[32m2023-10-22 11:10:48.188\u001b[0m | \u001b[1mINFO    \u001b[0m | \u001b[36m__main__\u001b[0m:\u001b[36mrun_pipeline_self\u001b[0m:\u001b[36m75\u001b[0m - \u001b[1mModel: RandomForestClassifier(max_depth=15, min_samples_split=3, n_estimators=200)\u001b[0m\n",
      "\u001b[32m2023-10-22 11:10:48.189\u001b[0m | \u001b[1mINFO    \u001b[0m | \u001b[36m__main__\u001b[0m:\u001b[36mrun_pipeline_self\u001b[0m:\u001b[36m76\u001b[0m - \u001b[1mSize of unlabelled data: 0.2\u001b[0m\n",
      "\u001b[32m2023-10-22 11:10:48.189\u001b[0m | \u001b[1mINFO    \u001b[0m | \u001b[36m__main__\u001b[0m:\u001b[36mrun_pipeline_self\u001b[0m:\u001b[36m79\u001b[0m - \u001b[1m%311 - Running pipeline for row_seed: 24 and size_of_unlabelled_data: 0.2 and model: RandomForestClassifier(max_depth=15, min_samples_split=3, n_estimators=200)\u001b[0m\n"
     ]
    },
    {
     "name": "stdout",
     "output_type": "stream",
     "text": [
      "\n",
      "\n"
     ]
    },
    {
     "name": "stderr",
     "output_type": "stream",
     "text": [
      "\u001b[32m2023-10-22 11:11:19.877\u001b[0m | \u001b[1mINFO    \u001b[0m | \u001b[36m__main__\u001b[0m:\u001b[36mrun_pipeline_self\u001b[0m:\u001b[36m79\u001b[0m - \u001b[1m%312 - Running pipeline for row_seed: 42 and size_of_unlabelled_data: 0.2 and model: RandomForestClassifier(max_depth=15, min_samples_split=3, n_estimators=200)\u001b[0m\n",
      "\u001b[32m2023-10-22 11:11:51.609\u001b[0m | \u001b[1mINFO    \u001b[0m | \u001b[36m__main__\u001b[0m:\u001b[36mrun_pipeline_self\u001b[0m:\u001b[36m79\u001b[0m - \u001b[1m%313 - Running pipeline for row_seed: 206 and size_of_unlabelled_data: 0.2 and model: RandomForestClassifier(max_depth=15, min_samples_split=3, n_estimators=200)\u001b[0m\n",
      "\u001b[32m2023-10-22 11:12:23.390\u001b[0m | \u001b[1mINFO    \u001b[0m | \u001b[36m__main__\u001b[0m:\u001b[36mrun_pipeline_self\u001b[0m:\u001b[36m79\u001b[0m - \u001b[1m%314 - Running pipeline for row_seed: 602 and size_of_unlabelled_data: 0.2 and model: RandomForestClassifier(max_depth=15, min_samples_split=3, n_estimators=200)\u001b[0m\n",
      "\u001b[32m2023-10-22 11:12:55.587\u001b[0m | \u001b[1mINFO    \u001b[0m | \u001b[36m__main__\u001b[0m:\u001b[36mrun_pipeline_self\u001b[0m:\u001b[36m79\u001b[0m - \u001b[1m%315 - Running pipeline for row_seed: 412 and size_of_unlabelled_data: 0.2 and model: RandomForestClassifier(max_depth=15, min_samples_split=3, n_estimators=200)\u001b[0m\n",
      "\u001b[32m2023-10-22 11:13:28.365\u001b[0m | \u001b[1mINFO    \u001b[0m | \u001b[36m__main__\u001b[0m:\u001b[36mrun_pipeline_self\u001b[0m:\u001b[36m79\u001b[0m - \u001b[1m%316 - Running pipeline for row_seed: 214 and size_of_unlabelled_data: 0.2 and model: RandomForestClassifier(max_depth=15, min_samples_split=3, n_estimators=200)\u001b[0m\n",
      "\u001b[32m2023-10-22 11:14:00.514\u001b[0m | \u001b[1mINFO    \u001b[0m | \u001b[36m__main__\u001b[0m:\u001b[36mrun_pipeline_self\u001b[0m:\u001b[36m79\u001b[0m - \u001b[1m%317 - Running pipeline for row_seed: 754 and size_of_unlabelled_data: 0.2 and model: RandomForestClassifier(max_depth=15, min_samples_split=3, n_estimators=200)\u001b[0m\n",
      "\u001b[32m2023-10-22 11:14:31.794\u001b[0m | \u001b[1mINFO    \u001b[0m | \u001b[36m__main__\u001b[0m:\u001b[36mrun_pipeline_self\u001b[0m:\u001b[36m79\u001b[0m - \u001b[1m%318 - Running pipeline for row_seed: 457 and size_of_unlabelled_data: 0.2 and model: RandomForestClassifier(max_depth=15, min_samples_split=3, n_estimators=200)\u001b[0m\n",
      "\u001b[32m2023-10-22 11:15:03.275\u001b[0m | \u001b[1mINFO    \u001b[0m | \u001b[36m__main__\u001b[0m:\u001b[36mrun_pipeline_self\u001b[0m:\u001b[36m79\u001b[0m - \u001b[1m%319 - Running pipeline for row_seed: 2023 and size_of_unlabelled_data: 0.2 and model: RandomForestClassifier(max_depth=15, min_samples_split=3, n_estimators=200)\u001b[0m\n",
      "\u001b[32m2023-10-22 11:15:34.942\u001b[0m | \u001b[1mINFO    \u001b[0m | \u001b[36m__main__\u001b[0m:\u001b[36mrun_pipeline_self\u001b[0m:\u001b[36m79\u001b[0m - \u001b[1m%320 - Running pipeline for row_seed: 3202 and size_of_unlabelled_data: 0.2 and model: RandomForestClassifier(max_depth=15, min_samples_split=3, n_estimators=200)\u001b[0m\n",
      "\u001b[32m2023-10-22 11:16:06.890\u001b[0m | \u001b[1mINFO    \u001b[0m | \u001b[36m__main__\u001b[0m:\u001b[36mrun_pipeline_self\u001b[0m:\u001b[36m75\u001b[0m - \u001b[1mModel: RandomForestClassifier(max_depth=15, min_samples_split=3, n_estimators=200)\u001b[0m\n",
      "\u001b[32m2023-10-22 11:16:06.891\u001b[0m | \u001b[1mINFO    \u001b[0m | \u001b[36m__main__\u001b[0m:\u001b[36mrun_pipeline_self\u001b[0m:\u001b[36m76\u001b[0m - \u001b[1mSize of unlabelled data: 0.3\u001b[0m\n",
      "\u001b[32m2023-10-22 11:16:06.891\u001b[0m | \u001b[1mINFO    \u001b[0m | \u001b[36m__main__\u001b[0m:\u001b[36mrun_pipeline_self\u001b[0m:\u001b[36m79\u001b[0m - \u001b[1m%321 - Running pipeline for row_seed: 24 and size_of_unlabelled_data: 0.3 and model: RandomForestClassifier(max_depth=15, min_samples_split=3, n_estimators=200)\u001b[0m\n"
     ]
    },
    {
     "name": "stdout",
     "output_type": "stream",
     "text": [
      "\n",
      "\n"
     ]
    },
    {
     "name": "stderr",
     "output_type": "stream",
     "text": [
      "\u001b[32m2023-10-22 11:16:38.271\u001b[0m | \u001b[1mINFO    \u001b[0m | \u001b[36m__main__\u001b[0m:\u001b[36mrun_pipeline_self\u001b[0m:\u001b[36m79\u001b[0m - \u001b[1m%322 - Running pipeline for row_seed: 42 and size_of_unlabelled_data: 0.3 and model: RandomForestClassifier(max_depth=15, min_samples_split=3, n_estimators=200)\u001b[0m\n",
      "\u001b[32m2023-10-22 11:17:08.273\u001b[0m | \u001b[1mINFO    \u001b[0m | \u001b[36m__main__\u001b[0m:\u001b[36mrun_pipeline_self\u001b[0m:\u001b[36m79\u001b[0m - \u001b[1m%323 - Running pipeline for row_seed: 206 and size_of_unlabelled_data: 0.3 and model: RandomForestClassifier(max_depth=15, min_samples_split=3, n_estimators=200)\u001b[0m\n",
      "\u001b[32m2023-10-22 11:17:38.456\u001b[0m | \u001b[1mINFO    \u001b[0m | \u001b[36m__main__\u001b[0m:\u001b[36mrun_pipeline_self\u001b[0m:\u001b[36m79\u001b[0m - \u001b[1m%324 - Running pipeline for row_seed: 602 and size_of_unlabelled_data: 0.3 and model: RandomForestClassifier(max_depth=15, min_samples_split=3, n_estimators=200)\u001b[0m\n",
      "\u001b[32m2023-10-22 11:18:08.642\u001b[0m | \u001b[1mINFO    \u001b[0m | \u001b[36m__main__\u001b[0m:\u001b[36mrun_pipeline_self\u001b[0m:\u001b[36m79\u001b[0m - \u001b[1m%325 - Running pipeline for row_seed: 412 and size_of_unlabelled_data: 0.3 and model: RandomForestClassifier(max_depth=15, min_samples_split=3, n_estimators=200)\u001b[0m\n",
      "\u001b[32m2023-10-22 11:18:38.882\u001b[0m | \u001b[1mINFO    \u001b[0m | \u001b[36m__main__\u001b[0m:\u001b[36mrun_pipeline_self\u001b[0m:\u001b[36m79\u001b[0m - \u001b[1m%326 - Running pipeline for row_seed: 214 and size_of_unlabelled_data: 0.3 and model: RandomForestClassifier(max_depth=15, min_samples_split=3, n_estimators=200)\u001b[0m\n",
      "\u001b[32m2023-10-22 11:19:09.083\u001b[0m | \u001b[1mINFO    \u001b[0m | \u001b[36m__main__\u001b[0m:\u001b[36mrun_pipeline_self\u001b[0m:\u001b[36m79\u001b[0m - \u001b[1m%327 - Running pipeline for row_seed: 754 and size_of_unlabelled_data: 0.3 and model: RandomForestClassifier(max_depth=15, min_samples_split=3, n_estimators=200)\u001b[0m\n",
      "\u001b[32m2023-10-22 11:19:39.216\u001b[0m | \u001b[1mINFO    \u001b[0m | \u001b[36m__main__\u001b[0m:\u001b[36mrun_pipeline_self\u001b[0m:\u001b[36m79\u001b[0m - \u001b[1m%328 - Running pipeline for row_seed: 457 and size_of_unlabelled_data: 0.3 and model: RandomForestClassifier(max_depth=15, min_samples_split=3, n_estimators=200)\u001b[0m\n",
      "\u001b[32m2023-10-22 11:20:09.328\u001b[0m | \u001b[1mINFO    \u001b[0m | \u001b[36m__main__\u001b[0m:\u001b[36mrun_pipeline_self\u001b[0m:\u001b[36m79\u001b[0m - \u001b[1m%329 - Running pipeline for row_seed: 2023 and size_of_unlabelled_data: 0.3 and model: RandomForestClassifier(max_depth=15, min_samples_split=3, n_estimators=200)\u001b[0m\n",
      "\u001b[32m2023-10-22 11:20:39.805\u001b[0m | \u001b[1mINFO    \u001b[0m | \u001b[36m__main__\u001b[0m:\u001b[36mrun_pipeline_self\u001b[0m:\u001b[36m79\u001b[0m - \u001b[1m%330 - Running pipeline for row_seed: 3202 and size_of_unlabelled_data: 0.3 and model: RandomForestClassifier(max_depth=15, min_samples_split=3, n_estimators=200)\u001b[0m\n",
      "\u001b[32m2023-10-22 11:21:09.928\u001b[0m | \u001b[1mINFO    \u001b[0m | \u001b[36m__main__\u001b[0m:\u001b[36mrun_pipeline_self\u001b[0m:\u001b[36m75\u001b[0m - \u001b[1mModel: RandomForestClassifier(max_depth=15, min_samples_split=3, n_estimators=200)\u001b[0m\n",
      "\u001b[32m2023-10-22 11:21:09.929\u001b[0m | \u001b[1mINFO    \u001b[0m | \u001b[36m__main__\u001b[0m:\u001b[36mrun_pipeline_self\u001b[0m:\u001b[36m76\u001b[0m - \u001b[1mSize of unlabelled data: 0.4\u001b[0m\n",
      "\u001b[32m2023-10-22 11:21:09.929\u001b[0m | \u001b[1mINFO    \u001b[0m | \u001b[36m__main__\u001b[0m:\u001b[36mrun_pipeline_self\u001b[0m:\u001b[36m79\u001b[0m - \u001b[1m%331 - Running pipeline for row_seed: 24 and size_of_unlabelled_data: 0.4 and model: RandomForestClassifier(max_depth=15, min_samples_split=3, n_estimators=200)\u001b[0m\n"
     ]
    },
    {
     "name": "stdout",
     "output_type": "stream",
     "text": [
      "\n",
      "\n"
     ]
    },
    {
     "name": "stderr",
     "output_type": "stream",
     "text": [
      "\u001b[32m2023-10-22 11:21:39.601\u001b[0m | \u001b[1mINFO    \u001b[0m | \u001b[36m__main__\u001b[0m:\u001b[36mrun_pipeline_self\u001b[0m:\u001b[36m79\u001b[0m - \u001b[1m%332 - Running pipeline for row_seed: 42 and size_of_unlabelled_data: 0.4 and model: RandomForestClassifier(max_depth=15, min_samples_split=3, n_estimators=200)\u001b[0m\n",
      "\u001b[32m2023-10-22 11:22:09.212\u001b[0m | \u001b[1mINFO    \u001b[0m | \u001b[36m__main__\u001b[0m:\u001b[36mrun_pipeline_self\u001b[0m:\u001b[36m79\u001b[0m - \u001b[1m%333 - Running pipeline for row_seed: 206 and size_of_unlabelled_data: 0.4 and model: RandomForestClassifier(max_depth=15, min_samples_split=3, n_estimators=200)\u001b[0m\n",
      "\u001b[32m2023-10-22 11:22:38.702\u001b[0m | \u001b[1mINFO    \u001b[0m | \u001b[36m__main__\u001b[0m:\u001b[36mrun_pipeline_self\u001b[0m:\u001b[36m79\u001b[0m - \u001b[1m%334 - Running pipeline for row_seed: 602 and size_of_unlabelled_data: 0.4 and model: RandomForestClassifier(max_depth=15, min_samples_split=3, n_estimators=200)\u001b[0m\n",
      "\u001b[32m2023-10-22 11:23:08.240\u001b[0m | \u001b[1mINFO    \u001b[0m | \u001b[36m__main__\u001b[0m:\u001b[36mrun_pipeline_self\u001b[0m:\u001b[36m79\u001b[0m - \u001b[1m%335 - Running pipeline for row_seed: 412 and size_of_unlabelled_data: 0.4 and model: RandomForestClassifier(max_depth=15, min_samples_split=3, n_estimators=200)\u001b[0m\n",
      "\u001b[32m2023-10-22 11:23:38.573\u001b[0m | \u001b[1mINFO    \u001b[0m | \u001b[36m__main__\u001b[0m:\u001b[36mrun_pipeline_self\u001b[0m:\u001b[36m79\u001b[0m - \u001b[1m%336 - Running pipeline for row_seed: 214 and size_of_unlabelled_data: 0.4 and model: RandomForestClassifier(max_depth=15, min_samples_split=3, n_estimators=200)\u001b[0m\n",
      "\u001b[32m2023-10-22 11:24:09.572\u001b[0m | \u001b[1mINFO    \u001b[0m | \u001b[36m__main__\u001b[0m:\u001b[36mrun_pipeline_self\u001b[0m:\u001b[36m79\u001b[0m - \u001b[1m%337 - Running pipeline for row_seed: 754 and size_of_unlabelled_data: 0.4 and model: RandomForestClassifier(max_depth=15, min_samples_split=3, n_estimators=200)\u001b[0m\n",
      "\u001b[32m2023-10-22 11:24:40.515\u001b[0m | \u001b[1mINFO    \u001b[0m | \u001b[36m__main__\u001b[0m:\u001b[36mrun_pipeline_self\u001b[0m:\u001b[36m79\u001b[0m - \u001b[1m%338 - Running pipeline for row_seed: 457 and size_of_unlabelled_data: 0.4 and model: RandomForestClassifier(max_depth=15, min_samples_split=3, n_estimators=200)\u001b[0m\n",
      "\u001b[32m2023-10-22 11:25:19.891\u001b[0m | \u001b[1mINFO    \u001b[0m | \u001b[36m__main__\u001b[0m:\u001b[36mrun_pipeline_self\u001b[0m:\u001b[36m79\u001b[0m - \u001b[1m%339 - Running pipeline for row_seed: 2023 and size_of_unlabelled_data: 0.4 and model: RandomForestClassifier(max_depth=15, min_samples_split=3, n_estimators=200)\u001b[0m\n",
      "\u001b[32m2023-10-22 11:25:54.213\u001b[0m | \u001b[1mINFO    \u001b[0m | \u001b[36m__main__\u001b[0m:\u001b[36mrun_pipeline_self\u001b[0m:\u001b[36m79\u001b[0m - \u001b[1m%340 - Running pipeline for row_seed: 3202 and size_of_unlabelled_data: 0.4 and model: RandomForestClassifier(max_depth=15, min_samples_split=3, n_estimators=200)\u001b[0m\n",
      "\u001b[32m2023-10-22 11:26:24.055\u001b[0m | \u001b[1mINFO    \u001b[0m | \u001b[36m__main__\u001b[0m:\u001b[36mrun_pipeline_self\u001b[0m:\u001b[36m75\u001b[0m - \u001b[1mModel: RandomForestClassifier(max_depth=15, min_samples_split=3, n_estimators=200)\u001b[0m\n",
      "\u001b[32m2023-10-22 11:26:24.055\u001b[0m | \u001b[1mINFO    \u001b[0m | \u001b[36m__main__\u001b[0m:\u001b[36mrun_pipeline_self\u001b[0m:\u001b[36m76\u001b[0m - \u001b[1mSize of unlabelled data: 0.5\u001b[0m\n",
      "\u001b[32m2023-10-22 11:26:24.056\u001b[0m | \u001b[1mINFO    \u001b[0m | \u001b[36m__main__\u001b[0m:\u001b[36mrun_pipeline_self\u001b[0m:\u001b[36m79\u001b[0m - \u001b[1m%341 - Running pipeline for row_seed: 24 and size_of_unlabelled_data: 0.5 and model: RandomForestClassifier(max_depth=15, min_samples_split=3, n_estimators=200)\u001b[0m\n"
     ]
    },
    {
     "name": "stdout",
     "output_type": "stream",
     "text": [
      "\n",
      "\n"
     ]
    },
    {
     "name": "stderr",
     "output_type": "stream",
     "text": [
      "\u001b[32m2023-10-22 11:26:53.022\u001b[0m | \u001b[1mINFO    \u001b[0m | \u001b[36m__main__\u001b[0m:\u001b[36mrun_pipeline_self\u001b[0m:\u001b[36m79\u001b[0m - \u001b[1m%342 - Running pipeline for row_seed: 42 and size_of_unlabelled_data: 0.5 and model: RandomForestClassifier(max_depth=15, min_samples_split=3, n_estimators=200)\u001b[0m\n",
      "\u001b[32m2023-10-22 11:27:21.661\u001b[0m | \u001b[1mINFO    \u001b[0m | \u001b[36m__main__\u001b[0m:\u001b[36mrun_pipeline_self\u001b[0m:\u001b[36m79\u001b[0m - \u001b[1m%343 - Running pipeline for row_seed: 206 and size_of_unlabelled_data: 0.5 and model: RandomForestClassifier(max_depth=15, min_samples_split=3, n_estimators=200)\u001b[0m\n",
      "\u001b[32m2023-10-22 11:27:50.537\u001b[0m | \u001b[1mINFO    \u001b[0m | \u001b[36m__main__\u001b[0m:\u001b[36mrun_pipeline_self\u001b[0m:\u001b[36m79\u001b[0m - \u001b[1m%344 - Running pipeline for row_seed: 602 and size_of_unlabelled_data: 0.5 and model: RandomForestClassifier(max_depth=15, min_samples_split=3, n_estimators=200)\u001b[0m\n",
      "\u001b[32m2023-10-22 11:28:19.337\u001b[0m | \u001b[1mINFO    \u001b[0m | \u001b[36m__main__\u001b[0m:\u001b[36mrun_pipeline_self\u001b[0m:\u001b[36m79\u001b[0m - \u001b[1m%345 - Running pipeline for row_seed: 412 and size_of_unlabelled_data: 0.5 and model: RandomForestClassifier(max_depth=15, min_samples_split=3, n_estimators=200)\u001b[0m\n",
      "\u001b[32m2023-10-22 11:28:48.438\u001b[0m | \u001b[1mINFO    \u001b[0m | \u001b[36m__main__\u001b[0m:\u001b[36mrun_pipeline_self\u001b[0m:\u001b[36m79\u001b[0m - \u001b[1m%346 - Running pipeline for row_seed: 214 and size_of_unlabelled_data: 0.5 and model: RandomForestClassifier(max_depth=15, min_samples_split=3, n_estimators=200)\u001b[0m\n",
      "\u001b[32m2023-10-22 11:29:17.881\u001b[0m | \u001b[1mINFO    \u001b[0m | \u001b[36m__main__\u001b[0m:\u001b[36mrun_pipeline_self\u001b[0m:\u001b[36m79\u001b[0m - \u001b[1m%347 - Running pipeline for row_seed: 754 and size_of_unlabelled_data: 0.5 and model: RandomForestClassifier(max_depth=15, min_samples_split=3, n_estimators=200)\u001b[0m\n",
      "\u001b[32m2023-10-22 11:29:47.035\u001b[0m | \u001b[1mINFO    \u001b[0m | \u001b[36m__main__\u001b[0m:\u001b[36mrun_pipeline_self\u001b[0m:\u001b[36m79\u001b[0m - \u001b[1m%348 - Running pipeline for row_seed: 457 and size_of_unlabelled_data: 0.5 and model: RandomForestClassifier(max_depth=15, min_samples_split=3, n_estimators=200)\u001b[0m\n",
      "\u001b[32m2023-10-22 11:30:15.859\u001b[0m | \u001b[1mINFO    \u001b[0m | \u001b[36m__main__\u001b[0m:\u001b[36mrun_pipeline_self\u001b[0m:\u001b[36m79\u001b[0m - \u001b[1m%349 - Running pipeline for row_seed: 2023 and size_of_unlabelled_data: 0.5 and model: RandomForestClassifier(max_depth=15, min_samples_split=3, n_estimators=200)\u001b[0m\n",
      "\u001b[32m2023-10-22 11:30:44.752\u001b[0m | \u001b[1mINFO    \u001b[0m | \u001b[36m__main__\u001b[0m:\u001b[36mrun_pipeline_self\u001b[0m:\u001b[36m79\u001b[0m - \u001b[1m%350 - Running pipeline for row_seed: 3202 and size_of_unlabelled_data: 0.5 and model: RandomForestClassifier(max_depth=15, min_samples_split=3, n_estimators=200)\u001b[0m\n",
      "\u001b[32m2023-10-22 11:31:13.951\u001b[0m | \u001b[1mINFO    \u001b[0m | \u001b[36m__main__\u001b[0m:\u001b[36mrun_pipeline_self\u001b[0m:\u001b[36m75\u001b[0m - \u001b[1mModel: RandomForestClassifier(max_depth=15, min_samples_split=3, n_estimators=200)\u001b[0m\n",
      "\u001b[32m2023-10-22 11:31:13.952\u001b[0m | \u001b[1mINFO    \u001b[0m | \u001b[36m__main__\u001b[0m:\u001b[36mrun_pipeline_self\u001b[0m:\u001b[36m76\u001b[0m - \u001b[1mSize of unlabelled data: 0.6\u001b[0m\n",
      "\u001b[32m2023-10-22 11:31:13.952\u001b[0m | \u001b[1mINFO    \u001b[0m | \u001b[36m__main__\u001b[0m:\u001b[36mrun_pipeline_self\u001b[0m:\u001b[36m79\u001b[0m - \u001b[1m%351 - Running pipeline for row_seed: 24 and size_of_unlabelled_data: 0.6 and model: RandomForestClassifier(max_depth=15, min_samples_split=3, n_estimators=200)\u001b[0m\n"
     ]
    },
    {
     "name": "stdout",
     "output_type": "stream",
     "text": [
      "\n",
      "\n"
     ]
    },
    {
     "name": "stderr",
     "output_type": "stream",
     "text": [
      "\u001b[32m2023-10-22 11:31:42.374\u001b[0m | \u001b[1mINFO    \u001b[0m | \u001b[36m__main__\u001b[0m:\u001b[36mrun_pipeline_self\u001b[0m:\u001b[36m79\u001b[0m - \u001b[1m%352 - Running pipeline for row_seed: 42 and size_of_unlabelled_data: 0.6 and model: RandomForestClassifier(max_depth=15, min_samples_split=3, n_estimators=200)\u001b[0m\n",
      "\u001b[32m2023-10-22 11:32:10.537\u001b[0m | \u001b[1mINFO    \u001b[0m | \u001b[36m__main__\u001b[0m:\u001b[36mrun_pipeline_self\u001b[0m:\u001b[36m79\u001b[0m - \u001b[1m%353 - Running pipeline for row_seed: 206 and size_of_unlabelled_data: 0.6 and model: RandomForestClassifier(max_depth=15, min_samples_split=3, n_estimators=200)\u001b[0m\n",
      "\u001b[32m2023-10-22 11:32:38.896\u001b[0m | \u001b[1mINFO    \u001b[0m | \u001b[36m__main__\u001b[0m:\u001b[36mrun_pipeline_self\u001b[0m:\u001b[36m79\u001b[0m - \u001b[1m%354 - Running pipeline for row_seed: 602 and size_of_unlabelled_data: 0.6 and model: RandomForestClassifier(max_depth=15, min_samples_split=3, n_estimators=200)\u001b[0m\n",
      "\u001b[32m2023-10-22 11:33:07.348\u001b[0m | \u001b[1mINFO    \u001b[0m | \u001b[36m__main__\u001b[0m:\u001b[36mrun_pipeline_self\u001b[0m:\u001b[36m79\u001b[0m - \u001b[1m%355 - Running pipeline for row_seed: 412 and size_of_unlabelled_data: 0.6 and model: RandomForestClassifier(max_depth=15, min_samples_split=3, n_estimators=200)\u001b[0m\n",
      "\u001b[32m2023-10-22 11:33:35.639\u001b[0m | \u001b[1mINFO    \u001b[0m | \u001b[36m__main__\u001b[0m:\u001b[36mrun_pipeline_self\u001b[0m:\u001b[36m79\u001b[0m - \u001b[1m%356 - Running pipeline for row_seed: 214 and size_of_unlabelled_data: 0.6 and model: RandomForestClassifier(max_depth=15, min_samples_split=3, n_estimators=200)\u001b[0m\n",
      "\u001b[32m2023-10-22 11:34:04.004\u001b[0m | \u001b[1mINFO    \u001b[0m | \u001b[36m__main__\u001b[0m:\u001b[36mrun_pipeline_self\u001b[0m:\u001b[36m79\u001b[0m - \u001b[1m%357 - Running pipeline for row_seed: 754 and size_of_unlabelled_data: 0.6 and model: RandomForestClassifier(max_depth=15, min_samples_split=3, n_estimators=200)\u001b[0m\n",
      "\u001b[32m2023-10-22 11:34:32.178\u001b[0m | \u001b[1mINFO    \u001b[0m | \u001b[36m__main__\u001b[0m:\u001b[36mrun_pipeline_self\u001b[0m:\u001b[36m79\u001b[0m - \u001b[1m%358 - Running pipeline for row_seed: 457 and size_of_unlabelled_data: 0.6 and model: RandomForestClassifier(max_depth=15, min_samples_split=3, n_estimators=200)\u001b[0m\n",
      "\u001b[32m2023-10-22 11:35:00.392\u001b[0m | \u001b[1mINFO    \u001b[0m | \u001b[36m__main__\u001b[0m:\u001b[36mrun_pipeline_self\u001b[0m:\u001b[36m79\u001b[0m - \u001b[1m%359 - Running pipeline for row_seed: 2023 and size_of_unlabelled_data: 0.6 and model: RandomForestClassifier(max_depth=15, min_samples_split=3, n_estimators=200)\u001b[0m\n",
      "\u001b[32m2023-10-22 11:35:28.538\u001b[0m | \u001b[1mINFO    \u001b[0m | \u001b[36m__main__\u001b[0m:\u001b[36mrun_pipeline_self\u001b[0m:\u001b[36m79\u001b[0m - \u001b[1m%360 - Running pipeline for row_seed: 3202 and size_of_unlabelled_data: 0.6 and model: RandomForestClassifier(max_depth=15, min_samples_split=3, n_estimators=200)\u001b[0m\n",
      "\u001b[32m2023-10-22 11:35:57.145\u001b[0m | \u001b[1mINFO    \u001b[0m | \u001b[36m__main__\u001b[0m:\u001b[36mrun_pipeline_self\u001b[0m:\u001b[36m75\u001b[0m - \u001b[1mModel: RandomForestClassifier(max_depth=15, min_samples_split=3, n_estimators=200)\u001b[0m\n",
      "\u001b[32m2023-10-22 11:35:57.146\u001b[0m | \u001b[1mINFO    \u001b[0m | \u001b[36m__main__\u001b[0m:\u001b[36mrun_pipeline_self\u001b[0m:\u001b[36m76\u001b[0m - \u001b[1mSize of unlabelled data: 0.7\u001b[0m\n",
      "\u001b[32m2023-10-22 11:35:57.146\u001b[0m | \u001b[1mINFO    \u001b[0m | \u001b[36m__main__\u001b[0m:\u001b[36mrun_pipeline_self\u001b[0m:\u001b[36m79\u001b[0m - \u001b[1m%361 - Running pipeline for row_seed: 24 and size_of_unlabelled_data: 0.7 and model: RandomForestClassifier(max_depth=15, min_samples_split=3, n_estimators=200)\u001b[0m\n"
     ]
    },
    {
     "name": "stdout",
     "output_type": "stream",
     "text": [
      "\n",
      "\n"
     ]
    },
    {
     "name": "stderr",
     "output_type": "stream",
     "text": [
      "\u001b[32m2023-10-22 11:36:24.759\u001b[0m | \u001b[1mINFO    \u001b[0m | \u001b[36m__main__\u001b[0m:\u001b[36mrun_pipeline_self\u001b[0m:\u001b[36m79\u001b[0m - \u001b[1m%362 - Running pipeline for row_seed: 42 and size_of_unlabelled_data: 0.7 and model: RandomForestClassifier(max_depth=15, min_samples_split=3, n_estimators=200)\u001b[0m\n",
      "\u001b[32m2023-10-22 11:36:52.275\u001b[0m | \u001b[1mINFO    \u001b[0m | \u001b[36m__main__\u001b[0m:\u001b[36mrun_pipeline_self\u001b[0m:\u001b[36m79\u001b[0m - \u001b[1m%363 - Running pipeline for row_seed: 206 and size_of_unlabelled_data: 0.7 and model: RandomForestClassifier(max_depth=15, min_samples_split=3, n_estimators=200)\u001b[0m\n",
      "\u001b[32m2023-10-22 11:37:19.881\u001b[0m | \u001b[1mINFO    \u001b[0m | \u001b[36m__main__\u001b[0m:\u001b[36mrun_pipeline_self\u001b[0m:\u001b[36m79\u001b[0m - \u001b[1m%364 - Running pipeline for row_seed: 602 and size_of_unlabelled_data: 0.7 and model: RandomForestClassifier(max_depth=15, min_samples_split=3, n_estimators=200)\u001b[0m\n",
      "\u001b[32m2023-10-22 11:37:47.577\u001b[0m | \u001b[1mINFO    \u001b[0m | \u001b[36m__main__\u001b[0m:\u001b[36mrun_pipeline_self\u001b[0m:\u001b[36m79\u001b[0m - \u001b[1m%365 - Running pipeline for row_seed: 412 and size_of_unlabelled_data: 0.7 and model: RandomForestClassifier(max_depth=15, min_samples_split=3, n_estimators=200)\u001b[0m\n",
      "\u001b[32m2023-10-22 11:38:16.132\u001b[0m | \u001b[1mINFO    \u001b[0m | \u001b[36m__main__\u001b[0m:\u001b[36mrun_pipeline_self\u001b[0m:\u001b[36m79\u001b[0m - \u001b[1m%366 - Running pipeline for row_seed: 214 and size_of_unlabelled_data: 0.7 and model: RandomForestClassifier(max_depth=15, min_samples_split=3, n_estimators=200)\u001b[0m\n",
      "\u001b[32m2023-10-22 11:38:43.645\u001b[0m | \u001b[1mINFO    \u001b[0m | \u001b[36m__main__\u001b[0m:\u001b[36mrun_pipeline_self\u001b[0m:\u001b[36m79\u001b[0m - \u001b[1m%367 - Running pipeline for row_seed: 754 and size_of_unlabelled_data: 0.7 and model: RandomForestClassifier(max_depth=15, min_samples_split=3, n_estimators=200)\u001b[0m\n",
      "\u001b[32m2023-10-22 11:39:10.892\u001b[0m | \u001b[1mINFO    \u001b[0m | \u001b[36m__main__\u001b[0m:\u001b[36mrun_pipeline_self\u001b[0m:\u001b[36m79\u001b[0m - \u001b[1m%368 - Running pipeline for row_seed: 457 and size_of_unlabelled_data: 0.7 and model: RandomForestClassifier(max_depth=15, min_samples_split=3, n_estimators=200)\u001b[0m\n",
      "\u001b[32m2023-10-22 11:39:38.552\u001b[0m | \u001b[1mINFO    \u001b[0m | \u001b[36m__main__\u001b[0m:\u001b[36mrun_pipeline_self\u001b[0m:\u001b[36m79\u001b[0m - \u001b[1m%369 - Running pipeline for row_seed: 2023 and size_of_unlabelled_data: 0.7 and model: RandomForestClassifier(max_depth=15, min_samples_split=3, n_estimators=200)\u001b[0m\n",
      "\u001b[32m2023-10-22 11:40:07.772\u001b[0m | \u001b[1mINFO    \u001b[0m | \u001b[36m__main__\u001b[0m:\u001b[36mrun_pipeline_self\u001b[0m:\u001b[36m79\u001b[0m - \u001b[1m%370 - Running pipeline for row_seed: 3202 and size_of_unlabelled_data: 0.7 and model: RandomForestClassifier(max_depth=15, min_samples_split=3, n_estimators=200)\u001b[0m\n",
      "\u001b[32m2023-10-22 11:40:36.572\u001b[0m | \u001b[1mINFO    \u001b[0m | \u001b[36m__main__\u001b[0m:\u001b[36mrun_pipeline_self\u001b[0m:\u001b[36m75\u001b[0m - \u001b[1mModel: RandomForestClassifier(max_depth=15, min_samples_split=3, n_estimators=200)\u001b[0m\n",
      "\u001b[32m2023-10-22 11:40:36.573\u001b[0m | \u001b[1mINFO    \u001b[0m | \u001b[36m__main__\u001b[0m:\u001b[36mrun_pipeline_self\u001b[0m:\u001b[36m76\u001b[0m - \u001b[1mSize of unlabelled data: 0.8\u001b[0m\n",
      "\u001b[32m2023-10-22 11:40:36.573\u001b[0m | \u001b[1mINFO    \u001b[0m | \u001b[36m__main__\u001b[0m:\u001b[36mrun_pipeline_self\u001b[0m:\u001b[36m79\u001b[0m - \u001b[1m%371 - Running pipeline for row_seed: 24 and size_of_unlabelled_data: 0.8 and model: RandomForestClassifier(max_depth=15, min_samples_split=3, n_estimators=200)\u001b[0m\n"
     ]
    },
    {
     "name": "stdout",
     "output_type": "stream",
     "text": [
      "\n",
      "\n"
     ]
    },
    {
     "name": "stderr",
     "output_type": "stream",
     "text": [
      "\u001b[32m2023-10-22 11:41:04.291\u001b[0m | \u001b[1mINFO    \u001b[0m | \u001b[36m__main__\u001b[0m:\u001b[36mrun_pipeline_self\u001b[0m:\u001b[36m79\u001b[0m - \u001b[1m%372 - Running pipeline for row_seed: 42 and size_of_unlabelled_data: 0.8 and model: RandomForestClassifier(max_depth=15, min_samples_split=3, n_estimators=200)\u001b[0m\n",
      "\u001b[32m2023-10-22 11:41:31.581\u001b[0m | \u001b[1mINFO    \u001b[0m | \u001b[36m__main__\u001b[0m:\u001b[36mrun_pipeline_self\u001b[0m:\u001b[36m79\u001b[0m - \u001b[1m%373 - Running pipeline for row_seed: 206 and size_of_unlabelled_data: 0.8 and model: RandomForestClassifier(max_depth=15, min_samples_split=3, n_estimators=200)\u001b[0m\n",
      "\u001b[32m2023-10-22 11:41:58.648\u001b[0m | \u001b[1mINFO    \u001b[0m | \u001b[36m__main__\u001b[0m:\u001b[36mrun_pipeline_self\u001b[0m:\u001b[36m79\u001b[0m - \u001b[1m%374 - Running pipeline for row_seed: 602 and size_of_unlabelled_data: 0.8 and model: RandomForestClassifier(max_depth=15, min_samples_split=3, n_estimators=200)\u001b[0m\n",
      "\u001b[32m2023-10-22 11:42:24.754\u001b[0m | \u001b[1mINFO    \u001b[0m | \u001b[36m__main__\u001b[0m:\u001b[36mrun_pipeline_self\u001b[0m:\u001b[36m79\u001b[0m - \u001b[1m%375 - Running pipeline for row_seed: 412 and size_of_unlabelled_data: 0.8 and model: RandomForestClassifier(max_depth=15, min_samples_split=3, n_estimators=200)\u001b[0m\n",
      "\u001b[32m2023-10-22 11:42:51.235\u001b[0m | \u001b[1mINFO    \u001b[0m | \u001b[36m__main__\u001b[0m:\u001b[36mrun_pipeline_self\u001b[0m:\u001b[36m79\u001b[0m - \u001b[1m%376 - Running pipeline for row_seed: 214 and size_of_unlabelled_data: 0.8 and model: RandomForestClassifier(max_depth=15, min_samples_split=3, n_estimators=200)\u001b[0m\n",
      "\u001b[32m2023-10-22 11:43:17.330\u001b[0m | \u001b[1mINFO    \u001b[0m | \u001b[36m__main__\u001b[0m:\u001b[36mrun_pipeline_self\u001b[0m:\u001b[36m79\u001b[0m - \u001b[1m%377 - Running pipeline for row_seed: 754 and size_of_unlabelled_data: 0.8 and model: RandomForestClassifier(max_depth=15, min_samples_split=3, n_estimators=200)\u001b[0m\n",
      "\u001b[32m2023-10-22 11:43:43.702\u001b[0m | \u001b[1mINFO    \u001b[0m | \u001b[36m__main__\u001b[0m:\u001b[36mrun_pipeline_self\u001b[0m:\u001b[36m79\u001b[0m - \u001b[1m%378 - Running pipeline for row_seed: 457 and size_of_unlabelled_data: 0.8 and model: RandomForestClassifier(max_depth=15, min_samples_split=3, n_estimators=200)\u001b[0m\n",
      "\u001b[32m2023-10-22 11:44:10.191\u001b[0m | \u001b[1mINFO    \u001b[0m | \u001b[36m__main__\u001b[0m:\u001b[36mrun_pipeline_self\u001b[0m:\u001b[36m79\u001b[0m - \u001b[1m%379 - Running pipeline for row_seed: 2023 and size_of_unlabelled_data: 0.8 and model: RandomForestClassifier(max_depth=15, min_samples_split=3, n_estimators=200)\u001b[0m\n",
      "\u001b[32m2023-10-22 11:44:37.166\u001b[0m | \u001b[1mINFO    \u001b[0m | \u001b[36m__main__\u001b[0m:\u001b[36mrun_pipeline_self\u001b[0m:\u001b[36m79\u001b[0m - \u001b[1m%380 - Running pipeline for row_seed: 3202 and size_of_unlabelled_data: 0.8 and model: RandomForestClassifier(max_depth=15, min_samples_split=3, n_estimators=200)\u001b[0m\n",
      "\u001b[32m2023-10-22 11:45:04.159\u001b[0m | \u001b[1mINFO    \u001b[0m | \u001b[36m__main__\u001b[0m:\u001b[36mrun_pipeline_self\u001b[0m:\u001b[36m75\u001b[0m - \u001b[1mModel: RandomForestClassifier(max_depth=15, min_samples_split=3, n_estimators=200)\u001b[0m\n",
      "\u001b[32m2023-10-22 11:45:04.160\u001b[0m | \u001b[1mINFO    \u001b[0m | \u001b[36m__main__\u001b[0m:\u001b[36mrun_pipeline_self\u001b[0m:\u001b[36m76\u001b[0m - \u001b[1mSize of unlabelled data: 0.85\u001b[0m\n",
      "\u001b[32m2023-10-22 11:45:04.161\u001b[0m | \u001b[1mINFO    \u001b[0m | \u001b[36m__main__\u001b[0m:\u001b[36mrun_pipeline_self\u001b[0m:\u001b[36m79\u001b[0m - \u001b[1m%381 - Running pipeline for row_seed: 24 and size_of_unlabelled_data: 0.85 and model: RandomForestClassifier(max_depth=15, min_samples_split=3, n_estimators=200)\u001b[0m\n"
     ]
    },
    {
     "name": "stdout",
     "output_type": "stream",
     "text": [
      "\n",
      "\n"
     ]
    },
    {
     "name": "stderr",
     "output_type": "stream",
     "text": [
      "\u001b[32m2023-10-22 11:45:30.016\u001b[0m | \u001b[1mINFO    \u001b[0m | \u001b[36m__main__\u001b[0m:\u001b[36mrun_pipeline_self\u001b[0m:\u001b[36m79\u001b[0m - \u001b[1m%382 - Running pipeline for row_seed: 42 and size_of_unlabelled_data: 0.85 and model: RandomForestClassifier(max_depth=15, min_samples_split=3, n_estimators=200)\u001b[0m\n",
      "\u001b[32m2023-10-22 11:45:56.203\u001b[0m | \u001b[1mINFO    \u001b[0m | \u001b[36m__main__\u001b[0m:\u001b[36mrun_pipeline_self\u001b[0m:\u001b[36m79\u001b[0m - \u001b[1m%383 - Running pipeline for row_seed: 206 and size_of_unlabelled_data: 0.85 and model: RandomForestClassifier(max_depth=15, min_samples_split=3, n_estimators=200)\u001b[0m\n",
      "\u001b[32m2023-10-22 11:46:22.875\u001b[0m | \u001b[1mINFO    \u001b[0m | \u001b[36m__main__\u001b[0m:\u001b[36mrun_pipeline_self\u001b[0m:\u001b[36m79\u001b[0m - \u001b[1m%384 - Running pipeline for row_seed: 602 and size_of_unlabelled_data: 0.85 and model: RandomForestClassifier(max_depth=15, min_samples_split=3, n_estimators=200)\u001b[0m\n",
      "\u001b[32m2023-10-22 11:46:49.780\u001b[0m | \u001b[1mINFO    \u001b[0m | \u001b[36m__main__\u001b[0m:\u001b[36mrun_pipeline_self\u001b[0m:\u001b[36m79\u001b[0m - \u001b[1m%385 - Running pipeline for row_seed: 412 and size_of_unlabelled_data: 0.85 and model: RandomForestClassifier(max_depth=15, min_samples_split=3, n_estimators=200)\u001b[0m\n",
      "\u001b[32m2023-10-22 11:47:17.073\u001b[0m | \u001b[1mINFO    \u001b[0m | \u001b[36m__main__\u001b[0m:\u001b[36mrun_pipeline_self\u001b[0m:\u001b[36m79\u001b[0m - \u001b[1m%386 - Running pipeline for row_seed: 214 and size_of_unlabelled_data: 0.85 and model: RandomForestClassifier(max_depth=15, min_samples_split=3, n_estimators=200)\u001b[0m\n",
      "\u001b[32m2023-10-22 11:47:44.026\u001b[0m | \u001b[1mINFO    \u001b[0m | \u001b[36m__main__\u001b[0m:\u001b[36mrun_pipeline_self\u001b[0m:\u001b[36m79\u001b[0m - \u001b[1m%387 - Running pipeline for row_seed: 754 and size_of_unlabelled_data: 0.85 and model: RandomForestClassifier(max_depth=15, min_samples_split=3, n_estimators=200)\u001b[0m\n",
      "\u001b[32m2023-10-22 11:48:11.401\u001b[0m | \u001b[1mINFO    \u001b[0m | \u001b[36m__main__\u001b[0m:\u001b[36mrun_pipeline_self\u001b[0m:\u001b[36m79\u001b[0m - \u001b[1m%388 - Running pipeline for row_seed: 457 and size_of_unlabelled_data: 0.85 and model: RandomForestClassifier(max_depth=15, min_samples_split=3, n_estimators=200)\u001b[0m\n",
      "\u001b[32m2023-10-22 11:48:38.623\u001b[0m | \u001b[1mINFO    \u001b[0m | \u001b[36m__main__\u001b[0m:\u001b[36mrun_pipeline_self\u001b[0m:\u001b[36m79\u001b[0m - \u001b[1m%389 - Running pipeline for row_seed: 2023 and size_of_unlabelled_data: 0.85 and model: RandomForestClassifier(max_depth=15, min_samples_split=3, n_estimators=200)\u001b[0m\n",
      "\u001b[32m2023-10-22 11:49:05.633\u001b[0m | \u001b[1mINFO    \u001b[0m | \u001b[36m__main__\u001b[0m:\u001b[36mrun_pipeline_self\u001b[0m:\u001b[36m79\u001b[0m - \u001b[1m%390 - Running pipeline for row_seed: 3202 and size_of_unlabelled_data: 0.85 and model: RandomForestClassifier(max_depth=15, min_samples_split=3, n_estimators=200)\u001b[0m\n",
      "\u001b[32m2023-10-22 11:49:31.833\u001b[0m | \u001b[1mINFO    \u001b[0m | \u001b[36m__main__\u001b[0m:\u001b[36mrun_pipeline_self\u001b[0m:\u001b[36m75\u001b[0m - \u001b[1mModel: RandomForestClassifier(max_depth=15, min_samples_split=3, n_estimators=200)\u001b[0m\n",
      "\u001b[32m2023-10-22 11:49:31.833\u001b[0m | \u001b[1mINFO    \u001b[0m | \u001b[36m__main__\u001b[0m:\u001b[36mrun_pipeline_self\u001b[0m:\u001b[36m76\u001b[0m - \u001b[1mSize of unlabelled data: 0.9\u001b[0m\n",
      "\u001b[32m2023-10-22 11:49:31.834\u001b[0m | \u001b[1mINFO    \u001b[0m | \u001b[36m__main__\u001b[0m:\u001b[36mrun_pipeline_self\u001b[0m:\u001b[36m79\u001b[0m - \u001b[1m%391 - Running pipeline for row_seed: 24 and size_of_unlabelled_data: 0.9 and model: RandomForestClassifier(max_depth=15, min_samples_split=3, n_estimators=200)\u001b[0m\n"
     ]
    },
    {
     "name": "stdout",
     "output_type": "stream",
     "text": [
      "\n",
      "\n"
     ]
    },
    {
     "name": "stderr",
     "output_type": "stream",
     "text": [
      "\u001b[32m2023-10-22 11:49:57.172\u001b[0m | \u001b[1mINFO    \u001b[0m | \u001b[36m__main__\u001b[0m:\u001b[36mrun_pipeline_self\u001b[0m:\u001b[36m79\u001b[0m - \u001b[1m%392 - Running pipeline for row_seed: 42 and size_of_unlabelled_data: 0.9 and model: RandomForestClassifier(max_depth=15, min_samples_split=3, n_estimators=200)\u001b[0m\n",
      "\u001b[32m2023-10-22 11:50:23.184\u001b[0m | \u001b[1mINFO    \u001b[0m | \u001b[36m__main__\u001b[0m:\u001b[36mrun_pipeline_self\u001b[0m:\u001b[36m79\u001b[0m - \u001b[1m%393 - Running pipeline for row_seed: 206 and size_of_unlabelled_data: 0.9 and model: RandomForestClassifier(max_depth=15, min_samples_split=3, n_estimators=200)\u001b[0m\n",
      "\u001b[32m2023-10-22 11:50:48.983\u001b[0m | \u001b[1mINFO    \u001b[0m | \u001b[36m__main__\u001b[0m:\u001b[36mrun_pipeline_self\u001b[0m:\u001b[36m79\u001b[0m - \u001b[1m%394 - Running pipeline for row_seed: 602 and size_of_unlabelled_data: 0.9 and model: RandomForestClassifier(max_depth=15, min_samples_split=3, n_estimators=200)\u001b[0m\n",
      "\u001b[32m2023-10-22 11:51:14.463\u001b[0m | \u001b[1mINFO    \u001b[0m | \u001b[36m__main__\u001b[0m:\u001b[36mrun_pipeline_self\u001b[0m:\u001b[36m79\u001b[0m - \u001b[1m%395 - Running pipeline for row_seed: 412 and size_of_unlabelled_data: 0.9 and model: RandomForestClassifier(max_depth=15, min_samples_split=3, n_estimators=200)\u001b[0m\n",
      "\u001b[32m2023-10-22 11:51:39.650\u001b[0m | \u001b[1mINFO    \u001b[0m | \u001b[36m__main__\u001b[0m:\u001b[36mrun_pipeline_self\u001b[0m:\u001b[36m79\u001b[0m - \u001b[1m%396 - Running pipeline for row_seed: 214 and size_of_unlabelled_data: 0.9 and model: RandomForestClassifier(max_depth=15, min_samples_split=3, n_estimators=200)\u001b[0m\n",
      "\u001b[32m2023-10-22 11:52:05.331\u001b[0m | \u001b[1mINFO    \u001b[0m | \u001b[36m__main__\u001b[0m:\u001b[36mrun_pipeline_self\u001b[0m:\u001b[36m79\u001b[0m - \u001b[1m%397 - Running pipeline for row_seed: 754 and size_of_unlabelled_data: 0.9 and model: RandomForestClassifier(max_depth=15, min_samples_split=3, n_estimators=200)\u001b[0m\n",
      "\u001b[32m2023-10-22 11:52:30.493\u001b[0m | \u001b[1mINFO    \u001b[0m | \u001b[36m__main__\u001b[0m:\u001b[36mrun_pipeline_self\u001b[0m:\u001b[36m79\u001b[0m - \u001b[1m%398 - Running pipeline for row_seed: 457 and size_of_unlabelled_data: 0.9 and model: RandomForestClassifier(max_depth=15, min_samples_split=3, n_estimators=200)\u001b[0m\n",
      "\u001b[32m2023-10-22 11:52:55.962\u001b[0m | \u001b[1mINFO    \u001b[0m | \u001b[36m__main__\u001b[0m:\u001b[36mrun_pipeline_self\u001b[0m:\u001b[36m79\u001b[0m - \u001b[1m%399 - Running pipeline for row_seed: 2023 and size_of_unlabelled_data: 0.9 and model: RandomForestClassifier(max_depth=15, min_samples_split=3, n_estimators=200)\u001b[0m\n",
      "\u001b[32m2023-10-22 11:53:21.666\u001b[0m | \u001b[1mINFO    \u001b[0m | \u001b[36m__main__\u001b[0m:\u001b[36mrun_pipeline_self\u001b[0m:\u001b[36m79\u001b[0m - \u001b[1m%400 - Running pipeline for row_seed: 3202 and size_of_unlabelled_data: 0.9 and model: RandomForestClassifier(max_depth=15, min_samples_split=3, n_estimators=200)\u001b[0m\n"
     ]
    },
    {
     "name": "stdout",
     "output_type": "stream",
     "text": [
      "\n",
      "\n"
     ]
    }
   ],
   "source": [
    "results_df = run_pipeline_self(X_train, X_test, y_train, y_test)"
   ]
  },
  {
   "cell_type": "code",
   "execution_count": 9,
   "metadata": {},
   "outputs": [
    {
     "data": {
      "text/plain": [
       "Index(['model', 'unlabeled', 'acc_mean', 'acc_std', 'f1_mean', 'f1_std',\n",
       "       'precision_mean', 'precision_std', 'recall_mean', 'recall_std',\n",
       "       'roc_mean', 'roc_std'],\n",
       "      dtype='object')"
      ]
     },
     "execution_count": 9,
     "metadata": {},
     "output_type": "execute_result"
    }
   ],
   "source": [
    "# mean and standard deviation for all metrics\n",
    "results_df_with_mean_std = results_df.groupby(['model', 'unlabeled']).agg({'acc': ['mean', 'std'], 'f1': ['mean', 'std'], 'precision': ['mean', 'std'], 'recall': ['mean', 'std'], 'roc': ['mean', 'std']})\n",
    "results_df_with_mean_std = results_df_with_mean_std.reset_index(level=1)\n",
    "results_df_with_mean_std.columns = [\"_\".join(col) for col in results_df_with_mean_std.columns.values]\n",
    "results_df_with_mean_std.rename(columns={'unlabeled_': 'unlabeled'}, inplace=True)\n",
    "results_df_with_mean_std.reset_index(inplace=True)\n",
    "results_df_with_mean_std.columns"
   ]
  }
 ],
 "metadata": {
  "kernelspec": {
   "display_name": "venv",
   "language": "python",
   "name": "python3"
  },
  "language_info": {
   "codemirror_mode": {
    "name": "ipython",
    "version": 3
   },
   "file_extension": ".py",
   "mimetype": "text/x-python",
   "name": "python",
   "nbconvert_exporter": "python",
   "pygments_lexer": "ipython3",
   "version": "3.11.0"
  },
  "orig_nbformat": 4,
  "vscode": {
   "interpreter": {
    "hash": "2b2faf7d6260e3d980efcbe3dcb6631168cb6707024a8ce61b847fb529addd2a"
   }
  }
 },
 "nbformat": 4,
 "nbformat_minor": 2
}
