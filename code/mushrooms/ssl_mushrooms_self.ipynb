{
 "cells": [
  {
   "cell_type": "code",
   "execution_count": 1,
   "metadata": {},
   "outputs": [],
   "source": [
    "##################\n",
    "# Libraries\n",
    "##################\n",
    "import pandas as pd\n",
    "import numpy as np\n",
    "import seaborn as sns\n",
    "from sklearn.preprocessing import StandardScaler, RobustScaler\n",
    "from sklearn.model_selection import train_test_split, KFold\n",
    "from sklearn.metrics import accuracy_score, f1_score, precision_score, recall_score, roc_auc_score\n",
    "from sklearn.preprocessing import LabelEncoder\n",
    "from sklearn.svm import LinearSVC, SVC\n",
    "from sklearn.semi_supervised import SelfTrainingClassifier\n",
    "from sklearn.ensemble import RandomForestClassifier\n",
    "from sklearn.naive_bayes import GaussianNB\n",
    "from sklearn.neighbors import KNeighborsClassifier\n",
    "from sklearn.tree import DecisionTreeClassifier\n",
    "from loguru import logger"
   ]
  },
  {
   "cell_type": "code",
   "execution_count": 2,
   "metadata": {},
   "outputs": [],
   "source": [
    "##################\n",
    "# Constants\n",
    "##################\n",
    "MODEL_SEED=42\n",
    "ROWS_SEED=[24, 42, 206, 602, 412, 214, 754, 457, 2023, 3202]\n",
    "SIZE_OF_UNLABELLED_DATA = [0.1, 0.2, 0.3, 0.4, 0.5, 0.6, 0.7, 0.8, 0.85, 0.9]\n",
    "MODELS = [\n",
    "    GaussianNB(var_smoothing=0.001),\n",
    "    DecisionTreeClassifier(criterion='gini', max_depth=7, min_samples_leaf=1, min_samples_split=2),\n",
    "    KNeighborsClassifier(metric='euclidean', n_neighbors=3, weights='uniform'),\n",
    "    RandomForestClassifier(criterion='gini', max_depth=9, min_samples_leaf=1, min_samples_split=2, n_estimators=100),\n",
    "]"
   ]
  },
  {
   "cell_type": "code",
   "execution_count": 3,
   "metadata": {},
   "outputs": [],
   "source": [
    "##################\n",
    "# Functions\n",
    "##################\n",
    "def encode_dataframe(df: pd.DataFrame) -> pd.DataFrame:\n",
    "    \"\"\"Encode dataframe using LabelEncoder\"\"\"\n",
    "    labelencoder = LabelEncoder()\n",
    "\n",
    "    for col in df.columns:\n",
    "        df[col] = labelencoder.fit_transform(df[col])\n",
    "\n",
    "    return df\n",
    "\n",
    "def get_metrics() -> dict:\n",
    "    metrics = {\n",
    "        'accuracy': accuracy_score,\n",
    "        'precision': precision_score,\n",
    "        'recall': recall_score,\n",
    "        'f1': f1_score,\n",
    "        'roc': roc_auc_score\n",
    "    }\n",
    "    return metrics\n",
    "\n",
    "\n",
    "def get_metrics_df(y_true, y_pred) -> pd.DataFrame:\n",
    "    metrics = get_metrics()\n",
    "    df = pd.DataFrame()\n",
    "    for metric_name, metric in metrics.items():\n",
    "        df[metric_name] = [metric(y_true, y_pred)]\n",
    "\n",
    "    return df\n",
    "\n",
    "def run_pipeline(X_train, X_test, y_train, y_test, size_of_unlabelled_data=0.5, model=None, rows_seed=42) -> dict:\n",
    "    if model is None:\n",
    "        raise ValueError(\"Model is None\")\n",
    "    \n",
    "    X_train = X_train.copy()\n",
    "    X_test = X_test.copy()\n",
    "    y_train = y_train.copy()\n",
    "    y_test = y_test.copy()\n",
    "\n",
    "    # Unlabelled data\n",
    "    rng = np.random.RandomState(rows_seed)\n",
    "    random_rows_with_rng = rng.choice(X_train.index, size=int(len(X_train)*size_of_unlabelled_data), replace=False)\n",
    "    y_train.loc[random_rows_with_rng] = -1\n",
    "\n",
    "    # Scale data\n",
    "    scaler = RobustScaler()\n",
    "    X_train = scaler.fit_transform(X_train)\n",
    "    X_test = scaler.transform(X_test)\n",
    "\n",
    "\n",
    "    self_training_model = SelfTrainingClassifier(model, verbose=False)\n",
    "    self_training_model.fit(X_train, y_train)\n",
    "\n",
    "    # Predict\n",
    "    y_pred = self_training_model.predict(X_test)\n",
    "\n",
    "    # Evaluate - Get Metrics\n",
    "    metrics = get_metrics_df(y_test, y_pred)\n",
    "    accuracy = metrics[\"accuracy\"].values[0]\n",
    "    precision = metrics[\"precision\"].values[0]\n",
    "    recall = metrics[\"recall\"].values[0]\n",
    "    f1 = metrics[\"f1\"].values[0]\n",
    "    roc = metrics[\"roc\"].values[0]\n",
    "    \n",
    "\n",
    "    return {\"rows_seed\": rows_seed, \"model\": type(model).__name__, \"unlabeled\": size_of_unlabelled_data, \"acc\": accuracy, \"precision\": precision, \"recall\": recall, \"f1\": f1, \"roc\": roc}\n",
    "\n",
    "def run_pipeline_self(X_train, X_test, y_train, y_test) -> pd.DataFrame:\n",
    "    run_counter = 0\n",
    "    results = []\n",
    "\n",
    "    for model in MODELS:\n",
    "        for value in SIZE_OF_UNLABELLED_DATA:\n",
    "            logger.info(f'Model: {model}')\n",
    "            logger.info(f'Size of unlabelled data: {value}')\n",
    "            for row_seed in ROWS_SEED:\n",
    "                run_counter += 1\n",
    "                logger.info(f\"%{run_counter} - Running pipeline for row_seed: {row_seed} and size_of_unlabelled_data: {value} and model: {model}\")\n",
    "                result = run_pipeline(X_train=X_train, X_test=X_test, y_train=y_train, y_test=y_test, size_of_unlabelled_data=value, model=model, rows_seed=row_seed)\n",
    "                results.append(result)\n",
    "            print('\\n')\n",
    "\n",
    "    results_rows_seed = []\n",
    "    results_models = []\n",
    "    results_unlabeled = []\n",
    "    results_acc = []\n",
    "    results_precision = []\n",
    "    results_recall = []\n",
    "    results_f1 = []\n",
    "    results_roc = []\n",
    "\n",
    "    for result in results:\n",
    "        results_rows_seed.append(result.get('rows_seed'))\n",
    "        results_models.append(result.get('model'))\n",
    "        results_unlabeled.append(result.get('unlabeled'))\n",
    "        results_acc.append(result.get('acc'))\n",
    "        results_precision.append(result.get('precision'))\n",
    "        results_recall.append(result.get('recall'))\n",
    "        results_f1.append(result.get('f1'))\n",
    "        results_roc.append(result.get('roc'))\n",
    "\n",
    "\n",
    "    results_df = pd.DataFrame({'rows_seed': results_rows_seed, 'model': results_models, 'unlabeled': results_unlabeled, 'acc': results_acc, 'precision': results_precision, 'recall': results_recall, 'f1': results_f1, 'roc': results_roc})\n",
    "\n",
    "    return results_df\n",
    "\n",
    "    "
   ]
  },
  {
   "cell_type": "code",
   "execution_count": 4,
   "metadata": {},
   "outputs": [],
   "source": [
    "df = pd.read_csv('../../datasets/mushrooms.csv')\n",
    "df = encode_dataframe(df)\n",
    "\n",
    "\n",
    "X = df.drop('class', axis=1)\n",
    "y = df['class']\n",
    "\n",
    "X_train, X_test, y_train, y_test = train_test_split(X, y, test_size=0.2, random_state=MODEL_SEED)"
   ]
  },
  {
   "cell_type": "code",
   "execution_count": 5,
   "metadata": {},
   "outputs": [
    {
     "name": "stderr",
     "output_type": "stream",
     "text": [
      "\u001b[32m2023-10-22 12:47:18.660\u001b[0m | \u001b[1mINFO    \u001b[0m | \u001b[36m__main__\u001b[0m:\u001b[36mrun_pipeline_self\u001b[0m:\u001b[36m75\u001b[0m - \u001b[1mModel: GaussianNB(var_smoothing=0.001)\u001b[0m\n",
      "\u001b[32m2023-10-22 12:47:18.661\u001b[0m | \u001b[1mINFO    \u001b[0m | \u001b[36m__main__\u001b[0m:\u001b[36mrun_pipeline_self\u001b[0m:\u001b[36m76\u001b[0m - \u001b[1mSize of unlabelled data: 0.1\u001b[0m\n",
      "\u001b[32m2023-10-22 12:47:18.662\u001b[0m | \u001b[1mINFO    \u001b[0m | \u001b[36m__main__\u001b[0m:\u001b[36mrun_pipeline_self\u001b[0m:\u001b[36m79\u001b[0m - \u001b[1m%1 - Running pipeline for row_seed: 24 and size_of_unlabelled_data: 0.1 and model: GaussianNB(var_smoothing=0.001)\u001b[0m\n",
      "\u001b[32m2023-10-22 12:47:18.690\u001b[0m | \u001b[1mINFO    \u001b[0m | \u001b[36m__main__\u001b[0m:\u001b[36mrun_pipeline_self\u001b[0m:\u001b[36m79\u001b[0m - \u001b[1m%2 - Running pipeline for row_seed: 42 and size_of_unlabelled_data: 0.1 and model: GaussianNB(var_smoothing=0.001)\u001b[0m\n",
      "\u001b[32m2023-10-22 12:47:18.716\u001b[0m | \u001b[1mINFO    \u001b[0m | \u001b[36m__main__\u001b[0m:\u001b[36mrun_pipeline_self\u001b[0m:\u001b[36m79\u001b[0m - \u001b[1m%3 - Running pipeline for row_seed: 206 and size_of_unlabelled_data: 0.1 and model: GaussianNB(var_smoothing=0.001)\u001b[0m\n",
      "\u001b[32m2023-10-22 12:47:18.740\u001b[0m | \u001b[1mINFO    \u001b[0m | \u001b[36m__main__\u001b[0m:\u001b[36mrun_pipeline_self\u001b[0m:\u001b[36m79\u001b[0m - \u001b[1m%4 - Running pipeline for row_seed: 602 and size_of_unlabelled_data: 0.1 and model: GaussianNB(var_smoothing=0.001)\u001b[0m\n",
      "\u001b[32m2023-10-22 12:47:18.770\u001b[0m | \u001b[1mINFO    \u001b[0m | \u001b[36m__main__\u001b[0m:\u001b[36mrun_pipeline_self\u001b[0m:\u001b[36m79\u001b[0m - \u001b[1m%5 - Running pipeline for row_seed: 412 and size_of_unlabelled_data: 0.1 and model: GaussianNB(var_smoothing=0.001)\u001b[0m\n",
      "\u001b[32m2023-10-22 12:47:18.793\u001b[0m | \u001b[1mINFO    \u001b[0m | \u001b[36m__main__\u001b[0m:\u001b[36mrun_pipeline_self\u001b[0m:\u001b[36m79\u001b[0m - \u001b[1m%6 - Running pipeline for row_seed: 214 and size_of_unlabelled_data: 0.1 and model: GaussianNB(var_smoothing=0.001)\u001b[0m\n",
      "\u001b[32m2023-10-22 12:47:18.824\u001b[0m | \u001b[1mINFO    \u001b[0m | \u001b[36m__main__\u001b[0m:\u001b[36mrun_pipeline_self\u001b[0m:\u001b[36m79\u001b[0m - \u001b[1m%7 - Running pipeline for row_seed: 754 and size_of_unlabelled_data: 0.1 and model: GaussianNB(var_smoothing=0.001)\u001b[0m\n",
      "\u001b[32m2023-10-22 12:47:18.851\u001b[0m | \u001b[1mINFO    \u001b[0m | \u001b[36m__main__\u001b[0m:\u001b[36mrun_pipeline_self\u001b[0m:\u001b[36m79\u001b[0m - \u001b[1m%8 - Running pipeline for row_seed: 457 and size_of_unlabelled_data: 0.1 and model: GaussianNB(var_smoothing=0.001)\u001b[0m\n",
      "\u001b[32m2023-10-22 12:47:18.876\u001b[0m | \u001b[1mINFO    \u001b[0m | \u001b[36m__main__\u001b[0m:\u001b[36mrun_pipeline_self\u001b[0m:\u001b[36m79\u001b[0m - \u001b[1m%9 - Running pipeline for row_seed: 2023 and size_of_unlabelled_data: 0.1 and model: GaussianNB(var_smoothing=0.001)\u001b[0m\n",
      "\u001b[32m2023-10-22 12:47:18.901\u001b[0m | \u001b[1mINFO    \u001b[0m | \u001b[36m__main__\u001b[0m:\u001b[36mrun_pipeline_self\u001b[0m:\u001b[36m79\u001b[0m - \u001b[1m%10 - Running pipeline for row_seed: 3202 and size_of_unlabelled_data: 0.1 and model: GaussianNB(var_smoothing=0.001)\u001b[0m\n",
      "\u001b[32m2023-10-22 12:47:18.923\u001b[0m | \u001b[1mINFO    \u001b[0m | \u001b[36m__main__\u001b[0m:\u001b[36mrun_pipeline_self\u001b[0m:\u001b[36m75\u001b[0m - \u001b[1mModel: GaussianNB(var_smoothing=0.001)\u001b[0m\n",
      "\u001b[32m2023-10-22 12:47:18.924\u001b[0m | \u001b[1mINFO    \u001b[0m | \u001b[36m__main__\u001b[0m:\u001b[36mrun_pipeline_self\u001b[0m:\u001b[36m76\u001b[0m - \u001b[1mSize of unlabelled data: 0.2\u001b[0m\n",
      "\u001b[32m2023-10-22 12:47:18.924\u001b[0m | \u001b[1mINFO    \u001b[0m | \u001b[36m__main__\u001b[0m:\u001b[36mrun_pipeline_self\u001b[0m:\u001b[36m79\u001b[0m - \u001b[1m%11 - Running pipeline for row_seed: 24 and size_of_unlabelled_data: 0.2 and model: GaussianNB(var_smoothing=0.001)\u001b[0m\n",
      "\u001b[32m2023-10-22 12:47:18.954\u001b[0m | \u001b[1mINFO    \u001b[0m | \u001b[36m__main__\u001b[0m:\u001b[36mrun_pipeline_self\u001b[0m:\u001b[36m79\u001b[0m - \u001b[1m%12 - Running pipeline for row_seed: 42 and size_of_unlabelled_data: 0.2 and model: GaussianNB(var_smoothing=0.001)\u001b[0m\n",
      "\u001b[32m2023-10-22 12:47:18.979\u001b[0m | \u001b[1mINFO    \u001b[0m | \u001b[36m__main__\u001b[0m:\u001b[36mrun_pipeline_self\u001b[0m:\u001b[36m79\u001b[0m - \u001b[1m%13 - Running pipeline for row_seed: 206 and size_of_unlabelled_data: 0.2 and model: GaussianNB(var_smoothing=0.001)\u001b[0m\n",
      "\u001b[32m2023-10-22 12:47:19.004\u001b[0m | \u001b[1mINFO    \u001b[0m | \u001b[36m__main__\u001b[0m:\u001b[36mrun_pipeline_self\u001b[0m:\u001b[36m79\u001b[0m - \u001b[1m%14 - Running pipeline for row_seed: 602 and size_of_unlabelled_data: 0.2 and model: GaussianNB(var_smoothing=0.001)\u001b[0m\n",
      "\u001b[32m2023-10-22 12:47:19.030\u001b[0m | \u001b[1mINFO    \u001b[0m | \u001b[36m__main__\u001b[0m:\u001b[36mrun_pipeline_self\u001b[0m:\u001b[36m79\u001b[0m - \u001b[1m%15 - Running pipeline for row_seed: 412 and size_of_unlabelled_data: 0.2 and model: GaussianNB(var_smoothing=0.001)\u001b[0m\n",
      "\u001b[32m2023-10-22 12:47:19.054\u001b[0m | \u001b[1mINFO    \u001b[0m | \u001b[36m__main__\u001b[0m:\u001b[36mrun_pipeline_self\u001b[0m:\u001b[36m79\u001b[0m - \u001b[1m%16 - Running pipeline for row_seed: 214 and size_of_unlabelled_data: 0.2 and model: GaussianNB(var_smoothing=0.001)\u001b[0m\n",
      "\u001b[32m2023-10-22 12:47:19.077\u001b[0m | \u001b[1mINFO    \u001b[0m | \u001b[36m__main__\u001b[0m:\u001b[36mrun_pipeline_self\u001b[0m:\u001b[36m79\u001b[0m - \u001b[1m%17 - Running pipeline for row_seed: 754 and size_of_unlabelled_data: 0.2 and model: GaussianNB(var_smoothing=0.001)\u001b[0m\n",
      "\u001b[32m2023-10-22 12:47:19.104\u001b[0m | \u001b[1mINFO    \u001b[0m | \u001b[36m__main__\u001b[0m:\u001b[36mrun_pipeline_self\u001b[0m:\u001b[36m79\u001b[0m - \u001b[1m%18 - Running pipeline for row_seed: 457 and size_of_unlabelled_data: 0.2 and model: GaussianNB(var_smoothing=0.001)\u001b[0m\n"
     ]
    },
    {
     "name": "stdout",
     "output_type": "stream",
     "text": [
      "\n",
      "\n"
     ]
    },
    {
     "name": "stderr",
     "output_type": "stream",
     "text": [
      "\u001b[32m2023-10-22 12:47:19.134\u001b[0m | \u001b[1mINFO    \u001b[0m | \u001b[36m__main__\u001b[0m:\u001b[36mrun_pipeline_self\u001b[0m:\u001b[36m79\u001b[0m - \u001b[1m%19 - Running pipeline for row_seed: 2023 and size_of_unlabelled_data: 0.2 and model: GaussianNB(var_smoothing=0.001)\u001b[0m\n",
      "\u001b[32m2023-10-22 12:47:19.161\u001b[0m | \u001b[1mINFO    \u001b[0m | \u001b[36m__main__\u001b[0m:\u001b[36mrun_pipeline_self\u001b[0m:\u001b[36m79\u001b[0m - \u001b[1m%20 - Running pipeline for row_seed: 3202 and size_of_unlabelled_data: 0.2 and model: GaussianNB(var_smoothing=0.001)\u001b[0m\n",
      "\u001b[32m2023-10-22 12:47:19.190\u001b[0m | \u001b[1mINFO    \u001b[0m | \u001b[36m__main__\u001b[0m:\u001b[36mrun_pipeline_self\u001b[0m:\u001b[36m75\u001b[0m - \u001b[1mModel: GaussianNB(var_smoothing=0.001)\u001b[0m\n",
      "\u001b[32m2023-10-22 12:47:19.190\u001b[0m | \u001b[1mINFO    \u001b[0m | \u001b[36m__main__\u001b[0m:\u001b[36mrun_pipeline_self\u001b[0m:\u001b[36m76\u001b[0m - \u001b[1mSize of unlabelled data: 0.3\u001b[0m\n",
      "\u001b[32m2023-10-22 12:47:19.191\u001b[0m | \u001b[1mINFO    \u001b[0m | \u001b[36m__main__\u001b[0m:\u001b[36mrun_pipeline_self\u001b[0m:\u001b[36m79\u001b[0m - \u001b[1m%21 - Running pipeline for row_seed: 24 and size_of_unlabelled_data: 0.3 and model: GaussianNB(var_smoothing=0.001)\u001b[0m\n",
      "\u001b[32m2023-10-22 12:47:19.215\u001b[0m | \u001b[1mINFO    \u001b[0m | \u001b[36m__main__\u001b[0m:\u001b[36mrun_pipeline_self\u001b[0m:\u001b[36m79\u001b[0m - \u001b[1m%22 - Running pipeline for row_seed: 42 and size_of_unlabelled_data: 0.3 and model: GaussianNB(var_smoothing=0.001)\u001b[0m\n",
      "\u001b[32m2023-10-22 12:47:19.242\u001b[0m | \u001b[1mINFO    \u001b[0m | \u001b[36m__main__\u001b[0m:\u001b[36mrun_pipeline_self\u001b[0m:\u001b[36m79\u001b[0m - \u001b[1m%23 - Running pipeline for row_seed: 206 and size_of_unlabelled_data: 0.3 and model: GaussianNB(var_smoothing=0.001)\u001b[0m\n",
      "\u001b[32m2023-10-22 12:47:19.270\u001b[0m | \u001b[1mINFO    \u001b[0m | \u001b[36m__main__\u001b[0m:\u001b[36mrun_pipeline_self\u001b[0m:\u001b[36m79\u001b[0m - \u001b[1m%24 - Running pipeline for row_seed: 602 and size_of_unlabelled_data: 0.3 and model: GaussianNB(var_smoothing=0.001)\u001b[0m\n",
      "\u001b[32m2023-10-22 12:47:19.294\u001b[0m | \u001b[1mINFO    \u001b[0m | \u001b[36m__main__\u001b[0m:\u001b[36mrun_pipeline_self\u001b[0m:\u001b[36m79\u001b[0m - \u001b[1m%25 - Running pipeline for row_seed: 412 and size_of_unlabelled_data: 0.3 and model: GaussianNB(var_smoothing=0.001)\u001b[0m\n",
      "\u001b[32m2023-10-22 12:47:19.321\u001b[0m | \u001b[1mINFO    \u001b[0m | \u001b[36m__main__\u001b[0m:\u001b[36mrun_pipeline_self\u001b[0m:\u001b[36m79\u001b[0m - \u001b[1m%26 - Running pipeline for row_seed: 214 and size_of_unlabelled_data: 0.3 and model: GaussianNB(var_smoothing=0.001)\u001b[0m\n",
      "\u001b[32m2023-10-22 12:47:19.343\u001b[0m | \u001b[1mINFO    \u001b[0m | \u001b[36m__main__\u001b[0m:\u001b[36mrun_pipeline_self\u001b[0m:\u001b[36m79\u001b[0m - \u001b[1m%27 - Running pipeline for row_seed: 754 and size_of_unlabelled_data: 0.3 and model: GaussianNB(var_smoothing=0.001)\u001b[0m\n",
      "\u001b[32m2023-10-22 12:47:19.368\u001b[0m | \u001b[1mINFO    \u001b[0m | \u001b[36m__main__\u001b[0m:\u001b[36mrun_pipeline_self\u001b[0m:\u001b[36m79\u001b[0m - \u001b[1m%28 - Running pipeline for row_seed: 457 and size_of_unlabelled_data: 0.3 and model: GaussianNB(var_smoothing=0.001)\u001b[0m\n"
     ]
    },
    {
     "name": "stdout",
     "output_type": "stream",
     "text": [
      "\n",
      "\n"
     ]
    },
    {
     "name": "stderr",
     "output_type": "stream",
     "text": [
      "\u001b[32m2023-10-22 12:47:19.394\u001b[0m | \u001b[1mINFO    \u001b[0m | \u001b[36m__main__\u001b[0m:\u001b[36mrun_pipeline_self\u001b[0m:\u001b[36m79\u001b[0m - \u001b[1m%29 - Running pipeline for row_seed: 2023 and size_of_unlabelled_data: 0.3 and model: GaussianNB(var_smoothing=0.001)\u001b[0m\n",
      "\u001b[32m2023-10-22 12:47:19.420\u001b[0m | \u001b[1mINFO    \u001b[0m | \u001b[36m__main__\u001b[0m:\u001b[36mrun_pipeline_self\u001b[0m:\u001b[36m79\u001b[0m - \u001b[1m%30 - Running pipeline for row_seed: 3202 and size_of_unlabelled_data: 0.3 and model: GaussianNB(var_smoothing=0.001)\u001b[0m\n",
      "\u001b[32m2023-10-22 12:47:19.447\u001b[0m | \u001b[1mINFO    \u001b[0m | \u001b[36m__main__\u001b[0m:\u001b[36mrun_pipeline_self\u001b[0m:\u001b[36m75\u001b[0m - \u001b[1mModel: GaussianNB(var_smoothing=0.001)\u001b[0m\n",
      "\u001b[32m2023-10-22 12:47:19.448\u001b[0m | \u001b[1mINFO    \u001b[0m | \u001b[36m__main__\u001b[0m:\u001b[36mrun_pipeline_self\u001b[0m:\u001b[36m76\u001b[0m - \u001b[1mSize of unlabelled data: 0.4\u001b[0m\n",
      "\u001b[32m2023-10-22 12:47:19.448\u001b[0m | \u001b[1mINFO    \u001b[0m | \u001b[36m__main__\u001b[0m:\u001b[36mrun_pipeline_self\u001b[0m:\u001b[36m79\u001b[0m - \u001b[1m%31 - Running pipeline for row_seed: 24 and size_of_unlabelled_data: 0.4 and model: GaussianNB(var_smoothing=0.001)\u001b[0m\n",
      "\u001b[32m2023-10-22 12:47:19.475\u001b[0m | \u001b[1mINFO    \u001b[0m | \u001b[36m__main__\u001b[0m:\u001b[36mrun_pipeline_self\u001b[0m:\u001b[36m79\u001b[0m - \u001b[1m%32 - Running pipeline for row_seed: 42 and size_of_unlabelled_data: 0.4 and model: GaussianNB(var_smoothing=0.001)\u001b[0m\n",
      "\u001b[32m2023-10-22 12:47:19.499\u001b[0m | \u001b[1mINFO    \u001b[0m | \u001b[36m__main__\u001b[0m:\u001b[36mrun_pipeline_self\u001b[0m:\u001b[36m79\u001b[0m - \u001b[1m%33 - Running pipeline for row_seed: 206 and size_of_unlabelled_data: 0.4 and model: GaussianNB(var_smoothing=0.001)\u001b[0m\n",
      "\u001b[32m2023-10-22 12:47:19.524\u001b[0m | \u001b[1mINFO    \u001b[0m | \u001b[36m__main__\u001b[0m:\u001b[36mrun_pipeline_self\u001b[0m:\u001b[36m79\u001b[0m - \u001b[1m%34 - Running pipeline for row_seed: 602 and size_of_unlabelled_data: 0.4 and model: GaussianNB(var_smoothing=0.001)\u001b[0m\n",
      "\u001b[32m2023-10-22 12:47:19.550\u001b[0m | \u001b[1mINFO    \u001b[0m | \u001b[36m__main__\u001b[0m:\u001b[36mrun_pipeline_self\u001b[0m:\u001b[36m79\u001b[0m - \u001b[1m%35 - Running pipeline for row_seed: 412 and size_of_unlabelled_data: 0.4 and model: GaussianNB(var_smoothing=0.001)\u001b[0m\n",
      "\u001b[32m2023-10-22 12:47:19.574\u001b[0m | \u001b[1mINFO    \u001b[0m | \u001b[36m__main__\u001b[0m:\u001b[36mrun_pipeline_self\u001b[0m:\u001b[36m79\u001b[0m - \u001b[1m%36 - Running pipeline for row_seed: 214 and size_of_unlabelled_data: 0.4 and model: GaussianNB(var_smoothing=0.001)\u001b[0m\n",
      "\u001b[32m2023-10-22 12:47:19.601\u001b[0m | \u001b[1mINFO    \u001b[0m | \u001b[36m__main__\u001b[0m:\u001b[36mrun_pipeline_self\u001b[0m:\u001b[36m79\u001b[0m - \u001b[1m%37 - Running pipeline for row_seed: 754 and size_of_unlabelled_data: 0.4 and model: GaussianNB(var_smoothing=0.001)\u001b[0m\n",
      "\u001b[32m2023-10-22 12:47:19.628\u001b[0m | \u001b[1mINFO    \u001b[0m | \u001b[36m__main__\u001b[0m:\u001b[36mrun_pipeline_self\u001b[0m:\u001b[36m79\u001b[0m - \u001b[1m%38 - Running pipeline for row_seed: 457 and size_of_unlabelled_data: 0.4 and model: GaussianNB(var_smoothing=0.001)\u001b[0m\n"
     ]
    },
    {
     "name": "stdout",
     "output_type": "stream",
     "text": [
      "\n",
      "\n"
     ]
    },
    {
     "name": "stderr",
     "output_type": "stream",
     "text": [
      "\u001b[32m2023-10-22 12:47:19.654\u001b[0m | \u001b[1mINFO    \u001b[0m | \u001b[36m__main__\u001b[0m:\u001b[36mrun_pipeline_self\u001b[0m:\u001b[36m79\u001b[0m - \u001b[1m%39 - Running pipeline for row_seed: 2023 and size_of_unlabelled_data: 0.4 and model: GaussianNB(var_smoothing=0.001)\u001b[0m\n",
      "\u001b[32m2023-10-22 12:47:19.682\u001b[0m | \u001b[1mINFO    \u001b[0m | \u001b[36m__main__\u001b[0m:\u001b[36mrun_pipeline_self\u001b[0m:\u001b[36m79\u001b[0m - \u001b[1m%40 - Running pipeline for row_seed: 3202 and size_of_unlabelled_data: 0.4 and model: GaussianNB(var_smoothing=0.001)\u001b[0m\n",
      "\u001b[32m2023-10-22 12:47:19.707\u001b[0m | \u001b[1mINFO    \u001b[0m | \u001b[36m__main__\u001b[0m:\u001b[36mrun_pipeline_self\u001b[0m:\u001b[36m75\u001b[0m - \u001b[1mModel: GaussianNB(var_smoothing=0.001)\u001b[0m\n",
      "\u001b[32m2023-10-22 12:47:19.707\u001b[0m | \u001b[1mINFO    \u001b[0m | \u001b[36m__main__\u001b[0m:\u001b[36mrun_pipeline_self\u001b[0m:\u001b[36m76\u001b[0m - \u001b[1mSize of unlabelled data: 0.5\u001b[0m\n",
      "\u001b[32m2023-10-22 12:47:19.708\u001b[0m | \u001b[1mINFO    \u001b[0m | \u001b[36m__main__\u001b[0m:\u001b[36mrun_pipeline_self\u001b[0m:\u001b[36m79\u001b[0m - \u001b[1m%41 - Running pipeline for row_seed: 24 and size_of_unlabelled_data: 0.5 and model: GaussianNB(var_smoothing=0.001)\u001b[0m\n",
      "\u001b[32m2023-10-22 12:47:19.735\u001b[0m | \u001b[1mINFO    \u001b[0m | \u001b[36m__main__\u001b[0m:\u001b[36mrun_pipeline_self\u001b[0m:\u001b[36m79\u001b[0m - \u001b[1m%42 - Running pipeline for row_seed: 42 and size_of_unlabelled_data: 0.5 and model: GaussianNB(var_smoothing=0.001)\u001b[0m\n",
      "\u001b[32m2023-10-22 12:47:19.760\u001b[0m | \u001b[1mINFO    \u001b[0m | \u001b[36m__main__\u001b[0m:\u001b[36mrun_pipeline_self\u001b[0m:\u001b[36m79\u001b[0m - \u001b[1m%43 - Running pipeline for row_seed: 206 and size_of_unlabelled_data: 0.5 and model: GaussianNB(var_smoothing=0.001)\u001b[0m\n",
      "\u001b[32m2023-10-22 12:47:19.792\u001b[0m | \u001b[1mINFO    \u001b[0m | \u001b[36m__main__\u001b[0m:\u001b[36mrun_pipeline_self\u001b[0m:\u001b[36m79\u001b[0m - \u001b[1m%44 - Running pipeline for row_seed: 602 and size_of_unlabelled_data: 0.5 and model: GaussianNB(var_smoothing=0.001)\u001b[0m\n",
      "\u001b[32m2023-10-22 12:47:19.818\u001b[0m | \u001b[1mINFO    \u001b[0m | \u001b[36m__main__\u001b[0m:\u001b[36mrun_pipeline_self\u001b[0m:\u001b[36m79\u001b[0m - \u001b[1m%45 - Running pipeline for row_seed: 412 and size_of_unlabelled_data: 0.5 and model: GaussianNB(var_smoothing=0.001)\u001b[0m\n",
      "\u001b[32m2023-10-22 12:47:19.843\u001b[0m | \u001b[1mINFO    \u001b[0m | \u001b[36m__main__\u001b[0m:\u001b[36mrun_pipeline_self\u001b[0m:\u001b[36m79\u001b[0m - \u001b[1m%46 - Running pipeline for row_seed: 214 and size_of_unlabelled_data: 0.5 and model: GaussianNB(var_smoothing=0.001)\u001b[0m\n",
      "\u001b[32m2023-10-22 12:47:19.869\u001b[0m | \u001b[1mINFO    \u001b[0m | \u001b[36m__main__\u001b[0m:\u001b[36mrun_pipeline_self\u001b[0m:\u001b[36m79\u001b[0m - \u001b[1m%47 - Running pipeline for row_seed: 754 and size_of_unlabelled_data: 0.5 and model: GaussianNB(var_smoothing=0.001)\u001b[0m\n",
      "\u001b[32m2023-10-22 12:47:19.900\u001b[0m | \u001b[1mINFO    \u001b[0m | \u001b[36m__main__\u001b[0m:\u001b[36mrun_pipeline_self\u001b[0m:\u001b[36m79\u001b[0m - \u001b[1m%48 - Running pipeline for row_seed: 457 and size_of_unlabelled_data: 0.5 and model: GaussianNB(var_smoothing=0.001)\u001b[0m\n"
     ]
    },
    {
     "name": "stdout",
     "output_type": "stream",
     "text": [
      "\n",
      "\n"
     ]
    },
    {
     "name": "stderr",
     "output_type": "stream",
     "text": [
      "\u001b[32m2023-10-22 12:47:19.931\u001b[0m | \u001b[1mINFO    \u001b[0m | \u001b[36m__main__\u001b[0m:\u001b[36mrun_pipeline_self\u001b[0m:\u001b[36m79\u001b[0m - \u001b[1m%49 - Running pipeline for row_seed: 2023 and size_of_unlabelled_data: 0.5 and model: GaussianNB(var_smoothing=0.001)\u001b[0m\n",
      "\u001b[32m2023-10-22 12:47:19.961\u001b[0m | \u001b[1mINFO    \u001b[0m | \u001b[36m__main__\u001b[0m:\u001b[36mrun_pipeline_self\u001b[0m:\u001b[36m79\u001b[0m - \u001b[1m%50 - Running pipeline for row_seed: 3202 and size_of_unlabelled_data: 0.5 and model: GaussianNB(var_smoothing=0.001)\u001b[0m\n",
      "\u001b[32m2023-10-22 12:47:19.993\u001b[0m | \u001b[1mINFO    \u001b[0m | \u001b[36m__main__\u001b[0m:\u001b[36mrun_pipeline_self\u001b[0m:\u001b[36m75\u001b[0m - \u001b[1mModel: GaussianNB(var_smoothing=0.001)\u001b[0m\n",
      "\u001b[32m2023-10-22 12:47:19.994\u001b[0m | \u001b[1mINFO    \u001b[0m | \u001b[36m__main__\u001b[0m:\u001b[36mrun_pipeline_self\u001b[0m:\u001b[36m76\u001b[0m - \u001b[1mSize of unlabelled data: 0.6\u001b[0m\n",
      "\u001b[32m2023-10-22 12:47:19.994\u001b[0m | \u001b[1mINFO    \u001b[0m | \u001b[36m__main__\u001b[0m:\u001b[36mrun_pipeline_self\u001b[0m:\u001b[36m79\u001b[0m - \u001b[1m%51 - Running pipeline for row_seed: 24 and size_of_unlabelled_data: 0.6 and model: GaussianNB(var_smoothing=0.001)\u001b[0m\n",
      "\u001b[32m2023-10-22 12:47:20.022\u001b[0m | \u001b[1mINFO    \u001b[0m | \u001b[36m__main__\u001b[0m:\u001b[36mrun_pipeline_self\u001b[0m:\u001b[36m79\u001b[0m - \u001b[1m%52 - Running pipeline for row_seed: 42 and size_of_unlabelled_data: 0.6 and model: GaussianNB(var_smoothing=0.001)\u001b[0m\n",
      "\u001b[32m2023-10-22 12:47:20.050\u001b[0m | \u001b[1mINFO    \u001b[0m | \u001b[36m__main__\u001b[0m:\u001b[36mrun_pipeline_self\u001b[0m:\u001b[36m79\u001b[0m - \u001b[1m%53 - Running pipeline for row_seed: 206 and size_of_unlabelled_data: 0.6 and model: GaussianNB(var_smoothing=0.001)\u001b[0m\n",
      "\u001b[32m2023-10-22 12:47:20.086\u001b[0m | \u001b[1mINFO    \u001b[0m | \u001b[36m__main__\u001b[0m:\u001b[36mrun_pipeline_self\u001b[0m:\u001b[36m79\u001b[0m - \u001b[1m%54 - Running pipeline for row_seed: 602 and size_of_unlabelled_data: 0.6 and model: GaussianNB(var_smoothing=0.001)\u001b[0m\n",
      "\u001b[32m2023-10-22 12:47:20.114\u001b[0m | \u001b[1mINFO    \u001b[0m | \u001b[36m__main__\u001b[0m:\u001b[36mrun_pipeline_self\u001b[0m:\u001b[36m79\u001b[0m - \u001b[1m%55 - Running pipeline for row_seed: 412 and size_of_unlabelled_data: 0.6 and model: GaussianNB(var_smoothing=0.001)\u001b[0m\n",
      "\u001b[32m2023-10-22 12:47:20.146\u001b[0m | \u001b[1mINFO    \u001b[0m | \u001b[36m__main__\u001b[0m:\u001b[36mrun_pipeline_self\u001b[0m:\u001b[36m79\u001b[0m - \u001b[1m%56 - Running pipeline for row_seed: 214 and size_of_unlabelled_data: 0.6 and model: GaussianNB(var_smoothing=0.001)\u001b[0m\n",
      "\u001b[32m2023-10-22 12:47:20.173\u001b[0m | \u001b[1mINFO    \u001b[0m | \u001b[36m__main__\u001b[0m:\u001b[36mrun_pipeline_self\u001b[0m:\u001b[36m79\u001b[0m - \u001b[1m%57 - Running pipeline for row_seed: 754 and size_of_unlabelled_data: 0.6 and model: GaussianNB(var_smoothing=0.001)\u001b[0m\n"
     ]
    },
    {
     "name": "stdout",
     "output_type": "stream",
     "text": [
      "\n",
      "\n"
     ]
    },
    {
     "name": "stderr",
     "output_type": "stream",
     "text": [
      "\u001b[32m2023-10-22 12:47:20.202\u001b[0m | \u001b[1mINFO    \u001b[0m | \u001b[36m__main__\u001b[0m:\u001b[36mrun_pipeline_self\u001b[0m:\u001b[36m79\u001b[0m - \u001b[1m%58 - Running pipeline for row_seed: 457 and size_of_unlabelled_data: 0.6 and model: GaussianNB(var_smoothing=0.001)\u001b[0m\n",
      "\u001b[32m2023-10-22 12:47:20.235\u001b[0m | \u001b[1mINFO    \u001b[0m | \u001b[36m__main__\u001b[0m:\u001b[36mrun_pipeline_self\u001b[0m:\u001b[36m79\u001b[0m - \u001b[1m%59 - Running pipeline for row_seed: 2023 and size_of_unlabelled_data: 0.6 and model: GaussianNB(var_smoothing=0.001)\u001b[0m\n",
      "\u001b[32m2023-10-22 12:47:20.261\u001b[0m | \u001b[1mINFO    \u001b[0m | \u001b[36m__main__\u001b[0m:\u001b[36mrun_pipeline_self\u001b[0m:\u001b[36m79\u001b[0m - \u001b[1m%60 - Running pipeline for row_seed: 3202 and size_of_unlabelled_data: 0.6 and model: GaussianNB(var_smoothing=0.001)\u001b[0m\n",
      "\u001b[32m2023-10-22 12:47:20.296\u001b[0m | \u001b[1mINFO    \u001b[0m | \u001b[36m__main__\u001b[0m:\u001b[36mrun_pipeline_self\u001b[0m:\u001b[36m75\u001b[0m - \u001b[1mModel: GaussianNB(var_smoothing=0.001)\u001b[0m\n",
      "\u001b[32m2023-10-22 12:47:20.297\u001b[0m | \u001b[1mINFO    \u001b[0m | \u001b[36m__main__\u001b[0m:\u001b[36mrun_pipeline_self\u001b[0m:\u001b[36m76\u001b[0m - \u001b[1mSize of unlabelled data: 0.7\u001b[0m\n",
      "\u001b[32m2023-10-22 12:47:20.297\u001b[0m | \u001b[1mINFO    \u001b[0m | \u001b[36m__main__\u001b[0m:\u001b[36mrun_pipeline_self\u001b[0m:\u001b[36m79\u001b[0m - \u001b[1m%61 - Running pipeline for row_seed: 24 and size_of_unlabelled_data: 0.7 and model: GaussianNB(var_smoothing=0.001)\u001b[0m\n",
      "\u001b[32m2023-10-22 12:47:20.331\u001b[0m | \u001b[1mINFO    \u001b[0m | \u001b[36m__main__\u001b[0m:\u001b[36mrun_pipeline_self\u001b[0m:\u001b[36m79\u001b[0m - \u001b[1m%62 - Running pipeline for row_seed: 42 and size_of_unlabelled_data: 0.7 and model: GaussianNB(var_smoothing=0.001)\u001b[0m\n",
      "\u001b[32m2023-10-22 12:47:20.361\u001b[0m | \u001b[1mINFO    \u001b[0m | \u001b[36m__main__\u001b[0m:\u001b[36mrun_pipeline_self\u001b[0m:\u001b[36m79\u001b[0m - \u001b[1m%63 - Running pipeline for row_seed: 206 and size_of_unlabelled_data: 0.7 and model: GaussianNB(var_smoothing=0.001)\u001b[0m\n",
      "\u001b[32m2023-10-22 12:47:20.389\u001b[0m | \u001b[1mINFO    \u001b[0m | \u001b[36m__main__\u001b[0m:\u001b[36mrun_pipeline_self\u001b[0m:\u001b[36m79\u001b[0m - \u001b[1m%64 - Running pipeline for row_seed: 602 and size_of_unlabelled_data: 0.7 and model: GaussianNB(var_smoothing=0.001)\u001b[0m\n",
      "\u001b[32m2023-10-22 12:47:20.419\u001b[0m | \u001b[1mINFO    \u001b[0m | \u001b[36m__main__\u001b[0m:\u001b[36mrun_pipeline_self\u001b[0m:\u001b[36m79\u001b[0m - \u001b[1m%65 - Running pipeline for row_seed: 412 and size_of_unlabelled_data: 0.7 and model: GaussianNB(var_smoothing=0.001)\u001b[0m\n",
      "\u001b[32m2023-10-22 12:47:20.444\u001b[0m | \u001b[1mINFO    \u001b[0m | \u001b[36m__main__\u001b[0m:\u001b[36mrun_pipeline_self\u001b[0m:\u001b[36m79\u001b[0m - \u001b[1m%66 - Running pipeline for row_seed: 214 and size_of_unlabelled_data: 0.7 and model: GaussianNB(var_smoothing=0.001)\u001b[0m\n",
      "\u001b[32m2023-10-22 12:47:20.471\u001b[0m | \u001b[1mINFO    \u001b[0m | \u001b[36m__main__\u001b[0m:\u001b[36mrun_pipeline_self\u001b[0m:\u001b[36m79\u001b[0m - \u001b[1m%67 - Running pipeline for row_seed: 754 and size_of_unlabelled_data: 0.7 and model: GaussianNB(var_smoothing=0.001)\u001b[0m\n",
      "\u001b[32m2023-10-22 12:47:20.494\u001b[0m | \u001b[1mINFO    \u001b[0m | \u001b[36m__main__\u001b[0m:\u001b[36mrun_pipeline_self\u001b[0m:\u001b[36m79\u001b[0m - \u001b[1m%68 - Running pipeline for row_seed: 457 and size_of_unlabelled_data: 0.7 and model: GaussianNB(var_smoothing=0.001)\u001b[0m\n"
     ]
    },
    {
     "name": "stdout",
     "output_type": "stream",
     "text": [
      "\n",
      "\n"
     ]
    },
    {
     "name": "stderr",
     "output_type": "stream",
     "text": [
      "\u001b[32m2023-10-22 12:47:20.528\u001b[0m | \u001b[1mINFO    \u001b[0m | \u001b[36m__main__\u001b[0m:\u001b[36mrun_pipeline_self\u001b[0m:\u001b[36m79\u001b[0m - \u001b[1m%69 - Running pipeline for row_seed: 2023 and size_of_unlabelled_data: 0.7 and model: GaussianNB(var_smoothing=0.001)\u001b[0m\n",
      "\u001b[32m2023-10-22 12:47:20.563\u001b[0m | \u001b[1mINFO    \u001b[0m | \u001b[36m__main__\u001b[0m:\u001b[36mrun_pipeline_self\u001b[0m:\u001b[36m79\u001b[0m - \u001b[1m%70 - Running pipeline for row_seed: 3202 and size_of_unlabelled_data: 0.7 and model: GaussianNB(var_smoothing=0.001)\u001b[0m\n",
      "\u001b[32m2023-10-22 12:47:20.600\u001b[0m | \u001b[1mINFO    \u001b[0m | \u001b[36m__main__\u001b[0m:\u001b[36mrun_pipeline_self\u001b[0m:\u001b[36m75\u001b[0m - \u001b[1mModel: GaussianNB(var_smoothing=0.001)\u001b[0m\n",
      "\u001b[32m2023-10-22 12:47:20.600\u001b[0m | \u001b[1mINFO    \u001b[0m | \u001b[36m__main__\u001b[0m:\u001b[36mrun_pipeline_self\u001b[0m:\u001b[36m76\u001b[0m - \u001b[1mSize of unlabelled data: 0.8\u001b[0m\n",
      "\u001b[32m2023-10-22 12:47:20.601\u001b[0m | \u001b[1mINFO    \u001b[0m | \u001b[36m__main__\u001b[0m:\u001b[36mrun_pipeline_self\u001b[0m:\u001b[36m79\u001b[0m - \u001b[1m%71 - Running pipeline for row_seed: 24 and size_of_unlabelled_data: 0.8 and model: GaussianNB(var_smoothing=0.001)\u001b[0m\n",
      "\u001b[32m2023-10-22 12:47:20.628\u001b[0m | \u001b[1mINFO    \u001b[0m | \u001b[36m__main__\u001b[0m:\u001b[36mrun_pipeline_self\u001b[0m:\u001b[36m79\u001b[0m - \u001b[1m%72 - Running pipeline for row_seed: 42 and size_of_unlabelled_data: 0.8 and model: GaussianNB(var_smoothing=0.001)\u001b[0m\n",
      "\u001b[32m2023-10-22 12:47:20.660\u001b[0m | \u001b[1mINFO    \u001b[0m | \u001b[36m__main__\u001b[0m:\u001b[36mrun_pipeline_self\u001b[0m:\u001b[36m79\u001b[0m - \u001b[1m%73 - Running pipeline for row_seed: 206 and size_of_unlabelled_data: 0.8 and model: GaussianNB(var_smoothing=0.001)\u001b[0m\n",
      "\u001b[32m2023-10-22 12:47:20.691\u001b[0m | \u001b[1mINFO    \u001b[0m | \u001b[36m__main__\u001b[0m:\u001b[36mrun_pipeline_self\u001b[0m:\u001b[36m79\u001b[0m - \u001b[1m%74 - Running pipeline for row_seed: 602 and size_of_unlabelled_data: 0.8 and model: GaussianNB(var_smoothing=0.001)\u001b[0m\n",
      "\u001b[32m2023-10-22 12:47:20.718\u001b[0m | \u001b[1mINFO    \u001b[0m | \u001b[36m__main__\u001b[0m:\u001b[36mrun_pipeline_self\u001b[0m:\u001b[36m79\u001b[0m - \u001b[1m%75 - Running pipeline for row_seed: 412 and size_of_unlabelled_data: 0.8 and model: GaussianNB(var_smoothing=0.001)\u001b[0m\n",
      "\u001b[32m2023-10-22 12:47:20.744\u001b[0m | \u001b[1mINFO    \u001b[0m | \u001b[36m__main__\u001b[0m:\u001b[36mrun_pipeline_self\u001b[0m:\u001b[36m79\u001b[0m - \u001b[1m%76 - Running pipeline for row_seed: 214 and size_of_unlabelled_data: 0.8 and model: GaussianNB(var_smoothing=0.001)\u001b[0m\n",
      "\u001b[32m2023-10-22 12:47:20.772\u001b[0m | \u001b[1mINFO    \u001b[0m | \u001b[36m__main__\u001b[0m:\u001b[36mrun_pipeline_self\u001b[0m:\u001b[36m79\u001b[0m - \u001b[1m%77 - Running pipeline for row_seed: 754 and size_of_unlabelled_data: 0.8 and model: GaussianNB(var_smoothing=0.001)\u001b[0m\n",
      "\u001b[32m2023-10-22 12:47:20.795\u001b[0m | \u001b[1mINFO    \u001b[0m | \u001b[36m__main__\u001b[0m:\u001b[36mrun_pipeline_self\u001b[0m:\u001b[36m79\u001b[0m - \u001b[1m%78 - Running pipeline for row_seed: 457 and size_of_unlabelled_data: 0.8 and model: GaussianNB(var_smoothing=0.001)\u001b[0m\n"
     ]
    },
    {
     "name": "stdout",
     "output_type": "stream",
     "text": [
      "\n",
      "\n"
     ]
    },
    {
     "name": "stderr",
     "output_type": "stream",
     "text": [
      "\u001b[32m2023-10-22 12:47:20.828\u001b[0m | \u001b[1mINFO    \u001b[0m | \u001b[36m__main__\u001b[0m:\u001b[36mrun_pipeline_self\u001b[0m:\u001b[36m79\u001b[0m - \u001b[1m%79 - Running pipeline for row_seed: 2023 and size_of_unlabelled_data: 0.8 and model: GaussianNB(var_smoothing=0.001)\u001b[0m\n",
      "\u001b[32m2023-10-22 12:47:20.850\u001b[0m | \u001b[1mINFO    \u001b[0m | \u001b[36m__main__\u001b[0m:\u001b[36mrun_pipeline_self\u001b[0m:\u001b[36m79\u001b[0m - \u001b[1m%80 - Running pipeline for row_seed: 3202 and size_of_unlabelled_data: 0.8 and model: GaussianNB(var_smoothing=0.001)\u001b[0m\n",
      "\u001b[32m2023-10-22 12:47:20.880\u001b[0m | \u001b[1mINFO    \u001b[0m | \u001b[36m__main__\u001b[0m:\u001b[36mrun_pipeline_self\u001b[0m:\u001b[36m75\u001b[0m - \u001b[1mModel: GaussianNB(var_smoothing=0.001)\u001b[0m\n",
      "\u001b[32m2023-10-22 12:47:20.881\u001b[0m | \u001b[1mINFO    \u001b[0m | \u001b[36m__main__\u001b[0m:\u001b[36mrun_pipeline_self\u001b[0m:\u001b[36m76\u001b[0m - \u001b[1mSize of unlabelled data: 0.85\u001b[0m\n",
      "\u001b[32m2023-10-22 12:47:20.881\u001b[0m | \u001b[1mINFO    \u001b[0m | \u001b[36m__main__\u001b[0m:\u001b[36mrun_pipeline_self\u001b[0m:\u001b[36m79\u001b[0m - \u001b[1m%81 - Running pipeline for row_seed: 24 and size_of_unlabelled_data: 0.85 and model: GaussianNB(var_smoothing=0.001)\u001b[0m\n",
      "\u001b[32m2023-10-22 12:47:20.910\u001b[0m | \u001b[1mINFO    \u001b[0m | \u001b[36m__main__\u001b[0m:\u001b[36mrun_pipeline_self\u001b[0m:\u001b[36m79\u001b[0m - \u001b[1m%82 - Running pipeline for row_seed: 42 and size_of_unlabelled_data: 0.85 and model: GaussianNB(var_smoothing=0.001)\u001b[0m\n",
      "\u001b[32m2023-10-22 12:47:20.940\u001b[0m | \u001b[1mINFO    \u001b[0m | \u001b[36m__main__\u001b[0m:\u001b[36mrun_pipeline_self\u001b[0m:\u001b[36m79\u001b[0m - \u001b[1m%83 - Running pipeline for row_seed: 206 and size_of_unlabelled_data: 0.85 and model: GaussianNB(var_smoothing=0.001)\u001b[0m\n",
      "\u001b[32m2023-10-22 12:47:20.976\u001b[0m | \u001b[1mINFO    \u001b[0m | \u001b[36m__main__\u001b[0m:\u001b[36mrun_pipeline_self\u001b[0m:\u001b[36m79\u001b[0m - \u001b[1m%84 - Running pipeline for row_seed: 602 and size_of_unlabelled_data: 0.85 and model: GaussianNB(var_smoothing=0.001)\u001b[0m\n",
      "\u001b[32m2023-10-22 12:47:21.003\u001b[0m | \u001b[1mINFO    \u001b[0m | \u001b[36m__main__\u001b[0m:\u001b[36mrun_pipeline_self\u001b[0m:\u001b[36m79\u001b[0m - \u001b[1m%85 - Running pipeline for row_seed: 412 and size_of_unlabelled_data: 0.85 and model: GaussianNB(var_smoothing=0.001)\u001b[0m\n",
      "\u001b[32m2023-10-22 12:47:21.031\u001b[0m | \u001b[1mINFO    \u001b[0m | \u001b[36m__main__\u001b[0m:\u001b[36mrun_pipeline_self\u001b[0m:\u001b[36m79\u001b[0m - \u001b[1m%86 - Running pipeline for row_seed: 214 and size_of_unlabelled_data: 0.85 and model: GaussianNB(var_smoothing=0.001)\u001b[0m\n",
      "\u001b[32m2023-10-22 12:47:21.057\u001b[0m | \u001b[1mINFO    \u001b[0m | \u001b[36m__main__\u001b[0m:\u001b[36mrun_pipeline_self\u001b[0m:\u001b[36m79\u001b[0m - \u001b[1m%87 - Running pipeline for row_seed: 754 and size_of_unlabelled_data: 0.85 and model: GaussianNB(var_smoothing=0.001)\u001b[0m\n"
     ]
    },
    {
     "name": "stdout",
     "output_type": "stream",
     "text": [
      "\n",
      "\n"
     ]
    },
    {
     "name": "stderr",
     "output_type": "stream",
     "text": [
      "\u001b[32m2023-10-22 12:47:21.082\u001b[0m | \u001b[1mINFO    \u001b[0m | \u001b[36m__main__\u001b[0m:\u001b[36mrun_pipeline_self\u001b[0m:\u001b[36m79\u001b[0m - \u001b[1m%88 - Running pipeline for row_seed: 457 and size_of_unlabelled_data: 0.85 and model: GaussianNB(var_smoothing=0.001)\u001b[0m\n",
      "\u001b[32m2023-10-22 12:47:21.128\u001b[0m | \u001b[1mINFO    \u001b[0m | \u001b[36m__main__\u001b[0m:\u001b[36mrun_pipeline_self\u001b[0m:\u001b[36m79\u001b[0m - \u001b[1m%89 - Running pipeline for row_seed: 2023 and size_of_unlabelled_data: 0.85 and model: GaussianNB(var_smoothing=0.001)\u001b[0m\n",
      "\u001b[32m2023-10-22 12:47:21.153\u001b[0m | \u001b[1mINFO    \u001b[0m | \u001b[36m__main__\u001b[0m:\u001b[36mrun_pipeline_self\u001b[0m:\u001b[36m79\u001b[0m - \u001b[1m%90 - Running pipeline for row_seed: 3202 and size_of_unlabelled_data: 0.85 and model: GaussianNB(var_smoothing=0.001)\u001b[0m\n",
      "\u001b[32m2023-10-22 12:47:21.180\u001b[0m | \u001b[1mINFO    \u001b[0m | \u001b[36m__main__\u001b[0m:\u001b[36mrun_pipeline_self\u001b[0m:\u001b[36m75\u001b[0m - \u001b[1mModel: GaussianNB(var_smoothing=0.001)\u001b[0m\n",
      "\u001b[32m2023-10-22 12:47:21.181\u001b[0m | \u001b[1mINFO    \u001b[0m | \u001b[36m__main__\u001b[0m:\u001b[36mrun_pipeline_self\u001b[0m:\u001b[36m76\u001b[0m - \u001b[1mSize of unlabelled data: 0.9\u001b[0m\n",
      "\u001b[32m2023-10-22 12:47:21.181\u001b[0m | \u001b[1mINFO    \u001b[0m | \u001b[36m__main__\u001b[0m:\u001b[36mrun_pipeline_self\u001b[0m:\u001b[36m79\u001b[0m - \u001b[1m%91 - Running pipeline for row_seed: 24 and size_of_unlabelled_data: 0.9 and model: GaussianNB(var_smoothing=0.001)\u001b[0m\n",
      "\u001b[32m2023-10-22 12:47:21.217\u001b[0m | \u001b[1mINFO    \u001b[0m | \u001b[36m__main__\u001b[0m:\u001b[36mrun_pipeline_self\u001b[0m:\u001b[36m79\u001b[0m - \u001b[1m%92 - Running pipeline for row_seed: 42 and size_of_unlabelled_data: 0.9 and model: GaussianNB(var_smoothing=0.001)\u001b[0m\n",
      "\u001b[32m2023-10-22 12:47:21.244\u001b[0m | \u001b[1mINFO    \u001b[0m | \u001b[36m__main__\u001b[0m:\u001b[36mrun_pipeline_self\u001b[0m:\u001b[36m79\u001b[0m - \u001b[1m%93 - Running pipeline for row_seed: 206 and size_of_unlabelled_data: 0.9 and model: GaussianNB(var_smoothing=0.001)\u001b[0m\n",
      "\u001b[32m2023-10-22 12:47:21.272\u001b[0m | \u001b[1mINFO    \u001b[0m | \u001b[36m__main__\u001b[0m:\u001b[36mrun_pipeline_self\u001b[0m:\u001b[36m79\u001b[0m - \u001b[1m%94 - Running pipeline for row_seed: 602 and size_of_unlabelled_data: 0.9 and model: GaussianNB(var_smoothing=0.001)\u001b[0m\n",
      "\u001b[32m2023-10-22 12:47:21.308\u001b[0m | \u001b[1mINFO    \u001b[0m | \u001b[36m__main__\u001b[0m:\u001b[36mrun_pipeline_self\u001b[0m:\u001b[36m79\u001b[0m - \u001b[1m%95 - Running pipeline for row_seed: 412 and size_of_unlabelled_data: 0.9 and model: GaussianNB(var_smoothing=0.001)\u001b[0m\n",
      "\u001b[32m2023-10-22 12:47:21.337\u001b[0m | \u001b[1mINFO    \u001b[0m | \u001b[36m__main__\u001b[0m:\u001b[36mrun_pipeline_self\u001b[0m:\u001b[36m79\u001b[0m - \u001b[1m%96 - Running pipeline for row_seed: 214 and size_of_unlabelled_data: 0.9 and model: GaussianNB(var_smoothing=0.001)\u001b[0m\n",
      "\u001b[32m2023-10-22 12:47:21.362\u001b[0m | \u001b[1mINFO    \u001b[0m | \u001b[36m__main__\u001b[0m:\u001b[36mrun_pipeline_self\u001b[0m:\u001b[36m79\u001b[0m - \u001b[1m%97 - Running pipeline for row_seed: 754 and size_of_unlabelled_data: 0.9 and model: GaussianNB(var_smoothing=0.001)\u001b[0m\n"
     ]
    },
    {
     "name": "stdout",
     "output_type": "stream",
     "text": [
      "\n",
      "\n"
     ]
    },
    {
     "name": "stderr",
     "output_type": "stream",
     "text": [
      "\u001b[32m2023-10-22 12:47:21.386\u001b[0m | \u001b[1mINFO    \u001b[0m | \u001b[36m__main__\u001b[0m:\u001b[36mrun_pipeline_self\u001b[0m:\u001b[36m79\u001b[0m - \u001b[1m%98 - Running pipeline for row_seed: 457 and size_of_unlabelled_data: 0.9 and model: GaussianNB(var_smoothing=0.001)\u001b[0m\n",
      "\u001b[32m2023-10-22 12:47:21.414\u001b[0m | \u001b[1mINFO    \u001b[0m | \u001b[36m__main__\u001b[0m:\u001b[36mrun_pipeline_self\u001b[0m:\u001b[36m79\u001b[0m - \u001b[1m%99 - Running pipeline for row_seed: 2023 and size_of_unlabelled_data: 0.9 and model: GaussianNB(var_smoothing=0.001)\u001b[0m\n",
      "\u001b[32m2023-10-22 12:47:21.442\u001b[0m | \u001b[1mINFO    \u001b[0m | \u001b[36m__main__\u001b[0m:\u001b[36mrun_pipeline_self\u001b[0m:\u001b[36m79\u001b[0m - \u001b[1m%100 - Running pipeline for row_seed: 3202 and size_of_unlabelled_data: 0.9 and model: GaussianNB(var_smoothing=0.001)\u001b[0m\n",
      "\u001b[32m2023-10-22 12:47:21.468\u001b[0m | \u001b[1mINFO    \u001b[0m | \u001b[36m__main__\u001b[0m:\u001b[36mrun_pipeline_self\u001b[0m:\u001b[36m75\u001b[0m - \u001b[1mModel: DecisionTreeClassifier(max_depth=7)\u001b[0m\n",
      "\u001b[32m2023-10-22 12:47:21.468\u001b[0m | \u001b[1mINFO    \u001b[0m | \u001b[36m__main__\u001b[0m:\u001b[36mrun_pipeline_self\u001b[0m:\u001b[36m76\u001b[0m - \u001b[1mSize of unlabelled data: 0.1\u001b[0m\n",
      "\u001b[32m2023-10-22 12:47:21.469\u001b[0m | \u001b[1mINFO    \u001b[0m | \u001b[36m__main__\u001b[0m:\u001b[36mrun_pipeline_self\u001b[0m:\u001b[36m79\u001b[0m - \u001b[1m%101 - Running pipeline for row_seed: 24 and size_of_unlabelled_data: 0.1 and model: DecisionTreeClassifier(max_depth=7)\u001b[0m\n",
      "\u001b[32m2023-10-22 12:47:21.495\u001b[0m | \u001b[1mINFO    \u001b[0m | \u001b[36m__main__\u001b[0m:\u001b[36mrun_pipeline_self\u001b[0m:\u001b[36m79\u001b[0m - \u001b[1m%102 - Running pipeline for row_seed: 42 and size_of_unlabelled_data: 0.1 and model: DecisionTreeClassifier(max_depth=7)\u001b[0m\n",
      "\u001b[32m2023-10-22 12:47:21.522\u001b[0m | \u001b[1mINFO    \u001b[0m | \u001b[36m__main__\u001b[0m:\u001b[36mrun_pipeline_self\u001b[0m:\u001b[36m79\u001b[0m - \u001b[1m%103 - Running pipeline for row_seed: 206 and size_of_unlabelled_data: 0.1 and model: DecisionTreeClassifier(max_depth=7)\u001b[0m\n",
      "\u001b[32m2023-10-22 12:47:21.548\u001b[0m | \u001b[1mINFO    \u001b[0m | \u001b[36m__main__\u001b[0m:\u001b[36mrun_pipeline_self\u001b[0m:\u001b[36m79\u001b[0m - \u001b[1m%104 - Running pipeline for row_seed: 602 and size_of_unlabelled_data: 0.1 and model: DecisionTreeClassifier(max_depth=7)\u001b[0m\n",
      "\u001b[32m2023-10-22 12:47:21.574\u001b[0m | \u001b[1mINFO    \u001b[0m | \u001b[36m__main__\u001b[0m:\u001b[36mrun_pipeline_self\u001b[0m:\u001b[36m79\u001b[0m - \u001b[1m%105 - Running pipeline for row_seed: 412 and size_of_unlabelled_data: 0.1 and model: DecisionTreeClassifier(max_depth=7)\u001b[0m\n",
      "\u001b[32m2023-10-22 12:47:21.601\u001b[0m | \u001b[1mINFO    \u001b[0m | \u001b[36m__main__\u001b[0m:\u001b[36mrun_pipeline_self\u001b[0m:\u001b[36m79\u001b[0m - \u001b[1m%106 - Running pipeline for row_seed: 214 and size_of_unlabelled_data: 0.1 and model: DecisionTreeClassifier(max_depth=7)\u001b[0m\n",
      "\u001b[32m2023-10-22 12:47:21.627\u001b[0m | \u001b[1mINFO    \u001b[0m | \u001b[36m__main__\u001b[0m:\u001b[36mrun_pipeline_self\u001b[0m:\u001b[36m79\u001b[0m - \u001b[1m%107 - Running pipeline for row_seed: 754 and size_of_unlabelled_data: 0.1 and model: DecisionTreeClassifier(max_depth=7)\u001b[0m\n",
      "\u001b[32m2023-10-22 12:47:21.654\u001b[0m | \u001b[1mINFO    \u001b[0m | \u001b[36m__main__\u001b[0m:\u001b[36mrun_pipeline_self\u001b[0m:\u001b[36m79\u001b[0m - \u001b[1m%108 - Running pipeline for row_seed: 457 and size_of_unlabelled_data: 0.1 and model: DecisionTreeClassifier(max_depth=7)\u001b[0m\n"
     ]
    },
    {
     "name": "stdout",
     "output_type": "stream",
     "text": [
      "\n",
      "\n"
     ]
    },
    {
     "name": "stderr",
     "output_type": "stream",
     "text": [
      "\u001b[32m2023-10-22 12:47:21.681\u001b[0m | \u001b[1mINFO    \u001b[0m | \u001b[36m__main__\u001b[0m:\u001b[36mrun_pipeline_self\u001b[0m:\u001b[36m79\u001b[0m - \u001b[1m%109 - Running pipeline for row_seed: 2023 and size_of_unlabelled_data: 0.1 and model: DecisionTreeClassifier(max_depth=7)\u001b[0m\n",
      "\u001b[32m2023-10-22 12:47:21.710\u001b[0m | \u001b[1mINFO    \u001b[0m | \u001b[36m__main__\u001b[0m:\u001b[36mrun_pipeline_self\u001b[0m:\u001b[36m79\u001b[0m - \u001b[1m%110 - Running pipeline for row_seed: 3202 and size_of_unlabelled_data: 0.1 and model: DecisionTreeClassifier(max_depth=7)\u001b[0m\n",
      "\u001b[32m2023-10-22 12:47:21.736\u001b[0m | \u001b[1mINFO    \u001b[0m | \u001b[36m__main__\u001b[0m:\u001b[36mrun_pipeline_self\u001b[0m:\u001b[36m75\u001b[0m - \u001b[1mModel: DecisionTreeClassifier(max_depth=7)\u001b[0m\n",
      "\u001b[32m2023-10-22 12:47:21.737\u001b[0m | \u001b[1mINFO    \u001b[0m | \u001b[36m__main__\u001b[0m:\u001b[36mrun_pipeline_self\u001b[0m:\u001b[36m76\u001b[0m - \u001b[1mSize of unlabelled data: 0.2\u001b[0m\n",
      "\u001b[32m2023-10-22 12:47:21.738\u001b[0m | \u001b[1mINFO    \u001b[0m | \u001b[36m__main__\u001b[0m:\u001b[36mrun_pipeline_self\u001b[0m:\u001b[36m79\u001b[0m - \u001b[1m%111 - Running pipeline for row_seed: 24 and size_of_unlabelled_data: 0.2 and model: DecisionTreeClassifier(max_depth=7)\u001b[0m\n",
      "\u001b[32m2023-10-22 12:47:21.764\u001b[0m | \u001b[1mINFO    \u001b[0m | \u001b[36m__main__\u001b[0m:\u001b[36mrun_pipeline_self\u001b[0m:\u001b[36m79\u001b[0m - \u001b[1m%112 - Running pipeline for row_seed: 42 and size_of_unlabelled_data: 0.2 and model: DecisionTreeClassifier(max_depth=7)\u001b[0m\n",
      "\u001b[32m2023-10-22 12:47:21.790\u001b[0m | \u001b[1mINFO    \u001b[0m | \u001b[36m__main__\u001b[0m:\u001b[36mrun_pipeline_self\u001b[0m:\u001b[36m79\u001b[0m - \u001b[1m%113 - Running pipeline for row_seed: 206 and size_of_unlabelled_data: 0.2 and model: DecisionTreeClassifier(max_depth=7)\u001b[0m\n",
      "\u001b[32m2023-10-22 12:47:21.830\u001b[0m | \u001b[1mINFO    \u001b[0m | \u001b[36m__main__\u001b[0m:\u001b[36mrun_pipeline_self\u001b[0m:\u001b[36m79\u001b[0m - \u001b[1m%114 - Running pipeline for row_seed: 602 and size_of_unlabelled_data: 0.2 and model: DecisionTreeClassifier(max_depth=7)\u001b[0m\n",
      "\u001b[32m2023-10-22 12:47:21.862\u001b[0m | \u001b[1mINFO    \u001b[0m | \u001b[36m__main__\u001b[0m:\u001b[36mrun_pipeline_self\u001b[0m:\u001b[36m79\u001b[0m - \u001b[1m%115 - Running pipeline for row_seed: 412 and size_of_unlabelled_data: 0.2 and model: DecisionTreeClassifier(max_depth=7)\u001b[0m\n",
      "\u001b[32m2023-10-22 12:47:21.888\u001b[0m | \u001b[1mINFO    \u001b[0m | \u001b[36m__main__\u001b[0m:\u001b[36mrun_pipeline_self\u001b[0m:\u001b[36m79\u001b[0m - \u001b[1m%116 - Running pipeline for row_seed: 214 and size_of_unlabelled_data: 0.2 and model: DecisionTreeClassifier(max_depth=7)\u001b[0m\n",
      "\u001b[32m2023-10-22 12:47:21.916\u001b[0m | \u001b[1mINFO    \u001b[0m | \u001b[36m__main__\u001b[0m:\u001b[36mrun_pipeline_self\u001b[0m:\u001b[36m79\u001b[0m - \u001b[1m%117 - Running pipeline for row_seed: 754 and size_of_unlabelled_data: 0.2 and model: DecisionTreeClassifier(max_depth=7)\u001b[0m\n"
     ]
    },
    {
     "name": "stdout",
     "output_type": "stream",
     "text": [
      "\n",
      "\n"
     ]
    },
    {
     "name": "stderr",
     "output_type": "stream",
     "text": [
      "\u001b[32m2023-10-22 12:47:21.947\u001b[0m | \u001b[1mINFO    \u001b[0m | \u001b[36m__main__\u001b[0m:\u001b[36mrun_pipeline_self\u001b[0m:\u001b[36m79\u001b[0m - \u001b[1m%118 - Running pipeline for row_seed: 457 and size_of_unlabelled_data: 0.2 and model: DecisionTreeClassifier(max_depth=7)\u001b[0m\n",
      "\u001b[32m2023-10-22 12:47:21.973\u001b[0m | \u001b[1mINFO    \u001b[0m | \u001b[36m__main__\u001b[0m:\u001b[36mrun_pipeline_self\u001b[0m:\u001b[36m79\u001b[0m - \u001b[1m%119 - Running pipeline for row_seed: 2023 and size_of_unlabelled_data: 0.2 and model: DecisionTreeClassifier(max_depth=7)\u001b[0m\n",
      "\u001b[32m2023-10-22 12:47:21.999\u001b[0m | \u001b[1mINFO    \u001b[0m | \u001b[36m__main__\u001b[0m:\u001b[36mrun_pipeline_self\u001b[0m:\u001b[36m79\u001b[0m - \u001b[1m%120 - Running pipeline for row_seed: 3202 and size_of_unlabelled_data: 0.2 and model: DecisionTreeClassifier(max_depth=7)\u001b[0m\n",
      "\u001b[32m2023-10-22 12:47:22.025\u001b[0m | \u001b[1mINFO    \u001b[0m | \u001b[36m__main__\u001b[0m:\u001b[36mrun_pipeline_self\u001b[0m:\u001b[36m75\u001b[0m - \u001b[1mModel: DecisionTreeClassifier(max_depth=7)\u001b[0m\n",
      "\u001b[32m2023-10-22 12:47:22.026\u001b[0m | \u001b[1mINFO    \u001b[0m | \u001b[36m__main__\u001b[0m:\u001b[36mrun_pipeline_self\u001b[0m:\u001b[36m76\u001b[0m - \u001b[1mSize of unlabelled data: 0.3\u001b[0m\n",
      "\u001b[32m2023-10-22 12:47:22.026\u001b[0m | \u001b[1mINFO    \u001b[0m | \u001b[36m__main__\u001b[0m:\u001b[36mrun_pipeline_self\u001b[0m:\u001b[36m79\u001b[0m - \u001b[1m%121 - Running pipeline for row_seed: 24 and size_of_unlabelled_data: 0.3 and model: DecisionTreeClassifier(max_depth=7)\u001b[0m\n",
      "\u001b[32m2023-10-22 12:47:22.058\u001b[0m | \u001b[1mINFO    \u001b[0m | \u001b[36m__main__\u001b[0m:\u001b[36mrun_pipeline_self\u001b[0m:\u001b[36m79\u001b[0m - \u001b[1m%122 - Running pipeline for row_seed: 42 and size_of_unlabelled_data: 0.3 and model: DecisionTreeClassifier(max_depth=7)\u001b[0m\n",
      "\u001b[32m2023-10-22 12:47:22.085\u001b[0m | \u001b[1mINFO    \u001b[0m | \u001b[36m__main__\u001b[0m:\u001b[36mrun_pipeline_self\u001b[0m:\u001b[36m79\u001b[0m - \u001b[1m%123 - Running pipeline for row_seed: 206 and size_of_unlabelled_data: 0.3 and model: DecisionTreeClassifier(max_depth=7)\u001b[0m\n",
      "\u001b[32m2023-10-22 12:47:22.110\u001b[0m | \u001b[1mINFO    \u001b[0m | \u001b[36m__main__\u001b[0m:\u001b[36mrun_pipeline_self\u001b[0m:\u001b[36m79\u001b[0m - \u001b[1m%124 - Running pipeline for row_seed: 602 and size_of_unlabelled_data: 0.3 and model: DecisionTreeClassifier(max_depth=7)\u001b[0m\n",
      "\u001b[32m2023-10-22 12:47:22.135\u001b[0m | \u001b[1mINFO    \u001b[0m | \u001b[36m__main__\u001b[0m:\u001b[36mrun_pipeline_self\u001b[0m:\u001b[36m79\u001b[0m - \u001b[1m%125 - Running pipeline for row_seed: 412 and size_of_unlabelled_data: 0.3 and model: DecisionTreeClassifier(max_depth=7)\u001b[0m\n",
      "\u001b[32m2023-10-22 12:47:22.160\u001b[0m | \u001b[1mINFO    \u001b[0m | \u001b[36m__main__\u001b[0m:\u001b[36mrun_pipeline_self\u001b[0m:\u001b[36m79\u001b[0m - \u001b[1m%126 - Running pipeline for row_seed: 214 and size_of_unlabelled_data: 0.3 and model: DecisionTreeClassifier(max_depth=7)\u001b[0m\n",
      "\u001b[32m2023-10-22 12:47:22.186\u001b[0m | \u001b[1mINFO    \u001b[0m | \u001b[36m__main__\u001b[0m:\u001b[36mrun_pipeline_self\u001b[0m:\u001b[36m79\u001b[0m - \u001b[1m%127 - Running pipeline for row_seed: 754 and size_of_unlabelled_data: 0.3 and model: DecisionTreeClassifier(max_depth=7)\u001b[0m\n",
      "\u001b[32m2023-10-22 12:47:22.213\u001b[0m | \u001b[1mINFO    \u001b[0m | \u001b[36m__main__\u001b[0m:\u001b[36mrun_pipeline_self\u001b[0m:\u001b[36m79\u001b[0m - \u001b[1m%128 - Running pipeline for row_seed: 457 and size_of_unlabelled_data: 0.3 and model: DecisionTreeClassifier(max_depth=7)\u001b[0m\n"
     ]
    },
    {
     "name": "stdout",
     "output_type": "stream",
     "text": [
      "\n",
      "\n"
     ]
    },
    {
     "name": "stderr",
     "output_type": "stream",
     "text": [
      "\u001b[32m2023-10-22 12:47:22.244\u001b[0m | \u001b[1mINFO    \u001b[0m | \u001b[36m__main__\u001b[0m:\u001b[36mrun_pipeline_self\u001b[0m:\u001b[36m79\u001b[0m - \u001b[1m%129 - Running pipeline for row_seed: 2023 and size_of_unlabelled_data: 0.3 and model: DecisionTreeClassifier(max_depth=7)\u001b[0m\n",
      "\u001b[32m2023-10-22 12:47:22.270\u001b[0m | \u001b[1mINFO    \u001b[0m | \u001b[36m__main__\u001b[0m:\u001b[36mrun_pipeline_self\u001b[0m:\u001b[36m79\u001b[0m - \u001b[1m%130 - Running pipeline for row_seed: 3202 and size_of_unlabelled_data: 0.3 and model: DecisionTreeClassifier(max_depth=7)\u001b[0m\n",
      "\u001b[32m2023-10-22 12:47:22.312\u001b[0m | \u001b[1mINFO    \u001b[0m | \u001b[36m__main__\u001b[0m:\u001b[36mrun_pipeline_self\u001b[0m:\u001b[36m75\u001b[0m - \u001b[1mModel: DecisionTreeClassifier(max_depth=7)\u001b[0m\n",
      "\u001b[32m2023-10-22 12:47:22.313\u001b[0m | \u001b[1mINFO    \u001b[0m | \u001b[36m__main__\u001b[0m:\u001b[36mrun_pipeline_self\u001b[0m:\u001b[36m76\u001b[0m - \u001b[1mSize of unlabelled data: 0.4\u001b[0m\n",
      "\u001b[32m2023-10-22 12:47:22.314\u001b[0m | \u001b[1mINFO    \u001b[0m | \u001b[36m__main__\u001b[0m:\u001b[36mrun_pipeline_self\u001b[0m:\u001b[36m79\u001b[0m - \u001b[1m%131 - Running pipeline for row_seed: 24 and size_of_unlabelled_data: 0.4 and model: DecisionTreeClassifier(max_depth=7)\u001b[0m\n",
      "\u001b[32m2023-10-22 12:47:22.344\u001b[0m | \u001b[1mINFO    \u001b[0m | \u001b[36m__main__\u001b[0m:\u001b[36mrun_pipeline_self\u001b[0m:\u001b[36m79\u001b[0m - \u001b[1m%132 - Running pipeline for row_seed: 42 and size_of_unlabelled_data: 0.4 and model: DecisionTreeClassifier(max_depth=7)\u001b[0m\n",
      "\u001b[32m2023-10-22 12:47:22.377\u001b[0m | \u001b[1mINFO    \u001b[0m | \u001b[36m__main__\u001b[0m:\u001b[36mrun_pipeline_self\u001b[0m:\u001b[36m79\u001b[0m - \u001b[1m%133 - Running pipeline for row_seed: 206 and size_of_unlabelled_data: 0.4 and model: DecisionTreeClassifier(max_depth=7)\u001b[0m\n",
      "\u001b[32m2023-10-22 12:47:22.407\u001b[0m | \u001b[1mINFO    \u001b[0m | \u001b[36m__main__\u001b[0m:\u001b[36mrun_pipeline_self\u001b[0m:\u001b[36m79\u001b[0m - \u001b[1m%134 - Running pipeline for row_seed: 602 and size_of_unlabelled_data: 0.4 and model: DecisionTreeClassifier(max_depth=7)\u001b[0m\n",
      "\u001b[32m2023-10-22 12:47:22.432\u001b[0m | \u001b[1mINFO    \u001b[0m | \u001b[36m__main__\u001b[0m:\u001b[36mrun_pipeline_self\u001b[0m:\u001b[36m79\u001b[0m - \u001b[1m%135 - Running pipeline for row_seed: 412 and size_of_unlabelled_data: 0.4 and model: DecisionTreeClassifier(max_depth=7)\u001b[0m\n",
      "\u001b[32m2023-10-22 12:47:22.463\u001b[0m | \u001b[1mINFO    \u001b[0m | \u001b[36m__main__\u001b[0m:\u001b[36mrun_pipeline_self\u001b[0m:\u001b[36m79\u001b[0m - \u001b[1m%136 - Running pipeline for row_seed: 214 and size_of_unlabelled_data: 0.4 and model: DecisionTreeClassifier(max_depth=7)\u001b[0m\n",
      "\u001b[32m2023-10-22 12:47:22.487\u001b[0m | \u001b[1mINFO    \u001b[0m | \u001b[36m__main__\u001b[0m:\u001b[36mrun_pipeline_self\u001b[0m:\u001b[36m79\u001b[0m - \u001b[1m%137 - Running pipeline for row_seed: 754 and size_of_unlabelled_data: 0.4 and model: DecisionTreeClassifier(max_depth=7)\u001b[0m\n"
     ]
    },
    {
     "name": "stdout",
     "output_type": "stream",
     "text": [
      "\n",
      "\n"
     ]
    },
    {
     "name": "stderr",
     "output_type": "stream",
     "text": [
      "\u001b[32m2023-10-22 12:47:22.518\u001b[0m | \u001b[1mINFO    \u001b[0m | \u001b[36m__main__\u001b[0m:\u001b[36mrun_pipeline_self\u001b[0m:\u001b[36m79\u001b[0m - \u001b[1m%138 - Running pipeline for row_seed: 457 and size_of_unlabelled_data: 0.4 and model: DecisionTreeClassifier(max_depth=7)\u001b[0m\n",
      "\u001b[32m2023-10-22 12:47:22.543\u001b[0m | \u001b[1mINFO    \u001b[0m | \u001b[36m__main__\u001b[0m:\u001b[36mrun_pipeline_self\u001b[0m:\u001b[36m79\u001b[0m - \u001b[1m%139 - Running pipeline for row_seed: 2023 and size_of_unlabelled_data: 0.4 and model: DecisionTreeClassifier(max_depth=7)\u001b[0m\n",
      "\u001b[32m2023-10-22 12:47:22.569\u001b[0m | \u001b[1mINFO    \u001b[0m | \u001b[36m__main__\u001b[0m:\u001b[36mrun_pipeline_self\u001b[0m:\u001b[36m79\u001b[0m - \u001b[1m%140 - Running pipeline for row_seed: 3202 and size_of_unlabelled_data: 0.4 and model: DecisionTreeClassifier(max_depth=7)\u001b[0m\n",
      "\u001b[32m2023-10-22 12:47:22.593\u001b[0m | \u001b[1mINFO    \u001b[0m | \u001b[36m__main__\u001b[0m:\u001b[36mrun_pipeline_self\u001b[0m:\u001b[36m75\u001b[0m - \u001b[1mModel: DecisionTreeClassifier(max_depth=7)\u001b[0m\n",
      "\u001b[32m2023-10-22 12:47:22.594\u001b[0m | \u001b[1mINFO    \u001b[0m | \u001b[36m__main__\u001b[0m:\u001b[36mrun_pipeline_self\u001b[0m:\u001b[36m76\u001b[0m - \u001b[1mSize of unlabelled data: 0.5\u001b[0m\n",
      "\u001b[32m2023-10-22 12:47:22.594\u001b[0m | \u001b[1mINFO    \u001b[0m | \u001b[36m__main__\u001b[0m:\u001b[36mrun_pipeline_self\u001b[0m:\u001b[36m79\u001b[0m - \u001b[1m%141 - Running pipeline for row_seed: 24 and size_of_unlabelled_data: 0.5 and model: DecisionTreeClassifier(max_depth=7)\u001b[0m\n",
      "\u001b[32m2023-10-22 12:47:22.619\u001b[0m | \u001b[1mINFO    \u001b[0m | \u001b[36m__main__\u001b[0m:\u001b[36mrun_pipeline_self\u001b[0m:\u001b[36m79\u001b[0m - \u001b[1m%142 - Running pipeline for row_seed: 42 and size_of_unlabelled_data: 0.5 and model: DecisionTreeClassifier(max_depth=7)\u001b[0m\n",
      "\u001b[32m2023-10-22 12:47:22.643\u001b[0m | \u001b[1mINFO    \u001b[0m | \u001b[36m__main__\u001b[0m:\u001b[36mrun_pipeline_self\u001b[0m:\u001b[36m79\u001b[0m - \u001b[1m%143 - Running pipeline for row_seed: 206 and size_of_unlabelled_data: 0.5 and model: DecisionTreeClassifier(max_depth=7)\u001b[0m\n",
      "\u001b[32m2023-10-22 12:47:22.669\u001b[0m | \u001b[1mINFO    \u001b[0m | \u001b[36m__main__\u001b[0m:\u001b[36mrun_pipeline_self\u001b[0m:\u001b[36m79\u001b[0m - \u001b[1m%144 - Running pipeline for row_seed: 602 and size_of_unlabelled_data: 0.5 and model: DecisionTreeClassifier(max_depth=7)\u001b[0m\n",
      "\u001b[32m2023-10-22 12:47:22.693\u001b[0m | \u001b[1mINFO    \u001b[0m | \u001b[36m__main__\u001b[0m:\u001b[36mrun_pipeline_self\u001b[0m:\u001b[36m79\u001b[0m - \u001b[1m%145 - Running pipeline for row_seed: 412 and size_of_unlabelled_data: 0.5 and model: DecisionTreeClassifier(max_depth=7)\u001b[0m\n",
      "\u001b[32m2023-10-22 12:47:22.731\u001b[0m | \u001b[1mINFO    \u001b[0m | \u001b[36m__main__\u001b[0m:\u001b[36mrun_pipeline_self\u001b[0m:\u001b[36m79\u001b[0m - \u001b[1m%146 - Running pipeline for row_seed: 214 and size_of_unlabelled_data: 0.5 and model: DecisionTreeClassifier(max_depth=7)\u001b[0m\n",
      "\u001b[32m2023-10-22 12:47:22.761\u001b[0m | \u001b[1mINFO    \u001b[0m | \u001b[36m__main__\u001b[0m:\u001b[36mrun_pipeline_self\u001b[0m:\u001b[36m79\u001b[0m - \u001b[1m%147 - Running pipeline for row_seed: 754 and size_of_unlabelled_data: 0.5 and model: DecisionTreeClassifier(max_depth=7)\u001b[0m\n",
      "\u001b[32m2023-10-22 12:47:22.786\u001b[0m | \u001b[1mINFO    \u001b[0m | \u001b[36m__main__\u001b[0m:\u001b[36mrun_pipeline_self\u001b[0m:\u001b[36m79\u001b[0m - \u001b[1m%148 - Running pipeline for row_seed: 457 and size_of_unlabelled_data: 0.5 and model: DecisionTreeClassifier(max_depth=7)\u001b[0m\n"
     ]
    },
    {
     "name": "stdout",
     "output_type": "stream",
     "text": [
      "\n",
      "\n"
     ]
    },
    {
     "name": "stderr",
     "output_type": "stream",
     "text": [
      "\u001b[32m2023-10-22 12:47:22.812\u001b[0m | \u001b[1mINFO    \u001b[0m | \u001b[36m__main__\u001b[0m:\u001b[36mrun_pipeline_self\u001b[0m:\u001b[36m79\u001b[0m - \u001b[1m%149 - Running pipeline for row_seed: 2023 and size_of_unlabelled_data: 0.5 and model: DecisionTreeClassifier(max_depth=7)\u001b[0m\n",
      "\u001b[32m2023-10-22 12:47:22.836\u001b[0m | \u001b[1mINFO    \u001b[0m | \u001b[36m__main__\u001b[0m:\u001b[36mrun_pipeline_self\u001b[0m:\u001b[36m79\u001b[0m - \u001b[1m%150 - Running pipeline for row_seed: 3202 and size_of_unlabelled_data: 0.5 and model: DecisionTreeClassifier(max_depth=7)\u001b[0m\n",
      "\u001b[32m2023-10-22 12:47:22.861\u001b[0m | \u001b[1mINFO    \u001b[0m | \u001b[36m__main__\u001b[0m:\u001b[36mrun_pipeline_self\u001b[0m:\u001b[36m75\u001b[0m - \u001b[1mModel: DecisionTreeClassifier(max_depth=7)\u001b[0m\n",
      "\u001b[32m2023-10-22 12:47:22.861\u001b[0m | \u001b[1mINFO    \u001b[0m | \u001b[36m__main__\u001b[0m:\u001b[36mrun_pipeline_self\u001b[0m:\u001b[36m76\u001b[0m - \u001b[1mSize of unlabelled data: 0.6\u001b[0m\n",
      "\u001b[32m2023-10-22 12:47:22.862\u001b[0m | \u001b[1mINFO    \u001b[0m | \u001b[36m__main__\u001b[0m:\u001b[36mrun_pipeline_self\u001b[0m:\u001b[36m79\u001b[0m - \u001b[1m%151 - Running pipeline for row_seed: 24 and size_of_unlabelled_data: 0.6 and model: DecisionTreeClassifier(max_depth=7)\u001b[0m\n",
      "\u001b[32m2023-10-22 12:47:22.890\u001b[0m | \u001b[1mINFO    \u001b[0m | \u001b[36m__main__\u001b[0m:\u001b[36mrun_pipeline_self\u001b[0m:\u001b[36m79\u001b[0m - \u001b[1m%152 - Running pipeline for row_seed: 42 and size_of_unlabelled_data: 0.6 and model: DecisionTreeClassifier(max_depth=7)\u001b[0m\n",
      "\u001b[32m2023-10-22 12:47:22.914\u001b[0m | \u001b[1mINFO    \u001b[0m | \u001b[36m__main__\u001b[0m:\u001b[36mrun_pipeline_self\u001b[0m:\u001b[36m79\u001b[0m - \u001b[1m%153 - Running pipeline for row_seed: 206 and size_of_unlabelled_data: 0.6 and model: DecisionTreeClassifier(max_depth=7)\u001b[0m\n",
      "\u001b[32m2023-10-22 12:47:22.938\u001b[0m | \u001b[1mINFO    \u001b[0m | \u001b[36m__main__\u001b[0m:\u001b[36mrun_pipeline_self\u001b[0m:\u001b[36m79\u001b[0m - \u001b[1m%154 - Running pipeline for row_seed: 602 and size_of_unlabelled_data: 0.6 and model: DecisionTreeClassifier(max_depth=7)\u001b[0m\n",
      "\u001b[32m2023-10-22 12:47:22.961\u001b[0m | \u001b[1mINFO    \u001b[0m | \u001b[36m__main__\u001b[0m:\u001b[36mrun_pipeline_self\u001b[0m:\u001b[36m79\u001b[0m - \u001b[1m%155 - Running pipeline for row_seed: 412 and size_of_unlabelled_data: 0.6 and model: DecisionTreeClassifier(max_depth=7)\u001b[0m\n",
      "\u001b[32m2023-10-22 12:47:22.986\u001b[0m | \u001b[1mINFO    \u001b[0m | \u001b[36m__main__\u001b[0m:\u001b[36mrun_pipeline_self\u001b[0m:\u001b[36m79\u001b[0m - \u001b[1m%156 - Running pipeline for row_seed: 214 and size_of_unlabelled_data: 0.6 and model: DecisionTreeClassifier(max_depth=7)\u001b[0m\n",
      "\u001b[32m2023-10-22 12:47:23.009\u001b[0m | \u001b[1mINFO    \u001b[0m | \u001b[36m__main__\u001b[0m:\u001b[36mrun_pipeline_self\u001b[0m:\u001b[36m79\u001b[0m - \u001b[1m%157 - Running pipeline for row_seed: 754 and size_of_unlabelled_data: 0.6 and model: DecisionTreeClassifier(max_depth=7)\u001b[0m\n",
      "\u001b[32m2023-10-22 12:47:23.033\u001b[0m | \u001b[1mINFO    \u001b[0m | \u001b[36m__main__\u001b[0m:\u001b[36mrun_pipeline_self\u001b[0m:\u001b[36m79\u001b[0m - \u001b[1m%158 - Running pipeline for row_seed: 457 and size_of_unlabelled_data: 0.6 and model: DecisionTreeClassifier(max_depth=7)\u001b[0m\n",
      "\u001b[32m2023-10-22 12:47:23.058\u001b[0m | \u001b[1mINFO    \u001b[0m | \u001b[36m__main__\u001b[0m:\u001b[36mrun_pipeline_self\u001b[0m:\u001b[36m79\u001b[0m - \u001b[1m%159 - Running pipeline for row_seed: 2023 and size_of_unlabelled_data: 0.6 and model: DecisionTreeClassifier(max_depth=7)\u001b[0m\n"
     ]
    },
    {
     "name": "stdout",
     "output_type": "stream",
     "text": [
      "\n",
      "\n"
     ]
    },
    {
     "name": "stderr",
     "output_type": "stream",
     "text": [
      "\u001b[32m2023-10-22 12:47:23.082\u001b[0m | \u001b[1mINFO    \u001b[0m | \u001b[36m__main__\u001b[0m:\u001b[36mrun_pipeline_self\u001b[0m:\u001b[36m79\u001b[0m - \u001b[1m%160 - Running pipeline for row_seed: 3202 and size_of_unlabelled_data: 0.6 and model: DecisionTreeClassifier(max_depth=7)\u001b[0m\n",
      "\u001b[32m2023-10-22 12:47:23.113\u001b[0m | \u001b[1mINFO    \u001b[0m | \u001b[36m__main__\u001b[0m:\u001b[36mrun_pipeline_self\u001b[0m:\u001b[36m75\u001b[0m - \u001b[1mModel: DecisionTreeClassifier(max_depth=7)\u001b[0m\n",
      "\u001b[32m2023-10-22 12:47:23.114\u001b[0m | \u001b[1mINFO    \u001b[0m | \u001b[36m__main__\u001b[0m:\u001b[36mrun_pipeline_self\u001b[0m:\u001b[36m76\u001b[0m - \u001b[1mSize of unlabelled data: 0.7\u001b[0m\n",
      "\u001b[32m2023-10-22 12:47:23.114\u001b[0m | \u001b[1mINFO    \u001b[0m | \u001b[36m__main__\u001b[0m:\u001b[36mrun_pipeline_self\u001b[0m:\u001b[36m79\u001b[0m - \u001b[1m%161 - Running pipeline for row_seed: 24 and size_of_unlabelled_data: 0.7 and model: DecisionTreeClassifier(max_depth=7)\u001b[0m\n",
      "\u001b[32m2023-10-22 12:47:23.139\u001b[0m | \u001b[1mINFO    \u001b[0m | \u001b[36m__main__\u001b[0m:\u001b[36mrun_pipeline_self\u001b[0m:\u001b[36m79\u001b[0m - \u001b[1m%162 - Running pipeline for row_seed: 42 and size_of_unlabelled_data: 0.7 and model: DecisionTreeClassifier(max_depth=7)\u001b[0m\n",
      "\u001b[32m2023-10-22 12:47:23.163\u001b[0m | \u001b[1mINFO    \u001b[0m | \u001b[36m__main__\u001b[0m:\u001b[36mrun_pipeline_self\u001b[0m:\u001b[36m79\u001b[0m - \u001b[1m%163 - Running pipeline for row_seed: 206 and size_of_unlabelled_data: 0.7 and model: DecisionTreeClassifier(max_depth=7)\u001b[0m\n",
      "\u001b[32m2023-10-22 12:47:23.188\u001b[0m | \u001b[1mINFO    \u001b[0m | \u001b[36m__main__\u001b[0m:\u001b[36mrun_pipeline_self\u001b[0m:\u001b[36m79\u001b[0m - \u001b[1m%164 - Running pipeline for row_seed: 602 and size_of_unlabelled_data: 0.7 and model: DecisionTreeClassifier(max_depth=7)\u001b[0m\n",
      "\u001b[32m2023-10-22 12:47:23.211\u001b[0m | \u001b[1mINFO    \u001b[0m | \u001b[36m__main__\u001b[0m:\u001b[36mrun_pipeline_self\u001b[0m:\u001b[36m79\u001b[0m - \u001b[1m%165 - Running pipeline for row_seed: 412 and size_of_unlabelled_data: 0.7 and model: DecisionTreeClassifier(max_depth=7)\u001b[0m\n",
      "\u001b[32m2023-10-22 12:47:23.237\u001b[0m | \u001b[1mINFO    \u001b[0m | \u001b[36m__main__\u001b[0m:\u001b[36mrun_pipeline_self\u001b[0m:\u001b[36m79\u001b[0m - \u001b[1m%166 - Running pipeline for row_seed: 214 and size_of_unlabelled_data: 0.7 and model: DecisionTreeClassifier(max_depth=7)\u001b[0m\n",
      "\u001b[32m2023-10-22 12:47:23.260\u001b[0m | \u001b[1mINFO    \u001b[0m | \u001b[36m__main__\u001b[0m:\u001b[36mrun_pipeline_self\u001b[0m:\u001b[36m79\u001b[0m - \u001b[1m%167 - Running pipeline for row_seed: 754 and size_of_unlabelled_data: 0.7 and model: DecisionTreeClassifier(max_depth=7)\u001b[0m\n",
      "\u001b[32m2023-10-22 12:47:23.285\u001b[0m | \u001b[1mINFO    \u001b[0m | \u001b[36m__main__\u001b[0m:\u001b[36mrun_pipeline_self\u001b[0m:\u001b[36m79\u001b[0m - \u001b[1m%168 - Running pipeline for row_seed: 457 and size_of_unlabelled_data: 0.7 and model: DecisionTreeClassifier(max_depth=7)\u001b[0m\n",
      "\u001b[32m2023-10-22 12:47:23.310\u001b[0m | \u001b[1mINFO    \u001b[0m | \u001b[36m__main__\u001b[0m:\u001b[36mrun_pipeline_self\u001b[0m:\u001b[36m79\u001b[0m - \u001b[1m%169 - Running pipeline for row_seed: 2023 and size_of_unlabelled_data: 0.7 and model: DecisionTreeClassifier(max_depth=7)\u001b[0m\n"
     ]
    },
    {
     "name": "stdout",
     "output_type": "stream",
     "text": [
      "\n",
      "\n"
     ]
    },
    {
     "name": "stderr",
     "output_type": "stream",
     "text": [
      "\u001b[32m2023-10-22 12:47:23.335\u001b[0m | \u001b[1mINFO    \u001b[0m | \u001b[36m__main__\u001b[0m:\u001b[36mrun_pipeline_self\u001b[0m:\u001b[36m79\u001b[0m - \u001b[1m%170 - Running pipeline for row_seed: 3202 and size_of_unlabelled_data: 0.7 and model: DecisionTreeClassifier(max_depth=7)\u001b[0m\n",
      "\u001b[32m2023-10-22 12:47:23.371\u001b[0m | \u001b[1mINFO    \u001b[0m | \u001b[36m__main__\u001b[0m:\u001b[36mrun_pipeline_self\u001b[0m:\u001b[36m75\u001b[0m - \u001b[1mModel: DecisionTreeClassifier(max_depth=7)\u001b[0m\n",
      "\u001b[32m2023-10-22 12:47:23.371\u001b[0m | \u001b[1mINFO    \u001b[0m | \u001b[36m__main__\u001b[0m:\u001b[36mrun_pipeline_self\u001b[0m:\u001b[36m76\u001b[0m - \u001b[1mSize of unlabelled data: 0.8\u001b[0m\n",
      "\u001b[32m2023-10-22 12:47:23.372\u001b[0m | \u001b[1mINFO    \u001b[0m | \u001b[36m__main__\u001b[0m:\u001b[36mrun_pipeline_self\u001b[0m:\u001b[36m79\u001b[0m - \u001b[1m%171 - Running pipeline for row_seed: 24 and size_of_unlabelled_data: 0.8 and model: DecisionTreeClassifier(max_depth=7)\u001b[0m\n",
      "\u001b[32m2023-10-22 12:47:23.397\u001b[0m | \u001b[1mINFO    \u001b[0m | \u001b[36m__main__\u001b[0m:\u001b[36mrun_pipeline_self\u001b[0m:\u001b[36m79\u001b[0m - \u001b[1m%172 - Running pipeline for row_seed: 42 and size_of_unlabelled_data: 0.8 and model: DecisionTreeClassifier(max_depth=7)\u001b[0m\n",
      "\u001b[32m2023-10-22 12:47:23.420\u001b[0m | \u001b[1mINFO    \u001b[0m | \u001b[36m__main__\u001b[0m:\u001b[36mrun_pipeline_self\u001b[0m:\u001b[36m79\u001b[0m - \u001b[1m%173 - Running pipeline for row_seed: 206 and size_of_unlabelled_data: 0.8 and model: DecisionTreeClassifier(max_depth=7)\u001b[0m\n",
      "\u001b[32m2023-10-22 12:47:23.445\u001b[0m | \u001b[1mINFO    \u001b[0m | \u001b[36m__main__\u001b[0m:\u001b[36mrun_pipeline_self\u001b[0m:\u001b[36m79\u001b[0m - \u001b[1m%174 - Running pipeline for row_seed: 602 and size_of_unlabelled_data: 0.8 and model: DecisionTreeClassifier(max_depth=7)\u001b[0m\n",
      "\u001b[32m2023-10-22 12:47:23.469\u001b[0m | \u001b[1mINFO    \u001b[0m | \u001b[36m__main__\u001b[0m:\u001b[36mrun_pipeline_self\u001b[0m:\u001b[36m79\u001b[0m - \u001b[1m%175 - Running pipeline for row_seed: 412 and size_of_unlabelled_data: 0.8 and model: DecisionTreeClassifier(max_depth=7)\u001b[0m\n",
      "\u001b[32m2023-10-22 12:47:23.503\u001b[0m | \u001b[1mINFO    \u001b[0m | \u001b[36m__main__\u001b[0m:\u001b[36mrun_pipeline_self\u001b[0m:\u001b[36m79\u001b[0m - \u001b[1m%176 - Running pipeline for row_seed: 214 and size_of_unlabelled_data: 0.8 and model: DecisionTreeClassifier(max_depth=7)\u001b[0m\n",
      "\u001b[32m2023-10-22 12:47:23.525\u001b[0m | \u001b[1mINFO    \u001b[0m | \u001b[36m__main__\u001b[0m:\u001b[36mrun_pipeline_self\u001b[0m:\u001b[36m79\u001b[0m - \u001b[1m%177 - Running pipeline for row_seed: 754 and size_of_unlabelled_data: 0.8 and model: DecisionTreeClassifier(max_depth=7)\u001b[0m\n",
      "\u001b[32m2023-10-22 12:47:23.549\u001b[0m | \u001b[1mINFO    \u001b[0m | \u001b[36m__main__\u001b[0m:\u001b[36mrun_pipeline_self\u001b[0m:\u001b[36m79\u001b[0m - \u001b[1m%178 - Running pipeline for row_seed: 457 and size_of_unlabelled_data: 0.8 and model: DecisionTreeClassifier(max_depth=7)\u001b[0m\n",
      "\u001b[32m2023-10-22 12:47:23.572\u001b[0m | \u001b[1mINFO    \u001b[0m | \u001b[36m__main__\u001b[0m:\u001b[36mrun_pipeline_self\u001b[0m:\u001b[36m79\u001b[0m - \u001b[1m%179 - Running pipeline for row_seed: 2023 and size_of_unlabelled_data: 0.8 and model: DecisionTreeClassifier(max_depth=7)\u001b[0m\n"
     ]
    },
    {
     "name": "stdout",
     "output_type": "stream",
     "text": [
      "\n",
      "\n"
     ]
    },
    {
     "name": "stderr",
     "output_type": "stream",
     "text": [
      "\u001b[32m2023-10-22 12:47:23.597\u001b[0m | \u001b[1mINFO    \u001b[0m | \u001b[36m__main__\u001b[0m:\u001b[36mrun_pipeline_self\u001b[0m:\u001b[36m79\u001b[0m - \u001b[1m%180 - Running pipeline for row_seed: 3202 and size_of_unlabelled_data: 0.8 and model: DecisionTreeClassifier(max_depth=7)\u001b[0m\n",
      "\u001b[32m2023-10-22 12:47:23.625\u001b[0m | \u001b[1mINFO    \u001b[0m | \u001b[36m__main__\u001b[0m:\u001b[36mrun_pipeline_self\u001b[0m:\u001b[36m75\u001b[0m - \u001b[1mModel: DecisionTreeClassifier(max_depth=7)\u001b[0m\n",
      "\u001b[32m2023-10-22 12:47:23.626\u001b[0m | \u001b[1mINFO    \u001b[0m | \u001b[36m__main__\u001b[0m:\u001b[36mrun_pipeline_self\u001b[0m:\u001b[36m76\u001b[0m - \u001b[1mSize of unlabelled data: 0.85\u001b[0m\n",
      "\u001b[32m2023-10-22 12:47:23.626\u001b[0m | \u001b[1mINFO    \u001b[0m | \u001b[36m__main__\u001b[0m:\u001b[36mrun_pipeline_self\u001b[0m:\u001b[36m79\u001b[0m - \u001b[1m%181 - Running pipeline for row_seed: 24 and size_of_unlabelled_data: 0.85 and model: DecisionTreeClassifier(max_depth=7)\u001b[0m\n",
      "\u001b[32m2023-10-22 12:47:23.650\u001b[0m | \u001b[1mINFO    \u001b[0m | \u001b[36m__main__\u001b[0m:\u001b[36mrun_pipeline_self\u001b[0m:\u001b[36m79\u001b[0m - \u001b[1m%182 - Running pipeline for row_seed: 42 and size_of_unlabelled_data: 0.85 and model: DecisionTreeClassifier(max_depth=7)\u001b[0m\n",
      "\u001b[32m2023-10-22 12:47:23.674\u001b[0m | \u001b[1mINFO    \u001b[0m | \u001b[36m__main__\u001b[0m:\u001b[36mrun_pipeline_self\u001b[0m:\u001b[36m79\u001b[0m - \u001b[1m%183 - Running pipeline for row_seed: 206 and size_of_unlabelled_data: 0.85 and model: DecisionTreeClassifier(max_depth=7)\u001b[0m\n",
      "\u001b[32m2023-10-22 12:47:23.697\u001b[0m | \u001b[1mINFO    \u001b[0m | \u001b[36m__main__\u001b[0m:\u001b[36mrun_pipeline_self\u001b[0m:\u001b[36m79\u001b[0m - \u001b[1m%184 - Running pipeline for row_seed: 602 and size_of_unlabelled_data: 0.85 and model: DecisionTreeClassifier(max_depth=7)\u001b[0m\n",
      "\u001b[32m2023-10-22 12:47:23.720\u001b[0m | \u001b[1mINFO    \u001b[0m | \u001b[36m__main__\u001b[0m:\u001b[36mrun_pipeline_self\u001b[0m:\u001b[36m79\u001b[0m - \u001b[1m%185 - Running pipeline for row_seed: 412 and size_of_unlabelled_data: 0.85 and model: DecisionTreeClassifier(max_depth=7)\u001b[0m\n",
      "\u001b[32m2023-10-22 12:47:23.746\u001b[0m | \u001b[1mINFO    \u001b[0m | \u001b[36m__main__\u001b[0m:\u001b[36mrun_pipeline_self\u001b[0m:\u001b[36m79\u001b[0m - \u001b[1m%186 - Running pipeline for row_seed: 214 and size_of_unlabelled_data: 0.85 and model: DecisionTreeClassifier(max_depth=7)\u001b[0m\n",
      "\u001b[32m2023-10-22 12:47:23.770\u001b[0m | \u001b[1mINFO    \u001b[0m | \u001b[36m__main__\u001b[0m:\u001b[36mrun_pipeline_self\u001b[0m:\u001b[36m79\u001b[0m - \u001b[1m%187 - Running pipeline for row_seed: 754 and size_of_unlabelled_data: 0.85 and model: DecisionTreeClassifier(max_depth=7)\u001b[0m\n",
      "\u001b[32m2023-10-22 12:47:23.794\u001b[0m | \u001b[1mINFO    \u001b[0m | \u001b[36m__main__\u001b[0m:\u001b[36mrun_pipeline_self\u001b[0m:\u001b[36m79\u001b[0m - \u001b[1m%188 - Running pipeline for row_seed: 457 and size_of_unlabelled_data: 0.85 and model: DecisionTreeClassifier(max_depth=7)\u001b[0m\n",
      "\u001b[32m2023-10-22 12:47:23.817\u001b[0m | \u001b[1mINFO    \u001b[0m | \u001b[36m__main__\u001b[0m:\u001b[36mrun_pipeline_self\u001b[0m:\u001b[36m79\u001b[0m - \u001b[1m%189 - Running pipeline for row_seed: 2023 and size_of_unlabelled_data: 0.85 and model: DecisionTreeClassifier(max_depth=7)\u001b[0m\n"
     ]
    },
    {
     "name": "stdout",
     "output_type": "stream",
     "text": [
      "\n",
      "\n"
     ]
    },
    {
     "name": "stderr",
     "output_type": "stream",
     "text": [
      "\u001b[32m2023-10-22 12:47:23.840\u001b[0m | \u001b[1mINFO    \u001b[0m | \u001b[36m__main__\u001b[0m:\u001b[36mrun_pipeline_self\u001b[0m:\u001b[36m79\u001b[0m - \u001b[1m%190 - Running pipeline for row_seed: 3202 and size_of_unlabelled_data: 0.85 and model: DecisionTreeClassifier(max_depth=7)\u001b[0m\n",
      "\u001b[32m2023-10-22 12:47:23.868\u001b[0m | \u001b[1mINFO    \u001b[0m | \u001b[36m__main__\u001b[0m:\u001b[36mrun_pipeline_self\u001b[0m:\u001b[36m75\u001b[0m - \u001b[1mModel: DecisionTreeClassifier(max_depth=7)\u001b[0m\n",
      "\u001b[32m2023-10-22 12:47:23.869\u001b[0m | \u001b[1mINFO    \u001b[0m | \u001b[36m__main__\u001b[0m:\u001b[36mrun_pipeline_self\u001b[0m:\u001b[36m76\u001b[0m - \u001b[1mSize of unlabelled data: 0.9\u001b[0m\n",
      "\u001b[32m2023-10-22 12:47:23.869\u001b[0m | \u001b[1mINFO    \u001b[0m | \u001b[36m__main__\u001b[0m:\u001b[36mrun_pipeline_self\u001b[0m:\u001b[36m79\u001b[0m - \u001b[1m%191 - Running pipeline for row_seed: 24 and size_of_unlabelled_data: 0.9 and model: DecisionTreeClassifier(max_depth=7)\u001b[0m\n",
      "\u001b[32m2023-10-22 12:47:23.891\u001b[0m | \u001b[1mINFO    \u001b[0m | \u001b[36m__main__\u001b[0m:\u001b[36mrun_pipeline_self\u001b[0m:\u001b[36m79\u001b[0m - \u001b[1m%192 - Running pipeline for row_seed: 42 and size_of_unlabelled_data: 0.9 and model: DecisionTreeClassifier(max_depth=7)\u001b[0m\n",
      "\u001b[32m2023-10-22 12:47:23.916\u001b[0m | \u001b[1mINFO    \u001b[0m | \u001b[36m__main__\u001b[0m:\u001b[36mrun_pipeline_self\u001b[0m:\u001b[36m79\u001b[0m - \u001b[1m%193 - Running pipeline for row_seed: 206 and size_of_unlabelled_data: 0.9 and model: DecisionTreeClassifier(max_depth=7)\u001b[0m\n",
      "\u001b[32m2023-10-22 12:47:23.939\u001b[0m | \u001b[1mINFO    \u001b[0m | \u001b[36m__main__\u001b[0m:\u001b[36mrun_pipeline_self\u001b[0m:\u001b[36m79\u001b[0m - \u001b[1m%194 - Running pipeline for row_seed: 602 and size_of_unlabelled_data: 0.9 and model: DecisionTreeClassifier(max_depth=7)\u001b[0m\n",
      "\u001b[32m2023-10-22 12:47:23.962\u001b[0m | \u001b[1mINFO    \u001b[0m | \u001b[36m__main__\u001b[0m:\u001b[36mrun_pipeline_self\u001b[0m:\u001b[36m79\u001b[0m - \u001b[1m%195 - Running pipeline for row_seed: 412 and size_of_unlabelled_data: 0.9 and model: DecisionTreeClassifier(max_depth=7)\u001b[0m\n",
      "\u001b[32m2023-10-22 12:47:23.985\u001b[0m | \u001b[1mINFO    \u001b[0m | \u001b[36m__main__\u001b[0m:\u001b[36mrun_pipeline_self\u001b[0m:\u001b[36m79\u001b[0m - \u001b[1m%196 - Running pipeline for row_seed: 214 and size_of_unlabelled_data: 0.9 and model: DecisionTreeClassifier(max_depth=7)\u001b[0m\n",
      "\u001b[32m2023-10-22 12:47:24.008\u001b[0m | \u001b[1mINFO    \u001b[0m | \u001b[36m__main__\u001b[0m:\u001b[36mrun_pipeline_self\u001b[0m:\u001b[36m79\u001b[0m - \u001b[1m%197 - Running pipeline for row_seed: 754 and size_of_unlabelled_data: 0.9 and model: DecisionTreeClassifier(max_depth=7)\u001b[0m\n",
      "\u001b[32m2023-10-22 12:47:24.030\u001b[0m | \u001b[1mINFO    \u001b[0m | \u001b[36m__main__\u001b[0m:\u001b[36mrun_pipeline_self\u001b[0m:\u001b[36m79\u001b[0m - \u001b[1m%198 - Running pipeline for row_seed: 457 and size_of_unlabelled_data: 0.9 and model: DecisionTreeClassifier(max_depth=7)\u001b[0m\n",
      "\u001b[32m2023-10-22 12:47:24.053\u001b[0m | \u001b[1mINFO    \u001b[0m | \u001b[36m__main__\u001b[0m:\u001b[36mrun_pipeline_self\u001b[0m:\u001b[36m79\u001b[0m - \u001b[1m%199 - Running pipeline for row_seed: 2023 and size_of_unlabelled_data: 0.9 and model: DecisionTreeClassifier(max_depth=7)\u001b[0m\n"
     ]
    },
    {
     "name": "stdout",
     "output_type": "stream",
     "text": [
      "\n",
      "\n"
     ]
    },
    {
     "name": "stderr",
     "output_type": "stream",
     "text": [
      "\u001b[32m2023-10-22 12:47:24.074\u001b[0m | \u001b[1mINFO    \u001b[0m | \u001b[36m__main__\u001b[0m:\u001b[36mrun_pipeline_self\u001b[0m:\u001b[36m79\u001b[0m - \u001b[1m%200 - Running pipeline for row_seed: 3202 and size_of_unlabelled_data: 0.9 and model: DecisionTreeClassifier(max_depth=7)\u001b[0m\n",
      "\u001b[32m2023-10-22 12:47:24.102\u001b[0m | \u001b[1mINFO    \u001b[0m | \u001b[36m__main__\u001b[0m:\u001b[36mrun_pipeline_self\u001b[0m:\u001b[36m75\u001b[0m - \u001b[1mModel: KNeighborsClassifier(metric='euclidean', n_neighbors=3)\u001b[0m\n",
      "\u001b[32m2023-10-22 12:47:24.103\u001b[0m | \u001b[1mINFO    \u001b[0m | \u001b[36m__main__\u001b[0m:\u001b[36mrun_pipeline_self\u001b[0m:\u001b[36m76\u001b[0m - \u001b[1mSize of unlabelled data: 0.1\u001b[0m\n",
      "\u001b[32m2023-10-22 12:47:24.103\u001b[0m | \u001b[1mINFO    \u001b[0m | \u001b[36m__main__\u001b[0m:\u001b[36mrun_pipeline_self\u001b[0m:\u001b[36m79\u001b[0m - \u001b[1m%201 - Running pipeline for row_seed: 24 and size_of_unlabelled_data: 0.1 and model: KNeighborsClassifier(metric='euclidean', n_neighbors=3)\u001b[0m\n",
      "\u001b[32m2023-10-22 12:47:24.187\u001b[0m | \u001b[1mINFO    \u001b[0m | \u001b[36m__main__\u001b[0m:\u001b[36mrun_pipeline_self\u001b[0m:\u001b[36m79\u001b[0m - \u001b[1m%202 - Running pipeline for row_seed: 42 and size_of_unlabelled_data: 0.1 and model: KNeighborsClassifier(metric='euclidean', n_neighbors=3)\u001b[0m\n",
      "\u001b[32m2023-10-22 12:47:24.251\u001b[0m | \u001b[1mINFO    \u001b[0m | \u001b[36m__main__\u001b[0m:\u001b[36mrun_pipeline_self\u001b[0m:\u001b[36m79\u001b[0m - \u001b[1m%203 - Running pipeline for row_seed: 206 and size_of_unlabelled_data: 0.1 and model: KNeighborsClassifier(metric='euclidean', n_neighbors=3)\u001b[0m\n"
     ]
    },
    {
     "name": "stdout",
     "output_type": "stream",
     "text": [
      "\n",
      "\n"
     ]
    },
    {
     "name": "stderr",
     "output_type": "stream",
     "text": [
      "\u001b[32m2023-10-22 12:47:24.330\u001b[0m | \u001b[1mINFO    \u001b[0m | \u001b[36m__main__\u001b[0m:\u001b[36mrun_pipeline_self\u001b[0m:\u001b[36m79\u001b[0m - \u001b[1m%204 - Running pipeline for row_seed: 602 and size_of_unlabelled_data: 0.1 and model: KNeighborsClassifier(metric='euclidean', n_neighbors=3)\u001b[0m\n",
      "\u001b[32m2023-10-22 12:47:24.403\u001b[0m | \u001b[1mINFO    \u001b[0m | \u001b[36m__main__\u001b[0m:\u001b[36mrun_pipeline_self\u001b[0m:\u001b[36m79\u001b[0m - \u001b[1m%205 - Running pipeline for row_seed: 412 and size_of_unlabelled_data: 0.1 and model: KNeighborsClassifier(metric='euclidean', n_neighbors=3)\u001b[0m\n",
      "\u001b[32m2023-10-22 12:47:24.468\u001b[0m | \u001b[1mINFO    \u001b[0m | \u001b[36m__main__\u001b[0m:\u001b[36mrun_pipeline_self\u001b[0m:\u001b[36m79\u001b[0m - \u001b[1m%206 - Running pipeline for row_seed: 214 and size_of_unlabelled_data: 0.1 and model: KNeighborsClassifier(metric='euclidean', n_neighbors=3)\u001b[0m\n",
      "\u001b[32m2023-10-22 12:47:24.529\u001b[0m | \u001b[1mINFO    \u001b[0m | \u001b[36m__main__\u001b[0m:\u001b[36mrun_pipeline_self\u001b[0m:\u001b[36m79\u001b[0m - \u001b[1m%207 - Running pipeline for row_seed: 754 and size_of_unlabelled_data: 0.1 and model: KNeighborsClassifier(metric='euclidean', n_neighbors=3)\u001b[0m\n",
      "\u001b[32m2023-10-22 12:47:24.587\u001b[0m | \u001b[1mINFO    \u001b[0m | \u001b[36m__main__\u001b[0m:\u001b[36mrun_pipeline_self\u001b[0m:\u001b[36m79\u001b[0m - \u001b[1m%208 - Running pipeline for row_seed: 457 and size_of_unlabelled_data: 0.1 and model: KNeighborsClassifier(metric='euclidean', n_neighbors=3)\u001b[0m\n",
      "\u001b[32m2023-10-22 12:47:24.647\u001b[0m | \u001b[1mINFO    \u001b[0m | \u001b[36m__main__\u001b[0m:\u001b[36mrun_pipeline_self\u001b[0m:\u001b[36m79\u001b[0m - \u001b[1m%209 - Running pipeline for row_seed: 2023 and size_of_unlabelled_data: 0.1 and model: KNeighborsClassifier(metric='euclidean', n_neighbors=3)\u001b[0m\n",
      "\u001b[32m2023-10-22 12:47:24.708\u001b[0m | \u001b[1mINFO    \u001b[0m | \u001b[36m__main__\u001b[0m:\u001b[36mrun_pipeline_self\u001b[0m:\u001b[36m79\u001b[0m - \u001b[1m%210 - Running pipeline for row_seed: 3202 and size_of_unlabelled_data: 0.1 and model: KNeighborsClassifier(metric='euclidean', n_neighbors=3)\u001b[0m\n",
      "\u001b[32m2023-10-22 12:47:24.774\u001b[0m | \u001b[1mINFO    \u001b[0m | \u001b[36m__main__\u001b[0m:\u001b[36mrun_pipeline_self\u001b[0m:\u001b[36m75\u001b[0m - \u001b[1mModel: KNeighborsClassifier(metric='euclidean', n_neighbors=3)\u001b[0m\n",
      "\u001b[32m2023-10-22 12:47:24.774\u001b[0m | \u001b[1mINFO    \u001b[0m | \u001b[36m__main__\u001b[0m:\u001b[36mrun_pipeline_self\u001b[0m:\u001b[36m76\u001b[0m - \u001b[1mSize of unlabelled data: 0.2\u001b[0m\n",
      "\u001b[32m2023-10-22 12:47:24.775\u001b[0m | \u001b[1mINFO    \u001b[0m | \u001b[36m__main__\u001b[0m:\u001b[36mrun_pipeline_self\u001b[0m:\u001b[36m79\u001b[0m - \u001b[1m%211 - Running pipeline for row_seed: 24 and size_of_unlabelled_data: 0.2 and model: KNeighborsClassifier(metric='euclidean', n_neighbors=3)\u001b[0m\n",
      "\u001b[32m2023-10-22 12:47:24.872\u001b[0m | \u001b[1mINFO    \u001b[0m | \u001b[36m__main__\u001b[0m:\u001b[36mrun_pipeline_self\u001b[0m:\u001b[36m79\u001b[0m - \u001b[1m%212 - Running pipeline for row_seed: 42 and size_of_unlabelled_data: 0.2 and model: KNeighborsClassifier(metric='euclidean', n_neighbors=3)\u001b[0m\n",
      "\u001b[32m2023-10-22 12:47:24.951\u001b[0m | \u001b[1mINFO    \u001b[0m | \u001b[36m__main__\u001b[0m:\u001b[36mrun_pipeline_self\u001b[0m:\u001b[36m79\u001b[0m - \u001b[1m%213 - Running pipeline for row_seed: 206 and size_of_unlabelled_data: 0.2 and model: KNeighborsClassifier(metric='euclidean', n_neighbors=3)\u001b[0m\n"
     ]
    },
    {
     "name": "stdout",
     "output_type": "stream",
     "text": [
      "\n",
      "\n"
     ]
    },
    {
     "name": "stderr",
     "output_type": "stream",
     "text": [
      "\u001b[32m2023-10-22 12:47:25.053\u001b[0m | \u001b[1mINFO    \u001b[0m | \u001b[36m__main__\u001b[0m:\u001b[36mrun_pipeline_self\u001b[0m:\u001b[36m79\u001b[0m - \u001b[1m%214 - Running pipeline for row_seed: 602 and size_of_unlabelled_data: 0.2 and model: KNeighborsClassifier(metric='euclidean', n_neighbors=3)\u001b[0m\n",
      "\u001b[32m2023-10-22 12:47:25.136\u001b[0m | \u001b[1mINFO    \u001b[0m | \u001b[36m__main__\u001b[0m:\u001b[36mrun_pipeline_self\u001b[0m:\u001b[36m79\u001b[0m - \u001b[1m%215 - Running pipeline for row_seed: 412 and size_of_unlabelled_data: 0.2 and model: KNeighborsClassifier(metric='euclidean', n_neighbors=3)\u001b[0m\n",
      "\u001b[32m2023-10-22 12:47:25.235\u001b[0m | \u001b[1mINFO    \u001b[0m | \u001b[36m__main__\u001b[0m:\u001b[36mrun_pipeline_self\u001b[0m:\u001b[36m79\u001b[0m - \u001b[1m%216 - Running pipeline for row_seed: 214 and size_of_unlabelled_data: 0.2 and model: KNeighborsClassifier(metric='euclidean', n_neighbors=3)\u001b[0m\n",
      "\u001b[32m2023-10-22 12:47:25.332\u001b[0m | \u001b[1mINFO    \u001b[0m | \u001b[36m__main__\u001b[0m:\u001b[36mrun_pipeline_self\u001b[0m:\u001b[36m79\u001b[0m - \u001b[1m%217 - Running pipeline for row_seed: 754 and size_of_unlabelled_data: 0.2 and model: KNeighborsClassifier(metric='euclidean', n_neighbors=3)\u001b[0m\n",
      "\u001b[32m2023-10-22 12:47:25.429\u001b[0m | \u001b[1mINFO    \u001b[0m | \u001b[36m__main__\u001b[0m:\u001b[36mrun_pipeline_self\u001b[0m:\u001b[36m79\u001b[0m - \u001b[1m%218 - Running pipeline for row_seed: 457 and size_of_unlabelled_data: 0.2 and model: KNeighborsClassifier(metric='euclidean', n_neighbors=3)\u001b[0m\n",
      "\u001b[32m2023-10-22 12:47:25.516\u001b[0m | \u001b[1mINFO    \u001b[0m | \u001b[36m__main__\u001b[0m:\u001b[36mrun_pipeline_self\u001b[0m:\u001b[36m79\u001b[0m - \u001b[1m%219 - Running pipeline for row_seed: 2023 and size_of_unlabelled_data: 0.2 and model: KNeighborsClassifier(metric='euclidean', n_neighbors=3)\u001b[0m\n",
      "\u001b[32m2023-10-22 12:47:25.587\u001b[0m | \u001b[1mINFO    \u001b[0m | \u001b[36m__main__\u001b[0m:\u001b[36mrun_pipeline_self\u001b[0m:\u001b[36m79\u001b[0m - \u001b[1m%220 - Running pipeline for row_seed: 3202 and size_of_unlabelled_data: 0.2 and model: KNeighborsClassifier(metric='euclidean', n_neighbors=3)\u001b[0m\n",
      "\u001b[32m2023-10-22 12:47:25.657\u001b[0m | \u001b[1mINFO    \u001b[0m | \u001b[36m__main__\u001b[0m:\u001b[36mrun_pipeline_self\u001b[0m:\u001b[36m75\u001b[0m - \u001b[1mModel: KNeighborsClassifier(metric='euclidean', n_neighbors=3)\u001b[0m\n",
      "\u001b[32m2023-10-22 12:47:25.658\u001b[0m | \u001b[1mINFO    \u001b[0m | \u001b[36m__main__\u001b[0m:\u001b[36mrun_pipeline_self\u001b[0m:\u001b[36m76\u001b[0m - \u001b[1mSize of unlabelled data: 0.3\u001b[0m\n",
      "\u001b[32m2023-10-22 12:47:25.658\u001b[0m | \u001b[1mINFO    \u001b[0m | \u001b[36m__main__\u001b[0m:\u001b[36mrun_pipeline_self\u001b[0m:\u001b[36m79\u001b[0m - \u001b[1m%221 - Running pipeline for row_seed: 24 and size_of_unlabelled_data: 0.3 and model: KNeighborsClassifier(metric='euclidean', n_neighbors=3)\u001b[0m\n",
      "\u001b[32m2023-10-22 12:47:25.750\u001b[0m | \u001b[1mINFO    \u001b[0m | \u001b[36m__main__\u001b[0m:\u001b[36mrun_pipeline_self\u001b[0m:\u001b[36m79\u001b[0m - \u001b[1m%222 - Running pipeline for row_seed: 42 and size_of_unlabelled_data: 0.3 and model: KNeighborsClassifier(metric='euclidean', n_neighbors=3)\u001b[0m\n"
     ]
    },
    {
     "name": "stdout",
     "output_type": "stream",
     "text": [
      "\n",
      "\n"
     ]
    },
    {
     "name": "stderr",
     "output_type": "stream",
     "text": [
      "\u001b[32m2023-10-22 12:47:25.867\u001b[0m | \u001b[1mINFO    \u001b[0m | \u001b[36m__main__\u001b[0m:\u001b[36mrun_pipeline_self\u001b[0m:\u001b[36m79\u001b[0m - \u001b[1m%223 - Running pipeline for row_seed: 206 and size_of_unlabelled_data: 0.3 and model: KNeighborsClassifier(metric='euclidean', n_neighbors=3)\u001b[0m\n",
      "\u001b[32m2023-10-22 12:47:25.954\u001b[0m | \u001b[1mINFO    \u001b[0m | \u001b[36m__main__\u001b[0m:\u001b[36mrun_pipeline_self\u001b[0m:\u001b[36m79\u001b[0m - \u001b[1m%224 - Running pipeline for row_seed: 602 and size_of_unlabelled_data: 0.3 and model: KNeighborsClassifier(metric='euclidean', n_neighbors=3)\u001b[0m\n",
      "\u001b[32m2023-10-22 12:47:26.025\u001b[0m | \u001b[1mINFO    \u001b[0m | \u001b[36m__main__\u001b[0m:\u001b[36mrun_pipeline_self\u001b[0m:\u001b[36m79\u001b[0m - \u001b[1m%225 - Running pipeline for row_seed: 412 and size_of_unlabelled_data: 0.3 and model: KNeighborsClassifier(metric='euclidean', n_neighbors=3)\u001b[0m\n",
      "\u001b[32m2023-10-22 12:47:26.098\u001b[0m | \u001b[1mINFO    \u001b[0m | \u001b[36m__main__\u001b[0m:\u001b[36mrun_pipeline_self\u001b[0m:\u001b[36m79\u001b[0m - \u001b[1m%226 - Running pipeline for row_seed: 214 and size_of_unlabelled_data: 0.3 and model: KNeighborsClassifier(metric='euclidean', n_neighbors=3)\u001b[0m\n",
      "\u001b[32m2023-10-22 12:47:26.169\u001b[0m | \u001b[1mINFO    \u001b[0m | \u001b[36m__main__\u001b[0m:\u001b[36mrun_pipeline_self\u001b[0m:\u001b[36m79\u001b[0m - \u001b[1m%227 - Running pipeline for row_seed: 754 and size_of_unlabelled_data: 0.3 and model: KNeighborsClassifier(metric='euclidean', n_neighbors=3)\u001b[0m\n",
      "\u001b[32m2023-10-22 12:47:26.249\u001b[0m | \u001b[1mINFO    \u001b[0m | \u001b[36m__main__\u001b[0m:\u001b[36mrun_pipeline_self\u001b[0m:\u001b[36m79\u001b[0m - \u001b[1m%228 - Running pipeline for row_seed: 457 and size_of_unlabelled_data: 0.3 and model: KNeighborsClassifier(metric='euclidean', n_neighbors=3)\u001b[0m\n",
      "\u001b[32m2023-10-22 12:47:26.325\u001b[0m | \u001b[1mINFO    \u001b[0m | \u001b[36m__main__\u001b[0m:\u001b[36mrun_pipeline_self\u001b[0m:\u001b[36m79\u001b[0m - \u001b[1m%229 - Running pipeline for row_seed: 2023 and size_of_unlabelled_data: 0.3 and model: KNeighborsClassifier(metric='euclidean', n_neighbors=3)\u001b[0m\n",
      "\u001b[32m2023-10-22 12:47:26.401\u001b[0m | \u001b[1mINFO    \u001b[0m | \u001b[36m__main__\u001b[0m:\u001b[36mrun_pipeline_self\u001b[0m:\u001b[36m79\u001b[0m - \u001b[1m%230 - Running pipeline for row_seed: 3202 and size_of_unlabelled_data: 0.3 and model: KNeighborsClassifier(metric='euclidean', n_neighbors=3)\u001b[0m\n",
      "\u001b[32m2023-10-22 12:47:26.488\u001b[0m | \u001b[1mINFO    \u001b[0m | \u001b[36m__main__\u001b[0m:\u001b[36mrun_pipeline_self\u001b[0m:\u001b[36m75\u001b[0m - \u001b[1mModel: KNeighborsClassifier(metric='euclidean', n_neighbors=3)\u001b[0m\n",
      "\u001b[32m2023-10-22 12:47:26.488\u001b[0m | \u001b[1mINFO    \u001b[0m | \u001b[36m__main__\u001b[0m:\u001b[36mrun_pipeline_self\u001b[0m:\u001b[36m76\u001b[0m - \u001b[1mSize of unlabelled data: 0.4\u001b[0m\n",
      "\u001b[32m2023-10-22 12:47:26.489\u001b[0m | \u001b[1mINFO    \u001b[0m | \u001b[36m__main__\u001b[0m:\u001b[36mrun_pipeline_self\u001b[0m:\u001b[36m79\u001b[0m - \u001b[1m%231 - Running pipeline for row_seed: 24 and size_of_unlabelled_data: 0.4 and model: KNeighborsClassifier(metric='euclidean', n_neighbors=3)\u001b[0m\n",
      "\u001b[32m2023-10-22 12:47:26.573\u001b[0m | \u001b[1mINFO    \u001b[0m | \u001b[36m__main__\u001b[0m:\u001b[36mrun_pipeline_self\u001b[0m:\u001b[36m79\u001b[0m - \u001b[1m%232 - Running pipeline for row_seed: 42 and size_of_unlabelled_data: 0.4 and model: KNeighborsClassifier(metric='euclidean', n_neighbors=3)\u001b[0m\n",
      "\u001b[32m2023-10-22 12:47:26.651\u001b[0m | \u001b[1mINFO    \u001b[0m | \u001b[36m__main__\u001b[0m:\u001b[36mrun_pipeline_self\u001b[0m:\u001b[36m79\u001b[0m - \u001b[1m%233 - Running pipeline for row_seed: 206 and size_of_unlabelled_data: 0.4 and model: KNeighborsClassifier(metric='euclidean', n_neighbors=3)\u001b[0m\n"
     ]
    },
    {
     "name": "stdout",
     "output_type": "stream",
     "text": [
      "\n",
      "\n"
     ]
    },
    {
     "name": "stderr",
     "output_type": "stream",
     "text": [
      "\u001b[32m2023-10-22 12:47:26.734\u001b[0m | \u001b[1mINFO    \u001b[0m | \u001b[36m__main__\u001b[0m:\u001b[36mrun_pipeline_self\u001b[0m:\u001b[36m79\u001b[0m - \u001b[1m%234 - Running pipeline for row_seed: 602 and size_of_unlabelled_data: 0.4 and model: KNeighborsClassifier(metric='euclidean', n_neighbors=3)\u001b[0m\n",
      "\u001b[32m2023-10-22 12:47:26.832\u001b[0m | \u001b[1mINFO    \u001b[0m | \u001b[36m__main__\u001b[0m:\u001b[36mrun_pipeline_self\u001b[0m:\u001b[36m79\u001b[0m - \u001b[1m%235 - Running pipeline for row_seed: 412 and size_of_unlabelled_data: 0.4 and model: KNeighborsClassifier(metric='euclidean', n_neighbors=3)\u001b[0m\n",
      "\u001b[32m2023-10-22 12:47:26.903\u001b[0m | \u001b[1mINFO    \u001b[0m | \u001b[36m__main__\u001b[0m:\u001b[36mrun_pipeline_self\u001b[0m:\u001b[36m79\u001b[0m - \u001b[1m%236 - Running pipeline for row_seed: 214 and size_of_unlabelled_data: 0.4 and model: KNeighborsClassifier(metric='euclidean', n_neighbors=3)\u001b[0m\n",
      "\u001b[32m2023-10-22 12:47:26.984\u001b[0m | \u001b[1mINFO    \u001b[0m | \u001b[36m__main__\u001b[0m:\u001b[36mrun_pipeline_self\u001b[0m:\u001b[36m79\u001b[0m - \u001b[1m%237 - Running pipeline for row_seed: 754 and size_of_unlabelled_data: 0.4 and model: KNeighborsClassifier(metric='euclidean', n_neighbors=3)\u001b[0m\n",
      "\u001b[32m2023-10-22 12:47:27.080\u001b[0m | \u001b[1mINFO    \u001b[0m | \u001b[36m__main__\u001b[0m:\u001b[36mrun_pipeline_self\u001b[0m:\u001b[36m79\u001b[0m - \u001b[1m%238 - Running pipeline for row_seed: 457 and size_of_unlabelled_data: 0.4 and model: KNeighborsClassifier(metric='euclidean', n_neighbors=3)\u001b[0m\n",
      "\u001b[32m2023-10-22 12:47:27.165\u001b[0m | \u001b[1mINFO    \u001b[0m | \u001b[36m__main__\u001b[0m:\u001b[36mrun_pipeline_self\u001b[0m:\u001b[36m79\u001b[0m - \u001b[1m%239 - Running pipeline for row_seed: 2023 and size_of_unlabelled_data: 0.4 and model: KNeighborsClassifier(metric='euclidean', n_neighbors=3)\u001b[0m\n",
      "\u001b[32m2023-10-22 12:47:27.257\u001b[0m | \u001b[1mINFO    \u001b[0m | \u001b[36m__main__\u001b[0m:\u001b[36mrun_pipeline_self\u001b[0m:\u001b[36m79\u001b[0m - \u001b[1m%240 - Running pipeline for row_seed: 3202 and size_of_unlabelled_data: 0.4 and model: KNeighborsClassifier(metric='euclidean', n_neighbors=3)\u001b[0m\n",
      "\u001b[32m2023-10-22 12:47:27.371\u001b[0m | \u001b[1mINFO    \u001b[0m | \u001b[36m__main__\u001b[0m:\u001b[36mrun_pipeline_self\u001b[0m:\u001b[36m75\u001b[0m - \u001b[1mModel: KNeighborsClassifier(metric='euclidean', n_neighbors=3)\u001b[0m\n",
      "\u001b[32m2023-10-22 12:47:27.371\u001b[0m | \u001b[1mINFO    \u001b[0m | \u001b[36m__main__\u001b[0m:\u001b[36mrun_pipeline_self\u001b[0m:\u001b[36m76\u001b[0m - \u001b[1mSize of unlabelled data: 0.5\u001b[0m\n",
      "\u001b[32m2023-10-22 12:47:27.372\u001b[0m | \u001b[1mINFO    \u001b[0m | \u001b[36m__main__\u001b[0m:\u001b[36mrun_pipeline_self\u001b[0m:\u001b[36m79\u001b[0m - \u001b[1m%241 - Running pipeline for row_seed: 24 and size_of_unlabelled_data: 0.5 and model: KNeighborsClassifier(metric='euclidean', n_neighbors=3)\u001b[0m\n",
      "\u001b[32m2023-10-22 12:47:27.470\u001b[0m | \u001b[1mINFO    \u001b[0m | \u001b[36m__main__\u001b[0m:\u001b[36mrun_pipeline_self\u001b[0m:\u001b[36m79\u001b[0m - \u001b[1m%242 - Running pipeline for row_seed: 42 and size_of_unlabelled_data: 0.5 and model: KNeighborsClassifier(metric='euclidean', n_neighbors=3)\u001b[0m\n",
      "\u001b[32m2023-10-22 12:47:27.568\u001b[0m | \u001b[1mINFO    \u001b[0m | \u001b[36m__main__\u001b[0m:\u001b[36mrun_pipeline_self\u001b[0m:\u001b[36m79\u001b[0m - \u001b[1m%243 - Running pipeline for row_seed: 206 and size_of_unlabelled_data: 0.5 and model: KNeighborsClassifier(metric='euclidean', n_neighbors=3)\u001b[0m\n"
     ]
    },
    {
     "name": "stdout",
     "output_type": "stream",
     "text": [
      "\n",
      "\n"
     ]
    },
    {
     "name": "stderr",
     "output_type": "stream",
     "text": [
      "\u001b[32m2023-10-22 12:47:27.670\u001b[0m | \u001b[1mINFO    \u001b[0m | \u001b[36m__main__\u001b[0m:\u001b[36mrun_pipeline_self\u001b[0m:\u001b[36m79\u001b[0m - \u001b[1m%244 - Running pipeline for row_seed: 602 and size_of_unlabelled_data: 0.5 and model: KNeighborsClassifier(metric='euclidean', n_neighbors=3)\u001b[0m\n",
      "\u001b[32m2023-10-22 12:47:27.769\u001b[0m | \u001b[1mINFO    \u001b[0m | \u001b[36m__main__\u001b[0m:\u001b[36mrun_pipeline_self\u001b[0m:\u001b[36m79\u001b[0m - \u001b[1m%245 - Running pipeline for row_seed: 412 and size_of_unlabelled_data: 0.5 and model: KNeighborsClassifier(metric='euclidean', n_neighbors=3)\u001b[0m\n",
      "\u001b[32m2023-10-22 12:47:27.940\u001b[0m | \u001b[1mINFO    \u001b[0m | \u001b[36m__main__\u001b[0m:\u001b[36mrun_pipeline_self\u001b[0m:\u001b[36m79\u001b[0m - \u001b[1m%246 - Running pipeline for row_seed: 214 and size_of_unlabelled_data: 0.5 and model: KNeighborsClassifier(metric='euclidean', n_neighbors=3)\u001b[0m\n",
      "\u001b[32m2023-10-22 12:47:28.036\u001b[0m | \u001b[1mINFO    \u001b[0m | \u001b[36m__main__\u001b[0m:\u001b[36mrun_pipeline_self\u001b[0m:\u001b[36m79\u001b[0m - \u001b[1m%247 - Running pipeline for row_seed: 754 and size_of_unlabelled_data: 0.5 and model: KNeighborsClassifier(metric='euclidean', n_neighbors=3)\u001b[0m\n",
      "\u001b[32m2023-10-22 12:47:28.128\u001b[0m | \u001b[1mINFO    \u001b[0m | \u001b[36m__main__\u001b[0m:\u001b[36mrun_pipeline_self\u001b[0m:\u001b[36m79\u001b[0m - \u001b[1m%248 - Running pipeline for row_seed: 457 and size_of_unlabelled_data: 0.5 and model: KNeighborsClassifier(metric='euclidean', n_neighbors=3)\u001b[0m\n",
      "\u001b[32m2023-10-22 12:47:28.221\u001b[0m | \u001b[1mINFO    \u001b[0m | \u001b[36m__main__\u001b[0m:\u001b[36mrun_pipeline_self\u001b[0m:\u001b[36m79\u001b[0m - \u001b[1m%249 - Running pipeline for row_seed: 2023 and size_of_unlabelled_data: 0.5 and model: KNeighborsClassifier(metric='euclidean', n_neighbors=3)\u001b[0m\n",
      "\u001b[32m2023-10-22 12:47:28.320\u001b[0m | \u001b[1mINFO    \u001b[0m | \u001b[36m__main__\u001b[0m:\u001b[36mrun_pipeline_self\u001b[0m:\u001b[36m79\u001b[0m - \u001b[1m%250 - Running pipeline for row_seed: 3202 and size_of_unlabelled_data: 0.5 and model: KNeighborsClassifier(metric='euclidean', n_neighbors=3)\u001b[0m\n",
      "\u001b[32m2023-10-22 12:47:28.403\u001b[0m | \u001b[1mINFO    \u001b[0m | \u001b[36m__main__\u001b[0m:\u001b[36mrun_pipeline_self\u001b[0m:\u001b[36m75\u001b[0m - \u001b[1mModel: KNeighborsClassifier(metric='euclidean', n_neighbors=3)\u001b[0m\n",
      "\u001b[32m2023-10-22 12:47:28.404\u001b[0m | \u001b[1mINFO    \u001b[0m | \u001b[36m__main__\u001b[0m:\u001b[36mrun_pipeline_self\u001b[0m:\u001b[36m76\u001b[0m - \u001b[1mSize of unlabelled data: 0.6\u001b[0m\n",
      "\u001b[32m2023-10-22 12:47:28.404\u001b[0m | \u001b[1mINFO    \u001b[0m | \u001b[36m__main__\u001b[0m:\u001b[36mrun_pipeline_self\u001b[0m:\u001b[36m79\u001b[0m - \u001b[1m%251 - Running pipeline for row_seed: 24 and size_of_unlabelled_data: 0.6 and model: KNeighborsClassifier(metric='euclidean', n_neighbors=3)\u001b[0m\n",
      "\u001b[32m2023-10-22 12:47:28.481\u001b[0m | \u001b[1mINFO    \u001b[0m | \u001b[36m__main__\u001b[0m:\u001b[36mrun_pipeline_self\u001b[0m:\u001b[36m79\u001b[0m - \u001b[1m%252 - Running pipeline for row_seed: 42 and size_of_unlabelled_data: 0.6 and model: KNeighborsClassifier(metric='euclidean', n_neighbors=3)\u001b[0m\n",
      "\u001b[32m2023-10-22 12:47:28.553\u001b[0m | \u001b[1mINFO    \u001b[0m | \u001b[36m__main__\u001b[0m:\u001b[36mrun_pipeline_self\u001b[0m:\u001b[36m79\u001b[0m - \u001b[1m%253 - Running pipeline for row_seed: 206 and size_of_unlabelled_data: 0.6 and model: KNeighborsClassifier(metric='euclidean', n_neighbors=3)\u001b[0m\n"
     ]
    },
    {
     "name": "stdout",
     "output_type": "stream",
     "text": [
      "\n",
      "\n"
     ]
    },
    {
     "name": "stderr",
     "output_type": "stream",
     "text": [
      "\u001b[32m2023-10-22 12:47:28.655\u001b[0m | \u001b[1mINFO    \u001b[0m | \u001b[36m__main__\u001b[0m:\u001b[36mrun_pipeline_self\u001b[0m:\u001b[36m79\u001b[0m - \u001b[1m%254 - Running pipeline for row_seed: 602 and size_of_unlabelled_data: 0.6 and model: KNeighborsClassifier(metric='euclidean', n_neighbors=3)\u001b[0m\n",
      "\u001b[32m2023-10-22 12:47:28.751\u001b[0m | \u001b[1mINFO    \u001b[0m | \u001b[36m__main__\u001b[0m:\u001b[36mrun_pipeline_self\u001b[0m:\u001b[36m79\u001b[0m - \u001b[1m%255 - Running pipeline for row_seed: 412 and size_of_unlabelled_data: 0.6 and model: KNeighborsClassifier(metric='euclidean', n_neighbors=3)\u001b[0m\n",
      "\u001b[32m2023-10-22 12:47:28.825\u001b[0m | \u001b[1mINFO    \u001b[0m | \u001b[36m__main__\u001b[0m:\u001b[36mrun_pipeline_self\u001b[0m:\u001b[36m79\u001b[0m - \u001b[1m%256 - Running pipeline for row_seed: 214 and size_of_unlabelled_data: 0.6 and model: KNeighborsClassifier(metric='euclidean', n_neighbors=3)\u001b[0m\n",
      "\u001b[32m2023-10-22 12:47:28.901\u001b[0m | \u001b[1mINFO    \u001b[0m | \u001b[36m__main__\u001b[0m:\u001b[36mrun_pipeline_self\u001b[0m:\u001b[36m79\u001b[0m - \u001b[1m%257 - Running pipeline for row_seed: 754 and size_of_unlabelled_data: 0.6 and model: KNeighborsClassifier(metric='euclidean', n_neighbors=3)\u001b[0m\n",
      "\u001b[32m2023-10-22 12:47:28.973\u001b[0m | \u001b[1mINFO    \u001b[0m | \u001b[36m__main__\u001b[0m:\u001b[36mrun_pipeline_self\u001b[0m:\u001b[36m79\u001b[0m - \u001b[1m%258 - Running pipeline for row_seed: 457 and size_of_unlabelled_data: 0.6 and model: KNeighborsClassifier(metric='euclidean', n_neighbors=3)\u001b[0m\n",
      "\u001b[32m2023-10-22 12:47:29.049\u001b[0m | \u001b[1mINFO    \u001b[0m | \u001b[36m__main__\u001b[0m:\u001b[36mrun_pipeline_self\u001b[0m:\u001b[36m79\u001b[0m - \u001b[1m%259 - Running pipeline for row_seed: 2023 and size_of_unlabelled_data: 0.6 and model: KNeighborsClassifier(metric='euclidean', n_neighbors=3)\u001b[0m\n",
      "\u001b[32m2023-10-22 12:47:29.120\u001b[0m | \u001b[1mINFO    \u001b[0m | \u001b[36m__main__\u001b[0m:\u001b[36mrun_pipeline_self\u001b[0m:\u001b[36m79\u001b[0m - \u001b[1m%260 - Running pipeline for row_seed: 3202 and size_of_unlabelled_data: 0.6 and model: KNeighborsClassifier(metric='euclidean', n_neighbors=3)\u001b[0m\n",
      "\u001b[32m2023-10-22 12:47:29.200\u001b[0m | \u001b[1mINFO    \u001b[0m | \u001b[36m__main__\u001b[0m:\u001b[36mrun_pipeline_self\u001b[0m:\u001b[36m75\u001b[0m - \u001b[1mModel: KNeighborsClassifier(metric='euclidean', n_neighbors=3)\u001b[0m\n",
      "\u001b[32m2023-10-22 12:47:29.201\u001b[0m | \u001b[1mINFO    \u001b[0m | \u001b[36m__main__\u001b[0m:\u001b[36mrun_pipeline_self\u001b[0m:\u001b[36m76\u001b[0m - \u001b[1mSize of unlabelled data: 0.7\u001b[0m\n",
      "\u001b[32m2023-10-22 12:47:29.201\u001b[0m | \u001b[1mINFO    \u001b[0m | \u001b[36m__main__\u001b[0m:\u001b[36mrun_pipeline_self\u001b[0m:\u001b[36m79\u001b[0m - \u001b[1m%261 - Running pipeline for row_seed: 24 and size_of_unlabelled_data: 0.7 and model: KNeighborsClassifier(metric='euclidean', n_neighbors=3)\u001b[0m\n",
      "\u001b[32m2023-10-22 12:47:29.275\u001b[0m | \u001b[1mINFO    \u001b[0m | \u001b[36m__main__\u001b[0m:\u001b[36mrun_pipeline_self\u001b[0m:\u001b[36m79\u001b[0m - \u001b[1m%262 - Running pipeline for row_seed: 42 and size_of_unlabelled_data: 0.7 and model: KNeighborsClassifier(metric='euclidean', n_neighbors=3)\u001b[0m\n",
      "\u001b[32m2023-10-22 12:47:29.348\u001b[0m | \u001b[1mINFO    \u001b[0m | \u001b[36m__main__\u001b[0m:\u001b[36mrun_pipeline_self\u001b[0m:\u001b[36m79\u001b[0m - \u001b[1m%263 - Running pipeline for row_seed: 206 and size_of_unlabelled_data: 0.7 and model: KNeighborsClassifier(metric='euclidean', n_neighbors=3)\u001b[0m\n"
     ]
    },
    {
     "name": "stdout",
     "output_type": "stream",
     "text": [
      "\n",
      "\n"
     ]
    },
    {
     "name": "stderr",
     "output_type": "stream",
     "text": [
      "\u001b[32m2023-10-22 12:47:29.446\u001b[0m | \u001b[1mINFO    \u001b[0m | \u001b[36m__main__\u001b[0m:\u001b[36mrun_pipeline_self\u001b[0m:\u001b[36m79\u001b[0m - \u001b[1m%264 - Running pipeline for row_seed: 602 and size_of_unlabelled_data: 0.7 and model: KNeighborsClassifier(metric='euclidean', n_neighbors=3)\u001b[0m\n",
      "\u001b[32m2023-10-22 12:47:29.550\u001b[0m | \u001b[1mINFO    \u001b[0m | \u001b[36m__main__\u001b[0m:\u001b[36mrun_pipeline_self\u001b[0m:\u001b[36m79\u001b[0m - \u001b[1m%265 - Running pipeline for row_seed: 412 and size_of_unlabelled_data: 0.7 and model: KNeighborsClassifier(metric='euclidean', n_neighbors=3)\u001b[0m\n",
      "\u001b[32m2023-10-22 12:47:29.697\u001b[0m | \u001b[1mINFO    \u001b[0m | \u001b[36m__main__\u001b[0m:\u001b[36mrun_pipeline_self\u001b[0m:\u001b[36m79\u001b[0m - \u001b[1m%266 - Running pipeline for row_seed: 214 and size_of_unlabelled_data: 0.7 and model: KNeighborsClassifier(metric='euclidean', n_neighbors=3)\u001b[0m\n",
      "\u001b[32m2023-10-22 12:47:29.779\u001b[0m | \u001b[1mINFO    \u001b[0m | \u001b[36m__main__\u001b[0m:\u001b[36mrun_pipeline_self\u001b[0m:\u001b[36m79\u001b[0m - \u001b[1m%267 - Running pipeline for row_seed: 754 and size_of_unlabelled_data: 0.7 and model: KNeighborsClassifier(metric='euclidean', n_neighbors=3)\u001b[0m\n",
      "\u001b[32m2023-10-22 12:47:29.863\u001b[0m | \u001b[1mINFO    \u001b[0m | \u001b[36m__main__\u001b[0m:\u001b[36mrun_pipeline_self\u001b[0m:\u001b[36m79\u001b[0m - \u001b[1m%268 - Running pipeline for row_seed: 457 and size_of_unlabelled_data: 0.7 and model: KNeighborsClassifier(metric='euclidean', n_neighbors=3)\u001b[0m\n",
      "\u001b[32m2023-10-22 12:47:29.936\u001b[0m | \u001b[1mINFO    \u001b[0m | \u001b[36m__main__\u001b[0m:\u001b[36mrun_pipeline_self\u001b[0m:\u001b[36m79\u001b[0m - \u001b[1m%269 - Running pipeline for row_seed: 2023 and size_of_unlabelled_data: 0.7 and model: KNeighborsClassifier(metric='euclidean', n_neighbors=3)\u001b[0m\n",
      "\u001b[32m2023-10-22 12:47:30.007\u001b[0m | \u001b[1mINFO    \u001b[0m | \u001b[36m__main__\u001b[0m:\u001b[36mrun_pipeline_self\u001b[0m:\u001b[36m79\u001b[0m - \u001b[1m%270 - Running pipeline for row_seed: 3202 and size_of_unlabelled_data: 0.7 and model: KNeighborsClassifier(metric='euclidean', n_neighbors=3)\u001b[0m\n",
      "\u001b[32m2023-10-22 12:47:30.083\u001b[0m | \u001b[1mINFO    \u001b[0m | \u001b[36m__main__\u001b[0m:\u001b[36mrun_pipeline_self\u001b[0m:\u001b[36m75\u001b[0m - \u001b[1mModel: KNeighborsClassifier(metric='euclidean', n_neighbors=3)\u001b[0m\n",
      "\u001b[32m2023-10-22 12:47:30.084\u001b[0m | \u001b[1mINFO    \u001b[0m | \u001b[36m__main__\u001b[0m:\u001b[36mrun_pipeline_self\u001b[0m:\u001b[36m76\u001b[0m - \u001b[1mSize of unlabelled data: 0.8\u001b[0m\n",
      "\u001b[32m2023-10-22 12:47:30.084\u001b[0m | \u001b[1mINFO    \u001b[0m | \u001b[36m__main__\u001b[0m:\u001b[36mrun_pipeline_self\u001b[0m:\u001b[36m79\u001b[0m - \u001b[1m%271 - Running pipeline for row_seed: 24 and size_of_unlabelled_data: 0.8 and model: KNeighborsClassifier(metric='euclidean', n_neighbors=3)\u001b[0m\n",
      "\u001b[32m2023-10-22 12:47:30.161\u001b[0m | \u001b[1mINFO    \u001b[0m | \u001b[36m__main__\u001b[0m:\u001b[36mrun_pipeline_self\u001b[0m:\u001b[36m79\u001b[0m - \u001b[1m%272 - Running pipeline for row_seed: 42 and size_of_unlabelled_data: 0.8 and model: KNeighborsClassifier(metric='euclidean', n_neighbors=3)\u001b[0m\n",
      "\u001b[32m2023-10-22 12:47:30.228\u001b[0m | \u001b[1mINFO    \u001b[0m | \u001b[36m__main__\u001b[0m:\u001b[36mrun_pipeline_self\u001b[0m:\u001b[36m79\u001b[0m - \u001b[1m%273 - Running pipeline for row_seed: 206 and size_of_unlabelled_data: 0.8 and model: KNeighborsClassifier(metric='euclidean', n_neighbors=3)\u001b[0m\n"
     ]
    },
    {
     "name": "stdout",
     "output_type": "stream",
     "text": [
      "\n",
      "\n"
     ]
    },
    {
     "name": "stderr",
     "output_type": "stream",
     "text": [
      "\u001b[32m2023-10-22 12:47:30.305\u001b[0m | \u001b[1mINFO    \u001b[0m | \u001b[36m__main__\u001b[0m:\u001b[36mrun_pipeline_self\u001b[0m:\u001b[36m79\u001b[0m - \u001b[1m%274 - Running pipeline for row_seed: 602 and size_of_unlabelled_data: 0.8 and model: KNeighborsClassifier(metric='euclidean', n_neighbors=3)\u001b[0m\n",
      "\u001b[32m2023-10-22 12:47:30.457\u001b[0m | \u001b[1mINFO    \u001b[0m | \u001b[36m__main__\u001b[0m:\u001b[36mrun_pipeline_self\u001b[0m:\u001b[36m79\u001b[0m - \u001b[1m%275 - Running pipeline for row_seed: 412 and size_of_unlabelled_data: 0.8 and model: KNeighborsClassifier(metric='euclidean', n_neighbors=3)\u001b[0m\n",
      "\u001b[32m2023-10-22 12:47:30.529\u001b[0m | \u001b[1mINFO    \u001b[0m | \u001b[36m__main__\u001b[0m:\u001b[36mrun_pipeline_self\u001b[0m:\u001b[36m79\u001b[0m - \u001b[1m%276 - Running pipeline for row_seed: 214 and size_of_unlabelled_data: 0.8 and model: KNeighborsClassifier(metric='euclidean', n_neighbors=3)\u001b[0m\n",
      "\u001b[32m2023-10-22 12:47:30.599\u001b[0m | \u001b[1mINFO    \u001b[0m | \u001b[36m__main__\u001b[0m:\u001b[36mrun_pipeline_self\u001b[0m:\u001b[36m79\u001b[0m - \u001b[1m%277 - Running pipeline for row_seed: 754 and size_of_unlabelled_data: 0.8 and model: KNeighborsClassifier(metric='euclidean', n_neighbors=3)\u001b[0m\n",
      "\u001b[32m2023-10-22 12:47:30.670\u001b[0m | \u001b[1mINFO    \u001b[0m | \u001b[36m__main__\u001b[0m:\u001b[36mrun_pipeline_self\u001b[0m:\u001b[36m79\u001b[0m - \u001b[1m%278 - Running pipeline for row_seed: 457 and size_of_unlabelled_data: 0.8 and model: KNeighborsClassifier(metric='euclidean', n_neighbors=3)\u001b[0m\n",
      "\u001b[32m2023-10-22 12:47:30.743\u001b[0m | \u001b[1mINFO    \u001b[0m | \u001b[36m__main__\u001b[0m:\u001b[36mrun_pipeline_self\u001b[0m:\u001b[36m79\u001b[0m - \u001b[1m%279 - Running pipeline for row_seed: 2023 and size_of_unlabelled_data: 0.8 and model: KNeighborsClassifier(metric='euclidean', n_neighbors=3)\u001b[0m\n",
      "\u001b[32m2023-10-22 12:47:30.818\u001b[0m | \u001b[1mINFO    \u001b[0m | \u001b[36m__main__\u001b[0m:\u001b[36mrun_pipeline_self\u001b[0m:\u001b[36m79\u001b[0m - \u001b[1m%280 - Running pipeline for row_seed: 3202 and size_of_unlabelled_data: 0.8 and model: KNeighborsClassifier(metric='euclidean', n_neighbors=3)\u001b[0m\n",
      "\u001b[32m2023-10-22 12:47:30.891\u001b[0m | \u001b[1mINFO    \u001b[0m | \u001b[36m__main__\u001b[0m:\u001b[36mrun_pipeline_self\u001b[0m:\u001b[36m75\u001b[0m - \u001b[1mModel: KNeighborsClassifier(metric='euclidean', n_neighbors=3)\u001b[0m\n",
      "\u001b[32m2023-10-22 12:47:30.892\u001b[0m | \u001b[1mINFO    \u001b[0m | \u001b[36m__main__\u001b[0m:\u001b[36mrun_pipeline_self\u001b[0m:\u001b[36m76\u001b[0m - \u001b[1mSize of unlabelled data: 0.85\u001b[0m\n",
      "\u001b[32m2023-10-22 12:47:30.892\u001b[0m | \u001b[1mINFO    \u001b[0m | \u001b[36m__main__\u001b[0m:\u001b[36mrun_pipeline_self\u001b[0m:\u001b[36m79\u001b[0m - \u001b[1m%281 - Running pipeline for row_seed: 24 and size_of_unlabelled_data: 0.85 and model: KNeighborsClassifier(metric='euclidean', n_neighbors=3)\u001b[0m\n",
      "\u001b[32m2023-10-22 12:47:30.970\u001b[0m | \u001b[1mINFO    \u001b[0m | \u001b[36m__main__\u001b[0m:\u001b[36mrun_pipeline_self\u001b[0m:\u001b[36m79\u001b[0m - \u001b[1m%282 - Running pipeline for row_seed: 42 and size_of_unlabelled_data: 0.85 and model: KNeighborsClassifier(metric='euclidean', n_neighbors=3)\u001b[0m\n"
     ]
    },
    {
     "name": "stdout",
     "output_type": "stream",
     "text": [
      "\n",
      "\n"
     ]
    },
    {
     "name": "stderr",
     "output_type": "stream",
     "text": [
      "\u001b[32m2023-10-22 12:47:31.154\u001b[0m | \u001b[1mINFO    \u001b[0m | \u001b[36m__main__\u001b[0m:\u001b[36mrun_pipeline_self\u001b[0m:\u001b[36m79\u001b[0m - \u001b[1m%283 - Running pipeline for row_seed: 206 and size_of_unlabelled_data: 0.85 and model: KNeighborsClassifier(metric='euclidean', n_neighbors=3)\u001b[0m\n",
      "\u001b[32m2023-10-22 12:47:31.243\u001b[0m | \u001b[1mINFO    \u001b[0m | \u001b[36m__main__\u001b[0m:\u001b[36mrun_pipeline_self\u001b[0m:\u001b[36m79\u001b[0m - \u001b[1m%284 - Running pipeline for row_seed: 602 and size_of_unlabelled_data: 0.85 and model: KNeighborsClassifier(metric='euclidean', n_neighbors=3)\u001b[0m\n",
      "\u001b[32m2023-10-22 12:47:31.319\u001b[0m | \u001b[1mINFO    \u001b[0m | \u001b[36m__main__\u001b[0m:\u001b[36mrun_pipeline_self\u001b[0m:\u001b[36m79\u001b[0m - \u001b[1m%285 - Running pipeline for row_seed: 412 and size_of_unlabelled_data: 0.85 and model: KNeighborsClassifier(metric='euclidean', n_neighbors=3)\u001b[0m\n",
      "\u001b[32m2023-10-22 12:47:31.407\u001b[0m | \u001b[1mINFO    \u001b[0m | \u001b[36m__main__\u001b[0m:\u001b[36mrun_pipeline_self\u001b[0m:\u001b[36m79\u001b[0m - \u001b[1m%286 - Running pipeline for row_seed: 214 and size_of_unlabelled_data: 0.85 and model: KNeighborsClassifier(metric='euclidean', n_neighbors=3)\u001b[0m\n",
      "\u001b[32m2023-10-22 12:47:31.484\u001b[0m | \u001b[1mINFO    \u001b[0m | \u001b[36m__main__\u001b[0m:\u001b[36mrun_pipeline_self\u001b[0m:\u001b[36m79\u001b[0m - \u001b[1m%287 - Running pipeline for row_seed: 754 and size_of_unlabelled_data: 0.85 and model: KNeighborsClassifier(metric='euclidean', n_neighbors=3)\u001b[0m\n",
      "\u001b[32m2023-10-22 12:47:31.612\u001b[0m | \u001b[1mINFO    \u001b[0m | \u001b[36m__main__\u001b[0m:\u001b[36mrun_pipeline_self\u001b[0m:\u001b[36m79\u001b[0m - \u001b[1m%288 - Running pipeline for row_seed: 457 and size_of_unlabelled_data: 0.85 and model: KNeighborsClassifier(metric='euclidean', n_neighbors=3)\u001b[0m\n",
      "\u001b[32m2023-10-22 12:47:31.685\u001b[0m | \u001b[1mINFO    \u001b[0m | \u001b[36m__main__\u001b[0m:\u001b[36mrun_pipeline_self\u001b[0m:\u001b[36m79\u001b[0m - \u001b[1m%289 - Running pipeline for row_seed: 2023 and size_of_unlabelled_data: 0.85 and model: KNeighborsClassifier(metric='euclidean', n_neighbors=3)\u001b[0m\n",
      "\u001b[32m2023-10-22 12:47:31.758\u001b[0m | \u001b[1mINFO    \u001b[0m | \u001b[36m__main__\u001b[0m:\u001b[36mrun_pipeline_self\u001b[0m:\u001b[36m79\u001b[0m - \u001b[1m%290 - Running pipeline for row_seed: 3202 and size_of_unlabelled_data: 0.85 and model: KNeighborsClassifier(metric='euclidean', n_neighbors=3)\u001b[0m\n",
      "\u001b[32m2023-10-22 12:47:31.840\u001b[0m | \u001b[1mINFO    \u001b[0m | \u001b[36m__main__\u001b[0m:\u001b[36mrun_pipeline_self\u001b[0m:\u001b[36m75\u001b[0m - \u001b[1mModel: KNeighborsClassifier(metric='euclidean', n_neighbors=3)\u001b[0m\n",
      "\u001b[32m2023-10-22 12:47:31.840\u001b[0m | \u001b[1mINFO    \u001b[0m | \u001b[36m__main__\u001b[0m:\u001b[36mrun_pipeline_self\u001b[0m:\u001b[36m76\u001b[0m - \u001b[1mSize of unlabelled data: 0.9\u001b[0m\n",
      "\u001b[32m2023-10-22 12:47:31.841\u001b[0m | \u001b[1mINFO    \u001b[0m | \u001b[36m__main__\u001b[0m:\u001b[36mrun_pipeline_self\u001b[0m:\u001b[36m79\u001b[0m - \u001b[1m%291 - Running pipeline for row_seed: 24 and size_of_unlabelled_data: 0.9 and model: KNeighborsClassifier(metric='euclidean', n_neighbors=3)\u001b[0m\n",
      "\u001b[32m2023-10-22 12:47:31.920\u001b[0m | \u001b[1mINFO    \u001b[0m | \u001b[36m__main__\u001b[0m:\u001b[36mrun_pipeline_self\u001b[0m:\u001b[36m79\u001b[0m - \u001b[1m%292 - Running pipeline for row_seed: 42 and size_of_unlabelled_data: 0.9 and model: KNeighborsClassifier(metric='euclidean', n_neighbors=3)\u001b[0m\n",
      "\u001b[32m2023-10-22 12:47:31.986\u001b[0m | \u001b[1mINFO    \u001b[0m | \u001b[36m__main__\u001b[0m:\u001b[36mrun_pipeline_self\u001b[0m:\u001b[36m79\u001b[0m - \u001b[1m%293 - Running pipeline for row_seed: 206 and size_of_unlabelled_data: 0.9 and model: KNeighborsClassifier(metric='euclidean', n_neighbors=3)\u001b[0m\n"
     ]
    },
    {
     "name": "stdout",
     "output_type": "stream",
     "text": [
      "\n",
      "\n"
     ]
    },
    {
     "name": "stderr",
     "output_type": "stream",
     "text": [
      "\u001b[32m2023-10-22 12:47:32.078\u001b[0m | \u001b[1mINFO    \u001b[0m | \u001b[36m__main__\u001b[0m:\u001b[36mrun_pipeline_self\u001b[0m:\u001b[36m79\u001b[0m - \u001b[1m%294 - Running pipeline for row_seed: 602 and size_of_unlabelled_data: 0.9 and model: KNeighborsClassifier(metric='euclidean', n_neighbors=3)\u001b[0m\n",
      "\u001b[32m2023-10-22 12:47:32.166\u001b[0m | \u001b[1mINFO    \u001b[0m | \u001b[36m__main__\u001b[0m:\u001b[36mrun_pipeline_self\u001b[0m:\u001b[36m79\u001b[0m - \u001b[1m%295 - Running pipeline for row_seed: 412 and size_of_unlabelled_data: 0.9 and model: KNeighborsClassifier(metric='euclidean', n_neighbors=3)\u001b[0m\n",
      "\u001b[32m2023-10-22 12:47:32.234\u001b[0m | \u001b[1mINFO    \u001b[0m | \u001b[36m__main__\u001b[0m:\u001b[36mrun_pipeline_self\u001b[0m:\u001b[36m79\u001b[0m - \u001b[1m%296 - Running pipeline for row_seed: 214 and size_of_unlabelled_data: 0.9 and model: KNeighborsClassifier(metric='euclidean', n_neighbors=3)\u001b[0m\n",
      "\u001b[32m2023-10-22 12:47:32.309\u001b[0m | \u001b[1mINFO    \u001b[0m | \u001b[36m__main__\u001b[0m:\u001b[36mrun_pipeline_self\u001b[0m:\u001b[36m79\u001b[0m - \u001b[1m%297 - Running pipeline for row_seed: 754 and size_of_unlabelled_data: 0.9 and model: KNeighborsClassifier(metric='euclidean', n_neighbors=3)\u001b[0m\n",
      "\u001b[32m2023-10-22 12:47:32.394\u001b[0m | \u001b[1mINFO    \u001b[0m | \u001b[36m__main__\u001b[0m:\u001b[36mrun_pipeline_self\u001b[0m:\u001b[36m79\u001b[0m - \u001b[1m%298 - Running pipeline for row_seed: 457 and size_of_unlabelled_data: 0.9 and model: KNeighborsClassifier(metric='euclidean', n_neighbors=3)\u001b[0m\n",
      "\u001b[32m2023-10-22 12:47:32.480\u001b[0m | \u001b[1mINFO    \u001b[0m | \u001b[36m__main__\u001b[0m:\u001b[36mrun_pipeline_self\u001b[0m:\u001b[36m79\u001b[0m - \u001b[1m%299 - Running pipeline for row_seed: 2023 and size_of_unlabelled_data: 0.9 and model: KNeighborsClassifier(metric='euclidean', n_neighbors=3)\u001b[0m\n",
      "\u001b[32m2023-10-22 12:47:32.552\u001b[0m | \u001b[1mINFO    \u001b[0m | \u001b[36m__main__\u001b[0m:\u001b[36mrun_pipeline_self\u001b[0m:\u001b[36m79\u001b[0m - \u001b[1m%300 - Running pipeline for row_seed: 3202 and size_of_unlabelled_data: 0.9 and model: KNeighborsClassifier(metric='euclidean', n_neighbors=3)\u001b[0m\n",
      "\u001b[32m2023-10-22 12:47:32.622\u001b[0m | \u001b[1mINFO    \u001b[0m | \u001b[36m__main__\u001b[0m:\u001b[36mrun_pipeline_self\u001b[0m:\u001b[36m75\u001b[0m - \u001b[1mModel: RandomForestClassifier(max_depth=9)\u001b[0m\n",
      "\u001b[32m2023-10-22 12:47:32.622\u001b[0m | \u001b[1mINFO    \u001b[0m | \u001b[36m__main__\u001b[0m:\u001b[36mrun_pipeline_self\u001b[0m:\u001b[36m76\u001b[0m - \u001b[1mSize of unlabelled data: 0.1\u001b[0m\n",
      "\u001b[32m2023-10-22 12:47:32.623\u001b[0m | \u001b[1mINFO    \u001b[0m | \u001b[36m__main__\u001b[0m:\u001b[36mrun_pipeline_self\u001b[0m:\u001b[36m79\u001b[0m - \u001b[1m%301 - Running pipeline for row_seed: 24 and size_of_unlabelled_data: 0.1 and model: RandomForestClassifier(max_depth=9)\u001b[0m\n"
     ]
    },
    {
     "name": "stdout",
     "output_type": "stream",
     "text": [
      "\n",
      "\n"
     ]
    },
    {
     "name": "stderr",
     "output_type": "stream",
     "text": [
      "\u001b[32m2023-10-22 12:47:32.982\u001b[0m | \u001b[1mINFO    \u001b[0m | \u001b[36m__main__\u001b[0m:\u001b[36mrun_pipeline_self\u001b[0m:\u001b[36m79\u001b[0m - \u001b[1m%302 - Running pipeline for row_seed: 42 and size_of_unlabelled_data: 0.1 and model: RandomForestClassifier(max_depth=9)\u001b[0m\n",
      "\u001b[32m2023-10-22 12:47:33.705\u001b[0m | \u001b[1mINFO    \u001b[0m | \u001b[36m__main__\u001b[0m:\u001b[36mrun_pipeline_self\u001b[0m:\u001b[36m79\u001b[0m - \u001b[1m%303 - Running pipeline for row_seed: 206 and size_of_unlabelled_data: 0.1 and model: RandomForestClassifier(max_depth=9)\u001b[0m\n",
      "\u001b[32m2023-10-22 12:47:34.229\u001b[0m | \u001b[1mINFO    \u001b[0m | \u001b[36m__main__\u001b[0m:\u001b[36mrun_pipeline_self\u001b[0m:\u001b[36m79\u001b[0m - \u001b[1m%304 - Running pipeline for row_seed: 602 and size_of_unlabelled_data: 0.1 and model: RandomForestClassifier(max_depth=9)\u001b[0m\n",
      "\u001b[32m2023-10-22 12:47:34.587\u001b[0m | \u001b[1mINFO    \u001b[0m | \u001b[36m__main__\u001b[0m:\u001b[36mrun_pipeline_self\u001b[0m:\u001b[36m79\u001b[0m - \u001b[1m%305 - Running pipeline for row_seed: 412 and size_of_unlabelled_data: 0.1 and model: RandomForestClassifier(max_depth=9)\u001b[0m\n",
      "\u001b[32m2023-10-22 12:47:34.942\u001b[0m | \u001b[1mINFO    \u001b[0m | \u001b[36m__main__\u001b[0m:\u001b[36mrun_pipeline_self\u001b[0m:\u001b[36m79\u001b[0m - \u001b[1m%306 - Running pipeline for row_seed: 214 and size_of_unlabelled_data: 0.1 and model: RandomForestClassifier(max_depth=9)\u001b[0m\n",
      "\u001b[32m2023-10-22 12:47:35.295\u001b[0m | \u001b[1mINFO    \u001b[0m | \u001b[36m__main__\u001b[0m:\u001b[36mrun_pipeline_self\u001b[0m:\u001b[36m79\u001b[0m - \u001b[1m%307 - Running pipeline for row_seed: 754 and size_of_unlabelled_data: 0.1 and model: RandomForestClassifier(max_depth=9)\u001b[0m\n",
      "\u001b[32m2023-10-22 12:47:36.158\u001b[0m | \u001b[1mINFO    \u001b[0m | \u001b[36m__main__\u001b[0m:\u001b[36mrun_pipeline_self\u001b[0m:\u001b[36m79\u001b[0m - \u001b[1m%308 - Running pipeline for row_seed: 457 and size_of_unlabelled_data: 0.1 and model: RandomForestClassifier(max_depth=9)\u001b[0m\n",
      "\u001b[32m2023-10-22 12:47:36.736\u001b[0m | \u001b[1mINFO    \u001b[0m | \u001b[36m__main__\u001b[0m:\u001b[36mrun_pipeline_self\u001b[0m:\u001b[36m79\u001b[0m - \u001b[1m%309 - Running pipeline for row_seed: 2023 and size_of_unlabelled_data: 0.1 and model: RandomForestClassifier(max_depth=9)\u001b[0m\n",
      "\u001b[32m2023-10-22 12:47:37.467\u001b[0m | \u001b[1mINFO    \u001b[0m | \u001b[36m__main__\u001b[0m:\u001b[36mrun_pipeline_self\u001b[0m:\u001b[36m79\u001b[0m - \u001b[1m%310 - Running pipeline for row_seed: 3202 and size_of_unlabelled_data: 0.1 and model: RandomForestClassifier(max_depth=9)\u001b[0m\n",
      "\u001b[32m2023-10-22 12:47:38.014\u001b[0m | \u001b[1mINFO    \u001b[0m | \u001b[36m__main__\u001b[0m:\u001b[36mrun_pipeline_self\u001b[0m:\u001b[36m75\u001b[0m - \u001b[1mModel: RandomForestClassifier(max_depth=9)\u001b[0m\n",
      "\u001b[32m2023-10-22 12:47:38.014\u001b[0m | \u001b[1mINFO    \u001b[0m | \u001b[36m__main__\u001b[0m:\u001b[36mrun_pipeline_self\u001b[0m:\u001b[36m76\u001b[0m - \u001b[1mSize of unlabelled data: 0.2\u001b[0m\n",
      "\u001b[32m2023-10-22 12:47:38.015\u001b[0m | \u001b[1mINFO    \u001b[0m | \u001b[36m__main__\u001b[0m:\u001b[36mrun_pipeline_self\u001b[0m:\u001b[36m79\u001b[0m - \u001b[1m%311 - Running pipeline for row_seed: 24 and size_of_unlabelled_data: 0.2 and model: RandomForestClassifier(max_depth=9)\u001b[0m\n"
     ]
    },
    {
     "name": "stdout",
     "output_type": "stream",
     "text": [
      "\n",
      "\n"
     ]
    },
    {
     "name": "stderr",
     "output_type": "stream",
     "text": [
      "\u001b[32m2023-10-22 12:47:38.395\u001b[0m | \u001b[1mINFO    \u001b[0m | \u001b[36m__main__\u001b[0m:\u001b[36mrun_pipeline_self\u001b[0m:\u001b[36m79\u001b[0m - \u001b[1m%312 - Running pipeline for row_seed: 42 and size_of_unlabelled_data: 0.2 and model: RandomForestClassifier(max_depth=9)\u001b[0m\n",
      "\u001b[32m2023-10-22 12:47:38.960\u001b[0m | \u001b[1mINFO    \u001b[0m | \u001b[36m__main__\u001b[0m:\u001b[36mrun_pipeline_self\u001b[0m:\u001b[36m79\u001b[0m - \u001b[1m%313 - Running pipeline for row_seed: 206 and size_of_unlabelled_data: 0.2 and model: RandomForestClassifier(max_depth=9)\u001b[0m\n",
      "\u001b[32m2023-10-22 12:47:39.818\u001b[0m | \u001b[1mINFO    \u001b[0m | \u001b[36m__main__\u001b[0m:\u001b[36mrun_pipeline_self\u001b[0m:\u001b[36m79\u001b[0m - \u001b[1m%314 - Running pipeline for row_seed: 602 and size_of_unlabelled_data: 0.2 and model: RandomForestClassifier(max_depth=9)\u001b[0m\n",
      "\u001b[32m2023-10-22 12:47:40.170\u001b[0m | \u001b[1mINFO    \u001b[0m | \u001b[36m__main__\u001b[0m:\u001b[36mrun_pipeline_self\u001b[0m:\u001b[36m79\u001b[0m - \u001b[1m%315 - Running pipeline for row_seed: 412 and size_of_unlabelled_data: 0.2 and model: RandomForestClassifier(max_depth=9)\u001b[0m\n",
      "\u001b[32m2023-10-22 12:47:40.877\u001b[0m | \u001b[1mINFO    \u001b[0m | \u001b[36m__main__\u001b[0m:\u001b[36mrun_pipeline_self\u001b[0m:\u001b[36m79\u001b[0m - \u001b[1m%316 - Running pipeline for row_seed: 214 and size_of_unlabelled_data: 0.2 and model: RandomForestClassifier(max_depth=9)\u001b[0m\n",
      "\u001b[32m2023-10-22 12:47:41.576\u001b[0m | \u001b[1mINFO    \u001b[0m | \u001b[36m__main__\u001b[0m:\u001b[36mrun_pipeline_self\u001b[0m:\u001b[36m79\u001b[0m - \u001b[1m%317 - Running pipeline for row_seed: 754 and size_of_unlabelled_data: 0.2 and model: RandomForestClassifier(max_depth=9)\u001b[0m\n",
      "\u001b[32m2023-10-22 12:47:42.304\u001b[0m | \u001b[1mINFO    \u001b[0m | \u001b[36m__main__\u001b[0m:\u001b[36mrun_pipeline_self\u001b[0m:\u001b[36m79\u001b[0m - \u001b[1m%318 - Running pipeline for row_seed: 457 and size_of_unlabelled_data: 0.2 and model: RandomForestClassifier(max_depth=9)\u001b[0m\n",
      "\u001b[32m2023-10-22 12:47:43.169\u001b[0m | \u001b[1mINFO    \u001b[0m | \u001b[36m__main__\u001b[0m:\u001b[36mrun_pipeline_self\u001b[0m:\u001b[36m79\u001b[0m - \u001b[1m%319 - Running pipeline for row_seed: 2023 and size_of_unlabelled_data: 0.2 and model: RandomForestClassifier(max_depth=9)\u001b[0m\n",
      "\u001b[32m2023-10-22 12:47:43.690\u001b[0m | \u001b[1mINFO    \u001b[0m | \u001b[36m__main__\u001b[0m:\u001b[36mrun_pipeline_self\u001b[0m:\u001b[36m79\u001b[0m - \u001b[1m%320 - Running pipeline for row_seed: 3202 and size_of_unlabelled_data: 0.2 and model: RandomForestClassifier(max_depth=9)\u001b[0m\n",
      "\u001b[32m2023-10-22 12:47:44.206\u001b[0m | \u001b[1mINFO    \u001b[0m | \u001b[36m__main__\u001b[0m:\u001b[36mrun_pipeline_self\u001b[0m:\u001b[36m75\u001b[0m - \u001b[1mModel: RandomForestClassifier(max_depth=9)\u001b[0m\n",
      "\u001b[32m2023-10-22 12:47:44.206\u001b[0m | \u001b[1mINFO    \u001b[0m | \u001b[36m__main__\u001b[0m:\u001b[36mrun_pipeline_self\u001b[0m:\u001b[36m76\u001b[0m - \u001b[1mSize of unlabelled data: 0.3\u001b[0m\n",
      "\u001b[32m2023-10-22 12:47:44.207\u001b[0m | \u001b[1mINFO    \u001b[0m | \u001b[36m__main__\u001b[0m:\u001b[36mrun_pipeline_self\u001b[0m:\u001b[36m79\u001b[0m - \u001b[1m%321 - Running pipeline for row_seed: 24 and size_of_unlabelled_data: 0.3 and model: RandomForestClassifier(max_depth=9)\u001b[0m\n"
     ]
    },
    {
     "name": "stdout",
     "output_type": "stream",
     "text": [
      "\n",
      "\n"
     ]
    },
    {
     "name": "stderr",
     "output_type": "stream",
     "text": [
      "\u001b[32m2023-10-22 12:47:44.718\u001b[0m | \u001b[1mINFO    \u001b[0m | \u001b[36m__main__\u001b[0m:\u001b[36mrun_pipeline_self\u001b[0m:\u001b[36m79\u001b[0m - \u001b[1m%322 - Running pipeline for row_seed: 42 and size_of_unlabelled_data: 0.3 and model: RandomForestClassifier(max_depth=9)\u001b[0m\n",
      "\u001b[32m2023-10-22 12:47:45.216\u001b[0m | \u001b[1mINFO    \u001b[0m | \u001b[36m__main__\u001b[0m:\u001b[36mrun_pipeline_self\u001b[0m:\u001b[36m79\u001b[0m - \u001b[1m%323 - Running pipeline for row_seed: 206 and size_of_unlabelled_data: 0.3 and model: RandomForestClassifier(max_depth=9)\u001b[0m\n",
      "\u001b[32m2023-10-22 12:47:45.895\u001b[0m | \u001b[1mINFO    \u001b[0m | \u001b[36m__main__\u001b[0m:\u001b[36mrun_pipeline_self\u001b[0m:\u001b[36m79\u001b[0m - \u001b[1m%324 - Running pipeline for row_seed: 602 and size_of_unlabelled_data: 0.3 and model: RandomForestClassifier(max_depth=9)\u001b[0m\n",
      "\u001b[32m2023-10-22 12:47:46.426\u001b[0m | \u001b[1mINFO    \u001b[0m | \u001b[36m__main__\u001b[0m:\u001b[36mrun_pipeline_self\u001b[0m:\u001b[36m79\u001b[0m - \u001b[1m%325 - Running pipeline for row_seed: 412 and size_of_unlabelled_data: 0.3 and model: RandomForestClassifier(max_depth=9)\u001b[0m\n",
      "\u001b[32m2023-10-22 12:47:47.008\u001b[0m | \u001b[1mINFO    \u001b[0m | \u001b[36m__main__\u001b[0m:\u001b[36mrun_pipeline_self\u001b[0m:\u001b[36m79\u001b[0m - \u001b[1m%326 - Running pipeline for row_seed: 214 and size_of_unlabelled_data: 0.3 and model: RandomForestClassifier(max_depth=9)\u001b[0m\n",
      "\u001b[32m2023-10-22 12:47:47.635\u001b[0m | \u001b[1mINFO    \u001b[0m | \u001b[36m__main__\u001b[0m:\u001b[36mrun_pipeline_self\u001b[0m:\u001b[36m79\u001b[0m - \u001b[1m%327 - Running pipeline for row_seed: 754 and size_of_unlabelled_data: 0.3 and model: RandomForestClassifier(max_depth=9)\u001b[0m\n",
      "\u001b[32m2023-10-22 12:47:48.739\u001b[0m | \u001b[1mINFO    \u001b[0m | \u001b[36m__main__\u001b[0m:\u001b[36mrun_pipeline_self\u001b[0m:\u001b[36m79\u001b[0m - \u001b[1m%328 - Running pipeline for row_seed: 457 and size_of_unlabelled_data: 0.3 and model: RandomForestClassifier(max_depth=9)\u001b[0m\n",
      "\u001b[32m2023-10-22 12:47:49.077\u001b[0m | \u001b[1mINFO    \u001b[0m | \u001b[36m__main__\u001b[0m:\u001b[36mrun_pipeline_self\u001b[0m:\u001b[36m79\u001b[0m - \u001b[1m%329 - Running pipeline for row_seed: 2023 and size_of_unlabelled_data: 0.3 and model: RandomForestClassifier(max_depth=9)\u001b[0m\n",
      "\u001b[32m2023-10-22 12:47:49.753\u001b[0m | \u001b[1mINFO    \u001b[0m | \u001b[36m__main__\u001b[0m:\u001b[36mrun_pipeline_self\u001b[0m:\u001b[36m79\u001b[0m - \u001b[1m%330 - Running pipeline for row_seed: 3202 and size_of_unlabelled_data: 0.3 and model: RandomForestClassifier(max_depth=9)\u001b[0m\n",
      "\u001b[32m2023-10-22 12:47:50.281\u001b[0m | \u001b[1mINFO    \u001b[0m | \u001b[36m__main__\u001b[0m:\u001b[36mrun_pipeline_self\u001b[0m:\u001b[36m75\u001b[0m - \u001b[1mModel: RandomForestClassifier(max_depth=9)\u001b[0m\n",
      "\u001b[32m2023-10-22 12:47:50.281\u001b[0m | \u001b[1mINFO    \u001b[0m | \u001b[36m__main__\u001b[0m:\u001b[36mrun_pipeline_self\u001b[0m:\u001b[36m76\u001b[0m - \u001b[1mSize of unlabelled data: 0.4\u001b[0m\n",
      "\u001b[32m2023-10-22 12:47:50.282\u001b[0m | \u001b[1mINFO    \u001b[0m | \u001b[36m__main__\u001b[0m:\u001b[36mrun_pipeline_self\u001b[0m:\u001b[36m79\u001b[0m - \u001b[1m%331 - Running pipeline for row_seed: 24 and size_of_unlabelled_data: 0.4 and model: RandomForestClassifier(max_depth=9)\u001b[0m\n"
     ]
    },
    {
     "name": "stdout",
     "output_type": "stream",
     "text": [
      "\n",
      "\n"
     ]
    },
    {
     "name": "stderr",
     "output_type": "stream",
     "text": [
      "\u001b[32m2023-10-22 12:47:51.119\u001b[0m | \u001b[1mINFO    \u001b[0m | \u001b[36m__main__\u001b[0m:\u001b[36mrun_pipeline_self\u001b[0m:\u001b[36m79\u001b[0m - \u001b[1m%332 - Running pipeline for row_seed: 42 and size_of_unlabelled_data: 0.4 and model: RandomForestClassifier(max_depth=9)\u001b[0m\n",
      "\u001b[32m2023-10-22 12:47:51.789\u001b[0m | \u001b[1mINFO    \u001b[0m | \u001b[36m__main__\u001b[0m:\u001b[36mrun_pipeline_self\u001b[0m:\u001b[36m79\u001b[0m - \u001b[1m%333 - Running pipeline for row_seed: 206 and size_of_unlabelled_data: 0.4 and model: RandomForestClassifier(max_depth=9)\u001b[0m\n",
      "\u001b[32m2023-10-22 12:47:52.126\u001b[0m | \u001b[1mINFO    \u001b[0m | \u001b[36m__main__\u001b[0m:\u001b[36mrun_pipeline_self\u001b[0m:\u001b[36m79\u001b[0m - \u001b[1m%334 - Running pipeline for row_seed: 602 and size_of_unlabelled_data: 0.4 and model: RandomForestClassifier(max_depth=9)\u001b[0m\n",
      "\u001b[32m2023-10-22 12:47:52.616\u001b[0m | \u001b[1mINFO    \u001b[0m | \u001b[36m__main__\u001b[0m:\u001b[36mrun_pipeline_self\u001b[0m:\u001b[36m79\u001b[0m - \u001b[1m%335 - Running pipeline for row_seed: 412 and size_of_unlabelled_data: 0.4 and model: RandomForestClassifier(max_depth=9)\u001b[0m\n",
      "\u001b[32m2023-10-22 12:47:53.287\u001b[0m | \u001b[1mINFO    \u001b[0m | \u001b[36m__main__\u001b[0m:\u001b[36mrun_pipeline_self\u001b[0m:\u001b[36m79\u001b[0m - \u001b[1m%336 - Running pipeline for row_seed: 214 and size_of_unlabelled_data: 0.4 and model: RandomForestClassifier(max_depth=9)\u001b[0m\n",
      "\u001b[32m2023-10-22 12:47:53.943\u001b[0m | \u001b[1mINFO    \u001b[0m | \u001b[36m__main__\u001b[0m:\u001b[36mrun_pipeline_self\u001b[0m:\u001b[36m79\u001b[0m - \u001b[1m%337 - Running pipeline for row_seed: 754 and size_of_unlabelled_data: 0.4 and model: RandomForestClassifier(max_depth=9)\u001b[0m\n",
      "\u001b[32m2023-10-22 12:47:54.610\u001b[0m | \u001b[1mINFO    \u001b[0m | \u001b[36m__main__\u001b[0m:\u001b[36mrun_pipeline_self\u001b[0m:\u001b[36m79\u001b[0m - \u001b[1m%338 - Running pipeline for row_seed: 457 and size_of_unlabelled_data: 0.4 and model: RandomForestClassifier(max_depth=9)\u001b[0m\n",
      "\u001b[32m2023-10-22 12:47:55.460\u001b[0m | \u001b[1mINFO    \u001b[0m | \u001b[36m__main__\u001b[0m:\u001b[36mrun_pipeline_self\u001b[0m:\u001b[36m79\u001b[0m - \u001b[1m%339 - Running pipeline for row_seed: 2023 and size_of_unlabelled_data: 0.4 and model: RandomForestClassifier(max_depth=9)\u001b[0m\n",
      "\u001b[32m2023-10-22 12:47:55.790\u001b[0m | \u001b[1mINFO    \u001b[0m | \u001b[36m__main__\u001b[0m:\u001b[36mrun_pipeline_self\u001b[0m:\u001b[36m79\u001b[0m - \u001b[1m%340 - Running pipeline for row_seed: 3202 and size_of_unlabelled_data: 0.4 and model: RandomForestClassifier(max_depth=9)\u001b[0m\n",
      "\u001b[32m2023-10-22 12:47:56.288\u001b[0m | \u001b[1mINFO    \u001b[0m | \u001b[36m__main__\u001b[0m:\u001b[36mrun_pipeline_self\u001b[0m:\u001b[36m75\u001b[0m - \u001b[1mModel: RandomForestClassifier(max_depth=9)\u001b[0m\n",
      "\u001b[32m2023-10-22 12:47:56.289\u001b[0m | \u001b[1mINFO    \u001b[0m | \u001b[36m__main__\u001b[0m:\u001b[36mrun_pipeline_self\u001b[0m:\u001b[36m76\u001b[0m - \u001b[1mSize of unlabelled data: 0.5\u001b[0m\n",
      "\u001b[32m2023-10-22 12:47:56.289\u001b[0m | \u001b[1mINFO    \u001b[0m | \u001b[36m__main__\u001b[0m:\u001b[36mrun_pipeline_self\u001b[0m:\u001b[36m79\u001b[0m - \u001b[1m%341 - Running pipeline for row_seed: 24 and size_of_unlabelled_data: 0.5 and model: RandomForestClassifier(max_depth=9)\u001b[0m\n"
     ]
    },
    {
     "name": "stdout",
     "output_type": "stream",
     "text": [
      "\n",
      "\n"
     ]
    },
    {
     "name": "stderr",
     "output_type": "stream",
     "text": [
      "\u001b[32m2023-10-22 12:47:56.943\u001b[0m | \u001b[1mINFO    \u001b[0m | \u001b[36m__main__\u001b[0m:\u001b[36mrun_pipeline_self\u001b[0m:\u001b[36m79\u001b[0m - \u001b[1m%342 - Running pipeline for row_seed: 42 and size_of_unlabelled_data: 0.5 and model: RandomForestClassifier(max_depth=9)\u001b[0m\n",
      "\u001b[32m2023-10-22 12:47:57.440\u001b[0m | \u001b[1mINFO    \u001b[0m | \u001b[36m__main__\u001b[0m:\u001b[36mrun_pipeline_self\u001b[0m:\u001b[36m79\u001b[0m - \u001b[1m%343 - Running pipeline for row_seed: 206 and size_of_unlabelled_data: 0.5 and model: RandomForestClassifier(max_depth=9)\u001b[0m\n",
      "\u001b[32m2023-10-22 12:47:58.118\u001b[0m | \u001b[1mINFO    \u001b[0m | \u001b[36m__main__\u001b[0m:\u001b[36mrun_pipeline_self\u001b[0m:\u001b[36m79\u001b[0m - \u001b[1m%344 - Running pipeline for row_seed: 602 and size_of_unlabelled_data: 0.5 and model: RandomForestClassifier(max_depth=9)\u001b[0m\n",
      "\u001b[32m2023-10-22 12:47:58.781\u001b[0m | \u001b[1mINFO    \u001b[0m | \u001b[36m__main__\u001b[0m:\u001b[36mrun_pipeline_self\u001b[0m:\u001b[36m79\u001b[0m - \u001b[1m%345 - Running pipeline for row_seed: 412 and size_of_unlabelled_data: 0.5 and model: RandomForestClassifier(max_depth=9)\u001b[0m\n",
      "\u001b[32m2023-10-22 12:47:59.776\u001b[0m | \u001b[1mINFO    \u001b[0m | \u001b[36m__main__\u001b[0m:\u001b[36mrun_pipeline_self\u001b[0m:\u001b[36m79\u001b[0m - \u001b[1m%346 - Running pipeline for row_seed: 214 and size_of_unlabelled_data: 0.5 and model: RandomForestClassifier(max_depth=9)\u001b[0m\n",
      "\u001b[32m2023-10-22 12:48:00.272\u001b[0m | \u001b[1mINFO    \u001b[0m | \u001b[36m__main__\u001b[0m:\u001b[36mrun_pipeline_self\u001b[0m:\u001b[36m79\u001b[0m - \u001b[1m%347 - Running pipeline for row_seed: 754 and size_of_unlabelled_data: 0.5 and model: RandomForestClassifier(max_depth=9)\u001b[0m\n",
      "\u001b[32m2023-10-22 12:48:01.281\u001b[0m | \u001b[1mINFO    \u001b[0m | \u001b[36m__main__\u001b[0m:\u001b[36mrun_pipeline_self\u001b[0m:\u001b[36m79\u001b[0m - \u001b[1m%348 - Running pipeline for row_seed: 457 and size_of_unlabelled_data: 0.5 and model: RandomForestClassifier(max_depth=9)\u001b[0m\n",
      "\u001b[32m2023-10-22 12:48:01.776\u001b[0m | \u001b[1mINFO    \u001b[0m | \u001b[36m__main__\u001b[0m:\u001b[36mrun_pipeline_self\u001b[0m:\u001b[36m79\u001b[0m - \u001b[1m%349 - Running pipeline for row_seed: 2023 and size_of_unlabelled_data: 0.5 and model: RandomForestClassifier(max_depth=9)\u001b[0m\n",
      "\u001b[32m2023-10-22 12:48:02.605\u001b[0m | \u001b[1mINFO    \u001b[0m | \u001b[36m__main__\u001b[0m:\u001b[36mrun_pipeline_self\u001b[0m:\u001b[36m79\u001b[0m - \u001b[1m%350 - Running pipeline for row_seed: 3202 and size_of_unlabelled_data: 0.5 and model: RandomForestClassifier(max_depth=9)\u001b[0m\n",
      "\u001b[32m2023-10-22 12:48:03.268\u001b[0m | \u001b[1mINFO    \u001b[0m | \u001b[36m__main__\u001b[0m:\u001b[36mrun_pipeline_self\u001b[0m:\u001b[36m75\u001b[0m - \u001b[1mModel: RandomForestClassifier(max_depth=9)\u001b[0m\n",
      "\u001b[32m2023-10-22 12:48:03.268\u001b[0m | \u001b[1mINFO    \u001b[0m | \u001b[36m__main__\u001b[0m:\u001b[36mrun_pipeline_self\u001b[0m:\u001b[36m76\u001b[0m - \u001b[1mSize of unlabelled data: 0.6\u001b[0m\n",
      "\u001b[32m2023-10-22 12:48:03.269\u001b[0m | \u001b[1mINFO    \u001b[0m | \u001b[36m__main__\u001b[0m:\u001b[36mrun_pipeline_self\u001b[0m:\u001b[36m79\u001b[0m - \u001b[1m%351 - Running pipeline for row_seed: 24 and size_of_unlabelled_data: 0.6 and model: RandomForestClassifier(max_depth=9)\u001b[0m\n"
     ]
    },
    {
     "name": "stdout",
     "output_type": "stream",
     "text": [
      "\n",
      "\n"
     ]
    },
    {
     "name": "stderr",
     "output_type": "stream",
     "text": [
      "\u001b[32m2023-10-22 12:48:03.759\u001b[0m | \u001b[1mINFO    \u001b[0m | \u001b[36m__main__\u001b[0m:\u001b[36mrun_pipeline_self\u001b[0m:\u001b[36m79\u001b[0m - \u001b[1m%352 - Running pipeline for row_seed: 42 and size_of_unlabelled_data: 0.6 and model: RandomForestClassifier(max_depth=9)\u001b[0m\n",
      "\u001b[32m2023-10-22 12:48:04.247\u001b[0m | \u001b[1mINFO    \u001b[0m | \u001b[36m__main__\u001b[0m:\u001b[36mrun_pipeline_self\u001b[0m:\u001b[36m79\u001b[0m - \u001b[1m%353 - Running pipeline for row_seed: 206 and size_of_unlabelled_data: 0.6 and model: RandomForestClassifier(max_depth=9)\u001b[0m\n",
      "\u001b[32m2023-10-22 12:48:04.917\u001b[0m | \u001b[1mINFO    \u001b[0m | \u001b[36m__main__\u001b[0m:\u001b[36mrun_pipeline_self\u001b[0m:\u001b[36m79\u001b[0m - \u001b[1m%354 - Running pipeline for row_seed: 602 and size_of_unlabelled_data: 0.6 and model: RandomForestClassifier(max_depth=9)\u001b[0m\n",
      "\u001b[32m2023-10-22 12:48:05.404\u001b[0m | \u001b[1mINFO    \u001b[0m | \u001b[36m__main__\u001b[0m:\u001b[36mrun_pipeline_self\u001b[0m:\u001b[36m79\u001b[0m - \u001b[1m%355 - Running pipeline for row_seed: 412 and size_of_unlabelled_data: 0.6 and model: RandomForestClassifier(max_depth=9)\u001b[0m\n",
      "\u001b[32m2023-10-22 12:48:05.896\u001b[0m | \u001b[1mINFO    \u001b[0m | \u001b[36m__main__\u001b[0m:\u001b[36mrun_pipeline_self\u001b[0m:\u001b[36m79\u001b[0m - \u001b[1m%356 - Running pipeline for row_seed: 214 and size_of_unlabelled_data: 0.6 and model: RandomForestClassifier(max_depth=9)\u001b[0m\n",
      "\u001b[32m2023-10-22 12:48:06.391\u001b[0m | \u001b[1mINFO    \u001b[0m | \u001b[36m__main__\u001b[0m:\u001b[36mrun_pipeline_self\u001b[0m:\u001b[36m79\u001b[0m - \u001b[1m%357 - Running pipeline for row_seed: 754 and size_of_unlabelled_data: 0.6 and model: RandomForestClassifier(max_depth=9)\u001b[0m\n",
      "\u001b[32m2023-10-22 12:48:07.749\u001b[0m | \u001b[1mINFO    \u001b[0m | \u001b[36m__main__\u001b[0m:\u001b[36mrun_pipeline_self\u001b[0m:\u001b[36m79\u001b[0m - \u001b[1m%358 - Running pipeline for row_seed: 457 and size_of_unlabelled_data: 0.6 and model: RandomForestClassifier(max_depth=9)\u001b[0m\n",
      "\u001b[32m2023-10-22 12:48:08.242\u001b[0m | \u001b[1mINFO    \u001b[0m | \u001b[36m__main__\u001b[0m:\u001b[36mrun_pipeline_self\u001b[0m:\u001b[36m79\u001b[0m - \u001b[1m%359 - Running pipeline for row_seed: 2023 and size_of_unlabelled_data: 0.6 and model: RandomForestClassifier(max_depth=9)\u001b[0m\n",
      "\u001b[32m2023-10-22 12:48:09.074\u001b[0m | \u001b[1mINFO    \u001b[0m | \u001b[36m__main__\u001b[0m:\u001b[36mrun_pipeline_self\u001b[0m:\u001b[36m79\u001b[0m - \u001b[1m%360 - Running pipeline for row_seed: 3202 and size_of_unlabelled_data: 0.6 and model: RandomForestClassifier(max_depth=9)\u001b[0m\n",
      "\u001b[32m2023-10-22 12:48:09.729\u001b[0m | \u001b[1mINFO    \u001b[0m | \u001b[36m__main__\u001b[0m:\u001b[36mrun_pipeline_self\u001b[0m:\u001b[36m75\u001b[0m - \u001b[1mModel: RandomForestClassifier(max_depth=9)\u001b[0m\n",
      "\u001b[32m2023-10-22 12:48:09.729\u001b[0m | \u001b[1mINFO    \u001b[0m | \u001b[36m__main__\u001b[0m:\u001b[36mrun_pipeline_self\u001b[0m:\u001b[36m76\u001b[0m - \u001b[1mSize of unlabelled data: 0.7\u001b[0m\n",
      "\u001b[32m2023-10-22 12:48:09.730\u001b[0m | \u001b[1mINFO    \u001b[0m | \u001b[36m__main__\u001b[0m:\u001b[36mrun_pipeline_self\u001b[0m:\u001b[36m79\u001b[0m - \u001b[1m%361 - Running pipeline for row_seed: 24 and size_of_unlabelled_data: 0.7 and model: RandomForestClassifier(max_depth=9)\u001b[0m\n"
     ]
    },
    {
     "name": "stdout",
     "output_type": "stream",
     "text": [
      "\n",
      "\n"
     ]
    },
    {
     "name": "stderr",
     "output_type": "stream",
     "text": [
      "\u001b[32m2023-10-22 12:48:10.374\u001b[0m | \u001b[1mINFO    \u001b[0m | \u001b[36m__main__\u001b[0m:\u001b[36mrun_pipeline_self\u001b[0m:\u001b[36m79\u001b[0m - \u001b[1m%362 - Running pipeline for row_seed: 42 and size_of_unlabelled_data: 0.7 and model: RandomForestClassifier(max_depth=9)\u001b[0m\n",
      "\u001b[32m2023-10-22 12:48:11.015\u001b[0m | \u001b[1mINFO    \u001b[0m | \u001b[36m__main__\u001b[0m:\u001b[36mrun_pipeline_self\u001b[0m:\u001b[36m79\u001b[0m - \u001b[1m%363 - Running pipeline for row_seed: 206 and size_of_unlabelled_data: 0.7 and model: RandomForestClassifier(max_depth=9)\u001b[0m\n",
      "\u001b[32m2023-10-22 12:48:11.992\u001b[0m | \u001b[1mINFO    \u001b[0m | \u001b[36m__main__\u001b[0m:\u001b[36mrun_pipeline_self\u001b[0m:\u001b[36m79\u001b[0m - \u001b[1m%364 - Running pipeline for row_seed: 602 and size_of_unlabelled_data: 0.7 and model: RandomForestClassifier(max_depth=9)\u001b[0m\n",
      "\u001b[32m2023-10-22 12:48:13.141\u001b[0m | \u001b[1mINFO    \u001b[0m | \u001b[36m__main__\u001b[0m:\u001b[36mrun_pipeline_self\u001b[0m:\u001b[36m79\u001b[0m - \u001b[1m%365 - Running pipeline for row_seed: 412 and size_of_unlabelled_data: 0.7 and model: RandomForestClassifier(max_depth=9)\u001b[0m\n",
      "\u001b[32m2023-10-22 12:48:14.318\u001b[0m | \u001b[1mINFO    \u001b[0m | \u001b[36m__main__\u001b[0m:\u001b[36mrun_pipeline_self\u001b[0m:\u001b[36m79\u001b[0m - \u001b[1m%366 - Running pipeline for row_seed: 214 and size_of_unlabelled_data: 0.7 and model: RandomForestClassifier(max_depth=9)\u001b[0m\n",
      "\u001b[32m2023-10-22 12:48:14.969\u001b[0m | \u001b[1mINFO    \u001b[0m | \u001b[36m__main__\u001b[0m:\u001b[36mrun_pipeline_self\u001b[0m:\u001b[36m79\u001b[0m - \u001b[1m%367 - Running pipeline for row_seed: 754 and size_of_unlabelled_data: 0.7 and model: RandomForestClassifier(max_depth=9)\u001b[0m\n",
      "\u001b[32m2023-10-22 12:48:15.786\u001b[0m | \u001b[1mINFO    \u001b[0m | \u001b[36m__main__\u001b[0m:\u001b[36mrun_pipeline_self\u001b[0m:\u001b[36m79\u001b[0m - \u001b[1m%368 - Running pipeline for row_seed: 457 and size_of_unlabelled_data: 0.7 and model: RandomForestClassifier(max_depth=9)\u001b[0m\n",
      "\u001b[32m2023-10-22 12:48:16.447\u001b[0m | \u001b[1mINFO    \u001b[0m | \u001b[36m__main__\u001b[0m:\u001b[36mrun_pipeline_self\u001b[0m:\u001b[36m79\u001b[0m - \u001b[1m%369 - Running pipeline for row_seed: 2023 and size_of_unlabelled_data: 0.7 and model: RandomForestClassifier(max_depth=9)\u001b[0m\n",
      "\u001b[32m2023-10-22 12:48:17.103\u001b[0m | \u001b[1mINFO    \u001b[0m | \u001b[36m__main__\u001b[0m:\u001b[36mrun_pipeline_self\u001b[0m:\u001b[36m79\u001b[0m - \u001b[1m%370 - Running pipeline for row_seed: 3202 and size_of_unlabelled_data: 0.7 and model: RandomForestClassifier(max_depth=9)\u001b[0m\n",
      "\u001b[32m2023-10-22 12:48:17.920\u001b[0m | \u001b[1mINFO    \u001b[0m | \u001b[36m__main__\u001b[0m:\u001b[36mrun_pipeline_self\u001b[0m:\u001b[36m75\u001b[0m - \u001b[1mModel: RandomForestClassifier(max_depth=9)\u001b[0m\n",
      "\u001b[32m2023-10-22 12:48:17.920\u001b[0m | \u001b[1mINFO    \u001b[0m | \u001b[36m__main__\u001b[0m:\u001b[36mrun_pipeline_self\u001b[0m:\u001b[36m76\u001b[0m - \u001b[1mSize of unlabelled data: 0.8\u001b[0m\n",
      "\u001b[32m2023-10-22 12:48:17.921\u001b[0m | \u001b[1mINFO    \u001b[0m | \u001b[36m__main__\u001b[0m:\u001b[36mrun_pipeline_self\u001b[0m:\u001b[36m79\u001b[0m - \u001b[1m%371 - Running pipeline for row_seed: 24 and size_of_unlabelled_data: 0.8 and model: RandomForestClassifier(max_depth=9)\u001b[0m\n"
     ]
    },
    {
     "name": "stdout",
     "output_type": "stream",
     "text": [
      "\n",
      "\n"
     ]
    },
    {
     "name": "stderr",
     "output_type": "stream",
     "text": [
      "\u001b[32m2023-10-22 12:48:18.408\u001b[0m | \u001b[1mINFO    \u001b[0m | \u001b[36m__main__\u001b[0m:\u001b[36mrun_pipeline_self\u001b[0m:\u001b[36m79\u001b[0m - \u001b[1m%372 - Running pipeline for row_seed: 42 and size_of_unlabelled_data: 0.8 and model: RandomForestClassifier(max_depth=9)\u001b[0m\n",
      "\u001b[32m2023-10-22 12:48:19.057\u001b[0m | \u001b[1mINFO    \u001b[0m | \u001b[36m__main__\u001b[0m:\u001b[36mrun_pipeline_self\u001b[0m:\u001b[36m79\u001b[0m - \u001b[1m%373 - Running pipeline for row_seed: 206 and size_of_unlabelled_data: 0.8 and model: RandomForestClassifier(max_depth=9)\u001b[0m\n",
      "\u001b[32m2023-10-22 12:48:19.874\u001b[0m | \u001b[1mINFO    \u001b[0m | \u001b[36m__main__\u001b[0m:\u001b[36mrun_pipeline_self\u001b[0m:\u001b[36m79\u001b[0m - \u001b[1m%374 - Running pipeline for row_seed: 602 and size_of_unlabelled_data: 0.8 and model: RandomForestClassifier(max_depth=9)\u001b[0m\n",
      "\u001b[32m2023-10-22 12:48:20.849\u001b[0m | \u001b[1mINFO    \u001b[0m | \u001b[36m__main__\u001b[0m:\u001b[36mrun_pipeline_self\u001b[0m:\u001b[36m79\u001b[0m - \u001b[1m%375 - Running pipeline for row_seed: 412 and size_of_unlabelled_data: 0.8 and model: RandomForestClassifier(max_depth=9)\u001b[0m\n",
      "\u001b[32m2023-10-22 12:48:21.490\u001b[0m | \u001b[1mINFO    \u001b[0m | \u001b[36m__main__\u001b[0m:\u001b[36mrun_pipeline_self\u001b[0m:\u001b[36m79\u001b[0m - \u001b[1m%376 - Running pipeline for row_seed: 214 and size_of_unlabelled_data: 0.8 and model: RandomForestClassifier(max_depth=9)\u001b[0m\n",
      "\u001b[32m2023-10-22 12:48:22.652\u001b[0m | \u001b[1mINFO    \u001b[0m | \u001b[36m__main__\u001b[0m:\u001b[36mrun_pipeline_self\u001b[0m:\u001b[36m79\u001b[0m - \u001b[1m%377 - Running pipeline for row_seed: 754 and size_of_unlabelled_data: 0.8 and model: RandomForestClassifier(max_depth=9)\u001b[0m\n",
      "\u001b[32m2023-10-22 12:48:23.298\u001b[0m | \u001b[1mINFO    \u001b[0m | \u001b[36m__main__\u001b[0m:\u001b[36mrun_pipeline_self\u001b[0m:\u001b[36m79\u001b[0m - \u001b[1m%378 - Running pipeline for row_seed: 457 and size_of_unlabelled_data: 0.8 and model: RandomForestClassifier(max_depth=9)\u001b[0m\n",
      "\u001b[32m2023-10-22 12:48:23.958\u001b[0m | \u001b[1mINFO    \u001b[0m | \u001b[36m__main__\u001b[0m:\u001b[36mrun_pipeline_self\u001b[0m:\u001b[36m79\u001b[0m - \u001b[1m%379 - Running pipeline for row_seed: 2023 and size_of_unlabelled_data: 0.8 and model: RandomForestClassifier(max_depth=9)\u001b[0m\n",
      "\u001b[32m2023-10-22 12:48:24.615\u001b[0m | \u001b[1mINFO    \u001b[0m | \u001b[36m__main__\u001b[0m:\u001b[36mrun_pipeline_self\u001b[0m:\u001b[36m79\u001b[0m - \u001b[1m%380 - Running pipeline for row_seed: 3202 and size_of_unlabelled_data: 0.8 and model: RandomForestClassifier(max_depth=9)\u001b[0m\n",
      "\u001b[32m2023-10-22 12:48:25.266\u001b[0m | \u001b[1mINFO    \u001b[0m | \u001b[36m__main__\u001b[0m:\u001b[36mrun_pipeline_self\u001b[0m:\u001b[36m75\u001b[0m - \u001b[1mModel: RandomForestClassifier(max_depth=9)\u001b[0m\n",
      "\u001b[32m2023-10-22 12:48:25.267\u001b[0m | \u001b[1mINFO    \u001b[0m | \u001b[36m__main__\u001b[0m:\u001b[36mrun_pipeline_self\u001b[0m:\u001b[36m76\u001b[0m - \u001b[1mSize of unlabelled data: 0.85\u001b[0m\n",
      "\u001b[32m2023-10-22 12:48:25.267\u001b[0m | \u001b[1mINFO    \u001b[0m | \u001b[36m__main__\u001b[0m:\u001b[36mrun_pipeline_self\u001b[0m:\u001b[36m79\u001b[0m - \u001b[1m%381 - Running pipeline for row_seed: 24 and size_of_unlabelled_data: 0.85 and model: RandomForestClassifier(max_depth=9)\u001b[0m\n"
     ]
    },
    {
     "name": "stdout",
     "output_type": "stream",
     "text": [
      "\n",
      "\n"
     ]
    },
    {
     "name": "stderr",
     "output_type": "stream",
     "text": [
      "\u001b[32m2023-10-22 12:48:26.109\u001b[0m | \u001b[1mINFO    \u001b[0m | \u001b[36m__main__\u001b[0m:\u001b[36mrun_pipeline_self\u001b[0m:\u001b[36m79\u001b[0m - \u001b[1m%382 - Running pipeline for row_seed: 42 and size_of_unlabelled_data: 0.85 and model: RandomForestClassifier(max_depth=9)\u001b[0m\n",
      "\u001b[32m2023-10-22 12:48:26.924\u001b[0m | \u001b[1mINFO    \u001b[0m | \u001b[36m__main__\u001b[0m:\u001b[36mrun_pipeline_self\u001b[0m:\u001b[36m79\u001b[0m - \u001b[1m%383 - Running pipeline for row_seed: 206 and size_of_unlabelled_data: 0.85 and model: RandomForestClassifier(max_depth=9)\u001b[0m\n",
      "\u001b[32m2023-10-22 12:48:27.766\u001b[0m | \u001b[1mINFO    \u001b[0m | \u001b[36m__main__\u001b[0m:\u001b[36mrun_pipeline_self\u001b[0m:\u001b[36m79\u001b[0m - \u001b[1m%384 - Running pipeline for row_seed: 602 and size_of_unlabelled_data: 0.85 and model: RandomForestClassifier(max_depth=9)\u001b[0m\n",
      "\u001b[32m2023-10-22 12:48:28.595\u001b[0m | \u001b[1mINFO    \u001b[0m | \u001b[36m__main__\u001b[0m:\u001b[36mrun_pipeline_self\u001b[0m:\u001b[36m79\u001b[0m - \u001b[1m%385 - Running pipeline for row_seed: 412 and size_of_unlabelled_data: 0.85 and model: RandomForestClassifier(max_depth=9)\u001b[0m\n",
      "\u001b[32m2023-10-22 12:48:30.271\u001b[0m | \u001b[1mINFO    \u001b[0m | \u001b[36m__main__\u001b[0m:\u001b[36mrun_pipeline_self\u001b[0m:\u001b[36m79\u001b[0m - \u001b[1m%386 - Running pipeline for row_seed: 214 and size_of_unlabelled_data: 0.85 and model: RandomForestClassifier(max_depth=9)\u001b[0m\n",
      "\u001b[32m2023-10-22 12:48:31.466\u001b[0m | \u001b[1mINFO    \u001b[0m | \u001b[36m__main__\u001b[0m:\u001b[36mrun_pipeline_self\u001b[0m:\u001b[36m79\u001b[0m - \u001b[1m%387 - Running pipeline for row_seed: 754 and size_of_unlabelled_data: 0.85 and model: RandomForestClassifier(max_depth=9)\u001b[0m\n",
      "\u001b[32m2023-10-22 12:48:32.464\u001b[0m | \u001b[1mINFO    \u001b[0m | \u001b[36m__main__\u001b[0m:\u001b[36mrun_pipeline_self\u001b[0m:\u001b[36m79\u001b[0m - \u001b[1m%388 - Running pipeline for row_seed: 457 and size_of_unlabelled_data: 0.85 and model: RandomForestClassifier(max_depth=9)\u001b[0m\n",
      "\u001b[32m2023-10-22 12:48:33.116\u001b[0m | \u001b[1mINFO    \u001b[0m | \u001b[36m__main__\u001b[0m:\u001b[36mrun_pipeline_self\u001b[0m:\u001b[36m79\u001b[0m - \u001b[1m%389 - Running pipeline for row_seed: 2023 and size_of_unlabelled_data: 0.85 and model: RandomForestClassifier(max_depth=9)\u001b[0m\n",
      "\u001b[32m2023-10-22 12:48:33.932\u001b[0m | \u001b[1mINFO    \u001b[0m | \u001b[36m__main__\u001b[0m:\u001b[36mrun_pipeline_self\u001b[0m:\u001b[36m79\u001b[0m - \u001b[1m%390 - Running pipeline for row_seed: 3202 and size_of_unlabelled_data: 0.85 and model: RandomForestClassifier(max_depth=9)\u001b[0m\n",
      "\u001b[32m2023-10-22 12:48:35.099\u001b[0m | \u001b[1mINFO    \u001b[0m | \u001b[36m__main__\u001b[0m:\u001b[36mrun_pipeline_self\u001b[0m:\u001b[36m75\u001b[0m - \u001b[1mModel: RandomForestClassifier(max_depth=9)\u001b[0m\n",
      "\u001b[32m2023-10-22 12:48:35.100\u001b[0m | \u001b[1mINFO    \u001b[0m | \u001b[36m__main__\u001b[0m:\u001b[36mrun_pipeline_self\u001b[0m:\u001b[36m76\u001b[0m - \u001b[1mSize of unlabelled data: 0.9\u001b[0m\n",
      "\u001b[32m2023-10-22 12:48:35.101\u001b[0m | \u001b[1mINFO    \u001b[0m | \u001b[36m__main__\u001b[0m:\u001b[36mrun_pipeline_self\u001b[0m:\u001b[36m79\u001b[0m - \u001b[1m%391 - Running pipeline for row_seed: 24 and size_of_unlabelled_data: 0.9 and model: RandomForestClassifier(max_depth=9)\u001b[0m\n"
     ]
    },
    {
     "name": "stdout",
     "output_type": "stream",
     "text": [
      "\n",
      "\n"
     ]
    },
    {
     "name": "stderr",
     "output_type": "stream",
     "text": [
      "\u001b[32m2023-10-22 12:48:35.935\u001b[0m | \u001b[1mINFO    \u001b[0m | \u001b[36m__main__\u001b[0m:\u001b[36mrun_pipeline_self\u001b[0m:\u001b[36m79\u001b[0m - \u001b[1m%392 - Running pipeline for row_seed: 42 and size_of_unlabelled_data: 0.9 and model: RandomForestClassifier(max_depth=9)\u001b[0m\n",
      "\u001b[32m2023-10-22 12:48:36.906\u001b[0m | \u001b[1mINFO    \u001b[0m | \u001b[36m__main__\u001b[0m:\u001b[36mrun_pipeline_self\u001b[0m:\u001b[36m79\u001b[0m - \u001b[1m%393 - Running pipeline for row_seed: 206 and size_of_unlabelled_data: 0.9 and model: RandomForestClassifier(max_depth=9)\u001b[0m\n",
      "\u001b[32m2023-10-22 12:48:38.070\u001b[0m | \u001b[1mINFO    \u001b[0m | \u001b[36m__main__\u001b[0m:\u001b[36mrun_pipeline_self\u001b[0m:\u001b[36m79\u001b[0m - \u001b[1m%394 - Running pipeline for row_seed: 602 and size_of_unlabelled_data: 0.9 and model: RandomForestClassifier(max_depth=9)\u001b[0m\n",
      "\u001b[32m2023-10-22 12:48:39.245\u001b[0m | \u001b[1mINFO    \u001b[0m | \u001b[36m__main__\u001b[0m:\u001b[36mrun_pipeline_self\u001b[0m:\u001b[36m79\u001b[0m - \u001b[1m%395 - Running pipeline for row_seed: 412 and size_of_unlabelled_data: 0.9 and model: RandomForestClassifier(max_depth=9)\u001b[0m\n",
      "\u001b[32m2023-10-22 12:48:40.419\u001b[0m | \u001b[1mINFO    \u001b[0m | \u001b[36m__main__\u001b[0m:\u001b[36mrun_pipeline_self\u001b[0m:\u001b[36m79\u001b[0m - \u001b[1m%396 - Running pipeline for row_seed: 214 and size_of_unlabelled_data: 0.9 and model: RandomForestClassifier(max_depth=9)\u001b[0m\n",
      "\u001b[32m2023-10-22 12:48:41.058\u001b[0m | \u001b[1mINFO    \u001b[0m | \u001b[36m__main__\u001b[0m:\u001b[36mrun_pipeline_self\u001b[0m:\u001b[36m79\u001b[0m - \u001b[1m%397 - Running pipeline for row_seed: 754 and size_of_unlabelled_data: 0.9 and model: RandomForestClassifier(max_depth=9)\u001b[0m\n",
      "\u001b[32m2023-10-22 12:48:42.399\u001b[0m | \u001b[1mINFO    \u001b[0m | \u001b[36m__main__\u001b[0m:\u001b[36mrun_pipeline_self\u001b[0m:\u001b[36m79\u001b[0m - \u001b[1m%398 - Running pipeline for row_seed: 457 and size_of_unlabelled_data: 0.9 and model: RandomForestClassifier(max_depth=9)\u001b[0m\n",
      "\u001b[32m2023-10-22 12:48:43.742\u001b[0m | \u001b[1mINFO    \u001b[0m | \u001b[36m__main__\u001b[0m:\u001b[36mrun_pipeline_self\u001b[0m:\u001b[36m79\u001b[0m - \u001b[1m%399 - Running pipeline for row_seed: 2023 and size_of_unlabelled_data: 0.9 and model: RandomForestClassifier(max_depth=9)\u001b[0m\n",
      "\u001b[32m2023-10-22 12:48:44.377\u001b[0m | \u001b[1mINFO    \u001b[0m | \u001b[36m__main__\u001b[0m:\u001b[36mrun_pipeline_self\u001b[0m:\u001b[36m79\u001b[0m - \u001b[1m%400 - Running pipeline for row_seed: 3202 and size_of_unlabelled_data: 0.9 and model: RandomForestClassifier(max_depth=9)\u001b[0m\n"
     ]
    },
    {
     "name": "stdout",
     "output_type": "stream",
     "text": [
      "\n",
      "\n"
     ]
    }
   ],
   "source": [
    "results_df = run_pipeline_self(X_train, X_test, y_train, y_test)"
   ]
  },
  {
   "cell_type": "code",
   "execution_count": 6,
   "metadata": {},
   "outputs": [
    {
     "data": {
      "text/plain": [
       "Index(['model', 'unlabeled', 'acc_mean', 'acc_std', 'f1_mean', 'f1_std',\n",
       "       'precision_mean', 'precision_std', 'recall_mean', 'recall_std',\n",
       "       'roc_mean', 'roc_std'],\n",
       "      dtype='object')"
      ]
     },
     "execution_count": 6,
     "metadata": {},
     "output_type": "execute_result"
    }
   ],
   "source": [
    "# mean and standard deviation for all metrics\n",
    "results_df_with_mean_std = results_df.groupby(['model', 'unlabeled']).agg({'acc': ['mean', 'std'], 'f1': ['mean', 'std'], 'precision': ['mean', 'std'], 'recall': ['mean', 'std'], 'roc': ['mean', 'std']})\n",
    "results_df_with_mean_std = results_df_with_mean_std.reset_index(level=1)\n",
    "results_df_with_mean_std.columns = [\"_\".join(col) for col in results_df_with_mean_std.columns.values]\n",
    "results_df_with_mean_std.rename(columns={'unlabeled_': 'unlabeled'}, inplace=True)\n",
    "results_df_with_mean_std.reset_index(inplace=True)\n",
    "results_df_with_mean_std.columns"
   ]
  },
  {
   "cell_type": "code",
   "execution_count": 8,
   "metadata": {},
   "outputs": [
    {
     "name": "stdout",
     "output_type": "stream",
     "text": [
      "+------------------------+-------------+------------+-------------+-----------+-------------+------------------+-----------------+---------------+--------------+------------+-------------+\n",
      "| model                  |   unlabeled |   acc_mean |     acc_std |   f1_mean |      f1_std |   precision_mean |   precision_std |   recall_mean |   recall_std |   roc_mean |     roc_std |\n",
      "|------------------------+-------------+------------+-------------+-----------+-------------+------------------+-----------------+---------------+--------------+------------+-------------|\n",
      "| DecisionTreeClassifier |        0.1  |   1        | 0           |  1        | 0           |         1        |     0           |      1        |  0           |   1        | 0           |\n",
      "| DecisionTreeClassifier |        0.2  |   0.997785 | 0.00286005  |  0.997711 | 0.0029546   |         0.995449 |     0.00587558  |      1        |  0           |   0.997865 | 0.00275657  |\n",
      "| DecisionTreeClassifier |        0.3  |   0.998338 | 0.00267533  |  0.998284 | 0.00276377  |         0.996587 |     0.0054961   |      1        |  0           |   0.998399 | 0.00257854  |\n",
      "| DecisionTreeClassifier |        0.4  |   0.996369 | 0.00383156  |  0.996256 | 0.00394607  |         0.992567 |     0.00782357  |      1        |  0           |   0.996501 | 0.00369293  |\n",
      "| DecisionTreeClassifier |        0.5  |   0.996185 | 0.00374661  |  0.996063 | 0.00385823  |         0.992822 |     0.00803906  |      0.999361 |  0.00202192  |   0.9963   | 0.00360673  |\n",
      "| DecisionTreeClassifier |        0.6  |   0.996246 | 0.00404524  |  0.996131 | 0.00416306  |         0.992322 |     0.00824784  |      1        |  0           |   0.996382 | 0.00389888  |\n",
      "| DecisionTreeClassifier |        0.7  |   0.995938 | 0.00419586  |  0.99581  | 0.00431788  |         0.992828 |     0.00874145  |      0.998849 |  0.00212702  |   0.996044 | 0.0040475   |\n",
      "| DecisionTreeClassifier |        0.8  |   0.993046 | 0.00650001  |  0.992837 | 0.0066509   |         0.988284 |     0.0132172   |      0.99757  |  0.00768328  |   0.99321  | 0.00634173  |\n",
      "| DecisionTreeClassifier |        0.85 |   0.993292 | 0.00525745  |  0.993047 | 0.00546165  |         0.99094  |     0.00940929  |      0.995269 |  0.00920262  |   0.993364 | 0.00525967  |\n",
      "| DecisionTreeClassifier |        0.9  |   0.987569 | 0.00639395  |  0.987147 | 0.00655778  |         0.984044 |     0.0125797   |      0.990409 |  0.00882363  |   0.987672 | 0.00628398  |\n",
      "| GaussianNB             |        0.1  |   0.931569 | 0.00122391  |  0.927773 | 0.00131251  |         0.942724 |     0.00260559  |      0.913299 |  0.00287842  |   0.930908 | 0.00123316  |\n",
      "| GaussianNB             |        0.2  |   0.929908 | 0.0028193   |  0.925688 | 0.00320739  |         0.944875 |     0.00243147  |      0.907289 |  0.00627193  |   0.929089 | 0.0029258   |\n",
      "| GaussianNB             |        0.3  |   0.928369 | 0.00341031  |  0.923884 | 0.00381435  |         0.945277 |     0.00245123  |      0.903453 |  0.00612537  |   0.927468 | 0.00349731  |\n",
      "| GaussianNB             |        0.4  |   0.927015 | 0.00524743  |  0.922139 | 0.00618979  |         0.947058 |     0.00279518  |      0.898593 |  0.0125735   |   0.925987 | 0.00550121  |\n",
      "| GaussianNB             |        0.5  |   0.923877 | 0.00998639  |  0.918326 | 0.0118247   |         0.947896 |     0.00260286  |      0.890793 |  0.022019    |   0.92268  | 0.010416    |\n",
      "| GaussianNB             |        0.6  |   0.916554 | 0.0145748   |  0.909592 | 0.017569    |         0.947307 |     0.00339281  |      0.87532  |  0.0325759   |   0.915062 | 0.0152195   |\n",
      "| GaussianNB             |        0.7  |   0.913723 | 0.0171716   |  0.906388 | 0.0209743   |         0.944491 |     0.010749    |      0.872251 |  0.0403774   |   0.912223 | 0.0179507   |\n",
      "| GaussianNB             |        0.8  |   0.896677 | 0.0494758   |  0.892443 | 0.0408784   |         0.918989 |     0.0823811   |      0.874297 |  0.0498377   |   0.895867 | 0.0474316   |\n",
      "| GaussianNB             |        0.85 |   0.885231 | 0.053696    |  0.88315  | 0.0434433   |         0.896298 |     0.0972798   |      0.880563 |  0.0557867   |   0.885062 | 0.051151    |\n",
      "| GaussianNB             |        0.9  |   0.882523 | 0.0672154   |  0.883102 | 0.0511815   |         0.889002 |     0.108727    |      0.888875 |  0.0494953   |   0.882753 | 0.0640263   |\n",
      "| KNeighborsClassifier   |        0.1  |   1        | 0           |  1        | 0           |         1        |     0           |      1        |  0           |   1        | 0           |\n",
      "| KNeighborsClassifier   |        0.2  |   1        | 0           |  1        | 0           |         1        |     0           |      1        |  0           |   1        | 0           |\n",
      "| KNeighborsClassifier   |        0.3  |   1        | 0           |  1        | 0           |         1        |     0           |      1        |  0           |   1        | 0           |\n",
      "| KNeighborsClassifier   |        0.4  |   1        | 0           |  1        | 0           |         1        |     0           |      1        |  0           |   1        | 0           |\n",
      "| KNeighborsClassifier   |        0.5  |   0.999877 | 0.000259469 |  0.999872 | 0.000269589 |         0.999872 |     0.000403867 |      0.999872 |  0.000404383 |   0.999877 | 0.000260064 |\n",
      "| KNeighborsClassifier   |        0.6  |   0.999508 | 0.000698641 |  0.999488 | 0.000727061 |         0.999872 |     0.000403867 |      0.999105 |  0.00148274  |   0.999493 | 0.000725132 |\n",
      "| KNeighborsClassifier   |        0.7  |   0.998769 | 0.00129734  |  0.99872  | 0.0013495   |         0.99936  |     0.00108857  |      0.998082 |  0.00192996  |   0.998744 | 0.00131645  |\n",
      "| KNeighborsClassifier   |        0.8  |   0.9976   | 0.00160079  |  0.9975   | 0.00166936  |         0.999104 |     0.00121467  |      0.995908 |  0.00329075  |   0.997539 | 0.00165449  |\n",
      "| KNeighborsClassifier   |        0.85 |   0.996677 | 0.00232438  |  0.996539 | 0.00242477  |         0.997828 |     0.00248139  |      0.995269 |  0.0046323   |   0.996626 | 0.00238634  |\n",
      "| KNeighborsClassifier   |        0.9  |   0.992369 | 0.0036372   |  0.992046 | 0.00380474  |         0.994516 |     0.00545651  |      0.989642 |  0.00763584  |   0.992271 | 0.00371432  |\n",
      "| RandomForestClassifier |        0.1  |   1        | 0           |  1        | 0           |         1        |     0           |      1        |  0           |   1        | 0           |\n",
      "| RandomForestClassifier |        0.2  |   1        | 0           |  1        | 0           |         1        |     0           |      1        |  0           |   1        | 0           |\n",
      "| RandomForestClassifier |        0.3  |   1        | 0           |  1        | 0           |         1        |     0           |      1        |  0           |   1        | 0           |\n",
      "| RandomForestClassifier |        0.4  |   1        | 0           |  1        | 0           |         1        |     0           |      1        |  0           |   1        | 0           |\n",
      "| RandomForestClassifier |        0.5  |   1        | 0           |  1        | 0           |         1        |     0           |      1        |  0           |   1        | 0           |\n",
      "| RandomForestClassifier |        0.6  |   1        | 0           |  1        | 0           |         1        |     0           |      1        |  0           |   1        | 0           |\n",
      "| RandomForestClassifier |        0.7  |   0.999938 | 0.000194602 |  0.999936 | 0.000202321 |         1        |     0           |      0.999872 |  0.000404383 |   0.999936 | 0.000202192 |\n",
      "| RandomForestClassifier |        0.8  |   0.999877 | 0.000259469 |  0.999872 | 0.000269761 |         1        |     0           |      0.999744 |  0.000539178 |   0.999872 | 0.000269589 |\n",
      "| RandomForestClassifier |        0.85 |   0.999754 | 0.000317783 |  0.999744 | 0.000330389 |         1        |     0           |      0.999488 |  0.000660355 |   0.999744 | 0.000330178 |\n",
      "| RandomForestClassifier |        0.9  |   0.997231 | 0.00270971  |  0.997113 | 0.00282506  |         0.999234 |     0.0024232   |      0.995013 |  0.00483948  |   0.997151 | 0.00277088  |\n",
      "+------------------------+-------------+------------+-------------+-----------+-------------+------------------+-----------------+---------------+--------------+------------+-------------+\n"
     ]
    }
   ],
   "source": [
    "# Metrics with tabulate\n",
    "from tabulate import tabulate\n",
    "\n",
    "print(tabulate(results_df_with_mean_std, headers='keys', tablefmt='psql', showindex=False))"
   ]
  }
 ],
 "metadata": {
  "kernelspec": {
   "display_name": "venv",
   "language": "python",
   "name": "python3"
  },
  "language_info": {
   "codemirror_mode": {
    "name": "ipython",
    "version": 3
   },
   "file_extension": ".py",
   "mimetype": "text/x-python",
   "name": "python",
   "nbconvert_exporter": "python",
   "pygments_lexer": "ipython3",
   "version": "3.11.0"
  },
  "orig_nbformat": 4,
  "vscode": {
   "interpreter": {
    "hash": "2b2faf7d6260e3d980efcbe3dcb6631168cb6707024a8ce61b847fb529addd2a"
   }
  }
 },
 "nbformat": 4,
 "nbformat_minor": 2
}
